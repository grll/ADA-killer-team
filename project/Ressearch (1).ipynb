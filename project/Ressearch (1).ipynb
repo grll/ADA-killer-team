{
 "cells": [
  {
   "cell_type": "markdown",
   "metadata": {
    "toc": true
   },
   "source": [
    "<h1>Table of Contents<span class=\"tocSkip\"></span></h1>\n",
    "<div class=\"toc\" style=\"margin-top: 1em;\"><ul class=\"toc-item\"><li><span><a href=\"#Exploratory\" data-toc-modified-id=\"Exploratory-1\"><span class=\"toc-item-num\">1&nbsp;&nbsp;</span>Exploratory</a></span><ul class=\"toc-item\"><li><span><a href=\"#Content-of-the-files\" data-toc-modified-id=\"Content-of-the-files-1.1\"><span class=\"toc-item-num\">1.1&nbsp;&nbsp;</span>Content of the files</a></span></li><li><span><a href=\"#Books\" data-toc-modified-id=\"Books-1.2\"><span class=\"toc-item-num\">1.2&nbsp;&nbsp;</span>Books</a></span><ul class=\"toc-item\"><li><span><a href=\"#Metadata\" data-toc-modified-id=\"Metadata-1.2.1\"><span class=\"toc-item-num\">1.2.1&nbsp;&nbsp;</span>Metadata</a></span></li><li><span><a href=\"#Reviews\" data-toc-modified-id=\"Reviews-1.2.2\"><span class=\"toc-item-num\">1.2.2&nbsp;&nbsp;</span>Reviews</a></span></li><li><span><a href=\"#5-Core\" data-toc-modified-id=\"5-Core-1.2.3\"><span class=\"toc-item-num\">1.2.3&nbsp;&nbsp;</span>5-Core</a></span></li></ul></li><li><span><a href=\"#Movies-and-TV\" data-toc-modified-id=\"Movies-and-TV-1.3\"><span class=\"toc-item-num\">1.3&nbsp;&nbsp;</span>Movies and TV</a></span><ul class=\"toc-item\"><li><span><a href=\"#Metadata\" data-toc-modified-id=\"Metadata-1.3.1\"><span class=\"toc-item-num\">1.3.1&nbsp;&nbsp;</span>Metadata</a></span></li><li><span><a href=\"#Reviews\" data-toc-modified-id=\"Reviews-1.3.2\"><span class=\"toc-item-num\">1.3.2&nbsp;&nbsp;</span>Reviews</a></span></li></ul></li><li><span><a href=\"#Electronics\" data-toc-modified-id=\"Electronics-1.4\"><span class=\"toc-item-num\">1.4&nbsp;&nbsp;</span>Electronics</a></span><ul class=\"toc-item\"><li><span><a href=\"#Metadata\" data-toc-modified-id=\"Metadata-1.4.1\"><span class=\"toc-item-num\">1.4.1&nbsp;&nbsp;</span>Metadata</a></span></li><li><span><a href=\"#Review\" data-toc-modified-id=\"Review-1.4.2\"><span class=\"toc-item-num\">1.4.2&nbsp;&nbsp;</span>Review</a></span></li></ul></li></ul></li><li><span><a href=\"#Detecting-similar-products\" data-toc-modified-id=\"Detecting-similar-products-2\"><span class=\"toc-item-num\">2&nbsp;&nbsp;</span>Detecting similar products</a></span><ul class=\"toc-item\"><li><span><a href=\"#Books\" data-toc-modified-id=\"Books-2.1\"><span class=\"toc-item-num\">2.1&nbsp;&nbsp;</span>Books</a></span><ul class=\"toc-item\"><li><span><a href=\"#Defining-the-dataset-to-work-with\" data-toc-modified-id=\"Defining-the-dataset-to-work-with-2.1.1\"><span class=\"toc-item-num\">2.1.1&nbsp;&nbsp;</span>Defining the dataset to work with</a></span></li><li><span><a href=\"#Locality-sensitive-hashing\" data-toc-modified-id=\"Locality-sensitive-hashing-2.1.2\"><span class=\"toc-item-num\">2.1.2&nbsp;&nbsp;</span>Locality sensitive hashing</a></span><ul class=\"toc-item\"><li><span><a href=\"#The-minhash\" data-toc-modified-id=\"The-minhash-2.1.2.1\"><span class=\"toc-item-num\">2.1.2.1&nbsp;&nbsp;</span>The <code>minhash</code></a></span></li><li><span><a href=\"#The-principle-of-LSH\" data-toc-modified-id=\"The-principle-of-LSH-2.1.2.2\"><span class=\"toc-item-num\">2.1.2.2&nbsp;&nbsp;</span>The principle of LSH</a></span></li><li><span><a href=\"#Finding-candidate-duplicates\" data-toc-modified-id=\"Finding-candidate-duplicates-2.1.2.3\"><span class=\"toc-item-num\">2.1.2.3&nbsp;&nbsp;</span>Finding candidate duplicates</a></span></li></ul></li><li><span><a href=\"#Refining-our-candidates\" data-toc-modified-id=\"Refining-our-candidates-2.1.3\"><span class=\"toc-item-num\">2.1.3&nbsp;&nbsp;</span>Refining our candidates</a></span><ul class=\"toc-item\"><li><span><a href=\"#Using-Amazon-API-to-obtain-more-data-about-our-products\" data-toc-modified-id=\"Using-Amazon-API-to-obtain-more-data-about-our-products-2.1.3.1\"><span class=\"toc-item-num\">2.1.3.1&nbsp;&nbsp;</span>Using Amazon API to obtain more data about our products</a></span></li><li><span><a href=\"#Refining-the-candidate-similars-based-on-authors\" data-toc-modified-id=\"Refining-the-candidate-similars-based-on-authors-2.1.3.2\"><span class=\"toc-item-num\">2.1.3.2&nbsp;&nbsp;</span>Refining the candidate similars based on authors</a></span></li><li><span><a href=\"#Refining-the-candidate-similars-further-using-the-titles\" data-toc-modified-id=\"Refining-the-candidate-similars-further-using-the-titles-2.1.3.3\"><span class=\"toc-item-num\">2.1.3.3&nbsp;&nbsp;</span>Refining the candidate similars further using the titles</a></span></li></ul></li></ul></li></ul></li><li><span><a href=\"#Correlation-exploratory\" data-toc-modified-id=\"Correlation-exploratory-3\"><span class=\"toc-item-num\">3&nbsp;&nbsp;</span>Correlation exploratory</a></span><ul class=\"toc-item\"><li><span><a href=\"#Reviews-analysis\" data-toc-modified-id=\"Reviews-analysis-3.1\"><span class=\"toc-item-num\">3.1&nbsp;&nbsp;</span>Reviews analysis</a></span><ul class=\"toc-item\"><li><span><a href=\"#Reviews-distribution\" data-toc-modified-id=\"Reviews-distribution-3.1.1\"><span class=\"toc-item-num\">3.1.1&nbsp;&nbsp;</span>Reviews distribution</a></span></li><li><span><a href=\"#Evolution-of-reviews-over-time\" data-toc-modified-id=\"Evolution-of-reviews-over-time-3.1.2\"><span class=\"toc-item-num\">3.1.2&nbsp;&nbsp;</span>Evolution of reviews over time</a></span></li></ul></li><li><span><a href=\"#SalesRank-and-Review-correlation-analysis\" data-toc-modified-id=\"SalesRank-and-Review-correlation-analysis-3.2\"><span class=\"toc-item-num\">3.2&nbsp;&nbsp;</span>SalesRank and Review correlation analysis</a></span><ul class=\"toc-item\"><li><span><a href=\"#Comparison-of-books-together\" data-toc-modified-id=\"Comparison-of-books-together-3.2.1\"><span class=\"toc-item-num\">3.2.1&nbsp;&nbsp;</span>Comparison of books together</a></span></li></ul></li><li><span><a href=\"#Price-and-Review-correlation-analysis\" data-toc-modified-id=\"Price-and-Review-correlation-analysis-3.3\"><span class=\"toc-item-num\">3.3&nbsp;&nbsp;</span>Price and Review correlation analysis</a></span><ul class=\"toc-item\"><li><span><a href=\"#Comparison-of-books-together\" data-toc-modified-id=\"Comparison-of-books-together-3.3.1\"><span class=\"toc-item-num\">3.3.1&nbsp;&nbsp;</span>Comparison of books together</a></span></li><li><span><a href=\"#Comparison-inside-book-similarities\" data-toc-modified-id=\"Comparison-inside-book-similarities-3.3.2\"><span class=\"toc-item-num\">3.3.2&nbsp;&nbsp;</span>Comparison inside book similarities</a></span></li></ul></li></ul></li><li><span><a href=\"#Herding-Effect-Analysis\" data-toc-modified-id=\"Herding-Effect-Analysis-4\"><span class=\"toc-item-num\">4&nbsp;&nbsp;</span>Herding Effect Analysis</a></span><ul class=\"toc-item\"><li><span><a href=\"#Pre-analysis\" data-toc-modified-id=\"Pre-analysis-4.1\"><span class=\"toc-item-num\">4.1&nbsp;&nbsp;</span>Pre-analysis</a></span><ul class=\"toc-item\"><li><ul class=\"toc-item\"><li><span><a href=\"#H/L-Categorization\" data-toc-modified-id=\"H/L-Categorization-4.1.0.1\"><span class=\"toc-item-num\">4.1.0.1&nbsp;&nbsp;</span>H/L Categorization</a></span></li><li><span><a href=\"#H/M/L-Categorization\" data-toc-modified-id=\"H/M/L-Categorization-4.1.0.2\"><span class=\"toc-item-num\">4.1.0.2&nbsp;&nbsp;</span>H/M/L Categorization</a></span></li></ul></li><li><span><a href=\"#Herding-Effect-Analysis\" data-toc-modified-id=\"Herding-Effect-Analysis-4.1.1\"><span class=\"toc-item-num\">4.1.1&nbsp;&nbsp;</span>Herding Effect Analysis</a></span><ul class=\"toc-item\"><li><span><a href=\"#Introduction\" data-toc-modified-id=\"Introduction-4.1.1.1\"><span class=\"toc-item-num\">4.1.1.1&nbsp;&nbsp;</span>Introduction</a></span></li><li><span><a href=\"#A-first-example\" data-toc-modified-id=\"A-first-example-4.1.1.2\"><span class=\"toc-item-num\">4.1.1.2&nbsp;&nbsp;</span>A first example</a></span></li><li><span><a href=\"#Generalization\" data-toc-modified-id=\"Generalization-4.1.1.3\"><span class=\"toc-item-num\">4.1.1.3&nbsp;&nbsp;</span>Generalization</a></span></li><li><span><a href=\"#Long-term-effect-of-herding\" data-toc-modified-id=\"Long-term-effect-of-herding-4.1.1.4\"><span class=\"toc-item-num\">4.1.1.4&nbsp;&nbsp;</span>Long term effect of herding</a></span></li><li><span><a href=\"#Limitation-of-this-analysis\" data-toc-modified-id=\"Limitation-of-this-analysis-4.1.1.5\"><span class=\"toc-item-num\">4.1.1.5&nbsp;&nbsp;</span>Limitation of this analysis</a></span></li></ul></li></ul></li></ul></li><li><span><a href=\"#Plan-for-continuation\" data-toc-modified-id=\"Plan-for-continuation-5\"><span class=\"toc-item-num\">5&nbsp;&nbsp;</span>Plan for continuation</a></span></li></ul></div>"
   ]
  },
  {
   "cell_type": "markdown",
   "metadata": {},
   "source": [
    "We first import all the necessary packages, as well as the scripts that we decided to modularize into different files in order to improve readability. You can access the ```README``` in order to get a comprehensive description of the different files."
   ]
  },
  {
   "cell_type": "code",
   "execution_count": 1,
   "metadata": {
    "collapsed": true
   },
   "outputs": [],
   "source": [
    "%matplotlib inline\n",
    "# To reload external scripts automatically\n",
    "%load_ext autoreload\n",
    "%autoreload 2\n",
    "\n",
    "import pandas as pd\n",
    "import numpy as np\n",
    "import sys\n",
    "import pickle\n",
    "import seaborn as sns\n",
    "import matplotlib.pyplot as plt\n",
    "import os\n",
    "\n",
    "# Importing external files\n",
    "from scripts.similarities import *\n",
    "from scripts.amazon_api_interaction import *\n",
    "from scripts.analysis import *\n",
    "from scripts.data_import import *\n",
    "from scripts.utils_project import *\n",
    "\n",
    "\n",
    "pd.options.mode.chained_assignment = None  # default='warn', Mutes warnings when copying a slice from a DataFrame."
   ]
  },
  {
   "cell_type": "code",
   "execution_count": 2,
   "metadata": {
    "collapsed": true
   },
   "outputs": [],
   "source": [
    "DATA_FOLDER = \"../../Project-Data-corrected/\"\n",
    "META_FOLDER = DATA_FOLDER + \"meta/\"\n",
    "REVIEWS_FOLDER = DATA_FOLDER + \"reviews/\"\n",
    "CORE_FOLDER = DATA_FOLDER + \"5_core/\"\n",
    "DUMP_FOLDER = DATA_FOLDER + \"dump/\"\n",
    "CATEGORIES = ['Books','Movies_and_Tv','Electronics']\n",
    "MAXCOUNT = -1\n",
    "ANALYSIS_DATA_FOLDER = 'analysis_data/'"
   ]
  },
  {
   "cell_type": "markdown",
   "metadata": {
    "heading_collapsed": true
   },
   "source": [
    "# Exploratory\n",
    "This notebook contains the first study of the data to identify what is needed and what we do not need. It will only work with subsets of datasets as they will not fit into memory. That is we will focus on 3 categories of data."
   ]
  },
  {
   "cell_type": "markdown",
   "metadata": {
    "hidden": true
   },
   "source": [
    "## Content of the files"
   ]
  },
  {
   "cell_type": "markdown",
   "metadata": {
    "hidden": true
   },
   "source": [
    "The different columns of the **metadata** files are : \n",
    "* ```asin``` : the unique identifier of the object\n",
    "* ```brand```\n",
    "* ```categories``` : the categories of the object\n",
    "* ```description``` : the description of the object\n",
    "* ```imUrl```  : the link toward the images related to the object\n",
    "* ```price```\n",
    "* ```related``` : a list of objects that are related to this object\n",
    "* ```salesRank``` \n",
    "* ```title```\n",
    "\n",
    "The different columns of the **reviews** and **5-core** files are :\n",
    "* ```asin``` : the unique identifier of the object\n",
    "* ```helpful``` : a list of 2 integers [x,y], the helpfulness score is x/y votes\n",
    "* ```overall``` : the rating of the object\n",
    "* ```reviewText```\n",
    "* ```reviewTime```\n",
    "* ```reviewerID```\n",
    "* ```reviewerName```\n",
    "* ```summary ``` : the title of the review\n",
    "* ```unixReviewTime``` : in Unix format\n",
    "\n",
    "Therefore we keep only the column that are of interest for our task"
   ]
  },
  {
   "cell_type": "code",
   "execution_count": 3,
   "metadata": {
    "collapsed": true,
    "hidden": true
   },
   "outputs": [],
   "source": [
    "meta_interesting_cols = ['asin', 'title', 'salesRank', 'description','imUrl']\n",
    "review_interesting_cols = ['asin', 'overall', 'unixReviewTime']"
   ]
  },
  {
   "cell_type": "markdown",
   "metadata": {
    "hidden": true
   },
   "source": [
    "## Books\n",
    "In the following section we show how to import the data of interest from the JSON to make further analysis easier"
   ]
  },
  {
   "cell_type": "code",
   "execution_count": 4,
   "metadata": {
    "hidden": true
   },
   "outputs": [
    {
     "name": "stdout",
     "output_type": "stream",
     "text": [
      "Paths : \n",
      "\t meta = ../../Project-Data-corrected/meta/meta_Books.json\n",
      "\t review = ../../Project-Data-corrected/reviews/reviews_Books.json\n",
      "\t core_path = ../../Project-Data-corrected/5_core/Books.json\n"
     ]
    }
   ],
   "source": [
    "meta_books_path, review_books_path, core_book_path = get_paths(0, DATA_FOLDER, META_FOLDER,CORE_FOLDER,\n",
    "                                               REVIEWS_FOLDER, CATEGORIES)"
   ]
  },
  {
   "cell_type": "markdown",
   "metadata": {
    "hidden": true
   },
   "source": [
    "### Metadata"
   ]
  },
  {
   "cell_type": "code",
   "execution_count": 5,
   "metadata": {
    "hidden": true,
    "scrolled": true
   },
   "outputs": [
    {
     "name": "stdout",
     "output_type": "stream",
     "text": [
      "Retrieving from : ../../Project-Data-corrected/dump/meta_Books_asin_title_salesRank_description_imUrl_ALL\n",
      "It took 00:00:06.553 to import the data.\n"
     ]
    },
    {
     "data": {
      "text/html": [
       "<div>\n",
       "<style>\n",
       "    .dataframe thead tr:only-child th {\n",
       "        text-align: right;\n",
       "    }\n",
       "\n",
       "    .dataframe thead th {\n",
       "        text-align: left;\n",
       "    }\n",
       "\n",
       "    .dataframe tbody tr th {\n",
       "        vertical-align: top;\n",
       "    }\n",
       "</style>\n",
       "<table border=\"1\" class=\"dataframe\">\n",
       "  <thead>\n",
       "    <tr style=\"text-align: right;\">\n",
       "      <th></th>\n",
       "      <th>asin</th>\n",
       "      <th>description</th>\n",
       "      <th>imUrl</th>\n",
       "      <th>salesRank_Arts,_Crafts_&amp;_Sewing</th>\n",
       "      <th>salesRank_Books</th>\n",
       "      <th>salesRank_Cell_Phones_&amp;_Accessories</th>\n",
       "      <th>salesRank_Clothing</th>\n",
       "      <th>salesRank_Electronics</th>\n",
       "      <th>salesRank_Health_&amp;_Personal_Care</th>\n",
       "      <th>salesRank_Home_&amp;_Kitchen</th>\n",
       "      <th>...</th>\n",
       "      <th>salesRank_Jewelry</th>\n",
       "      <th>salesRank_Kitchen_&amp;_Dining</th>\n",
       "      <th>salesRank_Movies_&amp;_TV</th>\n",
       "      <th>salesRank_Music</th>\n",
       "      <th>salesRank_Musical_Instruments</th>\n",
       "      <th>salesRank_Office_Products</th>\n",
       "      <th>salesRank_Shoes</th>\n",
       "      <th>salesRank_Sports_&amp;_Outdoors</th>\n",
       "      <th>salesRank_Toys_&amp;_Games</th>\n",
       "      <th>title</th>\n",
       "    </tr>\n",
       "  </thead>\n",
       "  <tbody>\n",
       "    <tr>\n",
       "      <th>0</th>\n",
       "      <td>0001048791</td>\n",
       "      <td>NaN</td>\n",
       "      <td>http://ecx.images-amazon.com/images/I/51MKP0T4...</td>\n",
       "      <td>NaN</td>\n",
       "      <td>6334800.0</td>\n",
       "      <td>NaN</td>\n",
       "      <td>NaN</td>\n",
       "      <td>NaN</td>\n",
       "      <td>NaN</td>\n",
       "      <td>NaN</td>\n",
       "      <td>...</td>\n",
       "      <td>NaN</td>\n",
       "      <td>NaN</td>\n",
       "      <td>NaN</td>\n",
       "      <td>NaN</td>\n",
       "      <td>NaN</td>\n",
       "      <td>NaN</td>\n",
       "      <td>NaN</td>\n",
       "      <td>NaN</td>\n",
       "      <td>NaN</td>\n",
       "      <td>The Crucible: Performed by Stuart Pankin, Jero...</td>\n",
       "    </tr>\n",
       "  </tbody>\n",
       "</table>\n",
       "<p>1 rows × 21 columns</p>\n",
       "</div>"
      ],
      "text/plain": [
       "         asin description                                              imUrl  \\\n",
       "0  0001048791         NaN  http://ecx.images-amazon.com/images/I/51MKP0T4...   \n",
       "\n",
       "   salesRank_Arts,_Crafts_&_Sewing  salesRank_Books  \\\n",
       "0                              NaN        6334800.0   \n",
       "\n",
       "   salesRank_Cell_Phones_&_Accessories  salesRank_Clothing  \\\n",
       "0                                  NaN                 NaN   \n",
       "\n",
       "   salesRank_Electronics  salesRank_Health_&_Personal_Care  \\\n",
       "0                    NaN                               NaN   \n",
       "\n",
       "   salesRank_Home_&_Kitchen  \\\n",
       "0                       NaN   \n",
       "\n",
       "                         ...                          salesRank_Jewelry  \\\n",
       "0                        ...                                        NaN   \n",
       "\n",
       "   salesRank_Kitchen_&_Dining  salesRank_Movies_&_TV  salesRank_Music  \\\n",
       "0                         NaN                    NaN              NaN   \n",
       "\n",
       "   salesRank_Musical_Instruments  salesRank_Office_Products  salesRank_Shoes  \\\n",
       "0                            NaN                        NaN              NaN   \n",
       "\n",
       "   salesRank_Sports_&_Outdoors  salesRank_Toys_&_Games  \\\n",
       "0                          NaN                     NaN   \n",
       "\n",
       "                                               title  \n",
       "0  The Crucible: Performed by Stuart Pankin, Jero...  \n",
       "\n",
       "[1 rows x 21 columns]"
      ]
     },
     "execution_count": 5,
     "metadata": {},
     "output_type": "execute_result"
    }
   ],
   "source": [
    "meta_books = import_interesting_cols(meta_books_path,DUMP_FOLDER,True,meta_interesting_cols,max_count=MAXCOUNT)\n",
    "meta_books.head(1)"
   ]
  },
  {
   "cell_type": "markdown",
   "metadata": {
    "hidden": true
   },
   "source": [
    "### Reviews"
   ]
  },
  {
   "cell_type": "code",
   "execution_count": 6,
   "metadata": {
    "hidden": true
   },
   "outputs": [
    {
     "name": "stdout",
     "output_type": "stream",
     "text": [
      "Retrieving from : ../../Project-Data-corrected/dump/reviews_Books_asin_overall_unixReviewTime_ALL\n",
      "It took 00:00:02.693 to import the data.\n"
     ]
    },
    {
     "data": {
      "text/html": [
       "<div>\n",
       "<style>\n",
       "    .dataframe thead tr:only-child th {\n",
       "        text-align: right;\n",
       "    }\n",
       "\n",
       "    .dataframe thead th {\n",
       "        text-align: left;\n",
       "    }\n",
       "\n",
       "    .dataframe tbody tr th {\n",
       "        vertical-align: top;\n",
       "    }\n",
       "</style>\n",
       "<table border=\"1\" class=\"dataframe\">\n",
       "  <thead>\n",
       "    <tr style=\"text-align: right;\">\n",
       "      <th></th>\n",
       "      <th>asin</th>\n",
       "      <th>overall</th>\n",
       "      <th>unixReviewTime</th>\n",
       "    </tr>\n",
       "  </thead>\n",
       "  <tbody>\n",
       "    <tr>\n",
       "      <th>0</th>\n",
       "      <td>0000000116</td>\n",
       "      <td>4.0</td>\n",
       "      <td>2002-04-27</td>\n",
       "    </tr>\n",
       "    <tr>\n",
       "      <th>1</th>\n",
       "      <td>0000000116</td>\n",
       "      <td>1.0</td>\n",
       "      <td>2014-03-24</td>\n",
       "    </tr>\n",
       "    <tr>\n",
       "      <th>2</th>\n",
       "      <td>0000000868</td>\n",
       "      <td>4.0</td>\n",
       "      <td>2002-09-11</td>\n",
       "    </tr>\n",
       "    <tr>\n",
       "      <th>3</th>\n",
       "      <td>0000013714</td>\n",
       "      <td>4.0</td>\n",
       "      <td>2013-10-31</td>\n",
       "    </tr>\n",
       "    <tr>\n",
       "      <th>4</th>\n",
       "      <td>0000013714</td>\n",
       "      <td>5.0</td>\n",
       "      <td>2013-07-27</td>\n",
       "    </tr>\n",
       "  </tbody>\n",
       "</table>\n",
       "</div>"
      ],
      "text/plain": [
       "         asin  overall unixReviewTime\n",
       "0  0000000116      4.0     2002-04-27\n",
       "1  0000000116      1.0     2014-03-24\n",
       "2  0000000868      4.0     2002-09-11\n",
       "3  0000013714      4.0     2013-10-31\n",
       "4  0000013714      5.0     2013-07-27"
      ]
     },
     "execution_count": 6,
     "metadata": {},
     "output_type": "execute_result"
    }
   ],
   "source": [
    "review_books = import_interesting_cols(\n",
    "    review_books_path, DUMP_FOLDER,False, review_interesting_cols, max_count=MAXCOUNT)\n",
    "review_books.head()"
   ]
  },
  {
   "cell_type": "markdown",
   "metadata": {
    "hidden": true
   },
   "source": [
    "### 5-Core"
   ]
  },
  {
   "cell_type": "code",
   "execution_count": 7,
   "metadata": {
    "hidden": true
   },
   "outputs": [
    {
     "name": "stdout",
     "output_type": "stream",
     "text": [
      "Retrieving from : ../../Project-Data-corrected/dump/Books_asin_overall_unixReviewTime_ALL\n",
      "It took 00:00:00.919 to import the data.\n"
     ]
    },
    {
     "data": {
      "text/html": [
       "<div>\n",
       "<style>\n",
       "    .dataframe thead tr:only-child th {\n",
       "        text-align: right;\n",
       "    }\n",
       "\n",
       "    .dataframe thead th {\n",
       "        text-align: left;\n",
       "    }\n",
       "\n",
       "    .dataframe tbody tr th {\n",
       "        vertical-align: top;\n",
       "    }\n",
       "</style>\n",
       "<table border=\"1\" class=\"dataframe\">\n",
       "  <thead>\n",
       "    <tr style=\"text-align: right;\">\n",
       "      <th></th>\n",
       "      <th>asin</th>\n",
       "      <th>overall</th>\n",
       "      <th>unixReviewTime</th>\n",
       "    </tr>\n",
       "  </thead>\n",
       "  <tbody>\n",
       "    <tr>\n",
       "      <th>0</th>\n",
       "      <td>000100039X</td>\n",
       "      <td>5.0</td>\n",
       "      <td>2012-12-16</td>\n",
       "    </tr>\n",
       "    <tr>\n",
       "      <th>1</th>\n",
       "      <td>000100039X</td>\n",
       "      <td>5.0</td>\n",
       "      <td>2003-12-11</td>\n",
       "    </tr>\n",
       "    <tr>\n",
       "      <th>2</th>\n",
       "      <td>000100039X</td>\n",
       "      <td>5.0</td>\n",
       "      <td>2014-01-18</td>\n",
       "    </tr>\n",
       "    <tr>\n",
       "      <th>3</th>\n",
       "      <td>000100039X</td>\n",
       "      <td>5.0</td>\n",
       "      <td>2011-09-27</td>\n",
       "    </tr>\n",
       "    <tr>\n",
       "      <th>4</th>\n",
       "      <td>000100039X</td>\n",
       "      <td>5.0</td>\n",
       "      <td>2002-10-07</td>\n",
       "    </tr>\n",
       "  </tbody>\n",
       "</table>\n",
       "</div>"
      ],
      "text/plain": [
       "         asin  overall unixReviewTime\n",
       "0  000100039X      5.0     2012-12-16\n",
       "1  000100039X      5.0     2003-12-11\n",
       "2  000100039X      5.0     2014-01-18\n",
       "3  000100039X      5.0     2011-09-27\n",
       "4  000100039X      5.0     2002-10-07"
      ]
     },
     "execution_count": 7,
     "metadata": {},
     "output_type": "execute_result"
    }
   ],
   "source": [
    "core_books = import_interesting_cols(\n",
    "    core_book_path,\n",
    "    DUMP_FOLDER,\n",
    "    False,\n",
    "    review_interesting_cols,\n",
    "    max_count=MAXCOUNT)\n",
    "core_books.head()"
   ]
  },
  {
   "cell_type": "markdown",
   "metadata": {
    "hidden": true
   },
   "source": [
    "## Movies and TV"
   ]
  },
  {
   "cell_type": "code",
   "execution_count": 8,
   "metadata": {
    "hidden": true
   },
   "outputs": [
    {
     "name": "stdout",
     "output_type": "stream",
     "text": [
      "Paths : \n",
      "\t meta = ../../Project-Data-corrected/meta/meta_Movies_and_Tv.json\n",
      "\t review = ../../Project-Data-corrected/reviews/reviews_Movies_and_Tv.json\n",
      "\t core_path = ../../Project-Data-corrected/5_core/Movies_and_Tv.json\n"
     ]
    }
   ],
   "source": [
    "meta_movie_path, review_movie_path, core_movie_path = get_paths(\n",
    "    1, DATA_FOLDER, META_FOLDER, CORE_FOLDER, REVIEWS_FOLDER, CATEGORIES)"
   ]
  },
  {
   "cell_type": "markdown",
   "metadata": {
    "hidden": true
   },
   "source": [
    "### Metadata"
   ]
  },
  {
   "cell_type": "code",
   "execution_count": 9,
   "metadata": {
    "hidden": true
   },
   "outputs": [
    {
     "name": "stdout",
     "output_type": "stream",
     "text": [
      "Retrieving from : ../../Project-Data-corrected/dump/meta_Movies_and_Tv_asin_title_salesRank_description_imUrl_ALL\n",
      "It took 00:00:00.744 to import the data.\n"
     ]
    },
    {
     "data": {
      "text/html": [
       "<div>\n",
       "<style>\n",
       "    .dataframe thead tr:only-child th {\n",
       "        text-align: right;\n",
       "    }\n",
       "\n",
       "    .dataframe thead th {\n",
       "        text-align: left;\n",
       "    }\n",
       "\n",
       "    .dataframe tbody tr th {\n",
       "        vertical-align: top;\n",
       "    }\n",
       "</style>\n",
       "<table border=\"1\" class=\"dataframe\">\n",
       "  <thead>\n",
       "    <tr style=\"text-align: right;\">\n",
       "      <th></th>\n",
       "      <th>asin</th>\n",
       "      <th>description</th>\n",
       "      <th>imUrl</th>\n",
       "      <th>salesRank_Arts,_Crafts_&amp;_Sewing</th>\n",
       "      <th>salesRank_Books</th>\n",
       "      <th>salesRank_Electronics</th>\n",
       "      <th>salesRank_Health_&amp;_Personal_Care</th>\n",
       "      <th>salesRank_Home_&amp;_Kitchen</th>\n",
       "      <th>salesRank_Industrial_&amp;_Scientific</th>\n",
       "      <th>salesRank_Movies_&amp;_TV</th>\n",
       "      <th>salesRank_Music</th>\n",
       "      <th>salesRank_Pet_Supplies</th>\n",
       "      <th>salesRank_Software</th>\n",
       "      <th>salesRank_Sports_&amp;_Outdoors</th>\n",
       "      <th>salesRank_Toys_&amp;_Games</th>\n",
       "      <th>salesRank_Video_Games</th>\n",
       "      <th>title</th>\n",
       "    </tr>\n",
       "  </thead>\n",
       "  <tbody>\n",
       "    <tr>\n",
       "      <th>0</th>\n",
       "      <td>0000143561</td>\n",
       "      <td>3Pack DVD set - Italian Classics, Parties and ...</td>\n",
       "      <td>http://g-ecx.images-amazon.com/images/G/01/x-s...</td>\n",
       "      <td>NaN</td>\n",
       "      <td>NaN</td>\n",
       "      <td>NaN</td>\n",
       "      <td>NaN</td>\n",
       "      <td>NaN</td>\n",
       "      <td>NaN</td>\n",
       "      <td>376041.0</td>\n",
       "      <td>NaN</td>\n",
       "      <td>NaN</td>\n",
       "      <td>NaN</td>\n",
       "      <td>NaN</td>\n",
       "      <td>NaN</td>\n",
       "      <td>NaN</td>\n",
       "      <td>Everyday Italian (with Giada de Laurentiis), V...</td>\n",
       "    </tr>\n",
       "    <tr>\n",
       "      <th>1</th>\n",
       "      <td>0000589012</td>\n",
       "      <td>NaN</td>\n",
       "      <td>http://ecx.images-amazon.com/images/I/519%2B1k...</td>\n",
       "      <td>NaN</td>\n",
       "      <td>NaN</td>\n",
       "      <td>NaN</td>\n",
       "      <td>NaN</td>\n",
       "      <td>NaN</td>\n",
       "      <td>NaN</td>\n",
       "      <td>1084845.0</td>\n",
       "      <td>NaN</td>\n",
       "      <td>NaN</td>\n",
       "      <td>NaN</td>\n",
       "      <td>NaN</td>\n",
       "      <td>NaN</td>\n",
       "      <td>NaN</td>\n",
       "      <td>Why Don't They Just Quit? DVD Roundtable Discu...</td>\n",
       "    </tr>\n",
       "    <tr>\n",
       "      <th>2</th>\n",
       "      <td>0000695009</td>\n",
       "      <td>NaN</td>\n",
       "      <td>http://g-ecx.images-amazon.com/images/G/01/x-s...</td>\n",
       "      <td>NaN</td>\n",
       "      <td>NaN</td>\n",
       "      <td>NaN</td>\n",
       "      <td>NaN</td>\n",
       "      <td>NaN</td>\n",
       "      <td>NaN</td>\n",
       "      <td>1022732.0</td>\n",
       "      <td>NaN</td>\n",
       "      <td>NaN</td>\n",
       "      <td>NaN</td>\n",
       "      <td>NaN</td>\n",
       "      <td>NaN</td>\n",
       "      <td>NaN</td>\n",
       "      <td>Understanding Seizures and Epilepsy DVD</td>\n",
       "    </tr>\n",
       "    <tr>\n",
       "      <th>3</th>\n",
       "      <td>000107461X</td>\n",
       "      <td>NaN</td>\n",
       "      <td>http://ecx.images-amazon.com/images/I/41WY47gL...</td>\n",
       "      <td>NaN</td>\n",
       "      <td>NaN</td>\n",
       "      <td>NaN</td>\n",
       "      <td>NaN</td>\n",
       "      <td>NaN</td>\n",
       "      <td>NaN</td>\n",
       "      <td>954116.0</td>\n",
       "      <td>NaN</td>\n",
       "      <td>NaN</td>\n",
       "      <td>NaN</td>\n",
       "      <td>NaN</td>\n",
       "      <td>NaN</td>\n",
       "      <td>NaN</td>\n",
       "      <td>Live in Houston [VHS]</td>\n",
       "    </tr>\n",
       "    <tr>\n",
       "      <th>4</th>\n",
       "      <td>0000143529</td>\n",
       "      <td>Disc 1: Flour Power (Scones; Shortcakes; South...</td>\n",
       "      <td>http://ecx.images-amazon.com/images/I/51QY79CD...</td>\n",
       "      <td>NaN</td>\n",
       "      <td>NaN</td>\n",
       "      <td>NaN</td>\n",
       "      <td>NaN</td>\n",
       "      <td>NaN</td>\n",
       "      <td>NaN</td>\n",
       "      <td>463562.0</td>\n",
       "      <td>NaN</td>\n",
       "      <td>NaN</td>\n",
       "      <td>NaN</td>\n",
       "      <td>NaN</td>\n",
       "      <td>NaN</td>\n",
       "      <td>NaN</td>\n",
       "      <td>My Fair Pastry (Good Eats Vol. 9)</td>\n",
       "    </tr>\n",
       "  </tbody>\n",
       "</table>\n",
       "</div>"
      ],
      "text/plain": [
       "         asin                                        description  \\\n",
       "0  0000143561  3Pack DVD set - Italian Classics, Parties and ...   \n",
       "1  0000589012                                                NaN   \n",
       "2  0000695009                                                NaN   \n",
       "3  000107461X                                                NaN   \n",
       "4  0000143529  Disc 1: Flour Power (Scones; Shortcakes; South...   \n",
       "\n",
       "                                               imUrl  \\\n",
       "0  http://g-ecx.images-amazon.com/images/G/01/x-s...   \n",
       "1  http://ecx.images-amazon.com/images/I/519%2B1k...   \n",
       "2  http://g-ecx.images-amazon.com/images/G/01/x-s...   \n",
       "3  http://ecx.images-amazon.com/images/I/41WY47gL...   \n",
       "4  http://ecx.images-amazon.com/images/I/51QY79CD...   \n",
       "\n",
       "   salesRank_Arts,_Crafts_&_Sewing  salesRank_Books  salesRank_Electronics  \\\n",
       "0                              NaN              NaN                    NaN   \n",
       "1                              NaN              NaN                    NaN   \n",
       "2                              NaN              NaN                    NaN   \n",
       "3                              NaN              NaN                    NaN   \n",
       "4                              NaN              NaN                    NaN   \n",
       "\n",
       "   salesRank_Health_&_Personal_Care  salesRank_Home_&_Kitchen  \\\n",
       "0                               NaN                       NaN   \n",
       "1                               NaN                       NaN   \n",
       "2                               NaN                       NaN   \n",
       "3                               NaN                       NaN   \n",
       "4                               NaN                       NaN   \n",
       "\n",
       "   salesRank_Industrial_&_Scientific  salesRank_Movies_&_TV  salesRank_Music  \\\n",
       "0                                NaN               376041.0              NaN   \n",
       "1                                NaN              1084845.0              NaN   \n",
       "2                                NaN              1022732.0              NaN   \n",
       "3                                NaN               954116.0              NaN   \n",
       "4                                NaN               463562.0              NaN   \n",
       "\n",
       "   salesRank_Pet_Supplies  salesRank_Software  salesRank_Sports_&_Outdoors  \\\n",
       "0                     NaN                 NaN                          NaN   \n",
       "1                     NaN                 NaN                          NaN   \n",
       "2                     NaN                 NaN                          NaN   \n",
       "3                     NaN                 NaN                          NaN   \n",
       "4                     NaN                 NaN                          NaN   \n",
       "\n",
       "   salesRank_Toys_&_Games  salesRank_Video_Games  \\\n",
       "0                     NaN                    NaN   \n",
       "1                     NaN                    NaN   \n",
       "2                     NaN                    NaN   \n",
       "3                     NaN                    NaN   \n",
       "4                     NaN                    NaN   \n",
       "\n",
       "                                               title  \n",
       "0  Everyday Italian (with Giada de Laurentiis), V...  \n",
       "1  Why Don't They Just Quit? DVD Roundtable Discu...  \n",
       "2            Understanding Seizures and Epilepsy DVD  \n",
       "3                              Live in Houston [VHS]  \n",
       "4                  My Fair Pastry (Good Eats Vol. 9)  "
      ]
     },
     "execution_count": 9,
     "metadata": {},
     "output_type": "execute_result"
    }
   ],
   "source": [
    "meta_movie = import_interesting_cols(\n",
    "    meta_movie_path,DUMP_FOLDER, True, meta_interesting_cols, max_count=MAXCOUNT, dropna=False)\n",
    "meta_movie.head()"
   ]
  },
  {
   "cell_type": "markdown",
   "metadata": {
    "hidden": true
   },
   "source": [
    "### Reviews"
   ]
  },
  {
   "cell_type": "code",
   "execution_count": 10,
   "metadata": {
    "hidden": true
   },
   "outputs": [
    {
     "name": "stdout",
     "output_type": "stream",
     "text": [
      "Retrieving from : ../../Project-Data-corrected/dump/reviews_Movies_and_Tv_asin_overall_unixReviewTime_100\n",
      "It took 00:00:00.003 to import the data.\n"
     ]
    },
    {
     "data": {
      "text/html": [
       "<div>\n",
       "<style>\n",
       "    .dataframe thead tr:only-child th {\n",
       "        text-align: right;\n",
       "    }\n",
       "\n",
       "    .dataframe thead th {\n",
       "        text-align: left;\n",
       "    }\n",
       "\n",
       "    .dataframe tbody tr th {\n",
       "        vertical-align: top;\n",
       "    }\n",
       "</style>\n",
       "<table border=\"1\" class=\"dataframe\">\n",
       "  <thead>\n",
       "    <tr style=\"text-align: right;\">\n",
       "      <th></th>\n",
       "      <th>asin</th>\n",
       "      <th>overall</th>\n",
       "      <th>unixReviewTime</th>\n",
       "    </tr>\n",
       "  </thead>\n",
       "  <tbody>\n",
       "    <tr>\n",
       "      <th>0</th>\n",
       "      <td>0000143502</td>\n",
       "      <td>5.0</td>\n",
       "      <td>2013-01-17</td>\n",
       "    </tr>\n",
       "    <tr>\n",
       "      <th>1</th>\n",
       "      <td>0000143529</td>\n",
       "      <td>5.0</td>\n",
       "      <td>2013-10-02</td>\n",
       "    </tr>\n",
       "    <tr>\n",
       "      <th>2</th>\n",
       "      <td>0000143561</td>\n",
       "      <td>2.0</td>\n",
       "      <td>2008-07-17</td>\n",
       "    </tr>\n",
       "    <tr>\n",
       "      <th>3</th>\n",
       "      <td>0000143588</td>\n",
       "      <td>5.0</td>\n",
       "      <td>2009-03-13</td>\n",
       "    </tr>\n",
       "    <tr>\n",
       "      <th>4</th>\n",
       "      <td>0000143588</td>\n",
       "      <td>5.0</td>\n",
       "      <td>2009-01-18</td>\n",
       "    </tr>\n",
       "  </tbody>\n",
       "</table>\n",
       "</div>"
      ],
      "text/plain": [
       "         asin  overall unixReviewTime\n",
       "0  0000143502      5.0     2013-01-17\n",
       "1  0000143529      5.0     2013-10-02\n",
       "2  0000143561      2.0     2008-07-17\n",
       "3  0000143588      5.0     2009-03-13\n",
       "4  0000143588      5.0     2009-01-18"
      ]
     },
     "execution_count": 10,
     "metadata": {},
     "output_type": "execute_result"
    }
   ],
   "source": [
    "review_movie = import_interesting_cols(\n",
    "    review_movie_path,\n",
    "    DUMP_FOLDER,\n",
    "    False,\n",
    "    review_interesting_cols,\n",
    "    max_count=100,\n",
    "    dropna=False)\n",
    "review_movie.head()"
   ]
  },
  {
   "cell_type": "markdown",
   "metadata": {
    "collapsed": true,
    "hidden": true
   },
   "source": [
    "## Electronics"
   ]
  },
  {
   "cell_type": "code",
   "execution_count": 11,
   "metadata": {
    "hidden": true
   },
   "outputs": [
    {
     "name": "stdout",
     "output_type": "stream",
     "text": [
      "Paths : \n",
      "\t meta = ../../Project-Data-corrected/meta/meta_Electronics.json\n",
      "\t review = ../../Project-Data-corrected/reviews/reviews_Electronics.json\n",
      "\t core_path = ../../Project-Data-corrected/5_core/Electronics.json\n"
     ]
    }
   ],
   "source": [
    "meta_electronic_path, review_electronic_path, core_electronic_path = get_paths(\n",
    "    2, DATA_FOLDER,META_FOLDER,CORE_FOLDER, REVIEWS_FOLDER, CATEGORIES)"
   ]
  },
  {
   "cell_type": "markdown",
   "metadata": {
    "hidden": true
   },
   "source": [
    "### Metadata"
   ]
  },
  {
   "cell_type": "code",
   "execution_count": 12,
   "metadata": {
    "hidden": true
   },
   "outputs": [
    {
     "name": "stdout",
     "output_type": "stream",
     "text": [
      "Retrieving from : ../../Project-Data-corrected/dump/meta_Electronics_asin_title_salesRank_description_imUrl_ALL\n",
      "It took 00:00:02.155 to import the data.\n"
     ]
    },
    {
     "data": {
      "text/html": [
       "<div>\n",
       "<style>\n",
       "    .dataframe thead tr:only-child th {\n",
       "        text-align: right;\n",
       "    }\n",
       "\n",
       "    .dataframe thead th {\n",
       "        text-align: left;\n",
       "    }\n",
       "\n",
       "    .dataframe tbody tr th {\n",
       "        vertical-align: top;\n",
       "    }\n",
       "</style>\n",
       "<table border=\"1\" class=\"dataframe\">\n",
       "  <thead>\n",
       "    <tr style=\"text-align: right;\">\n",
       "      <th></th>\n",
       "      <th>asin</th>\n",
       "      <th>description</th>\n",
       "      <th>imUrl</th>\n",
       "      <th>salesRank_Arts,_Crafts_&amp;_Sewing</th>\n",
       "      <th>salesRank_Automotive</th>\n",
       "      <th>salesRank_Baby</th>\n",
       "      <th>salesRank_Beauty</th>\n",
       "      <th>salesRank_Camera_&amp;_Photo</th>\n",
       "      <th>salesRank_Cell_Phones_&amp;_Accessories</th>\n",
       "      <th>salesRank_Clothing</th>\n",
       "      <th>...</th>\n",
       "      <th>salesRank_Office_Products</th>\n",
       "      <th>salesRank_Patio,_Lawn_&amp;_Garden</th>\n",
       "      <th>salesRank_Pet_Supplies</th>\n",
       "      <th>salesRank_Shoes</th>\n",
       "      <th>salesRank_Software</th>\n",
       "      <th>salesRank_Sports_&amp;_Outdoors</th>\n",
       "      <th>salesRank_Toys_&amp;_Games</th>\n",
       "      <th>salesRank_Video_Games</th>\n",
       "      <th>salesRank_Watches</th>\n",
       "      <th>title</th>\n",
       "    </tr>\n",
       "  </thead>\n",
       "  <tbody>\n",
       "    <tr>\n",
       "      <th>0</th>\n",
       "      <td>0132793040</td>\n",
       "      <td>The Kelby Training DVD Mastering Blend Modes i...</td>\n",
       "      <td>http://ecx.images-amazon.com/images/I/31JIPhp%...</td>\n",
       "      <td>NaN</td>\n",
       "      <td>NaN</td>\n",
       "      <td>NaN</td>\n",
       "      <td>NaN</td>\n",
       "      <td>NaN</td>\n",
       "      <td>NaN</td>\n",
       "      <td>NaN</td>\n",
       "      <td>...</td>\n",
       "      <td>NaN</td>\n",
       "      <td>NaN</td>\n",
       "      <td>NaN</td>\n",
       "      <td>NaN</td>\n",
       "      <td>NaN</td>\n",
       "      <td>NaN</td>\n",
       "      <td>NaN</td>\n",
       "      <td>NaN</td>\n",
       "      <td>NaN</td>\n",
       "      <td>Kelby Training DVD: Mastering Blend Modes in A...</td>\n",
       "    </tr>\n",
       "    <tr>\n",
       "      <th>1</th>\n",
       "      <td>0321732944</td>\n",
       "      <td>NaN</td>\n",
       "      <td>http://ecx.images-amazon.com/images/I/31uogm6Y...</td>\n",
       "      <td>NaN</td>\n",
       "      <td>NaN</td>\n",
       "      <td>NaN</td>\n",
       "      <td>NaN</td>\n",
       "      <td>NaN</td>\n",
       "      <td>NaN</td>\n",
       "      <td>NaN</td>\n",
       "      <td>...</td>\n",
       "      <td>NaN</td>\n",
       "      <td>NaN</td>\n",
       "      <td>NaN</td>\n",
       "      <td>NaN</td>\n",
       "      <td>NaN</td>\n",
       "      <td>NaN</td>\n",
       "      <td>NaN</td>\n",
       "      <td>NaN</td>\n",
       "      <td>NaN</td>\n",
       "      <td>Kelby Training DVD: Adobe Photoshop CS5 Crash ...</td>\n",
       "    </tr>\n",
       "  </tbody>\n",
       "</table>\n",
       "<p>2 rows × 32 columns</p>\n",
       "</div>"
      ],
      "text/plain": [
       "         asin                                        description  \\\n",
       "0  0132793040  The Kelby Training DVD Mastering Blend Modes i...   \n",
       "1  0321732944                                                NaN   \n",
       "\n",
       "                                               imUrl  \\\n",
       "0  http://ecx.images-amazon.com/images/I/31JIPhp%...   \n",
       "1  http://ecx.images-amazon.com/images/I/31uogm6Y...   \n",
       "\n",
       "   salesRank_Arts,_Crafts_&_Sewing  salesRank_Automotive  salesRank_Baby  \\\n",
       "0                              NaN                   NaN             NaN   \n",
       "1                              NaN                   NaN             NaN   \n",
       "\n",
       "   salesRank_Beauty  salesRank_Camera_&_Photo  \\\n",
       "0               NaN                       NaN   \n",
       "1               NaN                       NaN   \n",
       "\n",
       "   salesRank_Cell_Phones_&_Accessories  salesRank_Clothing  \\\n",
       "0                                  NaN                 NaN   \n",
       "1                                  NaN                 NaN   \n",
       "\n",
       "                         ...                          \\\n",
       "0                        ...                           \n",
       "1                        ...                           \n",
       "\n",
       "   salesRank_Office_Products  salesRank_Patio,_Lawn_&_Garden  \\\n",
       "0                        NaN                             NaN   \n",
       "1                        NaN                             NaN   \n",
       "\n",
       "   salesRank_Pet_Supplies  salesRank_Shoes  salesRank_Software  \\\n",
       "0                     NaN              NaN                 NaN   \n",
       "1                     NaN              NaN                 NaN   \n",
       "\n",
       "   salesRank_Sports_&_Outdoors  salesRank_Toys_&_Games  salesRank_Video_Games  \\\n",
       "0                          NaN                     NaN                    NaN   \n",
       "1                          NaN                     NaN                    NaN   \n",
       "\n",
       "   salesRank_Watches                                              title  \n",
       "0                NaN  Kelby Training DVD: Mastering Blend Modes in A...  \n",
       "1                NaN  Kelby Training DVD: Adobe Photoshop CS5 Crash ...  \n",
       "\n",
       "[2 rows x 32 columns]"
      ]
     },
     "execution_count": 12,
     "metadata": {},
     "output_type": "execute_result"
    }
   ],
   "source": [
    "meta_electronic = import_interesting_cols(\n",
    "    meta_electronic_path,\n",
    "    DUMP_FOLDER,\n",
    "    True,\n",
    "    meta_interesting_cols,\n",
    "    max_count=MAXCOUNT,\n",
    "    dropna=False)\n",
    "meta_electronic.head(2)"
   ]
  },
  {
   "cell_type": "markdown",
   "metadata": {
    "hidden": true
   },
   "source": [
    "### Review"
   ]
  },
  {
   "cell_type": "code",
   "execution_count": 13,
   "metadata": {
    "hidden": true
   },
   "outputs": [
    {
     "name": "stdout",
     "output_type": "stream",
     "text": [
      "Retrieving from : ../../Project-Data-corrected/dump/reviews_Electronics_asin_overall_unixReviewTime_ALL\n",
      "It took 00:00:00.964 to import the data.\n"
     ]
    },
    {
     "data": {
      "text/html": [
       "<div>\n",
       "<style>\n",
       "    .dataframe thead tr:only-child th {\n",
       "        text-align: right;\n",
       "    }\n",
       "\n",
       "    .dataframe thead th {\n",
       "        text-align: left;\n",
       "    }\n",
       "\n",
       "    .dataframe tbody tr th {\n",
       "        vertical-align: top;\n",
       "    }\n",
       "</style>\n",
       "<table border=\"1\" class=\"dataframe\">\n",
       "  <thead>\n",
       "    <tr style=\"text-align: right;\">\n",
       "      <th></th>\n",
       "      <th>asin</th>\n",
       "      <th>overall</th>\n",
       "      <th>unixReviewTime</th>\n",
       "    </tr>\n",
       "  </thead>\n",
       "  <tbody>\n",
       "    <tr>\n",
       "      <th>0</th>\n",
       "      <td>0132793040</td>\n",
       "      <td>5.0</td>\n",
       "      <td>2013-04-13</td>\n",
       "    </tr>\n",
       "    <tr>\n",
       "      <th>1</th>\n",
       "      <td>0321732944</td>\n",
       "      <td>5.0</td>\n",
       "      <td>2012-07-01</td>\n",
       "    </tr>\n",
       "    <tr>\n",
       "      <th>2</th>\n",
       "      <td>0439886341</td>\n",
       "      <td>1.0</td>\n",
       "      <td>2013-04-29</td>\n",
       "    </tr>\n",
       "    <tr>\n",
       "      <th>3</th>\n",
       "      <td>0439886341</td>\n",
       "      <td>3.0</td>\n",
       "      <td>2013-07-22</td>\n",
       "    </tr>\n",
       "    <tr>\n",
       "      <th>4</th>\n",
       "      <td>0439886341</td>\n",
       "      <td>1.0</td>\n",
       "      <td>2012-04-18</td>\n",
       "    </tr>\n",
       "  </tbody>\n",
       "</table>\n",
       "</div>"
      ],
      "text/plain": [
       "         asin  overall unixReviewTime\n",
       "0  0132793040      5.0     2013-04-13\n",
       "1  0321732944      5.0     2012-07-01\n",
       "2  0439886341      1.0     2013-04-29\n",
       "3  0439886341      3.0     2013-07-22\n",
       "4  0439886341      1.0     2012-04-18"
      ]
     },
     "execution_count": 13,
     "metadata": {},
     "output_type": "execute_result"
    }
   ],
   "source": [
    "review_electronic = import_interesting_cols(\n",
    "    review_electronic_path,\n",
    "    DUMP_FOLDER,\n",
    "    False,\n",
    "    review_interesting_cols,\n",
    "    max_count=MAXCOUNT,\n",
    "    dropna=False)\n",
    "review_electronic.head()"
   ]
  },
  {
   "cell_type": "markdown",
   "metadata": {},
   "source": [
    "# Detecting similar products\n",
    "In this section we try to obtain the products that are similar among a given category and to develop a systematic way to detect those similar products. We decided to focus mainly on books because it makes sense to have multiple book items on amazon that only differ by small caracteristics (e.g. edition) but not on their content. \n",
    "In a first approach we decided to focus on reviews and products from the ```5-core``` dataset. Those are products and reviewers that have at least 5 reviews. This was done in order **to have consistent reviews and products with actually enough reviews to conduct our analysis**"
   ]
  },
  {
   "cell_type": "markdown",
   "metadata": {},
   "source": [
    "## Books"
   ]
  },
  {
   "cell_type": "markdown",
   "metadata": {
    "heading_collapsed": true
   },
   "source": [
    "### Defining the dataset to work with"
   ]
  },
  {
   "cell_type": "markdown",
   "metadata": {
    "hidden": true
   },
   "source": [
    "Some books are sold in different formats : hard cover, pocket, electronic, etc. Therefore in order to compare them we will focus on the title and description that are the only two attributes that should be highly similar between the two different yet similar books."
   ]
  },
  {
   "cell_type": "code",
   "execution_count": 14,
   "metadata": {
    "hidden": true,
    "scrolled": false
   },
   "outputs": [
    {
     "data": {
      "text/html": [
       "<div>\n",
       "<style>\n",
       "    .dataframe thead tr:only-child th {\n",
       "        text-align: right;\n",
       "    }\n",
       "\n",
       "    .dataframe thead th {\n",
       "        text-align: left;\n",
       "    }\n",
       "\n",
       "    .dataframe tbody tr th {\n",
       "        vertical-align: top;\n",
       "    }\n",
       "</style>\n",
       "<table border=\"1\" class=\"dataframe\">\n",
       "  <thead>\n",
       "    <tr style=\"text-align: right;\">\n",
       "      <th></th>\n",
       "      <th>title</th>\n",
       "      <th>description</th>\n",
       "      <th>imUrl</th>\n",
       "    </tr>\n",
       "    <tr>\n",
       "      <th>asin</th>\n",
       "      <th></th>\n",
       "      <th></th>\n",
       "      <th></th>\n",
       "    </tr>\n",
       "  </thead>\n",
       "  <tbody>\n",
       "    <tr>\n",
       "      <th>0001055178</th>\n",
       "      <td>Master Georgie</td>\n",
       "      <td>Beryl Bainbridge seems drawn to disaster. Firs...</td>\n",
       "      <td>http://ecx.images-amazon.com/images/I/51ZSC6TK...</td>\n",
       "    </tr>\n",
       "    <tr>\n",
       "      <th>000171287X</th>\n",
       "      <td>The Berenstains' B Book (Bright &amp; Early Books)</td>\n",
       "      <td>By Stan Berenstain and Jan Berenstain, Illustr...</td>\n",
       "      <td>http://ecx.images-amazon.com/images/I/31hjUxZu...</td>\n",
       "    </tr>\n",
       "    <tr>\n",
       "      <th>000100039X</th>\n",
       "      <td>The Prophet</td>\n",
       "      <td>In a distant, timeless place, a mysterious pro...</td>\n",
       "      <td>http://ecx.images-amazon.com/images/I/81ZKLPiv...</td>\n",
       "    </tr>\n",
       "    <tr>\n",
       "      <th>0001473905</th>\n",
       "      <td>Rightly Dividing the Word</td>\n",
       "      <td>--This text refers to thePaperbackedition.</td>\n",
       "      <td>http://ecx.images-amazon.com/images/I/61KPC59B...</td>\n",
       "    </tr>\n",
       "    <tr>\n",
       "      <th>0001714538</th>\n",
       "      <td>The Berenstain Bears on the Moon (Bright and E...</td>\n",
       "      <td>PreSchool-Grade 2 A delightful tale told in rh...</td>\n",
       "      <td>http://ecx.images-amazon.com/images/I/A1zj84uC...</td>\n",
       "    </tr>\n",
       "  </tbody>\n",
       "</table>\n",
       "</div>"
      ],
      "text/plain": [
       "                                                        title  \\\n",
       "asin                                                            \n",
       "0001055178                                     Master Georgie   \n",
       "000171287X     The Berenstains' B Book (Bright & Early Books)   \n",
       "000100039X                                        The Prophet   \n",
       "0001473905                          Rightly Dividing the Word   \n",
       "0001714538  The Berenstain Bears on the Moon (Bright and E...   \n",
       "\n",
       "                                                  description  \\\n",
       "asin                                                            \n",
       "0001055178  Beryl Bainbridge seems drawn to disaster. Firs...   \n",
       "000171287X  By Stan Berenstain and Jan Berenstain, Illustr...   \n",
       "000100039X  In a distant, timeless place, a mysterious pro...   \n",
       "0001473905         --This text refers to thePaperbackedition.   \n",
       "0001714538  PreSchool-Grade 2 A delightful tale told in rh...   \n",
       "\n",
       "                                                        imUrl  \n",
       "asin                                                           \n",
       "0001055178  http://ecx.images-amazon.com/images/I/51ZSC6TK...  \n",
       "000171287X  http://ecx.images-amazon.com/images/I/31hjUxZu...  \n",
       "000100039X  http://ecx.images-amazon.com/images/I/81ZKLPiv...  \n",
       "0001473905  http://ecx.images-amazon.com/images/I/61KPC59B...  \n",
       "0001714538  http://ecx.images-amazon.com/images/I/A1zj84uC...  "
      ]
     },
     "execution_count": 14,
     "metadata": {},
     "output_type": "execute_result"
    }
   ],
   "source": [
    "core_asin = list(core_books['asin'].unique())\n",
    "\n",
    "# We delete all the rows where either the title or description is null and keep only core books\n",
    "core_meta_df = meta_books[meta_books['title'].notnull()]\n",
    "core_meta_df = core_meta_df[core_meta_df['description'].notnull()]\n",
    "core_meta_df = core_meta_df[core_meta_df['imUrl'].notnull()]\n",
    "core_meta_df = core_meta_df[core_meta_df['asin'].isin(core_asin)]\n",
    "book_desc_titles = core_meta_df[['asin','title','description','imUrl']]\n",
    "book_desc_titles = book_desc_titles.set_index(['asin'])\n",
    "book_desc_titles.head()"
   ]
  },
  {
   "cell_type": "code",
   "execution_count": 16,
   "metadata": {
    "hidden": true
   },
   "outputs": [
    {
     "name": "stdout",
     "output_type": "stream",
     "text": [
      "We have 217805 different books.\n"
     ]
    },
    {
     "data": {
      "text/plain": [
       "True"
      ]
     },
     "execution_count": 16,
     "metadata": {},
     "output_type": "execute_result"
    }
   ],
   "source": [
    "print(\"We have {} different books.\".format(len(book_desc_titles.index)))\n",
    "book_desc_titles.index.is_unique"
   ]
  },
  {
   "cell_type": "markdown",
   "metadata": {
    "hidden": true
   },
   "source": [
    "Now we need to compare books, nevertheless, we see that there are way too many such books in order to compare them pariwisely. Therefore after some ressearch we found a method that allow us to compute a value for each book and only compare books with similar values. We explain in the following sections what is this value and why is it relevant to compare only books with similar values."
   ]
  },
  {
   "cell_type": "markdown",
   "metadata": {
    "heading_collapsed": true
   },
   "source": [
    "### Locality sensitive hashing\n",
    "Based on this [article](http://dataconomy.com/2017/06/locality-sensitive-hashing-pydata/), and following the theory that can be read at the chapter 3.4 of [Mining of massive datasets by Leskovec, Rajaraman and Milliway](http://infolab.stanford.edu/~ullman/mmds/book.pdf) we will try to find similar books."
   ]
  },
  {
   "cell_type": "markdown",
   "metadata": {
    "hidden": true
   },
   "source": [
    "#### The ```minhash```"
   ]
  },
  {
   "cell_type": "markdown",
   "metadata": {
    "hidden": true
   },
   "source": [
    "We need to detect near similar books in this large datasets. To do so we would need to compare each of the attribute of a given book with all the others which is extremely computationaly expensive. There we will use LSH. Right now the title and description of the book have variable length depending on the books. To perform LSH we would like to have a fixed length representation of the document without modifying the semantics of document similarity.\n",
    "* first we introduce the principle of shingles. A shingle of 5-gram (hence we discard the last shingle as it only consists in the $<5$ last characters of the document) e.g. is a set of all possible 5-grams in the string. "
   ]
  },
  {
   "cell_type": "code",
   "execution_count": 17,
   "metadata": {
    "collapsed": true,
    "hidden": true,
    "scrolled": false
   },
   "outputs": [],
   "source": [
    "document = \"Lorem Ipsum dolor sit amet\"\n",
    "shingles = get_shingles(document)"
   ]
  },
  {
   "cell_type": "code",
   "execution_count": 18,
   "metadata": {
    "hidden": true
   },
   "outputs": [
    {
     "data": {
      "text/plain": [
       "0.4666666666666667"
      ]
     },
     "execution_count": 18,
     "metadata": {},
     "output_type": "execute_result"
    }
   ],
   "source": [
    "other_document = 'Lorem Ipsum dolor sit amet with some extra garbage'\n",
    "other_shingles = get_shingles(other_document)\n",
    "jaccard_dist(shingles,other_shingles)"
   ]
  },
  {
   "cell_type": "markdown",
   "metadata": {
    "hidden": true
   },
   "source": [
    "Each document will still have a different number of shingles depending on its length. Therefore we wish to represent it using a *fixed length representation*. We will present now a function ```minhash``` that has a collision probability that is exactly the jaccard similarity (based on this [document](http://infolab.stanford.edu/~ullman/mmds/ch3.pdf) and following this [repo](https://github.com/mattilyra/LSH/blob/master/examples/Introduction.ipynb)) . We explain this now :\n",
    "1. Suppose that the following dataframe is the boolean variable corresponding to whether or not a shingle belongs to a document\n",
    "2. the ```minhash``` of a document returns a random permutation of the rows and then the first row number it founds where the value is non 0.\n",
    "    * therefore row 1 for doc 1\n",
    "    * and row 0 for doc 2"
   ]
  },
  {
   "cell_type": "code",
   "execution_count": 19,
   "metadata": {
    "hidden": true,
    "scrolled": true
   },
   "outputs": [
    {
     "data": {
      "text/html": [
       "<div>\n",
       "<style>\n",
       "    .dataframe thead tr:only-child th {\n",
       "        text-align: right;\n",
       "    }\n",
       "\n",
       "    .dataframe thead th {\n",
       "        text-align: left;\n",
       "    }\n",
       "\n",
       "    .dataframe tbody tr th {\n",
       "        vertical-align: top;\n",
       "    }\n",
       "</style>\n",
       "<table border=\"1\" class=\"dataframe\">\n",
       "  <thead>\n",
       "    <tr style=\"text-align: right;\">\n",
       "      <th></th>\n",
       "      <th>doc1</th>\n",
       "      <th>doc2</th>\n",
       "      <th>shingleID</th>\n",
       "    </tr>\n",
       "  </thead>\n",
       "  <tbody>\n",
       "    <tr>\n",
       "      <th>0</th>\n",
       "      <td>0</td>\n",
       "      <td>1</td>\n",
       "      <td>1</td>\n",
       "    </tr>\n",
       "    <tr>\n",
       "      <th>1</th>\n",
       "      <td>1</td>\n",
       "      <td>1</td>\n",
       "      <td>2</td>\n",
       "    </tr>\n",
       "    <tr>\n",
       "      <th>2</th>\n",
       "      <td>0</td>\n",
       "      <td>1</td>\n",
       "      <td>3</td>\n",
       "    </tr>\n",
       "    <tr>\n",
       "      <th>3</th>\n",
       "      <td>0</td>\n",
       "      <td>0</td>\n",
       "      <td>4</td>\n",
       "    </tr>\n",
       "    <tr>\n",
       "      <th>4</th>\n",
       "      <td>1</td>\n",
       "      <td>1</td>\n",
       "      <td>5</td>\n",
       "    </tr>\n",
       "    <tr>\n",
       "      <th>5</th>\n",
       "      <td>1</td>\n",
       "      <td>0</td>\n",
       "      <td>6</td>\n",
       "    </tr>\n",
       "  </tbody>\n",
       "</table>\n",
       "</div>"
      ],
      "text/plain": [
       "   doc1  doc2  shingleID\n",
       "0     0     1          1\n",
       "1     1     1          2\n",
       "2     0     1          3\n",
       "3     0     0          4\n",
       "4     1     1          5\n",
       "5     1     0          6"
      ]
     },
     "execution_count": 19,
     "metadata": {},
     "output_type": "execute_result"
    }
   ],
   "source": [
    "ex_minhash = pd.DataFrame({'shingleID':[1,2,3,4,5,6],'doc1':[0,1,0,0,1,1],'doc2':[1,1,1,0,1,0]})\n",
    "ex_minhash"
   ]
  },
  {
   "cell_type": "markdown",
   "metadata": {
    "hidden": true
   },
   "source": [
    "But this is for this particular permutation, if we had another one like below then the ```minhash``` would return :\n",
    "   * row 2 for doc1\n",
    "   * row 1 for doc2\n",
    "\n",
    "There are a lot of such permutations. Nevertheless we only care about having the same row for each document which mean we have collision of the ```minhash```. Therefore we have only two rows for which this happens : $\\text{shingleID} \\in \\{2,5\\}$. Hence the probability that the two doc have the same ```minhash``` (remmember that rows with two zeros do not count as they are not considered by ```minhash```) is the number of rows where both doc value is 1 divided by the number of rows where they are different : $\\frac{2}{5}$"
   ]
  },
  {
   "cell_type": "code",
   "execution_count": 20,
   "metadata": {
    "hidden": true
   },
   "outputs": [
    {
     "data": {
      "text/html": [
       "<div>\n",
       "<style>\n",
       "    .dataframe thead tr:only-child th {\n",
       "        text-align: right;\n",
       "    }\n",
       "\n",
       "    .dataframe thead th {\n",
       "        text-align: left;\n",
       "    }\n",
       "\n",
       "    .dataframe tbody tr th {\n",
       "        vertical-align: top;\n",
       "    }\n",
       "</style>\n",
       "<table border=\"1\" class=\"dataframe\">\n",
       "  <thead>\n",
       "    <tr style=\"text-align: right;\">\n",
       "      <th></th>\n",
       "      <th>doc1</th>\n",
       "      <th>doc2</th>\n",
       "      <th>shingleID</th>\n",
       "    </tr>\n",
       "  </thead>\n",
       "  <tbody>\n",
       "    <tr>\n",
       "      <th>1</th>\n",
       "      <td>1</td>\n",
       "      <td>1</td>\n",
       "      <td>2</td>\n",
       "    </tr>\n",
       "    <tr>\n",
       "      <th>2</th>\n",
       "      <td>0</td>\n",
       "      <td>1</td>\n",
       "      <td>3</td>\n",
       "    </tr>\n",
       "    <tr>\n",
       "      <th>3</th>\n",
       "      <td>0</td>\n",
       "      <td>0</td>\n",
       "      <td>4</td>\n",
       "    </tr>\n",
       "    <tr>\n",
       "      <th>5</th>\n",
       "      <td>1</td>\n",
       "      <td>0</td>\n",
       "      <td>6</td>\n",
       "    </tr>\n",
       "    <tr>\n",
       "      <th>0</th>\n",
       "      <td>0</td>\n",
       "      <td>1</td>\n",
       "      <td>1</td>\n",
       "    </tr>\n",
       "    <tr>\n",
       "      <th>4</th>\n",
       "      <td>1</td>\n",
       "      <td>1</td>\n",
       "      <td>5</td>\n",
       "    </tr>\n",
       "  </tbody>\n",
       "</table>\n",
       "</div>"
      ],
      "text/plain": [
       "   doc1  doc2  shingleID\n",
       "1     1     1          2\n",
       "2     0     1          3\n",
       "3     0     0          4\n",
       "5     1     0          6\n",
       "0     0     1          1\n",
       "4     1     1          5"
      ]
     },
     "execution_count": 20,
     "metadata": {},
     "output_type": "execute_result"
    }
   ],
   "source": [
    "ex_minhash.sample(frac=1)"
   ]
  },
  {
   "cell_type": "markdown",
   "metadata": {
    "hidden": true
   },
   "source": [
    "We can chose the length of the fingerprint that is returned by the ```minhash```, as we increase the length we get less variance from the random initialisation of the ```minhasher``` but this also greatly increases the memory usage."
   ]
  },
  {
   "cell_type": "markdown",
   "metadata": {
    "hidden": true
   },
   "source": [
    "#### The principle of LSH"
   ]
  },
  {
   "cell_type": "code",
   "execution_count": 21,
   "metadata": {
    "hidden": true
   },
   "outputs": [
    {
     "data": {
      "text/plain": [
       "100"
      ]
     },
     "execution_count": 21,
     "metadata": {},
     "output_type": "execute_result"
    }
   ],
   "source": [
    "from lsh import minhash\n",
    "hasher = minhash.MinHasher(seeds=100, char_ngram=5)\n",
    "fingerprint0 = hasher.fingerprint('Lorem Ipsum dolor sit amet'.encode('utf8'))\n",
    "len(fingerprint0)"
   ]
  },
  {
   "cell_type": "markdown",
   "metadata": {
    "hidden": true
   },
   "source": [
    "Therefore the hash of a document is composed of a given (```seeds```) number of ```minhashes```. We divide this number of ```minhashes``` into a given number of parts (e.g. 5). Since every single ```minhash``` has the jaccard similarity probability of collision then each of the 5 parts will have this probability as well. These parts represent the **locality** in the term LSH.\n",
    "\n",
    "Then we hash the content of each part using a different hash function to obtain the *binID* that represents the **hashing** part of the method. Into each bin with *binID* we store the entire fingerprint of the document.\n",
    "\n",
    "The idea is then that we compare documents that fall in the same bins : we will compare their fingerprint which is equivalent to looking at their Jaccard similarity between shingle sets. Since not all documents will fall into the same bins we have reduced the number of potential candidates.\n",
    "\n",
    "Indeed we call :\n",
    "* ```seeds``` :  number of ```minihashes``` that compose the fingerprint\n",
    "* ```bands``` : the number of bins that we want to use"
   ]
  },
  {
   "cell_type": "markdown",
   "metadata": {
    "hidden": true
   },
   "source": [
    "#### Finding candidate duplicates\n",
    "We base this search on the titles of the books. This is due to the fact that the ```description``` attribute is often meaningless for such analysis (in some book it is just the review by some newspaper). Also the ```Author``` variable can be misleading as some products will list all the authors of the book while others might not. **Therefore we use titles as input to our LSH**"
   ]
  },
  {
   "cell_type": "code",
   "execution_count": 22,
   "metadata": {
    "hidden": true
   },
   "outputs": [
    {
     "data": {
      "text/html": [
       "<div>\n",
       "<style>\n",
       "    .dataframe thead tr:only-child th {\n",
       "        text-align: right;\n",
       "    }\n",
       "\n",
       "    .dataframe thead th {\n",
       "        text-align: left;\n",
       "    }\n",
       "\n",
       "    .dataframe tbody tr th {\n",
       "        vertical-align: top;\n",
       "    }\n",
       "</style>\n",
       "<table border=\"1\" class=\"dataframe\">\n",
       "  <thead>\n",
       "    <tr style=\"text-align: right;\">\n",
       "      <th></th>\n",
       "      <th>title</th>\n",
       "      <th>description</th>\n",
       "      <th>imUrl</th>\n",
       "    </tr>\n",
       "    <tr>\n",
       "      <th>asin</th>\n",
       "      <th></th>\n",
       "      <th></th>\n",
       "      <th></th>\n",
       "    </tr>\n",
       "  </thead>\n",
       "  <tbody>\n",
       "    <tr>\n",
       "      <th>0001055178</th>\n",
       "      <td>Master Georgie</td>\n",
       "      <td>Beryl Bainbridge seems drawn to disaster. Firs...</td>\n",
       "      <td>http://ecx.images-amazon.com/images/I/51ZSC6TK...</td>\n",
       "    </tr>\n",
       "    <tr>\n",
       "      <th>000171287X</th>\n",
       "      <td>The Berenstains' B Book (Bright &amp; Early Books)</td>\n",
       "      <td>By Stan Berenstain and Jan Berenstain, Illustr...</td>\n",
       "      <td>http://ecx.images-amazon.com/images/I/31hjUxZu...</td>\n",
       "    </tr>\n",
       "    <tr>\n",
       "      <th>000100039X</th>\n",
       "      <td>The Prophet</td>\n",
       "      <td>In a distant, timeless place, a mysterious pro...</td>\n",
       "      <td>http://ecx.images-amazon.com/images/I/81ZKLPiv...</td>\n",
       "    </tr>\n",
       "    <tr>\n",
       "      <th>0001473905</th>\n",
       "      <td>Rightly Dividing the Word</td>\n",
       "      <td>--This text refers to thePaperbackedition.</td>\n",
       "      <td>http://ecx.images-amazon.com/images/I/61KPC59B...</td>\n",
       "    </tr>\n",
       "    <tr>\n",
       "      <th>0001714538</th>\n",
       "      <td>The Berenstain Bears on the Moon (Bright and E...</td>\n",
       "      <td>PreSchool-Grade 2 A delightful tale told in rh...</td>\n",
       "      <td>http://ecx.images-amazon.com/images/I/A1zj84uC...</td>\n",
       "    </tr>\n",
       "  </tbody>\n",
       "</table>\n",
       "</div>"
      ],
      "text/plain": [
       "                                                        title  \\\n",
       "asin                                                            \n",
       "0001055178                                     Master Georgie   \n",
       "000171287X     The Berenstains' B Book (Bright & Early Books)   \n",
       "000100039X                                        The Prophet   \n",
       "0001473905                          Rightly Dividing the Word   \n",
       "0001714538  The Berenstain Bears on the Moon (Bright and E...   \n",
       "\n",
       "                                                  description  \\\n",
       "asin                                                            \n",
       "0001055178  Beryl Bainbridge seems drawn to disaster. Firs...   \n",
       "000171287X  By Stan Berenstain and Jan Berenstain, Illustr...   \n",
       "000100039X  In a distant, timeless place, a mysterious pro...   \n",
       "0001473905         --This text refers to thePaperbackedition.   \n",
       "0001714538  PreSchool-Grade 2 A delightful tale told in rh...   \n",
       "\n",
       "                                                        imUrl  \n",
       "asin                                                           \n",
       "0001055178  http://ecx.images-amazon.com/images/I/51ZSC6TK...  \n",
       "000171287X  http://ecx.images-amazon.com/images/I/31hjUxZu...  \n",
       "000100039X  http://ecx.images-amazon.com/images/I/81ZKLPiv...  \n",
       "0001473905  http://ecx.images-amazon.com/images/I/61KPC59B...  \n",
       "0001714538  http://ecx.images-amazon.com/images/I/A1zj84uC...  "
      ]
     },
     "execution_count": 22,
     "metadata": {},
     "output_type": "execute_result"
    }
   ],
   "source": [
    "book_desc_titles.head()"
   ]
  },
  {
   "cell_type": "code",
   "execution_count": 24,
   "metadata": {
    "hidden": true
   },
   "outputs": [
    {
     "name": "stdout",
     "output_type": "stream",
     "text": [
      "It took 00:00:26.009 to detect duplicates.\n",
      "Found 4584 bins of possible duplicates.\n",
      "With 10928 different books\n"
     ]
    }
   ],
   "source": [
    "dump_path = DUMP_FOLDER\n",
    "get_candidate,asin_2_similarity_list = candidate_duplicates(book_desc_titles,dump_path,['title'])"
   ]
  },
  {
   "cell_type": "code",
   "execution_count": 29,
   "metadata": {
    "hidden": true
   },
   "outputs": [
    {
     "data": {
      "text/plain": [
       "{'0345462351', '0373696604', '0849944813', '1461003377'}"
      ]
     },
     "execution_count": 29,
     "metadata": {},
     "output_type": "execute_result"
    }
   ],
   "source": [
    "get_candidate[list(get_candidate.keys())[67]]"
   ]
  },
  {
   "cell_type": "code",
   "execution_count": 34,
   "metadata": {
    "hidden": true,
    "scrolled": true
   },
   "outputs": [
    {
     "name": "stdout",
     "output_type": "stream",
     "text": [
      "Book 1461003377 - title: The Awakening\n",
      "Book 0849944813 - title: The Awakening\n",
      "Book 0373696604 - title: The Awakening\n",
      "Book 0345462351 - title: The Awakening\n",
      "\n",
      "Book 1461003377 - description: \"This is one story you don't want to pass up!!\"\n",
      "Book 0849944813 - description: A dreamlike quality pervades this lovely tale by Hunt, the veteran author of more than 70 books. Thirty-five-year-old Aurora Norquest is left floundering after the mother she's nursed through dementia dies. Aurora rattles around her Manhattan apartment, suffering from agoraphobia and contemplating suicide. She also begins to wonder about the father she's never known, a famous horror novelist. Yet something as significant as finding her father is a long shot for Aurora, who is afraid even to walk to her apartment building's lobby. Then Philip, an economics teacher, gently pries Aurora from her cocoon and awakens her to life—and to faith. (Readers will notice the names correspond to the princess and prince inSleeping Beauty, among other parallels.) As Aurora confronts her haunting dreams, voices (could they be from God?) and fears, she begins to discover that much about her past that she had taken for granted was untrue. The novelist father—who has everything, yet longs for the daughter he's never known— intentionally mirrors the biblical parable of the shepherd and the one lost sheep. The capable Hunt handles the mechanics of storytelling with aplomb, and the happy conclusion, while a bit rushed, should please.Copyright © Reed Business Information, a division of Reed Elsevier Inc. All rights reserved.\n",
      "Book 0373696604 - description: Josette Bettencourt stared at the group of workers gathered in front of her ancestral plantation home and for the first time in a long while, couldn't think of a single thing to say.The crew leader, Ray, a Creole man who was probably in his fifties, stepped forward. \"We need the work, Ms. Bettencourt, and the normal dangers of the swamp are things we're comfortable with, but not this.\"She took a deep breath and blew it out. \"I want you to explain to me again exactly what you saw.\"Ray nodded. \"We were repairing the fence on the north side of the property when we heard howling, but it weren't no swamp animal that we know. Then we heard something moving in the brush—something big.\"\"Did you see it?\"\"It came through the brush about thirty yards from where we were working. Looked straight at us, then ducked back in the bushes and disappeared.\"\"What did it look like?\"\"It was taller than me by at least a foot or two and had long gray hair. It had a face like a monkey and yellow eyes.\"Okay, it didn't sound any better the second time. \"You're sure it wasn't a bear?\"Ray drew himself up straight. \"I know bear, ma'am. I feed my family off of this swamp most of the time.\" He pointed to the crew. \"All of them know bear, too. We all saw the same thing.\"The men nodded and shuffled around, clearly uneasy.\"I don't know what to say,\" she said finally. \"I will look into it with Emmett, but I'm begging you not to leave.\"Ray looked at the men most of whom stared at the ground. \"I can't speak for another man,\" he said, \"but I will keep working for now. How many will stay?\"All of the men slowly raised their hands.Josie felt almost dizzy with relief. \"Thank you. Move your crew to the west side tomorrow and work there until I figure this out. Where's Emmett?\"Ray shrugged. \"We haven't seen him since he got us started this morning.\"She struggled to hold in her frustration. \"If you see anything out of the ordinary tomorrow, come straight to me.\"Ray nodded and started to walk away, then hesitated. \"Is there something else?\" Josie asked. \"You grew up in this swamp, ma'am. You know the legends.\"\"The legends are stories made up by parents to keep their children from wandering into the swamp,\" she replied, stubbornly refusing to buy into age-old scare tactics.\"Perhaps, but what I saw today wasn't my imagination and it scared me—a grown man. Stories that last so many years often have truth in them. You can choose not to believe, but please take precautions in the swamp.\"Josie softened a little, realizing the man was simply worried about her safety. \"Of course. Thank you.\"Ray gave her a single nod and motioned the crew away.She blew out a breath and strode toward the barn, wondering where her foreman had wandered off to this time. Lately, she spent more time looking for Emmett than she did working with him on the repairs needed at the plantation. He'd always been distant and short on words, but since her father's death six months before, he'd moved on to physically absent as well as verbally.There was no sign of Emmett in the barn, and one look at the sky let her know that daylight was running out. She grabbed a flashlight and a shotgun from a gun rack near the barn door and headed out to the location in the swamp where the crew had been working on fencing.The area the crew had worked in that day was in the denser part of the swamp surrounding the house. Fences already existed at the perimeter of cleared land, but given the many dangerous creatures living in the swamp surrounding the main estate, the bank was requiring her to maintain a second set of fencing deeper in the swamp in order to open the house as a bed-and-breakfast. The new fencing would also keep hikers from wandering into the more dangerous areas, and provide an extra line of defense for her horses, the only luxury she'd held on to after her father's death.She pushed through the thick brush on the seldom-used trail until she reached the work area. Cypress trees rose in a thick wall around her and parted at the edge of the brackish water that comprised one of many ponds contained on her property. A stack of posts and barbed wire stood about twenty feet back from the edge of the water, the remains of the previous fence scattered in front of it.She'd thought animals and the hurricane season had taken down that stretch of fence that her father had installed years ago, but what if she'd been wrong?The silence of the swamp seemed to echo in her mind. How in the world could something so quiet cause so much unease? She crossed her arms over her chest, unable to remember a time when she'd ever felt at ease in the dense undergrowth. The myths and legends about the swamps of Mystere Parish were as long as the Mississippi River, and although her father had always dismissed them as the ramblings of superstitious swamp people, Josie couldn't help wondering if Ray was right—if those long-survived tales had some basis in truth.She scanned the work area one last time and blew out a breath, unsure what she expected to find. There was nothing to see here but another afternoon of unfinished work. Another half day of lag to add to the week they were already behind.As she turned to leave, a twig snapped behind her. She whirled around and looked across the pond where the noise had come from. The sun was setting, creating a dim orange glow over the pond. She peered into the foliage on the opposite bank, but didn't see anything.You're spooking yourself.She let out the breath she'd been holding, chastising herself for getting worked up. It was probably just a deer. Then the bushes on the opposite bank parted and a head emerged. It was completely gray and neither human nor animal. Yellow eyes locked on her and she froze. One second, two seconds, three.And then as quickly as it appeared, it disappeared in the brush without a sound.The Tainted Keitre.For a split second she wondered how something so big could move through the dying brush without so much as a whisper of noise, but then common sense took over and she turned and ran down the trail to the plantation as fast as her legs would carry her.Josie clenched her hands down by her sides, afraid that if she lifted them above her waist, she'd punch Bobby Reynard straight in the mouth. The fact that he was currently the sheriff probably wouldn't play to her favor.\"So you're not going to do anything?\" she asked, trying to keep her voice calm.He puffed out his chest, which still didn't force it to extend beyond his belly. \"I am an officer of the law. I don't waste my time and taxpayers' money by investigating the ridiculous claims of a bunch of superstitious swamp people, especially when it's all happening on private property. You got a problem at your house—it's your problem, unless there's a crime.\"\"A brand-new section of my fence was torn down three times in the last two weeks. Vandalism was against the law the last time I checked.\"He shoved his hands in his jeans pockets and stared past her out the window, clearly bored with the conversation. \"A bear is probably tearing down that fence. Sounds like you're fencing what he considers his territory. Problems with the local wildlife are not problems for the sheriff's department.\"She glanced down at his protruding belly and then back at him. \"Looks to me like nothing but drinking beer down at the Gator Bar is your business.\"His face reddened and he drew himself up straight, trying to suck in the gut and failing miserably. \"You better watch your mouth, sweetheart. Everyone may have kissed your butt in high school, but this is the real world now and you aren't any better than anyone else in this town now that all that family money is gone.\"\"Oh, I imagine I'm still better than some,\" she said, then whirled around and left the sheriff's office before he could retort.Not that there was any danger of him coming up with something witty in the next hour or so. Bobby Reynard had been a bully and an oaf in high school and he'd made a profession out of it as an adult. She only hoped some desperate woman didn't marry him so that the cycle could end with him.\"Don't let him get to you, honey, or he wins.\"Josie stopped digging for her car keys and looked up to find Adele LaPierre standing in front of her. The spry, little silver-haired woman claimed to be sixty-five, but Josie's mother had always said she was every bit of eighty.\"You're right,\" Josie said. \"But it's just so stupid. High school was ten years ago and he's still stuck there.\"\"Some things never change. You were the most beautiful girl in high school and you had no interest in him. Now you're the most beautiful girl in the Honey Island Swamp and you're still not interested in him.\"Josie smiled and gave Adele a hug. \"You always know the right thing to say.\"\"You're a good girl, Josette. Your parents would be proud of the way you're trying to save their home. Don't let anyone make you feel differently.\"She sighed. \"All my work is going to be for nothing if I can't stop the vandalism. The crew is already spooked and threatening to quit. Without the crew, I'll never have the house ready to open for New Year's, and without that revenue, the bank will start foreclosure in February. And all that is assuming the work they do isn't destroyed by whoever is doing this.\"Adele narrowed her eyes. \"Whoever orwhatever?\"Josie stared at the sidewalk for a moment before lifting her gaze back to Adele. \"I haven't told anyone, but I went into the swamp that day and I saw what the men said was out there. I can'...\n",
      "Book 0345462351 - description: Turning out novels on a near annual basis, this rising star of fantasy suspense abandons ancient Egypt (The Alchemist) for a satisfying, old-fashioned ghost story with a touch of violence and mayhem. Mary is an amnesiac who wakes up in a sanitarium with no sense of her past other than the dim memory of an incident that took the lives of her physician husband and daughter. Her psychotherapist at the sanitarium convinces her that her family isn't literally dead, and she moves into what she thinks is her lakeside house near Chapel Hill, N.C., hoping that its occupants-a frustrated writer and his rebellious teenage daughter, both spending the summer there-are her family. It gradually becomes clear that Mary is a ghost. The daughter, Elsie, sees her but can't speak to her. The father, Paul, encounters the ghost and actually converses with her. When his wife, Penny, a prominent surgeon, joins her family at the summer house, she has terrifying dreams of blood splattered about the kitchen. As Mary struggles to communicate with the house's isolated, unhappy occupants, they themselves fail to communicate with one another-Paul is miserable over his flagging career; Penny, preoccupied with her work, barely has time for the family; and Elsie is bitterly estranged from both of them. The author slowly reveals the ties between Mary's family and the one she has adopted, and Paul, Penny and Elsie begin to draw together as they research their mysterious visitor. This is a well-told tale with a shocking final revelation.Copyright 2003 Reed Business Information, Inc.\n",
      "\n"
     ]
    },
    {
     "data": {
      "text/html": [
       "<img src=\"http://ecx.images-amazon.com/images/I/51JaQUbipBL.jpg\" width=\"250\" height=\"500\"/>"
      ],
      "text/plain": [
       "<IPython.core.display.Image object>"
      ]
     },
     "metadata": {},
     "output_type": "display_data"
    },
    {
     "data": {
      "text/html": [
       "<img src=\"http://ecx.images-amazon.com/images/I/41KkHkpcLgL.jpg\" width=\"250\" height=\"500\"/>"
      ],
      "text/plain": [
       "<IPython.core.display.Image object>"
      ]
     },
     "metadata": {},
     "output_type": "display_data"
    },
    {
     "data": {
      "text/html": [
       "<img src=\"http://ecx.images-amazon.com/images/I/51pd0uIrE9L.jpg\" width=\"250\" height=\"500\"/>"
      ],
      "text/plain": [
       "<IPython.core.display.Image object>"
      ]
     },
     "metadata": {},
     "output_type": "display_data"
    },
    {
     "data": {
      "text/html": [
       "<img src=\"http://ecx.images-amazon.com/images/I/51BrMqTqjcL.jpg\" width=\"250\" height=\"500\"/>"
      ],
      "text/plain": [
       "<IPython.core.display.Image object>"
      ]
     },
     "metadata": {},
     "output_type": "display_data"
    }
   ],
   "source": [
    "# Let's quickly oberve the type of data that we obtain\n",
    "element_to_inspect = 67\n",
    "asins = get_candidate[list(get_candidate.keys())[element_to_inspect]]\n",
    "print_details(asins,book_desc_titles,interesting_cols=['title','description'])\n",
    "display_images(asins,book_desc_titles)"
   ]
  },
  {
   "cell_type": "markdown",
   "metadata": {
    "hidden": true
   },
   "source": [
    "We can see that the books can greatly vary eventhough they have the same title. Also it seems hard to extract any meaningful data from their description therefore we need to use the Amazon API to try to get the data we are looking for."
   ]
  },
  {
   "cell_type": "markdown",
   "metadata": {},
   "source": [
    "### Refining our candidates"
   ]
  },
  {
   "cell_type": "markdown",
   "metadata": {},
   "source": [
    "#### Using Amazon API to obtain more data about our products\n",
    "Because of the heterogeneous nature of the data in description we use Amazon API to obtain consistent informations like the name of authors, ISBN etc..."
   ]
  },
  {
   "cell_type": "markdown",
   "metadata": {},
   "source": [
    "We use a [wrapper](https://pypi.python.org/pypi/python-amazon-simple-product-api) of the amazon API and the documentation can be found [here](http://pythonhosted.org/python-amazon-simple-product-api/).\n",
    "\n",
    "Also note that given the ASIN of a product one can access the page of the product using one of the two following addresses:\n",
    "* ```https://www.amazon.co.uk/dp/<ASIN>/```\n",
    "* ```https://www.amazon.com/dp/<ASIN>/```"
   ]
  },
  {
   "cell_type": "code",
   "execution_count": 35,
   "metadata": {
    "scrolled": true
   },
   "outputs": [
    {
     "data": {
      "text/html": [
       "<div>\n",
       "<style>\n",
       "    .dataframe thead tr:only-child th {\n",
       "        text-align: right;\n",
       "    }\n",
       "\n",
       "    .dataframe thead th {\n",
       "        text-align: left;\n",
       "    }\n",
       "\n",
       "    .dataframe tbody tr th {\n",
       "        vertical-align: top;\n",
       "    }\n",
       "</style>\n",
       "<table border=\"1\" class=\"dataframe\">\n",
       "  <thead>\n",
       "    <tr style=\"text-align: right;\">\n",
       "      <th></th>\n",
       "      <th>title</th>\n",
       "      <th>description</th>\n",
       "      <th>imUrl</th>\n",
       "    </tr>\n",
       "    <tr>\n",
       "      <th>asin</th>\n",
       "      <th></th>\n",
       "      <th></th>\n",
       "      <th></th>\n",
       "    </tr>\n",
       "  </thead>\n",
       "  <tbody>\n",
       "    <tr>\n",
       "      <th>0001055178</th>\n",
       "      <td>Master Georgie</td>\n",
       "      <td>Beryl Bainbridge seems drawn to disaster. Firs...</td>\n",
       "      <td>http://ecx.images-amazon.com/images/I/51ZSC6TK...</td>\n",
       "    </tr>\n",
       "    <tr>\n",
       "      <th>000171287X</th>\n",
       "      <td>The Berenstains' B Book (Bright &amp; Early Books)</td>\n",
       "      <td>By Stan Berenstain and Jan Berenstain, Illustr...</td>\n",
       "      <td>http://ecx.images-amazon.com/images/I/31hjUxZu...</td>\n",
       "    </tr>\n",
       "    <tr>\n",
       "      <th>000100039X</th>\n",
       "      <td>The Prophet</td>\n",
       "      <td>In a distant, timeless place, a mysterious pro...</td>\n",
       "      <td>http://ecx.images-amazon.com/images/I/81ZKLPiv...</td>\n",
       "    </tr>\n",
       "    <tr>\n",
       "      <th>0001473905</th>\n",
       "      <td>Rightly Dividing the Word</td>\n",
       "      <td>--This text refers to thePaperbackedition.</td>\n",
       "      <td>http://ecx.images-amazon.com/images/I/61KPC59B...</td>\n",
       "    </tr>\n",
       "    <tr>\n",
       "      <th>0001714538</th>\n",
       "      <td>The Berenstain Bears on the Moon (Bright and E...</td>\n",
       "      <td>PreSchool-Grade 2 A delightful tale told in rh...</td>\n",
       "      <td>http://ecx.images-amazon.com/images/I/A1zj84uC...</td>\n",
       "    </tr>\n",
       "  </tbody>\n",
       "</table>\n",
       "</div>"
      ],
      "text/plain": [
       "                                                        title  \\\n",
       "asin                                                            \n",
       "0001055178                                     Master Georgie   \n",
       "000171287X     The Berenstains' B Book (Bright & Early Books)   \n",
       "000100039X                                        The Prophet   \n",
       "0001473905                          Rightly Dividing the Word   \n",
       "0001714538  The Berenstain Bears on the Moon (Bright and E...   \n",
       "\n",
       "                                                  description  \\\n",
       "asin                                                            \n",
       "0001055178  Beryl Bainbridge seems drawn to disaster. Firs...   \n",
       "000171287X  By Stan Berenstain and Jan Berenstain, Illustr...   \n",
       "000100039X  In a distant, timeless place, a mysterious pro...   \n",
       "0001473905         --This text refers to thePaperbackedition.   \n",
       "0001714538  PreSchool-Grade 2 A delightful tale told in rh...   \n",
       "\n",
       "                                                        imUrl  \n",
       "asin                                                           \n",
       "0001055178  http://ecx.images-amazon.com/images/I/51ZSC6TK...  \n",
       "000171287X  http://ecx.images-amazon.com/images/I/31hjUxZu...  \n",
       "000100039X  http://ecx.images-amazon.com/images/I/81ZKLPiv...  \n",
       "0001473905  http://ecx.images-amazon.com/images/I/61KPC59B...  \n",
       "0001714538  http://ecx.images-amazon.com/images/I/A1zj84uC...  "
      ]
     },
     "execution_count": 35,
     "metadata": {},
     "output_type": "execute_result"
    }
   ],
   "source": [
    "book_desc_titles.head()"
   ]
  },
  {
   "cell_type": "code",
   "execution_count": 38,
   "metadata": {},
   "outputs": [
    {
     "name": "stdout",
     "output_type": "stream",
     "text": [
      "We have 10928 different asins in our candidate duplicates dictionnary.\n",
      "[############################################################] 100.0% (10927/10928) Fetching from API (failed : 42)\n",
      "It took 00:55:44.040 to import the data.\n",
      "Saved at : \n",
      "\t../../Project-Data-corrected/dump/book_only_candidates_with_details\n",
      "\t\n",
      "42 failed retrieval(s) (check the returned list for more details)\n"
     ]
    },
    {
     "data": {
      "text/html": [
       "<div>\n",
       "<style>\n",
       "    .dataframe thead tr:only-child th {\n",
       "        text-align: right;\n",
       "    }\n",
       "\n",
       "    .dataframe thead th {\n",
       "        text-align: left;\n",
       "    }\n",
       "\n",
       "    .dataframe tbody tr th {\n",
       "        vertical-align: top;\n",
       "    }\n",
       "</style>\n",
       "<table border=\"1\" class=\"dataframe\">\n",
       "  <thead>\n",
       "    <tr style=\"text-align: right;\">\n",
       "      <th></th>\n",
       "      <th>asin</th>\n",
       "      <th>title</th>\n",
       "      <th>description</th>\n",
       "      <th>imUrl</th>\n",
       "      <th>authors</th>\n",
       "      <th>publisher</th>\n",
       "      <th>ISBN</th>\n",
       "      <th>sales_rank_updated</th>\n",
       "      <th>binding</th>\n",
       "      <th>edition</th>\n",
       "      <th>release_date</th>\n",
       "    </tr>\n",
       "  </thead>\n",
       "  <tbody>\n",
       "    <tr>\n",
       "      <th>2</th>\n",
       "      <td>000100039X</td>\n",
       "      <td>The Prophet</td>\n",
       "      <td>In a distant, timeless place, a mysterious pro...</td>\n",
       "      <td>http://ecx.images-amazon.com/images/I/81ZKLPiv...</td>\n",
       "      <td>[Tester Gregg]</td>\n",
       "      <td>Rupa &amp; Co</td>\n",
       "      <td>000100039X</td>\n",
       "      <td>1293840</td>\n",
       "      <td>Broché</td>\n",
       "      <td>None</td>\n",
       "      <td>None</td>\n",
       "    </tr>\n",
       "    <tr>\n",
       "      <th>5</th>\n",
       "      <td>0001473123</td>\n",
       "      <td>The Book of Revelation</td>\n",
       "      <td>American Baptist pastor, Bible teacher, and wr...</td>\n",
       "      <td>http://ecx.images-amazon.com/images/I/317G8R2T...</td>\n",
       "      <td>[Clarence Larkin]</td>\n",
       "      <td>Rev Clarence Larkin Estate</td>\n",
       "      <td>0001473123</td>\n",
       "      <td>2456389</td>\n",
       "      <td>Relié</td>\n",
       "      <td>None</td>\n",
       "      <td>None</td>\n",
       "    </tr>\n",
       "  </tbody>\n",
       "</table>\n",
       "</div>"
      ],
      "text/plain": [
       "         asin                   title  \\\n",
       "2  000100039X             The Prophet   \n",
       "5  0001473123  The Book of Revelation   \n",
       "\n",
       "                                         description  \\\n",
       "2  In a distant, timeless place, a mysterious pro...   \n",
       "5  American Baptist pastor, Bible teacher, and wr...   \n",
       "\n",
       "                                               imUrl            authors  \\\n",
       "2  http://ecx.images-amazon.com/images/I/81ZKLPiv...     [Tester Gregg]   \n",
       "5  http://ecx.images-amazon.com/images/I/317G8R2T...  [Clarence Larkin]   \n",
       "\n",
       "                    publisher        ISBN sales_rank_updated binding edition  \\\n",
       "2                   Rupa & Co  000100039X            1293840  Broché    None   \n",
       "5  Rev Clarence Larkin Estate  0001473123            2456389   Relié    None   \n",
       "\n",
       "  release_date  \n",
       "2         None  \n",
       "5         None  "
      ]
     },
     "execution_count": 38,
     "metadata": {},
     "output_type": "execute_result"
    }
   ],
   "source": [
    "amazon_access_file_path = DUMP_FOLDER + \"amazon_access_epfl_new\"\n",
    "book_only_candidates,failed = fill_in_with_details(book_desc_titles,amazon_access_file_path,get_candidate,asin_2_similarity_list,DUMP_FOLDER)\n",
    "book_only_candidates.head(2)"
   ]
  },
  {
   "cell_type": "code",
   "execution_count": 39,
   "metadata": {},
   "outputs": [
    {
     "data": {
      "text/plain": [
       "10886"
      ]
     },
     "execution_count": 39,
     "metadata": {},
     "output_type": "execute_result"
    }
   ],
   "source": [
    "len(book_only_candidates[book_only_candidates['authors'].notnull()].index)"
   ]
  },
  {
   "cell_type": "markdown",
   "metadata": {},
   "source": [
    "We will therefore look at the author in the API of amazon. We will match books depending on if the authors are identical. Because we do not want to crawl the API too many times we will do it for all the items that are the dictionnary ```get_candidate``` (either as key or in the value list). One must be careful because if some ASIN couldn't be resolved then they won't provide any information in the dataframe."
   ]
  },
  {
   "cell_type": "markdown",
   "metadata": {},
   "source": [
    "#### Refining the candidate similars based on authors\n",
    "We will now use the details we obtain from the API to refine the candidate similars."
   ]
  },
  {
   "cell_type": "code",
   "execution_count": 40,
   "metadata": {},
   "outputs": [
    {
     "data": {
      "text/html": [
       "<div>\n",
       "<style>\n",
       "    .dataframe thead tr:only-child th {\n",
       "        text-align: right;\n",
       "    }\n",
       "\n",
       "    .dataframe thead th {\n",
       "        text-align: left;\n",
       "    }\n",
       "\n",
       "    .dataframe tbody tr th {\n",
       "        vertical-align: top;\n",
       "    }\n",
       "</style>\n",
       "<table border=\"1\" class=\"dataframe\">\n",
       "  <thead>\n",
       "    <tr style=\"text-align: right;\">\n",
       "      <th></th>\n",
       "      <th>asin</th>\n",
       "      <th>title</th>\n",
       "      <th>description</th>\n",
       "      <th>imUrl</th>\n",
       "      <th>authors</th>\n",
       "      <th>publisher</th>\n",
       "      <th>ISBN</th>\n",
       "      <th>sales_rank_updated</th>\n",
       "      <th>binding</th>\n",
       "      <th>edition</th>\n",
       "      <th>release_date</th>\n",
       "    </tr>\n",
       "  </thead>\n",
       "  <tbody>\n",
       "    <tr>\n",
       "      <th>2</th>\n",
       "      <td>000100039X</td>\n",
       "      <td>The Prophet</td>\n",
       "      <td>In a distant, timeless place, a mysterious pro...</td>\n",
       "      <td>http://ecx.images-amazon.com/images/I/81ZKLPiv...</td>\n",
       "      <td>[Tester Gregg]</td>\n",
       "      <td>Rupa &amp; Co</td>\n",
       "      <td>000100039X</td>\n",
       "      <td>1293840</td>\n",
       "      <td>Broché</td>\n",
       "      <td>None</td>\n",
       "      <td>None</td>\n",
       "    </tr>\n",
       "    <tr>\n",
       "      <th>5</th>\n",
       "      <td>0001473123</td>\n",
       "      <td>The Book of Revelation</td>\n",
       "      <td>American Baptist pastor, Bible teacher, and wr...</td>\n",
       "      <td>http://ecx.images-amazon.com/images/I/317G8R2T...</td>\n",
       "      <td>[Clarence Larkin]</td>\n",
       "      <td>Rev Clarence Larkin Estate</td>\n",
       "      <td>0001473123</td>\n",
       "      <td>2456389</td>\n",
       "      <td>Relié</td>\n",
       "      <td>None</td>\n",
       "      <td>None</td>\n",
       "    </tr>\n",
       "    <tr>\n",
       "      <th>30</th>\n",
       "      <td>0002222590</td>\n",
       "      <td>The Golden Gate</td>\n",
       "      <td>'Startlingly good...tense...ingenious' Sunday ...</td>\n",
       "      <td>http://ecx.images-amazon.com/images/I/51RjrfZe...</td>\n",
       "      <td>[Alistair MacLean]</td>\n",
       "      <td>HarperCollins Publishers Ltd</td>\n",
       "      <td>0002222590</td>\n",
       "      <td>None</td>\n",
       "      <td>Relié</td>\n",
       "      <td>First Edition</td>\n",
       "      <td>None</td>\n",
       "    </tr>\n",
       "    <tr>\n",
       "      <th>66</th>\n",
       "      <td>0006176909</td>\n",
       "      <td>House of Cards</td>\n",
       "      <td>'This blood-and-thunder tale, lifelike and tho...</td>\n",
       "      <td>http://ecx.images-amazon.com/images/I/71IaEyKy...</td>\n",
       "      <td>[Michael Dobbs]</td>\n",
       "      <td>HarperCollins Publishers Ltd</td>\n",
       "      <td>0006176909</td>\n",
       "      <td>23530</td>\n",
       "      <td>Poche</td>\n",
       "      <td>New Ed</td>\n",
       "      <td>None</td>\n",
       "    </tr>\n",
       "    <tr>\n",
       "      <th>68</th>\n",
       "      <td>0006175015</td>\n",
       "      <td>Bloodline</td>\n",
       "      <td>'Absorbing and eminently well-crafted.' New Yo...</td>\n",
       "      <td>http://ecx.images-amazon.com/images/I/41rLB80O...</td>\n",
       "      <td>[Sidney Sheldon]</td>\n",
       "      <td>HarperCollins Publishers Ltd</td>\n",
       "      <td>0006175015</td>\n",
       "      <td>480254</td>\n",
       "      <td>Broché</td>\n",
       "      <td>New Ed</td>\n",
       "      <td>None</td>\n",
       "    </tr>\n",
       "  </tbody>\n",
       "</table>\n",
       "</div>"
      ],
      "text/plain": [
       "          asin                   title  \\\n",
       "2   000100039X             The Prophet   \n",
       "5   0001473123  The Book of Revelation   \n",
       "30  0002222590         The Golden Gate   \n",
       "66  0006176909          House of Cards   \n",
       "68  0006175015               Bloodline   \n",
       "\n",
       "                                          description  \\\n",
       "2   In a distant, timeless place, a mysterious pro...   \n",
       "5   American Baptist pastor, Bible teacher, and wr...   \n",
       "30  'Startlingly good...tense...ingenious' Sunday ...   \n",
       "66  'This blood-and-thunder tale, lifelike and tho...   \n",
       "68  'Absorbing and eminently well-crafted.' New Yo...   \n",
       "\n",
       "                                                imUrl             authors  \\\n",
       "2   http://ecx.images-amazon.com/images/I/81ZKLPiv...      [Tester Gregg]   \n",
       "5   http://ecx.images-amazon.com/images/I/317G8R2T...   [Clarence Larkin]   \n",
       "30  http://ecx.images-amazon.com/images/I/51RjrfZe...  [Alistair MacLean]   \n",
       "66  http://ecx.images-amazon.com/images/I/71IaEyKy...     [Michael Dobbs]   \n",
       "68  http://ecx.images-amazon.com/images/I/41rLB80O...    [Sidney Sheldon]   \n",
       "\n",
       "                       publisher        ISBN sales_rank_updated binding  \\\n",
       "2                      Rupa & Co  000100039X            1293840  Broché   \n",
       "5     Rev Clarence Larkin Estate  0001473123            2456389   Relié   \n",
       "30  HarperCollins Publishers Ltd  0002222590               None   Relié   \n",
       "66  HarperCollins Publishers Ltd  0006176909              23530   Poche   \n",
       "68  HarperCollins Publishers Ltd  0006175015             480254  Broché   \n",
       "\n",
       "          edition release_date  \n",
       "2            None         None  \n",
       "5            None         None  \n",
       "30  First Edition         None  \n",
       "66         New Ed         None  \n",
       "68         New Ed         None  "
      ]
     },
     "execution_count": 40,
     "metadata": {},
     "output_type": "execute_result"
    }
   ],
   "source": [
    "book_only_candidates.head(5)"
   ]
  },
  {
   "cell_type": "markdown",
   "metadata": {},
   "source": [
    "We saw examples were the authors list between two books were very similar but names were written differently, therefore we need to check that some typos are not in the names of authors : (e.g. ```{'Ian MacNeill', 'SportMed BC'}{'Ian MacNeil'}``` where MacNeil is written with two 'l' in the first book but only one in the second one). Therefore we will first clean the names (remove accents, nomalize it to lower case) and then try to match then using the Levenstein distance, we match two author list if the mean difference between authors is less that 0.35 (NB: this is a relative distance in order to be able to compare title with different length). \n",
    "\n",
    "See the function ```check_name_similarity``` in the ```utils.py``` files for more details on how this is done."
   ]
  },
  {
   "cell_type": "code",
   "execution_count": 41,
   "metadata": {},
   "outputs": [
    {
     "name": "stdout",
     "output_type": "stream",
     "text": [
      "We have found 1384 bins of candidate similars\n"
     ]
    }
   ],
   "source": [
    "similars,lsh_to_author = get_similar_authors(book_only_candidates,get_candidate,asin_2_similarity_list)\n",
    "print(\"We have found {} bins of candidate similars\".format(len(similars.keys())))"
   ]
  },
  {
   "cell_type": "markdown",
   "metadata": {},
   "source": [
    "#### Refining the candidate similars further using the titles"
   ]
  },
  {
   "cell_type": "markdown",
   "metadata": {},
   "source": [
    "Now we might still have problems with books that have highly similar titles and authors but aren't identical. This could be explained by :\n",
    "* Different Tomes : same title but different number\n",
    "* educational books that have identical titles except for what they teach\n",
    "* simply typos or very small differences \n",
    "* many other examples \n",
    "\n",
    "Example of books that are not similar:\n",
    "```\n",
    "Adobe Dreamweaver CS3 Classroom in a Book['adobe creative team']\n",
    "Adobe Dreamweaver CS4 Classroom in a Book['adobe creative team']\n",
    "Adobe Dreamweaver CS5 Classroom in a Book['adobe creative team']\n",
    "Adobe Dreamweaver CS6 Classroom in a Book['adobe creative team']\n",
    "----------------------------------------------------------------\n",
    "Promethea, Book 3['alan moore']\n",
    "Promethea, Book 5['alan moore']\n",
    "Promethea, Book 1['alan moore', 'j. h. williams', 'mick gray']\n",
    "\n",
    "```\n",
    "\n",
    "Example of books that should be considered similar:\n",
    "``` \n",
    "'Light Science and Magic: An Introduction to Photographic Lighting'['fil hunter', 'paul fuqua', 'steven biver']\n",
    "'Light: Science and Magic: An Introduction to Photographic Lighting'['fil hunter', 'steven biver', 'paul fuqua']\n",
    "```\n",
    "\n",
    "We will therefore also need to see if the title are similar enough. **We want to avoid false positive as much as possible. We are sure that we could go even further with matching names but prefer to be conservative here**. Therefore we only try to normalize as much as possible the titles and see if then the titles taken as sets have an empty symmetric difference."
   ]
  },
  {
   "cell_type": "code",
   "execution_count": 42,
   "metadata": {},
   "outputs": [
    {
     "name": "stdout",
     "output_type": "stream",
     "text": [
      "Example of title cleaning : \n",
      "\tPromethea, 'Book 3' (whatever junk)\n",
      "\tpromethea book 3 whatever junk\n"
     ]
    }
   ],
   "source": [
    "example_s = \"Promethea, 'Book 3' (whatever junk)\"\n",
    "print(\"Example of title cleaning : \\n\\t{}\\n\\t{}\".format(example_s,clean_title(example_s)))\n",
    "very_similars,authors_to_title = get_similar_titles(book_only_candidates,similars)"
   ]
  },
  {
   "cell_type": "code",
   "execution_count": 55,
   "metadata": {},
   "outputs": [
    {
     "name": "stdout",
     "output_type": "stream",
     "text": [
      "We have found 782 bins of very similar books.\n",
      "We have 1606 asins for products that have at least one similar product.\n"
     ]
    }
   ],
   "source": [
    "print(\"We have found {} bins of very similar books.\".format(len(very_similars)))\n",
    "very_similar_ASIN = [item for sublist in list(very_similars.values()) for item in sublist]\n",
    "print(\"We have {} asins for products that have at least one similar product.\".format(len(very_similar_ASIN)))"
   ]
  },
  {
   "cell_type": "markdown",
   "metadata": {},
   "source": [
    "We dump the relevant dataframe and a variable with matching ASIN for further analysis."
   ]
  },
  {
   "cell_type": "code",
   "execution_count": 59,
   "metadata": {},
   "outputs": [
    {
     "data": {
      "text/html": [
       "<div>\n",
       "<style>\n",
       "    .dataframe thead tr:only-child th {\n",
       "        text-align: right;\n",
       "    }\n",
       "\n",
       "    .dataframe thead th {\n",
       "        text-align: left;\n",
       "    }\n",
       "\n",
       "    .dataframe tbody tr th {\n",
       "        vertical-align: top;\n",
       "    }\n",
       "</style>\n",
       "<table border=\"1\" class=\"dataframe\">\n",
       "  <thead>\n",
       "    <tr style=\"text-align: right;\">\n",
       "      <th></th>\n",
       "      <th>asin</th>\n",
       "      <th>title</th>\n",
       "      <th>description</th>\n",
       "      <th>imUrl</th>\n",
       "      <th>authors</th>\n",
       "      <th>publisher</th>\n",
       "      <th>ISBN</th>\n",
       "      <th>sales_rank_updated</th>\n",
       "      <th>binding</th>\n",
       "      <th>edition</th>\n",
       "      <th>release_date</th>\n",
       "    </tr>\n",
       "  </thead>\n",
       "  <tbody>\n",
       "    <tr>\n",
       "      <th>2</th>\n",
       "      <td>000100039X</td>\n",
       "      <td>The Prophet</td>\n",
       "      <td>In a distant, timeless place, a mysterious pro...</td>\n",
       "      <td>http://ecx.images-amazon.com/images/I/81ZKLPiv...</td>\n",
       "      <td>[Tester Gregg]</td>\n",
       "      <td>Rupa &amp; Co</td>\n",
       "      <td>000100039X</td>\n",
       "      <td>1293840</td>\n",
       "      <td>Broché</td>\n",
       "      <td>None</td>\n",
       "      <td>None</td>\n",
       "    </tr>\n",
       "    <tr>\n",
       "      <th>5</th>\n",
       "      <td>0001473123</td>\n",
       "      <td>The Book of Revelation</td>\n",
       "      <td>American Baptist pastor, Bible teacher, and wr...</td>\n",
       "      <td>http://ecx.images-amazon.com/images/I/317G8R2T...</td>\n",
       "      <td>[Clarence Larkin]</td>\n",
       "      <td>Rev Clarence Larkin Estate</td>\n",
       "      <td>0001473123</td>\n",
       "      <td>2456389</td>\n",
       "      <td>Relié</td>\n",
       "      <td>None</td>\n",
       "      <td>None</td>\n",
       "    </tr>\n",
       "    <tr>\n",
       "      <th>30</th>\n",
       "      <td>0002222590</td>\n",
       "      <td>The Golden Gate</td>\n",
       "      <td>'Startlingly good...tense...ingenious' Sunday ...</td>\n",
       "      <td>http://ecx.images-amazon.com/images/I/51RjrfZe...</td>\n",
       "      <td>[Alistair MacLean]</td>\n",
       "      <td>HarperCollins Publishers Ltd</td>\n",
       "      <td>0002222590</td>\n",
       "      <td>None</td>\n",
       "      <td>Relié</td>\n",
       "      <td>First Edition</td>\n",
       "      <td>None</td>\n",
       "    </tr>\n",
       "    <tr>\n",
       "      <th>66</th>\n",
       "      <td>0006176909</td>\n",
       "      <td>House of Cards</td>\n",
       "      <td>'This blood-and-thunder tale, lifelike and tho...</td>\n",
       "      <td>http://ecx.images-amazon.com/images/I/71IaEyKy...</td>\n",
       "      <td>[Michael Dobbs]</td>\n",
       "      <td>HarperCollins Publishers Ltd</td>\n",
       "      <td>0006176909</td>\n",
       "      <td>23530</td>\n",
       "      <td>Poche</td>\n",
       "      <td>New Ed</td>\n",
       "      <td>None</td>\n",
       "    </tr>\n",
       "    <tr>\n",
       "      <th>68</th>\n",
       "      <td>0006175015</td>\n",
       "      <td>Bloodline</td>\n",
       "      <td>'Absorbing and eminently well-crafted.' New Yo...</td>\n",
       "      <td>http://ecx.images-amazon.com/images/I/41rLB80O...</td>\n",
       "      <td>[Sidney Sheldon]</td>\n",
       "      <td>HarperCollins Publishers Ltd</td>\n",
       "      <td>0006175015</td>\n",
       "      <td>480254</td>\n",
       "      <td>Broché</td>\n",
       "      <td>New Ed</td>\n",
       "      <td>None</td>\n",
       "    </tr>\n",
       "  </tbody>\n",
       "</table>\n",
       "</div>"
      ],
      "text/plain": [
       "          asin                   title  \\\n",
       "2   000100039X             The Prophet   \n",
       "5   0001473123  The Book of Revelation   \n",
       "30  0002222590         The Golden Gate   \n",
       "66  0006176909          House of Cards   \n",
       "68  0006175015               Bloodline   \n",
       "\n",
       "                                          description  \\\n",
       "2   In a distant, timeless place, a mysterious pro...   \n",
       "5   American Baptist pastor, Bible teacher, and wr...   \n",
       "30  'Startlingly good...tense...ingenious' Sunday ...   \n",
       "66  'This blood-and-thunder tale, lifelike and tho...   \n",
       "68  'Absorbing and eminently well-crafted.' New Yo...   \n",
       "\n",
       "                                                imUrl             authors  \\\n",
       "2   http://ecx.images-amazon.com/images/I/81ZKLPiv...      [Tester Gregg]   \n",
       "5   http://ecx.images-amazon.com/images/I/317G8R2T...   [Clarence Larkin]   \n",
       "30  http://ecx.images-amazon.com/images/I/51RjrfZe...  [Alistair MacLean]   \n",
       "66  http://ecx.images-amazon.com/images/I/71IaEyKy...     [Michael Dobbs]   \n",
       "68  http://ecx.images-amazon.com/images/I/41rLB80O...    [Sidney Sheldon]   \n",
       "\n",
       "                       publisher        ISBN sales_rank_updated binding  \\\n",
       "2                      Rupa & Co  000100039X            1293840  Broché   \n",
       "5     Rev Clarence Larkin Estate  0001473123            2456389   Relié   \n",
       "30  HarperCollins Publishers Ltd  0002222590               None   Relié   \n",
       "66  HarperCollins Publishers Ltd  0006176909              23530   Poche   \n",
       "68  HarperCollins Publishers Ltd  0006175015             480254  Broché   \n",
       "\n",
       "          edition release_date  \n",
       "2            None         None  \n",
       "5            None         None  \n",
       "30  First Edition         None  \n",
       "66         New Ed         None  \n",
       "68         New Ed         None  "
      ]
     },
     "execution_count": 59,
     "metadata": {},
     "output_type": "execute_result"
    }
   ],
   "source": [
    "book_only_candidates.head()"
   ]
  },
  {
   "cell_type": "code",
   "execution_count": 60,
   "metadata": {},
   "outputs": [],
   "source": [
    "ANALYSIS_DATA_FOLDER = 'analysis_data/'\n",
    "\n",
    "book_only_candidates[book_only_candidates['asin'].isin(very_similar_ASIN)].to_pickle(ANALYSIS_DATA_FOLDER + 'books')\n",
    "review_books[review_books['asin'].isin(very_similar_ASIN)].to_pickle(ANALYSIS_DATA_FOLDER + 'review_books')\n",
    "\n",
    "with open(ANALYSIS_DATA_FOLDER + 'very_similars', 'wb') as handle:\n",
    "    pickle.dump(very_similars, handle, protocol=pickle.HIGHEST_PROTOCOL)"
   ]
  },
  {
   "cell_type": "markdown",
   "metadata": {},
   "source": [
    "# Correlation exploratory"
   ]
  },
  {
   "cell_type": "markdown",
   "metadata": {},
   "source": [
    "First of all, we want to perform an analysis of the reviews and how they are correlated with important indicators of Amazon such as sales rank and price."
   ]
  },
  {
   "cell_type": "markdown",
   "metadata": {},
   "source": [
    "## Reviews analysis"
   ]
  },
  {
   "cell_type": "code",
   "execution_count": 61,
   "metadata": {
    "collapsed": true
   },
   "outputs": [],
   "source": [
    "books_df = pd.read_pickle(ANALYSIS_DATA_FOLDER + 'books')\n",
    "review_books_df = pd.read_pickle(ANALYSIS_DATA_FOLDER + 'review_books')\n",
    "very_similars = pd.read_pickle(ANALYSIS_DATA_FOLDER + 'very_similars')"
   ]
  },
  {
   "cell_type": "code",
   "execution_count": 62,
   "metadata": {},
   "outputs": [
    {
     "data": {
      "text/plain": [
       "(1606, 11)"
      ]
     },
     "execution_count": 62,
     "metadata": {},
     "output_type": "execute_result"
    }
   ],
   "source": [
    "books_df.shape"
   ]
  },
  {
   "cell_type": "code",
   "execution_count": 63,
   "metadata": {},
   "outputs": [
    {
     "data": {
      "text/html": [
       "<div>\n",
       "<style>\n",
       "    .dataframe thead tr:only-child th {\n",
       "        text-align: right;\n",
       "    }\n",
       "\n",
       "    .dataframe thead th {\n",
       "        text-align: left;\n",
       "    }\n",
       "\n",
       "    .dataframe tbody tr th {\n",
       "        vertical-align: top;\n",
       "    }\n",
       "</style>\n",
       "<table border=\"1\" class=\"dataframe\">\n",
       "  <thead>\n",
       "    <tr style=\"text-align: right;\">\n",
       "      <th></th>\n",
       "      <th>asin</th>\n",
       "      <th>title</th>\n",
       "      <th>description</th>\n",
       "      <th>imUrl</th>\n",
       "      <th>authors</th>\n",
       "      <th>publisher</th>\n",
       "      <th>ISBN</th>\n",
       "      <th>sales_rank_updated</th>\n",
       "      <th>binding</th>\n",
       "      <th>edition</th>\n",
       "      <th>release_date</th>\n",
       "    </tr>\n",
       "  </thead>\n",
       "  <tbody>\n",
       "    <tr>\n",
       "      <th>118</th>\n",
       "      <td>0006531237</td>\n",
       "      <td>The Great Arc: The Dramatic Tale of How India ...</td>\n",
       "      <td>John Keay is an author and broadcaster special...</td>\n",
       "      <td>http://ecx.images-amazon.com/images/I/51KK-der...</td>\n",
       "      <td>[John Keay]</td>\n",
       "      <td>HarperCollins Publishers Ltd</td>\n",
       "      <td>0006531237</td>\n",
       "      <td>466851</td>\n",
       "      <td>Broché</td>\n",
       "      <td>New Ed</td>\n",
       "      <td>None</td>\n",
       "    </tr>\n",
       "    <tr>\n",
       "      <th>284</th>\n",
       "      <td>0007209053</td>\n",
       "      <td>Six Degrees: Our Future on a Hotter Planet</td>\n",
       "      <td>Adult/High School—Lynas has gathered global-wa...</td>\n",
       "      <td>http://ecx.images-amazon.com/images/I/51vudUEs...</td>\n",
       "      <td>[Mark Lynas]</td>\n",
       "      <td>HarperPerennial</td>\n",
       "      <td>0007209053</td>\n",
       "      <td>93639</td>\n",
       "      <td>Broché</td>\n",
       "      <td>None</td>\n",
       "      <td>2008-01-04</td>\n",
       "    </tr>\n",
       "    <tr>\n",
       "      <th>477</th>\n",
       "      <td>000748805X</td>\n",
       "      <td>You Had Me At Hello</td>\n",
       "      <td>“Very very witty and funny. Left me in awe…a t...</td>\n",
       "      <td>http://ecx.images-amazon.com/images/I/518o9Kll...</td>\n",
       "      <td>[Mhairi McFarlane]</td>\n",
       "      <td>AvonUK</td>\n",
       "      <td>000748805X</td>\n",
       "      <td>72141</td>\n",
       "      <td>Broché</td>\n",
       "      <td>None</td>\n",
       "      <td>2014-04-22</td>\n",
       "    </tr>\n",
       "  </tbody>\n",
       "</table>\n",
       "</div>"
      ],
      "text/plain": [
       "           asin                                              title  \\\n",
       "118  0006531237  The Great Arc: The Dramatic Tale of How India ...   \n",
       "284  0007209053         Six Degrees: Our Future on a Hotter Planet   \n",
       "477  000748805X                                You Had Me At Hello   \n",
       "\n",
       "                                           description  \\\n",
       "118  John Keay is an author and broadcaster special...   \n",
       "284  Adult/High School—Lynas has gathered global-wa...   \n",
       "477  “Very very witty and funny. Left me in awe…a t...   \n",
       "\n",
       "                                                 imUrl             authors  \\\n",
       "118  http://ecx.images-amazon.com/images/I/51KK-der...         [John Keay]   \n",
       "284  http://ecx.images-amazon.com/images/I/51vudUEs...        [Mark Lynas]   \n",
       "477  http://ecx.images-amazon.com/images/I/518o9Kll...  [Mhairi McFarlane]   \n",
       "\n",
       "                        publisher        ISBN sales_rank_updated binding  \\\n",
       "118  HarperCollins Publishers Ltd  0006531237             466851  Broché   \n",
       "284               HarperPerennial  0007209053              93639  Broché   \n",
       "477                        AvonUK  000748805X              72141  Broché   \n",
       "\n",
       "    edition release_date  \n",
       "118  New Ed         None  \n",
       "284    None   2008-01-04  \n",
       "477    None   2014-04-22  "
      ]
     },
     "execution_count": 63,
     "metadata": {},
     "output_type": "execute_result"
    }
   ],
   "source": [
    "books_df.head(3)"
   ]
  },
  {
   "cell_type": "code",
   "execution_count": 64,
   "metadata": {},
   "outputs": [
    {
     "data": {
      "text/plain": [
       "(135257, 3)"
      ]
     },
     "execution_count": 64,
     "metadata": {},
     "output_type": "execute_result"
    }
   ],
   "source": [
    "review_books_df.shape"
   ]
  },
  {
   "cell_type": "code",
   "execution_count": 65,
   "metadata": {
    "scrolled": true
   },
   "outputs": [
    {
     "data": {
      "text/html": [
       "<div>\n",
       "<style>\n",
       "    .dataframe thead tr:only-child th {\n",
       "        text-align: right;\n",
       "    }\n",
       "\n",
       "    .dataframe thead th {\n",
       "        text-align: left;\n",
       "    }\n",
       "\n",
       "    .dataframe tbody tr th {\n",
       "        vertical-align: top;\n",
       "    }\n",
       "</style>\n",
       "<table border=\"1\" class=\"dataframe\">\n",
       "  <thead>\n",
       "    <tr style=\"text-align: right;\">\n",
       "      <th></th>\n",
       "      <th>asin</th>\n",
       "      <th>overall</th>\n",
       "      <th>unixReviewTime</th>\n",
       "    </tr>\n",
       "  </thead>\n",
       "  <tbody>\n",
       "    <tr>\n",
       "      <th>26822</th>\n",
       "      <td>0006531237</td>\n",
       "      <td>5.0</td>\n",
       "      <td>2013-12-05</td>\n",
       "    </tr>\n",
       "    <tr>\n",
       "      <th>26823</th>\n",
       "      <td>0006531237</td>\n",
       "      <td>4.0</td>\n",
       "      <td>2011-10-30</td>\n",
       "    </tr>\n",
       "    <tr>\n",
       "      <th>26824</th>\n",
       "      <td>0006531237</td>\n",
       "      <td>5.0</td>\n",
       "      <td>2013-03-22</td>\n",
       "    </tr>\n",
       "  </tbody>\n",
       "</table>\n",
       "</div>"
      ],
      "text/plain": [
       "             asin  overall unixReviewTime\n",
       "26822  0006531237      5.0     2013-12-05\n",
       "26823  0006531237      4.0     2011-10-30\n",
       "26824  0006531237      5.0     2013-03-22"
      ]
     },
     "execution_count": 65,
     "metadata": {},
     "output_type": "execute_result"
    }
   ],
   "source": [
    "review_books_df.head(3)"
   ]
  },
  {
   "cell_type": "markdown",
   "metadata": {},
   "source": [
    "### Reviews distribution\n",
    "First of all we look at the distribution of the reviews."
   ]
  },
  {
   "cell_type": "code",
   "execution_count": 66,
   "metadata": {},
   "outputs": [
    {
     "data": {
      "image/png": "[encoded data removed]",
      "text/plain": [
       "<matplotlib.figure.Figure at 0x1f7f93278>"
      ]
     },
     "metadata": {},
     "output_type": "display_data"
    }
   ],
   "source": [
    "review_total = len(review_books_df)\n",
    "distribution = review_books_df.groupby('overall')[['asin']].count()*100/review_total\n",
    "\n",
    "distribution.columns = ['percentage']\n",
    "plt.figure(figsize=(14,5))\n",
    "plt.bar(distribution.index.values, distribution.values, align='center')\n",
    "plt.title('Distribution of ratings')\n",
    "plt.xlabel('Ratings')\n",
    "plt.ylabel('Percentage')\n",
    "plt.grid()\n",
    "plt.show()"
   ]
  },
  {
   "cell_type": "markdown",
   "metadata": {},
   "source": [
    "We see that most of our reviews (65%) have a grade of 5. "
   ]
  },
  {
   "cell_type": "markdown",
   "metadata": {},
   "source": [
    "### Evolution of reviews over time\n",
    "Then we want to observe how review submission change over time, that is show how reviews are distributed over time."
   ]
  },
  {
   "cell_type": "code",
   "execution_count": 67,
   "metadata": {},
   "outputs": [
    {
     "data": {
      "text/html": [
       "<div>\n",
       "<style>\n",
       "    .dataframe thead tr:only-child th {\n",
       "        text-align: right;\n",
       "    }\n",
       "\n",
       "    .dataframe thead th {\n",
       "        text-align: left;\n",
       "    }\n",
       "\n",
       "    .dataframe tbody tr th {\n",
       "        vertical-align: top;\n",
       "    }\n",
       "</style>\n",
       "<table border=\"1\" class=\"dataframe\">\n",
       "  <thead>\n",
       "    <tr style=\"text-align: right;\">\n",
       "      <th></th>\n",
       "      <th>asin</th>\n",
       "      <th>overall</th>\n",
       "      <th>unixReviewTime</th>\n",
       "    </tr>\n",
       "  </thead>\n",
       "  <tbody>\n",
       "    <tr>\n",
       "      <th>4425969</th>\n",
       "      <td>0385260954</td>\n",
       "      <td>5.0</td>\n",
       "      <td>1997-07-20</td>\n",
       "    </tr>\n",
       "    <tr>\n",
       "      <th>4410489</th>\n",
       "      <td>0385006896</td>\n",
       "      <td>5.0</td>\n",
       "      <td>1997-08-12</td>\n",
       "    </tr>\n",
       "    <tr>\n",
       "      <th>2079807</th>\n",
       "      <td>0261103288</td>\n",
       "      <td>5.0</td>\n",
       "      <td>1997-08-15</td>\n",
       "    </tr>\n",
       "    <tr>\n",
       "      <th>7389520</th>\n",
       "      <td>0671016865</td>\n",
       "      <td>5.0</td>\n",
       "      <td>1997-08-16</td>\n",
       "    </tr>\n",
       "    <tr>\n",
       "      <th>1462968</th>\n",
       "      <td>0140440399</td>\n",
       "      <td>4.0</td>\n",
       "      <td>1997-08-17</td>\n",
       "    </tr>\n",
       "  </tbody>\n",
       "</table>\n",
       "</div>"
      ],
      "text/plain": [
       "               asin  overall unixReviewTime\n",
       "4425969  0385260954      5.0     1997-07-20\n",
       "4410489  0385006896      5.0     1997-08-12\n",
       "2079807  0261103288      5.0     1997-08-15\n",
       "7389520  0671016865      5.0     1997-08-16\n",
       "1462968  0140440399      4.0     1997-08-17"
      ]
     },
     "execution_count": 67,
     "metadata": {},
     "output_type": "execute_result"
    }
   ],
   "source": [
    "review_books_df.sort_values(by='unixReviewTime').head()"
   ]
  },
  {
   "cell_type": "code",
   "execution_count": 68,
   "metadata": {},
   "outputs": [
    {
     "data": {
      "text/plain": [
       "2013"
      ]
     },
     "execution_count": 68,
     "metadata": {},
     "output_type": "execute_result"
    }
   ],
   "source": [
    "review_books_df.iloc[0].unixReviewTime.year"
   ]
  },
  {
   "cell_type": "code",
   "execution_count": 69,
   "metadata": {},
   "outputs": [
    {
     "data": {
      "image/png": "[encoded data removed]",
      "text/plain": [
       "<matplotlib.figure.Figure at 0x110c46710>"
      ]
     },
     "metadata": {},
     "output_type": "display_data"
    }
   ],
   "source": [
    "distribution = review_books_df.groupby(review_books_df['unixReviewTime'].apply(\n",
    "    lambda x: x.year)).count() * 100 / review_total\n",
    "\n",
    "plt.figure(figsize=(14, 5))\n",
    "plt.bar(distribution.index.values, distribution['asin'].values, align='center')\n",
    "plt.title('Distribution of reviews')\n",
    "plt.xlabel('Years of publication')\n",
    "plt.ylabel('Percentage')\n",
    "plt.grid()\n",
    "plt.show()"
   ]
  },
  {
   "cell_type": "markdown",
   "metadata": {},
   "source": [
    "One can observe that the reviews have been mostly submitted in the past 10 years."
   ]
  },
  {
   "cell_type": "code",
   "execution_count": 70,
   "metadata": {},
   "outputs": [
    {
     "data": {
      "text/html": [
       "<div>\n",
       "<style>\n",
       "    .dataframe thead tr:only-child th {\n",
       "        text-align: right;\n",
       "    }\n",
       "\n",
       "    .dataframe thead th {\n",
       "        text-align: left;\n",
       "    }\n",
       "\n",
       "    .dataframe tbody tr th {\n",
       "        vertical-align: top;\n",
       "    }\n",
       "</style>\n",
       "<table border=\"1\" class=\"dataframe\">\n",
       "  <thead>\n",
       "    <tr style=\"text-align: right;\">\n",
       "      <th></th>\n",
       "      <th>overall</th>\n",
       "    </tr>\n",
       "    <tr>\n",
       "      <th>unixReviewTime</th>\n",
       "      <th></th>\n",
       "    </tr>\n",
       "  </thead>\n",
       "  <tbody>\n",
       "    <tr>\n",
       "      <th>2010</th>\n",
       "      <td>1.217687</td>\n",
       "    </tr>\n",
       "    <tr>\n",
       "      <th>2011</th>\n",
       "      <td>1.244863</td>\n",
       "    </tr>\n",
       "    <tr>\n",
       "      <th>2012</th>\n",
       "      <td>1.114868</td>\n",
       "    </tr>\n",
       "    <tr>\n",
       "      <th>2013</th>\n",
       "      <td>0.980034</td>\n",
       "    </tr>\n",
       "    <tr>\n",
       "      <th>2014</th>\n",
       "      <td>0.992691</td>\n",
       "    </tr>\n",
       "  </tbody>\n",
       "</table>\n",
       "</div>"
      ],
      "text/plain": [
       "                 overall\n",
       "unixReviewTime          \n",
       "2010            1.217687\n",
       "2011            1.244863\n",
       "2012            1.114868\n",
       "2013            0.980034\n",
       "2014            0.992691"
      ]
     },
     "execution_count": 70,
     "metadata": {},
     "output_type": "execute_result"
    }
   ],
   "source": [
    "distribution_std = review_books_df.groupby(\n",
    "    review_books_df['unixReviewTime'].apply(lambda x: x.year)).std()\n",
    "distribution_count = review_books_df.groupby(\n",
    "    review_books_df['unixReviewTime'].apply(lambda x: x.year)).count()\n",
    "distribution_err = distribution_std\n",
    "\n",
    "for index, row in distribution_std.iterrows():\n",
    "    distribution_err.loc[index].err = 2 * distribution_std.loc[\n",
    "        index].overall / np.sqrt(distribution_count.loc[index].overall)\n",
    "\n",
    "distribution_err.tail()"
   ]
  },
  {
   "cell_type": "code",
   "execution_count": 71,
   "metadata": {},
   "outputs": [
    {
     "data": {
      "image/png": "[encoded data removed]",
      "text/plain": [
       "<matplotlib.figure.Figure at 0x119b24748>"
      ]
     },
     "metadata": {},
     "output_type": "display_data"
    }
   ],
   "source": [
    "distribution = review_books_df.groupby(review_books_df['unixReviewTime'].apply(lambda x: x.year)).mean()\n",
    "\n",
    "plt.figure(figsize=(14,5))\n",
    "plt.plot(distribution.index.values, distribution['overall'].values)\n",
    "axes = plt.gca()\n",
    "axes.set_ylim([0,5])\n",
    "plt.title('Distribution of reviews')\n",
    "plt.xlabel('Years of publication')\n",
    "plt.ylabel('Mean rating')\n",
    "plt.grid()\n",
    "plt.show()"
   ]
  },
  {
   "cell_type": "markdown",
   "metadata": {},
   "source": [
    "We see that the review average stay stable around 4.2 out of 5 over time. "
   ]
  },
  {
   "cell_type": "markdown",
   "metadata": {},
   "source": [
    "## SalesRank and Review correlation analysis"
   ]
  },
  {
   "cell_type": "markdown",
   "metadata": {},
   "source": [
    "Amazon itself doesn’t reveal exactly how the sales rank is calculated, which is why there are only theories and speculation surrounding the method. Sales volume alone is taken into consideration and not other figures such as number of reviews or retail price. In our analysis, we want to see if their is a statistic correlation between sales rank and reviews grade. "
   ]
  },
  {
   "cell_type": "markdown",
   "metadata": {},
   "source": [
    "### Comparison of books together\n",
    "\n",
    "We use the books that are related to a similarity with an other one as to limit our dataset but also and most importantly because those are the one that we use in our analysis later on. In our analysis of books, we take the sales rank of books. "
   ]
  },
  {
   "cell_type": "code",
   "execution_count": 73,
   "metadata": {},
   "outputs": [
    {
     "data": {
      "text/plain": [
       "(1606, 4)"
      ]
     },
     "execution_count": 73,
     "metadata": {},
     "output_type": "execute_result"
    }
   ],
   "source": [
    "meta_books_df = pd.read_pickle('../../Project-Data/dump/meta_Books_asin_title_salesRank_description_imUrl_ALL')\n",
    "very_similar_ASIN = [item for sublist in list(very_similars.values()) for item in sublist]\n",
    "meta_books_df = meta_books_df[['asin', 'description', 'imUrl', 'salesRank_Books', 'title']].set_index('asin').loc[very_similar_ASIN]\n",
    "meta_reviews_df = pd.read_pickle('../../Project-Data/dump/reviews_Books_asin_overall_unixReviewTime_ALL')\n",
    "meta_books_df.shape"
   ]
  },
  {
   "cell_type": "markdown",
   "metadata": {},
   "source": [
    "These 3 books are the best ranked of our dataframe. They have the smaller sales rank."
   ]
  },
  {
   "cell_type": "code",
   "execution_count": 74,
   "metadata": {},
   "outputs": [
    {
     "data": {
      "text/html": [
       "<div>\n",
       "<style>\n",
       "    .dataframe thead tr:only-child th {\n",
       "        text-align: right;\n",
       "    }\n",
       "\n",
       "    .dataframe thead th {\n",
       "        text-align: left;\n",
       "    }\n",
       "\n",
       "    .dataframe tbody tr th {\n",
       "        vertical-align: top;\n",
       "    }\n",
       "</style>\n",
       "<table border=\"1\" class=\"dataframe\">\n",
       "  <thead>\n",
       "    <tr style=\"text-align: right;\">\n",
       "      <th></th>\n",
       "      <th>description</th>\n",
       "      <th>imUrl</th>\n",
       "      <th>salesRank_Books</th>\n",
       "      <th>title</th>\n",
       "    </tr>\n",
       "    <tr>\n",
       "      <th>asin</th>\n",
       "      <th></th>\n",
       "      <th></th>\n",
       "      <th></th>\n",
       "      <th></th>\n",
       "    </tr>\n",
       "  </thead>\n",
       "  <tbody>\n",
       "    <tr>\n",
       "      <th>0385349947</th>\n",
       "      <td>An Amazon Best Book of the Month, March 2013: ...</td>\n",
       "      <td>http://ecx.images-amazon.com/images/I/41TknOCI...</td>\n",
       "      <td>150.0</td>\n",
       "      <td>Lean In: Women, Work, and the Will to Lead</td>\n",
       "    </tr>\n",
       "    <tr>\n",
       "      <th>0761152121</th>\n",
       "      <td>It all started with a baby…and a book. Heidi M...</td>\n",
       "      <td>http://ecx.images-amazon.com/images/I/91bgE5v1...</td>\n",
       "      <td>222.0</td>\n",
       "      <td>What to Expect the First Year, Second Edition</td>\n",
       "    </tr>\n",
       "    <tr>\n",
       "      <th>1889140430</th>\n",
       "      <td>\"An excellent, workable, and supportive resour...</td>\n",
       "      <td>http://ecx.images-amazon.com/images/I/51mngzUN...</td>\n",
       "      <td>252.0</td>\n",
       "      <td>1-2-3 Magic: Effective Discipline for Children...</td>\n",
       "    </tr>\n",
       "  </tbody>\n",
       "</table>\n",
       "</div>"
      ],
      "text/plain": [
       "                                                  description  \\\n",
       "asin                                                            \n",
       "0385349947  An Amazon Best Book of the Month, March 2013: ...   \n",
       "0761152121  It all started with a baby…and a book. Heidi M...   \n",
       "1889140430  \"An excellent, workable, and supportive resour...   \n",
       "\n",
       "                                                        imUrl  \\\n",
       "asin                                                            \n",
       "0385349947  http://ecx.images-amazon.com/images/I/41TknOCI...   \n",
       "0761152121  http://ecx.images-amazon.com/images/I/91bgE5v1...   \n",
       "1889140430  http://ecx.images-amazon.com/images/I/51mngzUN...   \n",
       "\n",
       "            salesRank_Books                                              title  \n",
       "asin                                                                            \n",
       "0385349947            150.0         Lean In: Women, Work, and the Will to Lead  \n",
       "0761152121            222.0      What to Expect the First Year, Second Edition  \n",
       "1889140430            252.0  1-2-3 Magic: Effective Discipline for Children...  "
      ]
     },
     "execution_count": 74,
     "metadata": {},
     "output_type": "execute_result"
    }
   ],
   "source": [
    "meta_books_df.sort_values(by='salesRank_Books').head(3)"
   ]
  },
  {
   "cell_type": "code",
   "execution_count": 75,
   "metadata": {
    "scrolled": true
   },
   "outputs": [
    {
     "data": {
      "text/html": [
       "<div>\n",
       "<style>\n",
       "    .dataframe thead tr:only-child th {\n",
       "        text-align: right;\n",
       "    }\n",
       "\n",
       "    .dataframe thead th {\n",
       "        text-align: left;\n",
       "    }\n",
       "\n",
       "    .dataframe tbody tr th {\n",
       "        vertical-align: top;\n",
       "    }\n",
       "</style>\n",
       "<table border=\"1\" class=\"dataframe\">\n",
       "  <thead>\n",
       "    <tr style=\"text-align: right;\">\n",
       "      <th></th>\n",
       "      <th>asin</th>\n",
       "      <th>overall</th>\n",
       "      <th>unixReviewTime</th>\n",
       "    </tr>\n",
       "  </thead>\n",
       "  <tbody>\n",
       "    <tr>\n",
       "      <th>0</th>\n",
       "      <td>0000000116</td>\n",
       "      <td>4.0</td>\n",
       "      <td>2002-04-27</td>\n",
       "    </tr>\n",
       "    <tr>\n",
       "      <th>1</th>\n",
       "      <td>0000000116</td>\n",
       "      <td>1.0</td>\n",
       "      <td>2014-03-24</td>\n",
       "    </tr>\n",
       "    <tr>\n",
       "      <th>2</th>\n",
       "      <td>0000000868</td>\n",
       "      <td>4.0</td>\n",
       "      <td>2002-09-11</td>\n",
       "    </tr>\n",
       "  </tbody>\n",
       "</table>\n",
       "</div>"
      ],
      "text/plain": [
       "         asin  overall unixReviewTime\n",
       "0  0000000116      4.0     2002-04-27\n",
       "1  0000000116      1.0     2014-03-24\n",
       "2  0000000868      4.0     2002-09-11"
      ]
     },
     "execution_count": 75,
     "metadata": {},
     "output_type": "execute_result"
    }
   ],
   "source": [
    "meta_reviews_df.head(3)"
   ]
  },
  {
   "cell_type": "markdown",
   "metadata": {},
   "source": [
    "We create the dataframe that we want for our analysis. The column are \"asin\", \"salesRank\", \"review_avg\" for the average of review grade for corresponding to the book, \"review_std\" for the standard deviation of reviews and \"review_count\" for the sum of reviews."
   ]
  },
  {
   "cell_type": "code",
   "execution_count": 78,
   "metadata": {
    "collapsed": true
   },
   "outputs": [],
   "source": [
    "dump_path = ANALYSIS_DATA_FOLDER+'books_reviews_df'\n",
    "# We group reviews thanks to their ASIN\n",
    "grouped = meta_reviews_df.groupby('asin')\n",
    "# We compute the average and the number of reviews\n",
    "review_count = meta_reviews_df.groupby('asin').count().reset_index()\n",
    "review_avg = meta_reviews_df.groupby('asin').mean().reset_index()\n",
    "# We merge those two with the metadata of the books\n",
    "df = pd.merge(meta_books_df.reset_index(), review_avg, on='asin')\n",
    "books_reviews_df = pd.merge(df, review_count, on='asin')"
   ]
  },
  {
   "cell_type": "code",
   "execution_count": 80,
   "metadata": {},
   "outputs": [
    {
     "data": {
      "text/html": [
       "<div>\n",
       "<style>\n",
       "    .dataframe thead tr:only-child th {\n",
       "        text-align: right;\n",
       "    }\n",
       "\n",
       "    .dataframe thead th {\n",
       "        text-align: left;\n",
       "    }\n",
       "\n",
       "    .dataframe tbody tr th {\n",
       "        vertical-align: top;\n",
       "    }\n",
       "</style>\n",
       "<table border=\"1\" class=\"dataframe\">\n",
       "  <thead>\n",
       "    <tr style=\"text-align: right;\">\n",
       "      <th></th>\n",
       "      <th>salesRank</th>\n",
       "      <th>review_avg</th>\n",
       "      <th>review_count</th>\n",
       "    </tr>\n",
       "    <tr>\n",
       "      <th>asin</th>\n",
       "      <th></th>\n",
       "      <th></th>\n",
       "      <th></th>\n",
       "    </tr>\n",
       "  </thead>\n",
       "  <tbody>\n",
       "    <tr>\n",
       "      <th>0470178108</th>\n",
       "      <td>404142.0</td>\n",
       "      <td>4.222222</td>\n",
       "      <td>27</td>\n",
       "    </tr>\n",
       "    <tr>\n",
       "      <th>1118396448</th>\n",
       "      <td>305707.0</td>\n",
       "      <td>4.366667</td>\n",
       "      <td>30</td>\n",
       "    </tr>\n",
       "    <tr>\n",
       "      <th>0060266082</th>\n",
       "      <td>1025709.0</td>\n",
       "      <td>4.538462</td>\n",
       "      <td>13</td>\n",
       "    </tr>\n",
       "    <tr>\n",
       "      <th>0761452982</th>\n",
       "      <td>768851.0</td>\n",
       "      <td>4.264706</td>\n",
       "      <td>34</td>\n",
       "    </tr>\n",
       "    <tr>\n",
       "      <th>0060081600</th>\n",
       "      <td>146529.0</td>\n",
       "      <td>4.294026</td>\n",
       "      <td>1289</td>\n",
       "    </tr>\n",
       "  </tbody>\n",
       "</table>\n",
       "</div>"
      ],
      "text/plain": [
       "            salesRank  review_avg  review_count\n",
       "asin                                           \n",
       "0470178108   404142.0    4.222222            27\n",
       "1118396448   305707.0    4.366667            30\n",
       "0060266082  1025709.0    4.538462            13\n",
       "0761452982   768851.0    4.264706            34\n",
       "0060081600   146529.0    4.294026          1289"
      ]
     },
     "execution_count": 80,
     "metadata": {},
     "output_type": "execute_result"
    }
   ],
   "source": [
    "# Then we format the dataframe to have meaningful columns and indices\n",
    "books_reviews_df = books_reviews_df[['asin','salesRank_Books','overall_x','overall_y']]\n",
    "books_reviews_df.columns = ['asin','salesRank','review_avg','review_count']\n",
    "books_reviews_df.set_index('asin',inplace=True)\n",
    "books_reviews_df.head()"
   ]
  },
  {
   "cell_type": "code",
   "execution_count": 81,
   "metadata": {},
   "outputs": [
    {
     "data": {
      "text/html": [
       "<div>\n",
       "<style>\n",
       "    .dataframe thead tr:only-child th {\n",
       "        text-align: right;\n",
       "    }\n",
       "\n",
       "    .dataframe thead th {\n",
       "        text-align: left;\n",
       "    }\n",
       "\n",
       "    .dataframe tbody tr th {\n",
       "        vertical-align: top;\n",
       "    }\n",
       "</style>\n",
       "<table border=\"1\" class=\"dataframe\">\n",
       "  <thead>\n",
       "    <tr style=\"text-align: right;\">\n",
       "      <th></th>\n",
       "      <th>salesRank</th>\n",
       "      <th>review_avg</th>\n",
       "      <th>review_count</th>\n",
       "    </tr>\n",
       "    <tr>\n",
       "      <th>asin</th>\n",
       "      <th></th>\n",
       "      <th></th>\n",
       "      <th></th>\n",
       "    </tr>\n",
       "  </thead>\n",
       "  <tbody>\n",
       "    <tr>\n",
       "      <th>0385349947</th>\n",
       "      <td>150.0</td>\n",
       "      <td>4.338917</td>\n",
       "      <td>1791</td>\n",
       "    </tr>\n",
       "    <tr>\n",
       "      <th>0761152121</th>\n",
       "      <td>222.0</td>\n",
       "      <td>4.342365</td>\n",
       "      <td>406</td>\n",
       "    </tr>\n",
       "    <tr>\n",
       "      <th>1889140430</th>\n",
       "      <td>252.0</td>\n",
       "      <td>4.395770</td>\n",
       "      <td>331</td>\n",
       "    </tr>\n",
       "  </tbody>\n",
       "</table>\n",
       "</div>"
      ],
      "text/plain": [
       "            salesRank  review_avg  review_count\n",
       "asin                                           \n",
       "0385349947      150.0    4.338917          1791\n",
       "0761152121      222.0    4.342365           406\n",
       "1889140430      252.0    4.395770           331"
      ]
     },
     "execution_count": 81,
     "metadata": {},
     "output_type": "execute_result"
    }
   ],
   "source": [
    "books_reviews_df.sort_values(by='salesRank').head(3)"
   ]
  },
  {
   "cell_type": "markdown",
   "metadata": {},
   "source": [
    "We plot our datas to see if we can observe trends."
   ]
  },
  {
   "cell_type": "code",
   "execution_count": 82,
   "metadata": {},
   "outputs": [
    {
     "data": {
      "image/png": "[encoded data removed]",
      "text/plain": [
       "<matplotlib.figure.Figure at 0x2ab29e2b0>"
      ]
     },
     "metadata": {},
     "output_type": "display_data"
    }
   ],
   "source": [
    "plt.figure(figsize=(14,5))\n",
    "plt.plot(books_reviews_df.review_avg.values, books_reviews_df.salesRank.values, 'o')\n",
    "axes = plt.gca()\n",
    "axes.set_ylim([0,5000000])\n",
    "plt.title('Correlation between review and sales rank')\n",
    "plt.xlabel('Review average grade')\n",
    "plt.ylabel('SalesRank')\n",
    "plt.grid()\n",
    "plt.show()"
   ]
  },
  {
   "cell_type": "code",
   "execution_count": 84,
   "metadata": {},
   "outputs": [
    {
     "data": {
      "image/png": "[encoded data removed]",
      "text/plain": [
       "<matplotlib.figure.Figure at 0x2a5671dd8>"
      ]
     },
     "metadata": {},
     "output_type": "display_data"
    }
   ],
   "source": [
    "plt.figure(figsize=(14,5))\n",
    "plt.plot(books_reviews_df.review_count.values, books_reviews_df.salesRank.values, 'o')\n",
    "axes = plt.gca()\n",
    "axes.set_ylim([0,5000000])\n",
    "axes.set_xlim([0,2000])\n",
    "plt.title('Correlation between review and sales rank')\n",
    "plt.xlabel('Number of reviews')\n",
    "plt.ylabel('SalesRank')\n",
    "plt.grid()\n",
    "plt.show()"
   ]
  },
  {
   "cell_type": "markdown",
   "metadata": {},
   "source": [
    "We see with these 3 plots that there is no correlation between review grade or review variance and sales rank. We see a correlation between review quantity and sales rank. Following these observations we can say that:\n",
    "- a book which has bad reviews can have a good sales rank because many people have bought it at a given time. \n",
    "- a book which has a big standard deviation representing a big difference between reviews can have a good sales rank.\n",
    "- a book which has a lot of reviews is more likely to have a good sales rank. As more sales mean more review, more review involve more sales. \n",
    "\n",
    "To have a better view of the impacts of sales rank, we decide to use our work on book similarity. We want to compare the books sales rank of two similar books and see how reviews may influence that difference. "
   ]
  },
  {
   "cell_type": "markdown",
   "metadata": {},
   "source": [
    "## Price and Review correlation analysis\n",
    "\n",
    "As we cover the sales rank correlation analysis with reviews, we perform an analysis about book prices. \n",
    "\n",
    "### Comparison of books together\n",
    "\n",
    "We decide this time to take a part of all the dataset to perform our analysis between books together. Price and Review correlation analysis"
   ]
  },
  {
   "cell_type": "code",
   "execution_count": 87,
   "metadata": {},
   "outputs": [
    {
     "name": "stdout",
     "output_type": "stream",
     "text": [
      "Paths : \n",
      "\t meta = ../../Project-Data-corrected/meta/meta_Books.json\n",
      "\t review = ../../Project-Data-corrected/reviews/reviews_Books.json\n",
      "\t core_path = ../../Project-Data-corrected/5_core/Books.json\n"
     ]
    }
   ],
   "source": [
    "meta_books_path, review_books_path, core_book_path = get_paths(0, DATA_FOLDER, META_FOLDER,CORE_FOLDER,REVIEWS_FOLDER, CATEGORIES)"
   ]
  },
  {
   "cell_type": "code",
   "execution_count": 88,
   "metadata": {},
   "outputs": [
    {
     "name": "stdout",
     "output_type": "stream",
     "text": [
      "Retrieving from : ../../Project-Data-corrected/dump/meta_Books__ALL\n",
      "It took 00:00:31.668 to import the data.\n"
     ]
    }
   ],
   "source": [
    "meta_books = import_interesting_cols(meta_books_path,DUMP_FOLDER,True,[],max_count=MAXCOUNT)"
   ]
  },
  {
   "cell_type": "code",
   "execution_count": 89,
   "metadata": {},
   "outputs": [
    {
     "data": {
      "text/html": [
       "<div>\n",
       "<style>\n",
       "    .dataframe thead tr:only-child th {\n",
       "        text-align: right;\n",
       "    }\n",
       "\n",
       "    .dataframe thead th {\n",
       "        text-align: left;\n",
       "    }\n",
       "\n",
       "    .dataframe tbody tr th {\n",
       "        vertical-align: top;\n",
       "    }\n",
       "</style>\n",
       "<table border=\"1\" class=\"dataframe\">\n",
       "  <thead>\n",
       "    <tr style=\"text-align: right;\">\n",
       "      <th></th>\n",
       "      <th>asin</th>\n",
       "      <th>brand</th>\n",
       "      <th>categories</th>\n",
       "      <th>description</th>\n",
       "      <th>imUrl</th>\n",
       "      <th>price</th>\n",
       "      <th>related</th>\n",
       "      <th>salesRank_Arts,_Crafts_&amp;_Sewing</th>\n",
       "      <th>salesRank_Books</th>\n",
       "      <th>salesRank_Cell_Phones_&amp;_Accessories</th>\n",
       "      <th>...</th>\n",
       "      <th>salesRank_Jewelry</th>\n",
       "      <th>salesRank_Kitchen_&amp;_Dining</th>\n",
       "      <th>salesRank_Movies_&amp;_TV</th>\n",
       "      <th>salesRank_Music</th>\n",
       "      <th>salesRank_Musical_Instruments</th>\n",
       "      <th>salesRank_Office_Products</th>\n",
       "      <th>salesRank_Shoes</th>\n",
       "      <th>salesRank_Sports_&amp;_Outdoors</th>\n",
       "      <th>salesRank_Toys_&amp;_Games</th>\n",
       "      <th>title</th>\n",
       "    </tr>\n",
       "  </thead>\n",
       "  <tbody>\n",
       "    <tr>\n",
       "      <th>0</th>\n",
       "      <td>0001048791</td>\n",
       "      <td>NaN</td>\n",
       "      <td>[Books]</td>\n",
       "      <td>NaN</td>\n",
       "      <td>http://ecx.images-amazon.com/images/I/51MKP0T4...</td>\n",
       "      <td>NaN</td>\n",
       "      <td>NaN</td>\n",
       "      <td>NaN</td>\n",
       "      <td>6334800.0</td>\n",
       "      <td>NaN</td>\n",
       "      <td>...</td>\n",
       "      <td>NaN</td>\n",
       "      <td>NaN</td>\n",
       "      <td>NaN</td>\n",
       "      <td>NaN</td>\n",
       "      <td>NaN</td>\n",
       "      <td>NaN</td>\n",
       "      <td>NaN</td>\n",
       "      <td>NaN</td>\n",
       "      <td>NaN</td>\n",
       "      <td>The Crucible: Performed by Stuart Pankin, Jero...</td>\n",
       "    </tr>\n",
       "  </tbody>\n",
       "</table>\n",
       "<p>1 rows × 25 columns</p>\n",
       "</div>"
      ],
      "text/plain": [
       "         asin brand categories description  \\\n",
       "0  0001048791   NaN    [Books]         NaN   \n",
       "\n",
       "                                               imUrl  price related  \\\n",
       "0  http://ecx.images-amazon.com/images/I/51MKP0T4...    NaN     NaN   \n",
       "\n",
       "   salesRank_Arts,_Crafts_&_Sewing  salesRank_Books  \\\n",
       "0                              NaN        6334800.0   \n",
       "\n",
       "   salesRank_Cell_Phones_&_Accessories  \\\n",
       "0                                  NaN   \n",
       "\n",
       "                         ...                          salesRank_Jewelry  \\\n",
       "0                        ...                                        NaN   \n",
       "\n",
       "   salesRank_Kitchen_&_Dining  salesRank_Movies_&_TV  salesRank_Music  \\\n",
       "0                         NaN                    NaN              NaN   \n",
       "\n",
       "   salesRank_Musical_Instruments  salesRank_Office_Products  salesRank_Shoes  \\\n",
       "0                            NaN                        NaN              NaN   \n",
       "\n",
       "   salesRank_Sports_&_Outdoors  salesRank_Toys_&_Games  \\\n",
       "0                          NaN                     NaN   \n",
       "\n",
       "                                               title  \n",
       "0  The Crucible: Performed by Stuart Pankin, Jero...  \n",
       "\n",
       "[1 rows x 25 columns]"
      ]
     },
     "execution_count": 89,
     "metadata": {},
     "output_type": "execute_result"
    }
   ],
   "source": [
    "meta_books.head(1)"
   ]
  },
  {
   "cell_type": "code",
   "execution_count": 90,
   "metadata": {},
   "outputs": [
    {
     "data": {
      "text/plain": [
       "['asin',\n",
       " 'brand',\n",
       " 'categories',\n",
       " 'description',\n",
       " 'imUrl',\n",
       " 'price',\n",
       " 'related',\n",
       " 'salesRank_Arts,_Crafts_&_Sewing',\n",
       " 'salesRank_Books',\n",
       " 'salesRank_Cell_Phones_&_Accessories',\n",
       " 'salesRank_Clothing',\n",
       " 'salesRank_Electronics',\n",
       " 'salesRank_Health_&_Personal_Care',\n",
       " 'salesRank_Home_&_Kitchen',\n",
       " 'salesRank_Industrial_&_Scientific',\n",
       " 'salesRank_Jewelry',\n",
       " 'salesRank_Kitchen_&_Dining',\n",
       " 'salesRank_Movies_&_TV',\n",
       " 'salesRank_Music',\n",
       " 'salesRank_Musical_Instruments',\n",
       " 'salesRank_Office_Products',\n",
       " 'salesRank_Shoes',\n",
       " 'salesRank_Sports_&_Outdoors',\n",
       " 'salesRank_Toys_&_Games',\n",
       " 'title']"
      ]
     },
     "execution_count": 90,
     "metadata": {},
     "output_type": "execute_result"
    }
   ],
   "source": [
    "list(meta_books)"
   ]
  },
  {
   "cell_type": "code",
   "execution_count": 91,
   "metadata": {},
   "outputs": [
    {
     "data": {
      "text/plain": [
       "(2370585, 25)"
      ]
     },
     "execution_count": 91,
     "metadata": {},
     "output_type": "execute_result"
    }
   ],
   "source": [
    "meta_books.shape"
   ]
  },
  {
   "cell_type": "markdown",
   "metadata": {},
   "source": [
    "We want to know if there is a correlation between book price and reviews. For the reviews, we will use the average, the standard deviation and the quantity for each book. \n",
    "\n",
    "We see that the price is not available for each books. We will not use books without price for our analysis. We create the dataframe that we want for our analysis with column are \"asin\", \"price\", \"review_avg\", \"review_count\"."
   ]
  },
  {
   "cell_type": "code",
   "execution_count": 92,
   "metadata": {
    "collapsed": true
   },
   "outputs": [],
   "source": [
    "dump_path = ANALYSIS_DATA_FOLDER + 'books_price_reviews'\n",
    "# We group reviews thanks to their ASIN\n",
    "grouped = meta_reviews_df.groupby('asin')\n",
    "# We compute the average and the number of reviews\n",
    "review_count = meta_reviews_df.groupby('asin').count().reset_index()\n",
    "review_avg = meta_reviews_df.groupby('asin').mean().reset_index()\n",
    "# We merge those two with the metadata of the books\n",
    "df = pd.merge(meta_books.reset_index(), review_avg, on='asin')\n",
    "books_price_reviews_df = pd.merge(df, review_count, on='asin')\n",
    "books_price_reviews_df = books_price_reviews_df[books_price_reviews_df['price'].notnull()]"
   ]
  },
  {
   "cell_type": "code",
   "execution_count": 94,
   "metadata": {},
   "outputs": [
    {
     "data": {
      "text/html": [
       "<div>\n",
       "<style>\n",
       "    .dataframe thead tr:only-child th {\n",
       "        text-align: right;\n",
       "    }\n",
       "\n",
       "    .dataframe thead th {\n",
       "        text-align: left;\n",
       "    }\n",
       "\n",
       "    .dataframe tbody tr th {\n",
       "        vertical-align: top;\n",
       "    }\n",
       "</style>\n",
       "<table border=\"1\" class=\"dataframe\">\n",
       "  <thead>\n",
       "    <tr style=\"text-align: right;\">\n",
       "      <th></th>\n",
       "      <th>salesRank</th>\n",
       "      <th>review_avg</th>\n",
       "      <th>review_count</th>\n",
       "      <th>price</th>\n",
       "    </tr>\n",
       "    <tr>\n",
       "      <th>asin</th>\n",
       "      <th></th>\n",
       "      <th></th>\n",
       "      <th></th>\n",
       "      <th></th>\n",
       "    </tr>\n",
       "  </thead>\n",
       "  <tbody>\n",
       "    <tr>\n",
       "      <th>0001048236</th>\n",
       "      <td>8973864.0</td>\n",
       "      <td>5.0</td>\n",
       "      <td>1</td>\n",
       "      <td>9.26</td>\n",
       "    </tr>\n",
       "    <tr>\n",
       "      <th>0001019880</th>\n",
       "      <td>9589258.0</td>\n",
       "      <td>5.0</td>\n",
       "      <td>2</td>\n",
       "      <td>5.39</td>\n",
       "    </tr>\n",
       "    <tr>\n",
       "      <th>0001053396</th>\n",
       "      <td>12249714.0</td>\n",
       "      <td>4.0</td>\n",
       "      <td>1</td>\n",
       "      <td>17.99</td>\n",
       "    </tr>\n",
       "    <tr>\n",
       "      <th>0000913154</th>\n",
       "      <td>455782.0</td>\n",
       "      <td>5.0</td>\n",
       "      <td>8</td>\n",
       "      <td>23.26</td>\n",
       "    </tr>\n",
       "    <tr>\n",
       "      <th>0001053744</th>\n",
       "      <td>5665835.0</td>\n",
       "      <td>5.0</td>\n",
       "      <td>1</td>\n",
       "      <td>6.05</td>\n",
       "    </tr>\n",
       "  </tbody>\n",
       "</table>\n",
       "</div>"
      ],
      "text/plain": [
       "             salesRank  review_avg  review_count  price\n",
       "asin                                                   \n",
       "0001048236   8973864.0         5.0             1   9.26\n",
       "0001019880   9589258.0         5.0             2   5.39\n",
       "0001053396  12249714.0         4.0             1  17.99\n",
       "0000913154    455782.0         5.0             8  23.26\n",
       "0001053744   5665835.0         5.0             1   6.05"
      ]
     },
     "execution_count": 94,
     "metadata": {},
     "output_type": "execute_result"
    }
   ],
   "source": [
    "# Then we format the dataframe to have meaningful columns and indices\n",
    "books_price_reviews_df = books_price_reviews_df[['asin','salesRank_Books','overall_x','overall_y','price']]\n",
    "books_price_reviews_df.columns = ['asin','salesRank','review_avg','review_count','price']\n",
    "books_price_reviews_df.set_index('asin',inplace=True)\n",
    "books_price_reviews_df.head()"
   ]
  },
  {
   "cell_type": "markdown",
   "metadata": {},
   "source": [
    "This are the 3 most expensives books from our selection."
   ]
  },
  {
   "cell_type": "code",
   "execution_count": 95,
   "metadata": {},
   "outputs": [
    {
     "data": {
      "text/html": [
       "<div>\n",
       "<style>\n",
       "    .dataframe thead tr:only-child th {\n",
       "        text-align: right;\n",
       "    }\n",
       "\n",
       "    .dataframe thead th {\n",
       "        text-align: left;\n",
       "    }\n",
       "\n",
       "    .dataframe tbody tr th {\n",
       "        vertical-align: top;\n",
       "    }\n",
       "</style>\n",
       "<table border=\"1\" class=\"dataframe\">\n",
       "  <thead>\n",
       "    <tr style=\"text-align: right;\">\n",
       "      <th></th>\n",
       "      <th>salesRank</th>\n",
       "      <th>review_avg</th>\n",
       "      <th>review_count</th>\n",
       "      <th>price</th>\n",
       "    </tr>\n",
       "    <tr>\n",
       "      <th>asin</th>\n",
       "      <th></th>\n",
       "      <th></th>\n",
       "      <th></th>\n",
       "      <th></th>\n",
       "    </tr>\n",
       "  </thead>\n",
       "  <tbody>\n",
       "    <tr>\n",
       "      <th>B000Q02QVK</th>\n",
       "      <td>1762034.0</td>\n",
       "      <td>5.0</td>\n",
       "      <td>2</td>\n",
       "      <td>999.99</td>\n",
       "    </tr>\n",
       "    <tr>\n",
       "      <th>B007O0Z996</th>\n",
       "      <td>NaN</td>\n",
       "      <td>4.0</td>\n",
       "      <td>3</td>\n",
       "      <td>999.00</td>\n",
       "    </tr>\n",
       "    <tr>\n",
       "      <th>1460987241</th>\n",
       "      <td>11230757.0</td>\n",
       "      <td>1.0</td>\n",
       "      <td>1</td>\n",
       "      <td>999.00</td>\n",
       "    </tr>\n",
       "  </tbody>\n",
       "</table>\n",
       "</div>"
      ],
      "text/plain": [
       "             salesRank  review_avg  review_count   price\n",
       "asin                                                    \n",
       "B000Q02QVK   1762034.0         5.0             2  999.99\n",
       "B007O0Z996         NaN         4.0             3  999.00\n",
       "1460987241  11230757.0         1.0             1  999.00"
      ]
     },
     "execution_count": 95,
     "metadata": {},
     "output_type": "execute_result"
    }
   ],
   "source": [
    "books_price_reviews_df.sort_values(by='price',ascending=False).head(3)"
   ]
  },
  {
   "cell_type": "code",
   "execution_count": 96,
   "metadata": {},
   "outputs": [
    {
     "data": {
      "image/png": "[encoded data removed]",
      "text/plain": [
       "<matplotlib.figure.Figure at 0x11c1c4c88>"
      ]
     },
     "metadata": {},
     "output_type": "display_data"
    }
   ],
   "source": [
    "plt.figure(figsize=(14,5))\n",
    "plt.plot(books_price_reviews_df.review_avg.values, books_price_reviews_df.price.values, 'o')\n",
    "axes = plt.gca()\n",
    "plt.title('Correlation between review and price')\n",
    "plt.xlabel('Review average grade')\n",
    "plt.ylabel('Price')\n",
    "plt.grid()\n",
    "plt.show()"
   ]
  },
  {
   "cell_type": "markdown",
   "metadata": {},
   "source": [
    "We observe these 3 plots and see if we can see a correlation between reviews and price. Following these observations we can say that:\n",
    "- even if we see a small trend to say that an expensive book lead to good review, this trend is not enough to conclude a correlation between review average grade and price.\n",
    "- a book which has a big standard deviation in its reviews, representing a big difference between reviews can be cheap or expensive.\n",
    "- a book which has a lot of reviews is more likely to have a low price. This is linked to the sales rank explored before. A low price lead a better sales rank and then more reviews. \n",
    "\n",
    "To have a better view of the impacts of price, we decide to use our work on book similarity. We want to compare the books price of two similar books and see how reviews may influence that difference. "
   ]
  },
  {
   "cell_type": "markdown",
   "metadata": {},
   "source": [
    "# Herding Effect Analysis\n",
    "Now that we have seen that it is hard to show conclusive results regarding reviews and other product characteristics (price, sales rank, ...). We want to study how the first review influence the others. "
   ]
  },
  {
   "cell_type": "code",
   "execution_count": 99,
   "metadata": {
    "collapsed": true
   },
   "outputs": [],
   "source": [
    "# import the data stored from the matching step \n",
    "books_df = pd.read_pickle(ANALYSIS_DATA_FOLDER + 'books')\n",
    "review_books_df = pd.read_pickle(ANALYSIS_DATA_FOLDER + 'review_books')\n",
    "with open(ANALYSIS_DATA_FOLDER + 'very_similars', 'rb') as handle:\n",
    "    very_similars = pickle.load(handle)"
   ]
  },
  {
   "cell_type": "markdown",
   "metadata": {},
   "source": [
    "## Pre-analysis"
   ]
  },
  {
   "cell_type": "markdown",
   "metadata": {},
   "source": [
    "Before going any further in the herding effect analysis, this very first step is focused on gathering the data from the matching and categorize each pair of similar book into different categories that are going to be used in our futur analysis."
   ]
  },
  {
   "cell_type": "markdown",
   "metadata": {},
   "source": [
    "As a starting point, we will add a first_review_overall column in our books_df. It will contain the first rating of this particular book."
   ]
  },
  {
   "cell_type": "code",
   "execution_count": 104,
   "metadata": {},
   "outputs": [],
   "source": [
    "# we add to each books his first review overall rating\n",
    "books_df = books_df.set_index('asin')\n",
    "books_df['first_review_overall'] = books_df.apply(lambda x: return_first_review_overall(x, review_books_df), 1)"
   ]
  },
  {
   "cell_type": "markdown",
   "metadata": {},
   "source": [
    "Then for the needs of our analysis, we need to split our data in different category according to their first review overall. Some will be categorized as High first review (H), some will be categorized as Low first review (L). We also tried different combination of H and L with different treshold. Later we also introduce a (M) level or medium first review rating."
   ]
  },
  {
   "cell_type": "markdown",
   "metadata": {},
   "source": [
    "For now let's create a matching_df that contains every possible pair matched from previous matching step with every possible combination."
   ]
  },
  {
   "cell_type": "code",
   "execution_count": 106,
   "metadata": {},
   "outputs": [
    {
     "data": {
      "text/html": [
       "<div>\n",
       "<style>\n",
       "    .dataframe thead tr:only-child th {\n",
       "        text-align: right;\n",
       "    }\n",
       "\n",
       "    .dataframe thead th {\n",
       "        text-align: left;\n",
       "    }\n",
       "\n",
       "    .dataframe tbody tr th {\n",
       "        vertical-align: top;\n",
       "    }\n",
       "</style>\n",
       "<table border=\"1\" class=\"dataframe\">\n",
       "  <thead>\n",
       "    <tr style=\"text-align: right;\">\n",
       "      <th></th>\n",
       "      <th>asin_1</th>\n",
       "      <th>asin_2</th>\n",
       "    </tr>\n",
       "  </thead>\n",
       "  <tbody>\n",
       "    <tr>\n",
       "      <th>0</th>\n",
       "      <td>0470178108</td>\n",
       "      <td>1118396448</td>\n",
       "    </tr>\n",
       "    <tr>\n",
       "      <th>1</th>\n",
       "      <td>0060266082</td>\n",
       "      <td>0761452982</td>\n",
       "    </tr>\n",
       "    <tr>\n",
       "      <th>2</th>\n",
       "      <td>0060266082</td>\n",
       "      <td>0060081600</td>\n",
       "    </tr>\n",
       "    <tr>\n",
       "      <th>3</th>\n",
       "      <td>0761452982</td>\n",
       "      <td>0060081600</td>\n",
       "    </tr>\n",
       "    <tr>\n",
       "      <th>4</th>\n",
       "      <td>0394741048</td>\n",
       "      <td>1577311558</td>\n",
       "    </tr>\n",
       "  </tbody>\n",
       "</table>\n",
       "</div>"
      ],
      "text/plain": [
       "       asin_1      asin_2\n",
       "0  0470178108  1118396448\n",
       "1  0060266082  0761452982\n",
       "2  0060266082  0060081600\n",
       "3  0761452982  0060081600\n",
       "4  0394741048  1577311558"
      ]
     },
     "execution_count": 106,
     "metadata": {},
     "output_type": "execute_result"
    }
   ],
   "source": [
    "# create a flat matching DF with every unique possible pair including combination\n",
    "matching_df = pd.DataFrame(columns=['asin_1', 'asin_2'])\n",
    "for similar_bins in very_similars.values():\n",
    "    for asin1,asin2 in itertools.combinations(similar_bins, 2):\n",
    "        matching_df = matching_df.append({'asin_1': asin1, 'asin_2': asin2}, ignore_index=True)\n",
    "matching_df.head()"
   ]
  },
  {
   "cell_type": "markdown",
   "metadata": {},
   "source": [
    "#### H/L Categorization"
   ]
  },
  {
   "cell_type": "markdown",
   "metadata": {},
   "source": [
    "We will add to this df a type column that will tell us which kind of pair each matching row correspond to (HH, HL, LH, LL ..). the treshold is defined in the return_category_from_value_HL function and in this specific case will categorize each value between 4 and 5 as high (H) and every other value as low (L). *We decided to chose such bound arbitrarly even if it doesn't yield balanced classes because it didn't seem that intuitive to have a 4 be classified as a low grade*"
   ]
  },
  {
   "cell_type": "code",
   "execution_count": 107,
   "metadata": {},
   "outputs": [
    {
     "data": {
      "text/html": [
       "<div>\n",
       "<style>\n",
       "    .dataframe thead tr:only-child th {\n",
       "        text-align: right;\n",
       "    }\n",
       "\n",
       "    .dataframe thead th {\n",
       "        text-align: left;\n",
       "    }\n",
       "\n",
       "    .dataframe tbody tr th {\n",
       "        vertical-align: top;\n",
       "    }\n",
       "</style>\n",
       "<table border=\"1\" class=\"dataframe\">\n",
       "  <thead>\n",
       "    <tr style=\"text-align: right;\">\n",
       "      <th></th>\n",
       "      <th>asin_1</th>\n",
       "      <th>asin_2</th>\n",
       "    </tr>\n",
       "    <tr>\n",
       "      <th>type</th>\n",
       "      <th></th>\n",
       "      <th></th>\n",
       "    </tr>\n",
       "  </thead>\n",
       "  <tbody>\n",
       "    <tr>\n",
       "      <th>HH</th>\n",
       "      <td>649</td>\n",
       "      <td>649</td>\n",
       "    </tr>\n",
       "    <tr>\n",
       "      <th>HL</th>\n",
       "      <td>107</td>\n",
       "      <td>107</td>\n",
       "    </tr>\n",
       "    <tr>\n",
       "      <th>LH</th>\n",
       "      <td>103</td>\n",
       "      <td>103</td>\n",
       "    </tr>\n",
       "    <tr>\n",
       "      <th>LL</th>\n",
       "      <td>23</td>\n",
       "      <td>23</td>\n",
       "    </tr>\n",
       "  </tbody>\n",
       "</table>\n",
       "</div>"
      ],
      "text/plain": [
       "      asin_1  asin_2\n",
       "type                \n",
       "HH       649     649\n",
       "HL       107     107\n",
       "LH       103     103\n",
       "LL        23      23"
      ]
     },
     "execution_count": 107,
     "metadata": {},
     "output_type": "execute_result"
    }
   ],
   "source": [
    "matching_df['type'] = matching_df.apply(lambda x: categorize_pair(x, return_category_from_value_HL, books_df), axis=1)\n",
    "matching_df.groupby('type').count()"
   ]
  },
  {
   "cell_type": "markdown",
   "metadata": {},
   "source": [
    "Unsurprinsigly we have a very high number of HH as the dataset is mostly composed of 5 stars rating (see review rating analysis). The number of data in the HL / LH category is decent for pursuing our analysis by simply agregating the 2 class. We can do that as the books are both coming from the same site and is supposed to be totally equivalent to the other one. We also notice a surprisingly low number of data in the LL group with only 23 value. We will not be able to use this group in our analysis.\n",
    "\n",
    "As discussed just above we can simply aggregate the LH and HL category. To do so we simply swap the value between the 2 cols in the LH group and rename the corresponding type."
   ]
  },
  {
   "cell_type": "code",
   "execution_count": 108,
   "metadata": {},
   "outputs": [
    {
     "data": {
      "text/html": [
       "<div>\n",
       "<style>\n",
       "    .dataframe thead tr:only-child th {\n",
       "        text-align: right;\n",
       "    }\n",
       "\n",
       "    .dataframe thead th {\n",
       "        text-align: left;\n",
       "    }\n",
       "\n",
       "    .dataframe tbody tr th {\n",
       "        vertical-align: top;\n",
       "    }\n",
       "</style>\n",
       "<table border=\"1\" class=\"dataframe\">\n",
       "  <thead>\n",
       "    <tr style=\"text-align: right;\">\n",
       "      <th></th>\n",
       "      <th>asin_1</th>\n",
       "      <th>asin_2</th>\n",
       "    </tr>\n",
       "    <tr>\n",
       "      <th>type</th>\n",
       "      <th></th>\n",
       "      <th></th>\n",
       "    </tr>\n",
       "  </thead>\n",
       "  <tbody>\n",
       "    <tr>\n",
       "      <th>HH</th>\n",
       "      <td>649</td>\n",
       "      <td>649</td>\n",
       "    </tr>\n",
       "    <tr>\n",
       "      <th>HL</th>\n",
       "      <td>210</td>\n",
       "      <td>210</td>\n",
       "    </tr>\n",
       "    <tr>\n",
       "      <th>LL</th>\n",
       "      <td>23</td>\n",
       "      <td>23</td>\n",
       "    </tr>\n",
       "  </tbody>\n",
       "</table>\n",
       "</div>"
      ],
      "text/plain": [
       "      asin_1  asin_2\n",
       "type                \n",
       "HH       649     649\n",
       "HL       210     210\n",
       "LL        23      23"
      ]
     },
     "execution_count": 108,
     "metadata": {},
     "output_type": "execute_result"
    }
   ],
   "source": [
    "matching_df[matching_df.type == \"LH\"] = matching_df.query('type == \"LH\"').reindex(columns=['asin_2', 'asin_1', 'type'])\n",
    "matching_df.loc[matching_df.type == \"LH\", \"type\"] = \"HL\"\n",
    "matching_df.groupby('type').count()"
   ]
  },
  {
   "cell_type": "markdown",
   "metadata": {},
   "source": [
    "Those numbers for the HH, and HL categories are enough to pursue our analysis but after analysing the rating on the whole dataset we assumed that adding a medium category could be benificial in our analysis. It would allow us to have more groups to work on and we would be able to more easely confirm our result."
   ]
  },
  {
   "cell_type": "markdown",
   "metadata": {},
   "source": [
    "#### H/M/L Categorization"
   ]
  },
  {
   "cell_type": "markdown",
   "metadata": {},
   "source": [
    "Here we will repeat the exact same procedure this time with 3 categories H, M and L with threshold defined according to our overall rating analysis as H=5, M=4, L=[1-3]."
   ]
  },
  {
   "cell_type": "code",
   "execution_count": 109,
   "metadata": {},
   "outputs": [
    {
     "data": {
      "text/html": [
       "<div>\n",
       "<style>\n",
       "    .dataframe thead tr:only-child th {\n",
       "        text-align: right;\n",
       "    }\n",
       "\n",
       "    .dataframe thead th {\n",
       "        text-align: left;\n",
       "    }\n",
       "\n",
       "    .dataframe tbody tr th {\n",
       "        vertical-align: top;\n",
       "    }\n",
       "</style>\n",
       "<table border=\"1\" class=\"dataframe\">\n",
       "  <thead>\n",
       "    <tr style=\"text-align: right;\">\n",
       "      <th></th>\n",
       "      <th>asin_1</th>\n",
       "      <th>asin_2</th>\n",
       "    </tr>\n",
       "    <tr>\n",
       "      <th>type</th>\n",
       "      <th></th>\n",
       "      <th></th>\n",
       "    </tr>\n",
       "  </thead>\n",
       "  <tbody>\n",
       "    <tr>\n",
       "      <th>HH</th>\n",
       "      <td>433</td>\n",
       "      <td>433</td>\n",
       "    </tr>\n",
       "    <tr>\n",
       "      <th>HL</th>\n",
       "      <td>161</td>\n",
       "      <td>161</td>\n",
       "    </tr>\n",
       "    <tr>\n",
       "      <th>HM</th>\n",
       "      <td>105</td>\n",
       "      <td>105</td>\n",
       "    </tr>\n",
       "    <tr>\n",
       "      <th>LL</th>\n",
       "      <td>23</td>\n",
       "      <td>23</td>\n",
       "    </tr>\n",
       "    <tr>\n",
       "      <th>MH</th>\n",
       "      <td>84</td>\n",
       "      <td>84</td>\n",
       "    </tr>\n",
       "    <tr>\n",
       "      <th>ML</th>\n",
       "      <td>49</td>\n",
       "      <td>49</td>\n",
       "    </tr>\n",
       "    <tr>\n",
       "      <th>MM</th>\n",
       "      <td>27</td>\n",
       "      <td>27</td>\n",
       "    </tr>\n",
       "  </tbody>\n",
       "</table>\n",
       "</div>"
      ],
      "text/plain": [
       "      asin_1  asin_2\n",
       "type                \n",
       "HH       433     433\n",
       "HL       161     161\n",
       "HM       105     105\n",
       "LL        23      23\n",
       "MH        84      84\n",
       "ML        49      49\n",
       "MM        27      27"
      ]
     },
     "execution_count": 109,
     "metadata": {},
     "output_type": "execute_result"
    }
   ],
   "source": [
    "matching_df['type'] = matching_df.apply(lambda x: categorize_pair(x, return_category_from_value_HML, books_df), axis=1)\n",
    "matching_df.groupby('type').count()"
   ]
  },
  {
   "cell_type": "markdown",
   "metadata": {},
   "source": [
    "And similarly as above we will aggregate our groups."
   ]
  },
  {
   "cell_type": "code",
   "execution_count": 110,
   "metadata": {},
   "outputs": [
    {
     "data": {
      "text/html": [
       "<div>\n",
       "<style>\n",
       "    .dataframe thead tr:only-child th {\n",
       "        text-align: right;\n",
       "    }\n",
       "\n",
       "    .dataframe thead th {\n",
       "        text-align: left;\n",
       "    }\n",
       "\n",
       "    .dataframe tbody tr th {\n",
       "        vertical-align: top;\n",
       "    }\n",
       "</style>\n",
       "<table border=\"1\" class=\"dataframe\">\n",
       "  <thead>\n",
       "    <tr style=\"text-align: right;\">\n",
       "      <th></th>\n",
       "      <th>asin_1</th>\n",
       "      <th>asin_2</th>\n",
       "    </tr>\n",
       "    <tr>\n",
       "      <th>type</th>\n",
       "      <th></th>\n",
       "      <th></th>\n",
       "    </tr>\n",
       "  </thead>\n",
       "  <tbody>\n",
       "    <tr>\n",
       "      <th>HH</th>\n",
       "      <td>433</td>\n",
       "      <td>433</td>\n",
       "    </tr>\n",
       "    <tr>\n",
       "      <th>HL</th>\n",
       "      <td>161</td>\n",
       "      <td>161</td>\n",
       "    </tr>\n",
       "    <tr>\n",
       "      <th>HM</th>\n",
       "      <td>189</td>\n",
       "      <td>189</td>\n",
       "    </tr>\n",
       "    <tr>\n",
       "      <th>LL</th>\n",
       "      <td>23</td>\n",
       "      <td>23</td>\n",
       "    </tr>\n",
       "    <tr>\n",
       "      <th>ML</th>\n",
       "      <td>49</td>\n",
       "      <td>49</td>\n",
       "    </tr>\n",
       "    <tr>\n",
       "      <th>MM</th>\n",
       "      <td>27</td>\n",
       "      <td>27</td>\n",
       "    </tr>\n",
       "  </tbody>\n",
       "</table>\n",
       "</div>"
      ],
      "text/plain": [
       "      asin_1  asin_2\n",
       "type                \n",
       "HH       433     433\n",
       "HL       161     161\n",
       "HM       189     189\n",
       "LL        23      23\n",
       "ML        49      49\n",
       "MM        27      27"
      ]
     },
     "execution_count": 110,
     "metadata": {},
     "output_type": "execute_result"
    }
   ],
   "source": [
    "# aggregate LH and HL by swaping the value in the dataframe\n",
    "matching_df[matching_df.type == \"LH\"] = matching_df.query('type == \"LH\"').reindex(columns=['asin_2', 'asin_1', 'type'])\n",
    "matching_df.loc[matching_df.type == \"LH\", \"type\"] = \"HL\"\n",
    "\n",
    "# aggregate MH and HM by swaping the value in the dataframe\n",
    "matching_df[matching_df.type == \"MH\"] = matching_df.query('type == \"MH\"').reindex(columns=['asin_2', 'asin_1', 'type'])\n",
    "matching_df.loc[matching_df.type == \"MH\", \"type\"] = \"HM\"\n",
    "\n",
    "# aggregate LM and LM by swaping the value in the dataframe\n",
    "matching_df[matching_df.type == \"LM\"] = matching_df.query('type == \"LM\"').reindex(columns=['asin_2', 'asin_1', 'type'])\n",
    "matching_df.loc[matching_df.type == \"LM\", \"type\"] = \"ML\"\n",
    "\n",
    "matching_df.groupby('type').count()"
   ]
  },
  {
   "cell_type": "markdown",
   "metadata": {},
   "source": [
    "We observe that we have slightly less value than before in the final groups here but now the groups are more balanced. It also make more sense following the analysis on the overall review repartition. Furthermore we have now 3 groups with enough data to work on: HH, HL and HM."
   ]
  },
  {
   "cell_type": "markdown",
   "metadata": {},
   "source": [
    "### Herding Effect Analysis"
   ]
  },
  {
   "cell_type": "markdown",
   "metadata": {},
   "source": [
    "#### Introduction"
   ]
  },
  {
   "cell_type": "markdown",
   "metadata": {},
   "source": [
    "The herding effect is observed when rating a product or a customer is biased to follow other customers's previous rating on the same product. In this study of the Herding Effect on Amazon reviews dedicated to the book category, we are going to focus mostly on how the first review on 2 similar products can influence latter reviews."
   ]
  },
  {
   "cell_type": "markdown",
   "metadata": {},
   "source": [
    "#### A first example"
   ]
  },
  {
   "cell_type": "markdown",
   "metadata": {},
   "source": [
    "To better understand what is the herding effect and what it could mean on the review of a product, let's draw and example of such a case. After matching each pair of product together in the previous step, and assign some categories to them (\"HH\", \"HM\", \"HL\", \"MM\", \"ML\"). We are going to choose a matching pair with the highest possible difference in order to be able to clearly see the effect (i.e. in the \"HL\" category)."
   ]
  },
  {
   "cell_type": "code",
   "execution_count": 111,
   "metadata": {
    "scrolled": false
   },
   "outputs": [
    {
     "data": {
      "text/plain": [
       "43"
      ]
     },
     "execution_count": 111,
     "metadata": {},
     "output_type": "execute_result"
    }
   ],
   "source": [
    "highest_diff = matching_df.query('type == \"HL\"').apply(lambda x: find_highest_diff(x['asin_2'], books_df), axis=1)\n",
    "highest_diff.sum()"
   ]
  },
  {
   "cell_type": "markdown",
   "metadata": {},
   "source": [
    "We find that there is 43 cases in our dataset with 2 very similar products having in one case a first rating of 1 star against a first rating of 5 stars. We take as example one of such a case to demonstrate the Herding Effect."
   ]
  },
  {
   "cell_type": "code",
   "execution_count": 149,
   "metadata": {},
   "outputs": [
    {
     "name": "stdout",
     "output_type": "stream",
     "text": [
      "Book 1 - title: Untie the Strong Woman: Blessed Mother's Immaculate Love for the Wild Soul\n",
      "Book 2 - title: Untie the Strong Woman: Blessed Mother's Immaculate Love for the Wild Soul\n",
      "\n",
      "Book 1 - description: (Starred Review) In the first work by poet and psychoanalyst Estés (Women Who Run with Wolves) in a decade, this brilliant treatment is much larger than the sum of its parts. Estés's understanding of Our Holy Lady (\"she wears a thousand names\") is disturbing and enlightening; she presents a figure who reflects and elevates the essential and inherent qualities of humanity. Through sacred traditions, personal stories, prayers, and images, Estés makes visible the ancient and modern fiercely loving force of the Divine feminine-the Compassionate Mother. \"The ultimate Mother Who Gave Birth to Love... bends to tend to the needful soul,\" Estés writes. Like the traditional prayer Memorare, through the technology of mind and heart, this book calls readers to awaken with full consciousness \"to Her within us: acting like, thinking like, loving like the Holy Mother does.\"-Publishers Weekly, November 2011--This text refers to theHardcoveredition.\n",
      "Book 2 - description: (Starred Review) In the first work by poet and psychoanalyst Estés (Women Who Run with Wolves) in a decade, this brilliant treatment is much larger than the sum of its parts. Estés's understanding of Our Holy Lady (\"she wears a thousand names\") is disturbing and enlightening; she presents a figure who reflects and elevates the essential and inherent qualities of humanity. Through sacred traditions, personal stories, prayers, and images, Estés makes visible the ancient and modern fiercely loving force of the Divine feminine-the Compassionate Mother. \"The ultimate Mother Who Gave Birth to Love... bends to tend to the needful soul,\" Estés writes. Like the traditional prayer Memorare, through the technology of mind and heart, this book calls readers to awaken with full consciousness \"to Her within us: acting like, thinking like, loving like the Holy Mother does.\"-Publishers Weekly, November 2011\n",
      "\n",
      "Book 1 - authors: ['Clarissa Pinkola Estes']\n",
      "Book 2 - authors: ['Clarissa Pinkola Estes']\n",
      "\n",
      "Book 1 - edition: abridged edition\n",
      "Book 2 - edition: None\n",
      "\n",
      "Book 1 - publisher: Sounds True Inc\n",
      "Book 2 - publisher: Sounds True Inc\n",
      "\n"
     ]
    }
   ],
   "source": [
    "# take one of the matches as example\n",
    "match = matching_df.query('type == \"HL\"')[highest_diff].iloc[17]\n",
    "asin_1 = match.asin_1\n",
    "asin_2 = match.asin_2\n",
    "\n",
    "# observe that they are indeed very similar books\n",
    "interesting_cols = ['title', 'description', 'authors', 'edition', 'publisher']\n",
    "for col in interesting_cols:\n",
    "    print('Book 1 - {}: {}'.format(col, books_df.loc[asin_1][col]))\n",
    "    print('Book 2 - {}: {}'.format(col, books_df.loc[asin_2][col]))\n",
    "    print()"
   ]
  },
  {
   "cell_type": "markdown",
   "metadata": {},
   "source": [
    "As we can confirm above in both case we are talking about the same book: `untie the strong woman blessed mothers immaculate love for the wild soul` from Clarissa Pinkola Estes with the same title, same description, same brands... However in one case (book 1) the first review rating is 5 and in the other case the first review is 1. This is the ideal case (Book 2) to observe the herding effect and see the influence of the first review on the following's. \n",
    "\n",
    "And as we know a picture is worth a thousand words, in the next step, we are going to draw 2 graphs that seems to show the herding effect behaviour on this particular book example."
   ]
  },
  {
   "cell_type": "code",
   "execution_count": 150,
   "metadata": {
    "scrolled": false
   },
   "outputs": [
    {
     "data": {
      "image/png": "[encoded data removed]",
      "text/plain": [
       "<matplotlib.figure.Figure at 0x2631c8358>"
      ]
     },
     "metadata": {},
     "output_type": "display_data"
    }
   ],
   "source": [
    "data_1 = review_books_df.query('asin == @asin_1').sort_values('unixReviewTime')\n",
    "data_2 = review_books_df.query('asin == @asin_2').sort_values('unixReviewTime')\n",
    "plot_example_rat_and_cumrat_subplots(data_1, data_2)"
   ]
  },
  {
   "cell_type": "markdown",
   "metadata": {
    "collapsed": true
   },
   "source": [
    "On these graphs we observe two things. \n",
    "\n",
    "First in this particular example, the cumulative average ratings seems to converge toward a similar value in both books. This is an important observation because without that we could simply not tell wether the herding effect had influence on the reviews or not. Furthermore we could not observe how many reviews after a bad review the herding effect had still some kind of impact.\n",
    "\n",
    "The second observation is that on Book 2, following the first bad reviews, the 10 following reviews seems to be surprinsingly low when we compare with Book 1. This can be confirm on the cumulative average ratings with an average staying low for the 10 first reviews. We could interpret this as the sign of the herding effect that did last during approximately 10 reviews.\n",
    "\n",
    "This example was very convenient as it had a huge difference between the first review of the two very similar books and a cumulative average rating converging toward a similar value. It helped us understand better what is the herding effect and what kind of influence in could have on the following reviews. Now from this nic example, let's try to generalize our theory and see if we can observe the herding effect on a larger number of data."
   ]
  },
  {
   "cell_type": "markdown",
   "metadata": {},
   "source": [
    "#### Generalization "
   ]
  },
  {
   "cell_type": "markdown",
   "metadata": {},
   "source": [
    "We are going to study here three groups independtly HH, HM and HL. This is the three groups previously defined in which we had enough data to draw a generalization on the herding effect. To measure the herding effect on our dataset, we are going to compare the i-th rating between similar products in each group respectively. If we observe a positive difference between these values, it would supports the hypothesis of a causal link between the first rating and the following ones. We should also be able to see until what index this effect can be observed.\n",
    "\n",
    "We use HH as a testing group in which we should not have any influence from the herding effect, HM should have a moderated impact and finally the most interesting category should be HL in which we should really see the impact of the herding effect."
   ]
  },
  {
   "cell_type": "code",
   "execution_count": 83,
   "metadata": {},
   "outputs": [
    {
     "data": {
      "image/png": "[encoded data removed]",
      "text/plain": [
       "<matplotlib.figure.Figure at 0x28048b588>"
      ]
     },
     "metadata": {},
     "output_type": "display_data"
    }
   ],
   "source": [
    "# find for each books in each pair of type HL the 5 first reviews\n",
    "result = matching_df.query('type == \"HL\"').apply(lambda x: find_n_reviews(x, 5, review_books_df), 1)\n",
    "\n",
    "# create 2 df based on the result of our functions with the 5 reviews as columns\n",
    "H_in_HL_df = pd.DataFrame([x[0] for x in result])\n",
    "L_in_HL_df = pd.DataFrame([x[1] for x in result])\n",
    "\n",
    "# compute the interesting stats for each reviews (mean and 95% confidence interval)\n",
    "H_in_HL_stats = compute_stats_on_reviews_df(H_in_HL_df)\n",
    "L_in_HL_stats = compute_stats_on_reviews_df(L_in_HL_df)\n",
    "\n",
    "# plot the result in a nice errorbar plot\n",
    "plot_stats_bar_plot('Average Rating following H/L first rating',\n",
    "                    H_in_HL_stats, light_green, 'H in HL', L_in_HL_stats, light_red, 'L in HL')"
   ]
  },
  {
   "cell_type": "markdown",
   "metadata": {},
   "source": [
    "As we can see just above, the results are mitigate we can observe that the 2 reviews after a bad first reviews tends to be in average lower than when the first review is good. However after that it seems that everything come back to normal and the herding effect has no longer impact. Finally the reviews tends to converge to a same average value which is good given the fact that they are supposed to be similar books.\n",
    "\n",
    "To highlight the herding effect even more let's now consider only the 43 cases where the difference is maximum (5 star rating against 1 star rating) discussed previously and try to observe the effect now."
   ]
  },
  {
   "cell_type": "code",
   "execution_count": 84,
   "metadata": {},
   "outputs": [
    {
     "data": {
      "image/png": "[encoded data removed]",
      "text/plain": [
       "<matplotlib.figure.Figure at 0x280015c50>"
      ]
     },
     "metadata": {},
     "output_type": "display_data"
    }
   ],
   "source": [
    "# herding effect on 1-5star\n",
    "result = matching_df.query('type == \"HL\"')[highest_diff].apply(lambda x: find_n_reviews(x, 5, review_books_df), 1)\n",
    "\n",
    "# create 2 df based on the result of our functions with the 5 reviews as columns\n",
    "H_in_HL_df = pd.DataFrame([x[0] for x in result])\n",
    "L_in_HL_df = pd.DataFrame([x[1] for x in result])\n",
    "\n",
    "# compute the interesting stats for each reviews\n",
    "H_in_HL_stats = compute_stats_on_reviews_df(H_in_HL_df)\n",
    "L_in_HL_stats = compute_stats_on_reviews_df(L_in_HL_df)\n",
    "\n",
    "# plot the result in a nice plot\n",
    "plot_stats_bar_plot('Average Rating following H/L first rating (only 5 and 1 star)',\n",
    "                    H_in_HL_stats, light_green, 'H in HL', L_in_HL_stats, light_red, 'L in HL')"
   ]
  },
  {
   "cell_type": "markdown",
   "metadata": {},
   "source": [
    "We observe a very similar result with much less confidence as there is less value. \n",
    "\n",
    "To confirm our result and hypothesis we can now check the difference between what we have just above and what we get performing the same pipeline on the HH and HM group. In the HH case, we expect to have no herding effect at all, and converging results right from the beginning. Regarding the HM case, we would expect to see the same effect as above but this time lowered."
   ]
  },
  {
   "cell_type": "code",
   "execution_count": 85,
   "metadata": {},
   "outputs": [
    {
     "data": {
      "image/png": "[encoded data removed]",
      "text/plain": [
       "<matplotlib.figure.Figure at 0x2807cfe48>"
      ]
     },
     "metadata": {},
     "output_type": "display_data"
    }
   ],
   "source": [
    "# herding effect on HH\n",
    "result = matching_df.query('type == \"HH\"').apply(lambda x: find_n_reviews(x, 5, review_books_df), 1)\n",
    "\n",
    "# create 2 df based on the result of our functions with the 5 reviews as columns\n",
    "H_in_HH_df = pd.DataFrame([x[0] for x in result])\n",
    "Hstar_in_HH_df = pd.DataFrame([x[1] for x in result])\n",
    "\n",
    "# compute the interesting stats for each reviews\n",
    "H_in_HH_stats = compute_stats_on_reviews_df(H_in_HH_df)\n",
    "Hstar_in_HH_stats = compute_stats_on_reviews_df(Hstar_in_HH_df)\n",
    "\n",
    "plot_stats_bar_plot('Average Rating following H/H first rating',\n",
    "                    H_in_HH_stats, light_green, 'H in HH', Hstar_in_HH_stats, strong_green, 'H* in HH')"
   ]
  },
  {
   "cell_type": "markdown",
   "metadata": {},
   "source": [
    "As expected, on the HH group we observe to converging reviews over the time with very small disparity between the different books both starting with a high review."
   ]
  },
  {
   "cell_type": "code",
   "execution_count": 86,
   "metadata": {},
   "outputs": [
    {
     "data": {
      "image/png": "[encoded data removed]",
      "text/plain": [
       "<matplotlib.figure.Figure at 0x280a0c240>"
      ]
     },
     "metadata": {},
     "output_type": "display_data"
    }
   ],
   "source": [
    "# herding effect on HM\n",
    "result = matching_df.query('type == \"HM\"').apply(lambda x: find_n_reviews(x, 5, review_books_df), 1)\n",
    "\n",
    "# create 2 5reviews df based on the result of our functions\n",
    "H_in_HM_df = pd.DataFrame([x[0] for x in result])\n",
    "M_in_HM_df = pd.DataFrame([x[1] for x in result])\n",
    "\n",
    "# compute the interesting stats for each reviews\n",
    "H_in_HM_stats = compute_stats_on_reviews_df(H_in_HM_df)\n",
    "M_in_HM_stats = compute_stats_on_reviews_df(M_in_HM_df)\n",
    "\n",
    "plot_stats_bar_plot('Average Rating following H/M first rating',\n",
    "                    H_in_HM_stats, light_green, 'H in HM', M_in_HM_stats, orange, 'M in HM')"
   ]
  },
  {
   "cell_type": "markdown",
   "metadata": {},
   "source": [
    "Here again on the HM group, the rating converge and the difference is much lower than in the HL case. Even though the rating of the medium review tends to stay slitghly below the high rating they are both very close and we can't conclude that the herding effect had a huge impact here."
   ]
  },
  {
   "cell_type": "markdown",
   "metadata": {},
   "source": [
    "To conclude on this part it seems that our hypothesis of herding effect is validated in our HL group and slightly in our HM group. We confirmed our hypothesis by observing also the HH group. We can tell that the first review as an influence on the following reviews only if the difference between the first rating is big enough (only in the HL case and not in the HM one). We also observed that after only a few review (2 to 3 reviews) the herding effect seems to fade off and both rating converge toward a similar value. We are now going to check that hypothesis in the next part focused on the long term effect of herding."
   ]
  },
  {
   "cell_type": "markdown",
   "metadata": {},
   "source": [
    "#### Long term effect of herding"
   ]
  },
  {
   "cell_type": "markdown",
   "metadata": {},
   "source": [
    "To assess the long term effect of herding, we will look at the pair of books with more than 10 reviews and compute the mean of all the reviews after that as well as it's 95% confidence interval. Then we will will compare our result for the different group we have at hand (i.e. HH, HM and HL)"
   ]
  },
  {
   "cell_type": "code",
   "execution_count": 87,
   "metadata": {},
   "outputs": [
    {
     "data": {
      "image/png": "[encoded data removed]",
      "text/plain": [
       "<matplotlib.figure.Figure at 0x280f9be48>"
      ]
     },
     "metadata": {},
     "output_type": "display_data"
    }
   ],
   "source": [
    "# find the average last reviews for each HL pairs\n",
    "result = matching_df.query('type == \"HL\"').apply(lambda x: mean_more_n_reviews(x, 10, review_books_df), 1)\n",
    "H_in_HL_df = pd.DataFrame([x[0] for x in result]).dropna().reset_index().drop(['index'], axis=1)\n",
    "L_in_HL_df = pd.DataFrame([x[1] for x in result]).dropna().reset_index().drop(['index'], axis=1)\n",
    "\n",
    "# find the average last reviews for each HH pairs\n",
    "result = matching_df.query('type == \"HH\"').apply(lambda x: mean_more_n_reviews(x, 10, review_books_df), 1)\n",
    "H_in_HH_df = pd.DataFrame([x[0] for x in result]).dropna().reset_index().drop(['index'], axis=1)\n",
    "\n",
    "# find the average last reviews for each HM pairs\n",
    "result = matching_df.query('type == \"HM\"').apply(lambda x: mean_more_n_reviews(x, 10, review_books_df), 1)\n",
    "H_in_HM_df = pd.DataFrame([x[0] for x in result]).dropna().reset_index().drop(['index'], axis=1)\n",
    "M_in_HM_df = pd.DataFrame([x[1] for x in result]).dropna().reset_index().drop(['index'], axis=1)\n",
    "\n",
    "\n",
    "# compute mean and error for each HL books\n",
    "H_in_HL_mean = np.mean(H_in_HL_df['mean'])\n",
    "H_in_HL_error = error_from_interval(\n",
    "    st.t.interval(0.95, len(H_in_HL_df)-1, loc=H_in_HL_mean, scale=st.sem(H_in_HL_df['mean'])))\n",
    "\n",
    "L_in_HL_mean = np.mean(L_in_HL_df['mean'])\n",
    "L_in_HL_error = error_from_interval(\n",
    "    st.t.interval(0.95, len(L_in_HL_df)-1, loc=L_in_HL_mean, scale=st.sem(L_in_HL_df['mean'])))\n",
    "\n",
    "# compute mean and error for each HH books\n",
    "H_in_HH_mean = np.mean(H_in_HH_df['mean'])\n",
    "H_in_HH_error = error_from_interval(\n",
    "    st.t.interval(0.95, len(H_in_HH_df)-1, loc=H_in_HH_mean, scale=st.sem(H_in_HH_df['mean'])))\n",
    "\n",
    "# compute mean and error for each HM books\n",
    "H_in_HM_mean = np.mean(H_in_HM_df['mean'])\n",
    "H_in_HM_error = error_from_interval(\n",
    "    st.t.interval(0.95, len(H_in_HM_df)-1, loc=H_in_HM_mean, scale=st.sem(H_in_HM_df['mean'])))\n",
    "\n",
    "M_in_HM_mean = np.mean(M_in_HM_df['mean'])\n",
    "M_in_HM_error = error_from_interval(\n",
    "    st.t.interval(0.95, len(M_in_HM_df)-1, loc=M_in_HM_mean, scale=st.sem(M_in_HM_df['mean'])))\n",
    "\n",
    "plot_lastreviews_means_and_errors(H_in_HL_mean, H_in_HL_error, L_in_HL_mean, L_in_HL_error, \n",
    "                                  H_in_HH_mean, H_in_HH_error, H_in_HM_mean, H_in_HM_error,\n",
    "                                  M_in_HM_mean, M_in_HM_error)"
   ]
  },
  {
   "cell_type": "markdown",
   "metadata": {},
   "source": [
    "Despite the fact that we have a few value to validate our hypothesis (only 116 pair of books with more than 10 reviews in HL and 111 in HM), we can observe the behavior that we were expecting. Indeed, H in HL is slightly above L in HL even on the long term rating. We observe a very similar result for H in HM and M in HM in a smaller extent once again.\n",
    "\n",
    "To conclude even if on the previous analysis of the first 5 ratings it seemed that the rating was converging after a few reviews. We observe by deeply analysing the 10-th and above reviews that a first negative review still impact on the long term rating of the product."
   ]
  },
  {
   "cell_type": "markdown",
   "metadata": {},
   "source": [
    "#### Limitation of this analysis"
   ]
  },
  {
   "cell_type": "markdown",
   "metadata": {},
   "source": [
    "Even though we had good results in favor of our hypothesis on herding effect on the books review on Amazon for the first few reviews following, we are aware that our analysis has some limitating factors. For example, when we matched two very similar books together, we considered that they completly identical. However some external factors may bias our analysis such as the edition, the price of the book and the type of cover as well as may other considerations that could affect the rating of the review such as the date of the review and publication of the product...\n",
    "\n",
    "We also realised that the set of data that we have at hand may be too small to draw strong and meaningfull conclusion and we are looking at increasing the number of data for the next milestone."
   ]
  },
  {
   "cell_type": "markdown",
   "metadata": {},
   "source": [
    "# Plan for continuation\n",
    "Here we discuss what we plan on doing before **milestone 3**. \n",
    "* In order to generalise our ressearch on the 5-core dataset we think that it would be good to move to the full dataset of books such that we can have enough reviews to see the long term effect of the initial reviews.\n",
    "* This should allow us to display relevant example of the herding effect on short and long term reviews. \n",
    "* Then we would like if we have enough time (which is very unlikely) to go to a second category to do the same kind of analysis to see how this Herding effect changes over different categories of data (we thought of Movies to be another good type of product to work with as they now are released in multiple formats : Blu Ray, digital copy, DVD, etc.)\n",
    "* Once this is done we should finally start to be able to elaborate a plan on our visualization. The goal of the project is really to emphasize that **customers should be careful when they buy a product based only on its amazon reviews** therefore we will try to first sensibilise the user to how influenced he/she can be by existing reviews. And then show that those reviews are not so reliable.\n",
    "* The challenge for milestone 3 (and 4) is to find a good way to display our results. This is mainly due to the fact that finding similar products is very long and therefore having a lot of data to be able to show data in an interactive manner could be challenging. This is why we are mainly trying to obtain more data."
   ]
  },
  {
   "cell_type": "code",
   "execution_count": null,
   "metadata": {
    "collapsed": true
   },
   "outputs": [],
   "source": []
  }
 ],
 "metadata": {
  "kernelspec": {
   "display_name": "Python 3",
   "language": "python",
   "name": "python3"
  },
  "language_info": {
   "codemirror_mode": {
    "name": "ipython",
    "version": 3
   },
   "file_extension": ".py",
   "mimetype": "text/x-python",
   "name": "python",
   "nbconvert_exporter": "python",
   "pygments_lexer": "ipython3",
   "version": "3.6.1"
  },
  "toc": {
   "nav_menu": {
    "height": "355px",
    "width": "228px"
   },
   "number_sections": true,
   "sideBar": false,
   "skip_h1_title": false,
   "toc_cell": true,
   "toc_position": {
    "height": "435px",
    "left": "1217px",
    "right": "40px",
    "top": "106px",
    "width": "183px"
   },
   "toc_section_display": "none",
   "toc_window_display": true
  }
 },
 "nbformat": 4,
 "nbformat_minor": 2
}
