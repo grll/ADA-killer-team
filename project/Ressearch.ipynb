{
 "cells": [
  {
   "cell_type": "markdown",
   "metadata": {
    "toc": true
   },
   "source": [
    "<h1>Table of Contents<span class=\"tocSkip\"></span></h1>\n",
    "<div class=\"toc\" style=\"margin-top: 1em;\"><ul class=\"toc-item\"><li><span><a href=\"#Exploratory\" data-toc-modified-id=\"Exploratory-1\"><span class=\"toc-item-num\">1&nbsp;&nbsp;</span>Exploratory</a></span><ul class=\"toc-item\"><li><span><a href=\"#Content-of-the-files\" data-toc-modified-id=\"Content-of-the-files-1.1\"><span class=\"toc-item-num\">1.1&nbsp;&nbsp;</span>Content of the files</a></span></li><li><span><a href=\"#Books\" data-toc-modified-id=\"Books-1.2\"><span class=\"toc-item-num\">1.2&nbsp;&nbsp;</span>Books</a></span><ul class=\"toc-item\"><li><span><a href=\"#Metadata\" data-toc-modified-id=\"Metadata-1.2.1\"><span class=\"toc-item-num\">1.2.1&nbsp;&nbsp;</span>Metadata</a></span></li><li><span><a href=\"#Reviews\" data-toc-modified-id=\"Reviews-1.2.2\"><span class=\"toc-item-num\">1.2.2&nbsp;&nbsp;</span>Reviews</a></span></li><li><span><a href=\"#5-Core\" data-toc-modified-id=\"5-Core-1.2.3\"><span class=\"toc-item-num\">1.2.3&nbsp;&nbsp;</span>5-Core</a></span></li></ul></li><li><span><a href=\"#Movies-and-TV\" data-toc-modified-id=\"Movies-and-TV-1.3\"><span class=\"toc-item-num\">1.3&nbsp;&nbsp;</span>Movies and TV</a></span><ul class=\"toc-item\"><li><span><a href=\"#Metadata\" data-toc-modified-id=\"Metadata-1.3.1\"><span class=\"toc-item-num\">1.3.1&nbsp;&nbsp;</span>Metadata</a></span></li><li><span><a href=\"#Reviews\" data-toc-modified-id=\"Reviews-1.3.2\"><span class=\"toc-item-num\">1.3.2&nbsp;&nbsp;</span>Reviews</a></span></li></ul></li><li><span><a href=\"#Electronics\" data-toc-modified-id=\"Electronics-1.4\"><span class=\"toc-item-num\">1.4&nbsp;&nbsp;</span>Electronics</a></span><ul class=\"toc-item\"><li><span><a href=\"#Metadata\" data-toc-modified-id=\"Metadata-1.4.1\"><span class=\"toc-item-num\">1.4.1&nbsp;&nbsp;</span>Metadata</a></span></li><li><span><a href=\"#Review\" data-toc-modified-id=\"Review-1.4.2\"><span class=\"toc-item-num\">1.4.2&nbsp;&nbsp;</span>Review</a></span></li></ul></li></ul></li><li><span><a href=\"#Detecting-similar-products\" data-toc-modified-id=\"Detecting-similar-products-2\"><span class=\"toc-item-num\">2&nbsp;&nbsp;</span>Detecting similar products</a></span><ul class=\"toc-item\"><li><span><a href=\"#Books\" data-toc-modified-id=\"Books-2.1\"><span class=\"toc-item-num\">2.1&nbsp;&nbsp;</span>Books</a></span><ul class=\"toc-item\"><li><span><a href=\"#Defining-the-dataset-to-work-with\" data-toc-modified-id=\"Defining-the-dataset-to-work-with-2.1.1\"><span class=\"toc-item-num\">2.1.1&nbsp;&nbsp;</span>Defining the dataset to work with</a></span></li><li><span><a href=\"#Locality-sensitive-hashing\" data-toc-modified-id=\"Locality-sensitive-hashing-2.1.2\"><span class=\"toc-item-num\">2.1.2&nbsp;&nbsp;</span>Locality sensitive hashing</a></span><ul class=\"toc-item\"><li><span><a href=\"#The-minhash\" data-toc-modified-id=\"The-minhash-2.1.2.1\"><span class=\"toc-item-num\">2.1.2.1&nbsp;&nbsp;</span>The <code>minhash</code></a></span></li><li><span><a href=\"#The-principle-of-LSH\" data-toc-modified-id=\"The-principle-of-LSH-2.1.2.2\"><span class=\"toc-item-num\">2.1.2.2&nbsp;&nbsp;</span>The principle of LSH</a></span></li><li><span><a href=\"#Finding-candidate-duplicates\" data-toc-modified-id=\"Finding-candidate-duplicates-2.1.2.3\"><span class=\"toc-item-num\">2.1.2.3&nbsp;&nbsp;</span>Finding candidate duplicates</a></span></li></ul></li><li><span><a href=\"#Refining-our-candidates\" data-toc-modified-id=\"Refining-our-candidates-2.1.3\"><span class=\"toc-item-num\">2.1.3&nbsp;&nbsp;</span>Refining our candidates</a></span><ul class=\"toc-item\"><li><span><a href=\"#Using-Amazon-API-to-obtain-more-data-about-our-products\" data-toc-modified-id=\"Using-Amazon-API-to-obtain-more-data-about-our-products-2.1.3.1\"><span class=\"toc-item-num\">2.1.3.1&nbsp;&nbsp;</span>Using Amazon API to obtain more data about our products</a></span></li><li><span><a href=\"#Refining-the-candidate-similars-based-on-authors\" data-toc-modified-id=\"Refining-the-candidate-similars-based-on-authors-2.1.3.2\"><span class=\"toc-item-num\">2.1.3.2&nbsp;&nbsp;</span>Refining the candidate similars based on authors</a></span></li><li><span><a href=\"#Refining-the-candidate-similars-further-using-the-titles\" data-toc-modified-id=\"Refining-the-candidate-similars-further-using-the-titles-2.1.3.3\"><span class=\"toc-item-num\">2.1.3.3&nbsp;&nbsp;</span>Refining the candidate similars further using the titles</a></span></li></ul></li></ul></li></ul></li><li><span><a href=\"#Correlation-exploratory\" data-toc-modified-id=\"Correlation-exploratory-3\"><span class=\"toc-item-num\">3&nbsp;&nbsp;</span>Correlation exploratory</a></span><ul class=\"toc-item\"><li><span><a href=\"#Reviews-analysis\" data-toc-modified-id=\"Reviews-analysis-3.1\"><span class=\"toc-item-num\">3.1&nbsp;&nbsp;</span>Reviews analysis</a></span><ul class=\"toc-item\"><li><span><a href=\"#Reviews-distribution\" data-toc-modified-id=\"Reviews-distribution-3.1.1\"><span class=\"toc-item-num\">3.1.1&nbsp;&nbsp;</span>Reviews distribution</a></span></li><li><span><a href=\"#Evolution-of-reviews-over-time\" data-toc-modified-id=\"Evolution-of-reviews-over-time-3.1.2\"><span class=\"toc-item-num\">3.1.2&nbsp;&nbsp;</span>Evolution of reviews over time</a></span></li></ul></li><li><span><a href=\"#SalesRank-and-Review-correlation-analysis\" data-toc-modified-id=\"SalesRank-and-Review-correlation-analysis-3.2\"><span class=\"toc-item-num\">3.2&nbsp;&nbsp;</span>SalesRank and Review correlation analysis</a></span><ul class=\"toc-item\"><li><span><a href=\"#Comparison-of-books-together\" data-toc-modified-id=\"Comparison-of-books-together-3.2.1\"><span class=\"toc-item-num\">3.2.1&nbsp;&nbsp;</span>Comparison of books together</a></span></li><li><span><a href=\"#Comparison-of-books-that-are-similar\" data-toc-modified-id=\"Comparison-of-books-that-are-similar-3.2.2\"><span class=\"toc-item-num\">3.2.2&nbsp;&nbsp;</span>Comparison of books that are similar</a></span></li></ul></li><li><span><a href=\"#Price-and-Review-correlation-analysis\" data-toc-modified-id=\"Price-and-Review-correlation-analysis-3.3\"><span class=\"toc-item-num\">3.3&nbsp;&nbsp;</span>Price and Review correlation analysis</a></span><ul class=\"toc-item\"><li><span><a href=\"#Comparison-of-books-together\" data-toc-modified-id=\"Comparison-of-books-together-3.3.1\"><span class=\"toc-item-num\">3.3.1&nbsp;&nbsp;</span>Comparison of books together</a></span></li><li><span><a href=\"#Comparison-inside-book-similarities\" data-toc-modified-id=\"Comparison-inside-book-similarities-3.3.2\"><span class=\"toc-item-num\">3.3.2&nbsp;&nbsp;</span>Comparison inside book similarities</a></span></li></ul></li></ul></li><li><span><a href=\"#Herding-Effect-Analysis\" data-toc-modified-id=\"Herding-Effect-Analysis-4\"><span class=\"toc-item-num\">4&nbsp;&nbsp;</span>Herding Effect Analysis</a></span><ul class=\"toc-item\"><li><span><a href=\"#Pre-analysis\" data-toc-modified-id=\"Pre-analysis-4.1\"><span class=\"toc-item-num\">4.1&nbsp;&nbsp;</span>Pre-analysis</a></span><ul class=\"toc-item\"><li><ul class=\"toc-item\"><li><span><a href=\"#H/L-Categorization\" data-toc-modified-id=\"H/L-Categorization-4.1.0.1\"><span class=\"toc-item-num\">4.1.0.1&nbsp;&nbsp;</span>H/L Categorization</a></span></li><li><span><a href=\"#H/M/L-Categorization\" data-toc-modified-id=\"H/M/L-Categorization-4.1.0.2\"><span class=\"toc-item-num\">4.1.0.2&nbsp;&nbsp;</span>H/M/L Categorization</a></span></li></ul></li><li><span><a href=\"#Herding-Effect-Analysis\" data-toc-modified-id=\"Herding-Effect-Analysis-4.1.1\"><span class=\"toc-item-num\">4.1.1&nbsp;&nbsp;</span>Herding Effect Analysis</a></span><ul class=\"toc-item\"><li><span><a href=\"#Introduction\" data-toc-modified-id=\"Introduction-4.1.1.1\"><span class=\"toc-item-num\">4.1.1.1&nbsp;&nbsp;</span>Introduction</a></span></li><li><span><a href=\"#A-first-example\" data-toc-modified-id=\"A-first-example-4.1.1.2\"><span class=\"toc-item-num\">4.1.1.2&nbsp;&nbsp;</span>A first example</a></span></li><li><span><a href=\"#Generalization\" data-toc-modified-id=\"Generalization-4.1.1.3\"><span class=\"toc-item-num\">4.1.1.3&nbsp;&nbsp;</span>Generalization</a></span></li><li><span><a href=\"#Long-term-effect-of-herding\" data-toc-modified-id=\"Long-term-effect-of-herding-4.1.1.4\"><span class=\"toc-item-num\">4.1.1.4&nbsp;&nbsp;</span>Long term effect of herding</a></span></li><li><span><a href=\"#Limitation-of-this-analysis\" data-toc-modified-id=\"Limitation-of-this-analysis-4.1.1.5\"><span class=\"toc-item-num\">4.1.1.5&nbsp;&nbsp;</span>Limitation of this analysis</a></span></li></ul></li></ul></li></ul></li><li><span><a href=\"#Plan-for-continuation\" data-toc-modified-id=\"Plan-for-continuation-5\"><span class=\"toc-item-num\">5&nbsp;&nbsp;</span>Plan for continuation</a></span></li><li><span><a href=\"#Moving-to-the-full-dataset\" data-toc-modified-id=\"Moving-to-the-full-dataset-6\"><span class=\"toc-item-num\">6&nbsp;&nbsp;</span>Moving to the full dataset</a></span><ul class=\"toc-item\"><li><span><a href=\"#Detecting-similar-books\" data-toc-modified-id=\"Detecting-similar-books-6.1\"><span class=\"toc-item-num\">6.1&nbsp;&nbsp;</span>Detecting similar books</a></span></li><li><span><a href=\"#Enriching-data-using-Amazon-product-advertising-API\" data-toc-modified-id=\"Enriching-data-using-Amazon-product-advertising-API-6.2\"><span class=\"toc-item-num\">6.2&nbsp;&nbsp;</span>Enriching data using Amazon product advertising API</a></span></li><li><span><a href=\"#Using-authors-to-refine-candidate-similars\" data-toc-modified-id=\"Using-authors-to-refine-candidate-similars-6.3\"><span class=\"toc-item-num\">6.3&nbsp;&nbsp;</span>Using authors to refine candidate similars</a></span></li><li><span><a href=\"#Using-titles-to-obtain-our-final-similar-books\" data-toc-modified-id=\"Using-titles-to-obtain-our-final-similar-books-6.4\"><span class=\"toc-item-num\">6.4&nbsp;&nbsp;</span>Using titles to obtain our final similar books</a></span></li><li><span><a href=\"#Analysis\" data-toc-modified-id=\"Analysis-6.5\"><span class=\"toc-item-num\">6.5&nbsp;&nbsp;</span>Analysis</a></span></li></ul></li></ul></div>"
   ]
  },
  {
   "cell_type": "markdown",
   "metadata": {},
   "source": [
    "We first import all the necessary packages, as well as the scripts that we decided to modularize into different files in order to improve readability. You can access the ```README``` in order to get a comprehensive description of the different files."
   ]
  },
  {
   "cell_type": "code",
   "execution_count": 1,
   "metadata": {
    "collapsed": true
   },
   "outputs": [],
   "source": [
    "%matplotlib inline\n",
    "# To reload external scripts automatically\n",
    "%load_ext autoreload\n",
    "%autoreload 2\n",
    "\n",
    "import pandas as pd\n",
    "import numpy as np\n",
    "import sys\n",
    "import pickle\n",
    "import seaborn as sns\n",
    "import matplotlib.pyplot as plt\n",
    "import os\n",
    "\n",
    "# Importing external files\n",
    "from scripts.similarities import *\n",
    "from scripts.amazon_api_interaction import *\n",
    "from scripts.analysis import *\n",
    "from scripts.data_import import *\n",
    "from scripts.utils_project import *\n",
    "\n",
    "\n",
    "pd.options.mode.chained_assignment = None  # default='warn', Mutes warnings when copying a slice from a DataFrame."
   ]
  },
  {
   "cell_type": "code",
   "execution_count": 2,
   "metadata": {
    "collapsed": true
   },
   "outputs": [],
   "source": [
    "DATA_FOLDER = \"../../Project-Data/\"\n",
    "META_FOLDER = DATA_FOLDER + \"meta/\"\n",
    "REVIEWS_FOLDER = DATA_FOLDER + \"reviews/\"\n",
    "CORE_FOLDER = DATA_FOLDER + \"5_core/\"\n",
    "DUMP_FOLDER = DATA_FOLDER + \"dump/\"\n",
    "CATEGORIES = ['Books','Movies_and_Tv','Electronics']\n",
    "MAXCOUNT = -1\n",
    "ANALYSIS_DATA_FOLDER = 'analysis_data/'"
   ]
  },
  {
   "cell_type": "markdown",
   "metadata": {},
   "source": [
    "# Exploratory\n",
    "This notebook contains the first study of the data to identify what is needed and what we do not need. It will only work with subsets of datasets as they will not fit into memory. That is we will focus on 3 categories of data."
   ]
  },
  {
   "cell_type": "markdown",
   "metadata": {},
   "source": [
    "## Content of the files"
   ]
  },
  {
   "cell_type": "markdown",
   "metadata": {},
   "source": [
    "The different columns of the **metadata** files are : \n",
    "* ```asin``` : the unique identifier of the object\n",
    "* ```brand```\n",
    "* ```categories``` : the categories of the object\n",
    "* ```description``` : the description of the object\n",
    "* ```imUrl```  : the link toward the images related to the object\n",
    "* ```price```\n",
    "* ```related``` : a list of objects that are related to this object\n",
    "* ```salesRank``` \n",
    "* ```title```\n",
    "\n",
    "The different columns of the **reviews** and **5-core** files are :\n",
    "* ```asin``` : the unique identifier of the object\n",
    "* ```helpful``` : a list of 2 integers [x,y], the helpfulness score is x/y votes\n",
    "* ```overall``` : the rating of the object\n",
    "* ```reviewText```\n",
    "* ```reviewTime```\n",
    "* ```reviewerID```\n",
    "* ```reviewerName```\n",
    "* ```summary ``` : the title of the review\n",
    "* ```unixReviewTime``` : in Unix format\n",
    "\n",
    "Therefore we keep only the column that are of interest for our task"
   ]
  },
  {
   "cell_type": "code",
   "execution_count": 3,
   "metadata": {
    "collapsed": true
   },
   "outputs": [],
   "source": [
    "meta_interesting_cols = ['asin', 'title', 'salesRank', 'description','imUrl']\n",
    "review_interesting_cols = ['asin', 'overall', 'unixReviewTime']"
   ]
  },
  {
   "cell_type": "markdown",
   "metadata": {},
   "source": [
    "## Books\n",
    "In the following section we show how to import the data of interest from the JSON to make further analysis easier"
   ]
  },
  {
   "cell_type": "code",
   "execution_count": 4,
   "metadata": {},
   "outputs": [
    {
     "name": "stdout",
     "output_type": "stream",
     "text": [
      "Paths : \n",
      "\t meta = ../../Project-Data/meta/meta_Books.json\n",
      "\t review = ../../Project-Data/reviews/reviews_Books.json\n",
      "\t core_path = ../../Project-Data/5_core/Books.json\n"
     ]
    }
   ],
   "source": [
    "meta_books_path, review_books_path, core_book_path = get_paths(0, DATA_FOLDER, META_FOLDER,CORE_FOLDER,\n",
    "                                               REVIEWS_FOLDER, CATEGORIES)"
   ]
  },
  {
   "cell_type": "markdown",
   "metadata": {},
   "source": [
    "### Metadata"
   ]
  },
  {
   "cell_type": "code",
   "execution_count": 5,
   "metadata": {
    "scrolled": true
   },
   "outputs": [
    {
     "name": "stdout",
     "output_type": "stream",
     "text": [
      "Retrieving from : ../../Project-Data/dump/meta_Books_asin_title_salesRank_description_imUrl_ALL\n",
      "It took 00:00:03.871 to import the data.\n"
     ]
    },
    {
     "data": {
      "text/html": [
       "<div>\n",
       "<style>\n",
       "    .dataframe thead tr:only-child th {\n",
       "        text-align: right;\n",
       "    }\n",
       "\n",
       "    .dataframe thead th {\n",
       "        text-align: left;\n",
       "    }\n",
       "\n",
       "    .dataframe tbody tr th {\n",
       "        vertical-align: top;\n",
       "    }\n",
       "</style>\n",
       "<table border=\"1\" class=\"dataframe\">\n",
       "  <thead>\n",
       "    <tr style=\"text-align: right;\">\n",
       "      <th></th>\n",
       "      <th>asin</th>\n",
       "      <th>description</th>\n",
       "      <th>imUrl</th>\n",
       "      <th>salesRank_Arts,_Crafts_&amp;_Sewing</th>\n",
       "      <th>salesRank_Books</th>\n",
       "      <th>salesRank_Cell_Phones_&amp;_Accessories</th>\n",
       "      <th>salesRank_Clothing</th>\n",
       "      <th>salesRank_Electronics</th>\n",
       "      <th>salesRank_Health_&amp;_Personal_Care</th>\n",
       "      <th>salesRank_Home_&amp;_Kitchen</th>\n",
       "      <th>...</th>\n",
       "      <th>salesRank_Jewelry</th>\n",
       "      <th>salesRank_Kitchen_&amp;_Dining</th>\n",
       "      <th>salesRank_Movies_&amp;_TV</th>\n",
       "      <th>salesRank_Music</th>\n",
       "      <th>salesRank_Musical_Instruments</th>\n",
       "      <th>salesRank_Office_Products</th>\n",
       "      <th>salesRank_Shoes</th>\n",
       "      <th>salesRank_Sports_&amp;_Outdoors</th>\n",
       "      <th>salesRank_Toys_&amp;_Games</th>\n",
       "      <th>title</th>\n",
       "    </tr>\n",
       "  </thead>\n",
       "  <tbody>\n",
       "    <tr>\n",
       "      <th>0</th>\n",
       "      <td>0001048791</td>\n",
       "      <td>NaN</td>\n",
       "      <td>http://ecx.images-amazon.com/images/I/51MKP0T4...</td>\n",
       "      <td>NaN</td>\n",
       "      <td>6334800.0</td>\n",
       "      <td>NaN</td>\n",
       "      <td>NaN</td>\n",
       "      <td>NaN</td>\n",
       "      <td>NaN</td>\n",
       "      <td>NaN</td>\n",
       "      <td>...</td>\n",
       "      <td>NaN</td>\n",
       "      <td>NaN</td>\n",
       "      <td>NaN</td>\n",
       "      <td>NaN</td>\n",
       "      <td>NaN</td>\n",
       "      <td>NaN</td>\n",
       "      <td>NaN</td>\n",
       "      <td>NaN</td>\n",
       "      <td>NaN</td>\n",
       "      <td>The Crucible: Performed by Stuart Pankin, Jero...</td>\n",
       "    </tr>\n",
       "  </tbody>\n",
       "</table>\n",
       "<p>1 rows × 21 columns</p>\n",
       "</div>"
      ],
      "text/plain": [
       "         asin description                                              imUrl  \\\n",
       "0  0001048791         NaN  http://ecx.images-amazon.com/images/I/51MKP0T4...   \n",
       "\n",
       "   salesRank_Arts,_Crafts_&_Sewing  salesRank_Books  \\\n",
       "0                              NaN        6334800.0   \n",
       "\n",
       "   salesRank_Cell_Phones_&_Accessories  salesRank_Clothing  \\\n",
       "0                                  NaN                 NaN   \n",
       "\n",
       "   salesRank_Electronics  salesRank_Health_&_Personal_Care  \\\n",
       "0                    NaN                               NaN   \n",
       "\n",
       "   salesRank_Home_&_Kitchen  \\\n",
       "0                       NaN   \n",
       "\n",
       "                         ...                          salesRank_Jewelry  \\\n",
       "0                        ...                                        NaN   \n",
       "\n",
       "   salesRank_Kitchen_&_Dining  salesRank_Movies_&_TV  salesRank_Music  \\\n",
       "0                         NaN                    NaN              NaN   \n",
       "\n",
       "   salesRank_Musical_Instruments  salesRank_Office_Products  salesRank_Shoes  \\\n",
       "0                            NaN                        NaN              NaN   \n",
       "\n",
       "   salesRank_Sports_&_Outdoors  salesRank_Toys_&_Games  \\\n",
       "0                          NaN                     NaN   \n",
       "\n",
       "                                               title  \n",
       "0  The Crucible: Performed by Stuart Pankin, Jero...  \n",
       "\n",
       "[1 rows x 21 columns]"
      ]
     },
     "execution_count": 5,
     "metadata": {},
     "output_type": "execute_result"
    }
   ],
   "source": [
    "meta_books = import_interesting_cols(meta_books_path,DUMP_FOLDER,True,meta_interesting_cols,max_count=MAXCOUNT)\n",
    "meta_books.head(1)"
   ]
  },
  {
   "cell_type": "markdown",
   "metadata": {},
   "source": [
    "### Reviews"
   ]
  },
  {
   "cell_type": "code",
   "execution_count": 6,
   "metadata": {},
   "outputs": [
    {
     "name": "stdout",
     "output_type": "stream",
     "text": [
      "Retrieving from : ../../Project-Data/dump/reviews_Books_asin_overall_unixReviewTime_ALL\n",
      "It took 00:00:01.570 to import the data.\n"
     ]
    },
    {
     "data": {
      "text/html": [
       "<div>\n",
       "<style>\n",
       "    .dataframe thead tr:only-child th {\n",
       "        text-align: right;\n",
       "    }\n",
       "\n",
       "    .dataframe thead th {\n",
       "        text-align: left;\n",
       "    }\n",
       "\n",
       "    .dataframe tbody tr th {\n",
       "        vertical-align: top;\n",
       "    }\n",
       "</style>\n",
       "<table border=\"1\" class=\"dataframe\">\n",
       "  <thead>\n",
       "    <tr style=\"text-align: right;\">\n",
       "      <th></th>\n",
       "      <th>asin</th>\n",
       "      <th>overall</th>\n",
       "      <th>unixReviewTime</th>\n",
       "    </tr>\n",
       "  </thead>\n",
       "  <tbody>\n",
       "    <tr>\n",
       "      <th>0</th>\n",
       "      <td>0000000116</td>\n",
       "      <td>4.0</td>\n",
       "      <td>2002-04-27</td>\n",
       "    </tr>\n",
       "    <tr>\n",
       "      <th>1</th>\n",
       "      <td>0000000116</td>\n",
       "      <td>1.0</td>\n",
       "      <td>2014-03-24</td>\n",
       "    </tr>\n",
       "    <tr>\n",
       "      <th>2</th>\n",
       "      <td>0000000868</td>\n",
       "      <td>4.0</td>\n",
       "      <td>2002-09-11</td>\n",
       "    </tr>\n",
       "    <tr>\n",
       "      <th>3</th>\n",
       "      <td>0000013714</td>\n",
       "      <td>4.0</td>\n",
       "      <td>2013-10-31</td>\n",
       "    </tr>\n",
       "    <tr>\n",
       "      <th>4</th>\n",
       "      <td>0000013714</td>\n",
       "      <td>5.0</td>\n",
       "      <td>2013-07-27</td>\n",
       "    </tr>\n",
       "  </tbody>\n",
       "</table>\n",
       "</div>"
      ],
      "text/plain": [
       "         asin  overall unixReviewTime\n",
       "0  0000000116      4.0     2002-04-27\n",
       "1  0000000116      1.0     2014-03-24\n",
       "2  0000000868      4.0     2002-09-11\n",
       "3  0000013714      4.0     2013-10-31\n",
       "4  0000013714      5.0     2013-07-27"
      ]
     },
     "execution_count": 6,
     "metadata": {},
     "output_type": "execute_result"
    }
   ],
   "source": [
    "review_books = import_interesting_cols(\n",
    "    review_books_path, DUMP_FOLDER,False, review_interesting_cols, max_count=MAXCOUNT)\n",
    "review_books.head()"
   ]
  },
  {
   "cell_type": "markdown",
   "metadata": {},
   "source": [
    "### 5-Core"
   ]
  },
  {
   "cell_type": "code",
   "execution_count": 7,
   "metadata": {},
   "outputs": [
    {
     "name": "stdout",
     "output_type": "stream",
     "text": [
      "Retrieving from : ../../Project-Data/dump/Books_asin_overall_unixReviewTime_ALL\n",
      "It took 00:00:00.555 to import the data.\n"
     ]
    },
    {
     "data": {
      "text/html": [
       "<div>\n",
       "<style>\n",
       "    .dataframe thead tr:only-child th {\n",
       "        text-align: right;\n",
       "    }\n",
       "\n",
       "    .dataframe thead th {\n",
       "        text-align: left;\n",
       "    }\n",
       "\n",
       "    .dataframe tbody tr th {\n",
       "        vertical-align: top;\n",
       "    }\n",
       "</style>\n",
       "<table border=\"1\" class=\"dataframe\">\n",
       "  <thead>\n",
       "    <tr style=\"text-align: right;\">\n",
       "      <th></th>\n",
       "      <th>asin</th>\n",
       "      <th>overall</th>\n",
       "      <th>unixReviewTime</th>\n",
       "    </tr>\n",
       "  </thead>\n",
       "  <tbody>\n",
       "    <tr>\n",
       "      <th>0</th>\n",
       "      <td>000100039X</td>\n",
       "      <td>5.0</td>\n",
       "      <td>2012-12-16</td>\n",
       "    </tr>\n",
       "    <tr>\n",
       "      <th>1</th>\n",
       "      <td>000100039X</td>\n",
       "      <td>5.0</td>\n",
       "      <td>2003-12-11</td>\n",
       "    </tr>\n",
       "    <tr>\n",
       "      <th>2</th>\n",
       "      <td>000100039X</td>\n",
       "      <td>5.0</td>\n",
       "      <td>2014-01-18</td>\n",
       "    </tr>\n",
       "    <tr>\n",
       "      <th>3</th>\n",
       "      <td>000100039X</td>\n",
       "      <td>5.0</td>\n",
       "      <td>2011-09-27</td>\n",
       "    </tr>\n",
       "    <tr>\n",
       "      <th>4</th>\n",
       "      <td>000100039X</td>\n",
       "      <td>5.0</td>\n",
       "      <td>2002-10-07</td>\n",
       "    </tr>\n",
       "  </tbody>\n",
       "</table>\n",
       "</div>"
      ],
      "text/plain": [
       "         asin  overall unixReviewTime\n",
       "0  000100039X      5.0     2012-12-16\n",
       "1  000100039X      5.0     2003-12-11\n",
       "2  000100039X      5.0     2014-01-18\n",
       "3  000100039X      5.0     2011-09-27\n",
       "4  000100039X      5.0     2002-10-07"
      ]
     },
     "execution_count": 7,
     "metadata": {},
     "output_type": "execute_result"
    }
   ],
   "source": [
    "core_books = import_interesting_cols(\n",
    "    core_book_path,\n",
    "    DUMP_FOLDER,\n",
    "    False,\n",
    "    review_interesting_cols,\n",
    "    max_count=MAXCOUNT)\n",
    "core_books.head()"
   ]
  },
  {
   "cell_type": "markdown",
   "metadata": {},
   "source": [
    "## Movies and TV"
   ]
  },
  {
   "cell_type": "code",
   "execution_count": 8,
   "metadata": {},
   "outputs": [
    {
     "name": "stdout",
     "output_type": "stream",
     "text": [
      "Paths : \n",
      "\t meta = ../../Project-Data/meta/meta_Movies_and_Tv.json\n",
      "\t review = ../../Project-Data/reviews/reviews_Movies_and_Tv.json\n",
      "\t core_path = ../../Project-Data/5_core/Movies_and_Tv.json\n"
     ]
    }
   ],
   "source": [
    "meta_movie_path, review_movie_path, core_movie_path = get_paths(\n",
    "    1, DATA_FOLDER, META_FOLDER, CORE_FOLDER, REVIEWS_FOLDER, CATEGORIES)"
   ]
  },
  {
   "cell_type": "markdown",
   "metadata": {},
   "source": [
    "### Metadata"
   ]
  },
  {
   "cell_type": "code",
   "execution_count": 9,
   "metadata": {},
   "outputs": [
    {
     "name": "stdout",
     "output_type": "stream",
     "text": [
      "Retrieving from : ../../Project-Data/dump/meta_Movies_and_Tv_asin_title_salesRank_description_imUrl_ALL\n",
      "It took 00:00:00.426 to import the data.\n"
     ]
    },
    {
     "data": {
      "text/html": [
       "<div>\n",
       "<style>\n",
       "    .dataframe thead tr:only-child th {\n",
       "        text-align: right;\n",
       "    }\n",
       "\n",
       "    .dataframe thead th {\n",
       "        text-align: left;\n",
       "    }\n",
       "\n",
       "    .dataframe tbody tr th {\n",
       "        vertical-align: top;\n",
       "    }\n",
       "</style>\n",
       "<table border=\"1\" class=\"dataframe\">\n",
       "  <thead>\n",
       "    <tr style=\"text-align: right;\">\n",
       "      <th></th>\n",
       "      <th>asin</th>\n",
       "      <th>description</th>\n",
       "      <th>imUrl</th>\n",
       "      <th>salesRank_Arts,_Crafts_&amp;_Sewing</th>\n",
       "      <th>salesRank_Books</th>\n",
       "      <th>salesRank_Electronics</th>\n",
       "      <th>salesRank_Health_&amp;_Personal_Care</th>\n",
       "      <th>salesRank_Home_&amp;_Kitchen</th>\n",
       "      <th>salesRank_Industrial_&amp;_Scientific</th>\n",
       "      <th>salesRank_Movies_&amp;_TV</th>\n",
       "      <th>salesRank_Music</th>\n",
       "      <th>salesRank_Pet_Supplies</th>\n",
       "      <th>salesRank_Software</th>\n",
       "      <th>salesRank_Sports_&amp;_Outdoors</th>\n",
       "      <th>salesRank_Toys_&amp;_Games</th>\n",
       "      <th>salesRank_Video_Games</th>\n",
       "      <th>title</th>\n",
       "    </tr>\n",
       "  </thead>\n",
       "  <tbody>\n",
       "    <tr>\n",
       "      <th>0</th>\n",
       "      <td>0000143561</td>\n",
       "      <td>3Pack DVD set - Italian Classics, Parties and ...</td>\n",
       "      <td>http://g-ecx.images-amazon.com/images/G/01/x-s...</td>\n",
       "      <td>NaN</td>\n",
       "      <td>NaN</td>\n",
       "      <td>NaN</td>\n",
       "      <td>NaN</td>\n",
       "      <td>NaN</td>\n",
       "      <td>NaN</td>\n",
       "      <td>376041.0</td>\n",
       "      <td>NaN</td>\n",
       "      <td>NaN</td>\n",
       "      <td>NaN</td>\n",
       "      <td>NaN</td>\n",
       "      <td>NaN</td>\n",
       "      <td>NaN</td>\n",
       "      <td>Everyday Italian (with Giada de Laurentiis), V...</td>\n",
       "    </tr>\n",
       "    <tr>\n",
       "      <th>1</th>\n",
       "      <td>0000589012</td>\n",
       "      <td>NaN</td>\n",
       "      <td>http://ecx.images-amazon.com/images/I/519%2B1k...</td>\n",
       "      <td>NaN</td>\n",
       "      <td>NaN</td>\n",
       "      <td>NaN</td>\n",
       "      <td>NaN</td>\n",
       "      <td>NaN</td>\n",
       "      <td>NaN</td>\n",
       "      <td>1084845.0</td>\n",
       "      <td>NaN</td>\n",
       "      <td>NaN</td>\n",
       "      <td>NaN</td>\n",
       "      <td>NaN</td>\n",
       "      <td>NaN</td>\n",
       "      <td>NaN</td>\n",
       "      <td>Why Don't They Just Quit? DVD Roundtable Discu...</td>\n",
       "    </tr>\n",
       "    <tr>\n",
       "      <th>2</th>\n",
       "      <td>0000695009</td>\n",
       "      <td>NaN</td>\n",
       "      <td>http://g-ecx.images-amazon.com/images/G/01/x-s...</td>\n",
       "      <td>NaN</td>\n",
       "      <td>NaN</td>\n",
       "      <td>NaN</td>\n",
       "      <td>NaN</td>\n",
       "      <td>NaN</td>\n",
       "      <td>NaN</td>\n",
       "      <td>1022732.0</td>\n",
       "      <td>NaN</td>\n",
       "      <td>NaN</td>\n",
       "      <td>NaN</td>\n",
       "      <td>NaN</td>\n",
       "      <td>NaN</td>\n",
       "      <td>NaN</td>\n",
       "      <td>Understanding Seizures and Epilepsy DVD</td>\n",
       "    </tr>\n",
       "    <tr>\n",
       "      <th>3</th>\n",
       "      <td>000107461X</td>\n",
       "      <td>NaN</td>\n",
       "      <td>http://ecx.images-amazon.com/images/I/41WY47gL...</td>\n",
       "      <td>NaN</td>\n",
       "      <td>NaN</td>\n",
       "      <td>NaN</td>\n",
       "      <td>NaN</td>\n",
       "      <td>NaN</td>\n",
       "      <td>NaN</td>\n",
       "      <td>954116.0</td>\n",
       "      <td>NaN</td>\n",
       "      <td>NaN</td>\n",
       "      <td>NaN</td>\n",
       "      <td>NaN</td>\n",
       "      <td>NaN</td>\n",
       "      <td>NaN</td>\n",
       "      <td>Live in Houston [VHS]</td>\n",
       "    </tr>\n",
       "    <tr>\n",
       "      <th>4</th>\n",
       "      <td>0000143529</td>\n",
       "      <td>Disc 1: Flour Power (Scones; Shortcakes; South...</td>\n",
       "      <td>http://ecx.images-amazon.com/images/I/51QY79CD...</td>\n",
       "      <td>NaN</td>\n",
       "      <td>NaN</td>\n",
       "      <td>NaN</td>\n",
       "      <td>NaN</td>\n",
       "      <td>NaN</td>\n",
       "      <td>NaN</td>\n",
       "      <td>463562.0</td>\n",
       "      <td>NaN</td>\n",
       "      <td>NaN</td>\n",
       "      <td>NaN</td>\n",
       "      <td>NaN</td>\n",
       "      <td>NaN</td>\n",
       "      <td>NaN</td>\n",
       "      <td>My Fair Pastry (Good Eats Vol. 9)</td>\n",
       "    </tr>\n",
       "  </tbody>\n",
       "</table>\n",
       "</div>"
      ],
      "text/plain": [
       "         asin                                        description  \\\n",
       "0  0000143561  3Pack DVD set - Italian Classics, Parties and ...   \n",
       "1  0000589012                                                NaN   \n",
       "2  0000695009                                                NaN   \n",
       "3  000107461X                                                NaN   \n",
       "4  0000143529  Disc 1: Flour Power (Scones; Shortcakes; South...   \n",
       "\n",
       "                                               imUrl  \\\n",
       "0  http://g-ecx.images-amazon.com/images/G/01/x-s...   \n",
       "1  http://ecx.images-amazon.com/images/I/519%2B1k...   \n",
       "2  http://g-ecx.images-amazon.com/images/G/01/x-s...   \n",
       "3  http://ecx.images-amazon.com/images/I/41WY47gL...   \n",
       "4  http://ecx.images-amazon.com/images/I/51QY79CD...   \n",
       "\n",
       "   salesRank_Arts,_Crafts_&_Sewing  salesRank_Books  salesRank_Electronics  \\\n",
       "0                              NaN              NaN                    NaN   \n",
       "1                              NaN              NaN                    NaN   \n",
       "2                              NaN              NaN                    NaN   \n",
       "3                              NaN              NaN                    NaN   \n",
       "4                              NaN              NaN                    NaN   \n",
       "\n",
       "   salesRank_Health_&_Personal_Care  salesRank_Home_&_Kitchen  \\\n",
       "0                               NaN                       NaN   \n",
       "1                               NaN                       NaN   \n",
       "2                               NaN                       NaN   \n",
       "3                               NaN                       NaN   \n",
       "4                               NaN                       NaN   \n",
       "\n",
       "   salesRank_Industrial_&_Scientific  salesRank_Movies_&_TV  salesRank_Music  \\\n",
       "0                                NaN               376041.0              NaN   \n",
       "1                                NaN              1084845.0              NaN   \n",
       "2                                NaN              1022732.0              NaN   \n",
       "3                                NaN               954116.0              NaN   \n",
       "4                                NaN               463562.0              NaN   \n",
       "\n",
       "   salesRank_Pet_Supplies  salesRank_Software  salesRank_Sports_&_Outdoors  \\\n",
       "0                     NaN                 NaN                          NaN   \n",
       "1                     NaN                 NaN                          NaN   \n",
       "2                     NaN                 NaN                          NaN   \n",
       "3                     NaN                 NaN                          NaN   \n",
       "4                     NaN                 NaN                          NaN   \n",
       "\n",
       "   salesRank_Toys_&_Games  salesRank_Video_Games  \\\n",
       "0                     NaN                    NaN   \n",
       "1                     NaN                    NaN   \n",
       "2                     NaN                    NaN   \n",
       "3                     NaN                    NaN   \n",
       "4                     NaN                    NaN   \n",
       "\n",
       "                                               title  \n",
       "0  Everyday Italian (with Giada de Laurentiis), V...  \n",
       "1  Why Don't They Just Quit? DVD Roundtable Discu...  \n",
       "2            Understanding Seizures and Epilepsy DVD  \n",
       "3                              Live in Houston [VHS]  \n",
       "4                  My Fair Pastry (Good Eats Vol. 9)  "
      ]
     },
     "execution_count": 9,
     "metadata": {},
     "output_type": "execute_result"
    }
   ],
   "source": [
    "meta_movie = import_interesting_cols(\n",
    "    meta_movie_path,DUMP_FOLDER, True, meta_interesting_cols, max_count=MAXCOUNT, dropna=False)\n",
    "meta_movie.head()"
   ]
  },
  {
   "cell_type": "markdown",
   "metadata": {},
   "source": [
    "### Reviews"
   ]
  },
  {
   "cell_type": "code",
   "execution_count": 10,
   "metadata": {},
   "outputs": [
    {
     "name": "stdout",
     "output_type": "stream",
     "text": [
      "Retrieving from : ../../Project-Data/dump/reviews_Movies_and_Tv_asin_overall_unixReviewTime_100\n",
      "It took 00:00:00.003 to import the data.\n"
     ]
    },
    {
     "data": {
      "text/html": [
       "<div>\n",
       "<style>\n",
       "    .dataframe thead tr:only-child th {\n",
       "        text-align: right;\n",
       "    }\n",
       "\n",
       "    .dataframe thead th {\n",
       "        text-align: left;\n",
       "    }\n",
       "\n",
       "    .dataframe tbody tr th {\n",
       "        vertical-align: top;\n",
       "    }\n",
       "</style>\n",
       "<table border=\"1\" class=\"dataframe\">\n",
       "  <thead>\n",
       "    <tr style=\"text-align: right;\">\n",
       "      <th></th>\n",
       "      <th>asin</th>\n",
       "      <th>overall</th>\n",
       "      <th>unixReviewTime</th>\n",
       "    </tr>\n",
       "  </thead>\n",
       "  <tbody>\n",
       "    <tr>\n",
       "      <th>0</th>\n",
       "      <td>0000143502</td>\n",
       "      <td>5.0</td>\n",
       "      <td>2013-01-17</td>\n",
       "    </tr>\n",
       "    <tr>\n",
       "      <th>1</th>\n",
       "      <td>0000143529</td>\n",
       "      <td>5.0</td>\n",
       "      <td>2013-10-02</td>\n",
       "    </tr>\n",
       "    <tr>\n",
       "      <th>2</th>\n",
       "      <td>0000143561</td>\n",
       "      <td>2.0</td>\n",
       "      <td>2008-07-17</td>\n",
       "    </tr>\n",
       "    <tr>\n",
       "      <th>3</th>\n",
       "      <td>0000143588</td>\n",
       "      <td>5.0</td>\n",
       "      <td>2009-03-13</td>\n",
       "    </tr>\n",
       "    <tr>\n",
       "      <th>4</th>\n",
       "      <td>0000143588</td>\n",
       "      <td>5.0</td>\n",
       "      <td>2009-01-18</td>\n",
       "    </tr>\n",
       "  </tbody>\n",
       "</table>\n",
       "</div>"
      ],
      "text/plain": [
       "         asin  overall unixReviewTime\n",
       "0  0000143502      5.0     2013-01-17\n",
       "1  0000143529      5.0     2013-10-02\n",
       "2  0000143561      2.0     2008-07-17\n",
       "3  0000143588      5.0     2009-03-13\n",
       "4  0000143588      5.0     2009-01-18"
      ]
     },
     "execution_count": 10,
     "metadata": {},
     "output_type": "execute_result"
    }
   ],
   "source": [
    "review_movie = import_interesting_cols(\n",
    "    review_movie_path,\n",
    "    DUMP_FOLDER,\n",
    "    False,\n",
    "    review_interesting_cols,\n",
    "    max_count=100,\n",
    "    dropna=False)\n",
    "review_movie.head()"
   ]
  },
  {
   "cell_type": "markdown",
   "metadata": {
    "collapsed": true
   },
   "source": [
    "## Electronics"
   ]
  },
  {
   "cell_type": "code",
   "execution_count": 11,
   "metadata": {},
   "outputs": [
    {
     "name": "stdout",
     "output_type": "stream",
     "text": [
      "Paths : \n",
      "\t meta = ../../Project-Data/meta/meta_Electronics.json\n",
      "\t review = ../../Project-Data/reviews/reviews_Electronics.json\n",
      "\t core_path = ../../Project-Data/5_core/Electronics.json\n"
     ]
    }
   ],
   "source": [
    "meta_electronic_path, review_electronic_path, core_electronic_path = get_paths(\n",
    "    2, DATA_FOLDER,META_FOLDER,CORE_FOLDER, REVIEWS_FOLDER, CATEGORIES)"
   ]
  },
  {
   "cell_type": "markdown",
   "metadata": {},
   "source": [
    "### Metadata"
   ]
  },
  {
   "cell_type": "code",
   "execution_count": 12,
   "metadata": {},
   "outputs": [
    {
     "name": "stdout",
     "output_type": "stream",
     "text": [
      "Retrieving from : ../../Project-Data/dump/meta_Electronics_asin_title_salesRank_description_imUrl_ALL\n",
      "It took 00:00:01.201 to import the data.\n"
     ]
    },
    {
     "data": {
      "text/html": [
       "<div>\n",
       "<style>\n",
       "    .dataframe thead tr:only-child th {\n",
       "        text-align: right;\n",
       "    }\n",
       "\n",
       "    .dataframe thead th {\n",
       "        text-align: left;\n",
       "    }\n",
       "\n",
       "    .dataframe tbody tr th {\n",
       "        vertical-align: top;\n",
       "    }\n",
       "</style>\n",
       "<table border=\"1\" class=\"dataframe\">\n",
       "  <thead>\n",
       "    <tr style=\"text-align: right;\">\n",
       "      <th></th>\n",
       "      <th>asin</th>\n",
       "      <th>description</th>\n",
       "      <th>imUrl</th>\n",
       "      <th>salesRank_Arts,_Crafts_&amp;_Sewing</th>\n",
       "      <th>salesRank_Automotive</th>\n",
       "      <th>salesRank_Baby</th>\n",
       "      <th>salesRank_Beauty</th>\n",
       "      <th>salesRank_Camera_&amp;_Photo</th>\n",
       "      <th>salesRank_Cell_Phones_&amp;_Accessories</th>\n",
       "      <th>salesRank_Clothing</th>\n",
       "      <th>...</th>\n",
       "      <th>salesRank_Office_Products</th>\n",
       "      <th>salesRank_Patio,_Lawn_&amp;_Garden</th>\n",
       "      <th>salesRank_Pet_Supplies</th>\n",
       "      <th>salesRank_Shoes</th>\n",
       "      <th>salesRank_Software</th>\n",
       "      <th>salesRank_Sports_&amp;_Outdoors</th>\n",
       "      <th>salesRank_Toys_&amp;_Games</th>\n",
       "      <th>salesRank_Video_Games</th>\n",
       "      <th>salesRank_Watches</th>\n",
       "      <th>title</th>\n",
       "    </tr>\n",
       "  </thead>\n",
       "  <tbody>\n",
       "    <tr>\n",
       "      <th>0</th>\n",
       "      <td>0132793040</td>\n",
       "      <td>The Kelby Training DVD Mastering Blend Modes i...</td>\n",
       "      <td>http://ecx.images-amazon.com/images/I/31JIPhp%...</td>\n",
       "      <td>NaN</td>\n",
       "      <td>NaN</td>\n",
       "      <td>NaN</td>\n",
       "      <td>NaN</td>\n",
       "      <td>NaN</td>\n",
       "      <td>NaN</td>\n",
       "      <td>NaN</td>\n",
       "      <td>...</td>\n",
       "      <td>NaN</td>\n",
       "      <td>NaN</td>\n",
       "      <td>NaN</td>\n",
       "      <td>NaN</td>\n",
       "      <td>NaN</td>\n",
       "      <td>NaN</td>\n",
       "      <td>NaN</td>\n",
       "      <td>NaN</td>\n",
       "      <td>NaN</td>\n",
       "      <td>Kelby Training DVD: Mastering Blend Modes in A...</td>\n",
       "    </tr>\n",
       "    <tr>\n",
       "      <th>1</th>\n",
       "      <td>0321732944</td>\n",
       "      <td>NaN</td>\n",
       "      <td>http://ecx.images-amazon.com/images/I/31uogm6Y...</td>\n",
       "      <td>NaN</td>\n",
       "      <td>NaN</td>\n",
       "      <td>NaN</td>\n",
       "      <td>NaN</td>\n",
       "      <td>NaN</td>\n",
       "      <td>NaN</td>\n",
       "      <td>NaN</td>\n",
       "      <td>...</td>\n",
       "      <td>NaN</td>\n",
       "      <td>NaN</td>\n",
       "      <td>NaN</td>\n",
       "      <td>NaN</td>\n",
       "      <td>NaN</td>\n",
       "      <td>NaN</td>\n",
       "      <td>NaN</td>\n",
       "      <td>NaN</td>\n",
       "      <td>NaN</td>\n",
       "      <td>Kelby Training DVD: Adobe Photoshop CS5 Crash ...</td>\n",
       "    </tr>\n",
       "  </tbody>\n",
       "</table>\n",
       "<p>2 rows × 32 columns</p>\n",
       "</div>"
      ],
      "text/plain": [
       "         asin                                        description  \\\n",
       "0  0132793040  The Kelby Training DVD Mastering Blend Modes i...   \n",
       "1  0321732944                                                NaN   \n",
       "\n",
       "                                               imUrl  \\\n",
       "0  http://ecx.images-amazon.com/images/I/31JIPhp%...   \n",
       "1  http://ecx.images-amazon.com/images/I/31uogm6Y...   \n",
       "\n",
       "   salesRank_Arts,_Crafts_&_Sewing  salesRank_Automotive  salesRank_Baby  \\\n",
       "0                              NaN                   NaN             NaN   \n",
       "1                              NaN                   NaN             NaN   \n",
       "\n",
       "   salesRank_Beauty  salesRank_Camera_&_Photo  \\\n",
       "0               NaN                       NaN   \n",
       "1               NaN                       NaN   \n",
       "\n",
       "   salesRank_Cell_Phones_&_Accessories  salesRank_Clothing  \\\n",
       "0                                  NaN                 NaN   \n",
       "1                                  NaN                 NaN   \n",
       "\n",
       "                         ...                          \\\n",
       "0                        ...                           \n",
       "1                        ...                           \n",
       "\n",
       "   salesRank_Office_Products  salesRank_Patio,_Lawn_&_Garden  \\\n",
       "0                        NaN                             NaN   \n",
       "1                        NaN                             NaN   \n",
       "\n",
       "   salesRank_Pet_Supplies  salesRank_Shoes  salesRank_Software  \\\n",
       "0                     NaN              NaN                 NaN   \n",
       "1                     NaN              NaN                 NaN   \n",
       "\n",
       "   salesRank_Sports_&_Outdoors  salesRank_Toys_&_Games  salesRank_Video_Games  \\\n",
       "0                          NaN                     NaN                    NaN   \n",
       "1                          NaN                     NaN                    NaN   \n",
       "\n",
       "   salesRank_Watches                                              title  \n",
       "0                NaN  Kelby Training DVD: Mastering Blend Modes in A...  \n",
       "1                NaN  Kelby Training DVD: Adobe Photoshop CS5 Crash ...  \n",
       "\n",
       "[2 rows x 32 columns]"
      ]
     },
     "execution_count": 12,
     "metadata": {},
     "output_type": "execute_result"
    }
   ],
   "source": [
    "meta_electronic = import_interesting_cols(\n",
    "    meta_electronic_path,\n",
    "    DUMP_FOLDER,\n",
    "    True,\n",
    "    meta_interesting_cols,\n",
    "    max_count=MAXCOUNT,\n",
    "    dropna=False)\n",
    "meta_electronic.head(2)"
   ]
  },
  {
   "cell_type": "markdown",
   "metadata": {},
   "source": [
    "### Review"
   ]
  },
  {
   "cell_type": "code",
   "execution_count": 13,
   "metadata": {},
   "outputs": [
    {
     "name": "stdout",
     "output_type": "stream",
     "text": [
      "Retrieving from : ../../Project-Data/dump/reviews_Electronics_asin_overall_unixReviewTime_ALL\n",
      "It took 00:00:00.503 to import the data.\n"
     ]
    },
    {
     "data": {
      "text/html": [
       "<div>\n",
       "<style>\n",
       "    .dataframe thead tr:only-child th {\n",
       "        text-align: right;\n",
       "    }\n",
       "\n",
       "    .dataframe thead th {\n",
       "        text-align: left;\n",
       "    }\n",
       "\n",
       "    .dataframe tbody tr th {\n",
       "        vertical-align: top;\n",
       "    }\n",
       "</style>\n",
       "<table border=\"1\" class=\"dataframe\">\n",
       "  <thead>\n",
       "    <tr style=\"text-align: right;\">\n",
       "      <th></th>\n",
       "      <th>asin</th>\n",
       "      <th>overall</th>\n",
       "      <th>unixReviewTime</th>\n",
       "    </tr>\n",
       "  </thead>\n",
       "  <tbody>\n",
       "    <tr>\n",
       "      <th>0</th>\n",
       "      <td>0132793040</td>\n",
       "      <td>5.0</td>\n",
       "      <td>2013-04-13</td>\n",
       "    </tr>\n",
       "    <tr>\n",
       "      <th>1</th>\n",
       "      <td>0321732944</td>\n",
       "      <td>5.0</td>\n",
       "      <td>2012-07-01</td>\n",
       "    </tr>\n",
       "    <tr>\n",
       "      <th>2</th>\n",
       "      <td>0439886341</td>\n",
       "      <td>1.0</td>\n",
       "      <td>2013-04-29</td>\n",
       "    </tr>\n",
       "    <tr>\n",
       "      <th>3</th>\n",
       "      <td>0439886341</td>\n",
       "      <td>3.0</td>\n",
       "      <td>2013-07-22</td>\n",
       "    </tr>\n",
       "    <tr>\n",
       "      <th>4</th>\n",
       "      <td>0439886341</td>\n",
       "      <td>1.0</td>\n",
       "      <td>2012-04-18</td>\n",
       "    </tr>\n",
       "  </tbody>\n",
       "</table>\n",
       "</div>"
      ],
      "text/plain": [
       "         asin  overall unixReviewTime\n",
       "0  0132793040      5.0     2013-04-13\n",
       "1  0321732944      5.0     2012-07-01\n",
       "2  0439886341      1.0     2013-04-29\n",
       "3  0439886341      3.0     2013-07-22\n",
       "4  0439886341      1.0     2012-04-18"
      ]
     },
     "execution_count": 13,
     "metadata": {},
     "output_type": "execute_result"
    }
   ],
   "source": [
    "review_electronic = import_interesting_cols(\n",
    "    review_electronic_path,\n",
    "    DUMP_FOLDER,\n",
    "    False,\n",
    "    review_interesting_cols,\n",
    "    max_count=MAXCOUNT,\n",
    "    dropna=False)\n",
    "review_electronic.head()"
   ]
  },
  {
   "cell_type": "markdown",
   "metadata": {},
   "source": [
    "# Detecting similar products\n",
    "In this section we try to obtain the products that are similar among a given category and to develop a systematic way to detect those similar products. We decided to focus mainly on books because it makes sense to have multiple book items on amazon that only differ by small caracteristics (e.g. edition) but not on their content. \n",
    "In a first approach we decided to focus on reviews and products from the ```5-core``` dataset. Those are products and reviewers that have at least 5 reviews. This was done in order **to have consistent reviews and products with actually enough reviews to conduct our analysis**"
   ]
  },
  {
   "cell_type": "markdown",
   "metadata": {},
   "source": [
    "## Books"
   ]
  },
  {
   "cell_type": "markdown",
   "metadata": {},
   "source": [
    "### Defining the dataset to work with"
   ]
  },
  {
   "cell_type": "markdown",
   "metadata": {},
   "source": [
    "Some books are sold in different formats : hard cover, pocket, electronic, etc. Therefore in order to compare them we will focus on the title and description that are the only two attributes that should be highly similar between the two different yet similar books."
   ]
  },
  {
   "cell_type": "code",
   "execution_count": 14,
   "metadata": {
    "scrolled": false
   },
   "outputs": [
    {
     "data": {
      "text/html": [
       "<div>\n",
       "<style>\n",
       "    .dataframe thead tr:only-child th {\n",
       "        text-align: right;\n",
       "    }\n",
       "\n",
       "    .dataframe thead th {\n",
       "        text-align: left;\n",
       "    }\n",
       "\n",
       "    .dataframe tbody tr th {\n",
       "        vertical-align: top;\n",
       "    }\n",
       "</style>\n",
       "<table border=\"1\" class=\"dataframe\">\n",
       "  <thead>\n",
       "    <tr style=\"text-align: right;\">\n",
       "      <th></th>\n",
       "      <th>title</th>\n",
       "      <th>description</th>\n",
       "      <th>imUrl</th>\n",
       "    </tr>\n",
       "    <tr>\n",
       "      <th>asin</th>\n",
       "      <th></th>\n",
       "      <th></th>\n",
       "      <th></th>\n",
       "    </tr>\n",
       "  </thead>\n",
       "  <tbody>\n",
       "    <tr>\n",
       "      <th>0001055178</th>\n",
       "      <td>Master Georgie</td>\n",
       "      <td>Beryl Bainbridge seems drawn to disaster. Firs...</td>\n",
       "      <td>http://ecx.images-amazon.com/images/I/51ZSC6TK...</td>\n",
       "    </tr>\n",
       "    <tr>\n",
       "      <th>000171287X</th>\n",
       "      <td>The Berenstains' B Book (Bright &amp; Early Books)</td>\n",
       "      <td>By Stan Berenstain and Jan Berenstain, Illustr...</td>\n",
       "      <td>http://ecx.images-amazon.com/images/I/31hjUxZu...</td>\n",
       "    </tr>\n",
       "    <tr>\n",
       "      <th>000100039X</th>\n",
       "      <td>The Prophet</td>\n",
       "      <td>In a distant, timeless place, a mysterious pro...</td>\n",
       "      <td>http://ecx.images-amazon.com/images/I/81ZKLPiv...</td>\n",
       "    </tr>\n",
       "    <tr>\n",
       "      <th>0001473905</th>\n",
       "      <td>Rightly Dividing the Word</td>\n",
       "      <td>--This text refers to thePaperbackedition.</td>\n",
       "      <td>http://ecx.images-amazon.com/images/I/61KPC59B...</td>\n",
       "    </tr>\n",
       "    <tr>\n",
       "      <th>0001714538</th>\n",
       "      <td>The Berenstain Bears on the Moon (Bright and E...</td>\n",
       "      <td>PreSchool-Grade 2 A delightful tale told in rh...</td>\n",
       "      <td>http://ecx.images-amazon.com/images/I/A1zj84uC...</td>\n",
       "    </tr>\n",
       "  </tbody>\n",
       "</table>\n",
       "</div>"
      ],
      "text/plain": [
       "                                                        title  \\\n",
       "asin                                                            \n",
       "0001055178                                     Master Georgie   \n",
       "000171287X     The Berenstains' B Book (Bright & Early Books)   \n",
       "000100039X                                        The Prophet   \n",
       "0001473905                          Rightly Dividing the Word   \n",
       "0001714538  The Berenstain Bears on the Moon (Bright and E...   \n",
       "\n",
       "                                                  description  \\\n",
       "asin                                                            \n",
       "0001055178  Beryl Bainbridge seems drawn to disaster. Firs...   \n",
       "000171287X  By Stan Berenstain and Jan Berenstain, Illustr...   \n",
       "000100039X  In a distant, timeless place, a mysterious pro...   \n",
       "0001473905         --This text refers to thePaperbackedition.   \n",
       "0001714538  PreSchool-Grade 2 A delightful tale told in rh...   \n",
       "\n",
       "                                                        imUrl  \n",
       "asin                                                           \n",
       "0001055178  http://ecx.images-amazon.com/images/I/51ZSC6TK...  \n",
       "000171287X  http://ecx.images-amazon.com/images/I/31hjUxZu...  \n",
       "000100039X  http://ecx.images-amazon.com/images/I/81ZKLPiv...  \n",
       "0001473905  http://ecx.images-amazon.com/images/I/61KPC59B...  \n",
       "0001714538  http://ecx.images-amazon.com/images/I/A1zj84uC...  "
      ]
     },
     "execution_count": 14,
     "metadata": {},
     "output_type": "execute_result"
    }
   ],
   "source": [
    "core_asin = list(core_books['asin'].unique())\n",
    "\n",
    "# We delete all the rows where either the title or description is null and keep only core books\n",
    "core_meta_df = meta_books[meta_books['title'].notnull()]\n",
    "core_meta_df = core_meta_df[core_meta_df['description'].notnull()]\n",
    "core_meta_df = core_meta_df[core_meta_df['imUrl'].notnull()]\n",
    "core_meta_df = core_meta_df[core_meta_df['asin'].isin(core_asin)]\n",
    "book_desc_titles = core_meta_df[['asin','title','description','imUrl']]\n",
    "book_desc_titles = book_desc_titles.set_index(['asin'])\n",
    "book_desc_titles.head()"
   ]
  },
  {
   "cell_type": "code",
   "execution_count": 15,
   "metadata": {},
   "outputs": [
    {
     "name": "stdout",
     "output_type": "stream",
     "text": [
      "We have 217805 different books.\n"
     ]
    },
    {
     "data": {
      "text/plain": [
       "True"
      ]
     },
     "execution_count": 15,
     "metadata": {},
     "output_type": "execute_result"
    }
   ],
   "source": [
    "print(\"We have {} different books.\".format(len(book_desc_titles.index)))\n",
    "book_desc_titles.index.is_unique\n"
   ]
  },
  {
   "cell_type": "markdown",
   "metadata": {},
   "source": [
    "Now we need to compare books, nevertheless, we see that there are way too many such books in order to compare them pariwisely. Therefore after some ressearch we found a method that allow us to compute a value for each book and only compare books with similar values. We explain in the following sections what is this value and why is it relevant to compare only books with similar values."
   ]
  },
  {
   "cell_type": "markdown",
   "metadata": {},
   "source": [
    "### Locality sensitive hashing\n",
    "Based on this [article](http://dataconomy.com/2017/06/locality-sensitive-hashing-pydata/), and following the theory that can be read at the chapter 3.4 of [Mining of massive datasets by Leskovec, Rajaraman and Milliway](http://infolab.stanford.edu/~ullman/mmds/book.pdf) we will try to find similar books."
   ]
  },
  {
   "cell_type": "markdown",
   "metadata": {},
   "source": [
    "#### The ```minhash```"
   ]
  },
  {
   "cell_type": "markdown",
   "metadata": {},
   "source": [
    "We need to detect near similar books in this large datasets. To do so we would need to compare each of the attribute of a given book with all the others which is extremely computationaly expensive. There we will use LSH. Right now the title and description of the book have variable length depending on the books. To perform LSH we would like to have a fixed length representation of the document without modifying the semantics of document similarity.\n",
    "* first we introduce the principle of shingles. A shingle of 5-gram (hence we discard the last shingle as it only consists in the $<5$ last characters of the document) e.g. is a set of all possible 5-grams in the string. "
   ]
  },
  {
   "cell_type": "code",
   "execution_count": 16,
   "metadata": {
    "collapsed": true,
    "scrolled": false
   },
   "outputs": [],
   "source": [
    "document = \"Lorem Ipsum dolor sit amet\"\n",
    "shingles = get_shingles(document)"
   ]
  },
  {
   "cell_type": "code",
   "execution_count": 17,
   "metadata": {},
   "outputs": [
    {
     "data": {
      "text/plain": [
       "0.4666666666666667"
      ]
     },
     "execution_count": 17,
     "metadata": {},
     "output_type": "execute_result"
    }
   ],
   "source": [
    "other_document = 'Lorem Ipsum dolor sit amet with some extra garbage'\n",
    "other_shingles = get_shingles(other_document)\n",
    "jaccard_dist(shingles,other_shingles)"
   ]
  },
  {
   "cell_type": "markdown",
   "metadata": {},
   "source": [
    "Each document will still have a different number of shingles depending on its length. Therefore we wish to represent it using a *fixed length representation*. We will present now a function ```minhash``` that has a collision probability that is exactly the jaccard similarity (based on this [document](http://infolab.stanford.edu/~ullman/mmds/ch3.pdf) and following this [repo](https://github.com/mattilyra/LSH/blob/master/examples/Introduction.ipynb)) . We explain this now :\n",
    "1. Suppose that the following dataframe is the boolean variable corresponding to whether or not a shingle belongs to a document\n",
    "2. the ```minhash``` of a document returns a random permutation of the rows and then the first row number it founds where the value is non 0.\n",
    "    * therefore row 1 for doc 1\n",
    "    * and row 0 for doc 2"
   ]
  },
  {
   "cell_type": "code",
   "execution_count": 18,
   "metadata": {
    "scrolled": true
   },
   "outputs": [
    {
     "data": {
      "text/html": [
       "<div>\n",
       "<style>\n",
       "    .dataframe thead tr:only-child th {\n",
       "        text-align: right;\n",
       "    }\n",
       "\n",
       "    .dataframe thead th {\n",
       "        text-align: left;\n",
       "    }\n",
       "\n",
       "    .dataframe tbody tr th {\n",
       "        vertical-align: top;\n",
       "    }\n",
       "</style>\n",
       "<table border=\"1\" class=\"dataframe\">\n",
       "  <thead>\n",
       "    <tr style=\"text-align: right;\">\n",
       "      <th></th>\n",
       "      <th>doc1</th>\n",
       "      <th>doc2</th>\n",
       "      <th>shingleID</th>\n",
       "    </tr>\n",
       "  </thead>\n",
       "  <tbody>\n",
       "    <tr>\n",
       "      <th>0</th>\n",
       "      <td>0</td>\n",
       "      <td>1</td>\n",
       "      <td>1</td>\n",
       "    </tr>\n",
       "    <tr>\n",
       "      <th>1</th>\n",
       "      <td>1</td>\n",
       "      <td>1</td>\n",
       "      <td>2</td>\n",
       "    </tr>\n",
       "    <tr>\n",
       "      <th>2</th>\n",
       "      <td>0</td>\n",
       "      <td>1</td>\n",
       "      <td>3</td>\n",
       "    </tr>\n",
       "    <tr>\n",
       "      <th>3</th>\n",
       "      <td>0</td>\n",
       "      <td>0</td>\n",
       "      <td>4</td>\n",
       "    </tr>\n",
       "    <tr>\n",
       "      <th>4</th>\n",
       "      <td>1</td>\n",
       "      <td>1</td>\n",
       "      <td>5</td>\n",
       "    </tr>\n",
       "    <tr>\n",
       "      <th>5</th>\n",
       "      <td>1</td>\n",
       "      <td>0</td>\n",
       "      <td>6</td>\n",
       "    </tr>\n",
       "  </tbody>\n",
       "</table>\n",
       "</div>"
      ],
      "text/plain": [
       "   doc1  doc2  shingleID\n",
       "0     0     1          1\n",
       "1     1     1          2\n",
       "2     0     1          3\n",
       "3     0     0          4\n",
       "4     1     1          5\n",
       "5     1     0          6"
      ]
     },
     "execution_count": 18,
     "metadata": {},
     "output_type": "execute_result"
    }
   ],
   "source": [
    "ex_minhash = pd.DataFrame({'shingleID':[1,2,3,4,5,6],'doc1':[0,1,0,0,1,1],'doc2':[1,1,1,0,1,0]})\n",
    "ex_minhash"
   ]
  },
  {
   "cell_type": "markdown",
   "metadata": {},
   "source": [
    "But this is for this particular permutation, if we had another one like below then the ```minhash``` would return :\n",
    "   * row 2 for doc1\n",
    "   * row 1 for doc2\n",
    "\n",
    "There are a lot of such permutations. Nevertheless we only care about having the same row for each document which mean we have collision of the ```minhash```. Therefore we have only two rows for which this happens : $\\text{shingleID} \\in \\{2,5\\}$. Hence the probability that the two doc have the same ```minhash``` (remmember that rows with two zeros do not count as they are not considered by ```minhash```) is the number of rows where both doc value is 1 divided by the number of rows where they are different : $\\frac{2}{5}$"
   ]
  },
  {
   "cell_type": "code",
   "execution_count": 19,
   "metadata": {},
   "outputs": [
    {
     "data": {
      "text/html": [
       "<div>\n",
       "<style>\n",
       "    .dataframe thead tr:only-child th {\n",
       "        text-align: right;\n",
       "    }\n",
       "\n",
       "    .dataframe thead th {\n",
       "        text-align: left;\n",
       "    }\n",
       "\n",
       "    .dataframe tbody tr th {\n",
       "        vertical-align: top;\n",
       "    }\n",
       "</style>\n",
       "<table border=\"1\" class=\"dataframe\">\n",
       "  <thead>\n",
       "    <tr style=\"text-align: right;\">\n",
       "      <th></th>\n",
       "      <th>doc1</th>\n",
       "      <th>doc2</th>\n",
       "      <th>shingleID</th>\n",
       "    </tr>\n",
       "  </thead>\n",
       "  <tbody>\n",
       "    <tr>\n",
       "      <th>2</th>\n",
       "      <td>0</td>\n",
       "      <td>1</td>\n",
       "      <td>3</td>\n",
       "    </tr>\n",
       "    <tr>\n",
       "      <th>0</th>\n",
       "      <td>0</td>\n",
       "      <td>1</td>\n",
       "      <td>1</td>\n",
       "    </tr>\n",
       "    <tr>\n",
       "      <th>5</th>\n",
       "      <td>1</td>\n",
       "      <td>0</td>\n",
       "      <td>6</td>\n",
       "    </tr>\n",
       "    <tr>\n",
       "      <th>1</th>\n",
       "      <td>1</td>\n",
       "      <td>1</td>\n",
       "      <td>2</td>\n",
       "    </tr>\n",
       "    <tr>\n",
       "      <th>4</th>\n",
       "      <td>1</td>\n",
       "      <td>1</td>\n",
       "      <td>5</td>\n",
       "    </tr>\n",
       "    <tr>\n",
       "      <th>3</th>\n",
       "      <td>0</td>\n",
       "      <td>0</td>\n",
       "      <td>4</td>\n",
       "    </tr>\n",
       "  </tbody>\n",
       "</table>\n",
       "</div>"
      ],
      "text/plain": [
       "   doc1  doc2  shingleID\n",
       "2     0     1          3\n",
       "0     0     1          1\n",
       "5     1     0          6\n",
       "1     1     1          2\n",
       "4     1     1          5\n",
       "3     0     0          4"
      ]
     },
     "execution_count": 19,
     "metadata": {},
     "output_type": "execute_result"
    }
   ],
   "source": [
    "ex_minhash.sample(frac=1)"
   ]
  },
  {
   "cell_type": "markdown",
   "metadata": {},
   "source": [
    "We can chose the length of the fingerprint that is returned by the ```minhash```, as we increase the length we get less variance from the random initialisation of the ```minhasher``` but this also greatly increases the memory usage."
   ]
  },
  {
   "cell_type": "markdown",
   "metadata": {},
   "source": [
    "#### The principle of LSH"
   ]
  },
  {
   "cell_type": "code",
   "execution_count": 20,
   "metadata": {},
   "outputs": [
    {
     "data": {
      "text/plain": [
       "100"
      ]
     },
     "execution_count": 20,
     "metadata": {},
     "output_type": "execute_result"
    }
   ],
   "source": [
    "from lsh import minhash\n",
    "hasher = minhash.MinHasher(seeds=100, char_ngram=5)\n",
    "fingerprint0 = hasher.fingerprint('Lorem Ipsum dolor sit amet'.encode('utf8'))\n",
    "len(fingerprint0)"
   ]
  },
  {
   "cell_type": "markdown",
   "metadata": {},
   "source": [
    "Therefore the hash of a document is composed of a given (```seeds```) number of ```minhashes```. We divide this number of ```minhashes``` into a given number of parts (e.g. 5). Since every single ```minhash``` has the jaccard similarity probability of collision then each of the 5 parts will have this probability as well. These parts represent the **locality** in the term LSH.\n",
    "\n",
    "Then we hash the content of each part using a different hash function to obtain the *binID* that represents the **hashing** part of the method. Into each bin with *binID* we store the entire fingerprint of the document.\n",
    "\n",
    "The idea is then that we compare documents that fall in the same bins : we will compare their fingerprint which is equivalent to looking at their Jaccard similarity between shingle sets. Since not all documents will fall into the same bins we have reduced the number of potential candidates.\n",
    "\n",
    "Indeed we call :\n",
    "* ```seeds``` :  number of ```minihashes``` that compose the fingerprint\n",
    "* ```bands``` : the number of bins that we want to use"
   ]
  },
  {
   "cell_type": "markdown",
   "metadata": {},
   "source": [
    "#### Finding candidate duplicates\n",
    "We base this search on the titles of the books. This is due to the fact that the ```description``` attribute is often meaningless for such analysis (in some book it is just the review by some newspaper). Also the ```Author``` variable can be misleading as some products will list all the authors of the book while others might not. **Therefore we use titles as input to our LSH**"
   ]
  },
  {
   "cell_type": "code",
   "execution_count": 21,
   "metadata": {},
   "outputs": [
    {
     "data": {
      "text/html": [
       "<div>\n",
       "<style>\n",
       "    .dataframe thead tr:only-child th {\n",
       "        text-align: right;\n",
       "    }\n",
       "\n",
       "    .dataframe thead th {\n",
       "        text-align: left;\n",
       "    }\n",
       "\n",
       "    .dataframe tbody tr th {\n",
       "        vertical-align: top;\n",
       "    }\n",
       "</style>\n",
       "<table border=\"1\" class=\"dataframe\">\n",
       "  <thead>\n",
       "    <tr style=\"text-align: right;\">\n",
       "      <th></th>\n",
       "      <th>title</th>\n",
       "      <th>description</th>\n",
       "      <th>imUrl</th>\n",
       "    </tr>\n",
       "    <tr>\n",
       "      <th>asin</th>\n",
       "      <th></th>\n",
       "      <th></th>\n",
       "      <th></th>\n",
       "    </tr>\n",
       "  </thead>\n",
       "  <tbody>\n",
       "    <tr>\n",
       "      <th>0001055178</th>\n",
       "      <td>Master Georgie</td>\n",
       "      <td>Beryl Bainbridge seems drawn to disaster. Firs...</td>\n",
       "      <td>http://ecx.images-amazon.com/images/I/51ZSC6TK...</td>\n",
       "    </tr>\n",
       "    <tr>\n",
       "      <th>000171287X</th>\n",
       "      <td>The Berenstains' B Book (Bright &amp; Early Books)</td>\n",
       "      <td>By Stan Berenstain and Jan Berenstain, Illustr...</td>\n",
       "      <td>http://ecx.images-amazon.com/images/I/31hjUxZu...</td>\n",
       "    </tr>\n",
       "    <tr>\n",
       "      <th>000100039X</th>\n",
       "      <td>The Prophet</td>\n",
       "      <td>In a distant, timeless place, a mysterious pro...</td>\n",
       "      <td>http://ecx.images-amazon.com/images/I/81ZKLPiv...</td>\n",
       "    </tr>\n",
       "    <tr>\n",
       "      <th>0001473905</th>\n",
       "      <td>Rightly Dividing the Word</td>\n",
       "      <td>--This text refers to thePaperbackedition.</td>\n",
       "      <td>http://ecx.images-amazon.com/images/I/61KPC59B...</td>\n",
       "    </tr>\n",
       "    <tr>\n",
       "      <th>0001714538</th>\n",
       "      <td>The Berenstain Bears on the Moon (Bright and E...</td>\n",
       "      <td>PreSchool-Grade 2 A delightful tale told in rh...</td>\n",
       "      <td>http://ecx.images-amazon.com/images/I/A1zj84uC...</td>\n",
       "    </tr>\n",
       "  </tbody>\n",
       "</table>\n",
       "</div>"
      ],
      "text/plain": [
       "                                                        title  \\\n",
       "asin                                                            \n",
       "0001055178                                     Master Georgie   \n",
       "000171287X     The Berenstains' B Book (Bright & Early Books)   \n",
       "000100039X                                        The Prophet   \n",
       "0001473905                          Rightly Dividing the Word   \n",
       "0001714538  The Berenstain Bears on the Moon (Bright and E...   \n",
       "\n",
       "                                                  description  \\\n",
       "asin                                                            \n",
       "0001055178  Beryl Bainbridge seems drawn to disaster. Firs...   \n",
       "000171287X  By Stan Berenstain and Jan Berenstain, Illustr...   \n",
       "000100039X  In a distant, timeless place, a mysterious pro...   \n",
       "0001473905         --This text refers to thePaperbackedition.   \n",
       "0001714538  PreSchool-Grade 2 A delightful tale told in rh...   \n",
       "\n",
       "                                                        imUrl  \n",
       "asin                                                           \n",
       "0001055178  http://ecx.images-amazon.com/images/I/51ZSC6TK...  \n",
       "000171287X  http://ecx.images-amazon.com/images/I/31hjUxZu...  \n",
       "000100039X  http://ecx.images-amazon.com/images/I/81ZKLPiv...  \n",
       "0001473905  http://ecx.images-amazon.com/images/I/61KPC59B...  \n",
       "0001714538  http://ecx.images-amazon.com/images/I/A1zj84uC...  "
      ]
     },
     "execution_count": 21,
     "metadata": {},
     "output_type": "execute_result"
    }
   ],
   "source": [
    "book_desc_titles.head()"
   ]
  },
  {
   "cell_type": "code",
   "execution_count": 22,
   "metadata": {},
   "outputs": [
    {
     "name": "stdout",
     "output_type": "stream",
     "text": [
      "Retrieving from : ../../Project-Data/dump/candidate_dup_title_2_100_5_4\n",
      "Found 6194 bins of possible duplicates.\n",
      "With 10761 different books\n"
     ]
    }
   ],
   "source": [
    "dump_path = DUMP_FOLDER\n",
    "get_candidate = candidate_duplicates(book_desc_titles,dump_path,['title'])"
   ]
  },
  {
   "cell_type": "code",
   "execution_count": 23,
   "metadata": {
    "scrolled": true
   },
   "outputs": [
    {
     "name": "stdout",
     "output_type": "stream",
     "text": [
      "['Shock Totem 4: Curious Tales of the Macabre and Twisted', 'Shock Totem 2: Curious Tales of the Macabre and Twisted', 'Shock Totem 3: Curious Tales of the Macabre and Twisted', 'Shock Totem 1: Curious Tales of the Macabre and Twisted']\n",
      "['\"There is a fine array of stories, but what is perhaps most striking is the high quality of the non-fiction pieces.  The interviews, essays, and  columns, are extremely well done.  They are mini works of art in themselves.\" --Sheila Merritt,Hellnotes', '\"Don\\'t write offShock Totemas just another \\'new fiend on the block\\', \\'cause this is one horror \\'zine that\\'s the real deal, without a doubt! Stories that disturb, nonfiction that entices the reader to dig deeper into the topic at hand...count me in as a big fan.Shock Totemrocks.\" --James Newman, author ofAnimosityandMidnight Rain', '\"Fans of horror stories, pounce uponShock Totemmagazine. Fine new stuff!\" --Jack Ketchum, author ofOffspring,Peaceable KingdomandThe Woman(withLucky McKee)', '\"With content that is originally pure, uncut, a blast to my system, and unlike any other horror-mag out there,Shock Totemis the perfect fix I need for my macabre fiction addiction.\" --Jeremy Wagner, authorThe Armageddon Chord']\n"
     ]
    },
    {
     "data": {
      "text/html": [
       "<img src=\"http://ecx.images-amazon.com/images/I/51dtG2C-IGL.jpg\"/>"
      ],
      "text/plain": [
       "<IPython.core.display.Image object>"
      ]
     },
     "metadata": {},
     "output_type": "display_data"
    },
    {
     "data": {
      "text/html": [
       "<img src=\"http://ecx.images-amazon.com/images/I/81QkcgvssNL.jpg\"/>"
      ],
      "text/plain": [
       "<IPython.core.display.Image object>"
      ]
     },
     "metadata": {},
     "output_type": "display_data"
    },
    {
     "data": {
      "text/html": [
       "<img src=\"http://ecx.images-amazon.com/images/I/41CAkbNEr%2BL.jpg\"/>"
      ],
      "text/plain": [
       "<IPython.core.display.Image object>"
      ]
     },
     "metadata": {},
     "output_type": "display_data"
    },
    {
     "data": {
      "text/html": [
       "<img src=\"http://ecx.images-amazon.com/images/I/512WqbOS0%2BL.jpg\"/>"
      ],
      "text/plain": [
       "<IPython.core.display.Image object>"
      ]
     },
     "metadata": {},
     "output_type": "display_data"
    }
   ],
   "source": [
    "# Let's quickly oberve the type of data that we obtain\n",
    "element_to_inspect = 67\n",
    "similarity_keys = list(get_candidate.keys())\n",
    "print(get_titles(similarity_keys[element_to_inspect],get_candidate,book_desc_titles))\n",
    "print(get_desc(similarity_keys[element_to_inspect],get_candidate,book_desc_titles))\n",
    "display_images(similarity_keys[element_to_inspect],get_candidate,book_desc_titles)"
   ]
  },
  {
   "cell_type": "markdown",
   "metadata": {},
   "source": [
    "We can see that the books can greatly vary eventhough they have the same title. Also it seems hard to extract any meaningful data from their description therefore we need to use the Amazon API to try to get the data we are looking for."
   ]
  },
  {
   "cell_type": "markdown",
   "metadata": {},
   "source": [
    "### Refining our candidates"
   ]
  },
  {
   "cell_type": "markdown",
   "metadata": {},
   "source": [
    "#### Using Amazon API to obtain more data about our products\n",
    "Because of the heterogeneous nature of the data in description we use Amazon API to obtain consistent informations like the name of authors, ISBN etc..."
   ]
  },
  {
   "cell_type": "markdown",
   "metadata": {},
   "source": [
    "We use a [wrapper](https://pypi.python.org/pypi/python-amazon-simple-product-api) of the amazon API and the documentation can be found [here](http://pythonhosted.org/python-amazon-simple-product-api/).\n",
    "\n",
    "Also note that given the ASIN of a product one can access the page of the product using one of the two following addresses:\n",
    "* ```https://www.amazon.co.uk/dp/<ASIN>/```\n",
    "* ```https://www.amazon.com/dp/<ASIN>/```"
   ]
  },
  {
   "cell_type": "code",
   "execution_count": 24,
   "metadata": {
    "scrolled": true
   },
   "outputs": [
    {
     "data": {
      "text/html": [
       "<div>\n",
       "<style>\n",
       "    .dataframe thead tr:only-child th {\n",
       "        text-align: right;\n",
       "    }\n",
       "\n",
       "    .dataframe thead th {\n",
       "        text-align: left;\n",
       "    }\n",
       "\n",
       "    .dataframe tbody tr th {\n",
       "        vertical-align: top;\n",
       "    }\n",
       "</style>\n",
       "<table border=\"1\" class=\"dataframe\">\n",
       "  <thead>\n",
       "    <tr style=\"text-align: right;\">\n",
       "      <th></th>\n",
       "      <th>title</th>\n",
       "      <th>description</th>\n",
       "      <th>imUrl</th>\n",
       "    </tr>\n",
       "    <tr>\n",
       "      <th>asin</th>\n",
       "      <th></th>\n",
       "      <th></th>\n",
       "      <th></th>\n",
       "    </tr>\n",
       "  </thead>\n",
       "  <tbody>\n",
       "    <tr>\n",
       "      <th>0001055178</th>\n",
       "      <td>Master Georgie</td>\n",
       "      <td>Beryl Bainbridge seems drawn to disaster. Firs...</td>\n",
       "      <td>http://ecx.images-amazon.com/images/I/51ZSC6TK...</td>\n",
       "    </tr>\n",
       "    <tr>\n",
       "      <th>000171287X</th>\n",
       "      <td>The Berenstains' B Book (Bright &amp; Early Books)</td>\n",
       "      <td>By Stan Berenstain and Jan Berenstain, Illustr...</td>\n",
       "      <td>http://ecx.images-amazon.com/images/I/31hjUxZu...</td>\n",
       "    </tr>\n",
       "    <tr>\n",
       "      <th>000100039X</th>\n",
       "      <td>The Prophet</td>\n",
       "      <td>In a distant, timeless place, a mysterious pro...</td>\n",
       "      <td>http://ecx.images-amazon.com/images/I/81ZKLPiv...</td>\n",
       "    </tr>\n",
       "    <tr>\n",
       "      <th>0001473905</th>\n",
       "      <td>Rightly Dividing the Word</td>\n",
       "      <td>--This text refers to thePaperbackedition.</td>\n",
       "      <td>http://ecx.images-amazon.com/images/I/61KPC59B...</td>\n",
       "    </tr>\n",
       "    <tr>\n",
       "      <th>0001714538</th>\n",
       "      <td>The Berenstain Bears on the Moon (Bright and E...</td>\n",
       "      <td>PreSchool-Grade 2 A delightful tale told in rh...</td>\n",
       "      <td>http://ecx.images-amazon.com/images/I/A1zj84uC...</td>\n",
       "    </tr>\n",
       "  </tbody>\n",
       "</table>\n",
       "</div>"
      ],
      "text/plain": [
       "                                                        title  \\\n",
       "asin                                                            \n",
       "0001055178                                     Master Georgie   \n",
       "000171287X     The Berenstains' B Book (Bright & Early Books)   \n",
       "000100039X                                        The Prophet   \n",
       "0001473905                          Rightly Dividing the Word   \n",
       "0001714538  The Berenstain Bears on the Moon (Bright and E...   \n",
       "\n",
       "                                                  description  \\\n",
       "asin                                                            \n",
       "0001055178  Beryl Bainbridge seems drawn to disaster. Firs...   \n",
       "000171287X  By Stan Berenstain and Jan Berenstain, Illustr...   \n",
       "000100039X  In a distant, timeless place, a mysterious pro...   \n",
       "0001473905         --This text refers to thePaperbackedition.   \n",
       "0001714538  PreSchool-Grade 2 A delightful tale told in rh...   \n",
       "\n",
       "                                                        imUrl  \n",
       "asin                                                           \n",
       "0001055178  http://ecx.images-amazon.com/images/I/51ZSC6TK...  \n",
       "000171287X  http://ecx.images-amazon.com/images/I/31hjUxZu...  \n",
       "000100039X  http://ecx.images-amazon.com/images/I/81ZKLPiv...  \n",
       "0001473905  http://ecx.images-amazon.com/images/I/61KPC59B...  \n",
       "0001714538  http://ecx.images-amazon.com/images/I/A1zj84uC...  "
      ]
     },
     "execution_count": 24,
     "metadata": {},
     "output_type": "execute_result"
    }
   ],
   "source": [
    "book_desc_titles.head()"
   ]
  },
  {
   "cell_type": "code",
   "execution_count": 25,
   "metadata": {
    "scrolled": true
   },
   "outputs": [
    {
     "name": "stdout",
     "output_type": "stream",
     "text": [
      "Retrieving from : \n",
      "\t../../Project-Data/dump/book_only_candidates_with_details\n",
      "\t../../Project-Data/dump/api_failed \n",
      "It took 00:00:00.058 to get the data.\n"
     ]
    }
   ],
   "source": [
    "amazon_access_file_path = DUMP_FOLDER + \"amazon_access\"\n",
    "book_only_candidates,failed = fill_in_with_details(book_desc_titles,amazon_access_file_path,get_candidate,DUMP_FOLDER)"
   ]
  },
  {
   "cell_type": "code",
   "execution_count": 26,
   "metadata": {},
   "outputs": [
    {
     "data": {
      "text/plain": [
       "10761"
      ]
     },
     "execution_count": 26,
     "metadata": {},
     "output_type": "execute_result"
    }
   ],
   "source": [
    "len(book_only_candidates[book_only_candidates['authors'].notnull()].index)"
   ]
  },
  {
   "cell_type": "markdown",
   "metadata": {},
   "source": [
    "We will therefore look at the author in the API of amazon. We will match books depending on if the authors are identical. Because we do not want to crawl the API too many times we will do it for all the items that are the dictionnary ```get_candidate``` (either as key or in the value list). One must be careful because if some ASIN couldn't be resolved then they won't provide any information in the dataframe."
   ]
  },
  {
   "cell_type": "markdown",
   "metadata": {},
   "source": [
    "#### Refining the candidate similars based on authors\n",
    "We will now use the details we obtain from the API to refine the candidate similars."
   ]
  },
  {
   "cell_type": "code",
   "execution_count": 27,
   "metadata": {},
   "outputs": [
    {
     "data": {
      "text/html": [
       "<div>\n",
       "<style>\n",
       "    .dataframe thead tr:only-child th {\n",
       "        text-align: right;\n",
       "    }\n",
       "\n",
       "    .dataframe thead th {\n",
       "        text-align: left;\n",
       "    }\n",
       "\n",
       "    .dataframe tbody tr th {\n",
       "        vertical-align: top;\n",
       "    }\n",
       "</style>\n",
       "<table border=\"1\" class=\"dataframe\">\n",
       "  <thead>\n",
       "    <tr style=\"text-align: right;\">\n",
       "      <th></th>\n",
       "      <th>title</th>\n",
       "      <th>description</th>\n",
       "      <th>imUrl</th>\n",
       "      <th>authors</th>\n",
       "      <th>isbn</th>\n",
       "      <th>eisbn</th>\n",
       "      <th>brand</th>\n",
       "      <th>edition</th>\n",
       "      <th>publisher</th>\n",
       "    </tr>\n",
       "    <tr>\n",
       "      <th>asin</th>\n",
       "      <th></th>\n",
       "      <th></th>\n",
       "      <th></th>\n",
       "      <th></th>\n",
       "      <th></th>\n",
       "      <th></th>\n",
       "      <th></th>\n",
       "      <th></th>\n",
       "      <th></th>\n",
       "    </tr>\n",
       "  </thead>\n",
       "  <tbody>\n",
       "    <tr>\n",
       "      <th>000100039X</th>\n",
       "      <td>The Prophet</td>\n",
       "      <td>In a distant, timeless place, a mysterious pro...</td>\n",
       "      <td>http://ecx.images-amazon.com/images/I/81ZKLPiv...</td>\n",
       "      <td>[Tester Gregg]</td>\n",
       "      <td>000100039X</td>\n",
       "      <td>None</td>\n",
       "      <td>None</td>\n",
       "      <td>None</td>\n",
       "      <td>Rupa &amp; Co</td>\n",
       "    </tr>\n",
       "    <tr>\n",
       "      <th>0001473123</th>\n",
       "      <td>The Book of Revelation</td>\n",
       "      <td>American Baptist pastor, Bible teacher, and wr...</td>\n",
       "      <td>http://ecx.images-amazon.com/images/I/317G8R2T...</td>\n",
       "      <td>[Clarence Larkin]</td>\n",
       "      <td>0001473123</td>\n",
       "      <td>None</td>\n",
       "      <td>None</td>\n",
       "      <td>None</td>\n",
       "      <td>Rev Clarence Larkin Estate</td>\n",
       "    </tr>\n",
       "    <tr>\n",
       "      <th>0002222590</th>\n",
       "      <td>The Golden Gate</td>\n",
       "      <td>'Startlingly good...tense...ingenious' Sunday ...</td>\n",
       "      <td>http://ecx.images-amazon.com/images/I/51RjrfZe...</td>\n",
       "      <td>[Alistair MacLean]</td>\n",
       "      <td>0002222590</td>\n",
       "      <td>None</td>\n",
       "      <td>Brand: HarperCollins Publishers Ltd</td>\n",
       "      <td>First Edition</td>\n",
       "      <td>HarperCollins Publishers Ltd</td>\n",
       "    </tr>\n",
       "    <tr>\n",
       "      <th>0006176909</th>\n",
       "      <td>House of Cards</td>\n",
       "      <td>'This blood-and-thunder tale, lifelike and tho...</td>\n",
       "      <td>http://ecx.images-amazon.com/images/I/71IaEyKy...</td>\n",
       "      <td>[Michael Dobbs]</td>\n",
       "      <td>0006176909</td>\n",
       "      <td>None</td>\n",
       "      <td>Brand: Fontana Collins</td>\n",
       "      <td>New Ed</td>\n",
       "      <td>HarperCollins Publishers Ltd</td>\n",
       "    </tr>\n",
       "    <tr>\n",
       "      <th>0006175015</th>\n",
       "      <td>Bloodline</td>\n",
       "      <td>'Absorbing and eminently well-crafted.' New Yo...</td>\n",
       "      <td>http://ecx.images-amazon.com/images/I/41rLB80O...</td>\n",
       "      <td>[Sidney Sheldon]</td>\n",
       "      <td>0006175015</td>\n",
       "      <td>None</td>\n",
       "      <td>Brand: HarperCollins</td>\n",
       "      <td>New Ed</td>\n",
       "      <td>HarperCollins Publishers Ltd</td>\n",
       "    </tr>\n",
       "  </tbody>\n",
       "</table>\n",
       "</div>"
      ],
      "text/plain": [
       "                             title  \\\n",
       "asin                                 \n",
       "000100039X             The Prophet   \n",
       "0001473123  The Book of Revelation   \n",
       "0002222590         The Golden Gate   \n",
       "0006176909          House of Cards   \n",
       "0006175015               Bloodline   \n",
       "\n",
       "                                                  description  \\\n",
       "asin                                                            \n",
       "000100039X  In a distant, timeless place, a mysterious pro...   \n",
       "0001473123  American Baptist pastor, Bible teacher, and wr...   \n",
       "0002222590  'Startlingly good...tense...ingenious' Sunday ...   \n",
       "0006176909  'This blood-and-thunder tale, lifelike and tho...   \n",
       "0006175015  'Absorbing and eminently well-crafted.' New Yo...   \n",
       "\n",
       "                                                        imUrl  \\\n",
       "asin                                                            \n",
       "000100039X  http://ecx.images-amazon.com/images/I/81ZKLPiv...   \n",
       "0001473123  http://ecx.images-amazon.com/images/I/317G8R2T...   \n",
       "0002222590  http://ecx.images-amazon.com/images/I/51RjrfZe...   \n",
       "0006176909  http://ecx.images-amazon.com/images/I/71IaEyKy...   \n",
       "0006175015  http://ecx.images-amazon.com/images/I/41rLB80O...   \n",
       "\n",
       "                       authors        isbn eisbn  \\\n",
       "asin                                               \n",
       "000100039X      [Tester Gregg]  000100039X  None   \n",
       "0001473123   [Clarence Larkin]  0001473123  None   \n",
       "0002222590  [Alistair MacLean]  0002222590  None   \n",
       "0006176909     [Michael Dobbs]  0006176909  None   \n",
       "0006175015    [Sidney Sheldon]  0006175015  None   \n",
       "\n",
       "                                          brand        edition  \\\n",
       "asin                                                             \n",
       "000100039X                                 None           None   \n",
       "0001473123                                 None           None   \n",
       "0002222590  Brand: HarperCollins Publishers Ltd  First Edition   \n",
       "0006176909               Brand: Fontana Collins         New Ed   \n",
       "0006175015                 Brand: HarperCollins         New Ed   \n",
       "\n",
       "                               publisher  \n",
       "asin                                      \n",
       "000100039X                     Rupa & Co  \n",
       "0001473123    Rev Clarence Larkin Estate  \n",
       "0002222590  HarperCollins Publishers Ltd  \n",
       "0006176909  HarperCollins Publishers Ltd  \n",
       "0006175015  HarperCollins Publishers Ltd  "
      ]
     },
     "execution_count": 27,
     "metadata": {},
     "output_type": "execute_result"
    }
   ],
   "source": [
    "book_only_candidates.head(5)"
   ]
  },
  {
   "cell_type": "markdown",
   "metadata": {},
   "source": [
    "We saw examples were the authors list between two books were very similar but names were written differently, therefore we need to check that some typos are not in the names of authors : (e.g. ```{'Ian MacNeill', 'SportMed BC'}{'Ian MacNeil'}``` where MacNeil is written with two 'l' in the first book but only one in the second one). Therefore we will first clean the names (remove accents, nomalize it to lower case) and then try to match then using the Levenstein distance, we match two author list if the mean difference between authors is less that 0.35 (NB: this is a relative distance in order to be able to compare title with different length). \n",
    "\n",
    "See the function ```check_name_similarity``` in the ```utils.py``` files for more details on how this is done."
   ]
  },
  {
   "cell_type": "code",
   "execution_count": 28,
   "metadata": {},
   "outputs": [
    {
     "name": "stdout",
     "output_type": "stream",
     "text": [
      "We have found 1366 bins of candidate similars\n"
     ]
    }
   ],
   "source": [
    "book_only_candidates['authors'] = book_only_candidates['authors'].apply(clean_name_in_dataframe)\n",
    "similars = get_similar_authors(book_only_candidates,get_candidate,0.35)\n",
    "print(\"We have found {} bins of candidate similars\".format(len(similars.keys())))"
   ]
  },
  {
   "cell_type": "markdown",
   "metadata": {},
   "source": [
    "#### Refining the candidate similars further using the titles"
   ]
  },
  {
   "cell_type": "markdown",
   "metadata": {},
   "source": [
    "Now we might still have problems with books that have highly similar titles and authors but aren't identical. This could be explained by :\n",
    "* Different Tomes : same title but different number\n",
    "* educational books that have identical titles except for what they teach\n",
    "* simply typos or very small differences \n",
    "* many other examples \n",
    "\n",
    "Example of books that are not similar:\n",
    "```\n",
    "Adobe Dreamweaver CS3 Classroom in a Book['adobe creative team']\n",
    "Adobe Dreamweaver CS4 Classroom in a Book['adobe creative team']\n",
    "Adobe Dreamweaver CS5 Classroom in a Book['adobe creative team']\n",
    "Adobe Dreamweaver CS6 Classroom in a Book['adobe creative team']\n",
    "----------------------------------------------------------------\n",
    "Promethea, Book 3['alan moore']\n",
    "Promethea, Book 5['alan moore']\n",
    "Promethea, Book 1['alan moore', 'j. h. williams', 'mick gray']\n",
    "\n",
    "```\n",
    "\n",
    "Example of books that should be considered similar:\n",
    "``` \n",
    "'Light Science and Magic: An Introduction to Photographic Lighting'['fil hunter', 'paul fuqua', 'steven biver']\n",
    "'Light: Science and Magic: An Introduction to Photographic Lighting'['fil hunter', 'steven biver', 'paul fuqua']\n",
    "```\n",
    "\n",
    "We will therefore also need to see if the title are similar enough. **We want to avoid false positive as much as possible. We are sure that we could go even further with matching names but prefer to be conservative here**. Therefore we only try to normalize as much as possible the titles and see if then the titles taken as sets have an empty symmetric difference."
   ]
  },
  {
   "cell_type": "code",
   "execution_count": 29,
   "metadata": {},
   "outputs": [
    {
     "name": "stdout",
     "output_type": "stream",
     "text": [
      "Example of title cleaning : \n",
      "\tPromethea, 'Book 3' (whatever junk)\n",
      "\tpromethea book 3 whatever junk\n"
     ]
    }
   ],
   "source": [
    "book_only_candidates['title'] = book_only_candidates['title'].apply(clean_title)\n",
    "example_s = \"Promethea, 'Book 3' (whatever junk)\"\n",
    "print(\"Example of title cleaning : \\n\\t{}\\n\\t{}\".format(example_s,clean_title(example_s)))\n",
    "very_similars = get_similar_titles(book_only_candidates,similars)"
   ]
  },
  {
   "cell_type": "code",
   "execution_count": 30,
   "metadata": {},
   "outputs": [
    {
     "name": "stdout",
     "output_type": "stream",
     "text": [
      "We have found 786 bins of very similar books.\n",
      "We have 1611 asins for products that have at least one similar product.\n"
     ]
    }
   ],
   "source": [
    "print(\"We have found {} bins of very similar books.\".format(len(very_similars.keys())))\n",
    "very_similar_ASIN = list(very_similars.keys())\n",
    "very_similar_ASIN += [item for sublist in list(very_similars.values()) for item in sublist]\n",
    "print(\"We have {} asins for products that have at least one similar product.\".format(len(very_similar_ASIN)))"
   ]
  },
  {
   "cell_type": "markdown",
   "metadata": {},
   "source": [
    "We dump the relevant dataframe and a variable with matching ASIN for further analysis."
   ]
  },
  {
   "cell_type": "code",
   "execution_count": 31,
   "metadata": {
    "collapsed": true
   },
   "outputs": [],
   "source": [
    "ANALYSIS_DATA_FOLDER = 'analysis_data/'\n",
    "\n",
    "book_only_candidates.loc[very_similar_ASIN].to_pickle(ANALYSIS_DATA_FOLDER + 'books')\n",
    "review_books.query('asin in @very_similar_ASIN').to_pickle(ANALYSIS_DATA_FOLDER + 'review_books')\n",
    "\n",
    "with open(ANALYSIS_DATA_FOLDER + 'very_similars', 'wb') as handle:\n",
    "    pickle.dump(very_similars, handle, protocol=pickle.HIGHEST_PROTOCOL)"
   ]
  },
  {
   "cell_type": "markdown",
   "metadata": {},
   "source": [
    "# Correlation exploratory"
   ]
  },
  {
   "cell_type": "markdown",
   "metadata": {},
   "source": [
    "First of all, we want to perform an analysis of the reviews and how they are correlated with important indicators of Amazon such as sales rank and price."
   ]
  },
  {
   "cell_type": "markdown",
   "metadata": {},
   "source": [
    "## Reviews analysis"
   ]
  },
  {
   "cell_type": "code",
   "execution_count": 32,
   "metadata": {
    "collapsed": true
   },
   "outputs": [],
   "source": [
    "books_df = pd.read_pickle(ANALYSIS_DATA_FOLDER + 'books')\n",
    "review_books_df = pd.read_pickle(ANALYSIS_DATA_FOLDER + 'review_books')\n",
    "very_similars = pd.read_pickle(ANALYSIS_DATA_FOLDER + 'very_similars')"
   ]
  },
  {
   "cell_type": "code",
   "execution_count": 33,
   "metadata": {},
   "outputs": [
    {
     "data": {
      "text/plain": [
       "(1611, 9)"
      ]
     },
     "execution_count": 33,
     "metadata": {},
     "output_type": "execute_result"
    }
   ],
   "source": [
    "books_df.shape"
   ]
  },
  {
   "cell_type": "code",
   "execution_count": 34,
   "metadata": {},
   "outputs": [
    {
     "data": {
      "text/html": [
       "<div>\n",
       "<style>\n",
       "    .dataframe thead tr:only-child th {\n",
       "        text-align: right;\n",
       "    }\n",
       "\n",
       "    .dataframe thead th {\n",
       "        text-align: left;\n",
       "    }\n",
       "\n",
       "    .dataframe tbody tr th {\n",
       "        vertical-align: top;\n",
       "    }\n",
       "</style>\n",
       "<table border=\"1\" class=\"dataframe\">\n",
       "  <thead>\n",
       "    <tr style=\"text-align: right;\">\n",
       "      <th></th>\n",
       "      <th>title</th>\n",
       "      <th>description</th>\n",
       "      <th>imUrl</th>\n",
       "      <th>authors</th>\n",
       "      <th>isbn</th>\n",
       "      <th>eisbn</th>\n",
       "      <th>brand</th>\n",
       "      <th>edition</th>\n",
       "      <th>publisher</th>\n",
       "    </tr>\n",
       "    <tr>\n",
       "      <th>asin</th>\n",
       "      <th></th>\n",
       "      <th></th>\n",
       "      <th></th>\n",
       "      <th></th>\n",
       "      <th></th>\n",
       "      <th></th>\n",
       "      <th></th>\n",
       "      <th></th>\n",
       "      <th></th>\n",
       "    </tr>\n",
       "  </thead>\n",
       "  <tbody>\n",
       "    <tr>\n",
       "      <th>0470769327</th>\n",
       "      <td>feng shui for dummies</td>\n",
       "      <td>Packed with up-to-date practices to bring Feng...</td>\n",
       "      <td>http://ecx.images-amazon.com/images/I/515wjGHF...</td>\n",
       "      <td>[david daniel kennedy]</td>\n",
       "      <td>0470769327</td>\n",
       "      <td>None</td>\n",
       "      <td>Brand: For Dummies</td>\n",
       "      <td>2nd Edition</td>\n",
       "      <td>John Wiley &amp; Sons</td>\n",
       "    </tr>\n",
       "    <tr>\n",
       "      <th>0767903927</th>\n",
       "      <td>instant emotional healing acupressure for the ...</td>\n",
       "      <td>Drawing on techniques ranging from focused tho...</td>\n",
       "      <td>http://ecx.images-amazon.com/images/I/51ds0tXv...</td>\n",
       "      <td>[george pratt, peter lambrou]</td>\n",
       "      <td>0767903927</td>\n",
       "      <td>None</td>\n",
       "      <td>Brand: Boadway Books</td>\n",
       "      <td>1</td>\n",
       "      <td>Harmony</td>\n",
       "    </tr>\n",
       "    <tr>\n",
       "      <th>0240802756</th>\n",
       "      <td>light science and magic an introduction to pho...</td>\n",
       "      <td>'This is the first book I have seen on photogr...</td>\n",
       "      <td>http://ecx.images-amazon.com/images/I/41OIZRCx...</td>\n",
       "      <td>[fil hunter, steven biver, paul fuqua]</td>\n",
       "      <td>0240802756</td>\n",
       "      <td>None</td>\n",
       "      <td>Brand: Focal Press</td>\n",
       "      <td>2</td>\n",
       "      <td>Focal Press</td>\n",
       "    </tr>\n",
       "  </tbody>\n",
       "</table>\n",
       "</div>"
      ],
      "text/plain": [
       "                                                        title  \\\n",
       "asin                                                            \n",
       "0470769327                              feng shui for dummies   \n",
       "0767903927  instant emotional healing acupressure for the ...   \n",
       "0240802756  light science and magic an introduction to pho...   \n",
       "\n",
       "                                                  description  \\\n",
       "asin                                                            \n",
       "0470769327  Packed with up-to-date practices to bring Feng...   \n",
       "0767903927  Drawing on techniques ranging from focused tho...   \n",
       "0240802756  'This is the first book I have seen on photogr...   \n",
       "\n",
       "                                                        imUrl  \\\n",
       "asin                                                            \n",
       "0470769327  http://ecx.images-amazon.com/images/I/515wjGHF...   \n",
       "0767903927  http://ecx.images-amazon.com/images/I/51ds0tXv...   \n",
       "0240802756  http://ecx.images-amazon.com/images/I/41OIZRCx...   \n",
       "\n",
       "                                           authors        isbn eisbn  \\\n",
       "asin                                                                   \n",
       "0470769327                  [david daniel kennedy]  0470769327  None   \n",
       "0767903927           [george pratt, peter lambrou]  0767903927  None   \n",
       "0240802756  [fil hunter, steven biver, paul fuqua]  0240802756  None   \n",
       "\n",
       "                           brand      edition          publisher  \n",
       "asin                                                              \n",
       "0470769327    Brand: For Dummies  2nd Edition  John Wiley & Sons  \n",
       "0767903927  Brand: Boadway Books            1            Harmony  \n",
       "0240802756    Brand: Focal Press            2        Focal Press  "
      ]
     },
     "execution_count": 34,
     "metadata": {},
     "output_type": "execute_result"
    }
   ],
   "source": [
    "books_df.head(3)"
   ]
  },
  {
   "cell_type": "code",
   "execution_count": 35,
   "metadata": {},
   "outputs": [
    {
     "data": {
      "text/plain": [
       "(132307, 3)"
      ]
     },
     "execution_count": 35,
     "metadata": {},
     "output_type": "execute_result"
    }
   ],
   "source": [
    "review_books_df.shape"
   ]
  },
  {
   "cell_type": "code",
   "execution_count": 36,
   "metadata": {
    "scrolled": true
   },
   "outputs": [
    {
     "data": {
      "text/html": [
       "<div>\n",
       "<style>\n",
       "    .dataframe thead tr:only-child th {\n",
       "        text-align: right;\n",
       "    }\n",
       "\n",
       "    .dataframe thead th {\n",
       "        text-align: left;\n",
       "    }\n",
       "\n",
       "    .dataframe tbody tr th {\n",
       "        vertical-align: top;\n",
       "    }\n",
       "</style>\n",
       "<table border=\"1\" class=\"dataframe\">\n",
       "  <thead>\n",
       "    <tr style=\"text-align: right;\">\n",
       "      <th></th>\n",
       "      <th>asin</th>\n",
       "      <th>overall</th>\n",
       "      <th>unixReviewTime</th>\n",
       "    </tr>\n",
       "  </thead>\n",
       "  <tbody>\n",
       "    <tr>\n",
       "      <th>26822</th>\n",
       "      <td>0006531237</td>\n",
       "      <td>5.0</td>\n",
       "      <td>2013-12-05</td>\n",
       "    </tr>\n",
       "    <tr>\n",
       "      <th>26823</th>\n",
       "      <td>0006531237</td>\n",
       "      <td>4.0</td>\n",
       "      <td>2011-10-30</td>\n",
       "    </tr>\n",
       "    <tr>\n",
       "      <th>26824</th>\n",
       "      <td>0006531237</td>\n",
       "      <td>5.0</td>\n",
       "      <td>2013-03-22</td>\n",
       "    </tr>\n",
       "  </tbody>\n",
       "</table>\n",
       "</div>"
      ],
      "text/plain": [
       "             asin  overall unixReviewTime\n",
       "26822  0006531237      5.0     2013-12-05\n",
       "26823  0006531237      4.0     2011-10-30\n",
       "26824  0006531237      5.0     2013-03-22"
      ]
     },
     "execution_count": 36,
     "metadata": {},
     "output_type": "execute_result"
    }
   ],
   "source": [
    "review_books_df.head(3)"
   ]
  },
  {
   "cell_type": "markdown",
   "metadata": {},
   "source": [
    "### Reviews distribution\n",
    "First of all we look at the distribution of the reviews."
   ]
  },
  {
   "cell_type": "code",
   "execution_count": 37,
   "metadata": {},
   "outputs": [
    {
     "data": {
      "image/png": "[encoded data removed]",
      "text/plain": [
       "<matplotlib.figure.Figure at 0x186bcf780>"
      ]
     },
     "metadata": {},
     "output_type": "display_data"
    }
   ],
   "source": [
    "review_total = len(review_books_df)\n",
    "distribution = review_books_df.groupby('overall')[['asin']].count()*100/review_total\n",
    "\n",
    "distribution.columns = ['percentage']\n",
    "plt.figure(figsize=(14,5))\n",
    "plt.bar(distribution.index.values, distribution.values, align='center')\n",
    "plt.title('Distribution of ratings')\n",
    "plt.xlabel('Ratings')\n",
    "plt.ylabel('Percentage')\n",
    "plt.grid()\n",
    "plt.show()"
   ]
  },
  {
   "cell_type": "markdown",
   "metadata": {},
   "source": [
    "We see that most of our reviews (65%) have a grade of 5. "
   ]
  },
  {
   "cell_type": "markdown",
   "metadata": {},
   "source": [
    "### Evolution of reviews over time\n",
    "Then we want to observe how review submission change over time, that is show how reviews are distributed over time."
   ]
  },
  {
   "cell_type": "code",
   "execution_count": 38,
   "metadata": {},
   "outputs": [
    {
     "data": {
      "text/html": [
       "<div>\n",
       "<style>\n",
       "    .dataframe thead tr:only-child th {\n",
       "        text-align: right;\n",
       "    }\n",
       "\n",
       "    .dataframe thead th {\n",
       "        text-align: left;\n",
       "    }\n",
       "\n",
       "    .dataframe tbody tr th {\n",
       "        vertical-align: top;\n",
       "    }\n",
       "</style>\n",
       "<table border=\"1\" class=\"dataframe\">\n",
       "  <thead>\n",
       "    <tr style=\"text-align: right;\">\n",
       "      <th></th>\n",
       "      <th>asin</th>\n",
       "      <th>overall</th>\n",
       "      <th>unixReviewTime</th>\n",
       "    </tr>\n",
       "  </thead>\n",
       "  <tbody>\n",
       "    <tr>\n",
       "      <th>4425969</th>\n",
       "      <td>0385260954</td>\n",
       "      <td>5.0</td>\n",
       "      <td>1997-07-20</td>\n",
       "    </tr>\n",
       "    <tr>\n",
       "      <th>4410489</th>\n",
       "      <td>0385006896</td>\n",
       "      <td>5.0</td>\n",
       "      <td>1997-08-12</td>\n",
       "    </tr>\n",
       "    <tr>\n",
       "      <th>2079807</th>\n",
       "      <td>0261103288</td>\n",
       "      <td>5.0</td>\n",
       "      <td>1997-08-15</td>\n",
       "    </tr>\n",
       "    <tr>\n",
       "      <th>7389520</th>\n",
       "      <td>0671016865</td>\n",
       "      <td>5.0</td>\n",
       "      <td>1997-08-16</td>\n",
       "    </tr>\n",
       "    <tr>\n",
       "      <th>1669031</th>\n",
       "      <td>0142800376</td>\n",
       "      <td>5.0</td>\n",
       "      <td>1997-08-18</td>\n",
       "    </tr>\n",
       "  </tbody>\n",
       "</table>\n",
       "</div>"
      ],
      "text/plain": [
       "               asin  overall unixReviewTime\n",
       "4425969  0385260954      5.0     1997-07-20\n",
       "4410489  0385006896      5.0     1997-08-12\n",
       "2079807  0261103288      5.0     1997-08-15\n",
       "7389520  0671016865      5.0     1997-08-16\n",
       "1669031  0142800376      5.0     1997-08-18"
      ]
     },
     "execution_count": 38,
     "metadata": {},
     "output_type": "execute_result"
    }
   ],
   "source": [
    "review_books_df.sort_values(by='unixReviewTime').head()"
   ]
  },
  {
   "cell_type": "code",
   "execution_count": 39,
   "metadata": {},
   "outputs": [
    {
     "data": {
      "text/plain": [
       "2013"
      ]
     },
     "execution_count": 39,
     "metadata": {},
     "output_type": "execute_result"
    }
   ],
   "source": [
    "review_books_df.iloc[0].unixReviewTime.year"
   ]
  },
  {
   "cell_type": "code",
   "execution_count": 40,
   "metadata": {},
   "outputs": [
    {
     "data": {
      "image/png": "[encoded data removed]",
      "text/plain": [
       "<matplotlib.figure.Figure at 0x196236780>"
      ]
     },
     "metadata": {},
     "output_type": "display_data"
    }
   ],
   "source": [
    "distribution = review_books_df.groupby(review_books_df['unixReviewTime'].apply(\n",
    "    lambda x: x.year)).count() * 100 / review_total\n",
    "\n",
    "plt.figure(figsize=(14, 5))\n",
    "plt.bar(distribution.index.values, distribution['asin'].values, align='center')\n",
    "plt.title('Distribution of reviews')\n",
    "plt.xlabel('Years of publication')\n",
    "plt.ylabel('Percentage')\n",
    "plt.grid()\n",
    "plt.show()"
   ]
  },
  {
   "cell_type": "markdown",
   "metadata": {},
   "source": [
    "One can observe that the reviews have been mostly submitted in the past 10 years."
   ]
  },
  {
   "cell_type": "code",
   "execution_count": 41,
   "metadata": {},
   "outputs": [
    {
     "data": {
      "text/html": [
       "<div>\n",
       "<style>\n",
       "    .dataframe thead tr:only-child th {\n",
       "        text-align: right;\n",
       "    }\n",
       "\n",
       "    .dataframe thead th {\n",
       "        text-align: left;\n",
       "    }\n",
       "\n",
       "    .dataframe tbody tr th {\n",
       "        vertical-align: top;\n",
       "    }\n",
       "</style>\n",
       "<table border=\"1\" class=\"dataframe\">\n",
       "  <thead>\n",
       "    <tr style=\"text-align: right;\">\n",
       "      <th></th>\n",
       "      <th>overall</th>\n",
       "    </tr>\n",
       "    <tr>\n",
       "      <th>unixReviewTime</th>\n",
       "      <th></th>\n",
       "    </tr>\n",
       "  </thead>\n",
       "  <tbody>\n",
       "    <tr>\n",
       "      <th>2010</th>\n",
       "      <td>1.194821</td>\n",
       "    </tr>\n",
       "    <tr>\n",
       "      <th>2011</th>\n",
       "      <td>1.232670</td>\n",
       "    </tr>\n",
       "    <tr>\n",
       "      <th>2012</th>\n",
       "      <td>1.107510</td>\n",
       "    </tr>\n",
       "    <tr>\n",
       "      <th>2013</th>\n",
       "      <td>0.972416</td>\n",
       "    </tr>\n",
       "    <tr>\n",
       "      <th>2014</th>\n",
       "      <td>0.984632</td>\n",
       "    </tr>\n",
       "  </tbody>\n",
       "</table>\n",
       "</div>"
      ],
      "text/plain": [
       "                 overall\n",
       "unixReviewTime          \n",
       "2010            1.194821\n",
       "2011            1.232670\n",
       "2012            1.107510\n",
       "2013            0.972416\n",
       "2014            0.984632"
      ]
     },
     "execution_count": 41,
     "metadata": {},
     "output_type": "execute_result"
    }
   ],
   "source": [
    "distribution_std = review_books_df.groupby(\n",
    "    review_books_df['unixReviewTime'].apply(lambda x: x.year)).std()\n",
    "distribution_count = review_books_df.groupby(\n",
    "    review_books_df['unixReviewTime'].apply(lambda x: x.year)).count()\n",
    "distribution_err = distribution_std\n",
    "\n",
    "for index, row in distribution_std.iterrows():\n",
    "    distribution_err.loc[index].err = 2 * distribution_std.loc[\n",
    "        index].overall / np.sqrt(distribution_count.loc[index].overall)\n",
    "\n",
    "distribution_err.tail()"
   ]
  },
  {
   "cell_type": "code",
   "execution_count": 42,
   "metadata": {},
   "outputs": [
    {
     "data": {
      "image/png": "[encoded data removed]",
      "text/plain": [
       "<matplotlib.figure.Figure at 0x117d86a20>"
      ]
     },
     "metadata": {},
     "output_type": "display_data"
    }
   ],
   "source": [
    "distribution = review_books_df.groupby(review_books_df['unixReviewTime'].apply(lambda x: x.year)).mean()\n",
    "\n",
    "plt.figure(figsize=(14,5))\n",
    "plt.plot(distribution.index.values, distribution['overall'].values)\n",
    "axes = plt.gca()\n",
    "axes.set_ylim([0,5])\n",
    "plt.title('Distribution of reviews')\n",
    "plt.xlabel('Years of publication')\n",
    "plt.ylabel('Mean rating')\n",
    "plt.grid()\n",
    "plt.show()"
   ]
  },
  {
   "cell_type": "markdown",
   "metadata": {},
   "source": [
    "We see that the review average stay stable around 4.2 out of 5 over time. "
   ]
  },
  {
   "cell_type": "markdown",
   "metadata": {},
   "source": [
    "## SalesRank and Review correlation analysis"
   ]
  },
  {
   "cell_type": "markdown",
   "metadata": {},
   "source": [
    "Amazon itself doesn’t reveal exactly how the sales rank is calculated, which is why there are only theories and speculation surrounding the method. Sales volume alone is taken into consideration and not other figures such as number of reviews or retail price. In our analysis, we want to see if their is a statistic correlation between sales rank and reviews grade. "
   ]
  },
  {
   "cell_type": "markdown",
   "metadata": {},
   "source": [
    "### Comparison of books together\n",
    "\n",
    "We use the books that are related to a similarity with an other one as to limit our dataset but also and most importantly because those are the one that we use in our analysis later on. In our analysis of books, we take the sales rank of books. "
   ]
  },
  {
   "cell_type": "code",
   "execution_count": 43,
   "metadata": {},
   "outputs": [
    {
     "data": {
      "text/plain": [
       "(1611, 4)"
      ]
     },
     "execution_count": 43,
     "metadata": {},
     "output_type": "execute_result"
    }
   ],
   "source": [
    "meta_books_df = pd.read_pickle('../../Project-Data/dump/meta_Books_asin_title_salesRank_description_imUrl_ALL')\n",
    "\n",
    "very_similar_ASIN = list(very_similars.keys())\n",
    "very_similar_ASIN += [item for sublist in list(very_similars.values()) for item in sublist]\n",
    "\n",
    "meta_books_df = meta_books_df[['asin', 'description', 'imUrl', 'salesRank_Books', 'title']].set_index('asin').loc[very_similar_ASIN]\n",
    "\n",
    "meta_reviews_df = pd.read_pickle('../../Project-Data/dump/reviews_Books_asin_overall_unixReviewTime_ALL')\n",
    "\n",
    "meta_books_df.shape"
   ]
  },
  {
   "cell_type": "markdown",
   "metadata": {},
   "source": [
    "These 3 books are the best ranked of our dataframe. They have the smaller sales rank."
   ]
  },
  {
   "cell_type": "code",
   "execution_count": 44,
   "metadata": {},
   "outputs": [
    {
     "data": {
      "text/html": [
       "<div>\n",
       "<style>\n",
       "    .dataframe thead tr:only-child th {\n",
       "        text-align: right;\n",
       "    }\n",
       "\n",
       "    .dataframe thead th {\n",
       "        text-align: left;\n",
       "    }\n",
       "\n",
       "    .dataframe tbody tr th {\n",
       "        vertical-align: top;\n",
       "    }\n",
       "</style>\n",
       "<table border=\"1\" class=\"dataframe\">\n",
       "  <thead>\n",
       "    <tr style=\"text-align: right;\">\n",
       "      <th></th>\n",
       "      <th>description</th>\n",
       "      <th>imUrl</th>\n",
       "      <th>salesRank_Books</th>\n",
       "      <th>title</th>\n",
       "    </tr>\n",
       "    <tr>\n",
       "      <th>asin</th>\n",
       "      <th></th>\n",
       "      <th></th>\n",
       "      <th></th>\n",
       "      <th></th>\n",
       "    </tr>\n",
       "  </thead>\n",
       "  <tbody>\n",
       "    <tr>\n",
       "      <th>0385349947</th>\n",
       "      <td>An Amazon Best Book of the Month, March 2013: ...</td>\n",
       "      <td>http://ecx.images-amazon.com/images/I/41TknOCI...</td>\n",
       "      <td>150.0</td>\n",
       "      <td>Lean In: Women, Work, and the Will to Lead</td>\n",
       "    </tr>\n",
       "    <tr>\n",
       "      <th>0761152121</th>\n",
       "      <td>It all started with a baby…and a book. Heidi M...</td>\n",
       "      <td>http://ecx.images-amazon.com/images/I/91bgE5v1...</td>\n",
       "      <td>222.0</td>\n",
       "      <td>What to Expect the First Year, Second Edition</td>\n",
       "    </tr>\n",
       "    <tr>\n",
       "      <th>1889140430</th>\n",
       "      <td>\"An excellent, workable, and supportive resour...</td>\n",
       "      <td>http://ecx.images-amazon.com/images/I/51mngzUN...</td>\n",
       "      <td>252.0</td>\n",
       "      <td>1-2-3 Magic: Effective Discipline for Children...</td>\n",
       "    </tr>\n",
       "  </tbody>\n",
       "</table>\n",
       "</div>"
      ],
      "text/plain": [
       "                                                  description  \\\n",
       "asin                                                            \n",
       "0385349947  An Amazon Best Book of the Month, March 2013: ...   \n",
       "0761152121  It all started with a baby…and a book. Heidi M...   \n",
       "1889140430  \"An excellent, workable, and supportive resour...   \n",
       "\n",
       "                                                        imUrl  \\\n",
       "asin                                                            \n",
       "0385349947  http://ecx.images-amazon.com/images/I/41TknOCI...   \n",
       "0761152121  http://ecx.images-amazon.com/images/I/91bgE5v1...   \n",
       "1889140430  http://ecx.images-amazon.com/images/I/51mngzUN...   \n",
       "\n",
       "            salesRank_Books                                              title  \n",
       "asin                                                                            \n",
       "0385349947            150.0         Lean In: Women, Work, and the Will to Lead  \n",
       "0761152121            222.0      What to Expect the First Year, Second Edition  \n",
       "1889140430            252.0  1-2-3 Magic: Effective Discipline for Children...  "
      ]
     },
     "execution_count": 44,
     "metadata": {},
     "output_type": "execute_result"
    }
   ],
   "source": [
    "meta_books_df.sort_values(by='salesRank_Books').head(3)"
   ]
  },
  {
   "cell_type": "code",
   "execution_count": 45,
   "metadata": {
    "scrolled": true
   },
   "outputs": [
    {
     "data": {
      "text/html": [
       "<div>\n",
       "<style>\n",
       "    .dataframe thead tr:only-child th {\n",
       "        text-align: right;\n",
       "    }\n",
       "\n",
       "    .dataframe thead th {\n",
       "        text-align: left;\n",
       "    }\n",
       "\n",
       "    .dataframe tbody tr th {\n",
       "        vertical-align: top;\n",
       "    }\n",
       "</style>\n",
       "<table border=\"1\" class=\"dataframe\">\n",
       "  <thead>\n",
       "    <tr style=\"text-align: right;\">\n",
       "      <th></th>\n",
       "      <th>asin</th>\n",
       "      <th>overall</th>\n",
       "      <th>unixReviewTime</th>\n",
       "    </tr>\n",
       "  </thead>\n",
       "  <tbody>\n",
       "    <tr>\n",
       "      <th>0</th>\n",
       "      <td>0000000116</td>\n",
       "      <td>4.0</td>\n",
       "      <td>2002-04-27</td>\n",
       "    </tr>\n",
       "    <tr>\n",
       "      <th>1</th>\n",
       "      <td>0000000116</td>\n",
       "      <td>1.0</td>\n",
       "      <td>2014-03-24</td>\n",
       "    </tr>\n",
       "    <tr>\n",
       "      <th>2</th>\n",
       "      <td>0000000868</td>\n",
       "      <td>4.0</td>\n",
       "      <td>2002-09-11</td>\n",
       "    </tr>\n",
       "  </tbody>\n",
       "</table>\n",
       "</div>"
      ],
      "text/plain": [
       "         asin  overall unixReviewTime\n",
       "0  0000000116      4.0     2002-04-27\n",
       "1  0000000116      1.0     2014-03-24\n",
       "2  0000000868      4.0     2002-09-11"
      ]
     },
     "execution_count": 45,
     "metadata": {},
     "output_type": "execute_result"
    }
   ],
   "source": [
    "meta_reviews_df.head(3)"
   ]
  },
  {
   "cell_type": "markdown",
   "metadata": {},
   "source": [
    "We create the dataframe that we want for our analysis. The column are \"asin\", \"salesRank\", \"review_avg\" for the average of review grade for corresponding to the book, \"review_std\" for the standard deviation of reviews and \"review_count\" for the sum of reviews."
   ]
  },
  {
   "cell_type": "code",
   "execution_count": 46,
   "metadata": {
    "collapsed": true
   },
   "outputs": [],
   "source": [
    "dump_path = ANALYSIS_DATA_FOLDER+'books_reviews_df'\n",
    "if(os.path.isfile(dump_path)):\n",
    "    books_reviews_df = pd.read_pickle(ANALYSIS_DATA_FOLDER + 'books_reviews_df')\n",
    "else:\n",
    "    books_reviews = []\n",
    "\n",
    "    for i in range(len(meta_books_df)):\n",
    "        asin = meta_books_df.iloc[i].name\n",
    "        salesRank = meta_books_df.iloc[i].salesRank_Books\n",
    "        review_avg = meta_reviews_df[meta_reviews_df['asin'] == meta_books_df.iloc[i].name].mean().overall\n",
    "        review_std = meta_reviews_df[meta_reviews_df['asin'] == meta_books_df.iloc[i].name].std().overall\n",
    "        review_count = meta_reviews_df[meta_reviews_df['asin'] == meta_books_df.iloc[i].name].count().overall\n",
    "\n",
    "        books_reviews.append({\n",
    "                'asin': asin,\n",
    "                'salesRank': salesRank,\n",
    "                'review_avg': review_avg,\n",
    "                'review_std': review_std,\n",
    "                'review_count': review_count,\n",
    "            })\n",
    "    books_reviews_df = pd.DataFrame.from_dict(books_reviews)\n",
    "    with open(dump_path, 'wb') as handle:\n",
    "        pickle.dump(very_similars, handle, protocol=pickle.HIGHEST_PROTOCOL)\n",
    "        print(\"Saved to {}.\".format(dump_path))"
   ]
  },
  {
   "cell_type": "code",
   "execution_count": 47,
   "metadata": {},
   "outputs": [
    {
     "data": {
      "text/html": [
       "<div>\n",
       "<style>\n",
       "    .dataframe thead tr:only-child th {\n",
       "        text-align: right;\n",
       "    }\n",
       "\n",
       "    .dataframe thead th {\n",
       "        text-align: left;\n",
       "    }\n",
       "\n",
       "    .dataframe tbody tr th {\n",
       "        vertical-align: top;\n",
       "    }\n",
       "</style>\n",
       "<table border=\"1\" class=\"dataframe\">\n",
       "  <thead>\n",
       "    <tr style=\"text-align: right;\">\n",
       "      <th></th>\n",
       "      <th>asin</th>\n",
       "      <th>review_avg</th>\n",
       "      <th>review_count</th>\n",
       "      <th>review_std</th>\n",
       "      <th>salesRank</th>\n",
       "    </tr>\n",
       "  </thead>\n",
       "  <tbody>\n",
       "    <tr>\n",
       "      <th>14</th>\n",
       "      <td>0385349947</td>\n",
       "      <td>4.338917</td>\n",
       "      <td>1791</td>\n",
       "      <td>1.062115</td>\n",
       "      <td>150.0</td>\n",
       "    </tr>\n",
       "    <tr>\n",
       "      <th>1494</th>\n",
       "      <td>0761152121</td>\n",
       "      <td>4.342365</td>\n",
       "      <td>406</td>\n",
       "      <td>1.101527</td>\n",
       "      <td>222.0</td>\n",
       "    </tr>\n",
       "    <tr>\n",
       "      <th>1300</th>\n",
       "      <td>1889140430</td>\n",
       "      <td>4.395770</td>\n",
       "      <td>331</td>\n",
       "      <td>1.116209</td>\n",
       "      <td>252.0</td>\n",
       "    </tr>\n",
       "  </tbody>\n",
       "</table>\n",
       "</div>"
      ],
      "text/plain": [
       "            asin  review_avg  review_count  review_std  salesRank\n",
       "14    0385349947    4.338917          1791    1.062115      150.0\n",
       "1494  0761152121    4.342365           406    1.101527      222.0\n",
       "1300  1889140430    4.395770           331    1.116209      252.0"
      ]
     },
     "execution_count": 47,
     "metadata": {},
     "output_type": "execute_result"
    }
   ],
   "source": [
    "books_reviews_df.sort_values(by='salesRank').head(3)"
   ]
  },
  {
   "cell_type": "markdown",
   "metadata": {},
   "source": [
    "We plot our datas to see if we can observe trends."
   ]
  },
  {
   "cell_type": "code",
   "execution_count": 48,
   "metadata": {},
   "outputs": [
    {
     "data": {
      "image/png": "[encoded data removed]",
      "text/plain": [
       "<matplotlib.figure.Figure at 0x186bcf630>"
      ]
     },
     "metadata": {},
     "output_type": "display_data"
    }
   ],
   "source": [
    "plt.figure(figsize=(14,5))\n",
    "plt.plot(books_reviews_df.review_avg.values, books_reviews_df.salesRank.values, 'o')\n",
    "axes = plt.gca()\n",
    "axes.set_ylim([0,5000000])\n",
    "plt.title('Correlation between review and sales rank')\n",
    "plt.xlabel('Review average grade')\n",
    "plt.ylabel('SalesRank')\n",
    "plt.grid()\n",
    "plt.show()"
   ]
  },
  {
   "cell_type": "code",
   "execution_count": 49,
   "metadata": {},
   "outputs": [
    {
     "data": {
      "image/png": "[encoded data removed]",
      "text/plain": [
       "<matplotlib.figure.Figure at 0x18ccb0358>"
      ]
     },
     "metadata": {},
     "output_type": "display_data"
    }
   ],
   "source": [
    "plt.figure(figsize=(14,5))\n",
    "plt.plot(books_reviews_df.review_std.values, books_reviews_df.salesRank.values, 'o')\n",
    "axes = plt.gca()\n",
    "axes.set_ylim([0,5000000])\n",
    "plt.title('Correlation between review and sales rank')\n",
    "plt.xlabel('Review standard deviation')\n",
    "plt.ylabel('SalesRank')\n",
    "plt.grid()\n",
    "plt.show()"
   ]
  },
  {
   "cell_type": "code",
   "execution_count": 50,
   "metadata": {},
   "outputs": [
    {
     "data": {
      "image/png": "[encoded data removed]",
      "text/plain": [
       "<matplotlib.figure.Figure at 0x18cd62048>"
      ]
     },
     "metadata": {},
     "output_type": "display_data"
    }
   ],
   "source": [
    "plt.figure(figsize=(14,5))\n",
    "plt.plot(books_reviews_df.review_count.values, books_reviews_df.salesRank.values, 'o')\n",
    "axes = plt.gca()\n",
    "axes.set_ylim([0,5000000])\n",
    "axes.set_xlim([0,2000])\n",
    "plt.title('Correlation between review and sales rank')\n",
    "plt.xlabel('Number of reviews')\n",
    "plt.ylabel('SalesRank')\n",
    "plt.grid()\n",
    "plt.show()"
   ]
  },
  {
   "cell_type": "markdown",
   "metadata": {},
   "source": [
    "We see with these 3 plots that there is no correlation between review grade or review variance and sales rank. We see a correlation between review quantity and sales rank. Following these observations we can say that:\n",
    "- a book which has bad reviews can have a good sales rank because many people have bought it at a given time. \n",
    "- a book which has a big standard deviation representing a big difference between reviews can have a good sales rank.\n",
    "- a book which has a lot of reviews is more likely to have a good sales rank. As more sales mean more review, more review involve more sales. \n",
    "\n",
    "To have a better view of the impacts of sales rank, we decide to use our work on book similarity. We want to compare the books sales rank of two similar books and see how reviews may influence that difference. "
   ]
  },
  {
   "cell_type": "markdown",
   "metadata": {},
   "source": [
    "### Comparison of books that are similar\n",
    "\n",
    "Now we want to see if a two similar books with different sales rank have different reviews characteristics."
   ]
  },
  {
   "cell_type": "code",
   "execution_count": 51,
   "metadata": {},
   "outputs": [
    {
     "data": {
      "text/html": [
       "<div>\n",
       "<style>\n",
       "    .dataframe thead tr:only-child th {\n",
       "        text-align: right;\n",
       "    }\n",
       "\n",
       "    .dataframe thead th {\n",
       "        text-align: left;\n",
       "    }\n",
       "\n",
       "    .dataframe tbody tr th {\n",
       "        vertical-align: top;\n",
       "    }\n",
       "</style>\n",
       "<table border=\"1\" class=\"dataframe\">\n",
       "  <thead>\n",
       "    <tr style=\"text-align: right;\">\n",
       "      <th></th>\n",
       "      <th>asin</th>\n",
       "      <th>review_avg</th>\n",
       "      <th>review_count</th>\n",
       "      <th>review_std</th>\n",
       "      <th>salesRank</th>\n",
       "    </tr>\n",
       "  </thead>\n",
       "  <tbody>\n",
       "    <tr>\n",
       "      <th>0</th>\n",
       "      <td>0470769327</td>\n",
       "      <td>4.341463</td>\n",
       "      <td>41</td>\n",
       "      <td>0.964618</td>\n",
       "      <td>36163.0</td>\n",
       "    </tr>\n",
       "    <tr>\n",
       "      <th>1</th>\n",
       "      <td>0767903927</td>\n",
       "      <td>4.652174</td>\n",
       "      <td>23</td>\n",
       "      <td>1.152416</td>\n",
       "      <td>853517.0</td>\n",
       "    </tr>\n",
       "    <tr>\n",
       "      <th>2</th>\n",
       "      <td>0240802756</td>\n",
       "      <td>4.734043</td>\n",
       "      <td>188</td>\n",
       "      <td>0.696447</td>\n",
       "      <td>437123.0</td>\n",
       "    </tr>\n",
       "  </tbody>\n",
       "</table>\n",
       "</div>"
      ],
      "text/plain": [
       "         asin  review_avg  review_count  review_std  salesRank\n",
       "0  0470769327    4.341463            41    0.964618    36163.0\n",
       "1  0767903927    4.652174            23    1.152416   853517.0\n",
       "2  0240802756    4.734043           188    0.696447   437123.0"
      ]
     },
     "execution_count": 51,
     "metadata": {},
     "output_type": "execute_result"
    }
   ],
   "source": [
    "books_reviews_df.head(3)"
   ]
  },
  {
   "cell_type": "markdown",
   "metadata": {},
   "source": [
    "First, we take the books that are similar. Then we compute the difference in term of sales rank, review average, review quantity and review standard deviation."
   ]
  },
  {
   "cell_type": "code",
   "execution_count": 52,
   "metadata": {
    "collapsed": true
   },
   "outputs": [],
   "source": [
    "books_salesrank_reviews_diff = []\n",
    "\n",
    "for i in range(len(very_similars)-1):\n",
    "    similars = very_similars[books_reviews_df.iloc[i].asin]\n",
    "    \n",
    "    for s in similars:\n",
    "        book_similar = books_reviews_df[books_reviews_df['asin'] == s]\n",
    "\n",
    "        diff_salesrank = abs(books_reviews_df.iloc[i].salesRank - book_similar.salesRank.values[0])\n",
    "        diff_review_avg = abs(books_reviews_df.iloc[i].review_avg - book_similar.review_avg.values[0])\n",
    "        diff_review_count = abs(books_reviews_df.iloc[i].review_count - book_similar.review_count.values[0])\n",
    "        diff_review_std = abs(books_reviews_df.iloc[i].review_std - book_similar.review_std.values[0])\n",
    "        \n",
    "        books_salesrank_reviews_diff.append({\n",
    "            'diff_salesrank': diff_salesrank,\n",
    "            'diff_review_avg': diff_review_avg,\n",
    "            'diff_review_count': diff_review_count,\n",
    "            'diff_review_std': diff_review_std,\n",
    "        })"
   ]
  },
  {
   "cell_type": "code",
   "execution_count": 53,
   "metadata": {},
   "outputs": [
    {
     "data": {
      "text/html": [
       "<div>\n",
       "<style>\n",
       "    .dataframe thead tr:only-child th {\n",
       "        text-align: right;\n",
       "    }\n",
       "\n",
       "    .dataframe thead th {\n",
       "        text-align: left;\n",
       "    }\n",
       "\n",
       "    .dataframe tbody tr th {\n",
       "        vertical-align: top;\n",
       "    }\n",
       "</style>\n",
       "<table border=\"1\" class=\"dataframe\">\n",
       "  <thead>\n",
       "    <tr style=\"text-align: right;\">\n",
       "      <th></th>\n",
       "      <th>diff_review_avg</th>\n",
       "      <th>diff_review_count</th>\n",
       "      <th>diff_review_std</th>\n",
       "      <th>diff_salesrank</th>\n",
       "    </tr>\n",
       "  </thead>\n",
       "  <tbody>\n",
       "    <tr>\n",
       "      <th>417</th>\n",
       "      <td>0.412736</td>\n",
       "      <td>98</td>\n",
       "      <td>0.490036</td>\n",
       "      <td>14419368.0</td>\n",
       "    </tr>\n",
       "    <tr>\n",
       "      <th>582</th>\n",
       "      <td>0.160000</td>\n",
       "      <td>57</td>\n",
       "      <td>0.210406</td>\n",
       "      <td>11358901.0</td>\n",
       "    </tr>\n",
       "    <tr>\n",
       "      <th>499</th>\n",
       "      <td>0.025906</td>\n",
       "      <td>83</td>\n",
       "      <td>0.008508</td>\n",
       "      <td>8628536.0</td>\n",
       "    </tr>\n",
       "  </tbody>\n",
       "</table>\n",
       "</div>"
      ],
      "text/plain": [
       "     diff_review_avg  diff_review_count  diff_review_std  diff_salesrank\n",
       "417         0.412736                 98         0.490036      14419368.0\n",
       "582         0.160000                 57         0.210406      11358901.0\n",
       "499         0.025906                 83         0.008508       8628536.0"
      ]
     },
     "execution_count": 53,
     "metadata": {},
     "output_type": "execute_result"
    }
   ],
   "source": [
    "books_salesrank_reviews_diff_df = pd.DataFrame.from_dict(books_salesrank_reviews_diff)\n",
    "books_salesrank_reviews_diff_df.sort_values(by='diff_salesrank', ascending=False).head(3)"
   ]
  },
  {
   "cell_type": "markdown",
   "metadata": {},
   "source": [
    "To have a better understanding in our visualization, we decide to descretize our values and create a heatmap."
   ]
  },
  {
   "cell_type": "code",
   "execution_count": 54,
   "metadata": {
    "collapsed": true
   },
   "outputs": [],
   "source": [
    "cut_diff_salesrank = np.linspace(0, 8.126680e+05, num=10)\n",
    "cut_diff_review_avg = np.linspace(0, 2.955122, num=30)\n",
    "\n",
    "books_salesrank_reviews_diff_df['Salesrank_difference'] = pd.cut(books_salesrank_reviews_diff_df['diff_salesrank'], cut_diff_salesrank)\n",
    "books_salesrank_reviews_diff_df['Review_average_difference'] = pd.cut(books_salesrank_reviews_diff_df['diff_review_avg'], cut_diff_review_avg)"
   ]
  },
  {
   "cell_type": "code",
   "execution_count": 55,
   "metadata": {},
   "outputs": [
    {
     "data": {
      "text/plain": [
       "<matplotlib.axes._subplots.AxesSubplot at 0x2164530f0>"
      ]
     },
     "execution_count": 55,
     "metadata": {},
     "output_type": "execute_result"
    },
    {
     "data": {
      "image/png": "[encoded data removed]",
      "text/plain": [
       "<matplotlib.figure.Figure at 0x11751be48>"
      ]
     },
     "metadata": {},
     "output_type": "display_data"
    }
   ],
   "source": [
    "heat_map = books_salesrank_reviews_diff_df.pivot_table(index='Salesrank_difference', columns='Review_average_difference', values='diff_review_count', aggfunc=lambda x: len(x.unique()))\n",
    "sns.set()\n",
    "f, ax = plt.subplots(figsize=(10, 6))\n",
    "sns.heatmap(heat_map, annot=True, linewidths=0.1, ax=ax, cmap=\"YlGnBu\")"
   ]
  },
  {
   "cell_type": "markdown",
   "metadata": {},
   "source": [
    "An interesting information from this heatmap is that most of the big sales rank differences are for books who have small review difference. \n",
    "- Example: 2 books who have a difference of around 500'000 positions in the sales rank have a good probability to have a review average difference around 0.102."
   ]
  },
  {
   "cell_type": "markdown",
   "metadata": {},
   "source": [
    "## Price and Review correlation analysis\n",
    "\n",
    "As we cover the sales rank correlation analysis with reviews, we perform an analysis about book prices. \n",
    "\n",
    "### Comparison of books together\n",
    "\n",
    "We decide this time to take a part of all the dataset to perform our analysis between books together. Price and Review correlation analysis"
   ]
  },
  {
   "cell_type": "code",
   "execution_count": 56,
   "metadata": {},
   "outputs": [
    {
     "name": "stdout",
     "output_type": "stream",
     "text": [
      "Paths : \n",
      "\t meta = ../../Project-Data/meta/meta_Books.json\n",
      "\t review = ../../Project-Data/reviews/reviews_Books.json\n",
      "\t core_path = ../../Project-Data/5_core/Books.json\n"
     ]
    }
   ],
   "source": [
    "meta_books_path, review_books_path, core_book_path = get_paths(0, DATA_FOLDER, META_FOLDER,CORE_FOLDER,REVIEWS_FOLDER, CATEGORIES)"
   ]
  },
  {
   "cell_type": "code",
   "execution_count": 57,
   "metadata": {},
   "outputs": [
    {
     "name": "stdout",
     "output_type": "stream",
     "text": [
      "Retrieving from : ../../Project-Data/dump/meta_Books__ALL\n",
      "It took 00:00:30.093 to import the data.\n"
     ]
    }
   ],
   "source": [
    "meta_books = import_interesting_cols(meta_books_path,DUMP_FOLDER,True,[],max_count=MAXCOUNT)"
   ]
  },
  {
   "cell_type": "code",
   "execution_count": 58,
   "metadata": {},
   "outputs": [
    {
     "data": {
      "text/html": [
       "<div>\n",
       "<style>\n",
       "    .dataframe thead tr:only-child th {\n",
       "        text-align: right;\n",
       "    }\n",
       "\n",
       "    .dataframe thead th {\n",
       "        text-align: left;\n",
       "    }\n",
       "\n",
       "    .dataframe tbody tr th {\n",
       "        vertical-align: top;\n",
       "    }\n",
       "</style>\n",
       "<table border=\"1\" class=\"dataframe\">\n",
       "  <thead>\n",
       "    <tr style=\"text-align: right;\">\n",
       "      <th></th>\n",
       "      <th>asin</th>\n",
       "      <th>brand</th>\n",
       "      <th>categories</th>\n",
       "      <th>description</th>\n",
       "      <th>imUrl</th>\n",
       "      <th>price</th>\n",
       "      <th>related</th>\n",
       "      <th>salesRank_Arts,_Crafts_&amp;_Sewing</th>\n",
       "      <th>salesRank_Books</th>\n",
       "      <th>salesRank_Cell_Phones_&amp;_Accessories</th>\n",
       "      <th>...</th>\n",
       "      <th>salesRank_Jewelry</th>\n",
       "      <th>salesRank_Kitchen_&amp;_Dining</th>\n",
       "      <th>salesRank_Movies_&amp;_TV</th>\n",
       "      <th>salesRank_Music</th>\n",
       "      <th>salesRank_Musical_Instruments</th>\n",
       "      <th>salesRank_Office_Products</th>\n",
       "      <th>salesRank_Shoes</th>\n",
       "      <th>salesRank_Sports_&amp;_Outdoors</th>\n",
       "      <th>salesRank_Toys_&amp;_Games</th>\n",
       "      <th>title</th>\n",
       "    </tr>\n",
       "  </thead>\n",
       "  <tbody>\n",
       "    <tr>\n",
       "      <th>0</th>\n",
       "      <td>0001048791</td>\n",
       "      <td>NaN</td>\n",
       "      <td>[Books]</td>\n",
       "      <td>NaN</td>\n",
       "      <td>http://ecx.images-amazon.com/images/I/51MKP0T4...</td>\n",
       "      <td>NaN</td>\n",
       "      <td>NaN</td>\n",
       "      <td>NaN</td>\n",
       "      <td>6334800.0</td>\n",
       "      <td>NaN</td>\n",
       "      <td>...</td>\n",
       "      <td>NaN</td>\n",
       "      <td>NaN</td>\n",
       "      <td>NaN</td>\n",
       "      <td>NaN</td>\n",
       "      <td>NaN</td>\n",
       "      <td>NaN</td>\n",
       "      <td>NaN</td>\n",
       "      <td>NaN</td>\n",
       "      <td>NaN</td>\n",
       "      <td>The Crucible: Performed by Stuart Pankin, Jero...</td>\n",
       "    </tr>\n",
       "  </tbody>\n",
       "</table>\n",
       "<p>1 rows × 25 columns</p>\n",
       "</div>"
      ],
      "text/plain": [
       "         asin brand categories description  \\\n",
       "0  0001048791   NaN    [Books]         NaN   \n",
       "\n",
       "                                               imUrl  price related  \\\n",
       "0  http://ecx.images-amazon.com/images/I/51MKP0T4...    NaN     NaN   \n",
       "\n",
       "   salesRank_Arts,_Crafts_&_Sewing  salesRank_Books  \\\n",
       "0                              NaN        6334800.0   \n",
       "\n",
       "   salesRank_Cell_Phones_&_Accessories  \\\n",
       "0                                  NaN   \n",
       "\n",
       "                         ...                          salesRank_Jewelry  \\\n",
       "0                        ...                                        NaN   \n",
       "\n",
       "   salesRank_Kitchen_&_Dining  salesRank_Movies_&_TV  salesRank_Music  \\\n",
       "0                         NaN                    NaN              NaN   \n",
       "\n",
       "   salesRank_Musical_Instruments  salesRank_Office_Products  salesRank_Shoes  \\\n",
       "0                            NaN                        NaN              NaN   \n",
       "\n",
       "   salesRank_Sports_&_Outdoors  salesRank_Toys_&_Games  \\\n",
       "0                          NaN                     NaN   \n",
       "\n",
       "                                               title  \n",
       "0  The Crucible: Performed by Stuart Pankin, Jero...  \n",
       "\n",
       "[1 rows x 25 columns]"
      ]
     },
     "execution_count": 58,
     "metadata": {},
     "output_type": "execute_result"
    }
   ],
   "source": [
    "meta_books.head(1)"
   ]
  },
  {
   "cell_type": "code",
   "execution_count": 59,
   "metadata": {},
   "outputs": [
    {
     "data": {
      "text/plain": [
       "['asin',\n",
       " 'brand',\n",
       " 'categories',\n",
       " 'description',\n",
       " 'imUrl',\n",
       " 'price',\n",
       " 'related',\n",
       " 'salesRank_Arts,_Crafts_&_Sewing',\n",
       " 'salesRank_Books',\n",
       " 'salesRank_Cell_Phones_&_Accessories',\n",
       " 'salesRank_Clothing',\n",
       " 'salesRank_Electronics',\n",
       " 'salesRank_Health_&_Personal_Care',\n",
       " 'salesRank_Home_&_Kitchen',\n",
       " 'salesRank_Industrial_&_Scientific',\n",
       " 'salesRank_Jewelry',\n",
       " 'salesRank_Kitchen_&_Dining',\n",
       " 'salesRank_Movies_&_TV',\n",
       " 'salesRank_Music',\n",
       " 'salesRank_Musical_Instruments',\n",
       " 'salesRank_Office_Products',\n",
       " 'salesRank_Shoes',\n",
       " 'salesRank_Sports_&_Outdoors',\n",
       " 'salesRank_Toys_&_Games',\n",
       " 'title']"
      ]
     },
     "execution_count": 59,
     "metadata": {},
     "output_type": "execute_result"
    }
   ],
   "source": [
    "list(meta_books)"
   ]
  },
  {
   "cell_type": "code",
   "execution_count": 60,
   "metadata": {},
   "outputs": [
    {
     "data": {
      "text/plain": [
       "(2370585, 25)"
      ]
     },
     "execution_count": 60,
     "metadata": {},
     "output_type": "execute_result"
    }
   ],
   "source": [
    "meta_books.shape"
   ]
  },
  {
   "cell_type": "markdown",
   "metadata": {},
   "source": [
    "We want to know if there is a correlation between book price and reviews. For the reviews, we will use the average, the standard deviation and the quantity for each book. \n",
    "\n",
    "We see that the price is not available for each books. We will not use books without price for our analysis. We create the dataframe that we want for our analysis with column are \"asin\", \"price\", \"review_avg\", \"review_std\", \"review_count\"."
   ]
  },
  {
   "cell_type": "code",
   "execution_count": 61,
   "metadata": {},
   "outputs": [
    {
     "name": "stdout",
     "output_type": "stream",
     "text": [
      "Retrieved from 'analysis_data/books_price_reviews'.\n"
     ]
    }
   ],
   "source": [
    "dump_path = ANALYSIS_DATA_FOLDER + 'books_price_reviews'\n",
    "if(os.path.isfile(dump_path)):\n",
    "    print(\"Retrieved from '{}'.\".format(dump_path))\n",
    "    books_price_reviews_df = pd.read_pickle(dump_path)\n",
    "else:\n",
    "    books_price_reviews = []\n",
    "    for i in range(len(meta_books)):\n",
    "        if not np.isnan(meta_books.iloc[i].price):  \n",
    "            if meta_books.iloc[i].asin in books_reviews_df.asin:\n",
    "                review_avg = books_reviews_df['review_avg']\n",
    "                review_std = books_reviews_df['review_std']\n",
    "                review_count = books_reviews_df['review_count']\n",
    "                asin = books_reviews_df['asin']\n",
    "                price = meta_books.iloc[i].price\n",
    "            else:\n",
    "                review_avg = meta_reviews_df[meta_reviews_df['asin'] == meta_books.iloc[i].asin].mean().overall\n",
    "                review_std = meta_reviews_df[meta_reviews_df['asin'] == meta_books.iloc[i].asin].std().overall\n",
    "                review_count = meta_reviews_df[meta_reviews_df['asin'] == meta_books.iloc[i].asin].count().overall\n",
    "                asin = meta_books.iloc[i].asin\n",
    "                price = meta_books.iloc[i].price\n",
    "            books_price_reviews.append({\n",
    "                'asin': asin,\n",
    "                'price': price,\n",
    "                'review_avg': review_avg,\n",
    "                'review_std': review_std,\n",
    "                'review_count': review_count,\n",
    "            })\n",
    "            \n",
    "    books_price_reviews_df = pd.DataFrame.from_dict(books_price_reviews) \n",
    "    with open(dump_path, 'wb') as handle:\n",
    "        pickle.dump(books_price_reviews_df, handle, protocol=pickle.HIGHEST_PROTOCOL)\n",
    "        print(\"Saved to {}.\".format(dump_path))"
   ]
  },
  {
   "cell_type": "markdown",
   "metadata": {},
   "source": [
    "This are the 3 most expensives books from our selection."
   ]
  },
  {
   "cell_type": "code",
   "execution_count": 62,
   "metadata": {},
   "outputs": [
    {
     "data": {
      "text/html": [
       "<div>\n",
       "<style>\n",
       "    .dataframe thead tr:only-child th {\n",
       "        text-align: right;\n",
       "    }\n",
       "\n",
       "    .dataframe thead th {\n",
       "        text-align: left;\n",
       "    }\n",
       "\n",
       "    .dataframe tbody tr th {\n",
       "        vertical-align: top;\n",
       "    }\n",
       "</style>\n",
       "<table border=\"1\" class=\"dataframe\">\n",
       "  <thead>\n",
       "    <tr style=\"text-align: right;\">\n",
       "      <th></th>\n",
       "      <th>asin</th>\n",
       "      <th>price</th>\n",
       "      <th>review_avg</th>\n",
       "      <th>review_count</th>\n",
       "      <th>review_std</th>\n",
       "    </tr>\n",
       "  </thead>\n",
       "  <tbody>\n",
       "    <tr>\n",
       "      <th>4689</th>\n",
       "      <td>0028972252</td>\n",
       "      <td>673.92</td>\n",
       "      <td>4.5</td>\n",
       "      <td>2</td>\n",
       "      <td>0.707107</td>\n",
       "    </tr>\n",
       "    <tr>\n",
       "      <th>4587</th>\n",
       "      <td>0028658310</td>\n",
       "      <td>637.45</td>\n",
       "      <td>5.0</td>\n",
       "      <td>1</td>\n",
       "      <td>NaN</td>\n",
       "    </tr>\n",
       "    <tr>\n",
       "      <th>4613</th>\n",
       "      <td>002865806X</td>\n",
       "      <td>620.35</td>\n",
       "      <td>5.0</td>\n",
       "      <td>1</td>\n",
       "      <td>NaN</td>\n",
       "    </tr>\n",
       "  </tbody>\n",
       "</table>\n",
       "</div>"
      ],
      "text/plain": [
       "            asin   price  review_avg  review_count  review_std\n",
       "4689  0028972252  673.92         4.5             2    0.707107\n",
       "4587  0028658310  637.45         5.0             1         NaN\n",
       "4613  002865806X  620.35         5.0             1         NaN"
      ]
     },
     "execution_count": 62,
     "metadata": {},
     "output_type": "execute_result"
    }
   ],
   "source": [
    "books_price_reviews_df.sort_values(by='price',ascending=False).head(3)"
   ]
  },
  {
   "cell_type": "code",
   "execution_count": 63,
   "metadata": {},
   "outputs": [
    {
     "data": {
      "image/png": "[encoded data removed]",
      "text/plain": [
       "<matplotlib.figure.Figure at 0x2532f29e8>"
      ]
     },
     "metadata": {},
     "output_type": "display_data"
    }
   ],
   "source": [
    "plt.figure(figsize=(14,5))\n",
    "plt.plot(books_price_reviews_df.review_avg.values, books_price_reviews_df.price.values, 'o')\n",
    "axes = plt.gca()\n",
    "plt.title('Correlation between review and price')\n",
    "plt.xlabel('Review average grade')\n",
    "plt.ylabel('Price')\n",
    "plt.grid()\n",
    "plt.show()"
   ]
  },
  {
   "cell_type": "code",
   "execution_count": 64,
   "metadata": {},
   "outputs": [
    {
     "data": {
      "image/png": "[encoded data removed]",
      "text/plain": [
       "<matplotlib.figure.Figure at 0x2534b3550>"
      ]
     },
     "metadata": {},
     "output_type": "display_data"
    }
   ],
   "source": [
    "plt.figure(figsize=(14,5))\n",
    "plt.plot(books_price_reviews_df.review_std.values, books_price_reviews_df.price.values, 'o')\n",
    "axes = plt.gca()\n",
    "plt.title('Correlation between review and price')\n",
    "plt.xlabel('Review standard deviation')\n",
    "plt.ylabel('Price')\n",
    "plt.grid()\n",
    "plt.show()"
   ]
  },
  {
   "cell_type": "code",
   "execution_count": 65,
   "metadata": {},
   "outputs": [
    {
     "data": {
      "image/png": "[encoded data removed]",
      "text/plain": [
       "<matplotlib.figure.Figure at 0x253673780>"
      ]
     },
     "metadata": {},
     "output_type": "display_data"
    }
   ],
   "source": [
    "plt.figure(figsize=(14,5))\n",
    "plt.plot(books_price_reviews_df.review_count.values, books_price_reviews_df.price.values, 'o')\n",
    "axes = plt.gca()\n",
    "plt.title('Correlation between review and price')\n",
    "plt.xlabel('Review quantity')\n",
    "plt.ylabel('Price')\n",
    "plt.grid()\n",
    "plt.show()"
   ]
  },
  {
   "cell_type": "markdown",
   "metadata": {},
   "source": [
    "We observe these 3 plots and see if we can see a correlation between reviews and price. Following these observations we can say that:\n",
    "- even if we see a small trend to say that an expensive book lead to good review, this trend is not enough to conclude a correlation between review average grade and price.\n",
    "- a book which has a big standard deviation in its reviews, representing a big difference between reviews can be cheap or expensive.\n",
    "- a book which has a lot of reviews is more likely to have a low price. This is linked to the sales rank explored before. A low price lead a better sales rank and then more reviews. \n",
    "\n",
    "To have a better view of the impacts of price, we decide to use our work on book similarity. We want to compare the books price of two similar books and see how reviews may influence that difference. "
   ]
  },
  {
   "cell_type": "markdown",
   "metadata": {},
   "source": [
    "### Comparison inside book similarities\n",
    "\n",
    "Now we want to see if a two similar books with different price have different reviews characteristics."
   ]
  },
  {
   "cell_type": "code",
   "execution_count": 66,
   "metadata": {},
   "outputs": [
    {
     "data": {
      "text/plain": [
       "(2370585, 25)"
      ]
     },
     "execution_count": 66,
     "metadata": {},
     "output_type": "execute_result"
    }
   ],
   "source": [
    "meta_books.shape # All database of books"
   ]
  },
  {
   "cell_type": "code",
   "execution_count": 67,
   "metadata": {},
   "outputs": [
    {
     "data": {
      "text/plain": [
       "(1611, 5)"
      ]
     },
     "execution_count": 67,
     "metadata": {},
     "output_type": "execute_result"
    }
   ],
   "source": [
    "books_reviews_df.shape # Books that have similarities "
   ]
  },
  {
   "cell_type": "markdown",
   "metadata": {},
   "source": [
    "First, we take the books that are similar. Then we compute the difference in term of price normalized, review average, review quantity and review standard deviation."
   ]
  },
  {
   "cell_type": "code",
   "execution_count": 68,
   "metadata": {},
   "outputs": [
    {
     "name": "stdout",
     "output_type": "stream",
     "text": [
      "Retrieved from 'analysis_data/books_price_reviews_diff'.\n"
     ]
    }
   ],
   "source": [
    "dump_path = ANALYSIS_DATA_FOLDER + 'books_price_reviews_diff'\n",
    "if(os.path.isfile(dump_path)):\n",
    "    print(\"Retrieved from '{}'.\".format(dump_path))\n",
    "    books_price_reviews_diff_df = pd.read_pickle(dump_path)\n",
    "else:\n",
    "    books_price_reviews_diff = []\n",
    "    for i in range(len(very_similars)-1):\n",
    "        similars = very_similars[books_reviews_df.iloc[i].asin]\n",
    "\n",
    "        for s in similars:\n",
    "            book_similar = books_reviews_df[books_reviews_df['asin'] == s]\n",
    "\n",
    "            diff_price = (meta_books[meta_books['asin'] == books_reviews_df.iloc[i].asin].price.values[0] - meta_books[meta_books['asin'] == book_similar.asin.values[0]].price.values[0])/meta_books[meta_books['asin'] == book_similar.asin.values[0]].price.values[0]\n",
    "\n",
    "            diff_review_avg = abs(books_reviews_df.iloc[i].review_avg - book_similar.review_avg.values[0])\n",
    "            diff_review_count = abs(books_reviews_df.iloc[i].review_count - book_similar.review_count.values[0])\n",
    "            diff_review_std = abs(books_reviews_df.iloc[i].review_std - book_similar.review_std.values[0])\n",
    "\n",
    "            books_price_reviews_diff.append({\n",
    "                'diff_price': diff_price,\n",
    "                'diff_review_avg': diff_review_avg,\n",
    "                'diff_review_count': diff_review_count,\n",
    "                'diff_review_std': diff_review_std,\n",
    "            })\n",
    "    books_price_reviews_diff_df = pd.DataFrame.from_dict(books_price_reviews_diff)\n",
    "    with open(dump_path, 'wb') as handle:\n",
    "        pickle.dump(books_price_reviews_diff_df, handle, protocol=pickle.HIGHEST_PROTOCOL)\n",
    "        print(\"Saved to {}.\".format(dump_path))"
   ]
  },
  {
   "cell_type": "code",
   "execution_count": 69,
   "metadata": {},
   "outputs": [
    {
     "data": {
      "text/html": [
       "<div>\n",
       "<style>\n",
       "    .dataframe thead tr:only-child th {\n",
       "        text-align: right;\n",
       "    }\n",
       "\n",
       "    .dataframe thead th {\n",
       "        text-align: left;\n",
       "    }\n",
       "\n",
       "    .dataframe tbody tr th {\n",
       "        vertical-align: top;\n",
       "    }\n",
       "</style>\n",
       "<table border=\"1\" class=\"dataframe\">\n",
       "  <thead>\n",
       "    <tr style=\"text-align: right;\">\n",
       "      <th></th>\n",
       "      <th>diff_price</th>\n",
       "      <th>diff_review_avg</th>\n",
       "      <th>diff_review_count</th>\n",
       "      <th>diff_review_std</th>\n",
       "      <th>Price_difference</th>\n",
       "      <th>Review_average_difference</th>\n",
       "    </tr>\n",
       "  </thead>\n",
       "  <tbody>\n",
       "    <tr>\n",
       "      <th>0</th>\n",
       "      <td>-0.309673</td>\n",
       "      <td>0.444028</td>\n",
       "      <td>2</td>\n",
       "      <td>0.482609</td>\n",
       "      <td>(-0.538, -0.308]</td>\n",
       "      <td>(0.408, 0.51]</td>\n",
       "    </tr>\n",
       "    <tr>\n",
       "      <th>1</th>\n",
       "      <td>-0.014155</td>\n",
       "      <td>0.332174</td>\n",
       "      <td>2</td>\n",
       "      <td>0.062765</td>\n",
       "      <td>(-0.0769, 0.154]</td>\n",
       "      <td>(0.306, 0.408]</td>\n",
       "    </tr>\n",
       "    <tr>\n",
       "      <th>2</th>\n",
       "      <td>0.520494</td>\n",
       "      <td>0.057572</td>\n",
       "      <td>86</td>\n",
       "      <td>0.149765</td>\n",
       "      <td>(0.385, 0.615]</td>\n",
       "      <td>(0.0, 0.102]</td>\n",
       "    </tr>\n",
       "  </tbody>\n",
       "</table>\n",
       "</div>"
      ],
      "text/plain": [
       "   diff_price  diff_review_avg  diff_review_count  diff_review_std  \\\n",
       "0   -0.309673         0.444028                  2         0.482609   \n",
       "1   -0.014155         0.332174                  2         0.062765   \n",
       "2    0.520494         0.057572                 86         0.149765   \n",
       "\n",
       "   Price_difference Review_average_difference  \n",
       "0  (-0.538, -0.308]             (0.408, 0.51]  \n",
       "1  (-0.0769, 0.154]            (0.306, 0.408]  \n",
       "2    (0.385, 0.615]              (0.0, 0.102]  "
      ]
     },
     "execution_count": 69,
     "metadata": {},
     "output_type": "execute_result"
    }
   ],
   "source": [
    "books_price_reviews_diff_df.head(3)"
   ]
  },
  {
   "cell_type": "markdown",
   "metadata": {},
   "source": [
    "The difference of price is normalized. For example, the first row represent 31% of difference between the 2 book prices. To have a better understanding in our visualization, we decide to descretize our values and create a heatmap."
   ]
  },
  {
   "cell_type": "code",
   "execution_count": 70,
   "metadata": {
    "collapsed": true
   },
   "outputs": [],
   "source": [
    "cut_diff_price = np.linspace(-1, 8, num=40)\n",
    "cut_diff_review_avg = np.linspace(0, 2.955122, num=30)\n",
    "\n",
    "books_price_reviews_diff_df['Price_difference'] = pd.cut(books_price_reviews_diff_df['diff_price'], cut_diff_price)\n",
    "books_price_reviews_diff_df['Review_average_difference'] = pd.cut(books_price_reviews_diff_df['diff_review_avg'], cut_diff_review_avg)"
   ]
  },
  {
   "cell_type": "code",
   "execution_count": 71,
   "metadata": {},
   "outputs": [
    {
     "data": {
      "text/plain": [
       "<matplotlib.axes._subplots.AxesSubplot at 0x1f381ce10>"
      ]
     },
     "execution_count": 71,
     "metadata": {},
     "output_type": "execute_result"
    },
    {
     "data": {
      "image/png": "[encoded data removed]",
      "text/plain": [
       "<matplotlib.figure.Figure at 0x21a9d44e0>"
      ]
     },
     "metadata": {},
     "output_type": "display_data"
    }
   ],
   "source": [
    "heat_map = books_price_reviews_diff_df.pivot_table(index='Price_difference', columns='Review_average_difference', values='diff_review_count', aggfunc=lambda x: len(x.unique()))\n",
    "sns.set()\n",
    "f, ax = plt.subplots(figsize=(10, 10))\n",
    "sns.heatmap(heat_map, annot=True, linewidths=0.1, ax=ax, cmap=\"YlGnBu\")"
   ]
  },
  {
   "cell_type": "markdown",
   "metadata": {},
   "source": [
    "From this heatmap, we see that some similar books have a big price difference without having a lot of difference in the average review rating. \n",
    "- Example: 18 similar books who have a price difference around 40% have almost same average reviews grade. "
   ]
  },
  {
   "cell_type": "markdown",
   "metadata": {},
   "source": [
    "# Herding Effect Analysis\n",
    "Now that we have seen that it is hard to show conclusive results regarding reviews and other product characteristics (price, sales rank, ...). We want to study how the first review influence the others. "
   ]
  },
  {
   "cell_type": "code",
   "execution_count": 72,
   "metadata": {
    "collapsed": true
   },
   "outputs": [],
   "source": [
    "# import the data stored from the matching step \n",
    "books_df = pd.read_pickle(ANALYSIS_DATA_FOLDER + 'books')\n",
    "review_books_df = pd.read_pickle(ANALYSIS_DATA_FOLDER + 'review_books')\n",
    "with open(ANALYSIS_DATA_FOLDER + 'very_similars', 'rb') as handle:\n",
    "    very_similars = pickle.load(handle)"
   ]
  },
  {
   "cell_type": "markdown",
   "metadata": {},
   "source": [
    "## Pre-analysis"
   ]
  },
  {
   "cell_type": "markdown",
   "metadata": {},
   "source": [
    "Before going any further in the herding effect analysis, this very first step is focused on gathering the data from the matching and categorize each pair of similar book into different categories that are going to be used in our futur analysis."
   ]
  },
  {
   "cell_type": "markdown",
   "metadata": {},
   "source": [
    "As a starting point, we will add a first_review_overall column in our books_df. It will contain the first rating of this particular book."
   ]
  },
  {
   "cell_type": "code",
   "execution_count": 73,
   "metadata": {
    "collapsed": true
   },
   "outputs": [],
   "source": [
    "# we add to each books his first review overall rating\n",
    "books_df['first_review_overall'] = books_df.apply(lambda x: return_first_review_overall(x, review_books_df), 1)"
   ]
  },
  {
   "cell_type": "markdown",
   "metadata": {},
   "source": [
    "Then for the needs of our analysis, we need to split our data in different category according to their first review overall. Some will be categorized as High first review (H), some will be categorized as Low first review (L). We also tried different combination of H and L with different treshold. Later we also introduce a (M) level or medium first review rating."
   ]
  },
  {
   "cell_type": "markdown",
   "metadata": {},
   "source": [
    "For now let's create a matching_df that contains every possible pair matched from previous matching step with every possible combination."
   ]
  },
  {
   "cell_type": "code",
   "execution_count": 74,
   "metadata": {},
   "outputs": [
    {
     "data": {
      "text/html": [
       "<div>\n",
       "<style>\n",
       "    .dataframe thead tr:only-child th {\n",
       "        text-align: right;\n",
       "    }\n",
       "\n",
       "    .dataframe thead th {\n",
       "        text-align: left;\n",
       "    }\n",
       "\n",
       "    .dataframe tbody tr th {\n",
       "        vertical-align: top;\n",
       "    }\n",
       "</style>\n",
       "<table border=\"1\" class=\"dataframe\">\n",
       "  <thead>\n",
       "    <tr style=\"text-align: right;\">\n",
       "      <th></th>\n",
       "      <th>asin_1</th>\n",
       "      <th>asin_2</th>\n",
       "    </tr>\n",
       "  </thead>\n",
       "  <tbody>\n",
       "    <tr>\n",
       "      <th>0</th>\n",
       "      <td>0764552953</td>\n",
       "      <td>0470769327</td>\n",
       "    </tr>\n",
       "    <tr>\n",
       "      <th>1</th>\n",
       "      <td>0767903935</td>\n",
       "      <td>0767903927</td>\n",
       "    </tr>\n",
       "    <tr>\n",
       "      <th>2</th>\n",
       "      <td>0240812255</td>\n",
       "      <td>0240802756</td>\n",
       "    </tr>\n",
       "    <tr>\n",
       "      <th>3</th>\n",
       "      <td>0743292472</td>\n",
       "      <td>0743292464</td>\n",
       "    </tr>\n",
       "    <tr>\n",
       "      <th>4</th>\n",
       "      <td>1578635136</td>\n",
       "      <td>144211892X</td>\n",
       "    </tr>\n",
       "  </tbody>\n",
       "</table>\n",
       "</div>"
      ],
      "text/plain": [
       "       asin_1      asin_2\n",
       "0  0764552953  0470769327\n",
       "1  0767903935  0767903927\n",
       "2  0240812255  0240802756\n",
       "3  0743292472  0743292464\n",
       "4  1578635136  144211892X"
      ]
     },
     "execution_count": 74,
     "metadata": {},
     "output_type": "execute_result"
    }
   ],
   "source": [
    "# create a flat matching DF with every unique possible pair including combination\n",
    "matching_df = pd.DataFrame(columns=['asin_1', 'asin_2'])\n",
    "for asin, matched_asin in very_similars.items():\n",
    "    total_matched_asin = matched_asin + [asin]\n",
    "    for i, asin in enumerate(total_matched_asin):\n",
    "        for j in range(i+1, len(total_matched_asin)):\n",
    "            matching_df = matching_df.append({'asin_1': asin, 'asin_2': total_matched_asin[j]}, ignore_index=True)\n",
    "matching_df.head()"
   ]
  },
  {
   "cell_type": "markdown",
   "metadata": {},
   "source": [
    "#### H/L Categorization"
   ]
  },
  {
   "cell_type": "markdown",
   "metadata": {},
   "source": [
    "We will add to this df a type column that will tell us which kind of pair each matching row correspond to (HH, HL, LH, LL ..). the treshold is defined in the return_category_from_value_HL function and in this specific case will categorize each value between 4 and 5 as high (H) and every other value as low (L). *We decided to chose such bound arbitrarly even if it doesn't yield balanced classes because it didn't seem that intuitive to have a 4 be classified as a low grade*"
   ]
  },
  {
   "cell_type": "code",
   "execution_count": 75,
   "metadata": {},
   "outputs": [
    {
     "data": {
      "text/html": [
       "<div>\n",
       "<style>\n",
       "    .dataframe thead tr:only-child th {\n",
       "        text-align: right;\n",
       "    }\n",
       "\n",
       "    .dataframe thead th {\n",
       "        text-align: left;\n",
       "    }\n",
       "\n",
       "    .dataframe tbody tr th {\n",
       "        vertical-align: top;\n",
       "    }\n",
       "</style>\n",
       "<table border=\"1\" class=\"dataframe\">\n",
       "  <thead>\n",
       "    <tr style=\"text-align: right;\">\n",
       "      <th></th>\n",
       "      <th>asin_1</th>\n",
       "      <th>asin_2</th>\n",
       "    </tr>\n",
       "    <tr>\n",
       "      <th>type</th>\n",
       "      <th></th>\n",
       "      <th></th>\n",
       "    </tr>\n",
       "  </thead>\n",
       "  <tbody>\n",
       "    <tr>\n",
       "      <th>HH</th>\n",
       "      <td>646</td>\n",
       "      <td>646</td>\n",
       "    </tr>\n",
       "    <tr>\n",
       "      <th>HL</th>\n",
       "      <td>88</td>\n",
       "      <td>88</td>\n",
       "    </tr>\n",
       "    <tr>\n",
       "      <th>LH</th>\n",
       "      <td>120</td>\n",
       "      <td>120</td>\n",
       "    </tr>\n",
       "    <tr>\n",
       "      <th>LL</th>\n",
       "      <td>23</td>\n",
       "      <td>23</td>\n",
       "    </tr>\n",
       "  </tbody>\n",
       "</table>\n",
       "</div>"
      ],
      "text/plain": [
       "      asin_1  asin_2\n",
       "type                \n",
       "HH       646     646\n",
       "HL        88      88\n",
       "LH       120     120\n",
       "LL        23      23"
      ]
     },
     "execution_count": 75,
     "metadata": {},
     "output_type": "execute_result"
    }
   ],
   "source": [
    "matching_df['type'] = matching_df.apply(lambda x: categorize_pair(x, return_category_from_value_HL, books_df), axis=1)\n",
    "matching_df.groupby('type').count()"
   ]
  },
  {
   "cell_type": "markdown",
   "metadata": {},
   "source": [
    "Unsurprinsigly we have a very high number of HH as the dataset is mostly composed of 5 stars rating (see review rating analysis). The number of data in the HL / LH category is decent for pursuing our analysis by simply agregating the 2 class. We can do that as the books are both coming from the same site and is supposed to be totally equivalent to the other one. We also notice a surprisingly low number of data in the LL group with only 23 value. We will not be able to use this group in our analysis.\n",
    "\n",
    "As discussed just above we can simply aggregate the LH and HL category. To do so we simply swap the value between the 2 cols in the LH group and rename the corresponding type."
   ]
  },
  {
   "cell_type": "code",
   "execution_count": 76,
   "metadata": {},
   "outputs": [
    {
     "data": {
      "text/html": [
       "<div>\n",
       "<style>\n",
       "    .dataframe thead tr:only-child th {\n",
       "        text-align: right;\n",
       "    }\n",
       "\n",
       "    .dataframe thead th {\n",
       "        text-align: left;\n",
       "    }\n",
       "\n",
       "    .dataframe tbody tr th {\n",
       "        vertical-align: top;\n",
       "    }\n",
       "</style>\n",
       "<table border=\"1\" class=\"dataframe\">\n",
       "  <thead>\n",
       "    <tr style=\"text-align: right;\">\n",
       "      <th></th>\n",
       "      <th>asin_1</th>\n",
       "      <th>asin_2</th>\n",
       "    </tr>\n",
       "    <tr>\n",
       "      <th>type</th>\n",
       "      <th></th>\n",
       "      <th></th>\n",
       "    </tr>\n",
       "  </thead>\n",
       "  <tbody>\n",
       "    <tr>\n",
       "      <th>HH</th>\n",
       "      <td>646</td>\n",
       "      <td>646</td>\n",
       "    </tr>\n",
       "    <tr>\n",
       "      <th>HL</th>\n",
       "      <td>208</td>\n",
       "      <td>208</td>\n",
       "    </tr>\n",
       "    <tr>\n",
       "      <th>LL</th>\n",
       "      <td>23</td>\n",
       "      <td>23</td>\n",
       "    </tr>\n",
       "  </tbody>\n",
       "</table>\n",
       "</div>"
      ],
      "text/plain": [
       "      asin_1  asin_2\n",
       "type                \n",
       "HH       646     646\n",
       "HL       208     208\n",
       "LL        23      23"
      ]
     },
     "execution_count": 76,
     "metadata": {},
     "output_type": "execute_result"
    }
   ],
   "source": [
    "matching_df[matching_df.type == \"LH\"] = matching_df.query('type == \"LH\"').reindex(columns=['asin_2', 'asin_1', 'type'])\n",
    "matching_df.loc[matching_df.type == \"LH\", \"type\"] = \"HL\"\n",
    "matching_df.groupby('type').count()"
   ]
  },
  {
   "cell_type": "markdown",
   "metadata": {},
   "source": [
    "Those numbers for the HH, and HL categories are enough to pursue our analysis but after analysing the rating on the whole dataset we assumed that adding a medium category could be benificial in our analysis. It would allow us to have more groups to work on and we would be able to more easely confirm our result."
   ]
  },
  {
   "cell_type": "markdown",
   "metadata": {},
   "source": [
    "#### H/M/L Categorization"
   ]
  },
  {
   "cell_type": "markdown",
   "metadata": {},
   "source": [
    "Here we will repeat the exact same procedure this time with 3 categories H, M and L with threshold defined according to our overall rating analysis as H=5, M=4, L=[1-3]."
   ]
  },
  {
   "cell_type": "code",
   "execution_count": 77,
   "metadata": {},
   "outputs": [
    {
     "data": {
      "text/html": [
       "<div>\n",
       "<style>\n",
       "    .dataframe thead tr:only-child th {\n",
       "        text-align: right;\n",
       "    }\n",
       "\n",
       "    .dataframe thead th {\n",
       "        text-align: left;\n",
       "    }\n",
       "\n",
       "    .dataframe tbody tr th {\n",
       "        vertical-align: top;\n",
       "    }\n",
       "</style>\n",
       "<table border=\"1\" class=\"dataframe\">\n",
       "  <thead>\n",
       "    <tr style=\"text-align: right;\">\n",
       "      <th></th>\n",
       "      <th>asin_1</th>\n",
       "      <th>asin_2</th>\n",
       "    </tr>\n",
       "    <tr>\n",
       "      <th>type</th>\n",
       "      <th></th>\n",
       "      <th></th>\n",
       "    </tr>\n",
       "  </thead>\n",
       "  <tbody>\n",
       "    <tr>\n",
       "      <th>HH</th>\n",
       "      <td>425</td>\n",
       "      <td>425</td>\n",
       "    </tr>\n",
       "    <tr>\n",
       "      <th>HL</th>\n",
       "      <td>161</td>\n",
       "      <td>161</td>\n",
       "    </tr>\n",
       "    <tr>\n",
       "      <th>HM</th>\n",
       "      <td>94</td>\n",
       "      <td>94</td>\n",
       "    </tr>\n",
       "    <tr>\n",
       "      <th>LL</th>\n",
       "      <td>23</td>\n",
       "      <td>23</td>\n",
       "    </tr>\n",
       "    <tr>\n",
       "      <th>MH</th>\n",
       "      <td>98</td>\n",
       "      <td>98</td>\n",
       "    </tr>\n",
       "    <tr>\n",
       "      <th>ML</th>\n",
       "      <td>47</td>\n",
       "      <td>47</td>\n",
       "    </tr>\n",
       "    <tr>\n",
       "      <th>MM</th>\n",
       "      <td>29</td>\n",
       "      <td>29</td>\n",
       "    </tr>\n",
       "  </tbody>\n",
       "</table>\n",
       "</div>"
      ],
      "text/plain": [
       "      asin_1  asin_2\n",
       "type                \n",
       "HH       425     425\n",
       "HL       161     161\n",
       "HM        94      94\n",
       "LL        23      23\n",
       "MH        98      98\n",
       "ML        47      47\n",
       "MM        29      29"
      ]
     },
     "execution_count": 77,
     "metadata": {},
     "output_type": "execute_result"
    }
   ],
   "source": [
    "matching_df['type'] = matching_df.apply(lambda x: categorize_pair(x, return_category_from_value_HML, books_df), axis=1)\n",
    "matching_df.groupby('type').count()"
   ]
  },
  {
   "cell_type": "markdown",
   "metadata": {},
   "source": [
    "And similarly as above we will aggregate our groups."
   ]
  },
  {
   "cell_type": "code",
   "execution_count": 78,
   "metadata": {},
   "outputs": [
    {
     "data": {
      "text/html": [
       "<div>\n",
       "<style>\n",
       "    .dataframe thead tr:only-child th {\n",
       "        text-align: right;\n",
       "    }\n",
       "\n",
       "    .dataframe thead th {\n",
       "        text-align: left;\n",
       "    }\n",
       "\n",
       "    .dataframe tbody tr th {\n",
       "        vertical-align: top;\n",
       "    }\n",
       "</style>\n",
       "<table border=\"1\" class=\"dataframe\">\n",
       "  <thead>\n",
       "    <tr style=\"text-align: right;\">\n",
       "      <th></th>\n",
       "      <th>asin_1</th>\n",
       "      <th>asin_2</th>\n",
       "    </tr>\n",
       "    <tr>\n",
       "      <th>type</th>\n",
       "      <th></th>\n",
       "      <th></th>\n",
       "    </tr>\n",
       "  </thead>\n",
       "  <tbody>\n",
       "    <tr>\n",
       "      <th>HH</th>\n",
       "      <td>425</td>\n",
       "      <td>425</td>\n",
       "    </tr>\n",
       "    <tr>\n",
       "      <th>HL</th>\n",
       "      <td>161</td>\n",
       "      <td>161</td>\n",
       "    </tr>\n",
       "    <tr>\n",
       "      <th>HM</th>\n",
       "      <td>192</td>\n",
       "      <td>192</td>\n",
       "    </tr>\n",
       "    <tr>\n",
       "      <th>LL</th>\n",
       "      <td>23</td>\n",
       "      <td>23</td>\n",
       "    </tr>\n",
       "    <tr>\n",
       "      <th>ML</th>\n",
       "      <td>47</td>\n",
       "      <td>47</td>\n",
       "    </tr>\n",
       "    <tr>\n",
       "      <th>MM</th>\n",
       "      <td>29</td>\n",
       "      <td>29</td>\n",
       "    </tr>\n",
       "  </tbody>\n",
       "</table>\n",
       "</div>"
      ],
      "text/plain": [
       "      asin_1  asin_2\n",
       "type                \n",
       "HH       425     425\n",
       "HL       161     161\n",
       "HM       192     192\n",
       "LL        23      23\n",
       "ML        47      47\n",
       "MM        29      29"
      ]
     },
     "execution_count": 78,
     "metadata": {},
     "output_type": "execute_result"
    }
   ],
   "source": [
    "# aggregate LH and HL by swaping the value in the dataframe\n",
    "matching_df[matching_df.type == \"LH\"] = matching_df.query('type == \"LH\"').reindex(columns=['asin_2', 'asin_1', 'type'])\n",
    "matching_df.loc[matching_df.type == \"LH\", \"type\"] = \"HL\"\n",
    "\n",
    "# aggregate MH and HM by swaping the value in the dataframe\n",
    "matching_df[matching_df.type == \"MH\"] = matching_df.query('type == \"MH\"').reindex(columns=['asin_2', 'asin_1', 'type'])\n",
    "matching_df.loc[matching_df.type == \"MH\", \"type\"] = \"HM\"\n",
    "\n",
    "# aggregate LM and LM by swaping the value in the dataframe\n",
    "matching_df[matching_df.type == \"LM\"] = matching_df.query('type == \"LM\"').reindex(columns=['asin_2', 'asin_1', 'type'])\n",
    "matching_df.loc[matching_df.type == \"LM\", \"type\"] = \"ML\"\n",
    "\n",
    "matching_df.groupby('type').count()"
   ]
  },
  {
   "cell_type": "markdown",
   "metadata": {},
   "source": [
    "We observe that we have slightly less value than before in the final groups here but now the groups are more balanced. It also make more sense following the analysis on the overall review repartition. Furthermore we have now 3 groups with enough data to work on: HH, HL and HM."
   ]
  },
  {
   "cell_type": "markdown",
   "metadata": {},
   "source": [
    "### Herding Effect Analysis"
   ]
  },
  {
   "cell_type": "markdown",
   "metadata": {},
   "source": [
    "#### Introduction"
   ]
  },
  {
   "cell_type": "markdown",
   "metadata": {},
   "source": [
    "The herding effect is observed when rating a product or a customer is biased to follow other customers's previous rating on the same product. In this study of the Herding Effect on Amazon reviews dedicated to the book category, we are going to focus mostly on how the first review on 2 similar products can influence latter reviews."
   ]
  },
  {
   "cell_type": "markdown",
   "metadata": {},
   "source": [
    "#### A first example"
   ]
  },
  {
   "cell_type": "markdown",
   "metadata": {},
   "source": [
    "To better understand what is the herding effect and what it could mean on the review of a product, let's draw and example of such a case. After matching each pair of product together in the previous step, and assign some categories to them (\"HH\", \"HM\", \"HL\", \"MM\", \"ML\"). We are going to choose a matching pair with the highest possible difference in order to be able to clearly see the effect (i.e. in the \"HL\" category)."
   ]
  },
  {
   "cell_type": "code",
   "execution_count": 79,
   "metadata": {
    "scrolled": false
   },
   "outputs": [
    {
     "data": {
      "text/plain": [
       "43"
      ]
     },
     "execution_count": 79,
     "metadata": {},
     "output_type": "execute_result"
    }
   ],
   "source": [
    "highest_diff = matching_df.query('type == \"HL\"').apply(lambda x: find_highest_diff(x['asin_2'], books_df), axis=1)\n",
    "highest_diff.sum()"
   ]
  },
  {
   "cell_type": "markdown",
   "metadata": {},
   "source": [
    "We find that there is 43 cases in our dataset with 2 very similar products having in one case a first rating of 1 star against a first rating of 5 stars. We take as example one of such a case to demonstrate the Herding Effect."
   ]
  },
  {
   "cell_type": "code",
   "execution_count": 80,
   "metadata": {},
   "outputs": [
    {
     "name": "stdout",
     "output_type": "stream",
     "text": [
      "Book 1 - title: untie the strong woman blessed mothers immaculate love for the wild soul\n",
      "Book 2 - title: untie the strong woman blessed mothers immaculate love for the wild soul\n",
      "\n",
      "Book 1 - description: (Starred Review) In the first work by poet and psychoanalyst Estés (Women Who Run with Wolves) in a decade, this brilliant treatment is much larger than the sum of its parts. Estés's understanding of Our Holy Lady (\"she wears a thousand names\") is disturbing and enlightening; she presents a figure who reflects and elevates the essential and inherent qualities of humanity. Through sacred traditions, personal stories, prayers, and images, Estés makes visible the ancient and modern fiercely loving force of the Divine feminine-the Compassionate Mother. \"The ultimate Mother Who Gave Birth to Love... bends to tend to the needful soul,\" Estés writes. Like the traditional prayer Memorare, through the technology of mind and heart, this book calls readers to awaken with full consciousness \"to Her within us: acting like, thinking like, loving like the Holy Mother does.\"-Publishers Weekly, November 2011--This text refers to theHardcoveredition.\n",
      "Book 2 - description: (Starred Review) In the first work by poet and psychoanalyst Estés (Women Who Run with Wolves) in a decade, this brilliant treatment is much larger than the sum of its parts. Estés's understanding of Our Holy Lady (\"she wears a thousand names\") is disturbing and enlightening; she presents a figure who reflects and elevates the essential and inherent qualities of humanity. Through sacred traditions, personal stories, prayers, and images, Estés makes visible the ancient and modern fiercely loving force of the Divine feminine-the Compassionate Mother. \"The ultimate Mother Who Gave Birth to Love... bends to tend to the needful soul,\" Estés writes. Like the traditional prayer Memorare, through the technology of mind and heart, this book calls readers to awaken with full consciousness \"to Her within us: acting like, thinking like, loving like the Holy Mother does.\"-Publishers Weekly, November 2011\n",
      "\n",
      "Book 1 - authors: ['clarissa pinkola estes']\n",
      "Book 2 - authors: ['clarissa pinkola estes']\n",
      "\n",
      "Book 1 - brand: Brand: Sounds True Incorporated\n",
      "Book 2 - brand: Brand: Sounds True\n",
      "\n",
      "Book 1 - edition: abridged edition\n",
      "Book 2 - edition: None\n",
      "\n",
      "Book 1 - publisher: Sounds True Inc\n",
      "Book 2 - publisher: Sounds True Inc\n",
      "\n"
     ]
    }
   ],
   "source": [
    "# take one of the matches as example\n",
    "match = matching_df.query('type == \"HL\"')[highest_diff].iloc[37]\n",
    "asin_1 = match.asin_1\n",
    "asin_2 = match.asin_2\n",
    "\n",
    "# observe that they are indeed very similar books\n",
    "interesting_cols = ['title', 'description', 'authors', 'brand', 'edition', 'publisher']\n",
    "for col in interesting_cols:\n",
    "    print('Book 1 - {}: {}'.format(col, books_df.loc[asin_1][col]))\n",
    "    print('Book 2 - {}: {}'.format(col, books_df.loc[asin_2][col]))\n",
    "    print()"
   ]
  },
  {
   "cell_type": "markdown",
   "metadata": {},
   "source": [
    "As we can confirm above in both case we are talking about the same book: `untie the strong woman blessed mothers immaculate love for the wild soul` from Clarissa Pinkola Estes with the same title, same description, same brands... However in one case (book 1) the first review rating is 5 and in the other case the first review is 1. This is the ideal case (Book 2) to observe the herding effect and see the influence of the first review on the following's. \n",
    "\n",
    "And as we know a picture is worth a thousand words, in the next step, we are going to draw 2 graphs that seems to show the herding effect behaviour on this particular book example."
   ]
  },
  {
   "cell_type": "code",
   "execution_count": 81,
   "metadata": {
    "scrolled": false
   },
   "outputs": [
    {
     "data": {
      "image/png": "[encoded data removed]",
      "text/plain": [
       "<matplotlib.figure.Figure at 0x2543dd240>"
      ]
     },
     "metadata": {},
     "output_type": "display_data"
    }
   ],
   "source": [
    "data_1 = review_books_df.query('asin == @asin_1').sort_values('unixReviewTime')\n",
    "data_2 = review_books_df.query('asin == @asin_2').sort_values('unixReviewTime')\n",
    "plot_example_rat_and_cumrat_subplots(data_1, data_2)"
   ]
  },
  {
   "cell_type": "markdown",
   "metadata": {
    "collapsed": true
   },
   "source": [
    "On these graphs we observe two things. \n",
    "\n",
    "First in this particular example, the cumulative average ratings seems to converge toward a similar value in both books. This is an important observation because without that we could simply not tell wether the herding effect had influence on the reviews or not. Furthermore we could not observe how many reviews after a bad review the herding effect had still some kind of impact.\n",
    "\n",
    "The second observation is that on Book 2, following the first bad reviews, the 10 following reviews seems to be surprinsingly low when we compare with Book 1. This can be confirm on the cumulative average ratings with an average staying low for the 10 first reviews. We could interpret this as the sign of the herding effect that did last during approximately 10 reviews.\n",
    "\n",
    "This example was very convenient as it had a huge difference between the first review of the two very similar books and a cumulative average rating converging toward a similar value. It helped us understand better what is the herding effect and what kind of influence in could have on the following reviews. Now from this nic example, let's try to generalize our theory and see if we can observe the herding effect on a larger number of data."
   ]
  },
  {
   "cell_type": "markdown",
   "metadata": {},
   "source": [
    "#### Generalization "
   ]
  },
  {
   "cell_type": "markdown",
   "metadata": {},
   "source": [
    "We are going to study here three groups independtly HH, HM and HL. This is the three groups previously defined in which we had enough data to draw a generalization on the herding effect. To measure the herding effect on our dataset, we are going to compare the i-th rating between similar products in each group respectively. If we observe a positive difference between these values, it would supports the hypothesis of a causal link between the first rating and the following ones. We should also be able to see until what index this effect can be observed.\n",
    "\n",
    "We use HH as a testing group in which we should not have any influence from the herding effect, HM should have a moderated impact and finally the most interesting category should be HL in which we should really see the impact of the herding effect."
   ]
  },
  {
   "cell_type": "code",
   "execution_count": 82,
   "metadata": {},
   "outputs": [
    {
     "data": {
      "image/png": "[encoded data removed]",
      "text/plain": [
       "<matplotlib.figure.Figure at 0x254815940>"
      ]
     },
     "metadata": {},
     "output_type": "display_data"
    }
   ],
   "source": [
    "# find for each books in each pair of type HL the 5 first reviews\n",
    "result = matching_df.query('type == \"HL\"').apply(lambda x: find_n_reviews(x, 5, review_books_df), 1)\n",
    "\n",
    "# create 2 df based on the result of our functions with the 5 reviews as columns\n",
    "H_in_HL_df = pd.DataFrame([x[0] for x in result])\n",
    "L_in_HL_df = pd.DataFrame([x[1] for x in result])\n",
    "\n",
    "# compute the interesting stats for each reviews (mean and 95% confidence interval)\n",
    "H_in_HL_stats = compute_stats_on_reviews_df(H_in_HL_df)\n",
    "L_in_HL_stats = compute_stats_on_reviews_df(L_in_HL_df)\n",
    "\n",
    "# plot the result in a nice errorbar plot\n",
    "plot_stats_bar_plot('Average Rating following H/L first rating',\n",
    "                    H_in_HL_stats, light_green, 'H in HL', L_in_HL_stats, light_red, 'L in HL')"
   ]
  },
  {
   "cell_type": "markdown",
   "metadata": {},
   "source": [
    "As we can see just above, the results are mitigate we can observe that the 2 reviews after a bad first reviews tends to be in average lower than when the first review is good. However after that it seems that everything come back to normal and the herding effect has no longer impact. Finally the reviews tends to converge to a same average value which is good given the fact that they are supposed to be similar books.\n",
    "\n",
    "To highlight the herding effect even more let's now consider only the 43 cases where the difference is maximum (5 star rating against 1 star rating) discussed previously and try to observe the effect now."
   ]
  },
  {
   "cell_type": "code",
   "execution_count": 83,
   "metadata": {},
   "outputs": [
    {
     "data": {
      "image/png": "[encoded data removed]",
      "text/plain": [
       "<matplotlib.figure.Figure at 0x2547edf98>"
      ]
     },
     "metadata": {},
     "output_type": "display_data"
    }
   ],
   "source": [
    "# herding effect on 1-5star\n",
    "result = matching_df.query('type == \"HL\"')[highest_diff].apply(lambda x: find_n_reviews(x, 5, review_books_df), 1)\n",
    "\n",
    "# create 2 df based on the result of our functions with the 5 reviews as columns\n",
    "H_in_HL_df = pd.DataFrame([x[0] for x in result])\n",
    "L_in_HL_df = pd.DataFrame([x[1] for x in result])\n",
    "\n",
    "# compute the interesting stats for each reviews\n",
    "H_in_HL_stats = compute_stats_on_reviews_df(H_in_HL_df)\n",
    "L_in_HL_stats = compute_stats_on_reviews_df(L_in_HL_df)\n",
    "\n",
    "# plot the result in a nice plot\n",
    "plot_stats_bar_plot('Average Rating following H/L first rating (only 5 and 1 star)',\n",
    "                    H_in_HL_stats, light_green, 'H in HL', L_in_HL_stats, light_red, 'L in HL')"
   ]
  },
  {
   "cell_type": "markdown",
   "metadata": {},
   "source": [
    "We observe a very similar result with much less confidence as there is less value. \n",
    "\n",
    "To confirm our result and hypothesis we can now check the difference between what we have just above and what we get performing the same pipeline on the HH and HM group. In the HH case, we expect to have no herding effect at all, and converging results right from the beginning. Regarding the HM case, we would expect to see the same effect as above but this time lowered."
   ]
  },
  {
   "cell_type": "code",
   "execution_count": 84,
   "metadata": {},
   "outputs": [
    {
     "data": {
      "image/png": "[encoded data removed]",
      "text/plain": [
       "<matplotlib.figure.Figure at 0x254d88358>"
      ]
     },
     "metadata": {},
     "output_type": "display_data"
    }
   ],
   "source": [
    "# herding effect on HH\n",
    "result = matching_df.query('type == \"HH\"').apply(lambda x: find_n_reviews(x, 5, review_books_df), 1)\n",
    "\n",
    "# create 2 df based on the result of our functions with the 5 reviews as columns\n",
    "H_in_HH_df = pd.DataFrame([x[0] for x in result])\n",
    "Hstar_in_HH_df = pd.DataFrame([x[1] for x in result])\n",
    "\n",
    "# compute the interesting stats for each reviews\n",
    "H_in_HH_stats = compute_stats_on_reviews_df(H_in_HH_df)\n",
    "Hstar_in_HH_stats = compute_stats_on_reviews_df(Hstar_in_HH_df)\n",
    "\n",
    "plot_stats_bar_plot('Average Rating following H/H first rating',\n",
    "                    H_in_HH_stats, light_green, 'H in HH', Hstar_in_HH_stats, strong_green, 'H* in HH')"
   ]
  },
  {
   "cell_type": "markdown",
   "metadata": {},
   "source": [
    "As expected, on the HH group we observe to converging reviews over the time with very small disparity between the different books both starting with a high review."
   ]
  },
  {
   "cell_type": "code",
   "execution_count": 85,
   "metadata": {},
   "outputs": [
    {
     "data": {
      "image/png": "[encoded data removed]",
      "text/plain": [
       "<matplotlib.figure.Figure at 0x2550dcef0>"
      ]
     },
     "metadata": {},
     "output_type": "display_data"
    }
   ],
   "source": [
    "# herding effect on HM\n",
    "result = matching_df.query('type == \"HM\"').apply(lambda x: find_n_reviews(x, 5, review_books_df), 1)\n",
    "\n",
    "# create 2 5reviews df based on the result of our functions\n",
    "H_in_HM_df = pd.DataFrame([x[0] for x in result])\n",
    "M_in_HM_df = pd.DataFrame([x[1] for x in result])\n",
    "\n",
    "# compute the interesting stats for each reviews\n",
    "H_in_HM_stats = compute_stats_on_reviews_df(H_in_HM_df)\n",
    "M_in_HM_stats = compute_stats_on_reviews_df(M_in_HM_df)\n",
    "\n",
    "plot_stats_bar_plot('Average Rating following H/M first rating',\n",
    "                    H_in_HM_stats, light_green, 'H in HM', M_in_HM_stats, orange, 'M in HM')"
   ]
  },
  {
   "cell_type": "markdown",
   "metadata": {},
   "source": [
    "Here again on the HM group, the rating converge and the difference is much lower than in the HL case. Even though the rating of the medium review tends to stay slitghly below the high rating they are both very close and we can't conclude that the herding effect had a huge impact here."
   ]
  },
  {
   "cell_type": "markdown",
   "metadata": {},
   "source": [
    "To conclude on this part it seems that our hypothesis of herding effect is validated in our HL group and slightly in our HM group. We confirmed our hypothesis by observing also the HH group. We can tell that the first review as an influence on the following reviews only if the difference between the first rating is big enough (only in the HL case and not in the HM one). We also observed that after only a few review (2 to 3 reviews) the herding effect seems to fade off and both rating converge toward a similar value. We are now going to check that hypothesis in the next part focused on the long term effect of herding."
   ]
  },
  {
   "cell_type": "markdown",
   "metadata": {},
   "source": [
    "#### Long term effect of herding"
   ]
  },
  {
   "cell_type": "markdown",
   "metadata": {},
   "source": [
    "To assess the long term effect of herding, we will look at the pair of books with more than 10 reviews and compute the mean of all the reviews after that as well as it's 95% confidence interval. Then we will will compare our result for the different group we have at hand (i.e. HH, HM and HL)"
   ]
  },
  {
   "cell_type": "code",
   "execution_count": 86,
   "metadata": {},
   "outputs": [
    {
     "data": {
      "image/png": "[encoded data removed]",
      "text/plain": [
       "<matplotlib.figure.Figure at 0x2550dc7f0>"
      ]
     },
     "metadata": {},
     "output_type": "display_data"
    }
   ],
   "source": [
    "# find the average last reviews for each HL pairs\n",
    "result = matching_df.query('type == \"HL\"').apply(lambda x: mean_more_n_reviews(x, 10, review_books_df), 1)\n",
    "H_in_HL_df = pd.DataFrame([x[0] for x in result]).dropna().reset_index().drop(['index'], axis=1)\n",
    "L_in_HL_df = pd.DataFrame([x[1] for x in result]).dropna().reset_index().drop(['index'], axis=1)\n",
    "\n",
    "# find the average last reviews for each HH pairs\n",
    "result = matching_df.query('type == \"HH\"').apply(lambda x: mean_more_n_reviews(x, 10, review_books_df), 1)\n",
    "H_in_HH_df = pd.DataFrame([x[0] for x in result]).dropna().reset_index().drop(['index'], axis=1)\n",
    "\n",
    "# find the average last reviews for each HM pairs\n",
    "result = matching_df.query('type == \"HM\"').apply(lambda x: mean_more_n_reviews(x, 10, review_books_df), 1)\n",
    "H_in_HM_df = pd.DataFrame([x[0] for x in result]).dropna().reset_index().drop(['index'], axis=1)\n",
    "M_in_HM_df = pd.DataFrame([x[1] for x in result]).dropna().reset_index().drop(['index'], axis=1)\n",
    "\n",
    "\n",
    "# compute mean and error for each HL books\n",
    "H_in_HL_mean = np.mean(H_in_HL_df['mean'])\n",
    "H_in_HL_error = error_from_interval(\n",
    "    st.t.interval(0.95, len(H_in_HL_df)-1, loc=H_in_HL_mean, scale=st.sem(H_in_HL_df['mean'])))\n",
    "\n",
    "L_in_HL_mean = np.mean(L_in_HL_df['mean'])\n",
    "L_in_HL_error = error_from_interval(\n",
    "    st.t.interval(0.95, len(L_in_HL_df)-1, loc=L_in_HL_mean, scale=st.sem(L_in_HL_df['mean'])))\n",
    "\n",
    "# compute mean and error for each HH books\n",
    "H_in_HH_mean = np.mean(H_in_HH_df['mean'])\n",
    "H_in_HH_error = error_from_interval(\n",
    "    st.t.interval(0.95, len(H_in_HH_df)-1, loc=H_in_HH_mean, scale=st.sem(H_in_HH_df['mean'])))\n",
    "\n",
    "# compute mean and error for each HM books\n",
    "H_in_HM_mean = np.mean(H_in_HM_df['mean'])\n",
    "H_in_HM_error = error_from_interval(\n",
    "    st.t.interval(0.95, len(H_in_HM_df)-1, loc=H_in_HM_mean, scale=st.sem(H_in_HM_df['mean'])))\n",
    "\n",
    "M_in_HM_mean = np.mean(M_in_HM_df['mean'])\n",
    "M_in_HM_error = error_from_interval(\n",
    "    st.t.interval(0.95, len(M_in_HM_df)-1, loc=M_in_HM_mean, scale=st.sem(M_in_HM_df['mean'])))\n",
    "\n",
    "plot_lastreviews_means_and_errors(H_in_HL_mean, H_in_HL_error, L_in_HL_mean, L_in_HL_error, \n",
    "                                  H_in_HH_mean, H_in_HH_error, H_in_HM_mean, H_in_HM_error,\n",
    "                                  M_in_HM_mean, M_in_HM_error)"
   ]
  },
  {
   "cell_type": "markdown",
   "metadata": {},
   "source": [
    "Despite the fact that we have a few value to validate our hypothesis (only 116 pair of books with more than 10 reviews in HL and 111 in HM), we can observe the behavior that we were expecting. Indeed, H in HL is slightly above L in HL even on the long term rating. We observe a very similar result for H in HM and M in HM in a smaller extent once again.\n",
    "\n",
    "To conclude even if on the previous analysis of the first 5 ratings it seemed that the rating was converging after a few reviews. We observe by deeply analysing the 10-th and above reviews that a first negative review still impact on the long term rating of the product."
   ]
  },
  {
   "cell_type": "markdown",
   "metadata": {},
   "source": [
    "#### Limitation of this analysis"
   ]
  },
  {
   "cell_type": "markdown",
   "metadata": {},
   "source": [
    "Even though we had good results in favor of our hypothesis on herding effect on the books review on Amazon for the first few reviews following, we are aware that our analysis has some limitating factors. For example, when we matched two very similar books together, we considered that they completly identical. However some external factors may bias our analysis such as the edition, the price of the book and the type of cover as well as may other considerations that could affect the rating of the review such as the date of the review and publication of the product...\n",
    "\n",
    "We also realised that the set of data that we have at hand may be too small to draw strong and meaningfull conclusion and we are looking at increasing the number of data for the next milestone."
   ]
  },
  {
   "cell_type": "markdown",
   "metadata": {},
   "source": [
    "# Plan for continuation\n",
    "Here we discuss what we plan on doing before **milestone 3**. \n",
    "* In order to generalise our ressearch on the 5-core dataset we think that it would be good to move to the full dataset of books such that we can have enough reviews to see the long term effect of the initial reviews.\n",
    "* This should allow us to display relevant example of the herding effect on short and long term reviews. \n",
    "* Then we would like if we have enough time (which is very unlikely) to go to a second category to do the same kind of analysis to see how this Herding effect changes over different categories of data (we thought of Movies to be another good type of product to work with as they now are released in multiple formats : Blu Ray, digital copy, DVD, etc.)\n",
    "* Once this is done we should finally start to be able to elaborate a plan on our visualization. The goal of the project is really to emphasize that **customers should be careful when they buy a product based only on its amazon reviews** therefore we will try to first sensibilise the user to how influenced he/she can be by existing reviews. And then show that those reviews are not so reliable.\n",
    "* The challenge for milestone 3 (and 4) is to find a good way to display our results. This is mainly due to the fact that finding similar products is very long and therefore having a lot of data to be able to show data in an interactive manner could be challenging. This is why we are mainly trying to obtain more data."
   ]
  },
  {
   "cell_type": "markdown",
   "metadata": {
    "collapsed": true
   },
   "source": [
    "# Moving to the full dataset"
   ]
  },
  {
   "cell_type": "code",
   "execution_count": 87,
   "metadata": {},
   "outputs": [
    {
     "name": "stdout",
     "output_type": "stream",
     "text": [
      "In the full dataset we have 2370585 books and  22507155 reviews\n"
     ]
    }
   ],
   "source": [
    "print(\"In the full dataset we have {} books and  {} reviews\".format(meta_books.shape[0],review_books.shape[0]))"
   ]
  },
  {
   "cell_type": "markdown",
   "metadata": {},
   "source": [
    "We have in previous analysis discarded reviewers with less than 5 reviews and books with less than 5 reviews. While this latter does make sense for the Herding Effect analysis, the restriction on reviewers doesn't make much sense. We will therefore still keep the restriction on books of having at least 5 reviews."
   ]
  },
  {
   "cell_type": "code",
   "execution_count": 88,
   "metadata": {},
   "outputs": [
    {
     "data": {
      "text/html": [
       "<div>\n",
       "<style>\n",
       "    .dataframe thead tr:only-child th {\n",
       "        text-align: right;\n",
       "    }\n",
       "\n",
       "    .dataframe thead th {\n",
       "        text-align: left;\n",
       "    }\n",
       "\n",
       "    .dataframe tbody tr th {\n",
       "        vertical-align: top;\n",
       "    }\n",
       "</style>\n",
       "<table border=\"1\" class=\"dataframe\">\n",
       "  <thead>\n",
       "    <tr style=\"text-align: right;\">\n",
       "      <th></th>\n",
       "      <th>asin</th>\n",
       "      <th>overall</th>\n",
       "      <th>unixReviewTime</th>\n",
       "    </tr>\n",
       "  </thead>\n",
       "  <tbody>\n",
       "    <tr>\n",
       "      <th>0</th>\n",
       "      <td>0000000116</td>\n",
       "      <td>4.0</td>\n",
       "      <td>2002-04-27</td>\n",
       "    </tr>\n",
       "    <tr>\n",
       "      <th>1</th>\n",
       "      <td>0000000116</td>\n",
       "      <td>1.0</td>\n",
       "      <td>2014-03-24</td>\n",
       "    </tr>\n",
       "    <tr>\n",
       "      <th>2</th>\n",
       "      <td>0000000868</td>\n",
       "      <td>4.0</td>\n",
       "      <td>2002-09-11</td>\n",
       "    </tr>\n",
       "    <tr>\n",
       "      <th>3</th>\n",
       "      <td>0000013714</td>\n",
       "      <td>4.0</td>\n",
       "      <td>2013-10-31</td>\n",
       "    </tr>\n",
       "    <tr>\n",
       "      <th>4</th>\n",
       "      <td>0000013714</td>\n",
       "      <td>5.0</td>\n",
       "      <td>2013-07-27</td>\n",
       "    </tr>\n",
       "  </tbody>\n",
       "</table>\n",
       "</div>"
      ],
      "text/plain": [
       "         asin  overall unixReviewTime\n",
       "0  0000000116      4.0     2002-04-27\n",
       "1  0000000116      1.0     2014-03-24\n",
       "2  0000000868      4.0     2002-09-11\n",
       "3  0000013714      4.0     2013-10-31\n",
       "4  0000013714      5.0     2013-07-27"
      ]
     },
     "execution_count": 88,
     "metadata": {},
     "output_type": "execute_result"
    }
   ],
   "source": [
    "review_books.head()"
   ]
  },
  {
   "cell_type": "code",
   "execution_count": 89,
   "metadata": {},
   "outputs": [
    {
     "name": "stdout",
     "output_type": "stream",
     "text": [
      "We found 625682 books with enough reviews.\n"
     ]
    }
   ],
   "source": [
    "books_reviews_count = review_books.groupby('asin').count().overall\n",
    "asin_enough_reviews = list(books_reviews_count[books_reviews_count > 5].index)\n",
    "print(\"We found {} books with enough reviews.\".format(len(asin_enough_reviews)))"
   ]
  },
  {
   "cell_type": "markdown",
   "metadata": {},
   "source": [
    "Now we have all the books we need and we will filter from the full dataset only the books of interest."
   ]
  },
  {
   "cell_type": "code",
   "execution_count": 90,
   "metadata": {},
   "outputs": [
    {
     "name": "stdout",
     "output_type": "stream",
     "text": [
      "Now the books dataset is composed of 625682 books\n"
     ]
    }
   ],
   "source": [
    "meta_books_reduced = meta_books[meta_books['asin'].isin(asin_enough_reviews)]\n",
    "print(\"Now the books dataset is composed of {} books\".format(meta_books_reduced.shape[0]))"
   ]
  },
  {
   "cell_type": "markdown",
   "metadata": {},
   "source": [
    "## Detecting similar books"
   ]
  },
  {
   "cell_type": "markdown",
   "metadata": {},
   "source": [
    "To do our analysis we will serialize books to a new folder to separate it from the 5-core analysis."
   ]
  },
  {
   "cell_type": "code",
   "execution_count": 91,
   "metadata": {},
   "outputs": [
    {
     "data": {
      "text/html": [
       "<div>\n",
       "<style>\n",
       "    .dataframe thead tr:only-child th {\n",
       "        text-align: right;\n",
       "    }\n",
       "\n",
       "    .dataframe thead th {\n",
       "        text-align: left;\n",
       "    }\n",
       "\n",
       "    .dataframe tbody tr th {\n",
       "        vertical-align: top;\n",
       "    }\n",
       "</style>\n",
       "<table border=\"1\" class=\"dataframe\">\n",
       "  <thead>\n",
       "    <tr style=\"text-align: right;\">\n",
       "      <th></th>\n",
       "      <th>asin</th>\n",
       "      <th>title</th>\n",
       "      <th>description</th>\n",
       "      <th>imUrl</th>\n",
       "    </tr>\n",
       "  </thead>\n",
       "  <tbody>\n",
       "    <tr>\n",
       "      <th>10</th>\n",
       "      <td>0000913154</td>\n",
       "      <td>The Way Things Work: An Illustrated Encycloped...</td>\n",
       "      <td>NaN</td>\n",
       "      <td>http://ecx.images-amazon.com/images/I/7113akhD...</td>\n",
       "    </tr>\n",
       "    <tr>\n",
       "      <th>13</th>\n",
       "      <td>0001055178</td>\n",
       "      <td>Master Georgie</td>\n",
       "      <td>Beryl Bainbridge seems drawn to disaster. Firs...</td>\n",
       "      <td>http://ecx.images-amazon.com/images/I/51ZSC6TK...</td>\n",
       "    </tr>\n",
       "    <tr>\n",
       "      <th>25</th>\n",
       "      <td>0001018043</td>\n",
       "      <td>The Enchanted Horse</td>\n",
       "      <td>Grade 3-6-In this fast-paced fantasy, a neglec...</td>\n",
       "      <td>NaN</td>\n",
       "    </tr>\n",
       "    <tr>\n",
       "      <th>34</th>\n",
       "      <td>0001473727</td>\n",
       "      <td>The Greatest Book on \"Dispensational Truth\" in...</td>\n",
       "      <td>NaN</td>\n",
       "      <td>http://ecx.images-amazon.com/images/I/512M299K...</td>\n",
       "    </tr>\n",
       "    <tr>\n",
       "      <th>37</th>\n",
       "      <td>0000230022</td>\n",
       "      <td>The Simple Truths of Service: Inspired by John...</td>\n",
       "      <td>NaN</td>\n",
       "      <td>http://ecx.images-amazon.com/images/I/218uMkP0...</td>\n",
       "    </tr>\n",
       "  </tbody>\n",
       "</table>\n",
       "</div>"
      ],
      "text/plain": [
       "          asin                                              title  \\\n",
       "10  0000913154  The Way Things Work: An Illustrated Encycloped...   \n",
       "13  0001055178                                     Master Georgie   \n",
       "25  0001018043                                The Enchanted Horse   \n",
       "34  0001473727  The Greatest Book on \"Dispensational Truth\" in...   \n",
       "37  0000230022  The Simple Truths of Service: Inspired by John...   \n",
       "\n",
       "                                          description  \\\n",
       "10                                                NaN   \n",
       "13  Beryl Bainbridge seems drawn to disaster. Firs...   \n",
       "25  Grade 3-6-In this fast-paced fantasy, a neglec...   \n",
       "34                                                NaN   \n",
       "37                                                NaN   \n",
       "\n",
       "                                                imUrl  \n",
       "10  http://ecx.images-amazon.com/images/I/7113akhD...  \n",
       "13  http://ecx.images-amazon.com/images/I/51ZSC6TK...  \n",
       "25                                                NaN  \n",
       "34  http://ecx.images-amazon.com/images/I/512M299K...  \n",
       "37  http://ecx.images-amazon.com/images/I/218uMkP0...  "
      ]
     },
     "execution_count": 91,
     "metadata": {},
     "output_type": "execute_result"
    }
   ],
   "source": [
    "DUMP_FOLDER_FULL = DATA_FOLDER + 'dump_full/'\n",
    "\n",
    "#We keep only the books that we can analyse for similarity therefore we get rid of titles\n",
    "meta_books_reduced  = meta_books_reduced [meta_books_reduced ['title'].notnull()]\n",
    "meta_books_reduced = meta_books_reduced[['asin','title','description','imUrl']]\n",
    "meta_books_reduced.head()"
   ]
  },
  {
   "cell_type": "code",
   "execution_count": 92,
   "metadata": {},
   "outputs": [
    {
     "name": "stdout",
     "output_type": "stream",
     "text": [
      "Retrieving from : ../../Project-Data/dump_full/candidate_dup_title_2_100_5_4\n",
      "Found 15449 bins of possible duplicates.\n",
      "With 36066 different books\n"
     ]
    }
   ],
   "source": [
    "dump_path = DUMP_FOLDER_FULL\n",
    "get_candidate_full = candidate_duplicates(meta_books_reduced,dump_path,['title'])"
   ]
  },
  {
   "cell_type": "markdown",
   "metadata": {},
   "source": [
    "## Enriching data using Amazon product advertising API"
   ]
  },
  {
   "cell_type": "markdown",
   "metadata": {},
   "source": [
    "Unfortunately, Amazon API has strict limitation on the number of request per account. It seems like our initial method of waiting 1 second was not enough to avoid request throttling. Therefore we decided now to wait a random amount of time (exponentially distributed with parameter 0.1). Also we didn't realize at first that we could retrieve up to 10 items at a time, this allow us to reduce by a factor of 10 the running time. "
   ]
  },
  {
   "cell_type": "code",
   "execution_count": 93,
   "metadata": {},
   "outputs": [
    {
     "data": {
      "text/html": [
       "<div>\n",
       "<style>\n",
       "    .dataframe thead tr:only-child th {\n",
       "        text-align: right;\n",
       "    }\n",
       "\n",
       "    .dataframe thead th {\n",
       "        text-align: left;\n",
       "    }\n",
       "\n",
       "    .dataframe tbody tr th {\n",
       "        vertical-align: top;\n",
       "    }\n",
       "</style>\n",
       "<table border=\"1\" class=\"dataframe\">\n",
       "  <thead>\n",
       "    <tr style=\"text-align: right;\">\n",
       "      <th></th>\n",
       "      <th>asin</th>\n",
       "      <th>title</th>\n",
       "      <th>description</th>\n",
       "      <th>imUrl</th>\n",
       "    </tr>\n",
       "  </thead>\n",
       "  <tbody>\n",
       "    <tr>\n",
       "      <th>10</th>\n",
       "      <td>0000913154</td>\n",
       "      <td>The Way Things Work: An Illustrated Encycloped...</td>\n",
       "      <td>NaN</td>\n",
       "      <td>http://ecx.images-amazon.com/images/I/7113akhD...</td>\n",
       "    </tr>\n",
       "    <tr>\n",
       "      <th>13</th>\n",
       "      <td>0001055178</td>\n",
       "      <td>Master Georgie</td>\n",
       "      <td>Beryl Bainbridge seems drawn to disaster. Firs...</td>\n",
       "      <td>http://ecx.images-amazon.com/images/I/51ZSC6TK...</td>\n",
       "    </tr>\n",
       "    <tr>\n",
       "      <th>25</th>\n",
       "      <td>0001018043</td>\n",
       "      <td>The Enchanted Horse</td>\n",
       "      <td>Grade 3-6-In this fast-paced fantasy, a neglec...</td>\n",
       "      <td>NaN</td>\n",
       "    </tr>\n",
       "    <tr>\n",
       "      <th>34</th>\n",
       "      <td>0001473727</td>\n",
       "      <td>The Greatest Book on \"Dispensational Truth\" in...</td>\n",
       "      <td>NaN</td>\n",
       "      <td>http://ecx.images-amazon.com/images/I/512M299K...</td>\n",
       "    </tr>\n",
       "    <tr>\n",
       "      <th>37</th>\n",
       "      <td>0000230022</td>\n",
       "      <td>The Simple Truths of Service: Inspired by John...</td>\n",
       "      <td>NaN</td>\n",
       "      <td>http://ecx.images-amazon.com/images/I/218uMkP0...</td>\n",
       "    </tr>\n",
       "  </tbody>\n",
       "</table>\n",
       "</div>"
      ],
      "text/plain": [
       "          asin                                              title  \\\n",
       "10  0000913154  The Way Things Work: An Illustrated Encycloped...   \n",
       "13  0001055178                                     Master Georgie   \n",
       "25  0001018043                                The Enchanted Horse   \n",
       "34  0001473727  The Greatest Book on \"Dispensational Truth\" in...   \n",
       "37  0000230022  The Simple Truths of Service: Inspired by John...   \n",
       "\n",
       "                                          description  \\\n",
       "10                                                NaN   \n",
       "13  Beryl Bainbridge seems drawn to disaster. Firs...   \n",
       "25  Grade 3-6-In this fast-paced fantasy, a neglec...   \n",
       "34                                                NaN   \n",
       "37                                                NaN   \n",
       "\n",
       "                                                imUrl  \n",
       "10  http://ecx.images-amazon.com/images/I/7113akhD...  \n",
       "13  http://ecx.images-amazon.com/images/I/51ZSC6TK...  \n",
       "25                                                NaN  \n",
       "34  http://ecx.images-amazon.com/images/I/512M299K...  \n",
       "37  http://ecx.images-amazon.com/images/I/218uMkP0...  "
      ]
     },
     "execution_count": 93,
     "metadata": {},
     "output_type": "execute_result"
    }
   ],
   "source": [
    "meta_books_reduced.head()"
   ]
  },
  {
   "cell_type": "code",
   "execution_count": 94,
   "metadata": {
    "scrolled": false
   },
   "outputs": [
    {
     "name": "stdout",
     "output_type": "stream",
     "text": [
      "Retrieving from : \n",
      "\t../../Project-Data/dump_full/book_only_candidates_with_details\n",
      "\t../../Project-Data/dump_full/api_failed \n",
      "It took 00:00:00.149 to get the data.\n"
     ]
    }
   ],
   "source": [
    "amazon_access_file_path = DUMP_FOLDER + \"amazon_access_epfl_new\"\n",
    "book_only_candidates,failed = fill_in_with_details(meta_books_reduced,amazon_access_file_path,get_candidate_full,DUMP_FOLDER_FULL)"
   ]
  },
  {
   "cell_type": "code",
   "execution_count": 95,
   "metadata": {},
   "outputs": [
    {
     "data": {
      "text/html": [
       "<div>\n",
       "<style>\n",
       "    .dataframe thead tr:only-child th {\n",
       "        text-align: right;\n",
       "    }\n",
       "\n",
       "    .dataframe thead th {\n",
       "        text-align: left;\n",
       "    }\n",
       "\n",
       "    .dataframe tbody tr th {\n",
       "        vertical-align: top;\n",
       "    }\n",
       "</style>\n",
       "<table border=\"1\" class=\"dataframe\">\n",
       "  <thead>\n",
       "    <tr style=\"text-align: right;\">\n",
       "      <th></th>\n",
       "      <th>asin</th>\n",
       "      <th>title</th>\n",
       "      <th>description</th>\n",
       "      <th>imUrl</th>\n",
       "      <th>authors</th>\n",
       "      <th>publisher</th>\n",
       "      <th>ISBN</th>\n",
       "      <th>sales_rank_updated</th>\n",
       "      <th>binding</th>\n",
       "      <th>edition</th>\n",
       "      <th>release_date</th>\n",
       "    </tr>\n",
       "  </thead>\n",
       "  <tbody>\n",
       "    <tr>\n",
       "      <th>0</th>\n",
       "      <td>0001473727</td>\n",
       "      <td>The Greatest Book on \"Dispensational Truth\" in...</td>\n",
       "      <td>NaN</td>\n",
       "      <td>http://ecx.images-amazon.com/images/I/512M299K...</td>\n",
       "      <td>[C. Larkin]</td>\n",
       "      <td>Titles distributed by Christian Art Distributors</td>\n",
       "      <td>0001473727</td>\n",
       "      <td>837246</td>\n",
       "      <td>Relié</td>\n",
       "      <td>None</td>\n",
       "      <td>None</td>\n",
       "    </tr>\n",
       "    <tr>\n",
       "      <th>1</th>\n",
       "      <td>0001472933</td>\n",
       "      <td>The Book of Daniel</td>\n",
       "      <td>NaN</td>\n",
       "      <td>http://ecx.images-amazon.com/images/I/414KH1FP...</td>\n",
       "      <td>[]</td>\n",
       "      <td>Rev Clarence Larkin Estate</td>\n",
       "      <td>0001472933</td>\n",
       "      <td>1569511</td>\n",
       "      <td>Relié</td>\n",
       "      <td>None</td>\n",
       "      <td>None</td>\n",
       "    </tr>\n",
       "    <tr>\n",
       "      <th>2</th>\n",
       "      <td>000100039X</td>\n",
       "      <td>The Prophet</td>\n",
       "      <td>In a distant, timeless place, a mysterious pro...</td>\n",
       "      <td>http://ecx.images-amazon.com/images/I/81ZKLPiv...</td>\n",
       "      <td>[Tester Gregg]</td>\n",
       "      <td>Rupa &amp; Co</td>\n",
       "      <td>000100039X</td>\n",
       "      <td>1276303</td>\n",
       "      <td>Broché</td>\n",
       "      <td>None</td>\n",
       "      <td>None</td>\n",
       "    </tr>\n",
       "    <tr>\n",
       "      <th>3</th>\n",
       "      <td>0001473905</td>\n",
       "      <td>Rightly Dividing the Word</td>\n",
       "      <td>--This text refers to thePaperbackedition.</td>\n",
       "      <td>http://ecx.images-amazon.com/images/I/61KPC59B...</td>\n",
       "      <td>[]</td>\n",
       "      <td>Rev Clarence Larkin Estate</td>\n",
       "      <td>0001473905</td>\n",
       "      <td>None</td>\n",
       "      <td>Relié</td>\n",
       "      <td>None</td>\n",
       "      <td>None</td>\n",
       "    </tr>\n",
       "    <tr>\n",
       "      <th>4</th>\n",
       "      <td>0001473123</td>\n",
       "      <td>The Book of Revelation</td>\n",
       "      <td>American Baptist pastor, Bible teacher, and wr...</td>\n",
       "      <td>http://ecx.images-amazon.com/images/I/317G8R2T...</td>\n",
       "      <td>[Clarence Larkin]</td>\n",
       "      <td>Rev Clarence Larkin Estate</td>\n",
       "      <td>0001473123</td>\n",
       "      <td>2442494</td>\n",
       "      <td>Relié</td>\n",
       "      <td>None</td>\n",
       "      <td>None</td>\n",
       "    </tr>\n",
       "  </tbody>\n",
       "</table>\n",
       "</div>"
      ],
      "text/plain": [
       "         asin                                              title  \\\n",
       "0  0001473727  The Greatest Book on \"Dispensational Truth\" in...   \n",
       "1  0001472933                                 The Book of Daniel   \n",
       "2  000100039X                                        The Prophet   \n",
       "3  0001473905                          Rightly Dividing the Word   \n",
       "4  0001473123                             The Book of Revelation   \n",
       "\n",
       "                                         description  \\\n",
       "0                                                NaN   \n",
       "1                                                NaN   \n",
       "2  In a distant, timeless place, a mysterious pro...   \n",
       "3         --This text refers to thePaperbackedition.   \n",
       "4  American Baptist pastor, Bible teacher, and wr...   \n",
       "\n",
       "                                               imUrl            authors  \\\n",
       "0  http://ecx.images-amazon.com/images/I/512M299K...        [C. Larkin]   \n",
       "1  http://ecx.images-amazon.com/images/I/414KH1FP...                 []   \n",
       "2  http://ecx.images-amazon.com/images/I/81ZKLPiv...     [Tester Gregg]   \n",
       "3  http://ecx.images-amazon.com/images/I/61KPC59B...                 []   \n",
       "4  http://ecx.images-amazon.com/images/I/317G8R2T...  [Clarence Larkin]   \n",
       "\n",
       "                                          publisher        ISBN  \\\n",
       "0  Titles distributed by Christian Art Distributors  0001473727   \n",
       "1                        Rev Clarence Larkin Estate  0001472933   \n",
       "2                                         Rupa & Co  000100039X   \n",
       "3                        Rev Clarence Larkin Estate  0001473905   \n",
       "4                        Rev Clarence Larkin Estate  0001473123   \n",
       "\n",
       "  sales_rank_updated binding edition release_date  \n",
       "0             837246   Relié    None         None  \n",
       "1            1569511   Relié    None         None  \n",
       "2            1276303  Broché    None         None  \n",
       "3               None   Relié    None         None  \n",
       "4            2442494   Relié    None         None  "
      ]
     },
     "execution_count": 95,
     "metadata": {},
     "output_type": "execute_result"
    }
   ],
   "source": [
    "book_only_candidates.head()"
   ]
  },
  {
   "cell_type": "markdown",
   "metadata": {},
   "source": [
    "## Using authors to refine candidate similars"
   ]
  },
  {
   "cell_type": "markdown",
   "metadata": {
    "collapsed": true
   },
   "source": [
    "Because the matching will now use authors of each books, we will eliminate from our dataset the books for which no authors was found (in the case where the API couldn't retrieve the details of the book using the ASIN) but also in the case where it is an empty list (the API call was successful but no author was returned."
   ]
  },
  {
   "cell_type": "code",
   "execution_count": 96,
   "metadata": {
    "collapsed": true
   },
   "outputs": [],
   "source": [
    "book_only_candidates = book_only_candidates[book_only_candidates['authors'].notnull()]\n",
    "book_only_candidates = book_only_candidates[book_only_candidates['authors'].apply(lambda x:len(x)>0)]"
   ]
  },
  {
   "cell_type": "code",
   "execution_count": 97,
   "metadata": {},
   "outputs": [
    {
     "name": "stdout",
     "output_type": "stream",
     "text": [
      "This leaves us with 33337 books to work with\n"
     ]
    }
   ],
   "source": [
    "print(\"This leaves us with {} books to work with\".format(book_only_candidates.shape[0]))"
   ]
  },
  {
   "cell_type": "markdown",
   "metadata": {},
   "source": [
    "Now we also need to get those out of the ```get_candidate``` dictionnary."
   ]
  },
  {
   "cell_type": "code",
   "execution_count": 98,
   "metadata": {
    "collapsed": true
   },
   "outputs": [],
   "source": [
    "compliant_asins = set(book_only_candidates['asin'])\n",
    "similar_sets = [set(get_candidate_full[k]+[k]) for k in get_candidate_full.keys()]\n",
    "similar_sets_compliant=[]\n",
    "for s in similar_sets:\n",
    "    inter = s & compliant_asins\n",
    "    if(len(inter)>1):\n",
    "        similar_sets_compliant.append(inter)"
   ]
  },
  {
   "cell_type": "code",
   "execution_count": 99,
   "metadata": {},
   "outputs": [
    {
     "name": "stdout",
     "output_type": "stream",
     "text": [
      "We now have 13913 bins of similar books to work with\n"
     ]
    }
   ],
   "source": [
    "print(\"We now have {} bins of similar books to work with\".format(len(similar_sets_compliant)))"
   ]
  },
  {
   "cell_type": "code",
   "execution_count": 100,
   "metadata": {
    "collapsed": true
   },
   "outputs": [],
   "source": [
    "similars = [sorted(list(s)) for s in similar_sets_compliant]\n",
    "get_candidate = {elements[0]:elements[1:] for elements in similars}\n",
    "book_only_candidates = book_only_candidates.set_index('asin')"
   ]
  },
  {
   "cell_type": "code",
   "execution_count": 101,
   "metadata": {
    "scrolled": false
   },
   "outputs": [
    {
     "name": "stdout",
     "output_type": "stream",
     "text": [
      "We have found 5987 bins of candidate similars\n"
     ]
    }
   ],
   "source": [
    "book_only_candidates['authors'] = book_only_candidates['authors'].apply(clean_name_in_dataframe)\n",
    "similars = get_similar_authors(book_only_candidates,get_candidate,0.35)\n",
    "print(\"We have found {} bins of candidate similars\".format(len(similars.keys())))"
   ]
  },
  {
   "cell_type": "markdown",
   "metadata": {},
   "source": [
    "We can see that we have some unwanted behaviour of the author matching function. Indeed because we want to avoid at all cost false positives we have some matching that could trivially be done by humans : ```'sir arthur conan doyle'``` and ```'a conan doyle'``` are considered but should be considered similar. We decided to leave the task of refining the matching to a later study and possibly to a reader that would like to extend our work."
   ]
  },
  {
   "cell_type": "markdown",
   "metadata": {},
   "source": [
    "## Using titles to obtain our final similar books"
   ]
  },
  {
   "cell_type": "code",
   "execution_count": 135,
   "metadata": {
    "scrolled": true
   },
   "outputs": [
    {
     "name": "stdout",
     "output_type": "stream",
     "text": [
      "We have found 3050 bins of very similar books.\n",
      "We have 6410 asins for products that have at least one similar product.\n"
     ]
    }
   ],
   "source": [
    "book_only_candidates['title'] = book_only_candidates['title'].apply(clean_title)\n",
    "very_similars = get_similar_titles(book_only_candidates,similars)\n",
    "print(\"We have found {} bins of very similar books.\".format(len(very_similars.keys())))\n",
    "very_similar_ASIN = list(very_similars.keys())\n",
    "very_similar_ASIN += [item for sublist in list(very_similars.values()) for item in sublist]\n",
    "print(\"We have {} asins for products that have at least one similar product.\".format(len(very_similar_ASIN)))"
   ]
  },
  {
   "cell_type": "markdown",
   "metadata": {},
   "source": [
    "Using the ```observational_print``` argument of ```get_similar_titles``` one can observe how our function is quite conservative and why:\n",
    "\n",
    "An example where the titles were not matched, providing there difference:\n",
    "```\n",
    "'college mathematics for business economics life sciences and social sciences 12th edition barnett'\n",
    "'finite mathematics for business economics life sciences and social sciences 12th edition barnett'\n",
    "\t --->'college','finite'\n",
    "```\n",
    "and another one\n",
    "```\n",
    "'mastering the nikon d700'\n",
    "'mastering the nikon d600'\n",
    "\t --->'d700','d600\n",
    "```\n",
    "\n",
    "We can see what titles are going to be matched : \n",
    "*What is interesting here is that the last title contains a repetition of the title inside parenthesis, after the cleaning, we will have removed the parenthesis and will check if the symmetric difference in terms of set of words is empty.*\n",
    "```\n",
    "\"Jeff Herman's Guide to Book Publishers, Editors & Literary Agents: Who They Are! What They Want! and How to Win Them Over!\",\n",
    "\"Jeff Herman's Guide to Book Publishers, Editors and Literary Agents : Who They Are! What They Want! How to Win Them Over!\",\n",
    "\"Jeff Herman's Guide to Book Publishers, Editors, and Literary Agents: Who They Are! What They Want! How to Win Them Over! (Jeff Herman's Guide to Book Publishers, Editors, & Literary Agents)\"\n",
    "```\n",
    "*or this second example where a ':' has been replace with a ';'*\n",
    "```\n",
    "'Hawaii the Big Island Revealed: The Ultimate Guidebook',\n",
    "'Hawaii The Big Island Revealed; The Ultimate Guidebook',\n",
    "```\n",
    "\n",
    "\n",
    "While we know that we might be missing a lot of titles, we much rather have less title and 0 false positives than to risk having false positives."
   ]
  },
  {
   "cell_type": "code",
   "execution_count": 103,
   "metadata": {
    "collapsed": true
   },
   "outputs": [],
   "source": [
    "ANALYSIS_DATA_FOLDER = 'analysis_data/'\n",
    "\n",
    "book_only_candidates.loc[very_similar_ASIN].to_pickle(ANALYSIS_DATA_FOLDER + 'books_full')\n",
    "review_books.query('asin in @very_similar_ASIN').to_pickle(ANALYSIS_DATA_FOLDER + 'review_books_full')\n",
    "\n",
    "with open(ANALYSIS_DATA_FOLDER + 'very_similars_full', 'wb') as handle:\n",
    "    pickle.dump(very_similars, handle, protocol=pickle.HIGHEST_PROTOCOL)"
   ]
  },
  {
   "cell_type": "markdown",
   "metadata": {},
   "source": [
    "## Analysis"
   ]
  },
  {
   "cell_type": "code",
   "execution_count": 104,
   "metadata": {
    "collapsed": true
   },
   "outputs": [],
   "source": [
    "books_df = pd.read_pickle(ANALYSIS_DATA_FOLDER + 'books_full')\n",
    "review_books_df = pd.read_pickle(ANALYSIS_DATA_FOLDER + 'review_books_full')\n",
    "with open(ANALYSIS_DATA_FOLDER + 'very_similars_full', 'rb') as handle:\n",
    "    very_similars = pickle.load(handle)"
   ]
  },
  {
   "cell_type": "code",
   "execution_count": 105,
   "metadata": {},
   "outputs": [
    {
     "data": {
      "text/plain": [
       "(6410, 10)"
      ]
     },
     "execution_count": 105,
     "metadata": {},
     "output_type": "execute_result"
    }
   ],
   "source": [
    "books_df.shape"
   ]
  },
  {
   "cell_type": "code",
   "execution_count": 106,
   "metadata": {},
   "outputs": [
    {
     "data": {
      "text/plain": [
       "(361389, 3)"
      ]
     },
     "execution_count": 106,
     "metadata": {},
     "output_type": "execute_result"
    }
   ],
   "source": [
    "review_books_df.shape"
   ]
  },
  {
   "cell_type": "code",
   "execution_count": 107,
   "metadata": {},
   "outputs": [
    {
     "data": {
      "text/plain": [
       "3050"
      ]
     },
     "execution_count": 107,
     "metadata": {},
     "output_type": "execute_result"
    }
   ],
   "source": [
    "len(very_similars)"
   ]
  },
  {
   "cell_type": "code",
   "execution_count": null,
   "metadata": {
    "collapsed": true
   },
   "outputs": [],
   "source": []
  }
 ],
 "metadata": {
  "kernelspec": {
   "display_name": "Python 3",
   "language": "python",
   "name": "python3"
  },
  "language_info": {
   "codemirror_mode": {
    "name": "ipython",
    "version": 3
   },
   "file_extension": ".py",
   "mimetype": "text/x-python",
   "name": "python",
   "nbconvert_exporter": "python",
   "pygments_lexer": "ipython3",
   "version": "3.6.1"
  },
  "toc": {
   "nav_menu": {},
   "number_sections": true,
   "sideBar": false,
   "skip_h1_title": false,
   "toc_cell": true,
   "toc_position": {
    "height": "435px",
    "left": "1217px",
    "right": "40px",
    "top": "106px",
    "width": "183px"
   },
   "toc_section_display": "none",
   "toc_window_display": true
  }
 },
 "nbformat": 4,
 "nbformat_minor": 2
}
