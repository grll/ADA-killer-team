{
 "cells": [
  {
   "cell_type": "markdown",
   "metadata": {
    "toc": true
   },
   "source": [
    "<h1>Table of Contents<span class=\"tocSkip\"></span></h1>\n",
    "<div class=\"toc\" style=\"margin-top: 1em;\"><ul class=\"toc-item\"><li><span><a href=\"#Exploratory\" data-toc-modified-id=\"Exploratory-1\"><span class=\"toc-item-num\">1&nbsp;&nbsp;</span>Exploratory</a></span><ul class=\"toc-item\"><li><span><a href=\"#Content-of-the-files\" data-toc-modified-id=\"Content-of-the-files-1.1\"><span class=\"toc-item-num\">1.1&nbsp;&nbsp;</span>Content of the files</a></span></li><li><span><a href=\"#Books\" data-toc-modified-id=\"Books-1.2\"><span class=\"toc-item-num\">1.2&nbsp;&nbsp;</span>Books</a></span><ul class=\"toc-item\"><li><span><a href=\"#Metadata\" data-toc-modified-id=\"Metadata-1.2.1\"><span class=\"toc-item-num\">1.2.1&nbsp;&nbsp;</span>Metadata</a></span></li><li><span><a href=\"#Reviews\" data-toc-modified-id=\"Reviews-1.2.2\"><span class=\"toc-item-num\">1.2.2&nbsp;&nbsp;</span>Reviews</a></span></li><li><span><a href=\"#5-Core\" data-toc-modified-id=\"5-Core-1.2.3\"><span class=\"toc-item-num\">1.2.3&nbsp;&nbsp;</span>5-Core</a></span></li></ul></li><li><span><a href=\"#Movies-and-TV\" data-toc-modified-id=\"Movies-and-TV-1.3\"><span class=\"toc-item-num\">1.3&nbsp;&nbsp;</span>Movies and TV</a></span><ul class=\"toc-item\"><li><span><a href=\"#Metadata\" data-toc-modified-id=\"Metadata-1.3.1\"><span class=\"toc-item-num\">1.3.1&nbsp;&nbsp;</span>Metadata</a></span></li><li><span><a href=\"#Reviews\" data-toc-modified-id=\"Reviews-1.3.2\"><span class=\"toc-item-num\">1.3.2&nbsp;&nbsp;</span>Reviews</a></span></li></ul></li><li><span><a href=\"#Electronics\" data-toc-modified-id=\"Electronics-1.4\"><span class=\"toc-item-num\">1.4&nbsp;&nbsp;</span>Electronics</a></span><ul class=\"toc-item\"><li><span><a href=\"#Metadata\" data-toc-modified-id=\"Metadata-1.4.1\"><span class=\"toc-item-num\">1.4.1&nbsp;&nbsp;</span>Metadata</a></span></li><li><span><a href=\"#Review\" data-toc-modified-id=\"Review-1.4.2\"><span class=\"toc-item-num\">1.4.2&nbsp;&nbsp;</span>Review</a></span></li></ul></li></ul></li><li><span><a href=\"#Detecting-similar-products\" data-toc-modified-id=\"Detecting-similar-products-2\"><span class=\"toc-item-num\">2&nbsp;&nbsp;</span>Detecting similar products</a></span><ul class=\"toc-item\"><li><span><a href=\"#Books\" data-toc-modified-id=\"Books-2.1\"><span class=\"toc-item-num\">2.1&nbsp;&nbsp;</span>Books</a></span><ul class=\"toc-item\"><li><span><a href=\"#Defining-the-dataset-to-work-with\" data-toc-modified-id=\"Defining-the-dataset-to-work-with-2.1.1\"><span class=\"toc-item-num\">2.1.1&nbsp;&nbsp;</span>Defining the dataset to work with</a></span></li><li><span><a href=\"#Locality-sensitive-hashing\" data-toc-modified-id=\"Locality-sensitive-hashing-2.1.2\"><span class=\"toc-item-num\">2.1.2&nbsp;&nbsp;</span>Locality sensitive hashing</a></span><ul class=\"toc-item\"><li><span><a href=\"#The-minhash\" data-toc-modified-id=\"The-minhash-2.1.2.1\"><span class=\"toc-item-num\">2.1.2.1&nbsp;&nbsp;</span>The <code>minhash</code></a></span></li><li><span><a href=\"#The-principle-of-LSH\" data-toc-modified-id=\"The-principle-of-LSH-2.1.2.2\"><span class=\"toc-item-num\">2.1.2.2&nbsp;&nbsp;</span>The principle of LSH</a></span></li><li><span><a href=\"#Finding-candidate-duplicates\" data-toc-modified-id=\"Finding-candidate-duplicates-2.1.2.3\"><span class=\"toc-item-num\">2.1.2.3&nbsp;&nbsp;</span>Finding candidate duplicates</a></span></li></ul></li><li><span><a href=\"#Refining-our-candidates\" data-toc-modified-id=\"Refining-our-candidates-2.1.3\"><span class=\"toc-item-num\">2.1.3&nbsp;&nbsp;</span>Refining our candidates</a></span><ul class=\"toc-item\"><li><span><a href=\"#Using-Amazon-API-to-obtain-more-data-about-our-products\" data-toc-modified-id=\"Using-Amazon-API-to-obtain-more-data-about-our-products-2.1.3.1\"><span class=\"toc-item-num\">2.1.3.1&nbsp;&nbsp;</span>Using Amazon API to obtain more data about our products</a></span></li><li><span><a href=\"#Refining-the-candidate-similars-based-on-authors\" data-toc-modified-id=\"Refining-the-candidate-similars-based-on-authors-2.1.3.2\"><span class=\"toc-item-num\">2.1.3.2&nbsp;&nbsp;</span>Refining the candidate similars based on authors</a></span></li><li><span><a href=\"#Refining-the-candidate-similars-further-using-the-titles\" data-toc-modified-id=\"Refining-the-candidate-similars-further-using-the-titles-2.1.3.3\"><span class=\"toc-item-num\">2.1.3.3&nbsp;&nbsp;</span>Refining the candidate similars further using the titles</a></span></li></ul></li></ul></li></ul></li><li><span><a href=\"#Testing\" data-toc-modified-id=\"Testing-3\"><span class=\"toc-item-num\">3&nbsp;&nbsp;</span>Testing</a></span></li></ul></div>"
   ]
  },
  {
   "cell_type": "code",
   "execution_count": 1,
   "metadata": {},
   "outputs": [],
   "source": [
    "%matplotlib inline\n",
    "# To reload external scripts automatically\n",
    "%load_ext autoreload\n",
    "%autoreload 2\n",
    "\n",
    "import pandas as pd\n",
    "import numpy as np\n",
    "import sys\n",
    "\n",
    "# Importing external files\n",
    "sys.path.append('scripts/')\n",
    "from data_import import *\n",
    "from similarities import *\n",
    "from utils import *\n",
    "from amazon_api_interaction import *\n",
    "\n",
    "pd.options.mode.chained_assignment = None  # default='warn', Mutes warnings when copying a slice from a DataFrame."
   ]
  },
  {
   "cell_type": "markdown",
   "metadata": {},
   "source": [
    "# Exploratory\n",
    "This notebook contain the first study of the data to identify what is needed and what we do not need. It will only work with subsets of datasets as they will not fit into memory."
   ]
  },
  {
   "cell_type": "code",
   "execution_count": 2,
   "metadata": {
    "collapsed": true
   },
   "outputs": [],
   "source": [
    "DATA_FOLDER = \"../../Project-Data/\"\n",
    "META_FOLDER = DATA_FOLDER + \"meta/\"\n",
    "REVIEWS_FOLDER = DATA_FOLDER + \"reviews/\"\n",
    "CORE_FOLDER = DATA_FOLDER + \"5_core/\"\n",
    "DUMP_FOLDER = DATA_FOLDER + \"dump/\"\n",
    "CATEGORIES = ['Books','Movies_and_Tv','Electronics']\n",
    "MAXCOUNT = -1"
   ]
  },
  {
   "cell_type": "markdown",
   "metadata": {},
   "source": [
    "## Content of the files"
   ]
  },
  {
   "cell_type": "markdown",
   "metadata": {},
   "source": [
    "The different columns of the **metadata** files are : \n",
    "* ```asin``` : the unique identifier of the object\n",
    "* ```brand```\n",
    "* ```categories``` : the categories of the object\n",
    "* ```description``` : the description of the object\n",
    "* ```imUrl```  : the link toward the images related to the object\n",
    "* ```price```\n",
    "* ```related``` : a list of objects that are related to this object\n",
    "* ```salesRank``` \n",
    "* ```title```\n",
    "\n",
    "The different columns of the **reviews** and **5-core** files are :\n",
    "* ```asin``` : the unique identifier of the object\n",
    "* ```helpful``` : a list of 2 integers [x,y], the helpfulness score is x/y votes\n",
    "* ```overall``` : the rating of the object\n",
    "* ```reviewText```\n",
    "* ```reviewTime```\n",
    "* ```reviewerID```\n",
    "* ```reviewerName```\n",
    "* ```summary ``` : the title of the review\n",
    "* ```unixReviewTime``` : in Unix format\n",
    "\n",
    "Therefore we keep only the column that are of interest for our task"
   ]
  },
  {
   "cell_type": "code",
   "execution_count": 3,
   "metadata": {
    "collapsed": true
   },
   "outputs": [],
   "source": [
    "meta_interesting_cols = ['asin', 'title', 'salesRank', 'description','imUrl']\n",
    "review_interesting_cols = ['asin', 'overall', 'unixReviewTime']"
   ]
  },
  {
   "cell_type": "markdown",
   "metadata": {},
   "source": [
    "## Books"
   ]
  },
  {
   "cell_type": "code",
   "execution_count": 4,
   "metadata": {},
   "outputs": [
    {
     "name": "stdout",
     "output_type": "stream",
     "text": [
      "Paths : \n",
      "\t meta = ../../Project-Data/meta/meta_Books.json\n",
      "\t review = ../../Project-Data/reviews/reviews_Books.json\n",
      "\t core_path = ../../Project-Data/5_core/Books.json\n"
     ]
    }
   ],
   "source": [
    "meta_books_path, review_books_path, core_book_path = get_paths(0, DATA_FOLDER, META_FOLDER,CORE_FOLDER,\n",
    "                                               REVIEWS_FOLDER, CATEGORIES)"
   ]
  },
  {
   "cell_type": "markdown",
   "metadata": {},
   "source": [
    "### Metadata"
   ]
  },
  {
   "cell_type": "code",
   "execution_count": 5,
   "metadata": {
    "scrolled": true
   },
   "outputs": [
    {
     "name": "stdout",
     "output_type": "stream",
     "text": [
      "Retrieving from : ../../Project-Data/dump/meta_Books_asin_title_salesRank_description_imUrl_ALL\n",
      "It took 00:00:05.529 to import the data.\n"
     ]
    },
    {
     "data": {
      "text/html": [
       "<div>\n",
       "<style>\n",
       "    .dataframe thead tr:only-child th {\n",
       "        text-align: right;\n",
       "    }\n",
       "\n",
       "    .dataframe thead th {\n",
       "        text-align: left;\n",
       "    }\n",
       "\n",
       "    .dataframe tbody tr th {\n",
       "        vertical-align: top;\n",
       "    }\n",
       "</style>\n",
       "<table border=\"1\" class=\"dataframe\">\n",
       "  <thead>\n",
       "    <tr style=\"text-align: right;\">\n",
       "      <th></th>\n",
       "      <th>asin</th>\n",
       "      <th>description</th>\n",
       "      <th>imUrl</th>\n",
       "      <th>salesRank_Arts,_Crafts_&amp;_Sewing</th>\n",
       "      <th>salesRank_Books</th>\n",
       "      <th>salesRank_Cell_Phones_&amp;_Accessories</th>\n",
       "      <th>salesRank_Clothing</th>\n",
       "      <th>salesRank_Electronics</th>\n",
       "      <th>salesRank_Health_&amp;_Personal_Care</th>\n",
       "      <th>salesRank_Home_&amp;_Kitchen</th>\n",
       "      <th>...</th>\n",
       "      <th>salesRank_Jewelry</th>\n",
       "      <th>salesRank_Kitchen_&amp;_Dining</th>\n",
       "      <th>salesRank_Movies_&amp;_TV</th>\n",
       "      <th>salesRank_Music</th>\n",
       "      <th>salesRank_Musical_Instruments</th>\n",
       "      <th>salesRank_Office_Products</th>\n",
       "      <th>salesRank_Shoes</th>\n",
       "      <th>salesRank_Sports_&amp;_Outdoors</th>\n",
       "      <th>salesRank_Toys_&amp;_Games</th>\n",
       "      <th>title</th>\n",
       "    </tr>\n",
       "  </thead>\n",
       "  <tbody>\n",
       "    <tr>\n",
       "      <th>0</th>\n",
       "      <td>0001048791</td>\n",
       "      <td>NaN</td>\n",
       "      <td>http://ecx.images-amazon.com/images/I/51MKP0T4...</td>\n",
       "      <td>NaN</td>\n",
       "      <td>6334800.0</td>\n",
       "      <td>NaN</td>\n",
       "      <td>NaN</td>\n",
       "      <td>NaN</td>\n",
       "      <td>NaN</td>\n",
       "      <td>NaN</td>\n",
       "      <td>...</td>\n",
       "      <td>NaN</td>\n",
       "      <td>NaN</td>\n",
       "      <td>NaN</td>\n",
       "      <td>NaN</td>\n",
       "      <td>NaN</td>\n",
       "      <td>NaN</td>\n",
       "      <td>NaN</td>\n",
       "      <td>NaN</td>\n",
       "      <td>NaN</td>\n",
       "      <td>The Crucible: Performed by Stuart Pankin, Jero...</td>\n",
       "    </tr>\n",
       "  </tbody>\n",
       "</table>\n",
       "<p>1 rows × 21 columns</p>\n",
       "</div>"
      ],
      "text/plain": [
       "         asin description                                              imUrl  \\\n",
       "0  0001048791         NaN  http://ecx.images-amazon.com/images/I/51MKP0T4...   \n",
       "\n",
       "   salesRank_Arts,_Crafts_&_Sewing  salesRank_Books  \\\n",
       "0                              NaN        6334800.0   \n",
       "\n",
       "   salesRank_Cell_Phones_&_Accessories  salesRank_Clothing  \\\n",
       "0                                  NaN                 NaN   \n",
       "\n",
       "   salesRank_Electronics  salesRank_Health_&_Personal_Care  \\\n",
       "0                    NaN                               NaN   \n",
       "\n",
       "   salesRank_Home_&_Kitchen  \\\n",
       "0                       NaN   \n",
       "\n",
       "                         ...                          salesRank_Jewelry  \\\n",
       "0                        ...                                        NaN   \n",
       "\n",
       "   salesRank_Kitchen_&_Dining  salesRank_Movies_&_TV  salesRank_Music  \\\n",
       "0                         NaN                    NaN              NaN   \n",
       "\n",
       "   salesRank_Musical_Instruments  salesRank_Office_Products  salesRank_Shoes  \\\n",
       "0                            NaN                        NaN              NaN   \n",
       "\n",
       "   salesRank_Sports_&_Outdoors  salesRank_Toys_&_Games  \\\n",
       "0                          NaN                     NaN   \n",
       "\n",
       "                                               title  \n",
       "0  The Crucible: Performed by Stuart Pankin, Jero...  \n",
       "\n",
       "[1 rows x 21 columns]"
      ]
     },
     "execution_count": 5,
     "metadata": {},
     "output_type": "execute_result"
    }
   ],
   "source": [
    "meta_books = import_interesting_cols(meta_books_path,DUMP_FOLDER,True,meta_interesting_cols,max_count=MAXCOUNT)\n",
    "meta_books.head(1)"
   ]
  },
  {
   "cell_type": "markdown",
   "metadata": {},
   "source": [
    "### Reviews"
   ]
  },
  {
   "cell_type": "code",
   "execution_count": 6,
   "metadata": {},
   "outputs": [
    {
     "name": "stdout",
     "output_type": "stream",
     "text": [
      "Retrieving from : ../../Project-Data/dump/reviews_Books_asin_overall_unixReviewTime_ALL\n",
      "It took 00:00:02.994 to import the data.\n"
     ]
    },
    {
     "data": {
      "text/html": [
       "<div>\n",
       "<style>\n",
       "    .dataframe thead tr:only-child th {\n",
       "        text-align: right;\n",
       "    }\n",
       "\n",
       "    .dataframe thead th {\n",
       "        text-align: left;\n",
       "    }\n",
       "\n",
       "    .dataframe tbody tr th {\n",
       "        vertical-align: top;\n",
       "    }\n",
       "</style>\n",
       "<table border=\"1\" class=\"dataframe\">\n",
       "  <thead>\n",
       "    <tr style=\"text-align: right;\">\n",
       "      <th></th>\n",
       "      <th>asin</th>\n",
       "      <th>overall</th>\n",
       "      <th>unixReviewTime</th>\n",
       "    </tr>\n",
       "  </thead>\n",
       "  <tbody>\n",
       "    <tr>\n",
       "      <th>0</th>\n",
       "      <td>0000000116</td>\n",
       "      <td>4.0</td>\n",
       "      <td>2002-04-27</td>\n",
       "    </tr>\n",
       "    <tr>\n",
       "      <th>1</th>\n",
       "      <td>0000000116</td>\n",
       "      <td>1.0</td>\n",
       "      <td>2014-03-24</td>\n",
       "    </tr>\n",
       "    <tr>\n",
       "      <th>2</th>\n",
       "      <td>0000000868</td>\n",
       "      <td>4.0</td>\n",
       "      <td>2002-09-11</td>\n",
       "    </tr>\n",
       "    <tr>\n",
       "      <th>3</th>\n",
       "      <td>0000013714</td>\n",
       "      <td>4.0</td>\n",
       "      <td>2013-10-31</td>\n",
       "    </tr>\n",
       "    <tr>\n",
       "      <th>4</th>\n",
       "      <td>0000013714</td>\n",
       "      <td>5.0</td>\n",
       "      <td>2013-07-27</td>\n",
       "    </tr>\n",
       "  </tbody>\n",
       "</table>\n",
       "</div>"
      ],
      "text/plain": [
       "         asin  overall unixReviewTime\n",
       "0  0000000116      4.0     2002-04-27\n",
       "1  0000000116      1.0     2014-03-24\n",
       "2  0000000868      4.0     2002-09-11\n",
       "3  0000013714      4.0     2013-10-31\n",
       "4  0000013714      5.0     2013-07-27"
      ]
     },
     "execution_count": 6,
     "metadata": {},
     "output_type": "execute_result"
    }
   ],
   "source": [
    "review_books = import_interesting_cols(\n",
    "    review_books_path, DUMP_FOLDER,False, review_interesting_cols, max_count=MAXCOUNT)\n",
    "review_books.head()"
   ]
  },
  {
   "cell_type": "markdown",
   "metadata": {
    "heading_collapsed": true
   },
   "source": [
    "### 5-Core"
   ]
  },
  {
   "cell_type": "code",
   "execution_count": 7,
   "metadata": {
    "hidden": true
   },
   "outputs": [
    {
     "name": "stdout",
     "output_type": "stream",
     "text": [
      "Retrieving from : ../../Project-Data/dump/Books_asin_overall_unixReviewTime_ALL\n",
      "It took 00:00:00.834 to import the data.\n"
     ]
    },
    {
     "data": {
      "text/html": [
       "<div>\n",
       "<style>\n",
       "    .dataframe thead tr:only-child th {\n",
       "        text-align: right;\n",
       "    }\n",
       "\n",
       "    .dataframe thead th {\n",
       "        text-align: left;\n",
       "    }\n",
       "\n",
       "    .dataframe tbody tr th {\n",
       "        vertical-align: top;\n",
       "    }\n",
       "</style>\n",
       "<table border=\"1\" class=\"dataframe\">\n",
       "  <thead>\n",
       "    <tr style=\"text-align: right;\">\n",
       "      <th></th>\n",
       "      <th>asin</th>\n",
       "      <th>overall</th>\n",
       "      <th>unixReviewTime</th>\n",
       "    </tr>\n",
       "  </thead>\n",
       "  <tbody>\n",
       "    <tr>\n",
       "      <th>0</th>\n",
       "      <td>000100039X</td>\n",
       "      <td>5.0</td>\n",
       "      <td>2012-12-16</td>\n",
       "    </tr>\n",
       "    <tr>\n",
       "      <th>1</th>\n",
       "      <td>000100039X</td>\n",
       "      <td>5.0</td>\n",
       "      <td>2003-12-11</td>\n",
       "    </tr>\n",
       "    <tr>\n",
       "      <th>2</th>\n",
       "      <td>000100039X</td>\n",
       "      <td>5.0</td>\n",
       "      <td>2014-01-18</td>\n",
       "    </tr>\n",
       "    <tr>\n",
       "      <th>3</th>\n",
       "      <td>000100039X</td>\n",
       "      <td>5.0</td>\n",
       "      <td>2011-09-27</td>\n",
       "    </tr>\n",
       "    <tr>\n",
       "      <th>4</th>\n",
       "      <td>000100039X</td>\n",
       "      <td>5.0</td>\n",
       "      <td>2002-10-07</td>\n",
       "    </tr>\n",
       "  </tbody>\n",
       "</table>\n",
       "</div>"
      ],
      "text/plain": [
       "         asin  overall unixReviewTime\n",
       "0  000100039X      5.0     2012-12-16\n",
       "1  000100039X      5.0     2003-12-11\n",
       "2  000100039X      5.0     2014-01-18\n",
       "3  000100039X      5.0     2011-09-27\n",
       "4  000100039X      5.0     2002-10-07"
      ]
     },
     "execution_count": 7,
     "metadata": {},
     "output_type": "execute_result"
    }
   ],
   "source": [
    "core_books = import_interesting_cols(\n",
    "    core_book_path,\n",
    "    DUMP_FOLDER,\n",
    "    False,\n",
    "    review_interesting_cols,\n",
    "    max_count=MAXCOUNT)\n",
    "core_books.head()"
   ]
  },
  {
   "cell_type": "markdown",
   "metadata": {},
   "source": [
    "## Movies and TV"
   ]
  },
  {
   "cell_type": "code",
   "execution_count": 8,
   "metadata": {},
   "outputs": [
    {
     "name": "stdout",
     "output_type": "stream",
     "text": [
      "Paths : \n",
      "\t meta = ../../Project-Data/meta/meta_Movies_and_Tv.json\n",
      "\t review = ../../Project-Data/reviews/reviews_Movies_and_Tv.json\n",
      "\t core_path = ../../Project-Data/5_core/Movies_and_Tv.json\n"
     ]
    }
   ],
   "source": [
    "meta_movie_path, review_movie_path, core_movie_path = get_paths(\n",
    "    1, DATA_FOLDER, META_FOLDER, CORE_FOLDER, REVIEWS_FOLDER, CATEGORIES)"
   ]
  },
  {
   "cell_type": "markdown",
   "metadata": {},
   "source": [
    "### Metadata"
   ]
  },
  {
   "cell_type": "code",
   "execution_count": 9,
   "metadata": {},
   "outputs": [
    {
     "name": "stdout",
     "output_type": "stream",
     "text": [
      "Retrieving from : ../../Project-Data/dump/meta_Movies_and_Tv_asin_title_salesRank_description_imUrl_ALL\n",
      "It took 00:00:00.748 to import the data.\n"
     ]
    },
    {
     "data": {
      "text/html": [
       "<div>\n",
       "<style>\n",
       "    .dataframe thead tr:only-child th {\n",
       "        text-align: right;\n",
       "    }\n",
       "\n",
       "    .dataframe thead th {\n",
       "        text-align: left;\n",
       "    }\n",
       "\n",
       "    .dataframe tbody tr th {\n",
       "        vertical-align: top;\n",
       "    }\n",
       "</style>\n",
       "<table border=\"1\" class=\"dataframe\">\n",
       "  <thead>\n",
       "    <tr style=\"text-align: right;\">\n",
       "      <th></th>\n",
       "      <th>asin</th>\n",
       "      <th>description</th>\n",
       "      <th>imUrl</th>\n",
       "      <th>salesRank_Arts,_Crafts_&amp;_Sewing</th>\n",
       "      <th>salesRank_Books</th>\n",
       "      <th>salesRank_Electronics</th>\n",
       "      <th>salesRank_Health_&amp;_Personal_Care</th>\n",
       "      <th>salesRank_Home_&amp;_Kitchen</th>\n",
       "      <th>salesRank_Industrial_&amp;_Scientific</th>\n",
       "      <th>salesRank_Movies_&amp;_TV</th>\n",
       "      <th>salesRank_Music</th>\n",
       "      <th>salesRank_Pet_Supplies</th>\n",
       "      <th>salesRank_Software</th>\n",
       "      <th>salesRank_Sports_&amp;_Outdoors</th>\n",
       "      <th>salesRank_Toys_&amp;_Games</th>\n",
       "      <th>salesRank_Video_Games</th>\n",
       "      <th>title</th>\n",
       "    </tr>\n",
       "  </thead>\n",
       "  <tbody>\n",
       "    <tr>\n",
       "      <th>0</th>\n",
       "      <td>0000143561</td>\n",
       "      <td>3Pack DVD set - Italian Classics, Parties and ...</td>\n",
       "      <td>http://g-ecx.images-amazon.com/images/G/01/x-s...</td>\n",
       "      <td>NaN</td>\n",
       "      <td>NaN</td>\n",
       "      <td>NaN</td>\n",
       "      <td>NaN</td>\n",
       "      <td>NaN</td>\n",
       "      <td>NaN</td>\n",
       "      <td>376041.0</td>\n",
       "      <td>NaN</td>\n",
       "      <td>NaN</td>\n",
       "      <td>NaN</td>\n",
       "      <td>NaN</td>\n",
       "      <td>NaN</td>\n",
       "      <td>NaN</td>\n",
       "      <td>Everyday Italian (with Giada de Laurentiis), V...</td>\n",
       "    </tr>\n",
       "    <tr>\n",
       "      <th>1</th>\n",
       "      <td>0000589012</td>\n",
       "      <td>NaN</td>\n",
       "      <td>http://ecx.images-amazon.com/images/I/519%2B1k...</td>\n",
       "      <td>NaN</td>\n",
       "      <td>NaN</td>\n",
       "      <td>NaN</td>\n",
       "      <td>NaN</td>\n",
       "      <td>NaN</td>\n",
       "      <td>NaN</td>\n",
       "      <td>1084845.0</td>\n",
       "      <td>NaN</td>\n",
       "      <td>NaN</td>\n",
       "      <td>NaN</td>\n",
       "      <td>NaN</td>\n",
       "      <td>NaN</td>\n",
       "      <td>NaN</td>\n",
       "      <td>Why Don't They Just Quit? DVD Roundtable Discu...</td>\n",
       "    </tr>\n",
       "    <tr>\n",
       "      <th>2</th>\n",
       "      <td>0000695009</td>\n",
       "      <td>NaN</td>\n",
       "      <td>http://g-ecx.images-amazon.com/images/G/01/x-s...</td>\n",
       "      <td>NaN</td>\n",
       "      <td>NaN</td>\n",
       "      <td>NaN</td>\n",
       "      <td>NaN</td>\n",
       "      <td>NaN</td>\n",
       "      <td>NaN</td>\n",
       "      <td>1022732.0</td>\n",
       "      <td>NaN</td>\n",
       "      <td>NaN</td>\n",
       "      <td>NaN</td>\n",
       "      <td>NaN</td>\n",
       "      <td>NaN</td>\n",
       "      <td>NaN</td>\n",
       "      <td>Understanding Seizures and Epilepsy DVD</td>\n",
       "    </tr>\n",
       "    <tr>\n",
       "      <th>3</th>\n",
       "      <td>000107461X</td>\n",
       "      <td>NaN</td>\n",
       "      <td>http://ecx.images-amazon.com/images/I/41WY47gL...</td>\n",
       "      <td>NaN</td>\n",
       "      <td>NaN</td>\n",
       "      <td>NaN</td>\n",
       "      <td>NaN</td>\n",
       "      <td>NaN</td>\n",
       "      <td>NaN</td>\n",
       "      <td>954116.0</td>\n",
       "      <td>NaN</td>\n",
       "      <td>NaN</td>\n",
       "      <td>NaN</td>\n",
       "      <td>NaN</td>\n",
       "      <td>NaN</td>\n",
       "      <td>NaN</td>\n",
       "      <td>Live in Houston [VHS]</td>\n",
       "    </tr>\n",
       "    <tr>\n",
       "      <th>4</th>\n",
       "      <td>0000143529</td>\n",
       "      <td>Disc 1: Flour Power (Scones; Shortcakes; South...</td>\n",
       "      <td>http://ecx.images-amazon.com/images/I/51QY79CD...</td>\n",
       "      <td>NaN</td>\n",
       "      <td>NaN</td>\n",
       "      <td>NaN</td>\n",
       "      <td>NaN</td>\n",
       "      <td>NaN</td>\n",
       "      <td>NaN</td>\n",
       "      <td>463562.0</td>\n",
       "      <td>NaN</td>\n",
       "      <td>NaN</td>\n",
       "      <td>NaN</td>\n",
       "      <td>NaN</td>\n",
       "      <td>NaN</td>\n",
       "      <td>NaN</td>\n",
       "      <td>My Fair Pastry (Good Eats Vol. 9)</td>\n",
       "    </tr>\n",
       "  </tbody>\n",
       "</table>\n",
       "</div>"
      ],
      "text/plain": [
       "         asin                                        description  \\\n",
       "0  0000143561  3Pack DVD set - Italian Classics, Parties and ...   \n",
       "1  0000589012                                                NaN   \n",
       "2  0000695009                                                NaN   \n",
       "3  000107461X                                                NaN   \n",
       "4  0000143529  Disc 1: Flour Power (Scones; Shortcakes; South...   \n",
       "\n",
       "                                               imUrl  \\\n",
       "0  http://g-ecx.images-amazon.com/images/G/01/x-s...   \n",
       "1  http://ecx.images-amazon.com/images/I/519%2B1k...   \n",
       "2  http://g-ecx.images-amazon.com/images/G/01/x-s...   \n",
       "3  http://ecx.images-amazon.com/images/I/41WY47gL...   \n",
       "4  http://ecx.images-amazon.com/images/I/51QY79CD...   \n",
       "\n",
       "   salesRank_Arts,_Crafts_&_Sewing  salesRank_Books  salesRank_Electronics  \\\n",
       "0                              NaN              NaN                    NaN   \n",
       "1                              NaN              NaN                    NaN   \n",
       "2                              NaN              NaN                    NaN   \n",
       "3                              NaN              NaN                    NaN   \n",
       "4                              NaN              NaN                    NaN   \n",
       "\n",
       "   salesRank_Health_&_Personal_Care  salesRank_Home_&_Kitchen  \\\n",
       "0                               NaN                       NaN   \n",
       "1                               NaN                       NaN   \n",
       "2                               NaN                       NaN   \n",
       "3                               NaN                       NaN   \n",
       "4                               NaN                       NaN   \n",
       "\n",
       "   salesRank_Industrial_&_Scientific  salesRank_Movies_&_TV  salesRank_Music  \\\n",
       "0                                NaN               376041.0              NaN   \n",
       "1                                NaN              1084845.0              NaN   \n",
       "2                                NaN              1022732.0              NaN   \n",
       "3                                NaN               954116.0              NaN   \n",
       "4                                NaN               463562.0              NaN   \n",
       "\n",
       "   salesRank_Pet_Supplies  salesRank_Software  salesRank_Sports_&_Outdoors  \\\n",
       "0                     NaN                 NaN                          NaN   \n",
       "1                     NaN                 NaN                          NaN   \n",
       "2                     NaN                 NaN                          NaN   \n",
       "3                     NaN                 NaN                          NaN   \n",
       "4                     NaN                 NaN                          NaN   \n",
       "\n",
       "   salesRank_Toys_&_Games  salesRank_Video_Games  \\\n",
       "0                     NaN                    NaN   \n",
       "1                     NaN                    NaN   \n",
       "2                     NaN                    NaN   \n",
       "3                     NaN                    NaN   \n",
       "4                     NaN                    NaN   \n",
       "\n",
       "                                               title  \n",
       "0  Everyday Italian (with Giada de Laurentiis), V...  \n",
       "1  Why Don't They Just Quit? DVD Roundtable Discu...  \n",
       "2            Understanding Seizures and Epilepsy DVD  \n",
       "3                              Live in Houston [VHS]  \n",
       "4                  My Fair Pastry (Good Eats Vol. 9)  "
      ]
     },
     "execution_count": 9,
     "metadata": {},
     "output_type": "execute_result"
    }
   ],
   "source": [
    "meta_movie = import_interesting_cols(\n",
    "    meta_movie_path,DUMP_FOLDER, True, meta_interesting_cols, max_count=MAXCOUNT, dropna=False)\n",
    "meta_movie.head()"
   ]
  },
  {
   "cell_type": "markdown",
   "metadata": {},
   "source": [
    "### Reviews"
   ]
  },
  {
   "cell_type": "code",
   "execution_count": 10,
   "metadata": {},
   "outputs": [
    {
     "name": "stdout",
     "output_type": "stream",
     "text": [
      "Retrieving from : ../../Project-Data/dump/reviews_Movies_and_Tv_asin_overall_unixReviewTime_100\n",
      "It took 00:00:00.004 to import the data.\n"
     ]
    },
    {
     "data": {
      "text/html": [
       "<div>\n",
       "<style>\n",
       "    .dataframe thead tr:only-child th {\n",
       "        text-align: right;\n",
       "    }\n",
       "\n",
       "    .dataframe thead th {\n",
       "        text-align: left;\n",
       "    }\n",
       "\n",
       "    .dataframe tbody tr th {\n",
       "        vertical-align: top;\n",
       "    }\n",
       "</style>\n",
       "<table border=\"1\" class=\"dataframe\">\n",
       "  <thead>\n",
       "    <tr style=\"text-align: right;\">\n",
       "      <th></th>\n",
       "      <th>asin</th>\n",
       "      <th>overall</th>\n",
       "      <th>unixReviewTime</th>\n",
       "    </tr>\n",
       "  </thead>\n",
       "  <tbody>\n",
       "    <tr>\n",
       "      <th>0</th>\n",
       "      <td>0000143502</td>\n",
       "      <td>5.0</td>\n",
       "      <td>2013-01-17</td>\n",
       "    </tr>\n",
       "    <tr>\n",
       "      <th>1</th>\n",
       "      <td>0000143529</td>\n",
       "      <td>5.0</td>\n",
       "      <td>2013-10-02</td>\n",
       "    </tr>\n",
       "    <tr>\n",
       "      <th>2</th>\n",
       "      <td>0000143561</td>\n",
       "      <td>2.0</td>\n",
       "      <td>2008-07-17</td>\n",
       "    </tr>\n",
       "    <tr>\n",
       "      <th>3</th>\n",
       "      <td>0000143588</td>\n",
       "      <td>5.0</td>\n",
       "      <td>2009-03-13</td>\n",
       "    </tr>\n",
       "    <tr>\n",
       "      <th>4</th>\n",
       "      <td>0000143588</td>\n",
       "      <td>5.0</td>\n",
       "      <td>2009-01-18</td>\n",
       "    </tr>\n",
       "  </tbody>\n",
       "</table>\n",
       "</div>"
      ],
      "text/plain": [
       "         asin  overall unixReviewTime\n",
       "0  0000143502      5.0     2013-01-17\n",
       "1  0000143529      5.0     2013-10-02\n",
       "2  0000143561      2.0     2008-07-17\n",
       "3  0000143588      5.0     2009-03-13\n",
       "4  0000143588      5.0     2009-01-18"
      ]
     },
     "execution_count": 10,
     "metadata": {},
     "output_type": "execute_result"
    }
   ],
   "source": [
    "review_movie = import_interesting_cols(\n",
    "    review_movie_path,\n",
    "    DUMP_FOLDER,\n",
    "    False,\n",
    "    review_interesting_cols,\n",
    "    max_count=100,\n",
    "    dropna=False)\n",
    "review_movie.head()"
   ]
  },
  {
   "cell_type": "markdown",
   "metadata": {
    "collapsed": true
   },
   "source": [
    "## Electronics"
   ]
  },
  {
   "cell_type": "code",
   "execution_count": 11,
   "metadata": {},
   "outputs": [
    {
     "name": "stdout",
     "output_type": "stream",
     "text": [
      "Paths : \n",
      "\t meta = ../../Project-Data/meta/meta_Electronics.json\n",
      "\t review = ../../Project-Data/reviews/reviews_Electronics.json\n",
      "\t core_path = ../../Project-Data/5_core/Electronics.json\n"
     ]
    }
   ],
   "source": [
    "meta_electronic_path, review_electronic_path, core_electronic_path = get_paths(\n",
    "    2, DATA_FOLDER,META_FOLDER,CORE_FOLDER, REVIEWS_FOLDER, CATEGORIES)"
   ]
  },
  {
   "cell_type": "markdown",
   "metadata": {},
   "source": [
    "### Metadata"
   ]
  },
  {
   "cell_type": "code",
   "execution_count": 12,
   "metadata": {},
   "outputs": [
    {
     "name": "stdout",
     "output_type": "stream",
     "text": [
      "Retrieving from : ../../Project-Data/dump/meta_Electronics_asin_title_salesRank_description_imUrl_ALL\n",
      "It took 00:00:02.134 to import the data.\n"
     ]
    },
    {
     "data": {
      "text/html": [
       "<div>\n",
       "<style>\n",
       "    .dataframe thead tr:only-child th {\n",
       "        text-align: right;\n",
       "    }\n",
       "\n",
       "    .dataframe thead th {\n",
       "        text-align: left;\n",
       "    }\n",
       "\n",
       "    .dataframe tbody tr th {\n",
       "        vertical-align: top;\n",
       "    }\n",
       "</style>\n",
       "<table border=\"1\" class=\"dataframe\">\n",
       "  <thead>\n",
       "    <tr style=\"text-align: right;\">\n",
       "      <th></th>\n",
       "      <th>asin</th>\n",
       "      <th>description</th>\n",
       "      <th>imUrl</th>\n",
       "      <th>salesRank_Arts,_Crafts_&amp;_Sewing</th>\n",
       "      <th>salesRank_Automotive</th>\n",
       "      <th>salesRank_Baby</th>\n",
       "      <th>salesRank_Beauty</th>\n",
       "      <th>salesRank_Camera_&amp;_Photo</th>\n",
       "      <th>salesRank_Cell_Phones_&amp;_Accessories</th>\n",
       "      <th>salesRank_Clothing</th>\n",
       "      <th>...</th>\n",
       "      <th>salesRank_Office_Products</th>\n",
       "      <th>salesRank_Patio,_Lawn_&amp;_Garden</th>\n",
       "      <th>salesRank_Pet_Supplies</th>\n",
       "      <th>salesRank_Shoes</th>\n",
       "      <th>salesRank_Software</th>\n",
       "      <th>salesRank_Sports_&amp;_Outdoors</th>\n",
       "      <th>salesRank_Toys_&amp;_Games</th>\n",
       "      <th>salesRank_Video_Games</th>\n",
       "      <th>salesRank_Watches</th>\n",
       "      <th>title</th>\n",
       "    </tr>\n",
       "  </thead>\n",
       "  <tbody>\n",
       "    <tr>\n",
       "      <th>0</th>\n",
       "      <td>0132793040</td>\n",
       "      <td>The Kelby Training DVD Mastering Blend Modes i...</td>\n",
       "      <td>http://ecx.images-amazon.com/images/I/31JIPhp%...</td>\n",
       "      <td>NaN</td>\n",
       "      <td>NaN</td>\n",
       "      <td>NaN</td>\n",
       "      <td>NaN</td>\n",
       "      <td>NaN</td>\n",
       "      <td>NaN</td>\n",
       "      <td>NaN</td>\n",
       "      <td>...</td>\n",
       "      <td>NaN</td>\n",
       "      <td>NaN</td>\n",
       "      <td>NaN</td>\n",
       "      <td>NaN</td>\n",
       "      <td>NaN</td>\n",
       "      <td>NaN</td>\n",
       "      <td>NaN</td>\n",
       "      <td>NaN</td>\n",
       "      <td>NaN</td>\n",
       "      <td>Kelby Training DVD: Mastering Blend Modes in A...</td>\n",
       "    </tr>\n",
       "    <tr>\n",
       "      <th>1</th>\n",
       "      <td>0321732944</td>\n",
       "      <td>NaN</td>\n",
       "      <td>http://ecx.images-amazon.com/images/I/31uogm6Y...</td>\n",
       "      <td>NaN</td>\n",
       "      <td>NaN</td>\n",
       "      <td>NaN</td>\n",
       "      <td>NaN</td>\n",
       "      <td>NaN</td>\n",
       "      <td>NaN</td>\n",
       "      <td>NaN</td>\n",
       "      <td>...</td>\n",
       "      <td>NaN</td>\n",
       "      <td>NaN</td>\n",
       "      <td>NaN</td>\n",
       "      <td>NaN</td>\n",
       "      <td>NaN</td>\n",
       "      <td>NaN</td>\n",
       "      <td>NaN</td>\n",
       "      <td>NaN</td>\n",
       "      <td>NaN</td>\n",
       "      <td>Kelby Training DVD: Adobe Photoshop CS5 Crash ...</td>\n",
       "    </tr>\n",
       "  </tbody>\n",
       "</table>\n",
       "<p>2 rows × 32 columns</p>\n",
       "</div>"
      ],
      "text/plain": [
       "         asin                                        description  \\\n",
       "0  0132793040  The Kelby Training DVD Mastering Blend Modes i...   \n",
       "1  0321732944                                                NaN   \n",
       "\n",
       "                                               imUrl  \\\n",
       "0  http://ecx.images-amazon.com/images/I/31JIPhp%...   \n",
       "1  http://ecx.images-amazon.com/images/I/31uogm6Y...   \n",
       "\n",
       "   salesRank_Arts,_Crafts_&_Sewing  salesRank_Automotive  salesRank_Baby  \\\n",
       "0                              NaN                   NaN             NaN   \n",
       "1                              NaN                   NaN             NaN   \n",
       "\n",
       "   salesRank_Beauty  salesRank_Camera_&_Photo  \\\n",
       "0               NaN                       NaN   \n",
       "1               NaN                       NaN   \n",
       "\n",
       "   salesRank_Cell_Phones_&_Accessories  salesRank_Clothing  \\\n",
       "0                                  NaN                 NaN   \n",
       "1                                  NaN                 NaN   \n",
       "\n",
       "                         ...                          \\\n",
       "0                        ...                           \n",
       "1                        ...                           \n",
       "\n",
       "   salesRank_Office_Products  salesRank_Patio,_Lawn_&_Garden  \\\n",
       "0                        NaN                             NaN   \n",
       "1                        NaN                             NaN   \n",
       "\n",
       "   salesRank_Pet_Supplies  salesRank_Shoes  salesRank_Software  \\\n",
       "0                     NaN              NaN                 NaN   \n",
       "1                     NaN              NaN                 NaN   \n",
       "\n",
       "   salesRank_Sports_&_Outdoors  salesRank_Toys_&_Games  salesRank_Video_Games  \\\n",
       "0                          NaN                     NaN                    NaN   \n",
       "1                          NaN                     NaN                    NaN   \n",
       "\n",
       "   salesRank_Watches                                              title  \n",
       "0                NaN  Kelby Training DVD: Mastering Blend Modes in A...  \n",
       "1                NaN  Kelby Training DVD: Adobe Photoshop CS5 Crash ...  \n",
       "\n",
       "[2 rows x 32 columns]"
      ]
     },
     "execution_count": 12,
     "metadata": {},
     "output_type": "execute_result"
    }
   ],
   "source": [
    "meta_electronic = import_interesting_cols(\n",
    "    meta_electronic_path,\n",
    "    DUMP_FOLDER,\n",
    "    True,\n",
    "    meta_interesting_cols,\n",
    "    max_count=MAXCOUNT,\n",
    "    dropna=False)\n",
    "meta_electronic.head(2)"
   ]
  },
  {
   "cell_type": "markdown",
   "metadata": {
    "heading_collapsed": true
   },
   "source": [
    "### Review"
   ]
  },
  {
   "cell_type": "code",
   "execution_count": 13,
   "metadata": {
    "hidden": true
   },
   "outputs": [
    {
     "name": "stdout",
     "output_type": "stream",
     "text": [
      "Retrieving from : ../../Project-Data/dump/reviews_Electronics_asin_overall_unixReviewTime_ALL\n",
      "It took 00:00:00.788 to import the data.\n"
     ]
    },
    {
     "data": {
      "text/html": [
       "<div>\n",
       "<style>\n",
       "    .dataframe thead tr:only-child th {\n",
       "        text-align: right;\n",
       "    }\n",
       "\n",
       "    .dataframe thead th {\n",
       "        text-align: left;\n",
       "    }\n",
       "\n",
       "    .dataframe tbody tr th {\n",
       "        vertical-align: top;\n",
       "    }\n",
       "</style>\n",
       "<table border=\"1\" class=\"dataframe\">\n",
       "  <thead>\n",
       "    <tr style=\"text-align: right;\">\n",
       "      <th></th>\n",
       "      <th>asin</th>\n",
       "      <th>overall</th>\n",
       "      <th>unixReviewTime</th>\n",
       "    </tr>\n",
       "  </thead>\n",
       "  <tbody>\n",
       "    <tr>\n",
       "      <th>0</th>\n",
       "      <td>0132793040</td>\n",
       "      <td>5.0</td>\n",
       "      <td>2013-04-13</td>\n",
       "    </tr>\n",
       "    <tr>\n",
       "      <th>1</th>\n",
       "      <td>0321732944</td>\n",
       "      <td>5.0</td>\n",
       "      <td>2012-07-01</td>\n",
       "    </tr>\n",
       "    <tr>\n",
       "      <th>2</th>\n",
       "      <td>0439886341</td>\n",
       "      <td>1.0</td>\n",
       "      <td>2013-04-29</td>\n",
       "    </tr>\n",
       "    <tr>\n",
       "      <th>3</th>\n",
       "      <td>0439886341</td>\n",
       "      <td>3.0</td>\n",
       "      <td>2013-07-22</td>\n",
       "    </tr>\n",
       "    <tr>\n",
       "      <th>4</th>\n",
       "      <td>0439886341</td>\n",
       "      <td>1.0</td>\n",
       "      <td>2012-04-18</td>\n",
       "    </tr>\n",
       "  </tbody>\n",
       "</table>\n",
       "</div>"
      ],
      "text/plain": [
       "         asin  overall unixReviewTime\n",
       "0  0132793040      5.0     2013-04-13\n",
       "1  0321732944      5.0     2012-07-01\n",
       "2  0439886341      1.0     2013-04-29\n",
       "3  0439886341      3.0     2013-07-22\n",
       "4  0439886341      1.0     2012-04-18"
      ]
     },
     "execution_count": 13,
     "metadata": {},
     "output_type": "execute_result"
    }
   ],
   "source": [
    "review_electronic = import_interesting_cols(\n",
    "    review_electronic_path,\n",
    "    DUMP_FOLDER,\n",
    "    False,\n",
    "    review_interesting_cols,\n",
    "    max_count=MAXCOUNT,\n",
    "    dropna=False)\n",
    "review_electronic.head()"
   ]
  },
  {
   "cell_type": "markdown",
   "metadata": {},
   "source": [
    "# Detecting similar products\n",
    "In this section we try to obtain the products that are similar among a given category and to develop a systematic way to detect those similar products."
   ]
  },
  {
   "cell_type": "markdown",
   "metadata": {},
   "source": [
    "## Books"
   ]
  },
  {
   "cell_type": "markdown",
   "metadata": {},
   "source": [
    "### Defining the dataset to work with"
   ]
  },
  {
   "cell_type": "markdown",
   "metadata": {},
   "source": [
    "Some books are sold in different formats : hard cover, pocket, electronic, etc. Therefore in order to compare them we will focus on the title and description that are the only two attributes that should be highly similar between the two different yet similar books."
   ]
  },
  {
   "cell_type": "code",
   "execution_count": 14,
   "metadata": {
    "scrolled": false
   },
   "outputs": [
    {
     "data": {
      "text/html": [
       "<div>\n",
       "<style>\n",
       "    .dataframe thead tr:only-child th {\n",
       "        text-align: right;\n",
       "    }\n",
       "\n",
       "    .dataframe thead th {\n",
       "        text-align: left;\n",
       "    }\n",
       "\n",
       "    .dataframe tbody tr th {\n",
       "        vertical-align: top;\n",
       "    }\n",
       "</style>\n",
       "<table border=\"1\" class=\"dataframe\">\n",
       "  <thead>\n",
       "    <tr style=\"text-align: right;\">\n",
       "      <th></th>\n",
       "      <th>title</th>\n",
       "      <th>description</th>\n",
       "      <th>imUrl</th>\n",
       "    </tr>\n",
       "    <tr>\n",
       "      <th>asin</th>\n",
       "      <th></th>\n",
       "      <th></th>\n",
       "      <th></th>\n",
       "    </tr>\n",
       "  </thead>\n",
       "  <tbody>\n",
       "    <tr>\n",
       "      <th>0001055178</th>\n",
       "      <td>Master Georgie</td>\n",
       "      <td>Beryl Bainbridge seems drawn to disaster. Firs...</td>\n",
       "      <td>http://ecx.images-amazon.com/images/I/51ZSC6TK...</td>\n",
       "    </tr>\n",
       "    <tr>\n",
       "      <th>000171287X</th>\n",
       "      <td>The Berenstains' B Book (Bright &amp; Early Books)</td>\n",
       "      <td>By Stan Berenstain and Jan Berenstain, Illustr...</td>\n",
       "      <td>http://ecx.images-amazon.com/images/I/31hjUxZu...</td>\n",
       "    </tr>\n",
       "    <tr>\n",
       "      <th>000100039X</th>\n",
       "      <td>The Prophet</td>\n",
       "      <td>In a distant, timeless place, a mysterious pro...</td>\n",
       "      <td>http://ecx.images-amazon.com/images/I/81ZKLPiv...</td>\n",
       "    </tr>\n",
       "    <tr>\n",
       "      <th>0001473905</th>\n",
       "      <td>Rightly Dividing the Word</td>\n",
       "      <td>--This text refers to thePaperbackedition.</td>\n",
       "      <td>http://ecx.images-amazon.com/images/I/61KPC59B...</td>\n",
       "    </tr>\n",
       "    <tr>\n",
       "      <th>0001714538</th>\n",
       "      <td>The Berenstain Bears on the Moon (Bright and E...</td>\n",
       "      <td>PreSchool-Grade 2 A delightful tale told in rh...</td>\n",
       "      <td>http://ecx.images-amazon.com/images/I/A1zj84uC...</td>\n",
       "    </tr>\n",
       "  </tbody>\n",
       "</table>\n",
       "</div>"
      ],
      "text/plain": [
       "                                                        title  \\\n",
       "asin                                                            \n",
       "0001055178                                     Master Georgie   \n",
       "000171287X     The Berenstains' B Book (Bright & Early Books)   \n",
       "000100039X                                        The Prophet   \n",
       "0001473905                          Rightly Dividing the Word   \n",
       "0001714538  The Berenstain Bears on the Moon (Bright and E...   \n",
       "\n",
       "                                                  description  \\\n",
       "asin                                                            \n",
       "0001055178  Beryl Bainbridge seems drawn to disaster. Firs...   \n",
       "000171287X  By Stan Berenstain and Jan Berenstain, Illustr...   \n",
       "000100039X  In a distant, timeless place, a mysterious pro...   \n",
       "0001473905         --This text refers to thePaperbackedition.   \n",
       "0001714538  PreSchool-Grade 2 A delightful tale told in rh...   \n",
       "\n",
       "                                                        imUrl  \n",
       "asin                                                           \n",
       "0001055178  http://ecx.images-amazon.com/images/I/51ZSC6TK...  \n",
       "000171287X  http://ecx.images-amazon.com/images/I/31hjUxZu...  \n",
       "000100039X  http://ecx.images-amazon.com/images/I/81ZKLPiv...  \n",
       "0001473905  http://ecx.images-amazon.com/images/I/61KPC59B...  \n",
       "0001714538  http://ecx.images-amazon.com/images/I/A1zj84uC...  "
      ]
     },
     "execution_count": 14,
     "metadata": {},
     "output_type": "execute_result"
    }
   ],
   "source": [
    "core_asin = list(core_books['asin'].unique())\n",
    "\n",
    "# We delete all the rows where either the title or description is null and keep only core books\n",
    "core_meta_df = meta_books[meta_books['title'].notnull()]\n",
    "core_meta_df = core_meta_df[core_meta_df['description'].notnull()]\n",
    "core_meta_df = core_meta_df[core_meta_df['imUrl'].notnull()]\n",
    "core_meta_df = core_meta_df[core_meta_df['asin'].isin(core_asin)]\n",
    "book_desc_titles = core_meta_df[['asin','title','description','imUrl']]\n",
    "book_desc_titles = book_desc_titles.set_index(['asin'])\n",
    "book_desc_titles.head()"
   ]
  },
  {
   "cell_type": "code",
   "execution_count": 15,
   "metadata": {},
   "outputs": [
    {
     "data": {
      "text/plain": [
       "True"
      ]
     },
     "execution_count": 15,
     "metadata": {},
     "output_type": "execute_result"
    }
   ],
   "source": [
    "book_desc_titles.index.is_unique"
   ]
  },
  {
   "cell_type": "markdown",
   "metadata": {},
   "source": [
    "We first try to experiment with tf-idf weights to find common titles among books. Due to the large size of the database, this task cannot be executed on all the books, we decided to focus as suggested by the dataset on the 5-core dataset. The 5 core dataset contains only products and reviews such that reviewers and products have at least 5-reviews. This will allow us in a first analysis to reduce the number of products that we consider. Since we will need to have at least 5 reviews anyway to look at the **Herding effect**."
   ]
  },
  {
   "cell_type": "markdown",
   "metadata": {},
   "source": [
    "Let's explore a bit what the dataset contains. we have much informations (and in an heterogeneous manner) in the description. Therefore we might want to observe the name of the auhtor and the title when they are available."
   ]
  },
  {
   "cell_type": "markdown",
   "metadata": {
    "heading_collapsed": true
   },
   "source": [
    "### Locality sensitive hashing\n",
    "Based on this [article](http://dataconomy.com/2017/06/locality-sensitive-hashing-pydata/), and following the theory that can be read at the chapter 3.4 of [Mining of massive datasets by Leskovec, Rajaraman and Milliway](http://infolab.stanford.edu/~ullman/mmds/book.pdf) we will try to find similar books."
   ]
  },
  {
   "cell_type": "markdown",
   "metadata": {
    "heading_collapsed": true,
    "hidden": true
   },
   "source": [
    "#### The ```minhash```"
   ]
  },
  {
   "cell_type": "markdown",
   "metadata": {
    "hidden": true
   },
   "source": [
    "We need to detect near similar books in this large datasets. To do so we would need to compare each of the attribute of a given book with all the others which is extremely computationaly expensive. There we will use LSH. Right now the title and description of the book have variable length depending on the books. To perform LSH we would like to have a fixed length representation of the document without modifying the semantics of document similarity.\n",
    "* first we introduce the principle of shingles. A shingle of 5-gram (hence we discard the last shingle as it only consists in the $<5$ last characters of the document) e.g. is a set of all possible 5-grams in the string. "
   ]
  },
  {
   "cell_type": "code",
   "execution_count": 16,
   "metadata": {
    "collapsed": true,
    "hidden": true,
    "scrolled": false
   },
   "outputs": [],
   "source": [
    "document = \"Lorem Ipsum dolor sit amet\"\n",
    "shingles = get_shingles(document)"
   ]
  },
  {
   "cell_type": "code",
   "execution_count": 17,
   "metadata": {
    "hidden": true
   },
   "outputs": [
    {
     "data": {
      "text/plain": [
       "0.4666666666666667"
      ]
     },
     "execution_count": 17,
     "metadata": {},
     "output_type": "execute_result"
    }
   ],
   "source": [
    "other_document = 'Lorem Ipsum dolor sit amet with some extra garbage'\n",
    "other_shingles = get_shingles(other_document)\n",
    "jaccard_dist(shingles,other_shingles)"
   ]
  },
  {
   "cell_type": "markdown",
   "metadata": {
    "hidden": true
   },
   "source": [
    "Each document will still have a different number of shingles depending on its length. Therefore we wish to represent it using a *fixed length representation*. We will present now a function ```minhash``` that has a collision probability that is exactly the jaccard similarity (based on this [document](http://infolab.stanford.edu/~ullman/mmds/ch3.pdf) and following this [repo](https://github.com/mattilyra/LSH/blob/master/examples/Introduction.ipynb) . We explain this now :\n",
    "1. Suppose that the following dataframe is the boolean variable corresponding to whether or not a shingle belongs to a document\n",
    "2. the ```minhash``` of a document returns a random permutation of the rows and then the first row number it founds where the value is non 0.\n",
    "    * therefore row 1 for doc 1\n",
    "    * and row 0 for doc 2"
   ]
  },
  {
   "cell_type": "code",
   "execution_count": 18,
   "metadata": {
    "hidden": true,
    "scrolled": true
   },
   "outputs": [
    {
     "data": {
      "text/html": [
       "<div>\n",
       "<style>\n",
       "    .dataframe thead tr:only-child th {\n",
       "        text-align: right;\n",
       "    }\n",
       "\n",
       "    .dataframe thead th {\n",
       "        text-align: left;\n",
       "    }\n",
       "\n",
       "    .dataframe tbody tr th {\n",
       "        vertical-align: top;\n",
       "    }\n",
       "</style>\n",
       "<table border=\"1\" class=\"dataframe\">\n",
       "  <thead>\n",
       "    <tr style=\"text-align: right;\">\n",
       "      <th></th>\n",
       "      <th>doc1</th>\n",
       "      <th>doc2</th>\n",
       "      <th>shingleID</th>\n",
       "    </tr>\n",
       "  </thead>\n",
       "  <tbody>\n",
       "    <tr>\n",
       "      <th>0</th>\n",
       "      <td>0</td>\n",
       "      <td>1</td>\n",
       "      <td>1</td>\n",
       "    </tr>\n",
       "    <tr>\n",
       "      <th>1</th>\n",
       "      <td>1</td>\n",
       "      <td>1</td>\n",
       "      <td>2</td>\n",
       "    </tr>\n",
       "    <tr>\n",
       "      <th>2</th>\n",
       "      <td>0</td>\n",
       "      <td>1</td>\n",
       "      <td>3</td>\n",
       "    </tr>\n",
       "    <tr>\n",
       "      <th>3</th>\n",
       "      <td>0</td>\n",
       "      <td>0</td>\n",
       "      <td>4</td>\n",
       "    </tr>\n",
       "    <tr>\n",
       "      <th>4</th>\n",
       "      <td>1</td>\n",
       "      <td>1</td>\n",
       "      <td>5</td>\n",
       "    </tr>\n",
       "    <tr>\n",
       "      <th>5</th>\n",
       "      <td>1</td>\n",
       "      <td>0</td>\n",
       "      <td>6</td>\n",
       "    </tr>\n",
       "  </tbody>\n",
       "</table>\n",
       "</div>"
      ],
      "text/plain": [
       "   doc1  doc2  shingleID\n",
       "0     0     1          1\n",
       "1     1     1          2\n",
       "2     0     1          3\n",
       "3     0     0          4\n",
       "4     1     1          5\n",
       "5     1     0          6"
      ]
     },
     "execution_count": 18,
     "metadata": {},
     "output_type": "execute_result"
    }
   ],
   "source": [
    "ex_minhash = pd.DataFrame({'shingleID':[1,2,3,4,5,6],'doc1':[0,1,0,0,1,1],'doc2':[1,1,1,0,1,0]})\n",
    "ex_minhash"
   ]
  },
  {
   "cell_type": "markdown",
   "metadata": {
    "hidden": true
   },
   "source": [
    "But this is for this particular permutation, if we had another one like below then the ```minhash``` would return :\n",
    "   * row 2 for doc1\n",
    "   * row 1 for doc2\n",
    "\n",
    "There are a lot of such permutations. Nevertheless we only care about having the same row for each document which mean we have collision of the ```minhash```. Therefore we have only two rows for which this happens : $\\text{shingleID} \\in \\{2,5\\}$. Hence the probability that the two doc have the same ```minhash``` (remmember that rows with two zeros do not count as they are not considered by ```minhash```) is the number of rows where both doc value is 1 divided by the number of rows where they are different : $\\frac{2}{5}$"
   ]
  },
  {
   "cell_type": "code",
   "execution_count": 19,
   "metadata": {
    "hidden": true
   },
   "outputs": [
    {
     "data": {
      "text/html": [
       "<div>\n",
       "<style>\n",
       "    .dataframe thead tr:only-child th {\n",
       "        text-align: right;\n",
       "    }\n",
       "\n",
       "    .dataframe thead th {\n",
       "        text-align: left;\n",
       "    }\n",
       "\n",
       "    .dataframe tbody tr th {\n",
       "        vertical-align: top;\n",
       "    }\n",
       "</style>\n",
       "<table border=\"1\" class=\"dataframe\">\n",
       "  <thead>\n",
       "    <tr style=\"text-align: right;\">\n",
       "      <th></th>\n",
       "      <th>doc1</th>\n",
       "      <th>doc2</th>\n",
       "      <th>shingleID</th>\n",
       "    </tr>\n",
       "  </thead>\n",
       "  <tbody>\n",
       "    <tr>\n",
       "      <th>0</th>\n",
       "      <td>0</td>\n",
       "      <td>1</td>\n",
       "      <td>1</td>\n",
       "    </tr>\n",
       "    <tr>\n",
       "      <th>1</th>\n",
       "      <td>1</td>\n",
       "      <td>1</td>\n",
       "      <td>2</td>\n",
       "    </tr>\n",
       "    <tr>\n",
       "      <th>5</th>\n",
       "      <td>1</td>\n",
       "      <td>0</td>\n",
       "      <td>6</td>\n",
       "    </tr>\n",
       "    <tr>\n",
       "      <th>3</th>\n",
       "      <td>0</td>\n",
       "      <td>0</td>\n",
       "      <td>4</td>\n",
       "    </tr>\n",
       "    <tr>\n",
       "      <th>2</th>\n",
       "      <td>0</td>\n",
       "      <td>1</td>\n",
       "      <td>3</td>\n",
       "    </tr>\n",
       "    <tr>\n",
       "      <th>4</th>\n",
       "      <td>1</td>\n",
       "      <td>1</td>\n",
       "      <td>5</td>\n",
       "    </tr>\n",
       "  </tbody>\n",
       "</table>\n",
       "</div>"
      ],
      "text/plain": [
       "   doc1  doc2  shingleID\n",
       "0     0     1          1\n",
       "1     1     1          2\n",
       "5     1     0          6\n",
       "3     0     0          4\n",
       "2     0     1          3\n",
       "4     1     1          5"
      ]
     },
     "execution_count": 19,
     "metadata": {},
     "output_type": "execute_result"
    }
   ],
   "source": [
    "ex_minhash.sample(frac=1)"
   ]
  },
  {
   "cell_type": "markdown",
   "metadata": {
    "hidden": true
   },
   "source": [
    "We can chose the length of the fingerprint that is returned by the ```minhash```, as we increase the length we get less variance from the random initialisation of the ```minhasher``` but this also greatly increases the memory usage."
   ]
  },
  {
   "cell_type": "markdown",
   "metadata": {
    "heading_collapsed": true,
    "hidden": true
   },
   "source": [
    "#### The principle of LSH"
   ]
  },
  {
   "cell_type": "code",
   "execution_count": 20,
   "metadata": {
    "hidden": true
   },
   "outputs": [
    {
     "data": {
      "text/plain": [
       "100"
      ]
     },
     "execution_count": 20,
     "metadata": {},
     "output_type": "execute_result"
    }
   ],
   "source": [
    "from lsh import minhash\n",
    "hasher = minhash.MinHasher(seeds=100, char_ngram=5)\n",
    "fingerprint0 = hasher.fingerprint('Lorem Ipsum dolor sit amet'.encode('utf8'))\n",
    "len(fingerprint0)"
   ]
  },
  {
   "cell_type": "markdown",
   "metadata": {
    "hidden": true
   },
   "source": [
    "Therefore the hash of a document is composed of a given (```seeds```) number of ```minhashes```. We divide this number of ```minhashes``` into a given number of parts (e.g. 5). Since every single ```minhash``` has the jaccard similarity probability of collision then each of the 5 parts will have this probability as well. These parts represent the **locality** in the term LSH.\n",
    "\n",
    "Then we hash the content of each part using a different hash function to obtain the *binID* that represents the **hashing** part of the method. Into each bin with *binID* we store the entire fingerprint of the document.\n",
    "\n",
    "The idea is then that we compare documents that fall in the same bins : we will compare their fingerprint which is equivalent to looking at their Jaccard similarity between shingle sets. Since not all documents will fall into the same bins we have reduced the number of potential candidates.\n",
    "\n",
    "Indeed we call :\n",
    "* ```seeds``` :  number of ```minihashes``` that compose the fingerprint\n",
    "* ```bands``` : the number of bins that we want to use"
   ]
  },
  {
   "cell_type": "markdown",
   "metadata": {
    "heading_collapsed": true,
    "hidden": true
   },
   "source": [
    "#### Finding candidate duplicates"
   ]
  },
  {
   "cell_type": "code",
   "execution_count": 21,
   "metadata": {
    "hidden": true
   },
   "outputs": [
    {
     "data": {
      "text/html": [
       "<div>\n",
       "<style>\n",
       "    .dataframe thead tr:only-child th {\n",
       "        text-align: right;\n",
       "    }\n",
       "\n",
       "    .dataframe thead th {\n",
       "        text-align: left;\n",
       "    }\n",
       "\n",
       "    .dataframe tbody tr th {\n",
       "        vertical-align: top;\n",
       "    }\n",
       "</style>\n",
       "<table border=\"1\" class=\"dataframe\">\n",
       "  <thead>\n",
       "    <tr style=\"text-align: right;\">\n",
       "      <th></th>\n",
       "      <th>title</th>\n",
       "      <th>description</th>\n",
       "      <th>imUrl</th>\n",
       "    </tr>\n",
       "    <tr>\n",
       "      <th>asin</th>\n",
       "      <th></th>\n",
       "      <th></th>\n",
       "      <th></th>\n",
       "    </tr>\n",
       "  </thead>\n",
       "  <tbody>\n",
       "    <tr>\n",
       "      <th>0001055178</th>\n",
       "      <td>Master Georgie</td>\n",
       "      <td>Beryl Bainbridge seems drawn to disaster. Firs...</td>\n",
       "      <td>http://ecx.images-amazon.com/images/I/51ZSC6TK...</td>\n",
       "    </tr>\n",
       "    <tr>\n",
       "      <th>000171287X</th>\n",
       "      <td>The Berenstains' B Book (Bright &amp; Early Books)</td>\n",
       "      <td>By Stan Berenstain and Jan Berenstain, Illustr...</td>\n",
       "      <td>http://ecx.images-amazon.com/images/I/31hjUxZu...</td>\n",
       "    </tr>\n",
       "    <tr>\n",
       "      <th>000100039X</th>\n",
       "      <td>The Prophet</td>\n",
       "      <td>In a distant, timeless place, a mysterious pro...</td>\n",
       "      <td>http://ecx.images-amazon.com/images/I/81ZKLPiv...</td>\n",
       "    </tr>\n",
       "    <tr>\n",
       "      <th>0001473905</th>\n",
       "      <td>Rightly Dividing the Word</td>\n",
       "      <td>--This text refers to thePaperbackedition.</td>\n",
       "      <td>http://ecx.images-amazon.com/images/I/61KPC59B...</td>\n",
       "    </tr>\n",
       "    <tr>\n",
       "      <th>0001714538</th>\n",
       "      <td>The Berenstain Bears on the Moon (Bright and E...</td>\n",
       "      <td>PreSchool-Grade 2 A delightful tale told in rh...</td>\n",
       "      <td>http://ecx.images-amazon.com/images/I/A1zj84uC...</td>\n",
       "    </tr>\n",
       "  </tbody>\n",
       "</table>\n",
       "</div>"
      ],
      "text/plain": [
       "                                                        title  \\\n",
       "asin                                                            \n",
       "0001055178                                     Master Georgie   \n",
       "000171287X     The Berenstains' B Book (Bright & Early Books)   \n",
       "000100039X                                        The Prophet   \n",
       "0001473905                          Rightly Dividing the Word   \n",
       "0001714538  The Berenstain Bears on the Moon (Bright and E...   \n",
       "\n",
       "                                                  description  \\\n",
       "asin                                                            \n",
       "0001055178  Beryl Bainbridge seems drawn to disaster. Firs...   \n",
       "000171287X  By Stan Berenstain and Jan Berenstain, Illustr...   \n",
       "000100039X  In a distant, timeless place, a mysterious pro...   \n",
       "0001473905         --This text refers to thePaperbackedition.   \n",
       "0001714538  PreSchool-Grade 2 A delightful tale told in rh...   \n",
       "\n",
       "                                                        imUrl  \n",
       "asin                                                           \n",
       "0001055178  http://ecx.images-amazon.com/images/I/51ZSC6TK...  \n",
       "000171287X  http://ecx.images-amazon.com/images/I/31hjUxZu...  \n",
       "000100039X  http://ecx.images-amazon.com/images/I/81ZKLPiv...  \n",
       "0001473905  http://ecx.images-amazon.com/images/I/61KPC59B...  \n",
       "0001714538  http://ecx.images-amazon.com/images/I/A1zj84uC...  "
      ]
     },
     "execution_count": 21,
     "metadata": {},
     "output_type": "execute_result"
    }
   ],
   "source": [
    "book_desc_titles.head()"
   ]
  },
  {
   "cell_type": "code",
   "execution_count": 22,
   "metadata": {
    "hidden": true
   },
   "outputs": [
    {
     "name": "stdout",
     "output_type": "stream",
     "text": [
      "Retrieving from : ../../Project-Data/dump/candidate_dup_title_2_100_5_4\n",
      "Found 6194 items with possible duplicates.\n"
     ]
    }
   ],
   "source": [
    "dump_path = DUMP_FOLDER\n",
    "get_candidate = candidate_duplicates(book_desc_titles,dump_path,['title'])"
   ]
  },
  {
   "cell_type": "code",
   "execution_count": 23,
   "metadata": {
    "hidden": true,
    "scrolled": true
   },
   "outputs": [
    {
     "name": "stdout",
     "output_type": "stream",
     "text": [
      "['Shock Totem 4: Curious Tales of the Macabre and Twisted', 'Shock Totem 2: Curious Tales of the Macabre and Twisted', 'Shock Totem 3: Curious Tales of the Macabre and Twisted', 'Shock Totem 1: Curious Tales of the Macabre and Twisted']\n",
      "['\"There is a fine array of stories, but what is perhaps most striking is the high quality of the non-fiction pieces.  The interviews, essays, and  columns, are extremely well done.  They are mini works of art in themselves.\" --Sheila Merritt,Hellnotes', '\"Don\\'t write offShock Totemas just another \\'new fiend on the block\\', \\'cause this is one horror \\'zine that\\'s the real deal, without a doubt! Stories that disturb, nonfiction that entices the reader to dig deeper into the topic at hand...count me in as a big fan.Shock Totemrocks.\" --James Newman, author ofAnimosityandMidnight Rain', '\"Fans of horror stories, pounce uponShock Totemmagazine. Fine new stuff!\" --Jack Ketchum, author ofOffspring,Peaceable KingdomandThe Woman(withLucky McKee)', '\"With content that is originally pure, uncut, a blast to my system, and unlike any other horror-mag out there,Shock Totemis the perfect fix I need for my macabre fiction addiction.\" --Jeremy Wagner, authorThe Armageddon Chord']\n"
     ]
    },
    {
     "data": {
      "text/html": [
       "<img src=\"http://ecx.images-amazon.com/images/I/51dtG2C-IGL.jpg\"/>"
      ],
      "text/plain": [
       "<IPython.core.display.Image object>"
      ]
     },
     "metadata": {},
     "output_type": "display_data"
    },
    {
     "data": {
      "text/html": [
       "<img src=\"http://ecx.images-amazon.com/images/I/81QkcgvssNL.jpg\"/>"
      ],
      "text/plain": [
       "<IPython.core.display.Image object>"
      ]
     },
     "metadata": {},
     "output_type": "display_data"
    },
    {
     "data": {
      "text/html": [
       "<img src=\"http://ecx.images-amazon.com/images/I/41CAkbNEr%2BL.jpg\"/>"
      ],
      "text/plain": [
       "<IPython.core.display.Image object>"
      ]
     },
     "metadata": {},
     "output_type": "display_data"
    },
    {
     "data": {
      "text/html": [
       "<img src=\"http://ecx.images-amazon.com/images/I/512WqbOS0%2BL.jpg\"/>"
      ],
      "text/plain": [
       "<IPython.core.display.Image object>"
      ]
     },
     "metadata": {},
     "output_type": "display_data"
    }
   ],
   "source": [
    "# Let's quickly oberve the type of data that we obtain\n",
    "element_to_inspect = 67\n",
    "similarity_keys = list(get_candidate.keys())\n",
    "print(get_titles(similarity_keys[element_to_inspect],get_candidate,book_desc_titles))\n",
    "print(get_desc(similarity_keys[element_to_inspect],get_candidate,book_desc_titles))\n",
    "display_images(similarity_keys[element_to_inspect],get_candidate,book_desc_titles)"
   ]
  },
  {
   "cell_type": "markdown",
   "metadata": {
    "hidden": true
   },
   "source": [
    "We can see that the books can greatly vary eventhough they have the same title. Also it seems hard to extract any meaningful data from their description therefore we need to use the Amazon API to try to get the data we are looking for."
   ]
  },
  {
   "cell_type": "code",
   "execution_count": null,
   "metadata": {
    "collapsed": true,
    "hidden": true
   },
   "outputs": [],
   "source": []
  },
  {
   "cell_type": "markdown",
   "metadata": {},
   "source": [
    "### Refining our candidates"
   ]
  },
  {
   "cell_type": "markdown",
   "metadata": {},
   "source": [
    "#### Using Amazon API to obtain more data about our products\n",
    "Because of the heterogeneous nature of the data in description we use Amazon API to obtain consistent informations like the name of authors, ISBN etc..."
   ]
  },
  {
   "cell_type": "markdown",
   "metadata": {},
   "source": [
    "We use a [wrapper](https://pypi.python.org/pypi/python-amazon-simple-product-api) of the amazon API and the documentation can be found [here](http://pythonhosted.org/python-amazon-simple-product-api/).\n",
    "\n",
    "Also note that given the ASIN of a product one can access the page of the product using one of the two following addresses:\n",
    "* ```https://www.amazon.co.uk/dp/<ASIN>/```\n",
    "* ```https://www.amazon.com/dp/<ASIN>/```"
   ]
  },
  {
   "cell_type": "code",
   "execution_count": 24,
   "metadata": {
    "scrolled": true
   },
   "outputs": [
    {
     "data": {
      "text/html": [
       "<div>\n",
       "<style>\n",
       "    .dataframe thead tr:only-child th {\n",
       "        text-align: right;\n",
       "    }\n",
       "\n",
       "    .dataframe thead th {\n",
       "        text-align: left;\n",
       "    }\n",
       "\n",
       "    .dataframe tbody tr th {\n",
       "        vertical-align: top;\n",
       "    }\n",
       "</style>\n",
       "<table border=\"1\" class=\"dataframe\">\n",
       "  <thead>\n",
       "    <tr style=\"text-align: right;\">\n",
       "      <th></th>\n",
       "      <th>title</th>\n",
       "      <th>description</th>\n",
       "      <th>imUrl</th>\n",
       "    </tr>\n",
       "    <tr>\n",
       "      <th>asin</th>\n",
       "      <th></th>\n",
       "      <th></th>\n",
       "      <th></th>\n",
       "    </tr>\n",
       "  </thead>\n",
       "  <tbody>\n",
       "    <tr>\n",
       "      <th>0001055178</th>\n",
       "      <td>Master Georgie</td>\n",
       "      <td>Beryl Bainbridge seems drawn to disaster. Firs...</td>\n",
       "      <td>http://ecx.images-amazon.com/images/I/51ZSC6TK...</td>\n",
       "    </tr>\n",
       "    <tr>\n",
       "      <th>000171287X</th>\n",
       "      <td>The Berenstains' B Book (Bright &amp; Early Books)</td>\n",
       "      <td>By Stan Berenstain and Jan Berenstain, Illustr...</td>\n",
       "      <td>http://ecx.images-amazon.com/images/I/31hjUxZu...</td>\n",
       "    </tr>\n",
       "    <tr>\n",
       "      <th>000100039X</th>\n",
       "      <td>The Prophet</td>\n",
       "      <td>In a distant, timeless place, a mysterious pro...</td>\n",
       "      <td>http://ecx.images-amazon.com/images/I/81ZKLPiv...</td>\n",
       "    </tr>\n",
       "    <tr>\n",
       "      <th>0001473905</th>\n",
       "      <td>Rightly Dividing the Word</td>\n",
       "      <td>--This text refers to thePaperbackedition.</td>\n",
       "      <td>http://ecx.images-amazon.com/images/I/61KPC59B...</td>\n",
       "    </tr>\n",
       "    <tr>\n",
       "      <th>0001714538</th>\n",
       "      <td>The Berenstain Bears on the Moon (Bright and E...</td>\n",
       "      <td>PreSchool-Grade 2 A delightful tale told in rh...</td>\n",
       "      <td>http://ecx.images-amazon.com/images/I/A1zj84uC...</td>\n",
       "    </tr>\n",
       "  </tbody>\n",
       "</table>\n",
       "</div>"
      ],
      "text/plain": [
       "                                                        title  \\\n",
       "asin                                                            \n",
       "0001055178                                     Master Georgie   \n",
       "000171287X     The Berenstains' B Book (Bright & Early Books)   \n",
       "000100039X                                        The Prophet   \n",
       "0001473905                          Rightly Dividing the Word   \n",
       "0001714538  The Berenstain Bears on the Moon (Bright and E...   \n",
       "\n",
       "                                                  description  \\\n",
       "asin                                                            \n",
       "0001055178  Beryl Bainbridge seems drawn to disaster. Firs...   \n",
       "000171287X  By Stan Berenstain and Jan Berenstain, Illustr...   \n",
       "000100039X  In a distant, timeless place, a mysterious pro...   \n",
       "0001473905         --This text refers to thePaperbackedition.   \n",
       "0001714538  PreSchool-Grade 2 A delightful tale told in rh...   \n",
       "\n",
       "                                                        imUrl  \n",
       "asin                                                           \n",
       "0001055178  http://ecx.images-amazon.com/images/I/51ZSC6TK...  \n",
       "000171287X  http://ecx.images-amazon.com/images/I/31hjUxZu...  \n",
       "000100039X  http://ecx.images-amazon.com/images/I/81ZKLPiv...  \n",
       "0001473905  http://ecx.images-amazon.com/images/I/61KPC59B...  \n",
       "0001714538  http://ecx.images-amazon.com/images/I/A1zj84uC...  "
      ]
     },
     "execution_count": 24,
     "metadata": {},
     "output_type": "execute_result"
    }
   ],
   "source": [
    "book_desc_titles.head()"
   ]
  },
  {
   "cell_type": "code",
   "execution_count": 29,
   "metadata": {
    "scrolled": true
   },
   "outputs": [
    {
     "name": "stdout",
     "output_type": "stream",
     "text": [
      "Retrieving from : \n",
      "\t../../Project-Data/dump/book_only_candidates_with_details\n",
      "\t../../Project-Data/dump/api_failed \n",
      "It took 00:00:00.055 to get the data.\n"
     ]
    }
   ],
   "source": [
    "amazon_access_file_path = DUMP_FOLDER + \"amazon_access\"\n",
    "book_only_candidates,failed = fill_in_with_details(book_desc_titles,amazon_access_file_path,get_candidate,DUMP_FOLDER)"
   ]
  },
  {
   "cell_type": "code",
   "execution_count": 30,
   "metadata": {},
   "outputs": [
    {
     "data": {
      "text/plain": [
       "10761"
      ]
     },
     "execution_count": 30,
     "metadata": {},
     "output_type": "execute_result"
    }
   ],
   "source": [
    "len(book_only_candidates[book_only_candidates['authors'].notnull()].index)"
   ]
  },
  {
   "cell_type": "markdown",
   "metadata": {},
   "source": [
    "We will therefore look at the author in the API of amazon. We will match books depending on if the authors are identical. Because we do not want to crawl the API too many times we will do it for all the items that are the dictionnary ```get_candidate``` (either as key or in the value list). One must be careful because if some ASIN couldn't be resolved then they won't provide any information in the dataframe."
   ]
  },
  {
   "cell_type": "markdown",
   "metadata": {},
   "source": [
    "#### Refining the candidate similars based on authors\n",
    "We will now use the details we obtain from the API to refine the candidate similars."
   ]
  },
  {
   "cell_type": "code",
   "execution_count": 31,
   "metadata": {},
   "outputs": [
    {
     "data": {
      "text/html": [
       "<div>\n",
       "<style>\n",
       "    .dataframe thead tr:only-child th {\n",
       "        text-align: right;\n",
       "    }\n",
       "\n",
       "    .dataframe thead th {\n",
       "        text-align: left;\n",
       "    }\n",
       "\n",
       "    .dataframe tbody tr th {\n",
       "        vertical-align: top;\n",
       "    }\n",
       "</style>\n",
       "<table border=\"1\" class=\"dataframe\">\n",
       "  <thead>\n",
       "    <tr style=\"text-align: right;\">\n",
       "      <th></th>\n",
       "      <th>title</th>\n",
       "      <th>description</th>\n",
       "      <th>imUrl</th>\n",
       "      <th>authors</th>\n",
       "      <th>isbn</th>\n",
       "      <th>eisbn</th>\n",
       "      <th>brand</th>\n",
       "      <th>edition</th>\n",
       "      <th>publisher</th>\n",
       "    </tr>\n",
       "    <tr>\n",
       "      <th>asin</th>\n",
       "      <th></th>\n",
       "      <th></th>\n",
       "      <th></th>\n",
       "      <th></th>\n",
       "      <th></th>\n",
       "      <th></th>\n",
       "      <th></th>\n",
       "      <th></th>\n",
       "      <th></th>\n",
       "    </tr>\n",
       "  </thead>\n",
       "  <tbody>\n",
       "    <tr>\n",
       "      <th>000100039X</th>\n",
       "      <td>The Prophet</td>\n",
       "      <td>In a distant, timeless place, a mysterious pro...</td>\n",
       "      <td>http://ecx.images-amazon.com/images/I/81ZKLPiv...</td>\n",
       "      <td>[Tester Gregg]</td>\n",
       "      <td>000100039X</td>\n",
       "      <td>None</td>\n",
       "      <td>None</td>\n",
       "      <td>None</td>\n",
       "      <td>Rupa &amp; Co</td>\n",
       "    </tr>\n",
       "    <tr>\n",
       "      <th>0001473123</th>\n",
       "      <td>The Book of Revelation</td>\n",
       "      <td>American Baptist pastor, Bible teacher, and wr...</td>\n",
       "      <td>http://ecx.images-amazon.com/images/I/317G8R2T...</td>\n",
       "      <td>[Clarence Larkin]</td>\n",
       "      <td>0001473123</td>\n",
       "      <td>None</td>\n",
       "      <td>None</td>\n",
       "      <td>None</td>\n",
       "      <td>Rev Clarence Larkin Estate</td>\n",
       "    </tr>\n",
       "    <tr>\n",
       "      <th>0002222590</th>\n",
       "      <td>The Golden Gate</td>\n",
       "      <td>'Startlingly good...tense...ingenious' Sunday ...</td>\n",
       "      <td>http://ecx.images-amazon.com/images/I/51RjrfZe...</td>\n",
       "      <td>[Alistair MacLean]</td>\n",
       "      <td>0002222590</td>\n",
       "      <td>None</td>\n",
       "      <td>Brand: HarperCollins Publishers Ltd</td>\n",
       "      <td>First Edition</td>\n",
       "      <td>HarperCollins Publishers Ltd</td>\n",
       "    </tr>\n",
       "    <tr>\n",
       "      <th>0006176909</th>\n",
       "      <td>House of Cards</td>\n",
       "      <td>'This blood-and-thunder tale, lifelike and tho...</td>\n",
       "      <td>http://ecx.images-amazon.com/images/I/71IaEyKy...</td>\n",
       "      <td>[Michael Dobbs]</td>\n",
       "      <td>0006176909</td>\n",
       "      <td>None</td>\n",
       "      <td>Brand: Fontana Collins</td>\n",
       "      <td>New Ed</td>\n",
       "      <td>HarperCollins Publishers Ltd</td>\n",
       "    </tr>\n",
       "    <tr>\n",
       "      <th>0006175015</th>\n",
       "      <td>Bloodline</td>\n",
       "      <td>'Absorbing and eminently well-crafted.' New Yo...</td>\n",
       "      <td>http://ecx.images-amazon.com/images/I/41rLB80O...</td>\n",
       "      <td>[Sidney Sheldon]</td>\n",
       "      <td>0006175015</td>\n",
       "      <td>None</td>\n",
       "      <td>Brand: HarperCollins</td>\n",
       "      <td>New Ed</td>\n",
       "      <td>HarperCollins Publishers Ltd</td>\n",
       "    </tr>\n",
       "  </tbody>\n",
       "</table>\n",
       "</div>"
      ],
      "text/plain": [
       "                             title  \\\n",
       "asin                                 \n",
       "000100039X             The Prophet   \n",
       "0001473123  The Book of Revelation   \n",
       "0002222590         The Golden Gate   \n",
       "0006176909          House of Cards   \n",
       "0006175015               Bloodline   \n",
       "\n",
       "                                                  description  \\\n",
       "asin                                                            \n",
       "000100039X  In a distant, timeless place, a mysterious pro...   \n",
       "0001473123  American Baptist pastor, Bible teacher, and wr...   \n",
       "0002222590  'Startlingly good...tense...ingenious' Sunday ...   \n",
       "0006176909  'This blood-and-thunder tale, lifelike and tho...   \n",
       "0006175015  'Absorbing and eminently well-crafted.' New Yo...   \n",
       "\n",
       "                                                        imUrl  \\\n",
       "asin                                                            \n",
       "000100039X  http://ecx.images-amazon.com/images/I/81ZKLPiv...   \n",
       "0001473123  http://ecx.images-amazon.com/images/I/317G8R2T...   \n",
       "0002222590  http://ecx.images-amazon.com/images/I/51RjrfZe...   \n",
       "0006176909  http://ecx.images-amazon.com/images/I/71IaEyKy...   \n",
       "0006175015  http://ecx.images-amazon.com/images/I/41rLB80O...   \n",
       "\n",
       "                       authors        isbn eisbn  \\\n",
       "asin                                               \n",
       "000100039X      [Tester Gregg]  000100039X  None   \n",
       "0001473123   [Clarence Larkin]  0001473123  None   \n",
       "0002222590  [Alistair MacLean]  0002222590  None   \n",
       "0006176909     [Michael Dobbs]  0006176909  None   \n",
       "0006175015    [Sidney Sheldon]  0006175015  None   \n",
       "\n",
       "                                          brand        edition  \\\n",
       "asin                                                             \n",
       "000100039X                                 None           None   \n",
       "0001473123                                 None           None   \n",
       "0002222590  Brand: HarperCollins Publishers Ltd  First Edition   \n",
       "0006176909               Brand: Fontana Collins         New Ed   \n",
       "0006175015                 Brand: HarperCollins         New Ed   \n",
       "\n",
       "                               publisher  \n",
       "asin                                      \n",
       "000100039X                     Rupa & Co  \n",
       "0001473123    Rev Clarence Larkin Estate  \n",
       "0002222590  HarperCollins Publishers Ltd  \n",
       "0006176909  HarperCollins Publishers Ltd  \n",
       "0006175015  HarperCollins Publishers Ltd  "
      ]
     },
     "execution_count": 31,
     "metadata": {},
     "output_type": "execute_result"
    }
   ],
   "source": [
    "book_only_candidates.head(5)"
   ]
  },
  {
   "cell_type": "markdown",
   "metadata": {},
   "source": [
    "We saw examples were the authors list between two books were very similar but names were written differently, therefore we need to check that some typos are not in the names of authors : (e.g. ```{'Ian MacNeill', 'SportMed BC'}{'Ian MacNeil'}``` where MacNeil is written with two 'l' in the first book but only one in the second one). Therefore we will first clean the names (remove accents, nomalize it to lower case) and then try to match then using the Levenstein distance."
   ]
  },
  {
   "cell_type": "code",
   "execution_count": 32,
   "metadata": {},
   "outputs": [
    {
     "name": "stdout",
     "output_type": "stream",
     "text": [
      "We have found 1366 bins of candidate similars\n"
     ]
    }
   ],
   "source": [
    "book_only_candidates['authors'] = book_only_candidates['authors'].apply(clean_name_in_dataframe)\n",
    "similars = get_similar_authors(book_only_candidates,get_candidate,0.35)\n",
    "print(\"We have found {} bins of candidate similars\".format(len(similars.keys())))"
   ]
  },
  {
   "cell_type": "markdown",
   "metadata": {},
   "source": [
    "#### Refining the candidate similars further using the titles"
   ]
  },
  {
   "cell_type": "markdown",
   "metadata": {},
   "source": [
    "Now we might still have problems with books that have highly similar titles and authors but aren't identical. This could be explained by :\n",
    "* Different Tomes : same title but different number\n",
    "* educational books that have identical titles except for what they teach\n",
    "* simply typos or very small differences \n",
    "* many other examples \n",
    "\n",
    "Example of books that are not similar:\n",
    "```\n",
    "Adobe Dreamweaver CS3 Classroom in a Book['adobe creative team']\n",
    "Adobe Dreamweaver CS4 Classroom in a Book['adobe creative team']\n",
    "Adobe Dreamweaver CS5 Classroom in a Book['adobe creative team']\n",
    "Adobe Dreamweaver CS6 Classroom in a Book['adobe creative team']\n",
    "----------------------------------------------------------------\n",
    "Promethea, Book 3['alan moore']\n",
    "Promethea, Book 5['alan moore']\n",
    "Promethea, Book 1['alan moore', 'j. h. williams', 'mick gray']\n",
    "\n",
    "```\n",
    "\n",
    "Example of books that should be considered similar:\n",
    "``` \n",
    "'Light Science and Magic: An Introduction to Photographic Lighting'['fil hunter', 'paul fuqua', 'steven biver']\n",
    "'Light: Science and Magic: An Introduction to Photographic Lighting'['fil hunter', 'steven biver', 'paul fuqua']\n",
    "```\n",
    "\n",
    "We will therefore also need to see if the title are similar enough. We want to avoid false positive as much as possible. We are sure that we could go even further with matching names but prefer to be conservative here. Therefore we only try to normalize as much as possible the titles and see if then the titles taken as sets have an empty symmetric difference."
   ]
  },
  {
   "cell_type": "code",
   "execution_count": 35,
   "metadata": {},
   "outputs": [
    {
     "name": "stdout",
     "output_type": "stream",
     "text": [
      "promethea book 3 whatever junk\n"
     ]
    }
   ],
   "source": [
    "book_only_candidates['title'] = book_only_candidates['title'].apply(clean_title)\n",
    "print(clean_title(\"Promethea, 'Book 3' (whatever junk)\"))\n",
    "very_similars = get_similar_titles(book_only_candidates,similars)"
   ]
  },
  {
   "cell_type": "code",
   "execution_count": 36,
   "metadata": {},
   "outputs": [
    {
     "name": "stdout",
     "output_type": "stream",
     "text": [
      "We have found 786 bins of very similar books.\n",
      "We have 1611 asins for products that have at least one similar product.\n"
     ]
    }
   ],
   "source": [
    "print(\"We have found {} bins of very similar books.\".format(len(very_similars.keys())))\n",
    "very_similar_ASIN = list(very_similars.keys())\n",
    "very_similar_ASIN += [item for sublist in list(very_similars.values()) for item in sublist]\n",
    "print(\"We have {} asins for products that have at least one similar product.\".format(len(very_similar_ASIN)))"
   ]
  },
  {
   "cell_type": "markdown",
   "metadata": {},
   "source": [
    "# Testing\n",
    "*Here I put all my work in progress that didn't show any results yet but could be useful later on.*"
   ]
  }
 ],
 "metadata": {
  "kernelspec": {
   "display_name": "Python 3",
   "language": "python",
   "name": "python3"
  },
  "language_info": {
   "codemirror_mode": {
    "name": "ipython",
    "version": 3
   },
   "file_extension": ".py",
   "mimetype": "text/x-python",
   "name": "python",
   "nbconvert_exporter": "python",
   "pygments_lexer": "ipython3",
   "version": "3.6.1"
  },
  "toc": {
   "nav_menu": {},
   "number_sections": true,
   "sideBar": false,
   "skip_h1_title": false,
   "toc_cell": true,
   "toc_position": {
    "height": "512px",
    "left": "1217px",
    "right": "0px",
    "top": "106px",
    "width": "223px"
   },
   "toc_section_display": "block",
   "toc_window_display": true
  }
 },
 "nbformat": 4,
 "nbformat_minor": 2
}
