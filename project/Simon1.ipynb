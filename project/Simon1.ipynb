{
 "cells": [
  {
   "cell_type": "code",
   "execution_count": 2,
   "metadata": {
    "collapsed": true
   },
   "outputs": [],
   "source": [
    "import pandas as pd\n",
    "import numpy as np\n",
    "import sys\n",
    "import pickle\n",
    "import seaborn as sns\n",
    "\n",
    "import matplotlib.pyplot as plt\n",
    "\n",
    "ANALYSIS_DATA_FOLDER = 'analysis_data/'"
   ]
  },
  {
   "cell_type": "code",
   "execution_count": 3,
   "metadata": {
    "collapsed": true
   },
   "outputs": [],
   "source": [
    "books_df = pd.read_pickle(ANALYSIS_DATA_FOLDER + 'books')\n",
    "review_books_df = pd.read_pickle(ANALYSIS_DATA_FOLDER + 'review_books')\n",
    "very_similars = pd.read_pickle(ANALYSIS_DATA_FOLDER + 'very_similars')"
   ]
  },
  {
   "cell_type": "code",
   "execution_count": 3,
   "metadata": {},
   "outputs": [
    {
     "data": {
      "text/plain": [
       "(1611, 9)"
      ]
     },
     "execution_count": 3,
     "metadata": {},
     "output_type": "execute_result"
    }
   ],
   "source": [
    "books_df.shape"
   ]
  },
  {
   "cell_type": "code",
   "execution_count": 110,
   "metadata": {},
   "outputs": [
    {
     "data": {
      "text/html": [
       "<div>\n",
       "<style>\n",
       "    .dataframe thead tr:only-child th {\n",
       "        text-align: right;\n",
       "    }\n",
       "\n",
       "    .dataframe thead th {\n",
       "        text-align: left;\n",
       "    }\n",
       "\n",
       "    .dataframe tbody tr th {\n",
       "        vertical-align: top;\n",
       "    }\n",
       "</style>\n",
       "<table border=\"1\" class=\"dataframe\">\n",
       "  <thead>\n",
       "    <tr style=\"text-align: right;\">\n",
       "      <th></th>\n",
       "      <th>title</th>\n",
       "      <th>description</th>\n",
       "      <th>imUrl</th>\n",
       "      <th>authors</th>\n",
       "      <th>isbn</th>\n",
       "      <th>eisbn</th>\n",
       "      <th>brand</th>\n",
       "      <th>edition</th>\n",
       "      <th>publisher</th>\n",
       "    </tr>\n",
       "    <tr>\n",
       "      <th>asin</th>\n",
       "      <th></th>\n",
       "      <th></th>\n",
       "      <th></th>\n",
       "      <th></th>\n",
       "      <th></th>\n",
       "      <th></th>\n",
       "      <th></th>\n",
       "      <th></th>\n",
       "      <th></th>\n",
       "    </tr>\n",
       "  </thead>\n",
       "  <tbody>\n",
       "    <tr>\n",
       "      <th>0470769327</th>\n",
       "      <td>feng shui for dummies</td>\n",
       "      <td>Packed with up-to-date practices to bring Feng...</td>\n",
       "      <td>http://ecx.images-amazon.com/images/I/515wjGHF...</td>\n",
       "      <td>[david daniel kennedy]</td>\n",
       "      <td>0470769327</td>\n",
       "      <td>None</td>\n",
       "      <td>Brand: For Dummies</td>\n",
       "      <td>2nd Edition</td>\n",
       "      <td>John Wiley &amp; Sons</td>\n",
       "    </tr>\n",
       "    <tr>\n",
       "      <th>0767903927</th>\n",
       "      <td>instant emotional healing acupressure for the ...</td>\n",
       "      <td>Drawing on techniques ranging from focused tho...</td>\n",
       "      <td>http://ecx.images-amazon.com/images/I/51ds0tXv...</td>\n",
       "      <td>[george pratt, peter lambrou]</td>\n",
       "      <td>0767903927</td>\n",
       "      <td>None</td>\n",
       "      <td>Brand: Boadway Books</td>\n",
       "      <td>1</td>\n",
       "      <td>Harmony</td>\n",
       "    </tr>\n",
       "    <tr>\n",
       "      <th>0240802756</th>\n",
       "      <td>light science and magic an introduction to pho...</td>\n",
       "      <td>'This is the first book I have seen on photogr...</td>\n",
       "      <td>http://ecx.images-amazon.com/images/I/41OIZRCx...</td>\n",
       "      <td>[fil hunter, steven biver, paul fuqua]</td>\n",
       "      <td>0240802756</td>\n",
       "      <td>None</td>\n",
       "      <td>Brand: Focal Press</td>\n",
       "      <td>2</td>\n",
       "      <td>Focal Press</td>\n",
       "    </tr>\n",
       "    <tr>\n",
       "      <th>0743292464</th>\n",
       "      <td>the ultimate battle okinawa 1945the last epic ...</td>\n",
       "      <td>\"Bill Sloan's The Ultimate Battle is the Okina...</td>\n",
       "      <td>http://ecx.images-amazon.com/images/I/51GtzEH%...</td>\n",
       "      <td>[bill sloan]</td>\n",
       "      <td>0743292464</td>\n",
       "      <td>None</td>\n",
       "      <td>Brand: Simon n Schuster</td>\n",
       "      <td>1st Simon &amp; Schuster Hardcover Ed</td>\n",
       "      <td>S &amp; S International</td>\n",
       "    </tr>\n",
       "    <tr>\n",
       "      <th>144211892X</th>\n",
       "      <td>the voodoo hoodoo spellbook</td>\n",
       "      <td>Denise Alvarado was born and raised in the Voo...</td>\n",
       "      <td>http://ecx.images-amazon.com/images/I/51hRBd5B...</td>\n",
       "      <td>[denise alvarado]</td>\n",
       "      <td>144211892X</td>\n",
       "      <td>None</td>\n",
       "      <td>None</td>\n",
       "      <td>None</td>\n",
       "      <td>Createspace</td>\n",
       "    </tr>\n",
       "  </tbody>\n",
       "</table>\n",
       "</div>"
      ],
      "text/plain": [
       "                                                        title  \\\n",
       "asin                                                            \n",
       "0470769327                              feng shui for dummies   \n",
       "0767903927  instant emotional healing acupressure for the ...   \n",
       "0240802756  light science and magic an introduction to pho...   \n",
       "0743292464  the ultimate battle okinawa 1945the last epic ...   \n",
       "144211892X                        the voodoo hoodoo spellbook   \n",
       "\n",
       "                                                  description  \\\n",
       "asin                                                            \n",
       "0470769327  Packed with up-to-date practices to bring Feng...   \n",
       "0767903927  Drawing on techniques ranging from focused tho...   \n",
       "0240802756  'This is the first book I have seen on photogr...   \n",
       "0743292464  \"Bill Sloan's The Ultimate Battle is the Okina...   \n",
       "144211892X  Denise Alvarado was born and raised in the Voo...   \n",
       "\n",
       "                                                        imUrl  \\\n",
       "asin                                                            \n",
       "0470769327  http://ecx.images-amazon.com/images/I/515wjGHF...   \n",
       "0767903927  http://ecx.images-amazon.com/images/I/51ds0tXv...   \n",
       "0240802756  http://ecx.images-amazon.com/images/I/41OIZRCx...   \n",
       "0743292464  http://ecx.images-amazon.com/images/I/51GtzEH%...   \n",
       "144211892X  http://ecx.images-amazon.com/images/I/51hRBd5B...   \n",
       "\n",
       "                                           authors        isbn eisbn  \\\n",
       "asin                                                                   \n",
       "0470769327                  [david daniel kennedy]  0470769327  None   \n",
       "0767903927           [george pratt, peter lambrou]  0767903927  None   \n",
       "0240802756  [fil hunter, steven biver, paul fuqua]  0240802756  None   \n",
       "0743292464                            [bill sloan]  0743292464  None   \n",
       "144211892X                       [denise alvarado]  144211892X  None   \n",
       "\n",
       "                              brand                            edition  \\\n",
       "asin                                                                     \n",
       "0470769327       Brand: For Dummies                        2nd Edition   \n",
       "0767903927     Brand: Boadway Books                                  1   \n",
       "0240802756       Brand: Focal Press                                  2   \n",
       "0743292464  Brand: Simon n Schuster  1st Simon & Schuster Hardcover Ed   \n",
       "144211892X                     None                               None   \n",
       "\n",
       "                      publisher  \n",
       "asin                             \n",
       "0470769327    John Wiley & Sons  \n",
       "0767903927              Harmony  \n",
       "0240802756          Focal Press  \n",
       "0743292464  S & S International  \n",
       "144211892X          Createspace  "
      ]
     },
     "execution_count": 110,
     "metadata": {},
     "output_type": "execute_result"
    }
   ],
   "source": [
    "books_df.head()"
   ]
  },
  {
   "cell_type": "code",
   "execution_count": 111,
   "metadata": {
    "scrolled": true
   },
   "outputs": [
    {
     "data": {
      "text/plain": [
       "(132307, 3)"
      ]
     },
     "execution_count": 111,
     "metadata": {},
     "output_type": "execute_result"
    }
   ],
   "source": [
    "review_books_df.shape"
   ]
  },
  {
   "cell_type": "code",
   "execution_count": 132,
   "metadata": {
    "scrolled": true
   },
   "outputs": [
    {
     "data": {
      "text/html": [
       "<div>\n",
       "<style>\n",
       "    .dataframe thead tr:only-child th {\n",
       "        text-align: right;\n",
       "    }\n",
       "\n",
       "    .dataframe thead th {\n",
       "        text-align: left;\n",
       "    }\n",
       "\n",
       "    .dataframe tbody tr th {\n",
       "        vertical-align: top;\n",
       "    }\n",
       "</style>\n",
       "<table border=\"1\" class=\"dataframe\">\n",
       "  <thead>\n",
       "    <tr style=\"text-align: right;\">\n",
       "      <th></th>\n",
       "      <th>asin</th>\n",
       "      <th>overall</th>\n",
       "      <th>unixReviewTime</th>\n",
       "    </tr>\n",
       "  </thead>\n",
       "  <tbody>\n",
       "    <tr>\n",
       "      <th>26822</th>\n",
       "      <td>0006531237</td>\n",
       "      <td>5.0</td>\n",
       "      <td>2013-12-05</td>\n",
       "    </tr>\n",
       "    <tr>\n",
       "      <th>26823</th>\n",
       "      <td>0006531237</td>\n",
       "      <td>4.0</td>\n",
       "      <td>2011-10-30</td>\n",
       "    </tr>\n",
       "    <tr>\n",
       "      <th>26824</th>\n",
       "      <td>0006531237</td>\n",
       "      <td>5.0</td>\n",
       "      <td>2013-03-22</td>\n",
       "    </tr>\n",
       "    <tr>\n",
       "      <th>26825</th>\n",
       "      <td>0006531237</td>\n",
       "      <td>5.0</td>\n",
       "      <td>2014-01-05</td>\n",
       "    </tr>\n",
       "    <tr>\n",
       "      <th>26826</th>\n",
       "      <td>0006531237</td>\n",
       "      <td>5.0</td>\n",
       "      <td>2014-02-24</td>\n",
       "    </tr>\n",
       "  </tbody>\n",
       "</table>\n",
       "</div>"
      ],
      "text/plain": [
       "             asin  overall unixReviewTime\n",
       "26822  0006531237      5.0     2013-12-05\n",
       "26823  0006531237      4.0     2011-10-30\n",
       "26824  0006531237      5.0     2013-03-22\n",
       "26825  0006531237      5.0     2014-01-05\n",
       "26826  0006531237      5.0     2014-02-24"
      ]
     },
     "execution_count": 132,
     "metadata": {},
     "output_type": "execute_result"
    }
   ],
   "source": [
    "review_books_df.head()"
   ]
  },
  {
   "cell_type": "markdown",
   "metadata": {},
   "source": [
    "#### Distribution des notes"
   ]
  },
  {
   "cell_type": "code",
   "execution_count": 169,
   "metadata": {},
   "outputs": [
    {
     "data": {
      "text/plain": [
       "132307"
      ]
     },
     "execution_count": 169,
     "metadata": {},
     "output_type": "execute_result"
    }
   ],
   "source": [
    "review_total = len(review_books_df)\n",
    "review_total"
   ]
  },
  {
   "cell_type": "code",
   "execution_count": 295,
   "metadata": {},
   "outputs": [
    {
     "data": {
      "image/png": "[encoded data removed]",
      "text/plain": [
       "<matplotlib.figure.Figure at 0x11dd0fdd8>"
      ]
     },
     "metadata": {},
     "output_type": "display_data"
    }
   ],
   "source": [
    "distribution = review_books_df.groupby('overall')[['asin']].count()*100/review_total\n",
    "\n",
    "distribution.columns = ['percentage']\n",
    "plt.figure(figsize=(14,5))\n",
    "plt.bar(distribution.index.values, distribution.values, align='center')\n",
    "plt.title('Distribution of ratings')\n",
    "plt.xlabel('Ratings')\n",
    "plt.ylabel('Percentage')\n",
    "plt.grid()\n",
    "plt.show()"
   ]
  },
  {
   "cell_type": "markdown",
   "metadata": {},
   "source": [
    "#### Evolution des notes dans le temps"
   ]
  },
  {
   "cell_type": "code",
   "execution_count": 296,
   "metadata": {},
   "outputs": [
    {
     "data": {
      "text/html": [
       "<div>\n",
       "<style>\n",
       "    .dataframe thead tr:only-child th {\n",
       "        text-align: right;\n",
       "    }\n",
       "\n",
       "    .dataframe thead th {\n",
       "        text-align: left;\n",
       "    }\n",
       "\n",
       "    .dataframe tbody tr th {\n",
       "        vertical-align: top;\n",
       "    }\n",
       "</style>\n",
       "<table border=\"1\" class=\"dataframe\">\n",
       "  <thead>\n",
       "    <tr style=\"text-align: right;\">\n",
       "      <th></th>\n",
       "      <th>asin</th>\n",
       "      <th>overall</th>\n",
       "      <th>unixReviewTime</th>\n",
       "    </tr>\n",
       "  </thead>\n",
       "  <tbody>\n",
       "    <tr>\n",
       "      <th>4425969</th>\n",
       "      <td>0385260954</td>\n",
       "      <td>5.0</td>\n",
       "      <td>1997-07-20</td>\n",
       "    </tr>\n",
       "    <tr>\n",
       "      <th>4410489</th>\n",
       "      <td>0385006896</td>\n",
       "      <td>5.0</td>\n",
       "      <td>1997-08-12</td>\n",
       "    </tr>\n",
       "    <tr>\n",
       "      <th>2079807</th>\n",
       "      <td>0261103288</td>\n",
       "      <td>5.0</td>\n",
       "      <td>1997-08-15</td>\n",
       "    </tr>\n",
       "    <tr>\n",
       "      <th>7389520</th>\n",
       "      <td>0671016865</td>\n",
       "      <td>5.0</td>\n",
       "      <td>1997-08-16</td>\n",
       "    </tr>\n",
       "    <tr>\n",
       "      <th>1669031</th>\n",
       "      <td>0142800376</td>\n",
       "      <td>5.0</td>\n",
       "      <td>1997-08-18</td>\n",
       "    </tr>\n",
       "  </tbody>\n",
       "</table>\n",
       "</div>"
      ],
      "text/plain": [
       "               asin  overall unixReviewTime\n",
       "4425969  0385260954      5.0     1997-07-20\n",
       "4410489  0385006896      5.0     1997-08-12\n",
       "2079807  0261103288      5.0     1997-08-15\n",
       "7389520  0671016865      5.0     1997-08-16\n",
       "1669031  0142800376      5.0     1997-08-18"
      ]
     },
     "execution_count": 296,
     "metadata": {},
     "output_type": "execute_result"
    }
   ],
   "source": [
    "review_books_df.sort_values(by='unixReviewTime').head()"
   ]
  },
  {
   "cell_type": "code",
   "execution_count": 297,
   "metadata": {},
   "outputs": [
    {
     "data": {
      "text/plain": [
       "2013"
      ]
     },
     "execution_count": 297,
     "metadata": {},
     "output_type": "execute_result"
    }
   ],
   "source": [
    "review_books_df.iloc[0].unixReviewTime.year"
   ]
  },
  {
   "cell_type": "code",
   "execution_count": 298,
   "metadata": {
    "scrolled": true
   },
   "outputs": [
    {
     "data": {
      "image/png": "[encoded data removed]",
      "text/plain": [
       "<matplotlib.figure.Figure at 0x11b4fe5c0>"
      ]
     },
     "metadata": {},
     "output_type": "display_data"
    }
   ],
   "source": [
    "distribution = review_books_df.groupby(review_books_df['unixReviewTime'].apply(lambda x: x.year)).count()*100/review_total\n",
    "\n",
    "plt.figure(figsize=(14,5))\n",
    "plt.bar(distribution.index.values, distribution['asin'].values, align='center')\n",
    "plt.title('Distribution of reviews')\n",
    "plt.xlabel('Years of publication')\n",
    "plt.ylabel('Percentage')\n",
    "plt.grid()\n",
    "plt.show()"
   ]
  },
  {
   "cell_type": "code",
   "execution_count": 343,
   "metadata": {
    "scrolled": true
   },
   "outputs": [
    {
     "data": {
      "text/html": [
       "<div>\n",
       "<style>\n",
       "    .dataframe thead tr:only-child th {\n",
       "        text-align: right;\n",
       "    }\n",
       "\n",
       "    .dataframe thead th {\n",
       "        text-align: left;\n",
       "    }\n",
       "\n",
       "    .dataframe tbody tr th {\n",
       "        vertical-align: top;\n",
       "    }\n",
       "</style>\n",
       "<table border=\"1\" class=\"dataframe\">\n",
       "  <thead>\n",
       "    <tr style=\"text-align: right;\">\n",
       "      <th></th>\n",
       "      <th>overall</th>\n",
       "      <th>err</th>\n",
       "    </tr>\n",
       "    <tr>\n",
       "      <th>unixReviewTime</th>\n",
       "      <th></th>\n",
       "      <th></th>\n",
       "    </tr>\n",
       "  </thead>\n",
       "  <tbody>\n",
       "    <tr>\n",
       "      <th>2010</th>\n",
       "      <td>1.194821</td>\n",
       "      <td>0.029034</td>\n",
       "    </tr>\n",
       "    <tr>\n",
       "      <th>2011</th>\n",
       "      <td>1.232670</td>\n",
       "      <td>0.025507</td>\n",
       "    </tr>\n",
       "    <tr>\n",
       "      <th>2012</th>\n",
       "      <td>1.107510</td>\n",
       "      <td>0.018428</td>\n",
       "    </tr>\n",
       "    <tr>\n",
       "      <th>2013</th>\n",
       "      <td>0.972416</td>\n",
       "      <td>0.009815</td>\n",
       "    </tr>\n",
       "    <tr>\n",
       "      <th>2014</th>\n",
       "      <td>0.984632</td>\n",
       "      <td>0.012138</td>\n",
       "    </tr>\n",
       "  </tbody>\n",
       "</table>\n",
       "</div>"
      ],
      "text/plain": [
       "                 overall       err\n",
       "unixReviewTime                    \n",
       "2010            1.194821  0.029034\n",
       "2011            1.232670  0.025507\n",
       "2012            1.107510  0.018428\n",
       "2013            0.972416  0.009815\n",
       "2014            0.984632  0.012138"
      ]
     },
     "execution_count": 343,
     "metadata": {},
     "output_type": "execute_result"
    }
   ],
   "source": [
    "distribution_std = review_books_df.groupby(review_books_df['unixReviewTime'].apply(lambda x: x.year)).std()\n",
    "distribution_count = review_books_df.groupby(review_books_df['unixReviewTime'].apply(lambda x: x.year)).count()\n",
    "distribution_err = distribution_std\n",
    "\n",
    "for index, row in distribution_std.iterrows():\n",
    "    distribution_err.loc[index].err = 2*distribution_std.loc[index].overall/np.sqrt(distribution_count.loc[index].overall)\n",
    "\n",
    "distribution_err.tail()"
   ]
  },
  {
   "cell_type": "code",
   "execution_count": 347,
   "metadata": {},
   "outputs": [
    {
     "data": {
      "image/png": "[encoded data removed]",
      "text/plain": [
       "<matplotlib.figure.Figure at 0x11b506748>"
      ]
     },
     "metadata": {},
     "output_type": "display_data"
    }
   ],
   "source": [
    "distribution = review_books_df.groupby(review_books_df['unixReviewTime'].apply(lambda x: x.year)).mean()\n",
    "\n",
    "plt.figure(figsize=(14,5))\n",
    "plt.errorbar(distribution.index.values, distribution['overall'].values, yerr=distribution_err.err.values, fmt='--o')\n",
    "axes = plt.gca()\n",
    "axes.set_ylim([0,5])\n",
    "plt.title('Distribution of reviews')\n",
    "plt.xlabel('Years of publication')\n",
    "plt.ylabel('Mean rating')\n",
    "plt.grid()\n",
    "plt.show()"
   ]
  },
  {
   "cell_type": "markdown",
   "metadata": {},
   "source": [
    "### Exemple pour le book 0470769327"
   ]
  },
  {
   "cell_type": "markdown",
   "metadata": {},
   "source": [
    "Ce book représente \"Feng shui for dummies\"."
   ]
  },
  {
   "cell_type": "code",
   "execution_count": 114,
   "metadata": {
    "scrolled": true
   },
   "outputs": [
    {
     "data": {
      "text/html": [
       "<div>\n",
       "<style>\n",
       "    .dataframe thead tr:only-child th {\n",
       "        text-align: right;\n",
       "    }\n",
       "\n",
       "    .dataframe thead th {\n",
       "        text-align: left;\n",
       "    }\n",
       "\n",
       "    .dataframe tbody tr th {\n",
       "        vertical-align: top;\n",
       "    }\n",
       "</style>\n",
       "<table border=\"1\" class=\"dataframe\">\n",
       "  <thead>\n",
       "    <tr style=\"text-align: right;\">\n",
       "      <th></th>\n",
       "      <th>title</th>\n",
       "      <th>description</th>\n",
       "      <th>imUrl</th>\n",
       "      <th>authors</th>\n",
       "      <th>isbn</th>\n",
       "      <th>eisbn</th>\n",
       "      <th>brand</th>\n",
       "      <th>edition</th>\n",
       "      <th>publisher</th>\n",
       "    </tr>\n",
       "    <tr>\n",
       "      <th>asin</th>\n",
       "      <th></th>\n",
       "      <th></th>\n",
       "      <th></th>\n",
       "      <th></th>\n",
       "      <th></th>\n",
       "      <th></th>\n",
       "      <th></th>\n",
       "      <th></th>\n",
       "      <th></th>\n",
       "    </tr>\n",
       "  </thead>\n",
       "  <tbody>\n",
       "    <tr>\n",
       "      <th>0470769327</th>\n",
       "      <td>feng shui for dummies</td>\n",
       "      <td>Packed with up-to-date practices to bring Feng...</td>\n",
       "      <td>http://ecx.images-amazon.com/images/I/515wjGHF...</td>\n",
       "      <td>[david daniel kennedy]</td>\n",
       "      <td>0470769327</td>\n",
       "      <td>None</td>\n",
       "      <td>Brand: For Dummies</td>\n",
       "      <td>2nd Edition</td>\n",
       "      <td>John Wiley &amp; Sons</td>\n",
       "    </tr>\n",
       "  </tbody>\n",
       "</table>\n",
       "</div>"
      ],
      "text/plain": [
       "                            title  \\\n",
       "asin                                \n",
       "0470769327  feng shui for dummies   \n",
       "\n",
       "                                                  description  \\\n",
       "asin                                                            \n",
       "0470769327  Packed with up-to-date practices to bring Feng...   \n",
       "\n",
       "                                                        imUrl  \\\n",
       "asin                                                            \n",
       "0470769327  http://ecx.images-amazon.com/images/I/515wjGHF...   \n",
       "\n",
       "                           authors        isbn eisbn               brand  \\\n",
       "asin                                                                       \n",
       "0470769327  [david daniel kennedy]  0470769327  None  Brand: For Dummies   \n",
       "\n",
       "                edition          publisher  \n",
       "asin                                        \n",
       "0470769327  2nd Edition  John Wiley & Sons  "
      ]
     },
     "execution_count": 114,
     "metadata": {},
     "output_type": "execute_result"
    }
   ],
   "source": [
    "books_df[books_df['isbn'] == '0470769327']"
   ]
  },
  {
   "cell_type": "markdown",
   "metadata": {},
   "source": [
    "#### Ses reviews "
   ]
  },
  {
   "cell_type": "code",
   "execution_count": 128,
   "metadata": {},
   "outputs": [
    {
     "data": {
      "text/plain": [
       "41"
      ]
     },
     "execution_count": 128,
     "metadata": {},
     "output_type": "execute_result"
    }
   ],
   "source": [
    "len(review_books_df[review_books_df['asin'] == '0470769327'].sort_values(by='unixReviewTime'))"
   ]
  },
  {
   "cell_type": "code",
   "execution_count": 115,
   "metadata": {
    "scrolled": false
   },
   "outputs": [
    {
     "data": {
      "text/html": [
       "<div>\n",
       "<style>\n",
       "    .dataframe thead tr:only-child th {\n",
       "        text-align: right;\n",
       "    }\n",
       "\n",
       "    .dataframe thead th {\n",
       "        text-align: left;\n",
       "    }\n",
       "\n",
       "    .dataframe tbody tr th {\n",
       "        vertical-align: top;\n",
       "    }\n",
       "</style>\n",
       "<table border=\"1\" class=\"dataframe\">\n",
       "  <thead>\n",
       "    <tr style=\"text-align: right;\">\n",
       "      <th></th>\n",
       "      <th>asin</th>\n",
       "      <th>overall</th>\n",
       "      <th>unixReviewTime</th>\n",
       "    </tr>\n",
       "  </thead>\n",
       "  <tbody>\n",
       "    <tr>\n",
       "      <th>6129374</th>\n",
       "      <td>0470769327</td>\n",
       "      <td>5.0</td>\n",
       "      <td>2011-02-12</td>\n",
       "    </tr>\n",
       "    <tr>\n",
       "      <th>6129360</th>\n",
       "      <td>0470769327</td>\n",
       "      <td>5.0</td>\n",
       "      <td>2011-03-12</td>\n",
       "    </tr>\n",
       "    <tr>\n",
       "      <th>6129372</th>\n",
       "      <td>0470769327</td>\n",
       "      <td>5.0</td>\n",
       "      <td>2011-03-17</td>\n",
       "    </tr>\n",
       "    <tr>\n",
       "      <th>6129344</th>\n",
       "      <td>0470769327</td>\n",
       "      <td>3.0</td>\n",
       "      <td>2011-03-17</td>\n",
       "    </tr>\n",
       "    <tr>\n",
       "      <th>6129351</th>\n",
       "      <td>0470769327</td>\n",
       "      <td>5.0</td>\n",
       "      <td>2011-03-22</td>\n",
       "    </tr>\n",
       "  </tbody>\n",
       "</table>\n",
       "</div>"
      ],
      "text/plain": [
       "               asin  overall unixReviewTime\n",
       "6129374  0470769327      5.0     2011-02-12\n",
       "6129360  0470769327      5.0     2011-03-12\n",
       "6129372  0470769327      5.0     2011-03-17\n",
       "6129344  0470769327      3.0     2011-03-17\n",
       "6129351  0470769327      5.0     2011-03-22"
      ]
     },
     "execution_count": 115,
     "metadata": {},
     "output_type": "execute_result"
    }
   ],
   "source": [
    "review_books_df[review_books_df['asin'] == '0470769327'].sort_values(by='unixReviewTime').head()"
   ]
  },
  {
   "cell_type": "markdown",
   "metadata": {},
   "source": [
    "La première review"
   ]
  },
  {
   "cell_type": "code",
   "execution_count": 120,
   "metadata": {
    "scrolled": false
   },
   "outputs": [
    {
     "data": {
      "text/plain": [
       "asin                       0470769327\n",
       "overall                             5\n",
       "unixReviewTime    2011-02-12 00:00:00\n",
       "Name: 6129374, dtype: object"
      ]
     },
     "execution_count": 120,
     "metadata": {},
     "output_type": "execute_result"
    }
   ],
   "source": [
    "review_books_df[review_books_df['asin'] == '0470769327'].sort_values(by='unixReviewTime').iloc[0]"
   ]
  },
  {
   "cell_type": "markdown",
   "metadata": {},
   "source": [
    "La note de sa premiere review"
   ]
  },
  {
   "cell_type": "code",
   "execution_count": 121,
   "metadata": {},
   "outputs": [
    {
     "data": {
      "text/plain": [
       "5.0"
      ]
     },
     "execution_count": 121,
     "metadata": {},
     "output_type": "execute_result"
    }
   ],
   "source": [
    "review_books_df[review_books_df['asin'] == '0470769327'].sort_values(by='unixReviewTime').iloc[0].overall"
   ]
  },
  {
   "cell_type": "markdown",
   "metadata": {},
   "source": [
    "Doit être classé **H**."
   ]
  },
  {
   "cell_type": "markdown",
   "metadata": {},
   "source": [
    "#### Ses livres similaires"
   ]
  },
  {
   "cell_type": "code",
   "execution_count": 124,
   "metadata": {
    "scrolled": true
   },
   "outputs": [
    {
     "data": {
      "text/plain": [
       "['0764552953']"
      ]
     },
     "execution_count": 124,
     "metadata": {},
     "output_type": "execute_result"
    }
   ],
   "source": [
    "very_similars['0470769327']"
   ]
  },
  {
   "cell_type": "markdown",
   "metadata": {},
   "source": [
    "1 seul livre est déclaré similaire."
   ]
  },
  {
   "cell_type": "code",
   "execution_count": 129,
   "metadata": {},
   "outputs": [
    {
     "data": {
      "text/html": [
       "<div>\n",
       "<style>\n",
       "    .dataframe thead tr:only-child th {\n",
       "        text-align: right;\n",
       "    }\n",
       "\n",
       "    .dataframe thead th {\n",
       "        text-align: left;\n",
       "    }\n",
       "\n",
       "    .dataframe tbody tr th {\n",
       "        vertical-align: top;\n",
       "    }\n",
       "</style>\n",
       "<table border=\"1\" class=\"dataframe\">\n",
       "  <thead>\n",
       "    <tr style=\"text-align: right;\">\n",
       "      <th></th>\n",
       "      <th>title</th>\n",
       "      <th>description</th>\n",
       "      <th>imUrl</th>\n",
       "      <th>authors</th>\n",
       "      <th>isbn</th>\n",
       "      <th>eisbn</th>\n",
       "      <th>brand</th>\n",
       "      <th>edition</th>\n",
       "      <th>publisher</th>\n",
       "    </tr>\n",
       "    <tr>\n",
       "      <th>asin</th>\n",
       "      <th></th>\n",
       "      <th></th>\n",
       "      <th></th>\n",
       "      <th></th>\n",
       "      <th></th>\n",
       "      <th></th>\n",
       "      <th></th>\n",
       "      <th></th>\n",
       "      <th></th>\n",
       "    </tr>\n",
       "  </thead>\n",
       "  <tbody>\n",
       "    <tr>\n",
       "      <th>0764552953</th>\n",
       "      <td>feng shui for dummies</td>\n",
       "      <td>Praises forFen Shui For Dummies\"If you've ever...</td>\n",
       "      <td>http://ecx.images-amazon.com/images/I/51Hqibg6...</td>\n",
       "      <td>[david daniel kennedy]</td>\n",
       "      <td>0764552953</td>\n",
       "      <td>None</td>\n",
       "      <td>Brand: For Dummies</td>\n",
       "      <td>None</td>\n",
       "      <td>Hungry Minds Inc,U.S.</td>\n",
       "    </tr>\n",
       "  </tbody>\n",
       "</table>\n",
       "</div>"
      ],
      "text/plain": [
       "                            title  \\\n",
       "asin                                \n",
       "0764552953  feng shui for dummies   \n",
       "\n",
       "                                                  description  \\\n",
       "asin                                                            \n",
       "0764552953  Praises forFen Shui For Dummies\"If you've ever...   \n",
       "\n",
       "                                                        imUrl  \\\n",
       "asin                                                            \n",
       "0764552953  http://ecx.images-amazon.com/images/I/51Hqibg6...   \n",
       "\n",
       "                           authors        isbn eisbn               brand  \\\n",
       "asin                                                                       \n",
       "0764552953  [david daniel kennedy]  0764552953  None  Brand: For Dummies   \n",
       "\n",
       "           edition              publisher  \n",
       "asin                                       \n",
       "0764552953    None  Hungry Minds Inc,U.S.  "
      ]
     },
     "execution_count": 129,
     "metadata": {},
     "output_type": "execute_result"
    }
   ],
   "source": [
    "books_df[books_df['isbn'] == '0764552953']"
   ]
  },
  {
   "cell_type": "markdown",
   "metadata": {},
   "source": [
    "La première review de son livre similaire."
   ]
  },
  {
   "cell_type": "code",
   "execution_count": 126,
   "metadata": {},
   "outputs": [
    {
     "data": {
      "text/plain": [
       "5.0"
      ]
     },
     "execution_count": 126,
     "metadata": {},
     "output_type": "execute_result"
    }
   ],
   "source": [
    "review_books_df[review_books_df['asin'] == '0764552953'].sort_values(by='unixReviewTime').iloc[0].overall"
   ]
  },
  {
   "cell_type": "markdown",
   "metadata": {},
   "source": [
    "Doit être classé **H**. Et le couple **HH**."
   ]
  },
  {
   "cell_type": "markdown",
   "metadata": {},
   "source": [
    "__________________\n",
    "\n",
    "## SalesRank and Review correlation analysis"
   ]
  },
  {
   "cell_type": "markdown",
   "metadata": {},
   "source": [
    "Amazon itself doesn’t reveal exactly how the sales rank is calculated, which is why there are only theories and speculation surrounding the method. Sales volume alone is taken into consideration and not other figures such as number of reviews or retail price. In our analysis, we want to see if their is a statistic correlation between sales rank and reviews grade. "
   ]
  },
  {
   "cell_type": "markdown",
   "metadata": {},
   "source": [
    "### Comparison of books together\n",
    "\n",
    "We use the books that are related to a similarity with an other one. In our analysis of books, we take the sales rank of books. "
   ]
  },
  {
   "cell_type": "code",
   "execution_count": 300,
   "metadata": {},
   "outputs": [
    {
     "data": {
      "text/plain": [
       "(1611, 4)"
      ]
     },
     "execution_count": 300,
     "metadata": {},
     "output_type": "execute_result"
    }
   ],
   "source": [
    "meta_books_df = pd.read_pickle('../../Project-Data/dump/meta_Books_asin_title_salesRank_description_imUrl_ALL')\n",
    "\n",
    "very_similar_ASIN = list(very_similars.keys())\n",
    "very_similar_ASIN += [item for sublist in list(very_similars.values()) for item in sublist]\n",
    "\n",
    "meta_books_df = meta_books_df[['asin', 'description', 'imUrl', 'salesRank_Books', 'title']].set_index('asin').loc[very_similar_ASIN]\n",
    "\n",
    "meta_reviews_df = pd.read_pickle('../../Project-Data/dump/reviews_Books_asin_overall_unixReviewTime_ALL')\n",
    "\n",
    "meta_books_df.shape"
   ]
  },
  {
   "cell_type": "markdown",
   "metadata": {},
   "source": [
    "These 3 books are the best ranked of our dataframe. They have the smaller sales rank."
   ]
  },
  {
   "cell_type": "code",
   "execution_count": 177,
   "metadata": {},
   "outputs": [
    {
     "data": {
      "text/html": [
       "<div>\n",
       "<style>\n",
       "    .dataframe thead tr:only-child th {\n",
       "        text-align: right;\n",
       "    }\n",
       "\n",
       "    .dataframe thead th {\n",
       "        text-align: left;\n",
       "    }\n",
       "\n",
       "    .dataframe tbody tr th {\n",
       "        vertical-align: top;\n",
       "    }\n",
       "</style>\n",
       "<table border=\"1\" class=\"dataframe\">\n",
       "  <thead>\n",
       "    <tr style=\"text-align: right;\">\n",
       "      <th></th>\n",
       "      <th>description</th>\n",
       "      <th>imUrl</th>\n",
       "      <th>salesRank_Books</th>\n",
       "      <th>title</th>\n",
       "    </tr>\n",
       "    <tr>\n",
       "      <th>asin</th>\n",
       "      <th></th>\n",
       "      <th></th>\n",
       "      <th></th>\n",
       "      <th></th>\n",
       "    </tr>\n",
       "  </thead>\n",
       "  <tbody>\n",
       "    <tr>\n",
       "      <th>0385349947</th>\n",
       "      <td>An Amazon Best Book of the Month, March 2013: ...</td>\n",
       "      <td>http://ecx.images-amazon.com/images/I/41TknOCI...</td>\n",
       "      <td>150.0</td>\n",
       "      <td>Lean In: Women, Work, and the Will to Lead</td>\n",
       "    </tr>\n",
       "    <tr>\n",
       "      <th>0761152121</th>\n",
       "      <td>It all started with a baby…and a book. Heidi M...</td>\n",
       "      <td>http://ecx.images-amazon.com/images/I/91bgE5v1...</td>\n",
       "      <td>222.0</td>\n",
       "      <td>What to Expect the First Year, Second Edition</td>\n",
       "    </tr>\n",
       "    <tr>\n",
       "      <th>1889140430</th>\n",
       "      <td>\"An excellent, workable, and supportive resour...</td>\n",
       "      <td>http://ecx.images-amazon.com/images/I/51mngzUN...</td>\n",
       "      <td>252.0</td>\n",
       "      <td>1-2-3 Magic: Effective Discipline for Children...</td>\n",
       "    </tr>\n",
       "  </tbody>\n",
       "</table>\n",
       "</div>"
      ],
      "text/plain": [
       "                                                  description  \\\n",
       "asin                                                            \n",
       "0385349947  An Amazon Best Book of the Month, March 2013: ...   \n",
       "0761152121  It all started with a baby…and a book. Heidi M...   \n",
       "1889140430  \"An excellent, workable, and supportive resour...   \n",
       "\n",
       "                                                        imUrl  \\\n",
       "asin                                                            \n",
       "0385349947  http://ecx.images-amazon.com/images/I/41TknOCI...   \n",
       "0761152121  http://ecx.images-amazon.com/images/I/91bgE5v1...   \n",
       "1889140430  http://ecx.images-amazon.com/images/I/51mngzUN...   \n",
       "\n",
       "            salesRank_Books                                              title  \n",
       "asin                                                                            \n",
       "0385349947            150.0         Lean In: Women, Work, and the Will to Lead  \n",
       "0761152121            222.0      What to Expect the First Year, Second Edition  \n",
       "1889140430            252.0  1-2-3 Magic: Effective Discipline for Children...  "
      ]
     },
     "execution_count": 177,
     "metadata": {},
     "output_type": "execute_result"
    }
   ],
   "source": [
    "meta_books_df.sort_values(by='salesRank_Books').head(3)"
   ]
  },
  {
   "cell_type": "code",
   "execution_count": 294,
   "metadata": {},
   "outputs": [
    {
     "data": {
      "text/html": [
       "<div>\n",
       "<style>\n",
       "    .dataframe thead tr:only-child th {\n",
       "        text-align: right;\n",
       "    }\n",
       "\n",
       "    .dataframe thead th {\n",
       "        text-align: left;\n",
       "    }\n",
       "\n",
       "    .dataframe tbody tr th {\n",
       "        vertical-align: top;\n",
       "    }\n",
       "</style>\n",
       "<table border=\"1\" class=\"dataframe\">\n",
       "  <thead>\n",
       "    <tr style=\"text-align: right;\">\n",
       "      <th></th>\n",
       "      <th>asin</th>\n",
       "      <th>overall</th>\n",
       "      <th>unixReviewTime</th>\n",
       "    </tr>\n",
       "  </thead>\n",
       "  <tbody>\n",
       "    <tr>\n",
       "      <th>0</th>\n",
       "      <td>0000000116</td>\n",
       "      <td>4.0</td>\n",
       "      <td>2002-04-27</td>\n",
       "    </tr>\n",
       "    <tr>\n",
       "      <th>1</th>\n",
       "      <td>0000000116</td>\n",
       "      <td>1.0</td>\n",
       "      <td>2014-03-24</td>\n",
       "    </tr>\n",
       "    <tr>\n",
       "      <th>2</th>\n",
       "      <td>0000000868</td>\n",
       "      <td>4.0</td>\n",
       "      <td>2002-09-11</td>\n",
       "    </tr>\n",
       "  </tbody>\n",
       "</table>\n",
       "</div>"
      ],
      "text/plain": [
       "         asin  overall unixReviewTime\n",
       "0  0000000116      4.0     2002-04-27\n",
       "1  0000000116      1.0     2014-03-24\n",
       "2  0000000868      4.0     2002-09-11"
      ]
     },
     "execution_count": 294,
     "metadata": {},
     "output_type": "execute_result"
    }
   ],
   "source": [
    "meta_reviews_df.head(3)"
   ]
  },
  {
   "cell_type": "markdown",
   "metadata": {},
   "source": [
    "We create the dataframe that we want for our analysis. The column are \"asin\", \"salesRank\", \"review_avg\" for the average of review grade for corresponding to the book, \"review_std\" for the standard deviation of reviews and \"review_count\" for the sum of reviews."
   ]
  },
  {
   "cell_type": "code",
   "execution_count": 27,
   "metadata": {},
   "outputs": [
    {
     "name": "stdout",
     "output_type": "stream",
     "text": [
      "[##########] 99.9% \r"
     ]
    }
   ],
   "source": [
    "books_reviews = []\n",
    "\n",
    "for i in range(len(meta_books_df)):\n",
    "    asin = meta_books_df.iloc[i].name\n",
    "    salesRank = meta_books_df.iloc[i].salesRank_Books\n",
    "    review_avg = meta_reviews_df[meta_reviews_df['asin'] == meta_books_df.iloc[i].name].mean().overall\n",
    "    review_std = meta_reviews_df[meta_reviews_df['asin'] == meta_books_df.iloc[i].name].std().overall\n",
    "    review_count = meta_reviews_df[meta_reviews_df['asin'] == meta_books_df.iloc[i].name].count().overall\n",
    "\n",
    "    books_reviews.append({\n",
    "            'asin': asin,\n",
    "            'salesRank': salesRank,\n",
    "            'review_avg': review_avg,\n",
    "            'review_std': review_std,\n",
    "            'review_count': review_count,\n",
    "        })\n",
    "    "
   ]
  },
  {
   "cell_type": "code",
   "execution_count": 295,
   "metadata": {},
   "outputs": [
    {
     "data": {
      "text/html": [
       "<div>\n",
       "<style>\n",
       "    .dataframe thead tr:only-child th {\n",
       "        text-align: right;\n",
       "    }\n",
       "\n",
       "    .dataframe thead th {\n",
       "        text-align: left;\n",
       "    }\n",
       "\n",
       "    .dataframe tbody tr th {\n",
       "        vertical-align: top;\n",
       "    }\n",
       "</style>\n",
       "<table border=\"1\" class=\"dataframe\">\n",
       "  <thead>\n",
       "    <tr style=\"text-align: right;\">\n",
       "      <th></th>\n",
       "      <th>asin</th>\n",
       "      <th>review_avg</th>\n",
       "      <th>review_count</th>\n",
       "      <th>review_std</th>\n",
       "      <th>salesRank</th>\n",
       "    </tr>\n",
       "  </thead>\n",
       "  <tbody>\n",
       "    <tr>\n",
       "      <th>14</th>\n",
       "      <td>0385349947</td>\n",
       "      <td>4.338917</td>\n",
       "      <td>1791</td>\n",
       "      <td>1.062115</td>\n",
       "      <td>150.0</td>\n",
       "    </tr>\n",
       "    <tr>\n",
       "      <th>1494</th>\n",
       "      <td>0761152121</td>\n",
       "      <td>4.342365</td>\n",
       "      <td>406</td>\n",
       "      <td>1.101527</td>\n",
       "      <td>222.0</td>\n",
       "    </tr>\n",
       "    <tr>\n",
       "      <th>1300</th>\n",
       "      <td>1889140430</td>\n",
       "      <td>4.395770</td>\n",
       "      <td>331</td>\n",
       "      <td>1.116209</td>\n",
       "      <td>252.0</td>\n",
       "    </tr>\n",
       "  </tbody>\n",
       "</table>\n",
       "</div>"
      ],
      "text/plain": [
       "            asin  review_avg  review_count  review_std  salesRank\n",
       "14    0385349947    4.338917          1791    1.062115      150.0\n",
       "1494  0761152121    4.342365           406    1.101527      222.0\n",
       "1300  1889140430    4.395770           331    1.116209      252.0"
      ]
     },
     "execution_count": 295,
     "metadata": {},
     "output_type": "execute_result"
    }
   ],
   "source": [
    "books_reviews_df = pd.DataFrame.from_dict(books_reviews)\n",
    "books_reviews_df.sort_values(by='salesRank').head(3)"
   ]
  },
  {
   "cell_type": "markdown",
   "metadata": {},
   "source": [
    "We plot our datas to see if we can observe trends."
   ]
  },
  {
   "cell_type": "code",
   "execution_count": 296,
   "metadata": {
    "scrolled": true
   },
   "outputs": [
    {
     "data": {
      "image/png": "[encoded data removed]",
      "text/plain": [
       "<matplotlib.figure.Figure at 0x1b48f5f780>"
      ]
     },
     "metadata": {},
     "output_type": "display_data"
    }
   ],
   "source": [
    "plt.figure(figsize=(14,5))\n",
    "plt.plot(books_reviews_df.review_avg.values, books_reviews_df.salesRank.values, 'o')\n",
    "axes = plt.gca()\n",
    "axes.set_ylim([0,5000000])\n",
    "plt.title('Correlation between review and sales rank')\n",
    "plt.xlabel('Review average grade')\n",
    "plt.ylabel('SalesRank')\n",
    "plt.grid()\n",
    "plt.show()"
   ]
  },
  {
   "cell_type": "code",
   "execution_count": 297,
   "metadata": {
    "scrolled": true
   },
   "outputs": [
    {
     "data": {
      "image/png": "[encoded data removed]",
      "text/plain": [
       "<matplotlib.figure.Figure at 0x1b4aea9828>"
      ]
     },
     "metadata": {},
     "output_type": "display_data"
    }
   ],
   "source": [
    "plt.figure(figsize=(14,5))\n",
    "plt.plot(books_reviews_df.review_std.values, books_reviews_df.salesRank.values, 'o')\n",
    "axes = plt.gca()\n",
    "axes.set_ylim([0,5000000])\n",
    "plt.title('Correlation between review and sales rank')\n",
    "plt.xlabel('Review standard deviation')\n",
    "plt.ylabel('SalesRank')\n",
    "plt.grid()\n",
    "plt.show()"
   ]
  },
  {
   "cell_type": "code",
   "execution_count": 299,
   "metadata": {},
   "outputs": [
    {
     "data": {
      "image/png": "[encoded data removed]",
      "text/plain": [
       "<matplotlib.figure.Figure at 0x1b4bd99cf8>"
      ]
     },
     "metadata": {},
     "output_type": "display_data"
    }
   ],
   "source": [
    "plt.figure(figsize=(14,5))\n",
    "plt.plot(books_reviews_df.review_count.values, books_reviews_df.salesRank.values, 'o')\n",
    "axes = plt.gca()\n",
    "axes.set_ylim([0,5000000])\n",
    "axes.set_xlim([0,2000])\n",
    "plt.title('Correlation between review and sales rank')\n",
    "plt.xlabel('Review standard deviation')\n",
    "plt.ylabel('SalesRank')\n",
    "plt.grid()\n",
    "plt.show()"
   ]
  },
  {
   "cell_type": "markdown",
   "metadata": {},
   "source": [
    "We see with these 3 plots that there is no correlation between review grade or review variance and sales rank. We se a correlation between review quantity and sales rank. Following these observations we can say that:\n",
    "- a book which has bad reviews can have a good sales rank because many people have bought it at a given time. \n",
    "- a book which has a big standard deviation representing a big difference between reviews can have a good sales rank.\n",
    "- a book which has a lot of reviews is more likely to have a good sales rank. As more sales mean more review, more review involve more sales. \n",
    "\n",
    "To have a better view of the impacts of sales rank, we decide to use our work on book similarity. We want to compare the books sales rank of two similar books and see how reviews may influence that difference. "
   ]
  },
  {
   "cell_type": "markdown",
   "metadata": {},
   "source": [
    "### Comparison inside book similarities\n",
    "\n",
    "Now we want to see if a two similar books with different sales rank have different reviews characteristics."
   ]
  },
  {
   "cell_type": "code",
   "execution_count": 301,
   "metadata": {
    "scrolled": true
   },
   "outputs": [
    {
     "data": {
      "text/html": [
       "<div>\n",
       "<style>\n",
       "    .dataframe thead tr:only-child th {\n",
       "        text-align: right;\n",
       "    }\n",
       "\n",
       "    .dataframe thead th {\n",
       "        text-align: left;\n",
       "    }\n",
       "\n",
       "    .dataframe tbody tr th {\n",
       "        vertical-align: top;\n",
       "    }\n",
       "</style>\n",
       "<table border=\"1\" class=\"dataframe\">\n",
       "  <thead>\n",
       "    <tr style=\"text-align: right;\">\n",
       "      <th></th>\n",
       "      <th>asin</th>\n",
       "      <th>review_avg</th>\n",
       "      <th>review_count</th>\n",
       "      <th>review_std</th>\n",
       "      <th>salesRank</th>\n",
       "    </tr>\n",
       "  </thead>\n",
       "  <tbody>\n",
       "    <tr>\n",
       "      <th>0</th>\n",
       "      <td>0470769327</td>\n",
       "      <td>4.341463</td>\n",
       "      <td>41</td>\n",
       "      <td>0.964618</td>\n",
       "      <td>36163.0</td>\n",
       "    </tr>\n",
       "    <tr>\n",
       "      <th>1</th>\n",
       "      <td>0767903927</td>\n",
       "      <td>4.652174</td>\n",
       "      <td>23</td>\n",
       "      <td>1.152416</td>\n",
       "      <td>853517.0</td>\n",
       "    </tr>\n",
       "    <tr>\n",
       "      <th>2</th>\n",
       "      <td>0240802756</td>\n",
       "      <td>4.734043</td>\n",
       "      <td>188</td>\n",
       "      <td>0.696447</td>\n",
       "      <td>437123.0</td>\n",
       "    </tr>\n",
       "  </tbody>\n",
       "</table>\n",
       "</div>"
      ],
      "text/plain": [
       "         asin  review_avg  review_count  review_std  salesRank\n",
       "0  0470769327    4.341463            41    0.964618    36163.0\n",
       "1  0767903927    4.652174            23    1.152416   853517.0\n",
       "2  0240802756    4.734043           188    0.696447   437123.0"
      ]
     },
     "execution_count": 301,
     "metadata": {},
     "output_type": "execute_result"
    }
   ],
   "source": [
    "books_reviews_df.head(3)"
   ]
  },
  {
   "cell_type": "markdown",
   "metadata": {},
   "source": [
    "First, we take the books that are similar. Then we compute the difference in term of sales rank, review average, review quantity and review standard deviation."
   ]
  },
  {
   "cell_type": "code",
   "execution_count": 266,
   "metadata": {},
   "outputs": [],
   "source": [
    "books_salesrank_reviews_diff = []\n",
    "\n",
    "for i in range(len(very_similars)-1):\n",
    "    similars = very_similars[books_reviews_df.iloc[i].asin]\n",
    "    \n",
    "    for s in similars:\n",
    "        book_similar = books_reviews_df[books_reviews_df['asin'] == s]\n",
    "\n",
    "        diff_salesrank = abs(books_reviews_df.iloc[i].salesRank - book_similar.salesRank.values[0])\n",
    "        diff_review_avg = abs(books_reviews_df.iloc[i].review_avg - book_similar.review_avg.values[0])\n",
    "        diff_review_count = abs(books_reviews_df.iloc[i].review_count - book_similar.review_count.values[0])\n",
    "        diff_review_std = abs(books_reviews_df.iloc[i].review_std - book_similar.review_std.values[0])\n",
    "        \n",
    "        books_salesrank_reviews_diff.append({\n",
    "            'diff_salesrank': diff_salesrank,\n",
    "            'diff_review_avg': diff_review_avg,\n",
    "            'diff_review_count': diff_review_count,\n",
    "            'diff_review_std': diff_review_std,\n",
    "        })"
   ]
  },
  {
   "cell_type": "code",
   "execution_count": 303,
   "metadata": {},
   "outputs": [
    {
     "data": {
      "text/html": [
       "<div>\n",
       "<style>\n",
       "    .dataframe thead tr:only-child th {\n",
       "        text-align: right;\n",
       "    }\n",
       "\n",
       "    .dataframe thead th {\n",
       "        text-align: left;\n",
       "    }\n",
       "\n",
       "    .dataframe tbody tr th {\n",
       "        vertical-align: top;\n",
       "    }\n",
       "</style>\n",
       "<table border=\"1\" class=\"dataframe\">\n",
       "  <thead>\n",
       "    <tr style=\"text-align: right;\">\n",
       "      <th></th>\n",
       "      <th>diff_review_avg</th>\n",
       "      <th>diff_review_count</th>\n",
       "      <th>diff_review_std</th>\n",
       "      <th>diff_salesrank</th>\n",
       "    </tr>\n",
       "  </thead>\n",
       "  <tbody>\n",
       "    <tr>\n",
       "      <th>417</th>\n",
       "      <td>0.412736</td>\n",
       "      <td>98</td>\n",
       "      <td>0.490036</td>\n",
       "      <td>14419368.0</td>\n",
       "    </tr>\n",
       "    <tr>\n",
       "      <th>582</th>\n",
       "      <td>0.160000</td>\n",
       "      <td>57</td>\n",
       "      <td>0.210406</td>\n",
       "      <td>11358901.0</td>\n",
       "    </tr>\n",
       "    <tr>\n",
       "      <th>499</th>\n",
       "      <td>0.025906</td>\n",
       "      <td>83</td>\n",
       "      <td>0.008508</td>\n",
       "      <td>8628536.0</td>\n",
       "    </tr>\n",
       "  </tbody>\n",
       "</table>\n",
       "</div>"
      ],
      "text/plain": [
       "     diff_review_avg  diff_review_count  diff_review_std  diff_salesrank\n",
       "417         0.412736                 98         0.490036      14419368.0\n",
       "582         0.160000                 57         0.210406      11358901.0\n",
       "499         0.025906                 83         0.008508       8628536.0"
      ]
     },
     "execution_count": 303,
     "metadata": {},
     "output_type": "execute_result"
    }
   ],
   "source": [
    "books_salesrank_reviews_diff_df = pd.DataFrame.from_dict(books_salesrank_reviews_diff)\n",
    "books_salesrank_reviews_diff_df.sort_values(by='diff_salesrank', ascending=False).head(3)"
   ]
  },
  {
   "cell_type": "markdown",
   "metadata": {},
   "source": [
    "To have a better understanding in our visualization, we decide to descretize our values and create a heatmap."
   ]
  },
  {
   "cell_type": "code",
   "execution_count": 311,
   "metadata": {
    "collapsed": true
   },
   "outputs": [],
   "source": [
    "cut_diff_salesrank = np.linspace(0, 8.126680e+05, num=10)\n",
    "cut_diff_review_avg = np.linspace(0, 2.955122, num=30)\n",
    "\n",
    "books_salesrank_reviews_diff_df['Salesrank_difference'] = pd.cut(books_salesrank_reviews_diff_df['diff_salesrank'], cut_diff_salesrank)\n",
    "books_salesrank_reviews_diff_df['Review_average_difference'] = pd.cut(books_salesrank_reviews_diff_df['diff_review_avg'], cut_diff_review_avg)"
   ]
  },
  {
   "cell_type": "code",
   "execution_count": 312,
   "metadata": {},
   "outputs": [
    {
     "data": {
      "text/plain": [
       "<matplotlib.axes._subplots.AxesSubplot at 0x1cfc4b9c88>"
      ]
     },
     "execution_count": 312,
     "metadata": {},
     "output_type": "execute_result"
    },
    {
     "data": {
      "image/png": "[encoded data removed]",
      "text/plain": [
       "<matplotlib.figure.Figure at 0x1bcf532ac8>"
      ]
     },
     "metadata": {},
     "output_type": "display_data"
    }
   ],
   "source": [
    "heat_map = books_salesrank_reviews_diff_df.pivot_table(index='Salesrank_difference', columns='Review_average_difference', values='diff_review_count', aggfunc=lambda x: len(x.unique()))\n",
    "sns.set()\n",
    "f, ax = plt.subplots(figsize=(10, 6))\n",
    "sns.heatmap(heat_map, annot=True, linewidths=0.1, ax=ax, cmap=\"YlGnBu\")"
   ]
  },
  {
   "cell_type": "markdown",
   "metadata": {},
   "source": [
    "An interesting information from this heatmap is that most of the big sales rank differences are for books who have small review difference. \n",
    "- Example: 2 books who have a difference of around 500'000 positions in the sales rank have a good probability to have a review average difference around 0.102."
   ]
  },
  {
   "cell_type": "markdown",
   "metadata": {},
   "source": [
    "## Price and Review correlation analysis\n",
    "\n",
    "As we cover the sales rank correlation analysis with reviews, we perform an analysis about book prices. \n",
    "\n",
    "### Comparison of books together\n",
    "\n",
    "We decide this time to take a part of all the dataset to perform our analysis between books together. "
   ]
  },
  {
   "cell_type": "code",
   "execution_count": 55,
   "metadata": {},
   "outputs": [
    {
     "name": "stdout",
     "output_type": "stream",
     "text": [
      "The autoreload extension is already loaded. To reload it, use:\n",
      "  %reload_ext autoreload\n"
     ]
    }
   ],
   "source": [
    "%matplotlib inline\n",
    "# To reload external scripts automatically\n",
    "%load_ext autoreload\n",
    "%autoreload 2\n",
    "\n",
    "import pandas as pd\n",
    "import numpy as np\n",
    "import sys\n",
    "\n",
    "# Importing external files\n",
    "sys.path.append('scripts/')\n",
    "from data_import import *\n",
    "from similarities import *\n",
    "from utils import *\n",
    "from amazon_api_interaction import *\n",
    "\n",
    "pd.options.mode.chained_assignment = None  # default='warn', Mutes warnings when copying a slice from a DataFrame."
   ]
  },
  {
   "cell_type": "code",
   "execution_count": 56,
   "metadata": {
    "collapsed": true
   },
   "outputs": [],
   "source": [
    "DATA_FOLDER = \"../../Project-Data/\"\n",
    "META_FOLDER = DATA_FOLDER + \"meta/\"\n",
    "REVIEWS_FOLDER = DATA_FOLDER + \"reviews/\"\n",
    "CORE_FOLDER = DATA_FOLDER + \"5_core/\"\n",
    "DUMP_FOLDER = DATA_FOLDER + \"dump/\"\n",
    "CATEGORIES = ['Books','Movies_and_Tv','Electronics']\n",
    "MAXCOUNT = -1"
   ]
  },
  {
   "cell_type": "code",
   "execution_count": 57,
   "metadata": {},
   "outputs": [
    {
     "name": "stdout",
     "output_type": "stream",
     "text": [
      "Paths : \n",
      "\t meta = ../../Project-Data/meta/meta_Books.json\n",
      "\t review = ../../Project-Data/reviews/reviews_Books.json\n",
      "\t core_path = ../../Project-Data/5_core/Books.json\n"
     ]
    }
   ],
   "source": [
    "meta_books_path, review_books_path, core_book_path = get_paths(0, DATA_FOLDER, META_FOLDER,CORE_FOLDER,REVIEWS_FOLDER, CATEGORIES)"
   ]
  },
  {
   "cell_type": "markdown",
   "metadata": {},
   "source": [
    "Metadata books"
   ]
  },
  {
   "cell_type": "code",
   "execution_count": 58,
   "metadata": {},
   "outputs": [
    {
     "name": "stdout",
     "output_type": "stream",
     "text": [
      "Retrieving from : ../../Project-Data/dump/meta_Books__ALL\n",
      "It took 00:00:33.974 to import the data.\n"
     ]
    }
   ],
   "source": [
    "meta_books = import_interesting_cols(meta_books_path,DUMP_FOLDER,True,[],max_count=MAXCOUNT)"
   ]
  },
  {
   "cell_type": "code",
   "execution_count": 61,
   "metadata": {},
   "outputs": [
    {
     "data": {
      "text/html": [
       "<div>\n",
       "<style>\n",
       "    .dataframe thead tr:only-child th {\n",
       "        text-align: right;\n",
       "    }\n",
       "\n",
       "    .dataframe thead th {\n",
       "        text-align: left;\n",
       "    }\n",
       "\n",
       "    .dataframe tbody tr th {\n",
       "        vertical-align: top;\n",
       "    }\n",
       "</style>\n",
       "<table border=\"1\" class=\"dataframe\">\n",
       "  <thead>\n",
       "    <tr style=\"text-align: right;\">\n",
       "      <th></th>\n",
       "      <th>asin</th>\n",
       "      <th>brand</th>\n",
       "      <th>categories</th>\n",
       "      <th>description</th>\n",
       "      <th>imUrl</th>\n",
       "      <th>price</th>\n",
       "      <th>related</th>\n",
       "      <th>salesRank_Arts,_Crafts_&amp;_Sewing</th>\n",
       "      <th>salesRank_Books</th>\n",
       "      <th>salesRank_Cell_Phones_&amp;_Accessories</th>\n",
       "      <th>...</th>\n",
       "      <th>salesRank_Jewelry</th>\n",
       "      <th>salesRank_Kitchen_&amp;_Dining</th>\n",
       "      <th>salesRank_Movies_&amp;_TV</th>\n",
       "      <th>salesRank_Music</th>\n",
       "      <th>salesRank_Musical_Instruments</th>\n",
       "      <th>salesRank_Office_Products</th>\n",
       "      <th>salesRank_Shoes</th>\n",
       "      <th>salesRank_Sports_&amp;_Outdoors</th>\n",
       "      <th>salesRank_Toys_&amp;_Games</th>\n",
       "      <th>title</th>\n",
       "    </tr>\n",
       "  </thead>\n",
       "  <tbody>\n",
       "    <tr>\n",
       "      <th>0</th>\n",
       "      <td>0001048791</td>\n",
       "      <td>NaN</td>\n",
       "      <td>[Books]</td>\n",
       "      <td>NaN</td>\n",
       "      <td>http://ecx.images-amazon.com/images/I/51MKP0T4...</td>\n",
       "      <td>NaN</td>\n",
       "      <td>NaN</td>\n",
       "      <td>NaN</td>\n",
       "      <td>6334800.0</td>\n",
       "      <td>NaN</td>\n",
       "      <td>...</td>\n",
       "      <td>NaN</td>\n",
       "      <td>NaN</td>\n",
       "      <td>NaN</td>\n",
       "      <td>NaN</td>\n",
       "      <td>NaN</td>\n",
       "      <td>NaN</td>\n",
       "      <td>NaN</td>\n",
       "      <td>NaN</td>\n",
       "      <td>NaN</td>\n",
       "      <td>The Crucible: Performed by Stuart Pankin, Jero...</td>\n",
       "    </tr>\n",
       "  </tbody>\n",
       "</table>\n",
       "<p>1 rows × 25 columns</p>\n",
       "</div>"
      ],
      "text/plain": [
       "         asin brand categories description  \\\n",
       "0  0001048791   NaN    [Books]         NaN   \n",
       "\n",
       "                                               imUrl  price related  \\\n",
       "0  http://ecx.images-amazon.com/images/I/51MKP0T4...    NaN     NaN   \n",
       "\n",
       "   salesRank_Arts,_Crafts_&_Sewing  salesRank_Books  \\\n",
       "0                              NaN        6334800.0   \n",
       "\n",
       "   salesRank_Cell_Phones_&_Accessories  \\\n",
       "0                                  NaN   \n",
       "\n",
       "                         ...                          salesRank_Jewelry  \\\n",
       "0                        ...                                        NaN   \n",
       "\n",
       "   salesRank_Kitchen_&_Dining  salesRank_Movies_&_TV  salesRank_Music  \\\n",
       "0                         NaN                    NaN              NaN   \n",
       "\n",
       "   salesRank_Musical_Instruments  salesRank_Office_Products  salesRank_Shoes  \\\n",
       "0                            NaN                        NaN              NaN   \n",
       "\n",
       "   salesRank_Sports_&_Outdoors  salesRank_Toys_&_Games  \\\n",
       "0                          NaN                     NaN   \n",
       "\n",
       "                                               title  \n",
       "0  The Crucible: Performed by Stuart Pankin, Jero...  \n",
       "\n",
       "[1 rows x 25 columns]"
      ]
     },
     "execution_count": 61,
     "metadata": {},
     "output_type": "execute_result"
    }
   ],
   "source": [
    "meta_books.head(1)"
   ]
  },
  {
   "cell_type": "code",
   "execution_count": 62,
   "metadata": {},
   "outputs": [
    {
     "data": {
      "text/plain": [
       "['asin',\n",
       " 'brand',\n",
       " 'categories',\n",
       " 'description',\n",
       " 'imUrl',\n",
       " 'price',\n",
       " 'related',\n",
       " 'salesRank_Arts,_Crafts_&_Sewing',\n",
       " 'salesRank_Books',\n",
       " 'salesRank_Cell_Phones_&_Accessories',\n",
       " 'salesRank_Clothing',\n",
       " 'salesRank_Electronics',\n",
       " 'salesRank_Health_&_Personal_Care',\n",
       " 'salesRank_Home_&_Kitchen',\n",
       " 'salesRank_Industrial_&_Scientific',\n",
       " 'salesRank_Jewelry',\n",
       " 'salesRank_Kitchen_&_Dining',\n",
       " 'salesRank_Movies_&_TV',\n",
       " 'salesRank_Music',\n",
       " 'salesRank_Musical_Instruments',\n",
       " 'salesRank_Office_Products',\n",
       " 'salesRank_Shoes',\n",
       " 'salesRank_Sports_&_Outdoors',\n",
       " 'salesRank_Toys_&_Games',\n",
       " 'title']"
      ]
     },
     "execution_count": 62,
     "metadata": {},
     "output_type": "execute_result"
    }
   ],
   "source": [
    "list(meta_books)"
   ]
  },
  {
   "cell_type": "code",
   "execution_count": 63,
   "metadata": {},
   "outputs": [
    {
     "data": {
      "text/plain": [
       "(2370585, 25)"
      ]
     },
     "execution_count": 63,
     "metadata": {},
     "output_type": "execute_result"
    }
   ],
   "source": [
    "meta_books.shape"
   ]
  },
  {
   "cell_type": "markdown",
   "metadata": {},
   "source": [
    "We want to know if there is a correlation between book price and reviews. For the reviews, we will use the average, the standard deviation and the quantity for each book. \n",
    "\n",
    "We see that the price is not available for each books. We will not use books without price for our analysis. We create the dataframe that we want for our analysis with column are \"asin\", \"price\", \"review_avg\", \"review_std\", \"review_count\"."
   ]
  },
  {
   "cell_type": "code",
   "execution_count": 108,
   "metadata": {
    "scrolled": true
   },
   "outputs": [
    {
     "name": "stdout",
     "output_type": "stream",
     "text": [
      "[------------------------------------------------------------] 0.8% (19057/2370585) \r"
     ]
    },
    {
     "ename": "KeyboardInterrupt",
     "evalue": "",
     "output_type": "error",
     "traceback": [
      "\u001b[0;31m---------------------------------------------------------------------------\u001b[0m",
      "\u001b[0;31mKeyboardInterrupt\u001b[0m                         Traceback (most recent call last)",
      "\u001b[0;32m<ipython-input-108-786c86d38d91>\u001b[0m in \u001b[0;36m<module>\u001b[0;34m()\u001b[0m\n\u001b[1;32m     13\u001b[0m             \u001b[0mreview_avg\u001b[0m \u001b[0;34m=\u001b[0m \u001b[0mmeta_reviews_df\u001b[0m\u001b[0;34m[\u001b[0m\u001b[0mmeta_reviews_df\u001b[0m\u001b[0;34m[\u001b[0m\u001b[0;34m'asin'\u001b[0m\u001b[0;34m]\u001b[0m \u001b[0;34m==\u001b[0m \u001b[0mmeta_books\u001b[0m\u001b[0;34m.\u001b[0m\u001b[0miloc\u001b[0m\u001b[0;34m[\u001b[0m\u001b[0mi\u001b[0m\u001b[0;34m]\u001b[0m\u001b[0;34m.\u001b[0m\u001b[0masin\u001b[0m\u001b[0;34m]\u001b[0m\u001b[0;34m.\u001b[0m\u001b[0mmean\u001b[0m\u001b[0;34m(\u001b[0m\u001b[0;34m)\u001b[0m\u001b[0;34m.\u001b[0m\u001b[0moverall\u001b[0m\u001b[0;34m\u001b[0m\u001b[0m\n\u001b[1;32m     14\u001b[0m             \u001b[0mreview_std\u001b[0m \u001b[0;34m=\u001b[0m \u001b[0mmeta_reviews_df\u001b[0m\u001b[0;34m[\u001b[0m\u001b[0mmeta_reviews_df\u001b[0m\u001b[0;34m[\u001b[0m\u001b[0;34m'asin'\u001b[0m\u001b[0;34m]\u001b[0m \u001b[0;34m==\u001b[0m \u001b[0mmeta_books\u001b[0m\u001b[0;34m.\u001b[0m\u001b[0miloc\u001b[0m\u001b[0;34m[\u001b[0m\u001b[0mi\u001b[0m\u001b[0;34m]\u001b[0m\u001b[0;34m.\u001b[0m\u001b[0masin\u001b[0m\u001b[0;34m]\u001b[0m\u001b[0;34m.\u001b[0m\u001b[0mstd\u001b[0m\u001b[0;34m(\u001b[0m\u001b[0;34m)\u001b[0m\u001b[0;34m.\u001b[0m\u001b[0moverall\u001b[0m\u001b[0;34m\u001b[0m\u001b[0m\n\u001b[0;32m---> 15\u001b[0;31m             \u001b[0mreview_count\u001b[0m \u001b[0;34m=\u001b[0m \u001b[0mmeta_reviews_df\u001b[0m\u001b[0;34m[\u001b[0m\u001b[0mmeta_reviews_df\u001b[0m\u001b[0;34m[\u001b[0m\u001b[0;34m'asin'\u001b[0m\u001b[0;34m]\u001b[0m \u001b[0;34m==\u001b[0m \u001b[0mmeta_books\u001b[0m\u001b[0;34m.\u001b[0m\u001b[0miloc\u001b[0m\u001b[0;34m[\u001b[0m\u001b[0mi\u001b[0m\u001b[0;34m]\u001b[0m\u001b[0;34m.\u001b[0m\u001b[0masin\u001b[0m\u001b[0;34m]\u001b[0m\u001b[0;34m.\u001b[0m\u001b[0mcount\u001b[0m\u001b[0;34m(\u001b[0m\u001b[0;34m)\u001b[0m\u001b[0;34m.\u001b[0m\u001b[0moverall\u001b[0m\u001b[0;34m\u001b[0m\u001b[0m\n\u001b[0m\u001b[1;32m     16\u001b[0m             \u001b[0masin\u001b[0m \u001b[0;34m=\u001b[0m \u001b[0mmeta_books\u001b[0m\u001b[0;34m.\u001b[0m\u001b[0miloc\u001b[0m\u001b[0;34m[\u001b[0m\u001b[0mi\u001b[0m\u001b[0;34m]\u001b[0m\u001b[0;34m.\u001b[0m\u001b[0masin\u001b[0m\u001b[0;34m\u001b[0m\u001b[0m\n\u001b[1;32m     17\u001b[0m             \u001b[0mprice\u001b[0m \u001b[0;34m=\u001b[0m \u001b[0mmeta_books\u001b[0m\u001b[0;34m.\u001b[0m\u001b[0miloc\u001b[0m\u001b[0;34m[\u001b[0m\u001b[0mi\u001b[0m\u001b[0;34m]\u001b[0m\u001b[0;34m.\u001b[0m\u001b[0mprice\u001b[0m\u001b[0;34m\u001b[0m\u001b[0m\n",
      "\u001b[0;32m/anaconda/lib/python3.6/site-packages/pandas/core/ops.py\u001b[0m in \u001b[0;36mwrapper\u001b[0;34m(self, other, axis)\u001b[0m\n\u001b[1;32m    859\u001b[0m \u001b[0;34m\u001b[0m\u001b[0m\n\u001b[1;32m    860\u001b[0m             \u001b[0;32mwith\u001b[0m \u001b[0mnp\u001b[0m\u001b[0;34m.\u001b[0m\u001b[0merrstate\u001b[0m\u001b[0;34m(\u001b[0m\u001b[0mall\u001b[0m\u001b[0;34m=\u001b[0m\u001b[0;34m'ignore'\u001b[0m\u001b[0;34m)\u001b[0m\u001b[0;34m:\u001b[0m\u001b[0;34m\u001b[0m\u001b[0m\n\u001b[0;32m--> 861\u001b[0;31m                 \u001b[0mres\u001b[0m \u001b[0;34m=\u001b[0m \u001b[0mna_op\u001b[0m\u001b[0;34m(\u001b[0m\u001b[0mvalues\u001b[0m\u001b[0;34m,\u001b[0m \u001b[0mother\u001b[0m\u001b[0;34m)\u001b[0m\u001b[0;34m\u001b[0m\u001b[0m\n\u001b[0m\u001b[1;32m    862\u001b[0m             \u001b[0;32mif\u001b[0m \u001b[0mis_scalar\u001b[0m\u001b[0;34m(\u001b[0m\u001b[0mres\u001b[0m\u001b[0;34m)\u001b[0m\u001b[0;34m:\u001b[0m\u001b[0;34m\u001b[0m\u001b[0m\n\u001b[1;32m    863\u001b[0m                 raise TypeError('Could not compare %s type with Series' %\n",
      "\u001b[0;32m/anaconda/lib/python3.6/site-packages/pandas/core/ops.py\u001b[0m in \u001b[0;36mna_op\u001b[0;34m(x, y)\u001b[0m\n\u001b[1;32m    763\u001b[0m \u001b[0;34m\u001b[0m\u001b[0m\n\u001b[1;32m    764\u001b[0m         \u001b[0;32mif\u001b[0m \u001b[0mis_object_dtype\u001b[0m\u001b[0;34m(\u001b[0m\u001b[0mx\u001b[0m\u001b[0;34m.\u001b[0m\u001b[0mdtype\u001b[0m\u001b[0;34m)\u001b[0m\u001b[0;34m:\u001b[0m\u001b[0;34m\u001b[0m\u001b[0m\n\u001b[0;32m--> 765\u001b[0;31m             \u001b[0mresult\u001b[0m \u001b[0;34m=\u001b[0m \u001b[0m_comp_method_OBJECT_ARRAY\u001b[0m\u001b[0;34m(\u001b[0m\u001b[0mop\u001b[0m\u001b[0;34m,\u001b[0m \u001b[0mx\u001b[0m\u001b[0;34m,\u001b[0m \u001b[0my\u001b[0m\u001b[0;34m)\u001b[0m\u001b[0;34m\u001b[0m\u001b[0m\n\u001b[0m\u001b[1;32m    766\u001b[0m         \u001b[0;32melse\u001b[0m\u001b[0;34m:\u001b[0m\u001b[0;34m\u001b[0m\u001b[0m\n\u001b[1;32m    767\u001b[0m \u001b[0;34m\u001b[0m\u001b[0m\n",
      "\u001b[0;32m/anaconda/lib/python3.6/site-packages/pandas/core/ops.py\u001b[0m in \u001b[0;36m_comp_method_OBJECT_ARRAY\u001b[0;34m(op, x, y)\u001b[0m\n\u001b[1;32m    743\u001b[0m         \u001b[0mresult\u001b[0m \u001b[0;34m=\u001b[0m \u001b[0mlib\u001b[0m\u001b[0;34m.\u001b[0m\u001b[0mvec_compare\u001b[0m\u001b[0;34m(\u001b[0m\u001b[0mx\u001b[0m\u001b[0;34m,\u001b[0m \u001b[0my\u001b[0m\u001b[0;34m,\u001b[0m \u001b[0mop\u001b[0m\u001b[0;34m)\u001b[0m\u001b[0;34m\u001b[0m\u001b[0m\n\u001b[1;32m    744\u001b[0m     \u001b[0;32melse\u001b[0m\u001b[0;34m:\u001b[0m\u001b[0;34m\u001b[0m\u001b[0m\n\u001b[0;32m--> 745\u001b[0;31m         \u001b[0mresult\u001b[0m \u001b[0;34m=\u001b[0m \u001b[0mlib\u001b[0m\u001b[0;34m.\u001b[0m\u001b[0mscalar_compare\u001b[0m\u001b[0;34m(\u001b[0m\u001b[0mx\u001b[0m\u001b[0;34m,\u001b[0m \u001b[0my\u001b[0m\u001b[0;34m,\u001b[0m \u001b[0mop\u001b[0m\u001b[0;34m)\u001b[0m\u001b[0;34m\u001b[0m\u001b[0m\n\u001b[0m\u001b[1;32m    746\u001b[0m     \u001b[0;32mreturn\u001b[0m \u001b[0mresult\u001b[0m\u001b[0;34m\u001b[0m\u001b[0m\n\u001b[1;32m    747\u001b[0m \u001b[0;34m\u001b[0m\u001b[0m\n",
      "\u001b[0;31mKeyboardInterrupt\u001b[0m: "
     ]
    }
   ],
   "source": [
    "books_price_reviews = []\n",
    "\n",
    "for i in range(1):\n",
    "    if not np.isnan(meta_books.iloc[i].price):  \n",
    "\n",
    "        if meta_books.iloc[i].asin in books_reviews_df.asin:\n",
    "            review_avg = books_reviews_df['review_avg']\n",
    "            review_std = books_reviews_df['review_std']\n",
    "            review_count = books_reviews_df['review_count']\n",
    "            asin = books_reviews_df['asin']\n",
    "            price = meta_books.iloc[i].price\n",
    "        else:\n",
    "            review_avg = meta_reviews_df[meta_reviews_df['asin'] == meta_books.iloc[i].asin].mean().overall\n",
    "            review_std = meta_reviews_df[meta_reviews_df['asin'] == meta_books.iloc[i].asin].std().overall\n",
    "            review_count = meta_reviews_df[meta_reviews_df['asin'] == meta_books.iloc[i].asin].count().overall\n",
    "            asin = meta_books.iloc[i].asin\n",
    "            price = meta_books.iloc[i].price\n",
    "            \n",
    "        books_price_reviews.append({\n",
    "            'asin': asin,\n",
    "            'price': price,\n",
    "            'review_avg': review_avg,\n",
    "            'review_std': review_std,\n",
    "            'review_count': review_count,\n",
    "        })\n",
    "    "
   ]
  },
  {
   "cell_type": "markdown",
   "metadata": {},
   "source": [
    "This are the 3 most expensives books from our selection."
   ]
  },
  {
   "cell_type": "code",
   "execution_count": 314,
   "metadata": {
    "scrolled": true
   },
   "outputs": [
    {
     "data": {
      "text/html": [
       "<div>\n",
       "<style>\n",
       "    .dataframe thead tr:only-child th {\n",
       "        text-align: right;\n",
       "    }\n",
       "\n",
       "    .dataframe thead th {\n",
       "        text-align: left;\n",
       "    }\n",
       "\n",
       "    .dataframe tbody tr th {\n",
       "        vertical-align: top;\n",
       "    }\n",
       "</style>\n",
       "<table border=\"1\" class=\"dataframe\">\n",
       "  <thead>\n",
       "    <tr style=\"text-align: right;\">\n",
       "      <th></th>\n",
       "      <th>asin</th>\n",
       "      <th>price</th>\n",
       "      <th>review_avg</th>\n",
       "      <th>review_count</th>\n",
       "      <th>review_std</th>\n",
       "    </tr>\n",
       "  </thead>\n",
       "  <tbody>\n",
       "    <tr>\n",
       "      <th>4689</th>\n",
       "      <td>0028972252</td>\n",
       "      <td>673.92</td>\n",
       "      <td>4.5</td>\n",
       "      <td>2</td>\n",
       "      <td>0.707107</td>\n",
       "    </tr>\n",
       "    <tr>\n",
       "      <th>4587</th>\n",
       "      <td>0028658310</td>\n",
       "      <td>637.45</td>\n",
       "      <td>5.0</td>\n",
       "      <td>1</td>\n",
       "      <td>NaN</td>\n",
       "    </tr>\n",
       "    <tr>\n",
       "      <th>4613</th>\n",
       "      <td>002865806X</td>\n",
       "      <td>620.35</td>\n",
       "      <td>5.0</td>\n",
       "      <td>1</td>\n",
       "      <td>NaN</td>\n",
       "    </tr>\n",
       "  </tbody>\n",
       "</table>\n",
       "</div>"
      ],
      "text/plain": [
       "            asin   price  review_avg  review_count  review_std\n",
       "4689  0028972252  673.92         4.5             2    0.707107\n",
       "4587  0028658310  637.45         5.0             1         NaN\n",
       "4613  002865806X  620.35         5.0             1         NaN"
      ]
     },
     "execution_count": 314,
     "metadata": {},
     "output_type": "execute_result"
    }
   ],
   "source": [
    "books_price_reviews_df = pd.DataFrame.from_dict(books_price_reviews)\n",
    "books_price_reviews_df.sort_values(by='price',ascending=False).head(3)"
   ]
  },
  {
   "cell_type": "code",
   "execution_count": 315,
   "metadata": {},
   "outputs": [
    {
     "data": {
      "image/png": "[encoded data removed]",
      "text/plain": [
       "<matplotlib.figure.Figure at 0x1bce7d0278>"
      ]
     },
     "metadata": {},
     "output_type": "display_data"
    }
   ],
   "source": [
    "plt.figure(figsize=(14,5))\n",
    "plt.plot(books_price_reviews_df.review_avg.values, books_price_reviews_df.price.values, 'o')\n",
    "axes = plt.gca()\n",
    "plt.title('Correlation between review and price')\n",
    "plt.xlabel('Review average grade')\n",
    "plt.ylabel('Price')\n",
    "plt.grid()\n",
    "plt.show()"
   ]
  },
  {
   "cell_type": "code",
   "execution_count": 317,
   "metadata": {},
   "outputs": [
    {
     "data": {
      "image/png": "[encoded data removed]",
      "text/plain": [
       "<matplotlib.figure.Figure at 0x1cfacac2e8>"
      ]
     },
     "metadata": {},
     "output_type": "display_data"
    }
   ],
   "source": [
    "plt.figure(figsize=(14,5))\n",
    "plt.plot(books_price_reviews_df.review_std.values, books_price_reviews_df.price.values, 'o')\n",
    "axes = plt.gca()\n",
    "plt.title('Correlation between review and price')\n",
    "plt.xlabel('Review standard deviation')\n",
    "plt.ylabel('Price')\n",
    "plt.grid()\n",
    "plt.show()"
   ]
  },
  {
   "cell_type": "code",
   "execution_count": 316,
   "metadata": {},
   "outputs": [
    {
     "data": {
      "image/png": "[encoded data removed]",
      "text/plain": [
       "<matplotlib.figure.Figure at 0x1bb536d3c8>"
      ]
     },
     "metadata": {},
     "output_type": "display_data"
    }
   ],
   "source": [
    "plt.figure(figsize=(14,5))\n",
    "plt.plot(books_price_reviews_df.review_count.values, books_price_reviews_df.price.values, 'o')\n",
    "axes = plt.gca()\n",
    "plt.title('Correlation between review and price')\n",
    "plt.xlabel('Review quantity')\n",
    "plt.ylabel('Price')\n",
    "plt.grid()\n",
    "plt.show()"
   ]
  },
  {
   "cell_type": "markdown",
   "metadata": {},
   "source": [
    "We observe these 3 plots and see if we can se correlation between review and price. Following these observations we can say that:\n",
    "- even if we see a small trend to say that an expensive book lead to good review, this trend is not enough to conclude a correlation between review average grade and price.\n",
    "- a book which has a big standard deviation in its reviews, representing a big difference between reviews can be cheap or expensive.\n",
    "- a book which has a lot of reviews is more likely to have a low price. This is linked to the sales rank explored before. A low price lead a better sales rank and then more reviews. \n",
    "\n",
    "To have a better view of the impacts of price, we decide to use our work on book similarity. We want to compare the books price of two similar books and see how reviews may influence that difference. "
   ]
  },
  {
   "cell_type": "markdown",
   "metadata": {},
   "source": [
    "### Comparison inside book similarities\n",
    "\n",
    "Now we want to see if a two similar books with different price have different reviews characteristics."
   ]
  },
  {
   "cell_type": "code",
   "execution_count": 319,
   "metadata": {},
   "outputs": [
    {
     "data": {
      "text/plain": [
       "(2370585, 25)"
      ]
     },
     "execution_count": 319,
     "metadata": {},
     "output_type": "execute_result"
    }
   ],
   "source": [
    "meta_books.shape # All database of books"
   ]
  },
  {
   "cell_type": "code",
   "execution_count": 320,
   "metadata": {},
   "outputs": [
    {
     "data": {
      "text/plain": [
       "(1611, 5)"
      ]
     },
     "execution_count": 320,
     "metadata": {},
     "output_type": "execute_result"
    }
   ],
   "source": [
    "books_reviews_df.shape # Books that have similarities "
   ]
  },
  {
   "cell_type": "markdown",
   "metadata": {},
   "source": [
    "First, we take the books that are similar. Then we compute the difference in term of price normalized, review average, review quantity and review standard deviation."
   ]
  },
  {
   "cell_type": "code",
   "execution_count": 358,
   "metadata": {
    "collapsed": true
   },
   "outputs": [],
   "source": [
    "books_price_reviews_diff = []\n",
    "\n",
    "for i in range(len(very_similars)-1):\n",
    "    similars = very_similars[books_reviews_df.iloc[i].asin]\n",
    "    \n",
    "    for s in similars:\n",
    "        book_similar = books_reviews_df[books_reviews_df['asin'] == s]\n",
    "\n",
    "        diff_price = (meta_books[meta_books['asin'] == books_reviews_df.iloc[i].asin].price.values[0] - meta_books[meta_books['asin'] == book_similar.asin.values[0]].price.values[0])/meta_books[meta_books['asin'] == book_similar.asin.values[0]].price.values[0]\n",
    "        \n",
    "        diff_review_avg = abs(books_reviews_df.iloc[i].review_avg - book_similar.review_avg.values[0])\n",
    "        diff_review_count = abs(books_reviews_df.iloc[i].review_count - book_similar.review_count.values[0])\n",
    "        diff_review_std = abs(books_reviews_df.iloc[i].review_std - book_similar.review_std.values[0])\n",
    "        \n",
    "        books_price_reviews_diff.append({\n",
    "            'diff_price': diff_price,\n",
    "            'diff_review_avg': diff_review_avg,\n",
    "            'diff_review_count': diff_review_count,\n",
    "            'diff_review_std': diff_review_std,\n",
    "        })"
   ]
  },
  {
   "cell_type": "code",
   "execution_count": 369,
   "metadata": {},
   "outputs": [
    {
     "data": {
      "text/html": [
       "<div>\n",
       "<style>\n",
       "    .dataframe thead tr:only-child th {\n",
       "        text-align: right;\n",
       "    }\n",
       "\n",
       "    .dataframe thead th {\n",
       "        text-align: left;\n",
       "    }\n",
       "\n",
       "    .dataframe tbody tr th {\n",
       "        vertical-align: top;\n",
       "    }\n",
       "</style>\n",
       "<table border=\"1\" class=\"dataframe\">\n",
       "  <thead>\n",
       "    <tr style=\"text-align: right;\">\n",
       "      <th></th>\n",
       "      <th>diff_price</th>\n",
       "      <th>diff_review_avg</th>\n",
       "      <th>diff_review_count</th>\n",
       "      <th>diff_review_std</th>\n",
       "    </tr>\n",
       "  </thead>\n",
       "  <tbody>\n",
       "    <tr>\n",
       "      <th>0</th>\n",
       "      <td>-0.309673</td>\n",
       "      <td>0.444028</td>\n",
       "      <td>2</td>\n",
       "      <td>0.482609</td>\n",
       "    </tr>\n",
       "    <tr>\n",
       "      <th>1</th>\n",
       "      <td>-0.014155</td>\n",
       "      <td>0.332174</td>\n",
       "      <td>2</td>\n",
       "      <td>0.062765</td>\n",
       "    </tr>\n",
       "    <tr>\n",
       "      <th>2</th>\n",
       "      <td>0.520494</td>\n",
       "      <td>0.057572</td>\n",
       "      <td>86</td>\n",
       "      <td>0.149765</td>\n",
       "    </tr>\n",
       "  </tbody>\n",
       "</table>\n",
       "</div>"
      ],
      "text/plain": [
       "   diff_price  diff_review_avg  diff_review_count  diff_review_std\n",
       "0   -0.309673         0.444028                  2         0.482609\n",
       "1   -0.014155         0.332174                  2         0.062765\n",
       "2    0.520494         0.057572                 86         0.149765"
      ]
     },
     "execution_count": 369,
     "metadata": {},
     "output_type": "execute_result"
    }
   ],
   "source": [
    "books_price_reviews_diff_df = pd.DataFrame.from_dict(books_price_reviews_diff)\n",
    "books_price_reviews_diff_df.head(3)"
   ]
  },
  {
   "cell_type": "markdown",
   "metadata": {},
   "source": [
    "The difference of price is normalized. For example, the first row represent 31% of difference between the 2 book prices. To have a better understanding in our visualization, we decide to descretize our values and create a heatmap."
   ]
  },
  {
   "cell_type": "code",
   "execution_count": 375,
   "metadata": {},
   "outputs": [],
   "source": [
    "cut_diff_price = np.linspace(-1, 8, num=40)\n",
    "cut_diff_review_avg = np.linspace(0, 2.955122, num=30)\n",
    "\n",
    "books_price_reviews_diff_df['Price_difference'] = pd.cut(books_price_reviews_diff_df['diff_price'], cut_diff_price)\n",
    "books_price_reviews_diff_df['Review_average_difference'] = pd.cut(books_price_reviews_diff_df['diff_review_avg'], cut_diff_review_avg)"
   ]
  },
  {
   "cell_type": "code",
   "execution_count": 376,
   "metadata": {},
   "outputs": [
    {
     "data": {
      "text/plain": [
       "<matplotlib.axes._subplots.AxesSubplot at 0x1b3dda17b8>"
      ]
     },
     "execution_count": 376,
     "metadata": {},
     "output_type": "execute_result"
    },
    {
     "data": {
      "image/png": "[encoded data removed]",
      "text/plain": [
       "<matplotlib.figure.Figure at 0x1be8f39588>"
      ]
     },
     "metadata": {},
     "output_type": "display_data"
    }
   ],
   "source": [
    "heat_map = books_price_reviews_diff_df.pivot_table(index='Price_difference', columns='Review_average_difference', values='diff_review_count', aggfunc=lambda x: len(x.unique()))\n",
    "sns.set()\n",
    "f, ax = plt.subplots(figsize=(10, 10))\n",
    "sns.heatmap(heat_map, annot=True, linewidths=0.1, ax=ax, cmap=\"YlGnBu\")"
   ]
  },
  {
   "cell_type": "markdown",
   "metadata": {},
   "source": [
    "From this heatmap, we see that some similar books have a big price difference without having a lot of difference in the average review rating. \n",
    "- Example: 18 similar books who have a price difference around 40% have almost same average reviews grade. "
   ]
  },
  {
   "cell_type": "markdown",
   "metadata": {},
   "source": [
    "#### Pickle of our dataframes"
   ]
  },
  {
   "cell_type": "code",
   "execution_count": 385,
   "metadata": {
    "collapsed": true
   },
   "outputs": [],
   "source": [
    "ANALYSIS_DATA_FOLDER = 'analysis_data/'\n",
    "\n",
    "books_price_reviews_df.to_pickle(ANALYSIS_DATA_FOLDER + 'books_price_reviews')\n",
    "books_price_reviews_diff_df.to_pickle(ANALYSIS_DATA_FOLDER + 'books_price_reviews_diff')"
   ]
  },
  {
   "cell_type": "code",
   "execution_count": 386,
   "metadata": {
    "collapsed": true
   },
   "outputs": [],
   "source": [
    "books_reviews_df.to_pickle(ANALYSIS_DATA_FOLDER + 'books_reviews_df')\n"
   ]
  },
  {
   "cell_type": "code",
   "execution_count": null,
   "metadata": {
    "collapsed": true
   },
   "outputs": [],
   "source": []
  }
 ],
 "metadata": {
  "kernelspec": {
   "display_name": "Python 3",
   "language": "python",
   "name": "python3"
  },
  "language_info": {
   "codemirror_mode": {
    "name": "ipython",
    "version": 3
   },
   "file_extension": ".py",
   "mimetype": "text/x-python",
   "name": "python",
   "nbconvert_exporter": "python",
   "pygments_lexer": "ipython3",
   "version": "3.6.1"
  }
 },
 "nbformat": 4,
 "nbformat_minor": 2
}
