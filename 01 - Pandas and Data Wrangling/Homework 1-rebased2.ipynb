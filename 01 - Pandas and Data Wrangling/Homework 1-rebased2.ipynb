{
 "cells": [
  {
   "cell_type": "code",
   "execution_count": 1,
   "metadata": {
    "collapsed": true
   },
   "outputs": [],
   "source": [
    "%matplotlib inline\n",
    "import pandas as pd\n",
    "import numpy as np\n",
    "import matplotlib.pyplot as plt\n",
    "import seaborn as sns\n",
    "import glob\n",
    "sns.set_context('notebook')"
   ]
  },
  {
   "cell_type": "markdown",
   "metadata": {},
   "source": [
    "# Table of Contents\n",
    " <p><div class=\"lev1\"><a href=\"#Task-1.-Compiling-Ebola-Data\"><span class=\"toc-item-num\">Task 1.&nbsp;&nbsp;</span>Compiling Ebola Data</a></div>\n",
    " <div class=\"lev1\"><a href=\"#Task-2.-RNA-Sequences\"><span class=\"toc-item-num\">Task 2.&nbsp;&nbsp;</span>RNA Sequences</a></div>\n",
    " <div class=\"lev1\"><a href=\"#Task-3.-Class-War-in-Titanic\"><span class=\"toc-item-num\">Task 3.&nbsp;&nbsp;</span>Class War in Titanic</a></div></p>"
   ]
  },
  {
   "cell_type": "code",
   "execution_count": 2,
   "metadata": {
    "collapsed": true
   },
   "outputs": [],
   "source": [
    "pd.options.mode.chained_assignment = None  # default='warn', Mutes warnings when copying a slice from a DataFrame."
   ]
  },
  {
   "cell_type": "code",
   "execution_count": 3,
   "metadata": {
    "collapsed": true
   },
   "outputs": [],
   "source": [
    "DATA_FOLDER = './Data' \n",
    "EBOLA_FOLDER = DATA_FOLDER + '/ebola'\n",
    "\n",
    "GUINEA_FOLDER = EBOLA_FOLDER + '/guinea_data'\n",
    "LIBERIA_FOLDER = EBOLA_FOLDER + '/liberia_data'\n",
    "SIERRA_LEONE_FOLDER = EBOLA_FOLDER + '/sl_data'"
   ]
  },
  {
   "cell_type": "markdown",
   "metadata": {},
   "source": [
    "## Task 1. Compiling Ebola Data\n",
    "\n",
    "The `DATA_FOLDER/ebola` folder contains summarized reports of Ebola cases from three countries (Guinea, Liberia and Sierra Leone) during the recent outbreak of the disease in West Africa. For each country, there are daily reports that contain various information about the outbreak in several cities in each country.\n",
    "\n",
    "Use pandas to import these data files into a single `Dataframe`.\n",
    "Using this `DataFrame`, calculate for *each country*, the *daily average per month* of *new cases* and *deaths*.\n",
    "Make sure you handle all the different expressions for *new cases* and *deaths* that are used in the reports."
   ]
  },
  {
   "cell_type": "markdown",
   "metadata": {},
   "source": [
    "### 1 - Cleaning Guinea"
   ]
  },
  {
   "cell_type": "markdown",
   "metadata": {},
   "source": [
    "We want to identify the models. We will call model the different kind of ```Description``` values that are present in files. To be able to clean them as a whole. We will drop the columns of each region as we are only interested in national numbers. \n",
    "\n",
    "We use ```glob``` in order to get all UNIX style pathname pattern expansion to be able to import all files."
   ]
  },
  {
   "cell_type": "code",
   "execution_count": 63,
   "metadata": {
    "collapsed": true
   },
   "outputs": [],
   "source": [
    "def find_model(distinct_model_variables,current_model):\n",
    "    for i,d in enumerate(distinct_model_variables):\n",
    "        if d == current_model:\n",
    "            return i\n",
    "    return -1\n",
    "\n",
    "def print_distinct_model_repartition(n_distinct_models, belongs_to):\n",
    "    for model_num in range(0,n_distinct_models):\n",
    "        n_model = len([x for x in belongs_to if x == model_num])\n",
    "        print(\"{} file(s) in model {}\".format(n_model,model_num))\n",
    "\n",
    "def get_distinct_model(path_to_folder,desc_col_name,date_col_name,total_col_name):\n",
    "    country_df = pd.DataFrame()\n",
    "    list_ = []\n",
    "    distinct_model_variables = []\n",
    "    belongs_to_model = []\n",
    "    \n",
    "    allFiles = glob.glob(path_to_folder + \"/*.csv\")\n",
    "    cols_to_use = [desc_col_name,date_col_name,total_col_name]\n",
    "    \n",
    "\n",
    "    for file_ in allFiles:\n",
    "        df = pd.read_csv(file_,index_col=None, header=0,usecols=cols_to_use,parse_dates=[date_col_name],thousands=',')\n",
    "        list_.append(df)\n",
    "    \n",
    "    for df in list_:\n",
    "        current_model = set(df[desc_col_name].values)\n",
    "        index = find_model(distinct_model_variables,current_model)\n",
    "        if(index == -1):\n",
    "            distinct_model_variables.append(current_model)\n",
    "            belongs_to_model.append(len(distinct_model_variables)-1)\n",
    "        else:\n",
    "            belongs_to_model.append(index)\n",
    "    \n",
    "    n_distinct_models = len(distinct_model_variables)\n",
    "    print('We have found {} different model(s).'.format(n_distinct_models))\n",
    "    print_distinct_model_repartition(n_distinct_models,belongs_to_model)\n",
    "    \n",
    "    return (list_,distinct_model_variables,belongs_to_model)\n",
    "\n",
    "def get_grouped_dataframes(path_to_folder,desc_col_name,date_col_name,total_col_name):\n",
    "    (dfs,distinct_model_variables,belongs_to_model) = get_distinct_model(path_to_folder,desc_col_name,date_col_name,total_col_name)\n",
    "    \n",
    "    n_distinct_models = len(distinct_model_variables)\n",
    "    model_dataframes = []\n",
    "    for i in range(0,n_distinct_models):\n",
    "        list_ = []\n",
    "\n",
    "        for j,m in enumerate(belongs_to_model):\n",
    "            if(m == i):\n",
    "                list_.append(dfs[j])\n",
    "        \n",
    "        # We also parse the date and get rid of the 'Date' column\n",
    "        df = pd.concat(list_)\n",
    "        df['Month'] = df['Date'].map(lambda x:x.month)\n",
    "        df['Day'] = df['Date'].map(lambda x:x.day)\n",
    "        df = df.drop('Date',axis=1)\n",
    "        \n",
    "        df.set_index(['Month','Day',desc_col_name],inplace=True)\n",
    "        #df = df.dropna()\n",
    "        \n",
    "        if df.index.is_unique:\n",
    "            df = df[[total_col_name]].unstack(desc_col_name)\n",
    "            \n",
    "            # To avoid hierarchical columns, we drop the first level\n",
    "            df.columns = df.columns.droplevel(0)\n",
    "            df.columns.name = ''\n",
    "\n",
    "        model_dataframes.append(df)\n",
    "    return model_dataframes"
   ]
  },
  {
   "cell_type": "code",
   "execution_count": 5,
   "metadata": {
    "scrolled": false
   },
   "outputs": [
    {
     "name": "stdout",
     "output_type": "stream",
     "text": [
      "We have found 2 different model(s).\n",
      "1 file(s) in model 0\n",
      "21 file(s) in model 1\n"
     ]
    }
   ],
   "source": [
    "path = GUINEA_FOLDER\n",
    "model_dataframes = get_grouped_dataframes(GUINEA_FOLDER,'Description','Date','Totals')\n",
    "df_model_0 = model_dataframes[0]"
   ]
  },
  {
   "cell_type": "markdown",
   "metadata": {},
   "source": [
    "We have found 2 different 'models' of description values. Therefore we select the columns of interest for each of them. To do so we list the columns and look at those that talk about cases and deaths."
   ]
  },
  {
   "cell_type": "code",
   "execution_count": 7,
   "metadata": {},
   "outputs": [
    {
     "name": "stdout",
     "output_type": "stream",
     "text": [
      "['New deaths registered today', 'New deaths registered today (confirmed)', 'New deaths registered today (probables)', 'New deaths registered today (suspects)', 'Number of deaths of confirmed cases among health workers', 'Number of deaths of probables cases among health workers', 'Total deaths (confirmed + probables + suspects)', 'Total deaths of confirmed', 'Total deaths of probables', 'Total deaths of suspects', 'Total of deaths in confirmed cases in CTE']\n"
     ]
    }
   ],
   "source": [
    "# We check for deaths\n",
    "cols = df_model_0.columns.values.tolist()\n",
    "rel_cols = [c for c in cols if 'deaths' in c]\n",
    "print(rel_cols)"
   ]
  },
  {
   "cell_type": "code",
   "execution_count": 8,
   "metadata": {
    "scrolled": false
   },
   "outputs": [
    {
     "data": {
      "text/html": [
       "<div>\n",
       "<style>\n",
       "    .dataframe thead tr:only-child th {\n",
       "        text-align: right;\n",
       "    }\n",
       "\n",
       "    .dataframe thead th {\n",
       "        text-align: left;\n",
       "    }\n",
       "\n",
       "    .dataframe tbody tr th {\n",
       "        vertical-align: top;\n",
       "    }\n",
       "</style>\n",
       "<table border=\"1\" class=\"dataframe\">\n",
       "  <thead>\n",
       "    <tr style=\"text-align: right;\">\n",
       "      <th></th>\n",
       "      <th></th>\n",
       "      <th>New deaths registered today</th>\n",
       "      <th>New deaths registered today (confirmed)</th>\n",
       "      <th>New deaths registered today (probables)</th>\n",
       "      <th>New deaths registered today (suspects)</th>\n",
       "      <th>Number of deaths of confirmed cases among health workers</th>\n",
       "      <th>Number of deaths of probables cases among health workers</th>\n",
       "      <th>Total deaths (confirmed + probables + suspects)</th>\n",
       "      <th>Total deaths of confirmed</th>\n",
       "      <th>Total deaths of probables</th>\n",
       "      <th>Total deaths of suspects</th>\n",
       "      <th>Total of deaths in confirmed cases in CTE</th>\n",
       "    </tr>\n",
       "    <tr>\n",
       "      <th>Month</th>\n",
       "      <th>Day</th>\n",
       "      <th></th>\n",
       "      <th></th>\n",
       "      <th></th>\n",
       "      <th></th>\n",
       "      <th></th>\n",
       "      <th></th>\n",
       "      <th></th>\n",
       "      <th></th>\n",
       "      <th></th>\n",
       "      <th></th>\n",
       "      <th></th>\n",
       "    </tr>\n",
       "  </thead>\n",
       "  <tbody>\n",
       "    <tr>\n",
       "      <th>8</th>\n",
       "      <th>4</th>\n",
       "      <td>2</td>\n",
       "      <td>2</td>\n",
       "      <td>0</td>\n",
       "      <td>0</td>\n",
       "      <td>12</td>\n",
       "      <td>8</td>\n",
       "      <td>363</td>\n",
       "      <td>228</td>\n",
       "      <td>133</td>\n",
       "      <td>2</td>\n",
       "      <td>138</td>\n",
       "    </tr>\n",
       "  </tbody>\n",
       "</table>\n",
       "</div>"
      ],
      "text/plain": [
       "           New deaths registered today  \\\n",
       "Month Day                                \n",
       "8     4                              2   \n",
       "\n",
       "           New deaths registered today (confirmed)  \\\n",
       "Month Day                                            \n",
       "8     4                                          2   \n",
       "\n",
       "           New deaths registered today (probables)  \\\n",
       "Month Day                                            \n",
       "8     4                                          0   \n",
       "\n",
       "           New deaths registered today (suspects)  \\\n",
       "Month Day                                           \n",
       "8     4                                         0   \n",
       "\n",
       "           Number of deaths of confirmed cases among health workers  \\\n",
       "Month Day                                                             \n",
       "8     4                                                   12          \n",
       "\n",
       "           Number of deaths of probables cases among health workers  \\\n",
       "Month Day                                                             \n",
       "8     4                                                    8          \n",
       "\n",
       "           Total deaths (confirmed + probables + suspects)  \\\n",
       "Month Day                                                    \n",
       "8     4                                                363   \n",
       "\n",
       "           Total deaths of confirmed  Total deaths of probables  \\\n",
       "Month Day                                                         \n",
       "8     4                          228                        133   \n",
       "\n",
       "           Total deaths of suspects  Total of deaths in confirmed cases in CTE  \n",
       "Month Day                                                                       \n",
       "8     4                           2                                        138  "
      ]
     },
     "execution_count": 8,
     "metadata": {},
     "output_type": "execute_result"
    }
   ],
   "source": [
    "df_model_0.loc[:,rel_cols]"
   ]
  },
  {
   "cell_type": "markdown",
   "metadata": {},
   "source": [
    "We will only consider the column containing new, as the ```Total``` and ```Number`` columns seem to be cumulative. Seeing, that ```New deaths registered today = 2``` and that it equals the sum of :\n",
    "* New deaths registered today (confirmed)\n",
    "* New deaths registered today (probables) \n",
    "* New deaths registered today (suspects)"
   ]
  },
  {
   "cell_type": "code",
   "execution_count": 9,
   "metadata": {
    "collapsed": true,
    "scrolled": true
   },
   "outputs": [],
   "source": [
    "df_model_0['New Deaths'] = df_model_0[['New deaths registered today']]"
   ]
  },
  {
   "cell_type": "code",
   "execution_count": 11,
   "metadata": {
    "scrolled": true
   },
   "outputs": [
    {
     "data": {
      "text/html": [
       "<div>\n",
       "<style>\n",
       "    .dataframe thead tr:only-child th {\n",
       "        text-align: right;\n",
       "    }\n",
       "\n",
       "    .dataframe thead th {\n",
       "        text-align: left;\n",
       "    }\n",
       "\n",
       "    .dataframe tbody tr th {\n",
       "        vertical-align: top;\n",
       "    }\n",
       "</style>\n",
       "<table border=\"1\" class=\"dataframe\">\n",
       "  <thead>\n",
       "    <tr style=\"text-align: right;\">\n",
       "      <th></th>\n",
       "      <th></th>\n",
       "      <th>New cases of confirmed</th>\n",
       "      <th>New cases of probables</th>\n",
       "      <th>New cases of suspects</th>\n",
       "      <th>Total new cases registered so far</th>\n",
       "    </tr>\n",
       "    <tr>\n",
       "      <th>Month</th>\n",
       "      <th>Day</th>\n",
       "      <th></th>\n",
       "      <th></th>\n",
       "      <th></th>\n",
       "      <th></th>\n",
       "    </tr>\n",
       "  </thead>\n",
       "  <tbody>\n",
       "    <tr>\n",
       "      <th>8</th>\n",
       "      <th>4</th>\n",
       "      <td>4</td>\n",
       "      <td>0</td>\n",
       "      <td>5</td>\n",
       "      <td>9</td>\n",
       "    </tr>\n",
       "  </tbody>\n",
       "</table>\n",
       "</div>"
      ],
      "text/plain": [
       "           New cases of confirmed  New cases of probables  \\\n",
       "Month Day                                                   \n",
       "8     4                         4                       0   \n",
       "\n",
       "           New cases of suspects  Total new cases registered so far  \n",
       "Month Day                                                            \n",
       "8     4                        5                                  9  "
      ]
     },
     "execution_count": 11,
     "metadata": {},
     "output_type": "execute_result"
    }
   ],
   "source": [
    "# We check for deaths\n",
    "cols = df_model_0.columns.values.tolist()\n",
    "rel_cols = [c for c in cols if ('cases' in c and ('new' in c or 'New' in c))]\n",
    "df_model_0.loc[:,rel_cols]"
   ]
  },
  {
   "cell_type": "markdown",
   "metadata": {},
   "source": [
    "Again we only keep the headers that contain both ``new`` (with or without caps) and ```cases```. One can see that the sum of all new cases (```confirmed+probables+suspects```) is in ```Total new cases registered so far```"
   ]
  },
  {
   "cell_type": "code",
   "execution_count": 12,
   "metadata": {
    "collapsed": true
   },
   "outputs": [],
   "source": [
    "df_model_0['New Cases'] =  df_model_0['Total new cases registered so far']"
   ]
  },
  {
   "cell_type": "code",
   "execution_count": 13,
   "metadata": {},
   "outputs": [
    {
     "data": {
      "text/html": [
       "<div>\n",
       "<style>\n",
       "    .dataframe thead tr:only-child th {\n",
       "        text-align: right;\n",
       "    }\n",
       "\n",
       "    .dataframe thead th {\n",
       "        text-align: left;\n",
       "    }\n",
       "\n",
       "    .dataframe tbody tr th {\n",
       "        vertical-align: top;\n",
       "    }\n",
       "</style>\n",
       "<table border=\"1\" class=\"dataframe\">\n",
       "  <thead>\n",
       "    <tr style=\"text-align: right;\">\n",
       "      <th></th>\n",
       "      <th></th>\n",
       "      <th>New Deaths</th>\n",
       "      <th>New Cases</th>\n",
       "    </tr>\n",
       "    <tr>\n",
       "      <th>Month</th>\n",
       "      <th>Day</th>\n",
       "      <th></th>\n",
       "      <th></th>\n",
       "    </tr>\n",
       "  </thead>\n",
       "  <tbody>\n",
       "    <tr>\n",
       "      <th>8</th>\n",
       "      <th>4</th>\n",
       "      <td>2</td>\n",
       "      <td>9</td>\n",
       "    </tr>\n",
       "  </tbody>\n",
       "</table>\n",
       "</div>"
      ],
      "text/plain": [
       "           New Deaths  New Cases\n",
       "Month Day                       \n",
       "8     4             2          9"
      ]
     },
     "execution_count": 13,
     "metadata": {},
     "output_type": "execute_result"
    }
   ],
   "source": [
    "df_model_0 = df_model_0[['New Deaths','New Cases']]\n",
    "model_dataframes[0] = df_model_0\n",
    "df_model_0.head()"
   ]
  },
  {
   "cell_type": "markdown",
   "metadata": {},
   "source": []
  },
  {
   "cell_type": "markdown",
   "metadata": {},
   "source": [
    "### 2 - Cleaning Liberia"
   ]
  },
  {
   "cell_type": "code",
   "execution_count": 64,
   "metadata": {},
   "outputs": [
    {
     "name": "stdout",
     "output_type": "stream",
     "text": [
      "We have found 6 different model(s).\n",
      "55 file(s) in model 0\n",
      "1 file(s) in model 1\n",
      "11 file(s) in model 2\n",
      "1 file(s) in model 3\n",
      "8 file(s) in model 4\n",
      "24 file(s) in model 5\n"
     ]
    }
   ],
   "source": [
    "path = LIBERIA_FOLDER\n",
    "# by quickly opening the first few files we observed that columns that are going to be relevant for us\n",
    "# are going to be Date, Variable and National columns. We assumed that the National columns was the correct number\n",
    "# even though we saw some inconsistency between the different region sum and the total value supposed to be in the National Column\n",
    "model_dataframes = get_grouped_dataframes(path,'Variable','Date','National')"
   ]
  },
  {
   "cell_type": "markdown",
   "metadata": {},
   "source": [
    "Here again, we have found 5 different 'models' of description values. Therefore we select the columns of interest for each of them. To do so we list the columns and look at those that talk about cases and deaths."
   ]
  },
  {
   "cell_type": "markdown",
   "metadata": {},
   "source": [
    "#### model 0"
   ]
  },
  {
   "cell_type": "code",
   "execution_count": 56,
   "metadata": {},
   "outputs": [
    {
     "name": "stdout",
     "output_type": "stream",
     "text": [
      "['Cumulative deaths among HCW', 'Newly Reported deaths in HCW', 'Newly reported deaths']\n"
     ]
    }
   ],
   "source": [
    "df_model_0 = model_dataframes[0]\n",
    "\n",
    "# We check for deaths\n",
    "cols = df_model_0.columns.values.tolist()\n",
    "rel_cols = [c for c in cols if 'deaths' in c]\n",
    "print(rel_cols)"
   ]
  },
  {
   "cell_type": "code",
   "execution_count": 57,
   "metadata": {},
   "outputs": [
    {
     "data": {
      "text/html": [
       "<div>\n",
       "<style>\n",
       "    .dataframe thead tr:only-child th {\n",
       "        text-align: right;\n",
       "    }\n",
       "\n",
       "    .dataframe thead th {\n",
       "        text-align: left;\n",
       "    }\n",
       "\n",
       "    .dataframe tbody tr th {\n",
       "        vertical-align: top;\n",
       "    }\n",
       "</style>\n",
       "<table border=\"1\" class=\"dataframe\">\n",
       "  <thead>\n",
       "    <tr style=\"text-align: right;\">\n",
       "      <th></th>\n",
       "      <th></th>\n",
       "      <th>Cumulative deaths among HCW</th>\n",
       "      <th>Newly Reported deaths in HCW</th>\n",
       "      <th>Newly reported deaths</th>\n",
       "    </tr>\n",
       "    <tr>\n",
       "      <th>Month</th>\n",
       "      <th>Day</th>\n",
       "      <th></th>\n",
       "      <th></th>\n",
       "      <th></th>\n",
       "    </tr>\n",
       "  </thead>\n",
       "  <tbody>\n",
       "    <tr>\n",
       "      <th rowspan=\"5\" valign=\"top\">6</th>\n",
       "      <th>16</th>\n",
       "      <td>1.0</td>\n",
       "      <td>0.0</td>\n",
       "      <td>2.0</td>\n",
       "    </tr>\n",
       "    <tr>\n",
       "      <th>17</th>\n",
       "      <td>1.0</td>\n",
       "      <td>0.0</td>\n",
       "      <td>0.0</td>\n",
       "    </tr>\n",
       "    <tr>\n",
       "      <th>22</th>\n",
       "      <td>1.0</td>\n",
       "      <td>0.0</td>\n",
       "      <td>4.0</td>\n",
       "    </tr>\n",
       "    <tr>\n",
       "      <th>24</th>\n",
       "      <td>2.0</td>\n",
       "      <td>0.0</td>\n",
       "      <td>4.0</td>\n",
       "    </tr>\n",
       "    <tr>\n",
       "      <th>25</th>\n",
       "      <td>3.0</td>\n",
       "      <td>1.0</td>\n",
       "      <td>3.0</td>\n",
       "    </tr>\n",
       "  </tbody>\n",
       "</table>\n",
       "</div>"
      ],
      "text/plain": [
       "           Cumulative deaths among HCW  Newly Reported deaths in HCW  \\\n",
       "Month Day                                                              \n",
       "6     16                           1.0                           0.0   \n",
       "      17                           1.0                           0.0   \n",
       "      22                           1.0                           0.0   \n",
       "      24                           2.0                           0.0   \n",
       "      25                           3.0                           1.0   \n",
       "\n",
       "           Newly reported deaths  \n",
       "Month Day                         \n",
       "6     16                     2.0  \n",
       "      17                     0.0  \n",
       "      22                     4.0  \n",
       "      24                     4.0  \n",
       "      25                     3.0  "
      ]
     },
     "execution_count": 57,
     "metadata": {},
     "output_type": "execute_result"
    }
   ],
   "source": [
    "df_model_0.loc[:,rel_cols].head()"
   ]
  },
  {
   "cell_type": "markdown",
   "metadata": {},
   "source": [
    "Here we will only consider the column ```Newly reported deaths``` because we are interested in the total number of death for each day and not the one among HCW."
   ]
  },
  {
   "cell_type": "code",
   "execution_count": 58,
   "metadata": {},
   "outputs": [
    {
     "name": "stdout",
     "output_type": "stream",
     "text": [
      "['Case Fatality Rate (CFR) - Confirmed & Probable Cases', 'Contacts lost to follow-up', 'Contacts seen', 'Contacts who completed 21 day follow-up', 'Cumulative admission/isolation', 'Cumulative cases among HCW', 'Cumulative deaths among HCW', 'Currently under follow-up', 'New Case/s (Probable)', 'New Case/s (Suspected)', 'New admissions', 'New case/s (confirmed)', 'Newly Reported Cases in HCW', 'Newly Reported deaths in HCW', 'Newly reported contacts', 'Newly reported deaths', 'Specimens collected', 'Specimens pending for testing', 'Total Number of Confirmed Cases of Guinean Nationality', 'Total Number of Confirmed Cases of Sierra Leonean Nationality', 'Total confirmed cases', 'Total contacts listed', 'Total death/s in confirmed cases', 'Total death/s in confirmed, probable, suspected cases', 'Total death/s in probable cases', 'Total death/s in suspected cases', 'Total discharges', 'Total no. currently in Treatment Units', 'Total probable cases', 'Total specimens tested', 'Total suspected cases', 'New Deaths', 'New Cases']\n"
     ]
    },
    {
     "data": {
      "text/html": [
       "<div>\n",
       "<style>\n",
       "    .dataframe thead tr:only-child th {\n",
       "        text-align: right;\n",
       "    }\n",
       "\n",
       "    .dataframe thead th {\n",
       "        text-align: left;\n",
       "    }\n",
       "\n",
       "    .dataframe tbody tr th {\n",
       "        vertical-align: top;\n",
       "    }\n",
       "</style>\n",
       "<table border=\"1\" class=\"dataframe\">\n",
       "  <thead>\n",
       "    <tr style=\"text-align: right;\">\n",
       "      <th></th>\n",
       "      <th></th>\n",
       "      <th>Cumulative cases among HCW</th>\n",
       "      <th>New case/s (confirmed)</th>\n",
       "      <th>Total confirmed cases</th>\n",
       "      <th>Total death/s in confirmed cases</th>\n",
       "      <th>Total death/s in confirmed, probable, suspected cases</th>\n",
       "      <th>Total death/s in probable cases</th>\n",
       "      <th>Total death/s in suspected cases</th>\n",
       "      <th>Total probable cases</th>\n",
       "      <th>Total suspected cases</th>\n",
       "    </tr>\n",
       "    <tr>\n",
       "      <th>Month</th>\n",
       "      <th>Day</th>\n",
       "      <th></th>\n",
       "      <th></th>\n",
       "      <th></th>\n",
       "      <th></th>\n",
       "      <th></th>\n",
       "      <th></th>\n",
       "      <th></th>\n",
       "      <th></th>\n",
       "      <th></th>\n",
       "    </tr>\n",
       "  </thead>\n",
       "  <tbody>\n",
       "    <tr>\n",
       "      <th rowspan=\"5\" valign=\"top\">6</th>\n",
       "      <th>16</th>\n",
       "      <td>1.0</td>\n",
       "      <td>1.0</td>\n",
       "      <td>12.0</td>\n",
       "      <td>8.0</td>\n",
       "      <td>16.0</td>\n",
       "      <td>6.0</td>\n",
       "      <td>2.0</td>\n",
       "      <td>6.0</td>\n",
       "      <td>4.0</td>\n",
       "    </tr>\n",
       "    <tr>\n",
       "      <th>17</th>\n",
       "      <td>1.0</td>\n",
       "      <td>0.0</td>\n",
       "      <td>12.0</td>\n",
       "      <td>8.0</td>\n",
       "      <td>16.0</td>\n",
       "      <td>6.0</td>\n",
       "      <td>2.0</td>\n",
       "      <td>6.0</td>\n",
       "      <td>8.0</td>\n",
       "    </tr>\n",
       "    <tr>\n",
       "      <th>22</th>\n",
       "      <td>1.0</td>\n",
       "      <td>5.0</td>\n",
       "      <td>28.0</td>\n",
       "      <td>16.0</td>\n",
       "      <td>25.0</td>\n",
       "      <td>8.0</td>\n",
       "      <td>1.0</td>\n",
       "      <td>8.0</td>\n",
       "      <td>6.0</td>\n",
       "    </tr>\n",
       "    <tr>\n",
       "      <th>24</th>\n",
       "      <td>2.0</td>\n",
       "      <td>4.0</td>\n",
       "      <td>33.0</td>\n",
       "      <td>18.0</td>\n",
       "      <td>32.0</td>\n",
       "      <td>8.0</td>\n",
       "      <td>6.0</td>\n",
       "      <td>8.0</td>\n",
       "      <td>13.0</td>\n",
       "    </tr>\n",
       "    <tr>\n",
       "      <th>25</th>\n",
       "      <td>4.0</td>\n",
       "      <td>2.0</td>\n",
       "      <td>35.0</td>\n",
       "      <td>20.0</td>\n",
       "      <td>37.0</td>\n",
       "      <td>8.0</td>\n",
       "      <td>9.0</td>\n",
       "      <td>9.0</td>\n",
       "      <td>17.0</td>\n",
       "    </tr>\n",
       "  </tbody>\n",
       "</table>\n",
       "</div>"
      ],
      "text/plain": [
       "           Cumulative cases among HCW  New case/s (confirmed)  \\\n",
       "Month Day                                                       \n",
       "6     16                          1.0                     1.0   \n",
       "      17                          1.0                     0.0   \n",
       "      22                          1.0                     5.0   \n",
       "      24                          2.0                     4.0   \n",
       "      25                          4.0                     2.0   \n",
       "\n",
       "           Total confirmed cases  Total death/s in confirmed cases  \\\n",
       "Month Day                                                            \n",
       "6     16                    12.0                               8.0   \n",
       "      17                    12.0                               8.0   \n",
       "      22                    28.0                              16.0   \n",
       "      24                    33.0                              18.0   \n",
       "      25                    35.0                              20.0   \n",
       "\n",
       "           Total death/s in confirmed, probable, suspected cases  \\\n",
       "Month Day                                                          \n",
       "6     16                                                16.0       \n",
       "      17                                                16.0       \n",
       "      22                                                25.0       \n",
       "      24                                                32.0       \n",
       "      25                                                37.0       \n",
       "\n",
       "           Total death/s in probable cases  Total death/s in suspected cases  \\\n",
       "Month Day                                                                      \n",
       "6     16                               6.0                               2.0   \n",
       "      17                               6.0                               2.0   \n",
       "      22                               8.0                               1.0   \n",
       "      24                               8.0                               6.0   \n",
       "      25                               8.0                               9.0   \n",
       "\n",
       "           Total probable cases  Total suspected cases  \n",
       "Month Day                                               \n",
       "6     16                    6.0                    4.0  \n",
       "      17                    6.0                    8.0  \n",
       "      22                    8.0                    6.0  \n",
       "      24                    8.0                   13.0  \n",
       "      25                    9.0                   17.0  "
      ]
     },
     "execution_count": 58,
     "metadata": {},
     "output_type": "execute_result"
    }
   ],
   "source": [
    "df_model_0['New Deaths'] = df_model_0[['Newly reported deaths']]\n",
    "\n",
    "# We check for deaths\n",
    "cols = df_model_0.columns.values.tolist()\n",
    "print(cols);\n",
    "rel_cols = [c for c in cols if ('cases' in c or 'case' in c)]\n",
    "df_model_0.loc[:,rel_cols].head()"
   ]
  },
  {
   "cell_type": "markdown",
   "metadata": {},
   "source": [
    "Here it seems that we should select the ```New case/s (confirmed)``` column as it seems to correspond to the daily new cases and is not cumulative."
   ]
  },
  {
   "cell_type": "code",
   "execution_count": 59,
   "metadata": {},
   "outputs": [
    {
     "data": {
      "text/html": [
       "<div>\n",
       "<style>\n",
       "    .dataframe thead tr:only-child th {\n",
       "        text-align: right;\n",
       "    }\n",
       "\n",
       "    .dataframe thead th {\n",
       "        text-align: left;\n",
       "    }\n",
       "\n",
       "    .dataframe tbody tr th {\n",
       "        vertical-align: top;\n",
       "    }\n",
       "</style>\n",
       "<table border=\"1\" class=\"dataframe\">\n",
       "  <thead>\n",
       "    <tr style=\"text-align: right;\">\n",
       "      <th></th>\n",
       "      <th></th>\n",
       "      <th>New Deaths</th>\n",
       "      <th>New Cases</th>\n",
       "    </tr>\n",
       "    <tr>\n",
       "      <th>Month</th>\n",
       "      <th>Day</th>\n",
       "      <th></th>\n",
       "      <th></th>\n",
       "    </tr>\n",
       "  </thead>\n",
       "  <tbody>\n",
       "    <tr>\n",
       "      <th rowspan=\"5\" valign=\"top\">6</th>\n",
       "      <th>16</th>\n",
       "      <td>2.0</td>\n",
       "      <td>1.0</td>\n",
       "    </tr>\n",
       "    <tr>\n",
       "      <th>17</th>\n",
       "      <td>0.0</td>\n",
       "      <td>0.0</td>\n",
       "    </tr>\n",
       "    <tr>\n",
       "      <th>22</th>\n",
       "      <td>4.0</td>\n",
       "      <td>5.0</td>\n",
       "    </tr>\n",
       "    <tr>\n",
       "      <th>24</th>\n",
       "      <td>4.0</td>\n",
       "      <td>4.0</td>\n",
       "    </tr>\n",
       "    <tr>\n",
       "      <th>25</th>\n",
       "      <td>3.0</td>\n",
       "      <td>2.0</td>\n",
       "    </tr>\n",
       "  </tbody>\n",
       "</table>\n",
       "</div>"
      ],
      "text/plain": [
       "           New Deaths  New Cases\n",
       "Month Day                       \n",
       "6     16          2.0        1.0\n",
       "      17          0.0        0.0\n",
       "      22          4.0        5.0\n",
       "      24          4.0        4.0\n",
       "      25          3.0        2.0"
      ]
     },
     "execution_count": 59,
     "metadata": {},
     "output_type": "execute_result"
    }
   ],
   "source": [
    "# add the new cases to the model df\n",
    "df_model_0['New Cases'] =  df_model_0['New case/s (confirmed)']\n",
    "# return a df with only the New Death and New Cases\n",
    "df_model_0 = df_model_0[['New Deaths','New Cases']]\n",
    "df_model_0.head()"
   ]
  },
  {
   "cell_type": "markdown",
   "metadata": {},
   "source": [
    "#### model 1"
   ]
  },
  {
   "cell_type": "code",
   "execution_count": 130,
   "metadata": {},
   "outputs": [
    {
     "data": {
      "text/html": [
       "<div>\n",
       "<style>\n",
       "    .dataframe thead tr:only-child th {\n",
       "        text-align: right;\n",
       "    }\n",
       "\n",
       "    .dataframe thead th {\n",
       "        text-align: left;\n",
       "    }\n",
       "\n",
       "    .dataframe tbody tr th {\n",
       "        vertical-align: top;\n",
       "    }\n",
       "</style>\n",
       "<table border=\"1\" class=\"dataframe\">\n",
       "  <thead>\n",
       "    <tr style=\"text-align: right;\">\n",
       "      <th></th>\n",
       "      <th></th>\n",
       "      <th></th>\n",
       "      <th>National</th>\n",
       "    </tr>\n",
       "    <tr>\n",
       "      <th>Month</th>\n",
       "      <th>Day</th>\n",
       "      <th>Variable</th>\n",
       "      <th></th>\n",
       "    </tr>\n",
       "  </thead>\n",
       "  <tbody>\n",
       "    <tr>\n",
       "      <th rowspan=\"5\" valign=\"top\">10</th>\n",
       "      <th rowspan=\"5\" valign=\"top\">4</th>\n",
       "      <th>New Case/s (Suspected)</th>\n",
       "      <td>23.0</td>\n",
       "    </tr>\n",
       "    <tr>\n",
       "      <th>New Case/s (Probable)</th>\n",
       "      <td>14.0</td>\n",
       "    </tr>\n",
       "    <tr>\n",
       "      <th>New case/s (confirmed)</th>\n",
       "      <td>5.0</td>\n",
       "    </tr>\n",
       "    <tr>\n",
       "      <th>Total suspected cases</th>\n",
       "      <td>1190.0</td>\n",
       "    </tr>\n",
       "    <tr>\n",
       "      <th>Total probable cases</th>\n",
       "      <td>1796.0</td>\n",
       "    </tr>\n",
       "  </tbody>\n",
       "</table>\n",
       "</div>"
      ],
      "text/plain": [
       "                                  National\n",
       "Month Day Variable                        \n",
       "10    4   New Case/s (Suspected)      23.0\n",
       "          New Case/s (Probable)       14.0\n",
       "          New case/s (confirmed)       5.0\n",
       "          Total suspected cases     1190.0\n",
       "          Total probable cases      1796.0"
      ]
     },
     "execution_count": 130,
     "metadata": {},
     "output_type": "execute_result"
    }
   ],
   "source": [
    "df_model_1 = model_dataframes[1]\n",
    "df_model_1.head()"
   ]
  },
  {
   "cell_type": "code",
   "execution_count": 131,
   "metadata": {
    "scrolled": true
   },
   "outputs": [
    {
     "name": "stdout",
     "output_type": "stream",
     "text": [
      "df has unique index : False\n",
      "                                                         National\n",
      "Month Day Variable                                               \n",
      "10    4   Cumulative (confirmed + probable + suspected)    3921.0\n",
      "          Cumulative (confirmed + probable + suspected)    3929.0\n",
      "                                      National\n",
      "Month Day Variable                            \n",
      "10    4   Cumulative cases among HCW     190.0\n",
      "          Cumulative cases among HCW     192.0\n",
      "                                       National\n",
      "Month Day Variable                             \n",
      "10    4   Cumulative deaths among HCW      92.0\n",
      "          Cumulative deaths among HCW      94.0\n",
      "                                            National\n",
      "Month Day Variable                                  \n",
      "10    4   Total death/s in confirmed cases    1012.0\n",
      "          Total death/s in confirmed cases    1018.0\n",
      "                                           National\n",
      "Month Day Variable                                 \n",
      "10    4   Total death/s in probable cases     699.0\n",
      "          Total death/s in probable cases     701.0\n",
      "                                                              National\n",
      "Month Day Variable                                                    \n",
      "10    4   Total death/s in confirmed, probable, suspected...    2199.0\n",
      "          Total death/s in confirmed, probable, suspected...    2210.0\n",
      "                                                         National\n",
      "Month Day Variable                                               \n",
      "10    4   Cumulative (confirmed + probable + suspected)    3921.0\n",
      "          Cumulative (confirmed + probable + suspected)    3929.0\n",
      "                                      National\n",
      "Month Day Variable                            \n",
      "10    4   Cumulative cases among HCW     190.0\n",
      "          Cumulative cases among HCW     192.0\n",
      "                                       National\n",
      "Month Day Variable                             \n",
      "10    4   Cumulative deaths among HCW      92.0\n",
      "          Cumulative deaths among HCW      94.0\n",
      "                                            National\n",
      "Month Day Variable                                  \n",
      "10    4   Total death/s in confirmed cases    1012.0\n",
      "          Total death/s in confirmed cases    1018.0\n",
      "                                           National\n",
      "Month Day Variable                                 \n",
      "10    4   Total death/s in probable cases     699.0\n",
      "          Total death/s in probable cases     701.0\n",
      "                                                              National\n",
      "Month Day Variable                                                    \n",
      "10    4   Total death/s in confirmed, probable, suspected...    2199.0\n",
      "          Total death/s in confirmed, probable, suspected...    2210.0\n"
     ]
    }
   ],
   "source": [
    "print('df has unique index :', df_model_1.index.is_unique)\n",
    "# here we observe that the model can't be unstack because the index is not unique \n",
    "#(several time the same Variable in the file)\n",
    "\n",
    "# compute a list of the index appearing multiple times:\n",
    "index_list = df_model_1.index.get_level_values(2).tolist()\n",
    "multiple_index_list = [i for i in index_list if index_list.count(i)>1]\n",
    "\n",
    "for index in multiple_index_list:\n",
    "    print(df_model_1.query('Variable == @index'))"
   ]
  },
  {
   "cell_type": "markdown",
   "metadata": {},
   "source": [
    "We observe only a small difference between the value that are in double here hence we choose to merge them and take the mean in order to be able to unstack the dataframe and see better what Variable we should choose for this model."
   ]
  },
  {
   "cell_type": "code",
   "execution_count": 134,
   "metadata": {},
   "outputs": [
    {
     "name": "stderr",
     "output_type": "stream",
     "text": [
      "/Users/guillaume/anaconda/lib/python3.6/site-packages/ipykernel/kernelbase.py:399: PerformanceWarning: indexing past lexsort depth may impact performance.\n",
      "  user_expressions, allow_stdin)\n",
      "/Users/guillaume/anaconda/lib/python3.6/site-packages/ipykernel/ipkernel.py:196: PerformanceWarning: indexing past lexsort depth may impact performance.\n",
      "  res = shell.run_cell(code, store_history=store_history, silent=silent)\n"
     ]
    }
   ],
   "source": [
    "for index in multiple_index_list:\n",
    "    # get the mean of the index values\n",
    "    mean = df_model_1.query('Variable == @index').values.mean()\n",
    "    # drop the multiple index from the df\n",
    "    df_model_1.drop(index, level=2, inplace=True)\n",
    "    # add the mean instead in the df\n",
    "    df_model_1.loc[(df_model_1.index.get_level_values(0)[0], df_model_1.index.get_level_values(1)[0], index)] = [mean]\n"
   ]
  },
  {
   "cell_type": "code",
   "execution_count": 137,
   "metadata": {},
   "outputs": [
    {
     "name": "stdout",
     "output_type": "stream",
     "text": [
      "my index are unique: True\n"
     ]
    },
    {
     "data": {
      "text/html": [
       "<div>\n",
       "<style>\n",
       "    .dataframe thead tr:only-child th {\n",
       "        text-align: right;\n",
       "    }\n",
       "\n",
       "    .dataframe thead th {\n",
       "        text-align: left;\n",
       "    }\n",
       "\n",
       "    .dataframe tbody tr th {\n",
       "        vertical-align: top;\n",
       "    }\n",
       "</style>\n",
       "<table border=\"1\" class=\"dataframe\">\n",
       "  <thead>\n",
       "    <tr style=\"text-align: right;\">\n",
       "      <th></th>\n",
       "      <th></th>\n",
       "      <th>Case Fatality Rate (CFR) - Confirmed &amp; Probable Cases</th>\n",
       "      <th>Contacts lost to follow-up</th>\n",
       "      <th>Contacts seen</th>\n",
       "      <th>Contacts who completed 21 day follow-up</th>\n",
       "      <th>Cumulative (confirmed + probable + suspected)</th>\n",
       "      <th>Cumulative CFR</th>\n",
       "      <th>Cumulative cases among HCW</th>\n",
       "      <th>Cumulative deaths among HCW</th>\n",
       "      <th>Currently under follow-up</th>\n",
       "      <th>New Case/s (Probable)</th>\n",
       "      <th>...</th>\n",
       "      <th>Total case/s (confirmed)</th>\n",
       "      <th>Total confirmed cases</th>\n",
       "      <th>Total contacts listed</th>\n",
       "      <th>Total death/s in confirmed cases</th>\n",
       "      <th>Total death/s in confirmed, probable, suspected cases</th>\n",
       "      <th>Total death/s in probable cases</th>\n",
       "      <th>Total discharges</th>\n",
       "      <th>Total no. currently in Treatment Units</th>\n",
       "      <th>Total probable cases</th>\n",
       "      <th>Total suspected cases</th>\n",
       "    </tr>\n",
       "    <tr>\n",
       "      <th>Month</th>\n",
       "      <th>Day</th>\n",
       "      <th></th>\n",
       "      <th></th>\n",
       "      <th></th>\n",
       "      <th></th>\n",
       "      <th></th>\n",
       "      <th></th>\n",
       "      <th></th>\n",
       "      <th></th>\n",
       "      <th></th>\n",
       "      <th></th>\n",
       "      <th></th>\n",
       "      <th></th>\n",
       "      <th></th>\n",
       "      <th></th>\n",
       "      <th></th>\n",
       "      <th></th>\n",
       "      <th></th>\n",
       "      <th></th>\n",
       "      <th></th>\n",
       "      <th></th>\n",
       "      <th></th>\n",
       "    </tr>\n",
       "  </thead>\n",
       "  <tbody>\n",
       "    <tr>\n",
       "      <th>10</th>\n",
       "      <th>4</th>\n",
       "      <td>62.7</td>\n",
       "      <td>2.0</td>\n",
       "      <td>3101.0</td>\n",
       "      <td>132.0</td>\n",
       "      <td>3925.0</td>\n",
       "      <td>62.8</td>\n",
       "      <td>191.0</td>\n",
       "      <td>93.0</td>\n",
       "      <td>6689.0</td>\n",
       "      <td>14.0</td>\n",
       "      <td>...</td>\n",
       "      <td>941.0</td>\n",
       "      <td>935.0</td>\n",
       "      <td>15271.0</td>\n",
       "      <td>1015.0</td>\n",
       "      <td>2204.5</td>\n",
       "      <td>700.0</td>\n",
       "      <td>25.0</td>\n",
       "      <td>448.0</td>\n",
       "      <td>1796.0</td>\n",
       "      <td>1190.0</td>\n",
       "    </tr>\n",
       "  </tbody>\n",
       "</table>\n",
       "<p>1 rows × 31 columns</p>\n",
       "</div>"
      ],
      "text/plain": [
       "           Case Fatality Rate (CFR) - Confirmed & Probable Cases  \\\n",
       "Month Day                                                          \n",
       "10    4                                                 62.7       \n",
       "\n",
       "           Contacts lost to follow-up  Contacts seen  \\\n",
       "Month Day                                              \n",
       "10    4                           2.0         3101.0   \n",
       "\n",
       "           Contacts who completed 21 day follow-up  \\\n",
       "Month Day                                            \n",
       "10    4                                      132.0   \n",
       "\n",
       "           Cumulative (confirmed + probable + suspected)  Cumulative CFR  \\\n",
       "Month Day                                                                  \n",
       "10    4                                           3925.0            62.8   \n",
       "\n",
       "           Cumulative cases among HCW  Cumulative deaths among HCW  \\\n",
       "Month Day                                                            \n",
       "10    4                         191.0                         93.0   \n",
       "\n",
       "           Currently under follow-up  New Case/s (Probable)  \\\n",
       "Month Day                                                     \n",
       "10    4                       6689.0                   14.0   \n",
       "\n",
       "                   ...            Total case/s (confirmed)  \\\n",
       "Month Day          ...                                       \n",
       "10    4            ...                               941.0   \n",
       "\n",
       "           Total confirmed cases  Total contacts listed  \\\n",
       "Month Day                                                 \n",
       "10    4                    935.0                15271.0   \n",
       "\n",
       "           Total death/s in confirmed cases  \\\n",
       "Month Day                                     \n",
       "10    4                              1015.0   \n",
       "\n",
       "           Total death/s in confirmed, probable, suspected cases  \\\n",
       "Month Day                                                          \n",
       "10    4                                               2204.5       \n",
       "\n",
       "           Total death/s in probable cases  Total discharges  \\\n",
       "Month Day                                                      \n",
       "10    4                              700.0              25.0   \n",
       "\n",
       "           Total no. currently in Treatment Units  Total probable cases  \\\n",
       "Month Day                                                                 \n",
       "10    4                                     448.0                1796.0   \n",
       "\n",
       "           Total suspected cases  \n",
       "Month Day                         \n",
       "10    4                   1190.0  \n",
       "\n",
       "[1 rows x 31 columns]"
      ]
     },
     "execution_count": 137,
     "metadata": {},
     "output_type": "execute_result"
    }
   ],
   "source": [
    "# now our index should be unique:\n",
    "print(\"my index are unique:\", df_model_1.index.is_unique)\n",
    "\n",
    "# so I can unstack and process like the other models:\n",
    "df_model_1 = df_model_1[['National']].unstack('Variable')\n",
    "            \n",
    "# To avoid hierarchical columns, we drop the first level\n",
    "df_model_1.columns = df_model_1.columns.droplevel(0)\n",
    "df_model_1.columns.name = ''\n",
    "\n",
    "df_model_1"
   ]
  },
  {
   "cell_type": "code",
   "execution_count": 140,
   "metadata": {},
   "outputs": [
    {
     "name": "stdout",
     "output_type": "stream",
     "text": [
      "['Case Fatality Rate (CFR) - Confirmed & Probable Cases', 'Contacts lost to follow-up', 'Contacts seen', 'Contacts who completed 21 day follow-up', 'Cumulative (confirmed + probable + suspected)', 'Cumulative CFR', 'Cumulative cases among HCW', 'Cumulative deaths among HCW', 'Currently under follow-up', 'New Case/s (Probable)', 'New Case/s (Suspected)', 'New admissions', 'New case/s (confirmed)', 'Newly Reported Cases in HCW', 'Newly Reported deaths in HCW', 'Newly reported contacts', 'Newly reported deaths', 'Total Case/s (Probable)', 'Total Case/s (Suspected)', 'Total Number of Confirmed Cases of Guinean Nationality', 'Total Number of Confirmed Cases of Sierra Leonean Nationality', 'Total case/s (confirmed)', 'Total confirmed cases', 'Total contacts listed', 'Total death/s in confirmed cases', 'Total death/s in confirmed, probable, suspected cases', 'Total death/s in probable cases', 'Total discharges', 'Total no. currently in Treatment Units', 'Total probable cases', 'Total suspected cases']\n"
     ]
    },
    {
     "data": {
      "text/html": [
       "<div>\n",
       "<style>\n",
       "    .dataframe thead tr:only-child th {\n",
       "        text-align: right;\n",
       "    }\n",
       "\n",
       "    .dataframe thead th {\n",
       "        text-align: left;\n",
       "    }\n",
       "\n",
       "    .dataframe tbody tr th {\n",
       "        vertical-align: top;\n",
       "    }\n",
       "</style>\n",
       "<table border=\"1\" class=\"dataframe\">\n",
       "  <thead>\n",
       "    <tr style=\"text-align: right;\">\n",
       "      <th></th>\n",
       "      <th></th>\n",
       "      <th>Cumulative deaths among HCW</th>\n",
       "      <th>Newly Reported deaths in HCW</th>\n",
       "      <th>Newly reported deaths</th>\n",
       "      <th>Total death/s in confirmed cases</th>\n",
       "      <th>Total death/s in confirmed, probable, suspected cases</th>\n",
       "      <th>Total death/s in probable cases</th>\n",
       "    </tr>\n",
       "    <tr>\n",
       "      <th>Month</th>\n",
       "      <th>Day</th>\n",
       "      <th></th>\n",
       "      <th></th>\n",
       "      <th></th>\n",
       "      <th></th>\n",
       "      <th></th>\n",
       "      <th></th>\n",
       "    </tr>\n",
       "  </thead>\n",
       "  <tbody>\n",
       "    <tr>\n",
       "      <th>10</th>\n",
       "      <th>4</th>\n",
       "      <td>93.0</td>\n",
       "      <td>0.0</td>\n",
       "      <td>43.0</td>\n",
       "      <td>1015.0</td>\n",
       "      <td>2204.5</td>\n",
       "      <td>700.0</td>\n",
       "    </tr>\n",
       "  </tbody>\n",
       "</table>\n",
       "</div>"
      ],
      "text/plain": [
       "           Cumulative deaths among HCW  Newly Reported deaths in HCW  \\\n",
       "Month Day                                                              \n",
       "10    4                           93.0                           0.0   \n",
       "\n",
       "           Newly reported deaths  Total death/s in confirmed cases  \\\n",
       "Month Day                                                            \n",
       "10    4                     43.0                            1015.0   \n",
       "\n",
       "           Total death/s in confirmed, probable, suspected cases  \\\n",
       "Month Day                                                          \n",
       "10    4                                               2204.5       \n",
       "\n",
       "           Total death/s in probable cases  \n",
       "Month Day                                   \n",
       "10    4                              700.0  "
      ]
     },
     "execution_count": 140,
     "metadata": {},
     "output_type": "execute_result"
    }
   ],
   "source": [
    "# lets check for death:\n",
    "cols = df_model_1.columns.values.tolist()\n",
    "print(cols);\n",
    "rel_cols = [c for c in cols if ('death' in c)]\n",
    "df_model_1.loc[:,rel_cols].head()"
   ]
  },
  {
   "cell_type": "markdown",
   "metadata": {},
   "source": [
    "```Newly reported``` death seems to be the good columns to pick here for this model."
   ]
  },
  {
   "cell_type": "code",
   "execution_count": 142,
   "metadata": {},
   "outputs": [],
   "source": [
    "df_model_1['New Deaths'] = df_model_1[['Newly reported deaths']]"
   ]
  },
  {
   "cell_type": "code",
   "execution_count": 146,
   "metadata": {},
   "outputs": [
    {
     "name": "stdout",
     "output_type": "stream",
     "text": [
      "['Case Fatality Rate (CFR) - Confirmed & Probable Cases', 'Contacts lost to follow-up', 'Contacts seen', 'Contacts who completed 21 day follow-up', 'Cumulative (confirmed + probable + suspected)', 'Cumulative CFR', 'Cumulative cases among HCW', 'Cumulative deaths among HCW', 'Currently under follow-up', 'New Case/s (Probable)', 'New Case/s (Suspected)', 'New admissions', 'New case/s (confirmed)', 'Newly Reported Cases in HCW', 'Newly Reported deaths in HCW', 'Newly reported contacts', 'Newly reported deaths', 'Total Case/s (Probable)', 'Total Case/s (Suspected)', 'Total Number of Confirmed Cases of Guinean Nationality', 'Total Number of Confirmed Cases of Sierra Leonean Nationality', 'Total case/s (confirmed)', 'Total confirmed cases', 'Total contacts listed', 'Total death/s in confirmed cases', 'Total death/s in confirmed, probable, suspected cases', 'Total death/s in probable cases', 'Total discharges', 'Total no. currently in Treatment Units', 'Total probable cases', 'Total suspected cases', 'New Deaths']\n"
     ]
    },
    {
     "data": {
      "text/html": [
       "<div>\n",
       "<style>\n",
       "    .dataframe thead tr:only-child th {\n",
       "        text-align: right;\n",
       "    }\n",
       "\n",
       "    .dataframe thead th {\n",
       "        text-align: left;\n",
       "    }\n",
       "\n",
       "    .dataframe tbody tr th {\n",
       "        vertical-align: top;\n",
       "    }\n",
       "</style>\n",
       "<table border=\"1\" class=\"dataframe\">\n",
       "  <thead>\n",
       "    <tr style=\"text-align: right;\">\n",
       "      <th></th>\n",
       "      <th></th>\n",
       "      <th>Case Fatality Rate (CFR) - Confirmed &amp; Probable Cases</th>\n",
       "      <th>Cumulative cases among HCW</th>\n",
       "      <th>New Case/s (Probable)</th>\n",
       "      <th>New Case/s (Suspected)</th>\n",
       "      <th>New case/s (confirmed)</th>\n",
       "      <th>Newly Reported Cases in HCW</th>\n",
       "      <th>Total Case/s (Probable)</th>\n",
       "      <th>Total Case/s (Suspected)</th>\n",
       "      <th>Total Number of Confirmed Cases of Guinean Nationality</th>\n",
       "      <th>Total Number of Confirmed Cases of Sierra Leonean Nationality</th>\n",
       "      <th>Total case/s (confirmed)</th>\n",
       "      <th>Total confirmed cases</th>\n",
       "      <th>Total death/s in confirmed cases</th>\n",
       "      <th>Total death/s in confirmed, probable, suspected cases</th>\n",
       "      <th>Total death/s in probable cases</th>\n",
       "      <th>Total probable cases</th>\n",
       "      <th>Total suspected cases</th>\n",
       "    </tr>\n",
       "    <tr>\n",
       "      <th>Month</th>\n",
       "      <th>Day</th>\n",
       "      <th></th>\n",
       "      <th></th>\n",
       "      <th></th>\n",
       "      <th></th>\n",
       "      <th></th>\n",
       "      <th></th>\n",
       "      <th></th>\n",
       "      <th></th>\n",
       "      <th></th>\n",
       "      <th></th>\n",
       "      <th></th>\n",
       "      <th></th>\n",
       "      <th></th>\n",
       "      <th></th>\n",
       "      <th></th>\n",
       "      <th></th>\n",
       "      <th></th>\n",
       "    </tr>\n",
       "  </thead>\n",
       "  <tbody>\n",
       "    <tr>\n",
       "      <th>10</th>\n",
       "      <th>4</th>\n",
       "      <td>62.7</td>\n",
       "      <td>191.0</td>\n",
       "      <td>14.0</td>\n",
       "      <td>23.0</td>\n",
       "      <td>5.0</td>\n",
       "      <td>1.0</td>\n",
       "      <td>1798.0</td>\n",
       "      <td>1190.0</td>\n",
       "      <td>4.0</td>\n",
       "      <td>13.0</td>\n",
       "      <td>941.0</td>\n",
       "      <td>935.0</td>\n",
       "      <td>1015.0</td>\n",
       "      <td>2204.5</td>\n",
       "      <td>700.0</td>\n",
       "      <td>1796.0</td>\n",
       "      <td>1190.0</td>\n",
       "    </tr>\n",
       "  </tbody>\n",
       "</table>\n",
       "</div>"
      ],
      "text/plain": [
       "           Case Fatality Rate (CFR) - Confirmed & Probable Cases  \\\n",
       "Month Day                                                          \n",
       "10    4                                                 62.7       \n",
       "\n",
       "           Cumulative cases among HCW  New Case/s (Probable)  \\\n",
       "Month Day                                                      \n",
       "10    4                         191.0                   14.0   \n",
       "\n",
       "           New Case/s (Suspected)  New case/s (confirmed)  \\\n",
       "Month Day                                                   \n",
       "10    4                      23.0                     5.0   \n",
       "\n",
       "           Newly Reported Cases in HCW  Total Case/s (Probable)  \\\n",
       "Month Day                                                         \n",
       "10    4                            1.0                   1798.0   \n",
       "\n",
       "           Total Case/s (Suspected)  \\\n",
       "Month Day                             \n",
       "10    4                      1190.0   \n",
       "\n",
       "           Total Number of Confirmed Cases of Guinean Nationality  \\\n",
       "Month Day                                                           \n",
       "10    4                                                  4.0        \n",
       "\n",
       "           Total Number of Confirmed Cases of Sierra Leonean Nationality  \\\n",
       "Month Day                                                                  \n",
       "10    4                                                 13.0               \n",
       "\n",
       "           Total case/s (confirmed)  Total confirmed cases  \\\n",
       "Month Day                                                    \n",
       "10    4                       941.0                  935.0   \n",
       "\n",
       "           Total death/s in confirmed cases  \\\n",
       "Month Day                                     \n",
       "10    4                              1015.0   \n",
       "\n",
       "           Total death/s in confirmed, probable, suspected cases  \\\n",
       "Month Day                                                          \n",
       "10    4                                               2204.5       \n",
       "\n",
       "           Total death/s in probable cases  Total probable cases  \\\n",
       "Month Day                                                          \n",
       "10    4                              700.0                1796.0   \n",
       "\n",
       "           Total suspected cases  \n",
       "Month Day                         \n",
       "10    4                   1190.0  "
      ]
     },
     "execution_count": 146,
     "metadata": {},
     "output_type": "execute_result"
    }
   ],
   "source": [
    "# now lets check for the new case of the day\n",
    "cols = df_model_1.columns.values.tolist()\n",
    "print(cols);\n",
    "rel_cols = [c for c in cols if ('cases' in c or 'case' in c or 'Case' in c)]\n",
    "df_model_1.loc[:,rel_cols].head()"
   ]
  },
  {
   "cell_type": "markdown",
   "metadata": {},
   "source": [
    "The value that seems to make sense here is ```New case/s (confirmed)```"
   ]
  },
  {
   "cell_type": "code",
   "execution_count": 147,
   "metadata": {
    "collapsed": true
   },
   "outputs": [],
   "source": [
    "df_model_1['New Cases'] = df_model_1[['New case/s (confirmed)']]"
   ]
  },
  {
   "cell_type": "code",
   "execution_count": 148,
   "metadata": {},
   "outputs": [
    {
     "data": {
      "text/html": [
       "<div>\n",
       "<style>\n",
       "    .dataframe thead tr:only-child th {\n",
       "        text-align: right;\n",
       "    }\n",
       "\n",
       "    .dataframe thead th {\n",
       "        text-align: left;\n",
       "    }\n",
       "\n",
       "    .dataframe tbody tr th {\n",
       "        vertical-align: top;\n",
       "    }\n",
       "</style>\n",
       "<table border=\"1\" class=\"dataframe\">\n",
       "  <thead>\n",
       "    <tr style=\"text-align: right;\">\n",
       "      <th></th>\n",
       "      <th></th>\n",
       "      <th>New Deaths</th>\n",
       "      <th>New Cases</th>\n",
       "    </tr>\n",
       "    <tr>\n",
       "      <th>Month</th>\n",
       "      <th>Day</th>\n",
       "      <th></th>\n",
       "      <th></th>\n",
       "    </tr>\n",
       "  </thead>\n",
       "  <tbody>\n",
       "    <tr>\n",
       "      <th>10</th>\n",
       "      <th>4</th>\n",
       "      <td>43.0</td>\n",
       "      <td>5.0</td>\n",
       "    </tr>\n",
       "  </tbody>\n",
       "</table>\n",
       "</div>"
      ],
      "text/plain": [
       "           New Deaths  New Cases\n",
       "Month Day                       \n",
       "10    4          43.0        5.0"
      ]
     },
     "execution_count": 148,
     "metadata": {},
     "output_type": "execute_result"
    }
   ],
   "source": [
    "# now we merge and we are done with this model:\n",
    "# return a df with only the New Death and New Cases\n",
    "df_model_1 = df_model_1[['New Deaths','New Cases']]\n",
    "df_model_1.head()"
   ]
  },
  {
   "cell_type": "markdown",
   "metadata": {},
   "source": [
    "#### model 2"
   ]
  },
  {
   "cell_type": "code",
   "execution_count": 149,
   "metadata": {},
   "outputs": [
    {
     "data": {
      "text/html": [
       "<div>\n",
       "<style>\n",
       "    .dataframe thead tr:only-child th {\n",
       "        text-align: right;\n",
       "    }\n",
       "\n",
       "    .dataframe thead th {\n",
       "        text-align: left;\n",
       "    }\n",
       "\n",
       "    .dataframe tbody tr th {\n",
       "        vertical-align: top;\n",
       "    }\n",
       "</style>\n",
       "<table border=\"1\" class=\"dataframe\">\n",
       "  <thead>\n",
       "    <tr style=\"text-align: right;\">\n",
       "      <th></th>\n",
       "      <th></th>\n",
       "      <th>Case Fatality Rate (CFR) - Confirmed &amp; Probable Cases</th>\n",
       "      <th>Contacts lost to follow-up</th>\n",
       "      <th>Contacts seen</th>\n",
       "      <th>Contacts who completed 21 day follow-up</th>\n",
       "      <th>Cumulative (confirmed + probable + suspects)</th>\n",
       "      <th>Cumulative admission/isolation</th>\n",
       "      <th>Cumulative cases among HCW</th>\n",
       "      <th>Cumulative deaths among HCW</th>\n",
       "      <th>Currently under follow-up</th>\n",
       "      <th>New Case/s (Probable)</th>\n",
       "      <th>...</th>\n",
       "      <th>Total contacts listed</th>\n",
       "      <th>Total death/s in confirmed cases</th>\n",
       "      <th>Total death/s in confirmed, probable, suspected cases</th>\n",
       "      <th>Total death/s in probable cases</th>\n",
       "      <th>Total death/s in suspected cases</th>\n",
       "      <th>Total discharges</th>\n",
       "      <th>Total no. currently in Treatment Units</th>\n",
       "      <th>Total probable cases</th>\n",
       "      <th>Total specimens tested</th>\n",
       "      <th>Total suspected cases</th>\n",
       "    </tr>\n",
       "    <tr>\n",
       "      <th>Month</th>\n",
       "      <th>Day</th>\n",
       "      <th></th>\n",
       "      <th></th>\n",
       "      <th></th>\n",
       "      <th></th>\n",
       "      <th></th>\n",
       "      <th></th>\n",
       "      <th></th>\n",
       "      <th></th>\n",
       "      <th></th>\n",
       "      <th></th>\n",
       "      <th></th>\n",
       "      <th></th>\n",
       "      <th></th>\n",
       "      <th></th>\n",
       "      <th></th>\n",
       "      <th></th>\n",
       "      <th></th>\n",
       "      <th></th>\n",
       "      <th></th>\n",
       "      <th></th>\n",
       "      <th></th>\n",
       "    </tr>\n",
       "  </thead>\n",
       "  <tbody>\n",
       "    <tr>\n",
       "      <th rowspan=\"5\" valign=\"top\">10</th>\n",
       "      <th>8</th>\n",
       "      <td>NaN</td>\n",
       "      <td>114.0</td>\n",
       "      <td>4251.0</td>\n",
       "      <td>481.0</td>\n",
       "      <td>4122.0</td>\n",
       "      <td>NaN</td>\n",
       "      <td>199.0</td>\n",
       "      <td>93.0</td>\n",
       "      <td>7066.0</td>\n",
       "      <td>10.0</td>\n",
       "      <td>...</td>\n",
       "      <td>16423.0</td>\n",
       "      <td>NaN</td>\n",
       "      <td>2344.0</td>\n",
       "      <td>NaN</td>\n",
       "      <td>NaN</td>\n",
       "      <td>88.0</td>\n",
       "      <td>459.0</td>\n",
       "      <td>NaN</td>\n",
       "      <td>NaN</td>\n",
       "      <td>NaN</td>\n",
       "    </tr>\n",
       "    <tr>\n",
       "      <th>9</th>\n",
       "      <td>NaN</td>\n",
       "      <td>17.0</td>\n",
       "      <td>6220.0</td>\n",
       "      <td>622.0</td>\n",
       "      <td>4182.0</td>\n",
       "      <td>NaN</td>\n",
       "      <td>202.0</td>\n",
       "      <td>94.0</td>\n",
       "      <td>7384.0</td>\n",
       "      <td>27.0</td>\n",
       "      <td>...</td>\n",
       "      <td>16793.0</td>\n",
       "      <td>NaN</td>\n",
       "      <td>2389.0</td>\n",
       "      <td>NaN</td>\n",
       "      <td>NaN</td>\n",
       "      <td>10.0</td>\n",
       "      <td>511.0</td>\n",
       "      <td>NaN</td>\n",
       "      <td>NaN</td>\n",
       "      <td>NaN</td>\n",
       "    </tr>\n",
       "    <tr>\n",
       "      <th>10</th>\n",
       "      <td>NaN</td>\n",
       "      <td>24.0</td>\n",
       "      <td>5521.0</td>\n",
       "      <td>307.0</td>\n",
       "      <td>4209.0</td>\n",
       "      <td>NaN</td>\n",
       "      <td>206.0</td>\n",
       "      <td>93.0</td>\n",
       "      <td>7055.0</td>\n",
       "      <td>7.0</td>\n",
       "      <td>...</td>\n",
       "      <td>16989.0</td>\n",
       "      <td>NaN</td>\n",
       "      <td>2414.0</td>\n",
       "      <td>NaN</td>\n",
       "      <td>NaN</td>\n",
       "      <td>35.0</td>\n",
       "      <td>452.0</td>\n",
       "      <td>NaN</td>\n",
       "      <td>NaN</td>\n",
       "      <td>NaN</td>\n",
       "    </tr>\n",
       "    <tr>\n",
       "      <th>11</th>\n",
       "      <td>66.0</td>\n",
       "      <td>4.0</td>\n",
       "      <td>6398.0</td>\n",
       "      <td>442.0</td>\n",
       "      <td>4241.0</td>\n",
       "      <td>NaN</td>\n",
       "      <td>207.0</td>\n",
       "      <td>94.0</td>\n",
       "      <td>7081.0</td>\n",
       "      <td>5.0</td>\n",
       "      <td>...</td>\n",
       "      <td>17061.0</td>\n",
       "      <td>1149.0</td>\n",
       "      <td>NaN</td>\n",
       "      <td>NaN</td>\n",
       "      <td>NaN</td>\n",
       "      <td>76.0</td>\n",
       "      <td>436.0</td>\n",
       "      <td>NaN</td>\n",
       "      <td>NaN</td>\n",
       "      <td>NaN</td>\n",
       "    </tr>\n",
       "    <tr>\n",
       "      <th>12</th>\n",
       "      <td>66.0</td>\n",
       "      <td>16.0</td>\n",
       "      <td>6391.0</td>\n",
       "      <td>452.0</td>\n",
       "      <td>4247.0</td>\n",
       "      <td>326.0</td>\n",
       "      <td>207.0</td>\n",
       "      <td>94.0</td>\n",
       "      <td>7136.0</td>\n",
       "      <td>8.0</td>\n",
       "      <td>...</td>\n",
       "      <td>17095.0</td>\n",
       "      <td>NaN</td>\n",
       "      <td>2451.0</td>\n",
       "      <td>NaN</td>\n",
       "      <td>NaN</td>\n",
       "      <td>75.0</td>\n",
       "      <td>436.0</td>\n",
       "      <td>NaN</td>\n",
       "      <td>NaN</td>\n",
       "      <td>NaN</td>\n",
       "    </tr>\n",
       "  </tbody>\n",
       "</table>\n",
       "<p>5 rows × 32 columns</p>\n",
       "</div>"
      ],
      "text/plain": [
       "           Case Fatality Rate (CFR) - Confirmed & Probable Cases  \\\n",
       "Month Day                                                          \n",
       "10    8                                                  NaN       \n",
       "      9                                                  NaN       \n",
       "      10                                                 NaN       \n",
       "      11                                                66.0       \n",
       "      12                                                66.0       \n",
       "\n",
       "           Contacts lost to follow-up  Contacts seen  \\\n",
       "Month Day                                              \n",
       "10    8                         114.0         4251.0   \n",
       "      9                          17.0         6220.0   \n",
       "      10                         24.0         5521.0   \n",
       "      11                          4.0         6398.0   \n",
       "      12                         16.0         6391.0   \n",
       "\n",
       "           Contacts who completed 21 day follow-up  \\\n",
       "Month Day                                            \n",
       "10    8                                      481.0   \n",
       "      9                                      622.0   \n",
       "      10                                     307.0   \n",
       "      11                                     442.0   \n",
       "      12                                     452.0   \n",
       "\n",
       "           Cumulative (confirmed + probable + suspects)  \\\n",
       "Month Day                                                 \n",
       "10    8                                          4122.0   \n",
       "      9                                          4182.0   \n",
       "      10                                         4209.0   \n",
       "      11                                         4241.0   \n",
       "      12                                         4247.0   \n",
       "\n",
       "           Cumulative admission/isolation  Cumulative cases among HCW  \\\n",
       "Month Day                                                               \n",
       "10    8                               NaN                       199.0   \n",
       "      9                               NaN                       202.0   \n",
       "      10                              NaN                       206.0   \n",
       "      11                              NaN                       207.0   \n",
       "      12                            326.0                       207.0   \n",
       "\n",
       "           Cumulative deaths among HCW  Currently under follow-up  \\\n",
       "Month Day                                                           \n",
       "10    8                           93.0                     7066.0   \n",
       "      9                           94.0                     7384.0   \n",
       "      10                          93.0                     7055.0   \n",
       "      11                          94.0                     7081.0   \n",
       "      12                          94.0                     7136.0   \n",
       "\n",
       "           New Case/s (Probable)          ...            \\\n",
       "Month Day                                 ...             \n",
       "10    8                     10.0          ...             \n",
       "      9                     27.0          ...             \n",
       "      10                     7.0          ...             \n",
       "      11                     5.0          ...             \n",
       "      12                     8.0          ...             \n",
       "\n",
       "           Total contacts listed  Total death/s in confirmed cases  \\\n",
       "Month Day                                                            \n",
       "10    8                  16423.0                               NaN   \n",
       "      9                  16793.0                               NaN   \n",
       "      10                 16989.0                               NaN   \n",
       "      11                 17061.0                            1149.0   \n",
       "      12                 17095.0                               NaN   \n",
       "\n",
       "           Total death/s in confirmed, probable, suspected cases  \\\n",
       "Month Day                                                          \n",
       "10    8                                               2344.0       \n",
       "      9                                               2389.0       \n",
       "      10                                              2414.0       \n",
       "      11                                                 NaN       \n",
       "      12                                              2451.0       \n",
       "\n",
       "           Total death/s in probable cases  Total death/s in suspected cases  \\\n",
       "Month Day                                                                      \n",
       "10    8                                NaN                               NaN   \n",
       "      9                                NaN                               NaN   \n",
       "      10                               NaN                               NaN   \n",
       "      11                               NaN                               NaN   \n",
       "      12                               NaN                               NaN   \n",
       "\n",
       "           Total discharges  Total no. currently in Treatment Units  \\\n",
       "Month Day                                                             \n",
       "10    8                88.0                                   459.0   \n",
       "      9                10.0                                   511.0   \n",
       "      10               35.0                                   452.0   \n",
       "      11               76.0                                   436.0   \n",
       "      12               75.0                                   436.0   \n",
       "\n",
       "           Total probable cases  Total specimens tested  Total suspected cases  \n",
       "Month Day                                                                       \n",
       "10    8                     NaN                     NaN                    NaN  \n",
       "      9                     NaN                     NaN                    NaN  \n",
       "      10                    NaN                     NaN                    NaN  \n",
       "      11                    NaN                     NaN                    NaN  \n",
       "      12                    NaN                     NaN                    NaN  \n",
       "\n",
       "[5 rows x 32 columns]"
      ]
     },
     "execution_count": 149,
     "metadata": {},
     "output_type": "execute_result"
    }
   ],
   "source": [
    "df_model_2 = model_dataframes[2]\n",
    "df_model_2.head()"
   ]
  },
  {
   "cell_type": "code",
   "execution_count": null,
   "metadata": {
    "collapsed": true
   },
   "outputs": [],
   "source": []
  },
  {
   "cell_type": "markdown",
   "metadata": {},
   "source": [
    "### 3 - Cleaning Sierra Leone"
   ]
  },
  {
   "cell_type": "markdown",
   "metadata": {},
   "source": [
    "## Task 2. RNA Sequences\n",
    "\n",
    "In the `DATA_FOLDER/microbiome` subdirectory, there are 9 spreadsheets of microbiome data that was acquired from high-throughput RNA sequencing procedures, along with a 10<sup>th</sup> file that describes the content of each. \n",
    "\n",
    "Use pandas to import the first 9 spreadsheets into a single `DataFrame`.\n",
    "Then, add the metadata information from the 10<sup>th</sup> spreadsheet as columns in the combined `DataFrame`.\n",
    "Make sure that the final `DataFrame` has a unique index and all the `NaN` values have been replaced by the tag `unknown`."
   ]
  },
  {
   "cell_type": "markdown",
   "metadata": {},
   "source": [
    "### 1- Importing the data"
   ]
  },
  {
   "cell_type": "markdown",
   "metadata": {},
   "source": [
    "First we import the data, and we add the ```BARCODE``` column using the file name to be able to match the metadata after that."
   ]
  },
  {
   "cell_type": "code",
   "execution_count": null,
   "metadata": {},
   "outputs": [],
   "source": [
    "MICROBIOME_FOLDER = DATA_FOLDER + '/microbiome'\n",
    "\n",
    "path = MICROBIOME_FOLDER\n",
    "allFiles = glob.glob(path + \"/MID[1-9].xls\")\n",
    "microbiome = pd.DataFrame()\n",
    "list_ = []\n",
    "for file_ in allFiles:\n",
    "    df = pd.read_excel(file_,header=None)\n",
    "    df['BARCODE'] = file_[18:22]\n",
    "    list_.append(df)\n",
    "microbiome = pd.concat(list_,axis=0)\n",
    "microbiome.columns =['taxon','count','BARCODE']\n",
    "microbiome.head()"
   ]
  },
  {
   "cell_type": "markdown",
   "metadata": {},
   "source": [
    "we check wether there is any NaN in the data"
   ]
  },
  {
   "cell_type": "code",
   "execution_count": null,
   "metadata": {},
   "outputs": [],
   "source": [
    "microbiome.isnull().values.any()"
   ]
  },
  {
   "cell_type": "markdown",
   "metadata": {},
   "source": [
    "Then we import the metadata and change the only NA as ```unknown```"
   ]
  },
  {
   "cell_type": "code",
   "execution_count": null,
   "metadata": {
    "scrolled": false
   },
   "outputs": [],
   "source": [
    "METADATA_PATH = MICROBIOME_FOLDER + '/metadata.xls'\n",
    "metadata = pd.read_excel(METADATA_PATH,header=0)\n",
    "metadata.fillna(value='unknown',inplace=True)\n",
    "metadata"
   ]
  },
  {
   "cell_type": "markdown",
   "metadata": {},
   "source": [
    "### 2 - Merging and keeping a unique index"
   ]
  },
  {
   "cell_type": "markdown",
   "metadata": {},
   "source": [
    "Now we need to merge the two tables"
   ]
  },
  {
   "cell_type": "code",
   "execution_count": null,
   "metadata": {
    "scrolled": false
   },
   "outputs": [],
   "source": [
    "result = pd.merge(microbiome,metadata)\n",
    "result.head()"
   ]
  },
  {
   "cell_type": "markdown",
   "metadata": {},
   "source": [
    "As explained in ```Intro to Pandas II``` : \"Lets import two microbiome datasets, each consisting of counts of micro-/organisms from a particular patient\", but we can see that the metadata of each ```MID[1-9]``` are different, therefore, the count of taxon for each barcode has been sampled uing differen```(GROUP,SAMPLE)``` pair. Therefore, we can index the dataframe using ```['taxon','GROUP','SAMPLE']``` to then unstack ```GROUP and SAMPLE``` to have for each ```(GROUP,SAMPLE)``` pair (described on the y axis) the count of the taxon (on the x axis)."
   ]
  },
  {
   "cell_type": "code",
   "execution_count": null,
   "metadata": {
    "scrolled": true
   },
   "outputs": [],
   "source": [
    "result = result.set_index(['taxon','GROUP','SAMPLE'])\n",
    "result.head()"
   ]
  },
  {
   "cell_type": "code",
   "execution_count": null,
   "metadata": {},
   "outputs": [],
   "source": [
    "result['count'].unstack('GROUP').unstack('SAMPLE').fillna('unknown')"
   ]
  },
  {
   "cell_type": "markdown",
   "metadata": {},
   "source": [
    "We see that the indices are unique :"
   ]
  },
  {
   "cell_type": "code",
   "execution_count": null,
   "metadata": {
    "scrolled": true
   },
   "outputs": [],
   "source": [
    "print(\"The indices are unique : {}\".format(result.index.is_unique))"
   ]
  },
  {
   "cell_type": "markdown",
   "metadata": {},
   "source": [
    "## Task 3. Class War in Titanic\n",
    "\n",
    "Use pandas to import the data file `Data/titanic.xls`. It contains data on all the passengers that travelled on the Titanic."
   ]
  },
  {
   "cell_type": "code",
   "execution_count": null,
   "metadata": {},
   "outputs": [],
   "source": [
    "from IPython.core.display import HTML\n",
    "HTML(filename=DATA_FOLDER+'/titanic.html')"
   ]
  },
  {
   "cell_type": "markdown",
   "metadata": {},
   "source": [
    "For each of the following questions state clearly your assumptions and discuss your findings:\n",
    "1. Describe the *type* and the *value range* of each attribute. Indicate and transform the attributes that can be `Categorical`. \n",
    "2. Plot histograms for the *travel class*, *embarkation port*, *sex* and *age* attributes. For the latter one, use *discrete decade intervals*. \n",
    "3. Calculate the proportion of passengers by *cabin floor*. Present your results in a *pie chart*.\n",
    "4. For each *travel class*, calculate the proportion of the passengers that survived. Present your results in *pie charts*.\n",
    "5. Calculate the proportion of the passengers that survived by *travel class* and *sex*. Present your results in *a single histogram*.\n",
    "6. Create 2 equally populated *age categories* and calculate survival proportions by *age category*, *travel class* and *sex*. Present your results in a `DataFrame` with unique index."
   ]
  },
  {
   "cell_type": "code",
   "execution_count": null,
   "metadata": {
    "collapsed": true
   },
   "outputs": [],
   "source": [
    "titanic = pd.read_excel(DATA_FOLDER+'/titanic.xls',header=0,converters={'ticket':str,'boat':str,'cabin':str,'home.dest':str})\n",
    "titanic.head()\n",
    "\n",
    "#We replace the embarcation port by their full name\n",
    "treatment_map = {'S': 'Southampton', 'Q': 'Queenstown', 'C': 'Cherbourg'}\n",
    "titanic['embarked'] = titanic['embarked'].map(treatment_map)"
   ]
  },
  {
   "cell_type": "code",
   "execution_count": null,
   "metadata": {},
   "outputs": [],
   "source": [
    "titanic.head()"
   ]
  },
  {
   "cell_type": "markdown",
   "metadata": {},
   "source": [
    "**Question 1: We decided to represent the answer with a dataframe to make the visualization easier**"
   ]
  },
  {
   "cell_type": "code",
   "execution_count": null,
   "metadata": {},
   "outputs": [],
   "source": [
    "ranges = []\n",
    "for i,var in enumerate(titanic.columns):\n",
    "    ranges.append(\"'{}' to '{}'\".format(titanic.iloc[:, i].dropna().min(),titanic.iloc[:, i].dropna().max()))\n",
    "\n",
    "df = titanic.transpose()\n",
    "df['type'] = df[0].map(lambda x: type(x).__name__)\n",
    "df['range'] = ranges\n",
    "df[['type','range']]\n"
   ]
  },
  {
   "cell_type": "markdown",
   "metadata": {},
   "source": [
    "Following the documentation we see that the values that can be transformes as categories are : ``` pclass, sex, cabin, embarked, boat```"
   ]
  },
  {
   "cell_type": "code",
   "execution_count": null,
   "metadata": {
    "collapsed": true
   },
   "outputs": [],
   "source": [
    "categorical_col= ['pclass','sex', 'cabin', 'embarked', 'boat']\n",
    "for col in categorical_col:\n",
    "    titanic[col] = titanic[col].astype('category')\n"
   ]
  },
  {
   "cell_type": "markdown",
   "metadata": {},
   "source": [
    "** Question 2 : Now we plot the histograms**"
   ]
  },
  {
   "cell_type": "code",
   "execution_count": null,
   "metadata": {},
   "outputs": [],
   "source": [
    "titanic['pclass'].value_counts().plot(kind='bar').set_title('Travel Class histogram')"
   ]
  },
  {
   "cell_type": "code",
   "execution_count": null,
   "metadata": {},
   "outputs": [],
   "source": [
    "titanic['sex'].value_counts().plot(kind='bar').set_title('Gender histogram')"
   ]
  },
  {
   "cell_type": "code",
   "execution_count": null,
   "metadata": {},
   "outputs": [],
   "source": [
    "titanic['embarked'].value_counts().plot(kind='bar').set_title('Embarcation Port')"
   ]
  },
  {
   "cell_type": "code",
   "execution_count": null,
   "metadata": {},
   "outputs": [],
   "source": [
    "pd.cut(titanic.age, [0,10,20,30,40,50,60,70,80,90]).value_counts().plot(kind='bar').set_title('Ages')"
   ]
  },
  {
   "cell_type": "markdown",
   "metadata": {},
   "source": [
    "***Question 3 : Now we plot the number of passenger depending on the cabine floor (represented by the letter at the beginning of the cabin***"
   ]
  },
  {
   "cell_type": "code",
   "execution_count": null,
   "metadata": {
    "collapsed": true
   },
   "outputs": [],
   "source": [
    "titanic['cabin floor'] = titanic['cabin'].map(lambda x : x[0])"
   ]
  },
  {
   "cell_type": "code",
   "execution_count": null,
   "metadata": {},
   "outputs": [],
   "source": [
    "n_passenger = titanic['cabin floor'].value_counts().sum()\n",
    "floor_repartition = titanic['cabin floor'].value_counts()\n",
    "print(\"Floor repartion is :\")\n",
    "floor_repartition.map(lambda x: \"{:06.3f}%\".format(x/n_passenger *100))"
   ]
  },
  {
   "cell_type": "code",
   "execution_count": null,
   "metadata": {},
   "outputs": [],
   "source": [
    "floor_repartition.plot(title='Repartition of passengers according to cabin floors',kind='pie')"
   ]
  },
  {
   "cell_type": "markdown",
   "metadata": {},
   "source": [
    "**Question 4 : Now for each travel class, we calculate the proportion of the passengers that survived.**\n",
    "The code is quite straightforward, we compute the number of survivor per class, then take the percentage per class. All the reste is simply cosmetic for it to look better"
   ]
  },
  {
   "cell_type": "code",
   "execution_count": null,
   "metadata": {
    "collapsed": true
   },
   "outputs": [],
   "source": [
    "first_class = titanic[[c == 1 for c in titanic.pclass]]['survived'].value_counts()\n",
    "n_1 = first_class.sum()\n",
    "second_class = titanic[[c == 2 for c in titanic.pclass]]['survived'].value_counts()\n",
    "n_2 = second_class.sum()\n",
    "third_class = titanic[[c == 3 for c in titanic.pclass]]['survived'].value_counts()\n",
    "n_3 = third_class.sum()"
   ]
  },
  {
   "cell_type": "code",
   "execution_count": null,
   "metadata": {},
   "outputs": [],
   "source": [
    "first_class_repartition = first_class.rename('First class survivors')\n",
    "first_class_repartition.index = ['survived','died']\n",
    "print(first_class_repartition.map(lambda x: \"{:06.3f}%\".format(x/n_1*100)))\n",
    "first_class_repartition.plot(kind='pie')"
   ]
  },
  {
   "cell_type": "code",
   "execution_count": null,
   "metadata": {},
   "outputs": [],
   "source": [
    "second_class_repartition = second_class.rename('Second class survivors')\n",
    "second_class_repartition.index = ['survived','died']\n",
    "print(second_class_repartition.map(lambda x: \"{:06.3f}%\".format(x/n_2*100)))\n",
    "second_class_repartition.plot(kind='pie')"
   ]
  },
  {
   "cell_type": "code",
   "execution_count": null,
   "metadata": {},
   "outputs": [],
   "source": [
    "third_class_repartition = third_class.rename('third class survivors')\n",
    "third_class_repartition.index = ['survived','died']\n",
    "print(third_class_repartition.map(lambda x: \"{:06.3f}%\".format(x/n_3*100)))\n",
    "third_class_repartition.plot(kind='pie')"
   ]
  },
  {
   "cell_type": "markdown",
   "metadata": {},
   "source": [
    "**Question 5 : We now calculate the proportion of the passengers that survived by travel class and sex.**\n",
    "We use seaborn ```factorplot``` to do that very simply?"
   ]
  },
  {
   "cell_type": "code",
   "execution_count": null,
   "metadata": {},
   "outputs": [],
   "source": [
    "sns.factorplot(x='sex',y='survived',hue='pclass',kind='bar',data=titanic,ci=None)"
   ]
  },
  {
   "cell_type": "markdown",
   "metadata": {},
   "source": [
    "** Question 6 : We want to create 2 equally populated age categories and calculate survival proportions by age category, travel class and sex. **\n",
    "First we separate the ages into two equally populated categories that we will name 'young' and 'old' for the sake of simplicity. "
   ]
  },
  {
   "cell_type": "code",
   "execution_count": null,
   "metadata": {},
   "outputs": [],
   "source": [
    "df = titanic[['pclass','sex','age','survived']]\n",
    "df['age'] = pd.cut(titanic.age,2,labels=['young','old'])\n",
    "df.head()"
   ]
  },
  {
   "cell_type": "markdown",
   "metadata": {},
   "source": [
    "Then we group those according to the the categories that interwst us, compute the sum (will sume the 1s corresponding to survivors and then compute the totals thanks to the ```count``` aggregation function"
   ]
  },
  {
   "cell_type": "code",
   "execution_count": null,
   "metadata": {},
   "outputs": [],
   "source": [
    "grouped = df.groupby(['pclass','sex','age']).agg({'survived':'sum'})\n",
    "grouped['totals'] = df.groupby(['pclass','sex','age']).agg({'survived':'count'})\n",
    "grouped"
   ]
  },
  {
   "cell_type": "markdown",
   "metadata": {},
   "source": [
    "Now that we have the number of survivors as well as the count of the population of each group, we can very simply compute the proportion of survivors.\n"
   ]
  },
  {
   "cell_type": "code",
   "execution_count": null,
   "metadata": {},
   "outputs": [],
   "source": [
    "grouped['survived (%)'] = grouped['survived']/grouped['totals']*100\n",
    "grouped[['survived (%)']].round(2)"
   ]
  },
  {
   "cell_type": "code",
   "execution_count": null,
   "metadata": {
    "collapsed": true
   },
   "outputs": [],
   "source": []
  }
 ],
 "metadata": {
  "kernelspec": {
   "display_name": "Python 3",
   "language": "python",
   "name": "python3"
  },
  "language_info": {
   "codemirror_mode": {
    "name": "ipython",
    "version": 3
   },
   "file_extension": ".py",
   "mimetype": "text/x-python",
   "name": "python",
   "nbconvert_exporter": "python",
   "pygments_lexer": "ipython3",
   "version": "3.6.1"
  }
 },
 "nbformat": 4,
 "nbformat_minor": 2
}
