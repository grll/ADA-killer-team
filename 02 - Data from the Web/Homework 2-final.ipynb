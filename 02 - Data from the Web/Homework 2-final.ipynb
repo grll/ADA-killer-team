{
 "cells": [
  {
   "cell_type": "markdown",
   "metadata": {},
   "source": [
    "# Homework 2 - Data from the web"
   ]
  },
  {
   "cell_type": "markdown",
   "metadata": {},
   "source": [
    "### Useful Imports"
   ]
  },
  {
   "cell_type": "code",
   "execution_count": 1,
   "metadata": {
    "collapsed": true
   },
   "outputs": [],
   "source": [
    "# Import libraries\n",
    "%matplotlib inline\n",
    "import requests\n",
    "from bs4 import BeautifulSoup\n",
    "import pandas as pd\n",
    "import numpy as np\n",
    "import matplotlib.pyplot as plt\n",
    "import seaborn as sns\n",
    "import os.path\n",
    "import sys\n",
    "import re \n",
    "\n",
    "# those two packages must be installed using:\n",
    "# ```conda install -c bioconda editdistance```\n",
    "# ```conda install -c anaconda unidecode```\n",
    "import editdistance\n",
    "from unidecode import unidecode\n",
    "\n",
    "sns.set_context('notebook')\n",
    "pd.options.mode.chained_assignment = None  # default='warn', Mutes warnings when copying a slice from a DataFrame."
   ]
  },
  {
   "cell_type": "markdown",
   "metadata": {},
   "source": [
    "## 1 - Top Universities"
   ]
  },
  {
   "cell_type": "markdown",
   "metadata": {},
   "source": [
    "In particular, extract the following fields for each university: name, rank, country and region, number of faculty members (international and total) and number of students (international and total)"
   ]
  },
  {
   "cell_type": "code",
   "execution_count": 2,
   "metadata": {
    "collapsed": true
   },
   "outputs": [],
   "source": [
    "ROOT_URL_TOP_UNIV = \"https://www.topuniversities.com/\""
   ]
  },
  {
   "cell_type": "code",
   "execution_count": 3,
   "metadata": {
    "collapsed": true
   },
   "outputs": [],
   "source": [
    "def progress(count, total, suffix=''):\n",
    "    \"\"\" Shows the progress of a given action \n",
    "    \n",
    "    @params:\n",
    "    - count : the current count of done operations\n",
    "    - total : the total number of operation to do\n",
    "    - suffix : a message printed after the progress bar\n",
    "    \"\"\"\n",
    "    \n",
    "    bar_len = 60\n",
    "    filled_len = int(round(bar_len * count / float(total)))\n",
    "\n",
    "    percents = round(100.0 * count / float(total), 1)\n",
    "    bar = '#' * filled_len + '-' * (bar_len - filled_len)\n",
    "\n",
    "    sys.stdout.write('[%s] %s%s ... %s\\r' % (bar, percents, '%', suffix))\n",
    "    sys.stdout.flush()  # As suggested by Rom Ruben"
   ]
  },
  {
   "cell_type": "code",
   "execution_count": 4,
   "metadata": {
    "collapsed": true
   },
   "outputs": [],
   "source": [
    "def get_number(enclosing_class_name,url,det_soup):\n",
    "    \"\"\"Tries to extract the number we look for. Will return a NaN \n",
    "    if the details page doesn't contain such a number\n",
    "    \n",
    "    @params:\n",
    "    - enclosing_class_name : the class of the div into which the number is contained.\n",
    "    - url : the suffix url of the school (to print an error if not found)\n",
    "    - det_soup : the soup of the details page for the given school\n",
    "    \n",
    "    \"\"\"\n",
    "    try:\n",
    "        n = det_soup.find(\"div\",class_=enclosing_class_name).find(\"div\",class_=\"number\").text.strip('\\n')\n",
    "    except(AttributeError) as e:\n",
    "        print(\"Couldn't find '{}' for {}\".format(enclosing_class_name,url))\n",
    "        n = 'NAN'\n",
    "    return n\n",
    "\n",
    "def get_details(url):\n",
    "    \"\"\"Finds the detail of a given university on the details page\n",
    "    \n",
    "    @params:\n",
    "    - url : the suffix url of the universirty of interest\n",
    "    \n",
    "    \"\"\"\n",
    "    details_url = ROOT_URL_TOP_UNIV + url\n",
    "    det_request = requests.get(details_url)\n",
    "    det_soup = BeautifulSoup(det_request.text, 'lxml')\n",
    "    labels = ['total faculty','inter faculty','total student','total inter']\n",
    "\n",
    "    staff_total,staff_inter,student_total,student_inter = [get_number(label,url,det_soup) for label in labels]\n",
    "    \n",
    "    return staff_total,staff_inter,student_total,student_inter"
   ]
  },
  {
   "cell_type": "code",
   "execution_count": 5,
   "metadata": {
    "collapsed": true
   },
   "outputs": [],
   "source": [
    "def get_ranking_topUni(path_to_dump):\n",
    "    \"\"\"\n",
    "    Will return a dataframe containing the data of the 200 best universities in the rankings published on www.topuniversities.com.\n",
    "    (in order to minimize the internet traffic every time the notebook is ran, the data is serialized using pickle)\n",
    "    \n",
    "    @params:\n",
    "    - path_to_dump : path were the dump of the data should be (will use it if already present and save there otherwise)\n",
    "    \"\"\"\n",
    "    r = requests.get('https://www.topuniversities.com/sites/default/files/qs-rankings-data/357051.txt?_=1508057903494')\n",
    "    if(os.path.isfile(path_to_dump)):\n",
    "        return pd.read_pickle(path_to_dump)\n",
    "\n",
    "    top_200 = []\n",
    "\n",
    "    for (i,uni_dict) in enumerate(r.json()['data']):\n",
    "        if(i>=200):\n",
    "            break\n",
    "\n",
    "        title = uni_dict['title']\n",
    "        rank = uni_dict['rank_display']\n",
    "        country = uni_dict['country']\n",
    "        region = uni_dict['region']\n",
    "        url = uni_dict['url']\n",
    "\n",
    "        # In case of tie, the rank is prefixed with an '=', we get rid of it.\n",
    "        rank = rank.strip('=')\n",
    "\n",
    "        # We then get the details from the details page\n",
    "        staff_total,staff_inter,student_total,student_inter = get_details(url)\n",
    "        progress(i+1,200,'Scraping the info')\n",
    "\n",
    "        top_200.append({'school_name': title, \n",
    "                        'rank': rank,\n",
    "                        'total_staff': staff_total,\n",
    "                        'international_staff': staff_inter,\n",
    "                        'total_student': student_total,\n",
    "                        'international_student': student_inter,\n",
    "                        'country': country,\n",
    "                        'region': region\n",
    "                       })\n",
    "            \n",
    "    df = pd.DataFrame.from_dict(top_200)\n",
    "    \n",
    "    # We set Rank as an index\n",
    "    df.set_index('rank',inplace=True)\n",
    "    \n",
    "    # Then we convert the number columns to integers\n",
    "    cols = ['total_staff','international_staff','total_student','international_student']\n",
    "    df[cols] = df[cols].apply(lambda x: pd.to_numeric(x.astype(str)\n",
    "                                                       .str.replace(',',''), errors='coerce',downcast='integer'))\n",
    "    \n",
    "    # Reorder the df columns for better output\n",
    "    df = df[['school_name', 'total_staff', 'international_staff', 'total_student', 'international_student', 'country', 'region']]\n",
    "    \n",
    "    # We serialize it using pickle so that we do not have to download it again\n",
    "    df.to_pickle(path_to_dump)\n",
    "    return df"
   ]
  },
  {
   "cell_type": "code",
   "execution_count": 6,
   "metadata": {
    "scrolled": false
   },
   "outputs": [
    {
     "data": {
      "text/html": [
       "<div>\n",
       "<style>\n",
       "    .dataframe thead tr:only-child th {\n",
       "        text-align: right;\n",
       "    }\n",
       "\n",
       "    .dataframe thead th {\n",
       "        text-align: left;\n",
       "    }\n",
       "\n",
       "    .dataframe tbody tr th {\n",
       "        vertical-align: top;\n",
       "    }\n",
       "</style>\n",
       "<table border=\"1\" class=\"dataframe\">\n",
       "  <thead>\n",
       "    <tr style=\"text-align: right;\">\n",
       "      <th></th>\n",
       "      <th>school_name</th>\n",
       "      <th>total_staff</th>\n",
       "      <th>international_staff</th>\n",
       "      <th>total_student</th>\n",
       "      <th>international_student</th>\n",
       "      <th>country</th>\n",
       "      <th>region</th>\n",
       "    </tr>\n",
       "    <tr>\n",
       "      <th>rank</th>\n",
       "      <th></th>\n",
       "      <th></th>\n",
       "      <th></th>\n",
       "      <th></th>\n",
       "      <th></th>\n",
       "      <th></th>\n",
       "      <th></th>\n",
       "    </tr>\n",
       "  </thead>\n",
       "  <tbody>\n",
       "    <tr>\n",
       "      <th>192</th>\n",
       "      <td>Keio University</td>\n",
       "      <td>3905.0</td>\n",
       "      <td>261.0</td>\n",
       "      <td>33500.0</td>\n",
       "      <td>2178.0</td>\n",
       "      <td>Japan</td>\n",
       "      <td>Asia</td>\n",
       "    </tr>\n",
       "    <tr>\n",
       "      <th>195</th>\n",
       "      <td>Stockholm University</td>\n",
       "      <td>2154.0</td>\n",
       "      <td>646.0</td>\n",
       "      <td>28281.0</td>\n",
       "      <td>2636.0</td>\n",
       "      <td>Sweden</td>\n",
       "      <td>Europe</td>\n",
       "    </tr>\n",
       "    <tr>\n",
       "      <th>195</th>\n",
       "      <td>Universitat Autònoma de Barcelona</td>\n",
       "      <td>2187.0</td>\n",
       "      <td>230.0</td>\n",
       "      <td>31986.0</td>\n",
       "      <td>3848.0</td>\n",
       "      <td>Spain</td>\n",
       "      <td>Europe</td>\n",
       "    </tr>\n",
       "    <tr>\n",
       "      <th>195</th>\n",
       "      <td>Texas A&amp;M University</td>\n",
       "      <td>3446.0</td>\n",
       "      <td>206.0</td>\n",
       "      <td>60294.0</td>\n",
       "      <td>4900.0</td>\n",
       "      <td>United States</td>\n",
       "      <td>North America</td>\n",
       "    </tr>\n",
       "    <tr>\n",
       "      <th>199</th>\n",
       "      <td>Instituto Tecnológico y de Estudios Superiores...</td>\n",
       "      <td>1822.0</td>\n",
       "      <td>821.0</td>\n",
       "      <td>13376.0</td>\n",
       "      <td>1412.0</td>\n",
       "      <td>Mexico</td>\n",
       "      <td>Latin America</td>\n",
       "    </tr>\n",
       "    <tr>\n",
       "      <th>200</th>\n",
       "      <td>Maastricht University</td>\n",
       "      <td>1277.0</td>\n",
       "      <td>502.0</td>\n",
       "      <td>16385.0</td>\n",
       "      <td>8234.0</td>\n",
       "      <td>Netherlands</td>\n",
       "      <td>Europe</td>\n",
       "    </tr>\n",
       "    <tr>\n",
       "      <th>201</th>\n",
       "      <td>Universidad de Chile</td>\n",
       "      <td>2256.0</td>\n",
       "      <td>127.0</td>\n",
       "      <td>38848.0</td>\n",
       "      <td>2134.0</td>\n",
       "      <td>Chile</td>\n",
       "      <td>Latin America</td>\n",
       "    </tr>\n",
       "  </tbody>\n",
       "</table>\n",
       "</div>"
      ],
      "text/plain": [
       "                                            school_name  total_staff  \\\n",
       "rank                                                                   \n",
       "192                                     Keio University       3905.0   \n",
       "195                                Stockholm University       2154.0   \n",
       "195                   Universitat Autònoma de Barcelona       2187.0   \n",
       "195                                Texas A&M University       3446.0   \n",
       "199   Instituto Tecnológico y de Estudios Superiores...       1822.0   \n",
       "200                               Maastricht University       1277.0   \n",
       "201                                Universidad de Chile       2256.0   \n",
       "\n",
       "      international_staff  total_student  international_student  \\\n",
       "rank                                                              \n",
       "192                 261.0        33500.0                 2178.0   \n",
       "195                 646.0        28281.0                 2636.0   \n",
       "195                 230.0        31986.0                 3848.0   \n",
       "195                 206.0        60294.0                 4900.0   \n",
       "199                 821.0        13376.0                 1412.0   \n",
       "200                 502.0        16385.0                 8234.0   \n",
       "201                 127.0        38848.0                 2134.0   \n",
       "\n",
       "            country         region  \n",
       "rank                                \n",
       "192           Japan           Asia  \n",
       "195          Sweden         Europe  \n",
       "195           Spain         Europe  \n",
       "195   United States  North America  \n",
       "199          Mexico  Latin America  \n",
       "200     Netherlands         Europe  \n",
       "201           Chile  Latin America  "
      ]
     },
     "execution_count": 6,
     "metadata": {},
     "output_type": "execute_result"
    }
   ],
   "source": [
    "df_topUni = get_ranking_topUni('topuniversities_backup')\n",
    "df_topUni.tail(7)"
   ]
  },
  {
   "cell_type": "markdown",
   "metadata": {},
   "source": [
    "** Remark: there is a mistake in the data,** if we take 200 rows of school we obtain the last school having rank 201. Indeed there is a mistake, looking at the data from Keio University which is at rank 192, if we count the ranks then \"Instituto Tecnologico [...]\" should be at rank 198 and not 199."
   ]
  },
  {
   "cell_type": "markdown",
   "metadata": {},
   "source": [
    "### 1.a - Best university in terms of ratio faculty members over students"
   ]
  },
  {
   "cell_type": "markdown",
   "metadata": {},
   "source": [
    "In order to determine which is the best university regarding ratio between faculty members and students, we create a new column called ```Fac/stud ratio```. Then we sort the rows according to values in this column. (because we were asked for the best universities we display the ranking according to this value)"
   ]
  },
  {
   "cell_type": "code",
   "execution_count": 7,
   "metadata": {},
   "outputs": [
    {
     "data": {
      "text/html": [
       "<div>\n",
       "<style>\n",
       "    .dataframe thead tr:only-child th {\n",
       "        text-align: right;\n",
       "    }\n",
       "\n",
       "    .dataframe thead th {\n",
       "        text-align: left;\n",
       "    }\n",
       "\n",
       "    .dataframe tbody tr th {\n",
       "        vertical-align: top;\n",
       "    }\n",
       "</style>\n",
       "<table border=\"1\" class=\"dataframe\">\n",
       "  <thead>\n",
       "    <tr style=\"text-align: right;\">\n",
       "      <th></th>\n",
       "      <th>school_name</th>\n",
       "      <th>total_staff</th>\n",
       "      <th>international_staff</th>\n",
       "      <th>total_student</th>\n",
       "      <th>international_student</th>\n",
       "      <th>country</th>\n",
       "      <th>region</th>\n",
       "      <th>fac_stud_ratio</th>\n",
       "    </tr>\n",
       "    <tr>\n",
       "      <th>rank</th>\n",
       "      <th></th>\n",
       "      <th></th>\n",
       "      <th></th>\n",
       "      <th></th>\n",
       "      <th></th>\n",
       "      <th></th>\n",
       "      <th></th>\n",
       "      <th></th>\n",
       "    </tr>\n",
       "  </thead>\n",
       "  <tbody>\n",
       "    <tr>\n",
       "      <th>4</th>\n",
       "      <td>California Institute of Technology (Caltech)</td>\n",
       "      <td>953.0</td>\n",
       "      <td>350.0</td>\n",
       "      <td>2255.0</td>\n",
       "      <td>647.0</td>\n",
       "      <td>United States</td>\n",
       "      <td>North America</td>\n",
       "      <td>0.422616</td>\n",
       "    </tr>\n",
       "    <tr>\n",
       "      <th>16</th>\n",
       "      <td>Yale University</td>\n",
       "      <td>4940.0</td>\n",
       "      <td>1708.0</td>\n",
       "      <td>12402.0</td>\n",
       "      <td>2469.0</td>\n",
       "      <td>United States</td>\n",
       "      <td>North America</td>\n",
       "      <td>0.398323</td>\n",
       "    </tr>\n",
       "    <tr>\n",
       "      <th>6</th>\n",
       "      <td>University of Oxford</td>\n",
       "      <td>6750.0</td>\n",
       "      <td>2964.0</td>\n",
       "      <td>19720.0</td>\n",
       "      <td>7353.0</td>\n",
       "      <td>United Kingdom</td>\n",
       "      <td>Europe</td>\n",
       "      <td>0.342292</td>\n",
       "    </tr>\n",
       "    <tr>\n",
       "      <th>5</th>\n",
       "      <td>University of Cambridge</td>\n",
       "      <td>5490.0</td>\n",
       "      <td>2278.0</td>\n",
       "      <td>18770.0</td>\n",
       "      <td>6699.0</td>\n",
       "      <td>United Kingdom</td>\n",
       "      <td>Europe</td>\n",
       "      <td>0.292488</td>\n",
       "    </tr>\n",
       "    <tr>\n",
       "      <th>17</th>\n",
       "      <td>Johns Hopkins University</td>\n",
       "      <td>4462.0</td>\n",
       "      <td>1061.0</td>\n",
       "      <td>16146.0</td>\n",
       "      <td>4105.0</td>\n",
       "      <td>United States</td>\n",
       "      <td>North America</td>\n",
       "      <td>0.276353</td>\n",
       "    </tr>\n",
       "  </tbody>\n",
       "</table>\n",
       "</div>"
      ],
      "text/plain": [
       "                                       school_name  total_staff  \\\n",
       "rank                                                              \n",
       "4     California Institute of Technology (Caltech)        953.0   \n",
       "16                                 Yale University       4940.0   \n",
       "6                             University of Oxford       6750.0   \n",
       "5                          University of Cambridge       5490.0   \n",
       "17                        Johns Hopkins University       4462.0   \n",
       "\n",
       "      international_staff  total_student  international_student  \\\n",
       "rank                                                              \n",
       "4                   350.0         2255.0                  647.0   \n",
       "16                 1708.0        12402.0                 2469.0   \n",
       "6                  2964.0        19720.0                 7353.0   \n",
       "5                  2278.0        18770.0                 6699.0   \n",
       "17                 1061.0        16146.0                 4105.0   \n",
       "\n",
       "             country         region  fac_stud_ratio  \n",
       "rank                                                 \n",
       "4      United States  North America        0.422616  \n",
       "16     United States  North America        0.398323  \n",
       "6     United Kingdom         Europe        0.342292  \n",
       "5     United Kingdom         Europe        0.292488  \n",
       "17     United States  North America        0.276353  "
      ]
     },
     "execution_count": 7,
     "metadata": {},
     "output_type": "execute_result"
    }
   ],
   "source": [
    "df_topUni['fac_stud_ratio'] = df_topUni['total_staff']/df_topUni['total_student']\n",
    "sorted_by_facStudRatio = df_topUni.sort_values('fac_stud_ratio',ascending=False)\n",
    "sorted_by_facStudRatio.head()"
   ]
  },
  {
   "cell_type": "code",
   "execution_count": 8,
   "metadata": {},
   "outputs": [
    {
     "data": {
      "image/png": "[encoded data removed]",
      "text/plain": [
       "<matplotlib.figure.Figure at 0x1159d71d0>"
      ]
     },
     "metadata": {},
     "output_type": "display_data"
    }
   ],
   "source": [
    "# format the name to fit in the bar plot\n",
    "shorten_school_name = [x.replace('of', '').replace('University', '')[0:13] for x in sorted_by_facStudRatio.head().school_name]\n",
    "ax = sns.barplot(x=shorten_school_name, y=sorted_by_facStudRatio.head().fac_stud_ratio)"
   ]
  },
  {
   "cell_type": "markdown",
   "metadata": {},
   "source": [
    "This is the top 5 university in terms of faculty/student ratio. "
   ]
  },
  {
   "cell_type": "markdown",
   "metadata": {},
   "source": [
    "### 1.b - Best university in terms of ratio of international students"
   ]
  },
  {
   "cell_type": "markdown",
   "metadata": {},
   "source": [
    "We use strategy that is exactly the same than for the 1.a"
   ]
  },
  {
   "cell_type": "code",
   "execution_count": 9,
   "metadata": {},
   "outputs": [
    {
     "data": {
      "text/html": [
       "<div>\n",
       "<style>\n",
       "    .dataframe thead tr:only-child th {\n",
       "        text-align: right;\n",
       "    }\n",
       "\n",
       "    .dataframe thead th {\n",
       "        text-align: left;\n",
       "    }\n",
       "\n",
       "    .dataframe tbody tr th {\n",
       "        vertical-align: top;\n",
       "    }\n",
       "</style>\n",
       "<table border=\"1\" class=\"dataframe\">\n",
       "  <thead>\n",
       "    <tr style=\"text-align: right;\">\n",
       "      <th></th>\n",
       "      <th>school_name</th>\n",
       "      <th>total_staff</th>\n",
       "      <th>international_staff</th>\n",
       "      <th>total_student</th>\n",
       "      <th>international_student</th>\n",
       "      <th>country</th>\n",
       "      <th>region</th>\n",
       "      <th>fac_stud_ratio</th>\n",
       "      <th>international_ratio</th>\n",
       "    </tr>\n",
       "    <tr>\n",
       "      <th>rank</th>\n",
       "      <th></th>\n",
       "      <th></th>\n",
       "      <th></th>\n",
       "      <th></th>\n",
       "      <th></th>\n",
       "      <th></th>\n",
       "      <th></th>\n",
       "      <th></th>\n",
       "      <th></th>\n",
       "    </tr>\n",
       "  </thead>\n",
       "  <tbody>\n",
       "    <tr>\n",
       "      <th>35</th>\n",
       "      <td>London School of Economics and Political Scien...</td>\n",
       "      <td>1088.0</td>\n",
       "      <td>687.0</td>\n",
       "      <td>9760.0</td>\n",
       "      <td>6748.0</td>\n",
       "      <td>United Kingdom</td>\n",
       "      <td>Europe</td>\n",
       "      <td>0.111475</td>\n",
       "      <td>0.691393</td>\n",
       "    </tr>\n",
       "    <tr>\n",
       "      <th>12</th>\n",
       "      <td>Ecole Polytechnique Fédérale de Lausanne (EPFL)</td>\n",
       "      <td>1695.0</td>\n",
       "      <td>1300.0</td>\n",
       "      <td>10343.0</td>\n",
       "      <td>5896.0</td>\n",
       "      <td>Switzerland</td>\n",
       "      <td>Europe</td>\n",
       "      <td>0.163879</td>\n",
       "      <td>0.570047</td>\n",
       "    </tr>\n",
       "    <tr>\n",
       "      <th>8</th>\n",
       "      <td>Imperial College London</td>\n",
       "      <td>3930.0</td>\n",
       "      <td>2071.0</td>\n",
       "      <td>16090.0</td>\n",
       "      <td>8746.0</td>\n",
       "      <td>United Kingdom</td>\n",
       "      <td>Europe</td>\n",
       "      <td>0.244251</td>\n",
       "      <td>0.543567</td>\n",
       "    </tr>\n",
       "    <tr>\n",
       "      <th>200</th>\n",
       "      <td>Maastricht University</td>\n",
       "      <td>1277.0</td>\n",
       "      <td>502.0</td>\n",
       "      <td>16385.0</td>\n",
       "      <td>8234.0</td>\n",
       "      <td>Netherlands</td>\n",
       "      <td>Europe</td>\n",
       "      <td>0.077937</td>\n",
       "      <td>0.502533</td>\n",
       "    </tr>\n",
       "    <tr>\n",
       "      <th>47</th>\n",
       "      <td>Carnegie Mellon University</td>\n",
       "      <td>1342.0</td>\n",
       "      <td>425.0</td>\n",
       "      <td>13356.0</td>\n",
       "      <td>6385.0</td>\n",
       "      <td>United States</td>\n",
       "      <td>North America</td>\n",
       "      <td>0.100479</td>\n",
       "      <td>0.478062</td>\n",
       "    </tr>\n",
       "  </tbody>\n",
       "</table>\n",
       "</div>"
      ],
      "text/plain": [
       "                                            school_name  total_staff  \\\n",
       "rank                                                                   \n",
       "35    London School of Economics and Political Scien...       1088.0   \n",
       "12      Ecole Polytechnique Fédérale de Lausanne (EPFL)       1695.0   \n",
       "8                               Imperial College London       3930.0   \n",
       "200                               Maastricht University       1277.0   \n",
       "47                           Carnegie Mellon University       1342.0   \n",
       "\n",
       "      international_staff  total_student  international_student  \\\n",
       "rank                                                              \n",
       "35                  687.0         9760.0                 6748.0   \n",
       "12                 1300.0        10343.0                 5896.0   \n",
       "8                  2071.0        16090.0                 8746.0   \n",
       "200                 502.0        16385.0                 8234.0   \n",
       "47                  425.0        13356.0                 6385.0   \n",
       "\n",
       "             country         region  fac_stud_ratio  international_ratio  \n",
       "rank                                                                      \n",
       "35    United Kingdom         Europe        0.111475             0.691393  \n",
       "12       Switzerland         Europe        0.163879             0.570047  \n",
       "8     United Kingdom         Europe        0.244251             0.543567  \n",
       "200      Netherlands         Europe        0.077937             0.502533  \n",
       "47     United States  North America        0.100479             0.478062  "
      ]
     },
     "execution_count": 9,
     "metadata": {},
     "output_type": "execute_result"
    }
   ],
   "source": [
    "df_topUni['international_ratio'] = df_topUni['international_student']/df_topUni['total_student']\n",
    "sorted_by_internationalRatio = df_topUni.sort_values('international_ratio',ascending=False)\n",
    "sorted_by_internationalRatio.head()"
   ]
  },
  {
   "cell_type": "code",
   "execution_count": 10,
   "metadata": {},
   "outputs": [
    {
     "data": {
      "image/png": "[encoded data removed]",
      "text/plain": [
       "<matplotlib.figure.Figure at 0x116d52cf8>"
      ]
     },
     "metadata": {},
     "output_type": "display_data"
    }
   ],
   "source": [
    "# format the name to fit in the bar plot\n",
    "shorten_school_name = [x.replace('of', '').replace('University', '')[0:13] for x in sorted_by_internationalRatio.head().school_name]\n",
    "ax = sns.barplot(x=shorten_school_name, y=sorted_by_internationalRatio.head().international_ratio)"
   ]
  },
  {
   "cell_type": "markdown",
   "metadata": {},
   "source": [
    "This is the top 5 university in terms of international students/total students ratio. "
   ]
  },
  {
   "cell_type": "markdown",
   "metadata": {},
   "source": [
    "### 1.c - Aggregated by country"
   ]
  },
  {
   "cell_type": "markdown",
   "metadata": {},
   "source": [
    "Because it wasn't so clear how we should aggregate the data, we decided to consider the ```mean()``` as aggregation function which will give us the ranking of countries according to :\n",
    "* ratio of faculty staff over students\n",
    "* ratio of international students"
   ]
  },
  {
   "cell_type": "code",
   "execution_count": 11,
   "metadata": {},
   "outputs": [
    {
     "data": {
      "text/html": [
       "<div>\n",
       "<style>\n",
       "    .dataframe thead tr:only-child th {\n",
       "        text-align: right;\n",
       "    }\n",
       "\n",
       "    .dataframe thead th {\n",
       "        text-align: left;\n",
       "    }\n",
       "\n",
       "    .dataframe tbody tr th {\n",
       "        vertical-align: top;\n",
       "    }\n",
       "</style>\n",
       "<table border=\"1\" class=\"dataframe\">\n",
       "  <thead>\n",
       "    <tr style=\"text-align: right;\">\n",
       "      <th></th>\n",
       "      <th>fac_stud_ratio</th>\n",
       "    </tr>\n",
       "    <tr>\n",
       "      <th>country</th>\n",
       "      <th></th>\n",
       "    </tr>\n",
       "  </thead>\n",
       "  <tbody>\n",
       "    <tr>\n",
       "      <th>Russia</th>\n",
       "      <td>0.221910</td>\n",
       "    </tr>\n",
       "    <tr>\n",
       "      <th>Denmark</th>\n",
       "      <td>0.186580</td>\n",
       "    </tr>\n",
       "    <tr>\n",
       "      <th>Saudi Arabia</th>\n",
       "      <td>0.175828</td>\n",
       "    </tr>\n",
       "    <tr>\n",
       "      <th>Singapore</th>\n",
       "      <td>0.162279</td>\n",
       "    </tr>\n",
       "    <tr>\n",
       "      <th>Japan</th>\n",
       "      <td>0.155840</td>\n",
       "    </tr>\n",
       "  </tbody>\n",
       "</table>\n",
       "</div>"
      ],
      "text/plain": [
       "              fac_stud_ratio\n",
       "country                     \n",
       "Russia              0.221910\n",
       "Denmark             0.186580\n",
       "Saudi Arabia        0.175828\n",
       "Singapore           0.162279\n",
       "Japan               0.155840"
      ]
     },
     "execution_count": 11,
     "metadata": {},
     "output_type": "execute_result"
    }
   ],
   "source": [
    "best_countries_by_facStudRatio = df_topUni.groupby('country').mean().sort_values('fac_stud_ratio',ascending=False)\n",
    "best_countries_by_facStudRatio[['fac_stud_ratio']].head()"
   ]
  },
  {
   "cell_type": "code",
   "execution_count": 12,
   "metadata": {},
   "outputs": [
    {
     "data": {
      "image/png": "[encoded data removed]",
      "text/plain": [
       "<matplotlib.figure.Figure at 0x115b47518>"
      ]
     },
     "metadata": {},
     "output_type": "display_data"
    }
   ],
   "source": [
    "ax = sns.barplot(x=best_countries_by_facStudRatio.head().index, y=best_countries_by_facStudRatio.head().fac_stud_ratio)"
   ]
  },
  {
   "cell_type": "markdown",
   "metadata": {},
   "source": [
    "This is the top 5 countries in terms of faculty/student ratio."
   ]
  },
  {
   "cell_type": "code",
   "execution_count": 13,
   "metadata": {},
   "outputs": [
    {
     "data": {
      "text/html": [
       "<div>\n",
       "<style>\n",
       "    .dataframe thead tr:only-child th {\n",
       "        text-align: right;\n",
       "    }\n",
       "\n",
       "    .dataframe thead th {\n",
       "        text-align: left;\n",
       "    }\n",
       "\n",
       "    .dataframe tbody tr th {\n",
       "        vertical-align: top;\n",
       "    }\n",
       "</style>\n",
       "<table border=\"1\" class=\"dataframe\">\n",
       "  <thead>\n",
       "    <tr style=\"text-align: right;\">\n",
       "      <th></th>\n",
       "      <th>international_ratio</th>\n",
       "    </tr>\n",
       "    <tr>\n",
       "      <th>country</th>\n",
       "      <th></th>\n",
       "    </tr>\n",
       "  </thead>\n",
       "  <tbody>\n",
       "    <tr>\n",
       "      <th>United Kingdom</th>\n",
       "      <td>0.351308</td>\n",
       "    </tr>\n",
       "    <tr>\n",
       "      <th>Australia</th>\n",
       "      <td>0.346878</td>\n",
       "    </tr>\n",
       "    <tr>\n",
       "      <th>Switzerland</th>\n",
       "      <td>0.313816</td>\n",
       "    </tr>\n",
       "    <tr>\n",
       "      <th>Hong Kong</th>\n",
       "      <td>0.312148</td>\n",
       "    </tr>\n",
       "    <tr>\n",
       "      <th>Austria</th>\n",
       "      <td>0.306095</td>\n",
       "    </tr>\n",
       "  </tbody>\n",
       "</table>\n",
       "</div>"
      ],
      "text/plain": [
       "                international_ratio\n",
       "country                            \n",
       "United Kingdom             0.351308\n",
       "Australia                  0.346878\n",
       "Switzerland                0.313816\n",
       "Hong Kong                  0.312148\n",
       "Austria                    0.306095"
      ]
     },
     "execution_count": 13,
     "metadata": {},
     "output_type": "execute_result"
    }
   ],
   "source": [
    "best_countries_by_internationalRatio = df_topUni.groupby('country').mean().sort_values('international_ratio',ascending=False)\n",
    "best_countries_by_internationalRatio[['international_ratio']].head()"
   ]
  },
  {
   "cell_type": "code",
   "execution_count": 14,
   "metadata": {},
   "outputs": [
    {
     "data": {
      "image/png": "[encoded data removed]",
      "text/plain": [
       "<matplotlib.figure.Figure at 0x116e78e48>"
      ]
     },
     "metadata": {},
     "output_type": "display_data"
    }
   ],
   "source": [
    "ax = sns.barplot(x=best_countries_by_internationalRatio.head().index, y=best_countries_by_internationalRatio.head().international_ratio)"
   ]
  },
  {
   "cell_type": "markdown",
   "metadata": {},
   "source": [
    "This is the top 5 countries in terms of international students/total students ratio. "
   ]
  },
  {
   "cell_type": "markdown",
   "metadata": {},
   "source": [
    "### 1.d - Aggregated by region"
   ]
  },
  {
   "cell_type": "markdown",
   "metadata": {},
   "source": [
    "Very similar strategy than the one used in 1.c"
   ]
  },
  {
   "cell_type": "code",
   "execution_count": 15,
   "metadata": {},
   "outputs": [
    {
     "data": {
      "text/html": [
       "<div>\n",
       "<style>\n",
       "    .dataframe thead tr:only-child th {\n",
       "        text-align: right;\n",
       "    }\n",
       "\n",
       "    .dataframe thead th {\n",
       "        text-align: left;\n",
       "    }\n",
       "\n",
       "    .dataframe tbody tr th {\n",
       "        vertical-align: top;\n",
       "    }\n",
       "</style>\n",
       "<table border=\"1\" class=\"dataframe\">\n",
       "  <thead>\n",
       "    <tr style=\"text-align: right;\">\n",
       "      <th></th>\n",
       "      <th>fac_stud_ratio</th>\n",
       "    </tr>\n",
       "    <tr>\n",
       "      <th>region</th>\n",
       "      <th></th>\n",
       "    </tr>\n",
       "  </thead>\n",
       "  <tbody>\n",
       "    <tr>\n",
       "      <th>North America</th>\n",
       "      <td>0.144831</td>\n",
       "    </tr>\n",
       "    <tr>\n",
       "      <th>Asia</th>\n",
       "      <td>0.134673</td>\n",
       "    </tr>\n",
       "    <tr>\n",
       "      <th>Europe</th>\n",
       "      <td>0.120003</td>\n",
       "    </tr>\n",
       "    <tr>\n",
       "      <th>Latin America</th>\n",
       "      <td>0.096779</td>\n",
       "    </tr>\n",
       "    <tr>\n",
       "      <th>Africa</th>\n",
       "      <td>0.088450</td>\n",
       "    </tr>\n",
       "    <tr>\n",
       "      <th>Oceania</th>\n",
       "      <td>0.075003</td>\n",
       "    </tr>\n",
       "  </tbody>\n",
       "</table>\n",
       "</div>"
      ],
      "text/plain": [
       "               fac_stud_ratio\n",
       "region                       \n",
       "North America        0.144831\n",
       "Asia                 0.134673\n",
       "Europe               0.120003\n",
       "Latin America        0.096779\n",
       "Africa               0.088450\n",
       "Oceania              0.075003"
      ]
     },
     "execution_count": 15,
     "metadata": {},
     "output_type": "execute_result"
    }
   ],
   "source": [
    "best_regions_by_facStudRatio = df_topUni.groupby('region').mean().sort_values('fac_stud_ratio',ascending=False)\n",
    "best_regions_by_facStudRatio[['fac_stud_ratio']]"
   ]
  },
  {
   "cell_type": "code",
   "execution_count": 16,
   "metadata": {},
   "outputs": [
    {
     "data": {
      "text/html": [
       "<div>\n",
       "<style>\n",
       "    .dataframe thead tr:only-child th {\n",
       "        text-align: right;\n",
       "    }\n",
       "\n",
       "    .dataframe thead th {\n",
       "        text-align: left;\n",
       "    }\n",
       "\n",
       "    .dataframe tbody tr th {\n",
       "        vertical-align: top;\n",
       "    }\n",
       "</style>\n",
       "<table border=\"1\" class=\"dataframe\">\n",
       "  <thead>\n",
       "    <tr style=\"text-align: right;\">\n",
       "      <th></th>\n",
       "      <th>international_ratio</th>\n",
       "    </tr>\n",
       "    <tr>\n",
       "      <th>region</th>\n",
       "      <th></th>\n",
       "    </tr>\n",
       "  </thead>\n",
       "  <tbody>\n",
       "    <tr>\n",
       "      <th>Oceania</th>\n",
       "      <td>0.329077</td>\n",
       "    </tr>\n",
       "    <tr>\n",
       "      <th>Europe</th>\n",
       "      <td>0.245932</td>\n",
       "    </tr>\n",
       "    <tr>\n",
       "      <th>North America</th>\n",
       "      <td>0.202437</td>\n",
       "    </tr>\n",
       "    <tr>\n",
       "      <th>Africa</th>\n",
       "      <td>0.169703</td>\n",
       "    </tr>\n",
       "    <tr>\n",
       "      <th>Asia</th>\n",
       "      <td>0.132394</td>\n",
       "    </tr>\n",
       "    <tr>\n",
       "      <th>Latin America</th>\n",
       "      <td>0.071751</td>\n",
       "    </tr>\n",
       "  </tbody>\n",
       "</table>\n",
       "</div>"
      ],
      "text/plain": [
       "               international_ratio\n",
       "region                            \n",
       "Oceania                   0.329077\n",
       "Europe                    0.245932\n",
       "North America             0.202437\n",
       "Africa                    0.169703\n",
       "Asia                      0.132394\n",
       "Latin America             0.071751"
      ]
     },
     "execution_count": 16,
     "metadata": {},
     "output_type": "execute_result"
    }
   ],
   "source": [
    "best_regions_by_internationalRatio = df_topUni.groupby('region').mean().sort_values('international_ratio',ascending=False)\n",
    "best_regions_by_internationalRatio[['international_ratio']]"
   ]
  },
  {
   "cell_type": "code",
   "execution_count": 17,
   "metadata": {},
   "outputs": [
    {
     "data": {
      "image/png": "[encoded data removed]",
      "text/plain": [
       "<matplotlib.figure.Figure at 0x116ec8780>"
      ]
     },
     "metadata": {},
     "output_type": "display_data"
    }
   ],
   "source": [
    "# format the dataframe to make a nice barplot\n",
    "df = best_regions_by_internationalRatio[['international_ratio']].merge(best_regions_by_facStudRatio[['fac_stud_ratio']], left_index=True, right_index=True)\n",
    "df.reset_index(inplace=True)\n",
    "df = pd.melt(df, id_vars=['region'], var_name=\"ratio\", value_name='value')\n",
    "# plot the barplot with sns\n",
    "ax = sns.factorplot(x='ratio', y='value', hue='region', data=df, kind='bar')"
   ]
  },
  {
   "cell_type": "markdown",
   "metadata": {},
   "source": [
    "This is the 6 regions classified by international students ratio on the left and weighted with the faculty / students ratio on the right"
   ]
  },
  {
   "cell_type": "markdown",
   "metadata": {},
   "source": [
    "## 2 - Times Higher Education"
   ]
  },
  {
   "cell_type": "markdown",
   "metadata": {},
   "source": [
    "Because we do not have direct access to some informations (e.g. International Students, Total Staff) we will infer them using the informations we have."
   ]
  },
  {
   "cell_type": "code",
   "execution_count": 18,
   "metadata": {
    "collapsed": true
   },
   "outputs": [],
   "source": [
    "def find_region_from_country(country):\n",
    "    \"\"\"\n",
    "        use restcountries.eu API to return the region name from the country name\n",
    "        \n",
    "        @params:\n",
    "        - country : the country to find the region from\n",
    "    \"\"\"\n",
    "    # with further investigation we realised that South Korea is not recognized well by the API \n",
    "    # so we decided to handle that specific case separetly :\n",
    "    if country == 'South Korea':\n",
    "        return 'Asia'\n",
    "    \n",
    "    r = requests.get('https://restcountries.eu/rest/v2/name/' + country)\n",
    "    \n",
    "    try:\n",
    "        region = r.json()[0]['region']\n",
    "        if region == 'Americas':\n",
    "            region = r.json()[0]['subregion']\n",
    "    except(KeyError) as e:\n",
    "        print(\"Couldn't find region for '{}'\".format(country))\n",
    "        region = np.nan\n",
    "    \n",
    "    return region\n"
   ]
  },
  {
   "cell_type": "code",
   "execution_count": 19,
   "metadata": {
    "collapsed": true
   },
   "outputs": [],
   "source": [
    "def get_ranking_times(path_to_dump):\n",
    "    \"\"\"\n",
    "        generate a dataframe with the top 200 university from timeshighereducation.com\n",
    "        \n",
    "        @params:\n",
    "        - path_to_dump : path were the dump of the data should be (will use it if already present and save there otherwise)\n",
    "    \"\"\"\n",
    "    if(os.path.isfile(path_to_dump)):\n",
    "        return pd.read_pickle(path_to_dump)\n",
    "    \n",
    "    r = requests.get('https://www.timeshighereducation.com/sites/default/files/the_data_rankings/world_university_rankings_2018_limit0_369a9045a203e176392b9fb8f8c1cb2a.json')\n",
    "\n",
    "    top_200 = []\n",
    "    for (i,uni_dict) in enumerate(r.json()['data']):\n",
    "        if(i>=200):\n",
    "            break\n",
    "        title = uni_dict['name']\n",
    "        # We delete the '=' sign in the case of tie to be consistent with the first one\n",
    "        rank = uni_dict['rank'].replace('=','')\n",
    "        country = uni_dict['location']\n",
    "\n",
    "        # We delete the thousands separator\n",
    "        student_total = int(uni_dict['stats_number_students'].replace(',',''))\n",
    "        pc_inter_student = float(uni_dict[\"stats_pc_intl_students\"].replace('%',''))/100\n",
    "        student_to_staff_ratio = float(uni_dict[\"stats_student_staff_ratio\"])\n",
    "\n",
    "        # infer some informations using the percentage and ratio\n",
    "        student_inter = student_total*pc_inter_student\n",
    "        staff_total = student_total/student_to_staff_ratio\n",
    "\n",
    "        top_200.append({'school_name': title, \n",
    "                            'rank': rank, \n",
    "                            'country': country,\n",
    "                            'international_student' : int(round(student_inter)),\n",
    "                            'total_staff' : int(round(staff_total)),\n",
    "                            'total_student': student_total,\n",
    "                            'region': find_region_from_country(country)\n",
    "                           })\n",
    "        \n",
    "        # update the progress bar\n",
    "        progress(i+1,200,'Analysing the JSON file')\n",
    "        \n",
    "    df = pd.DataFrame.from_dict(top_200)\n",
    "    \n",
    "    # We set Rank as an index\n",
    "    df.set_index('rank',inplace=True)\n",
    "    \n",
    "    # Reorder the df columns for better output\n",
    "    df = df[['school_name', 'total_staff', 'total_student', 'international_student', 'country', 'region']]\n",
    "\n",
    "    df.to_pickle(path_to_dump)\n",
    "    return df"
   ]
  },
  {
   "cell_type": "code",
   "execution_count": 20,
   "metadata": {},
   "outputs": [
    {
     "name": "stdout",
     "output_type": "stream",
     "text": [
      "[############################################################] 100.0% ... Analysing the JSON file\r"
     ]
    },
    {
     "data": {
      "text/html": [
       "<div>\n",
       "<style>\n",
       "    .dataframe thead tr:only-child th {\n",
       "        text-align: right;\n",
       "    }\n",
       "\n",
       "    .dataframe thead th {\n",
       "        text-align: left;\n",
       "    }\n",
       "\n",
       "    .dataframe tbody tr th {\n",
       "        vertical-align: top;\n",
       "    }\n",
       "</style>\n",
       "<table border=\"1\" class=\"dataframe\">\n",
       "  <thead>\n",
       "    <tr style=\"text-align: right;\">\n",
       "      <th></th>\n",
       "      <th>school_name</th>\n",
       "      <th>total_staff</th>\n",
       "      <th>total_student</th>\n",
       "      <th>international_student</th>\n",
       "      <th>country</th>\n",
       "      <th>region</th>\n",
       "    </tr>\n",
       "    <tr>\n",
       "      <th>rank</th>\n",
       "      <th></th>\n",
       "      <th></th>\n",
       "      <th></th>\n",
       "      <th></th>\n",
       "      <th></th>\n",
       "      <th></th>\n",
       "    </tr>\n",
       "  </thead>\n",
       "  <tbody>\n",
       "    <tr>\n",
       "      <th>1</th>\n",
       "      <td>University of Oxford</td>\n",
       "      <td>1822</td>\n",
       "      <td>20409</td>\n",
       "      <td>7755</td>\n",
       "      <td>United Kingdom</td>\n",
       "      <td>Europe</td>\n",
       "    </tr>\n",
       "    <tr>\n",
       "      <th>2</th>\n",
       "      <td>University of Cambridge</td>\n",
       "      <td>1687</td>\n",
       "      <td>18389</td>\n",
       "      <td>6436</td>\n",
       "      <td>United Kingdom</td>\n",
       "      <td>Europe</td>\n",
       "    </tr>\n",
       "    <tr>\n",
       "      <th>3</th>\n",
       "      <td>California Institute of Technology</td>\n",
       "      <td>340</td>\n",
       "      <td>2209</td>\n",
       "      <td>596</td>\n",
       "      <td>United States</td>\n",
       "      <td>Northern America</td>\n",
       "    </tr>\n",
       "    <tr>\n",
       "      <th>3</th>\n",
       "      <td>Stanford University</td>\n",
       "      <td>2113</td>\n",
       "      <td>15845</td>\n",
       "      <td>3486</td>\n",
       "      <td>United States</td>\n",
       "      <td>Northern America</td>\n",
       "    </tr>\n",
       "    <tr>\n",
       "      <th>5</th>\n",
       "      <td>Massachusetts Institute of Technology</td>\n",
       "      <td>1285</td>\n",
       "      <td>11177</td>\n",
       "      <td>3800</td>\n",
       "      <td>United States</td>\n",
       "      <td>Northern America</td>\n",
       "    </tr>\n",
       "  </tbody>\n",
       "</table>\n",
       "</div>"
      ],
      "text/plain": [
       "                                school_name  total_staff  total_student  \\\n",
       "rank                                                                      \n",
       "1                      University of Oxford         1822          20409   \n",
       "2                   University of Cambridge         1687          18389   \n",
       "3        California Institute of Technology          340           2209   \n",
       "3                       Stanford University         2113          15845   \n",
       "5     Massachusetts Institute of Technology         1285          11177   \n",
       "\n",
       "      international_student         country            region  \n",
       "rank                                                           \n",
       "1                      7755  United Kingdom            Europe  \n",
       "2                      6436  United Kingdom            Europe  \n",
       "3                       596   United States  Northern America  \n",
       "3                      3486   United States  Northern America  \n",
       "5                      3800   United States  Northern America  "
      ]
     },
     "execution_count": 20,
     "metadata": {},
     "output_type": "execute_result"
    }
   ],
   "source": [
    "df_times = get_ranking_times('times_backup')\n",
    "df_times.head()"
   ]
  },
  {
   "cell_type": "markdown",
   "metadata": {},
   "source": [
    "We now repeat the same steps as for the first exercise to analyse the different ratio such as faculty/student ratio and international/total students."
   ]
  },
  {
   "cell_type": "markdown",
   "metadata": {},
   "source": [
    "### 2.a - Best university in terms of ratio faculty members over students"
   ]
  },
  {
   "cell_type": "code",
   "execution_count": 21,
   "metadata": {},
   "outputs": [
    {
     "data": {
      "text/html": [
       "<div>\n",
       "<style>\n",
       "    .dataframe thead tr:only-child th {\n",
       "        text-align: right;\n",
       "    }\n",
       "\n",
       "    .dataframe thead th {\n",
       "        text-align: left;\n",
       "    }\n",
       "\n",
       "    .dataframe tbody tr th {\n",
       "        vertical-align: top;\n",
       "    }\n",
       "</style>\n",
       "<table border=\"1\" class=\"dataframe\">\n",
       "  <thead>\n",
       "    <tr style=\"text-align: right;\">\n",
       "      <th></th>\n",
       "      <th>school_name</th>\n",
       "      <th>total_staff</th>\n",
       "      <th>total_student</th>\n",
       "      <th>international_student</th>\n",
       "      <th>country</th>\n",
       "      <th>region</th>\n",
       "      <th>fac_stud_ratio</th>\n",
       "    </tr>\n",
       "    <tr>\n",
       "      <th>rank</th>\n",
       "      <th></th>\n",
       "      <th></th>\n",
       "      <th></th>\n",
       "      <th></th>\n",
       "      <th></th>\n",
       "      <th></th>\n",
       "      <th></th>\n",
       "    </tr>\n",
       "  </thead>\n",
       "  <tbody>\n",
       "    <tr>\n",
       "      <th>105</th>\n",
       "      <td>Vanderbilt University</td>\n",
       "      <td>3640</td>\n",
       "      <td>12011</td>\n",
       "      <td>1561</td>\n",
       "      <td>United States</td>\n",
       "      <td>Northern America</td>\n",
       "      <td>0.303056</td>\n",
       "    </tr>\n",
       "    <tr>\n",
       "      <th>109</th>\n",
       "      <td>University of Copenhagen</td>\n",
       "      <td>7413</td>\n",
       "      <td>30395</td>\n",
       "      <td>4255</td>\n",
       "      <td>Denmark</td>\n",
       "      <td>Europe</td>\n",
       "      <td>0.243889</td>\n",
       "    </tr>\n",
       "    <tr>\n",
       "      <th>12</th>\n",
       "      <td>Yale University</td>\n",
       "      <td>2827</td>\n",
       "      <td>12155</td>\n",
       "      <td>2553</td>\n",
       "      <td>United States</td>\n",
       "      <td>Northern America</td>\n",
       "      <td>0.232579</td>\n",
       "    </tr>\n",
       "    <tr>\n",
       "      <th>153</th>\n",
       "      <td>University of Rochester</td>\n",
       "      <td>2241</td>\n",
       "      <td>9636</td>\n",
       "      <td>2794</td>\n",
       "      <td>United States</td>\n",
       "      <td>Northern America</td>\n",
       "      <td>0.232565</td>\n",
       "    </tr>\n",
       "    <tr>\n",
       "      <th>13</th>\n",
       "      <td>Johns Hopkins University</td>\n",
       "      <td>3604</td>\n",
       "      <td>15498</td>\n",
       "      <td>3720</td>\n",
       "      <td>United States</td>\n",
       "      <td>Northern America</td>\n",
       "      <td>0.232546</td>\n",
       "    </tr>\n",
       "  </tbody>\n",
       "</table>\n",
       "</div>"
      ],
      "text/plain": [
       "                   school_name  total_staff  total_student  \\\n",
       "rank                                                         \n",
       "105      Vanderbilt University         3640          12011   \n",
       "109   University of Copenhagen         7413          30395   \n",
       "12             Yale University         2827          12155   \n",
       "153    University of Rochester         2241           9636   \n",
       "13    Johns Hopkins University         3604          15498   \n",
       "\n",
       "      international_student        country            region  fac_stud_ratio  \n",
       "rank                                                                          \n",
       "105                    1561  United States  Northern America        0.303056  \n",
       "109                    4255        Denmark            Europe        0.243889  \n",
       "12                     2553  United States  Northern America        0.232579  \n",
       "153                    2794  United States  Northern America        0.232565  \n",
       "13                     3720  United States  Northern America        0.232546  "
      ]
     },
     "execution_count": 21,
     "metadata": {},
     "output_type": "execute_result"
    }
   ],
   "source": [
    "df_times['fac_stud_ratio'] = df_times['total_staff']/df_times['total_student']\n",
    "sorted_by_facStudRatio = df_times.sort_values('fac_stud_ratio',ascending=False)\n",
    "sorted_by_facStudRatio.head()"
   ]
  },
  {
   "cell_type": "code",
   "execution_count": 22,
   "metadata": {},
   "outputs": [
    {
     "data": {
      "image/png": "[encoded data removed]",
      "text/plain": [
       "<matplotlib.figure.Figure at 0x11703e128>"
      ]
     },
     "metadata": {},
     "output_type": "display_data"
    }
   ],
   "source": [
    "# format the name to fit in the bar plot\n",
    "shorten_school_name = [x.replace('of', '').replace('University', '')[0:13] for x in sorted_by_facStudRatio.head().school_name]\n",
    "ax = sns.barplot(x=shorten_school_name, y=sorted_by_facStudRatio.head().fac_stud_ratio)"
   ]
  },
  {
   "cell_type": "markdown",
   "metadata": {},
   "source": [
    "We can observe that in this ranking the rank compare to the faculty/student ratio is much higher. The best faculty/student ratio is only rank 105 when it was 4 in the other ranking. We also observe that the value differ from the previous ranking and that we see only 2 universities in common in the top 5 (Yale and Johns Hopkins)."
   ]
  },
  {
   "cell_type": "markdown",
   "metadata": {},
   "source": [
    "### 2.b - Best university in terms of ratio of international students"
   ]
  },
  {
   "cell_type": "code",
   "execution_count": 23,
   "metadata": {},
   "outputs": [
    {
     "data": {
      "text/html": [
       "<div>\n",
       "<style>\n",
       "    .dataframe thead tr:only-child th {\n",
       "        text-align: right;\n",
       "    }\n",
       "\n",
       "    .dataframe thead th {\n",
       "        text-align: left;\n",
       "    }\n",
       "\n",
       "    .dataframe tbody tr th {\n",
       "        vertical-align: top;\n",
       "    }\n",
       "</style>\n",
       "<table border=\"1\" class=\"dataframe\">\n",
       "  <thead>\n",
       "    <tr style=\"text-align: right;\">\n",
       "      <th></th>\n",
       "      <th>school_name</th>\n",
       "      <th>total_staff</th>\n",
       "      <th>total_student</th>\n",
       "      <th>international_student</th>\n",
       "      <th>country</th>\n",
       "      <th>region</th>\n",
       "      <th>fac_stud_ratio</th>\n",
       "      <th>international_ratio</th>\n",
       "    </tr>\n",
       "    <tr>\n",
       "      <th>rank</th>\n",
       "      <th></th>\n",
       "      <th></th>\n",
       "      <th></th>\n",
       "      <th></th>\n",
       "      <th></th>\n",
       "      <th></th>\n",
       "      <th></th>\n",
       "      <th></th>\n",
       "    </tr>\n",
       "  </thead>\n",
       "  <tbody>\n",
       "    <tr>\n",
       "      <th>25</th>\n",
       "      <td>London School of Economics and Political Science</td>\n",
       "      <td>825</td>\n",
       "      <td>10065</td>\n",
       "      <td>7146</td>\n",
       "      <td>United Kingdom</td>\n",
       "      <td>Europe</td>\n",
       "      <td>0.081967</td>\n",
       "      <td>0.709985</td>\n",
       "    </tr>\n",
       "    <tr>\n",
       "      <th>179</th>\n",
       "      <td>University of Luxembourg</td>\n",
       "      <td>340</td>\n",
       "      <td>4969</td>\n",
       "      <td>2832</td>\n",
       "      <td>Luxembourg</td>\n",
       "      <td>Europe</td>\n",
       "      <td>0.068424</td>\n",
       "      <td>0.569934</td>\n",
       "    </tr>\n",
       "    <tr>\n",
       "      <th>8</th>\n",
       "      <td>Imperial College London</td>\n",
       "      <td>1391</td>\n",
       "      <td>15857</td>\n",
       "      <td>8721</td>\n",
       "      <td>United Kingdom</td>\n",
       "      <td>Europe</td>\n",
       "      <td>0.087722</td>\n",
       "      <td>0.549978</td>\n",
       "    </tr>\n",
       "    <tr>\n",
       "      <th>38</th>\n",
       "      <td>École Polytechnique Fédérale de Lausanne</td>\n",
       "      <td>886</td>\n",
       "      <td>9928</td>\n",
       "      <td>5460</td>\n",
       "      <td>Switzerland</td>\n",
       "      <td>Europe</td>\n",
       "      <td>0.089243</td>\n",
       "      <td>0.549960</td>\n",
       "    </tr>\n",
       "    <tr>\n",
       "      <th>103</th>\n",
       "      <td>Maastricht University</td>\n",
       "      <td>929</td>\n",
       "      <td>16727</td>\n",
       "      <td>8364</td>\n",
       "      <td>Netherlands</td>\n",
       "      <td>Europe</td>\n",
       "      <td>0.055539</td>\n",
       "      <td>0.500030</td>\n",
       "    </tr>\n",
       "  </tbody>\n",
       "</table>\n",
       "</div>"
      ],
      "text/plain": [
       "                                           school_name  total_staff  \\\n",
       "rank                                                                  \n",
       "25    London School of Economics and Political Science          825   \n",
       "179                           University of Luxembourg          340   \n",
       "8                              Imperial College London         1391   \n",
       "38            École Polytechnique Fédérale de Lausanne          886   \n",
       "103                              Maastricht University          929   \n",
       "\n",
       "      total_student  international_student         country  region  \\\n",
       "rank                                                                 \n",
       "25            10065                   7146  United Kingdom  Europe   \n",
       "179            4969                   2832      Luxembourg  Europe   \n",
       "8             15857                   8721  United Kingdom  Europe   \n",
       "38             9928                   5460     Switzerland  Europe   \n",
       "103           16727                   8364     Netherlands  Europe   \n",
       "\n",
       "      fac_stud_ratio  international_ratio  \n",
       "rank                                       \n",
       "25          0.081967             0.709985  \n",
       "179         0.068424             0.569934  \n",
       "8           0.087722             0.549978  \n",
       "38          0.089243             0.549960  \n",
       "103         0.055539             0.500030  "
      ]
     },
     "execution_count": 23,
     "metadata": {},
     "output_type": "execute_result"
    }
   ],
   "source": [
    "df_times['international_ratio'] = df_times['international_student']/df_times['total_student']\n",
    "sorted_by_internationalRatio = df_times.sort_values('international_ratio',ascending=False)\n",
    "sorted_by_internationalRatio.head()"
   ]
  },
  {
   "cell_type": "code",
   "execution_count": 24,
   "metadata": {},
   "outputs": [
    {
     "data": {
      "image/png": "[encoded data removed]",
      "text/plain": [
       "<matplotlib.figure.Figure at 0x117047c88>"
      ]
     },
     "metadata": {},
     "output_type": "display_data"
    }
   ],
   "source": [
    "# format the name to fit in the bar plot\n",
    "shorten_school_name = [x.replace('of', '').replace('University', '')[0:13] for x in sorted_by_internationalRatio.head().school_name]\n",
    "ax = sns.barplot(x=shorten_school_name, y=sorted_by_internationalRatio.head().international_ratio)"
   ]
  },
  {
   "cell_type": "markdown",
   "metadata": {},
   "source": [
    "For the international ratio we observe this time comparable result that the one we had with the previous ranking. Only the luxembourg university came in the top 5 and wasn't here before."
   ]
  },
  {
   "cell_type": "markdown",
   "metadata": {},
   "source": [
    "### 2.c - Aggregated by country"
   ]
  },
  {
   "cell_type": "code",
   "execution_count": 25,
   "metadata": {},
   "outputs": [
    {
     "data": {
      "text/html": [
       "<div>\n",
       "<style>\n",
       "    .dataframe thead tr:only-child th {\n",
       "        text-align: right;\n",
       "    }\n",
       "\n",
       "    .dataframe thead th {\n",
       "        text-align: left;\n",
       "    }\n",
       "\n",
       "    .dataframe tbody tr th {\n",
       "        vertical-align: top;\n",
       "    }\n",
       "</style>\n",
       "<table border=\"1\" class=\"dataframe\">\n",
       "  <thead>\n",
       "    <tr style=\"text-align: right;\">\n",
       "      <th></th>\n",
       "      <th>fac_stud_ratio</th>\n",
       "    </tr>\n",
       "    <tr>\n",
       "      <th>country</th>\n",
       "      <th></th>\n",
       "    </tr>\n",
       "  </thead>\n",
       "  <tbody>\n",
       "    <tr>\n",
       "      <th>Denmark</th>\n",
       "      <td>0.160176</td>\n",
       "    </tr>\n",
       "    <tr>\n",
       "      <th>Italy</th>\n",
       "      <td>0.138870</td>\n",
       "    </tr>\n",
       "    <tr>\n",
       "      <th>Russian Federation</th>\n",
       "      <td>0.136989</td>\n",
       "    </tr>\n",
       "    <tr>\n",
       "      <th>Japan</th>\n",
       "      <td>0.132105</td>\n",
       "    </tr>\n",
       "    <tr>\n",
       "      <th>United States</th>\n",
       "      <td>0.106393</td>\n",
       "    </tr>\n",
       "  </tbody>\n",
       "</table>\n",
       "</div>"
      ],
      "text/plain": [
       "                    fac_stud_ratio\n",
       "country                           \n",
       "Denmark                   0.160176\n",
       "Italy                     0.138870\n",
       "Russian Federation        0.136989\n",
       "Japan                     0.132105\n",
       "United States             0.106393"
      ]
     },
     "execution_count": 25,
     "metadata": {},
     "output_type": "execute_result"
    }
   ],
   "source": [
    "best_countries_by_facStudRatio = df_times.groupby('country').mean().sort_values('fac_stud_ratio',ascending=False)\n",
    "best_countries_by_facStudRatio[['fac_stud_ratio']].head()"
   ]
  },
  {
   "cell_type": "code",
   "execution_count": 26,
   "metadata": {},
   "outputs": [
    {
     "data": {
      "image/png": "[encoded data removed]",
      "text/plain": [
       "<matplotlib.figure.Figure at 0x11702ada0>"
      ]
     },
     "metadata": {},
     "output_type": "display_data"
    }
   ],
   "source": [
    "ax = sns.barplot(x=best_countries_by_facStudRatio.head().index, y=best_countries_by_facStudRatio.head().fac_stud_ratio)"
   ]
  },
  {
   "cell_type": "markdown",
   "metadata": {},
   "source": [
    "Yet again for the faculty/student ratio by country, we observe comparable result as before only with Singapour and Saudi Arabia out replaced by Italy and United states."
   ]
  },
  {
   "cell_type": "code",
   "execution_count": 27,
   "metadata": {},
   "outputs": [
    {
     "data": {
      "text/html": [
       "<div>\n",
       "<style>\n",
       "    .dataframe thead tr:only-child th {\n",
       "        text-align: right;\n",
       "    }\n",
       "\n",
       "    .dataframe thead th {\n",
       "        text-align: left;\n",
       "    }\n",
       "\n",
       "    .dataframe tbody tr th {\n",
       "        vertical-align: top;\n",
       "    }\n",
       "</style>\n",
       "<table border=\"1\" class=\"dataframe\">\n",
       "  <thead>\n",
       "    <tr style=\"text-align: right;\">\n",
       "      <th></th>\n",
       "      <th>international_ratio</th>\n",
       "    </tr>\n",
       "    <tr>\n",
       "      <th>country</th>\n",
       "      <th></th>\n",
       "    </tr>\n",
       "  </thead>\n",
       "  <tbody>\n",
       "    <tr>\n",
       "      <th>Luxembourg</th>\n",
       "      <td>0.569934</td>\n",
       "    </tr>\n",
       "    <tr>\n",
       "      <th>United Kingdom</th>\n",
       "      <td>0.365478</td>\n",
       "    </tr>\n",
       "    <tr>\n",
       "      <th>Hong Kong</th>\n",
       "      <td>0.327989</td>\n",
       "    </tr>\n",
       "    <tr>\n",
       "      <th>Switzerland</th>\n",
       "      <td>0.314280</td>\n",
       "    </tr>\n",
       "    <tr>\n",
       "      <th>Australia</th>\n",
       "      <td>0.307502</td>\n",
       "    </tr>\n",
       "  </tbody>\n",
       "</table>\n",
       "</div>"
      ],
      "text/plain": [
       "                international_ratio\n",
       "country                            \n",
       "Luxembourg                 0.569934\n",
       "United Kingdom             0.365478\n",
       "Hong Kong                  0.327989\n",
       "Switzerland                0.314280\n",
       "Australia                  0.307502"
      ]
     },
     "execution_count": 27,
     "metadata": {},
     "output_type": "execute_result"
    }
   ],
   "source": [
    "best_countries_by_internationalRatio = df_times.groupby('country').mean().sort_values('international_ratio',ascending=False)\n",
    "best_countries_by_internationalRatio[['international_ratio']].head()"
   ]
  },
  {
   "cell_type": "code",
   "execution_count": 28,
   "metadata": {},
   "outputs": [
    {
     "data": {
      "image/png": "[encoded data removed]",
      "text/plain": [
       "<matplotlib.figure.Figure at 0x11748f0b8>"
      ]
     },
     "metadata": {},
     "output_type": "display_data"
    }
   ],
   "source": [
    "ax = sns.barplot(x=best_countries_by_internationalRatio.head().index, y=best_countries_by_internationalRatio.head().international_ratio)"
   ]
  },
  {
   "cell_type": "markdown",
   "metadata": {},
   "source": [
    "We can observe only little change herwith luxembourg instead of Austria."
   ]
  },
  {
   "cell_type": "markdown",
   "metadata": {},
   "source": [
    "### 2.d - Aggregated by region"
   ]
  },
  {
   "cell_type": "code",
   "execution_count": 29,
   "metadata": {},
   "outputs": [
    {
     "data": {
      "text/html": [
       "<div>\n",
       "<style>\n",
       "    .dataframe thead tr:only-child th {\n",
       "        text-align: right;\n",
       "    }\n",
       "\n",
       "    .dataframe thead th {\n",
       "        text-align: left;\n",
       "    }\n",
       "\n",
       "    .dataframe tbody tr th {\n",
       "        vertical-align: top;\n",
       "    }\n",
       "</style>\n",
       "<table border=\"1\" class=\"dataframe\">\n",
       "  <thead>\n",
       "    <tr style=\"text-align: right;\">\n",
       "      <th></th>\n",
       "      <th>fac_stud_ratio</th>\n",
       "    </tr>\n",
       "    <tr>\n",
       "      <th>region</th>\n",
       "      <th></th>\n",
       "    </tr>\n",
       "  </thead>\n",
       "  <tbody>\n",
       "    <tr>\n",
       "      <th>Northern America</th>\n",
       "      <td>0.101658</td>\n",
       "    </tr>\n",
       "    <tr>\n",
       "      <th>Africa</th>\n",
       "      <td>0.085487</td>\n",
       "    </tr>\n",
       "    <tr>\n",
       "      <th>Asia</th>\n",
       "      <td>0.080347</td>\n",
       "    </tr>\n",
       "    <tr>\n",
       "      <th>Europe</th>\n",
       "      <td>0.065951</td>\n",
       "    </tr>\n",
       "    <tr>\n",
       "      <th>Oceania</th>\n",
       "      <td>0.039893</td>\n",
       "    </tr>\n",
       "  </tbody>\n",
       "</table>\n",
       "</div>"
      ],
      "text/plain": [
       "                  fac_stud_ratio\n",
       "region                          \n",
       "Northern America        0.101658\n",
       "Africa                  0.085487\n",
       "Asia                    0.080347\n",
       "Europe                  0.065951\n",
       "Oceania                 0.039893"
      ]
     },
     "execution_count": 29,
     "metadata": {},
     "output_type": "execute_result"
    }
   ],
   "source": [
    "best_regions_by_facStudRatio = df_times.groupby('region').mean().sort_values('fac_stud_ratio',ascending=False)\n",
    "best_regions_by_facStudRatio[['fac_stud_ratio']]"
   ]
  },
  {
   "cell_type": "code",
   "execution_count": 30,
   "metadata": {},
   "outputs": [
    {
     "data": {
      "text/html": [
       "<div>\n",
       "<style>\n",
       "    .dataframe thead tr:only-child th {\n",
       "        text-align: right;\n",
       "    }\n",
       "\n",
       "    .dataframe thead th {\n",
       "        text-align: left;\n",
       "    }\n",
       "\n",
       "    .dataframe tbody tr th {\n",
       "        vertical-align: top;\n",
       "    }\n",
       "</style>\n",
       "<table border=\"1\" class=\"dataframe\">\n",
       "  <thead>\n",
       "    <tr style=\"text-align: right;\">\n",
       "      <th></th>\n",
       "      <th>international_ratio</th>\n",
       "    </tr>\n",
       "    <tr>\n",
       "      <th>region</th>\n",
       "      <th></th>\n",
       "    </tr>\n",
       "  </thead>\n",
       "  <tbody>\n",
       "    <tr>\n",
       "      <th>Oceania</th>\n",
       "      <td>0.305558</td>\n",
       "    </tr>\n",
       "    <tr>\n",
       "      <th>Europe</th>\n",
       "      <td>0.244658</td>\n",
       "    </tr>\n",
       "    <tr>\n",
       "      <th>Northern America</th>\n",
       "      <td>0.185585</td>\n",
       "    </tr>\n",
       "    <tr>\n",
       "      <th>Africa</th>\n",
       "      <td>0.180024</td>\n",
       "    </tr>\n",
       "    <tr>\n",
       "      <th>Asia</th>\n",
       "      <td>0.165242</td>\n",
       "    </tr>\n",
       "  </tbody>\n",
       "</table>\n",
       "</div>"
      ],
      "text/plain": [
       "                  international_ratio\n",
       "region                               \n",
       "Oceania                      0.305558\n",
       "Europe                       0.244658\n",
       "Northern America             0.185585\n",
       "Africa                       0.180024\n",
       "Asia                         0.165242"
      ]
     },
     "execution_count": 30,
     "metadata": {},
     "output_type": "execute_result"
    }
   ],
   "source": [
    "best_regions_by_internationalRatio = df_times.groupby('region').mean().sort_values('international_ratio',ascending=False)\n",
    "best_regions_by_internationalRatio[['international_ratio']]"
   ]
  },
  {
   "cell_type": "code",
   "execution_count": 31,
   "metadata": {},
   "outputs": [
    {
     "data": {
      "image/png": "[encoded data removed]",
      "text/plain": [
       "<matplotlib.figure.Figure at 0x116c0c208>"
      ]
     },
     "metadata": {},
     "output_type": "display_data"
    }
   ],
   "source": [
    "# format the dataframe to make a nice barplot\n",
    "df = best_regions_by_internationalRatio[['international_ratio']].merge(best_regions_by_facStudRatio[['fac_stud_ratio']], left_index=True, right_index=True)\n",
    "df.reset_index(inplace=True)\n",
    "df = pd.melt(df, id_vars=['region'], var_name=\"ratio\", value_name='value')\n",
    "# plot the barplot with sns\n",
    "ax = sns.factorplot(x='ratio', y='value', hue='region', data=df, kind='bar')"
   ]
  },
  {
   "cell_type": "markdown",
   "metadata": {},
   "source": [
    "At the end we observe very comparable result on the international ratio by region but the faculty/student ratio by range seems to have drastically change. We can also note that this ranking doesn't have any universty in the south america part in the top 200."
   ]
  },
  {
   "cell_type": "markdown",
   "metadata": {
    "collapsed": true
   },
   "source": [
    "## 3 - Merging the two data frames\n",
    "### 3.1 - Matching the school names"
   ]
  },
  {
   "cell_type": "code",
   "execution_count": null,
   "metadata": {
    "collapsed": true
   },
   "outputs": [],
   "source": []
  }
 ],
 "metadata": {
  "kernelspec": {
   "display_name": "Python 3",
   "language": "python",
   "name": "python3"
  },
  "language_info": {
   "codemirror_mode": {
    "name": "ipython",
    "version": 3
   },
   "file_extension": ".py",
   "mimetype": "text/x-python",
   "name": "python",
   "nbconvert_exporter": "python",
   "pygments_lexer": "ipython3",
   "version": "3.6.1"
  }
 },
 "nbformat": 4,
 "nbformat_minor": 2
}
