{
 "cells": [
  {
   "cell_type": "markdown",
   "metadata": {},
   "source": [
    "# Homework 2 - Data from the web"
   ]
  },
  {
   "cell_type": "markdown",
   "metadata": {},
   "source": [
    "### Table of Contents"
   ]
  },
  {
   "cell_type": "markdown",
   "metadata": {},
   "source": [
    "* [1 - Top Universities](#1)\n",
    "    * [1.a - Best faculty members/student ratio](#1.a)\n",
    "    * [1.b - Best in terms of international students](#1.b)\n",
    "    * [1.c - By coutry](#1.c)\n",
    "    * [1.d - By region](#1.d)\n",
    "    \n",
    "* [2 - Times](#2)\n",
    "    * [2.a - Best faculty members/student ratio](#2.a)\n",
    "    * [2.b - Best in terms of international students](#2.b)\n",
    "    * [2.c - By coutry](#2.c)\n",
    "    * [2.d - By region](#2.d)\n",
    "    \n",
    "* [3 - Merging](#3)\n",
    "    * [3.1 - Matching school names](#3.1)\n",
    "        * [3.1.1 - Cleaning the names](#3.1.1)\n",
    "        * [3.1.2 - Automatic Matching](#3.1.2)\n",
    "        * [3.1.3 - Manual Matching](#3.1.3)\n",
    "    * [3.2 - Merging dataframes](#3.2)\n",
    "    \n",
    "* [4 - Exploratory analysis](#4)\n",
    "    * [4.1 - Does university size influence internationality rate ?](#4.1)\n",
    "    * [4.2 - Does university size influence ranking ?](#4.2)\n",
    "    * [4.3 - Are european universities more international than other regions ?](#4.3)\n",
    "    * [4.4 - Do english speaking countries get more international students than others ?](#4.4)\n",
    "    * [4.5 - Do international students influence ranking ?](#4.5)\n",
    "    \n",
    "* [5 - Ranking according to both](#5)\n",
    "    "
   ]
  },
  {
   "cell_type": "markdown",
   "metadata": {},
   "source": [
    "### Useful Imports"
   ]
  },
  {
   "cell_type": "code",
   "execution_count": 1,
   "metadata": {
    "collapsed": true
   },
   "outputs": [],
   "source": [
    "# Import libraries\n",
    "%matplotlib inline\n",
    "import requests\n",
    "from bs4 import BeautifulSoup\n",
    "import pandas as pd\n",
    "import numpy as np\n",
    "import matplotlib.pyplot as plt\n",
    "import seaborn as sns\n",
    "import os.path\n",
    "import sys\n",
    "import time\n",
    "import re\n",
    "import pickle\n",
    "\n",
    "# those two packages must be installed using:\n",
    "# ```conda install -c bioconda editdistance```\n",
    "# ```conda install -c anaconda unidecode```\n",
    "import editdistance\n",
    "from unidecode import unidecode\n",
    "\n",
    "from IPython.display import clear_output\n",
    "\n",
    "sns.set_context('notebook')\n",
    "pd.options.mode.chained_assignment = None  # default='warn', Mutes warnings when copying a slice from a DataFrame."
   ]
  },
  {
   "cell_type": "markdown",
   "metadata": {},
   "source": [
    "## 1 - Top Universities <a class=\"anchor\" id=\"first\"></a>"
   ]
  },
  {
   "cell_type": "markdown",
   "metadata": {},
   "source": [
    "In particular, extract the following fields for each university: name, rank, country and region, number of faculty members (international and total) and number of students (international and total)"
   ]
  },
  {
   "cell_type": "code",
   "execution_count": 2,
   "metadata": {
    "collapsed": true
   },
   "outputs": [],
   "source": [
    "ROOT_URL_TOP_UNIV = \"https://www.topuniversities.com/\""
   ]
  },
  {
   "cell_type": "code",
   "execution_count": 3,
   "metadata": {
    "collapsed": true
   },
   "outputs": [],
   "source": [
    "def progress(count, total, suffix=''):\n",
    "    \"\"\" Shows the progress of a given action \n",
    "    \n",
    "    @params:\n",
    "    - count : the current count of done operations\n",
    "    - total : the total number of operation to do\n",
    "    - suffix : a message printed after the progress bar\n",
    "    \"\"\"\n",
    "    \n",
    "    bar_len = 60\n",
    "    filled_len = int(round(bar_len * count / float(total)))\n",
    "\n",
    "    percents = round(100.0 * count / float(total), 1)\n",
    "    bar = '#' * filled_len + '-' * (bar_len - filled_len)\n",
    "\n",
    "    sys.stdout.write('[%s] %s%s ... %s\\r' % (bar, percents, '%', suffix))\n",
    "    sys.stdout.flush()  # As suggested by Rom Ruben"
   ]
  },
  {
   "cell_type": "code",
   "execution_count": 4,
   "metadata": {
    "collapsed": true
   },
   "outputs": [],
   "source": [
    "def get_number(enclosing_class_name,url,det_soup):\n",
    "    \"\"\"Tries to extract the number we look for. Will return a NaN \n",
    "    if the details page doesn't contain such a number\n",
    "    \n",
    "    @params:\n",
    "    - enclosing_class_name : the class of the div into which the number is contained.\n",
    "    - url : the suffix url of the school (to print an error if not found)\n",
    "    - det_soup : the soup of the details page for the given school\n",
    "    \n",
    "    \"\"\"\n",
    "    try:\n",
    "        n = det_soup.find(\"div\",class_=enclosing_class_name).find(\"div\",class_=\"number\").text.strip('\\n')\n",
    "    except(AttributeError) as e:\n",
    "        print(\"Couldn't find '{}' for {}\".format(enclosing_class_name,url))\n",
    "        n = 'NAN'\n",
    "    return n\n",
    "\n",
    "def get_details(url):\n",
    "    \"\"\"Finds the detail of a given university on the details page\n",
    "    \n",
    "    @params:\n",
    "    - url : the suffix url of the universirty of interest\n",
    "    \n",
    "    \"\"\"\n",
    "    details_url = ROOT_URL_TOP_UNIV + url\n",
    "    det_request = requests.get(details_url)\n",
    "    det_soup = BeautifulSoup(det_request.text, 'lxml')\n",
    "    labels = ['total faculty','inter faculty','total student','total inter']\n",
    "\n",
    "    staff_total,staff_inter,student_total,student_inter = [get_number(label,url,det_soup) for label in labels]\n",
    "    \n",
    "    return staff_total,staff_inter,student_total,student_inter"
   ]
  },
  {
   "cell_type": "code",
   "execution_count": 5,
   "metadata": {
    "collapsed": true
   },
   "outputs": [],
   "source": [
    "def get_ranking_topUni(path_to_dump):\n",
    "    \"\"\"\n",
    "    Will return a dataframe containing the data of the 200 best universities in the rankings published on www.topuniversities.com.\n",
    "    (in order to minimize the internet traffic every time the notebook is ran, the data is serialized using pickle)\n",
    "    \n",
    "    @params:\n",
    "    - path_to_dump : path were the dump of the data should be (will use it if already present and save there otherwise)\n",
    "    \"\"\"\n",
    "    r = requests.get('https://www.topuniversities.com/sites/default/files/qs-rankings-data/357051.txt?_=1508057903494')\n",
    "    if(os.path.isfile(path_to_dump)):\n",
    "        return pd.read_pickle(path_to_dump)\n",
    "\n",
    "    top_200 = []\n",
    "\n",
    "    for (i,uni_dict) in enumerate(r.json()['data']):\n",
    "        if(i>=200):\n",
    "            break\n",
    "\n",
    "        title = uni_dict['title']\n",
    "        rank = uni_dict['rank_display']\n",
    "        country = uni_dict['country']\n",
    "        region = uni_dict['region']\n",
    "        url = uni_dict['url']\n",
    "\n",
    "        # In case of tie, the rank is prefixed with an '=', we get rid of it.\n",
    "        rank = rank.strip('=')\n",
    "\n",
    "        # We then get the details from the details page\n",
    "        staff_total,staff_inter,student_total,student_inter = get_details(url)\n",
    "        progress(i+1,200,'Scraping the info')\n",
    "\n",
    "        top_200.append({'school_name': title, \n",
    "                        'rank': rank,\n",
    "                        'total_staff': staff_total,\n",
    "                        'international_staff': staff_inter,\n",
    "                        'total_student': student_total,\n",
    "                        'international_student': student_inter,\n",
    "                        'country': country,\n",
    "                        'region': region\n",
    "                       })\n",
    "            \n",
    "    df = pd.DataFrame.from_dict(top_200)\n",
    "    \n",
    "    # We set Rank as an index\n",
    "    df.set_index('rank',inplace=True)\n",
    "    \n",
    "    # Then we convert the number columns to integers\n",
    "    cols = ['total_staff','international_staff','total_student','international_student']\n",
    "    df[cols] = df[cols].apply(lambda x: pd.to_numeric(x.astype(str)\n",
    "                                                       .str.replace(',',''), errors='coerce',downcast='integer'))\n",
    "    \n",
    "    # Reorder the df columns for better output\n",
    "    df = df[['school_name', 'total_staff', 'international_staff', 'total_student', 'international_student', 'country', 'region']]\n",
    "    \n",
    "    # We serialize it using pickle so that we do not have to download it again\n",
    "    df.to_pickle(path_to_dump)\n",
    "    return df"
   ]
  },
  {
   "cell_type": "code",
   "execution_count": 6,
   "metadata": {
    "scrolled": false
   },
   "outputs": [
    {
     "data": {
      "text/html": [
       "<div>\n",
       "<style>\n",
       "    .dataframe thead tr:only-child th {\n",
       "        text-align: right;\n",
       "    }\n",
       "\n",
       "    .dataframe thead th {\n",
       "        text-align: left;\n",
       "    }\n",
       "\n",
       "    .dataframe tbody tr th {\n",
       "        vertical-align: top;\n",
       "    }\n",
       "</style>\n",
       "<table border=\"1\" class=\"dataframe\">\n",
       "  <thead>\n",
       "    <tr style=\"text-align: right;\">\n",
       "      <th></th>\n",
       "      <th>school_name</th>\n",
       "      <th>total_staff</th>\n",
       "      <th>international_staff</th>\n",
       "      <th>total_student</th>\n",
       "      <th>international_student</th>\n",
       "      <th>country</th>\n",
       "      <th>region</th>\n",
       "    </tr>\n",
       "    <tr>\n",
       "      <th>rank</th>\n",
       "      <th></th>\n",
       "      <th></th>\n",
       "      <th></th>\n",
       "      <th></th>\n",
       "      <th></th>\n",
       "      <th></th>\n",
       "      <th></th>\n",
       "    </tr>\n",
       "  </thead>\n",
       "  <tbody>\n",
       "    <tr>\n",
       "      <th>192</th>\n",
       "      <td>Keio University</td>\n",
       "      <td>3905.0</td>\n",
       "      <td>261.0</td>\n",
       "      <td>33500.0</td>\n",
       "      <td>2178.0</td>\n",
       "      <td>Japan</td>\n",
       "      <td>Asia</td>\n",
       "    </tr>\n",
       "    <tr>\n",
       "      <th>195</th>\n",
       "      <td>Stockholm University</td>\n",
       "      <td>2154.0</td>\n",
       "      <td>646.0</td>\n",
       "      <td>28281.0</td>\n",
       "      <td>2636.0</td>\n",
       "      <td>Sweden</td>\n",
       "      <td>Europe</td>\n",
       "    </tr>\n",
       "    <tr>\n",
       "      <th>195</th>\n",
       "      <td>Universitat Autònoma de Barcelona</td>\n",
       "      <td>2187.0</td>\n",
       "      <td>230.0</td>\n",
       "      <td>31986.0</td>\n",
       "      <td>3848.0</td>\n",
       "      <td>Spain</td>\n",
       "      <td>Europe</td>\n",
       "    </tr>\n",
       "    <tr>\n",
       "      <th>195</th>\n",
       "      <td>Texas A&amp;M University</td>\n",
       "      <td>3446.0</td>\n",
       "      <td>206.0</td>\n",
       "      <td>60294.0</td>\n",
       "      <td>4900.0</td>\n",
       "      <td>United States</td>\n",
       "      <td>North America</td>\n",
       "    </tr>\n",
       "    <tr>\n",
       "      <th>199</th>\n",
       "      <td>Instituto Tecnológico y de Estudios Superiores...</td>\n",
       "      <td>1822.0</td>\n",
       "      <td>821.0</td>\n",
       "      <td>13376.0</td>\n",
       "      <td>1412.0</td>\n",
       "      <td>Mexico</td>\n",
       "      <td>Latin America</td>\n",
       "    </tr>\n",
       "    <tr>\n",
       "      <th>200</th>\n",
       "      <td>Maastricht University</td>\n",
       "      <td>1277.0</td>\n",
       "      <td>502.0</td>\n",
       "      <td>16385.0</td>\n",
       "      <td>8234.0</td>\n",
       "      <td>Netherlands</td>\n",
       "      <td>Europe</td>\n",
       "    </tr>\n",
       "    <tr>\n",
       "      <th>201</th>\n",
       "      <td>Universidad de Chile</td>\n",
       "      <td>2256.0</td>\n",
       "      <td>127.0</td>\n",
       "      <td>38848.0</td>\n",
       "      <td>2134.0</td>\n",
       "      <td>Chile</td>\n",
       "      <td>Latin America</td>\n",
       "    </tr>\n",
       "  </tbody>\n",
       "</table>\n",
       "</div>"
      ],
      "text/plain": [
       "                                            school_name  total_staff  \\\n",
       "rank                                                                   \n",
       "192                                     Keio University       3905.0   \n",
       "195                                Stockholm University       2154.0   \n",
       "195                   Universitat Autònoma de Barcelona       2187.0   \n",
       "195                                Texas A&M University       3446.0   \n",
       "199   Instituto Tecnológico y de Estudios Superiores...       1822.0   \n",
       "200                               Maastricht University       1277.0   \n",
       "201                                Universidad de Chile       2256.0   \n",
       "\n",
       "      international_staff  total_student  international_student  \\\n",
       "rank                                                              \n",
       "192                 261.0        33500.0                 2178.0   \n",
       "195                 646.0        28281.0                 2636.0   \n",
       "195                 230.0        31986.0                 3848.0   \n",
       "195                 206.0        60294.0                 4900.0   \n",
       "199                 821.0        13376.0                 1412.0   \n",
       "200                 502.0        16385.0                 8234.0   \n",
       "201                 127.0        38848.0                 2134.0   \n",
       "\n",
       "            country         region  \n",
       "rank                                \n",
       "192           Japan           Asia  \n",
       "195          Sweden         Europe  \n",
       "195           Spain         Europe  \n",
       "195   United States  North America  \n",
       "199          Mexico  Latin America  \n",
       "200     Netherlands         Europe  \n",
       "201           Chile  Latin America  "
      ]
     },
     "execution_count": 6,
     "metadata": {},
     "output_type": "execute_result"
    }
   ],
   "source": [
    "df_topUni = get_ranking_topUni('topuniversities_backup')\n",
    "df_topUni.tail(7)"
   ]
  },
  {
   "cell_type": "markdown",
   "metadata": {},
   "source": [
    "** Remark: there is a mistake in the data,** if we take 200 rows of school we obtain the last school having rank 201. Indeed there is a mistake, looking at the data from Keio University which is at rank 192, if we count the ranks then \"Instituto Tecnologico [...]\" should be at rank 198 and not 199."
   ]
  },
  {
   "cell_type": "markdown",
   "metadata": {},
   "source": [
    "### 1.a - Best university in terms of ratio faculty members over students <a class=\"anchor\" id=\"1.a\"></a>"
   ]
  },
  {
   "cell_type": "markdown",
   "metadata": {},
   "source": [
    "In order to determine which is the best university regarding ratio between faculty members and students, we create a new column called ```Fac/stud ratio```. Then we sort the rows according to values in this column. (because we were asked for the best universities we display the ranking according to this value)"
   ]
  },
  {
   "cell_type": "code",
   "execution_count": 7,
   "metadata": {},
   "outputs": [
    {
     "data": {
      "text/html": [
       "<div>\n",
       "<style>\n",
       "    .dataframe thead tr:only-child th {\n",
       "        text-align: right;\n",
       "    }\n",
       "\n",
       "    .dataframe thead th {\n",
       "        text-align: left;\n",
       "    }\n",
       "\n",
       "    .dataframe tbody tr th {\n",
       "        vertical-align: top;\n",
       "    }\n",
       "</style>\n",
       "<table border=\"1\" class=\"dataframe\">\n",
       "  <thead>\n",
       "    <tr style=\"text-align: right;\">\n",
       "      <th></th>\n",
       "      <th>school_name</th>\n",
       "      <th>total_staff</th>\n",
       "      <th>international_staff</th>\n",
       "      <th>total_student</th>\n",
       "      <th>international_student</th>\n",
       "      <th>country</th>\n",
       "      <th>region</th>\n",
       "      <th>fac_stud_ratio</th>\n",
       "    </tr>\n",
       "    <tr>\n",
       "      <th>rank</th>\n",
       "      <th></th>\n",
       "      <th></th>\n",
       "      <th></th>\n",
       "      <th></th>\n",
       "      <th></th>\n",
       "      <th></th>\n",
       "      <th></th>\n",
       "      <th></th>\n",
       "    </tr>\n",
       "  </thead>\n",
       "  <tbody>\n",
       "    <tr>\n",
       "      <th>4</th>\n",
       "      <td>California Institute of Technology (Caltech)</td>\n",
       "      <td>953.0</td>\n",
       "      <td>350.0</td>\n",
       "      <td>2255.0</td>\n",
       "      <td>647.0</td>\n",
       "      <td>United States</td>\n",
       "      <td>North America</td>\n",
       "      <td>0.422616</td>\n",
       "    </tr>\n",
       "    <tr>\n",
       "      <th>16</th>\n",
       "      <td>Yale University</td>\n",
       "      <td>4940.0</td>\n",
       "      <td>1708.0</td>\n",
       "      <td>12402.0</td>\n",
       "      <td>2469.0</td>\n",
       "      <td>United States</td>\n",
       "      <td>North America</td>\n",
       "      <td>0.398323</td>\n",
       "    </tr>\n",
       "    <tr>\n",
       "      <th>6</th>\n",
       "      <td>University of Oxford</td>\n",
       "      <td>6750.0</td>\n",
       "      <td>2964.0</td>\n",
       "      <td>19720.0</td>\n",
       "      <td>7353.0</td>\n",
       "      <td>United Kingdom</td>\n",
       "      <td>Europe</td>\n",
       "      <td>0.342292</td>\n",
       "    </tr>\n",
       "    <tr>\n",
       "      <th>5</th>\n",
       "      <td>University of Cambridge</td>\n",
       "      <td>5490.0</td>\n",
       "      <td>2278.0</td>\n",
       "      <td>18770.0</td>\n",
       "      <td>6699.0</td>\n",
       "      <td>United Kingdom</td>\n",
       "      <td>Europe</td>\n",
       "      <td>0.292488</td>\n",
       "    </tr>\n",
       "    <tr>\n",
       "      <th>17</th>\n",
       "      <td>Johns Hopkins University</td>\n",
       "      <td>4462.0</td>\n",
       "      <td>1061.0</td>\n",
       "      <td>16146.0</td>\n",
       "      <td>4105.0</td>\n",
       "      <td>United States</td>\n",
       "      <td>North America</td>\n",
       "      <td>0.276353</td>\n",
       "    </tr>\n",
       "  </tbody>\n",
       "</table>\n",
       "</div>"
      ],
      "text/plain": [
       "                                       school_name  total_staff  \\\n",
       "rank                                                              \n",
       "4     California Institute of Technology (Caltech)        953.0   \n",
       "16                                 Yale University       4940.0   \n",
       "6                             University of Oxford       6750.0   \n",
       "5                          University of Cambridge       5490.0   \n",
       "17                        Johns Hopkins University       4462.0   \n",
       "\n",
       "      international_staff  total_student  international_student  \\\n",
       "rank                                                              \n",
       "4                   350.0         2255.0                  647.0   \n",
       "16                 1708.0        12402.0                 2469.0   \n",
       "6                  2964.0        19720.0                 7353.0   \n",
       "5                  2278.0        18770.0                 6699.0   \n",
       "17                 1061.0        16146.0                 4105.0   \n",
       "\n",
       "             country         region  fac_stud_ratio  \n",
       "rank                                                 \n",
       "4      United States  North America        0.422616  \n",
       "16     United States  North America        0.398323  \n",
       "6     United Kingdom         Europe        0.342292  \n",
       "5     United Kingdom         Europe        0.292488  \n",
       "17     United States  North America        0.276353  "
      ]
     },
     "execution_count": 7,
     "metadata": {},
     "output_type": "execute_result"
    }
   ],
   "source": [
    "df_topUni['fac_stud_ratio'] = df_topUni['total_staff']/df_topUni['total_student']\n",
    "sorted_by_facStudRatio = df_topUni.sort_values('fac_stud_ratio',ascending=False)\n",
    "sorted_by_facStudRatio.head()"
   ]
  },
  {
   "cell_type": "code",
   "execution_count": 8,
   "metadata": {},
   "outputs": [
    {
     "data": {
      "image/png": "[encoded data removed]",
      "text/plain": [
       "<matplotlib.figure.Figure at 0x10f4fdc18>"
      ]
     },
     "metadata": {},
     "output_type": "display_data"
    }
   ],
   "source": [
    "# format the name to fit in the bar plot\n",
    "shorten_school_name = [x.replace('of', '').replace('University', '')[0:13] for x in sorted_by_facStudRatio.head().school_name]\n",
    "ax = sns.barplot(x=shorten_school_name, y=sorted_by_facStudRatio.head().fac_stud_ratio)"
   ]
  },
  {
   "cell_type": "markdown",
   "metadata": {},
   "source": [
    "This is the top 5 university in terms of faculty/student ratio. "
   ]
  },
  {
   "cell_type": "markdown",
   "metadata": {},
   "source": [
    "### 1.b - Best university in terms of ratio of international students <a class=\"anchor\" id=\"1.b\"></a>"
   ]
  },
  {
   "cell_type": "markdown",
   "metadata": {},
   "source": [
    "We use strategy that is exactly the same than for the 1.a"
   ]
  },
  {
   "cell_type": "code",
   "execution_count": 9,
   "metadata": {},
   "outputs": [
    {
     "data": {
      "text/html": [
       "<div>\n",
       "<style>\n",
       "    .dataframe thead tr:only-child th {\n",
       "        text-align: right;\n",
       "    }\n",
       "\n",
       "    .dataframe thead th {\n",
       "        text-align: left;\n",
       "    }\n",
       "\n",
       "    .dataframe tbody tr th {\n",
       "        vertical-align: top;\n",
       "    }\n",
       "</style>\n",
       "<table border=\"1\" class=\"dataframe\">\n",
       "  <thead>\n",
       "    <tr style=\"text-align: right;\">\n",
       "      <th></th>\n",
       "      <th>school_name</th>\n",
       "      <th>total_staff</th>\n",
       "      <th>international_staff</th>\n",
       "      <th>total_student</th>\n",
       "      <th>international_student</th>\n",
       "      <th>country</th>\n",
       "      <th>region</th>\n",
       "      <th>fac_stud_ratio</th>\n",
       "      <th>international_ratio</th>\n",
       "    </tr>\n",
       "    <tr>\n",
       "      <th>rank</th>\n",
       "      <th></th>\n",
       "      <th></th>\n",
       "      <th></th>\n",
       "      <th></th>\n",
       "      <th></th>\n",
       "      <th></th>\n",
       "      <th></th>\n",
       "      <th></th>\n",
       "      <th></th>\n",
       "    </tr>\n",
       "  </thead>\n",
       "  <tbody>\n",
       "    <tr>\n",
       "      <th>35</th>\n",
       "      <td>London School of Economics and Political Scien...</td>\n",
       "      <td>1088.0</td>\n",
       "      <td>687.0</td>\n",
       "      <td>9760.0</td>\n",
       "      <td>6748.0</td>\n",
       "      <td>United Kingdom</td>\n",
       "      <td>Europe</td>\n",
       "      <td>0.111475</td>\n",
       "      <td>0.691393</td>\n",
       "    </tr>\n",
       "    <tr>\n",
       "      <th>12</th>\n",
       "      <td>Ecole Polytechnique Fédérale de Lausanne (EPFL)</td>\n",
       "      <td>1695.0</td>\n",
       "      <td>1300.0</td>\n",
       "      <td>10343.0</td>\n",
       "      <td>5896.0</td>\n",
       "      <td>Switzerland</td>\n",
       "      <td>Europe</td>\n",
       "      <td>0.163879</td>\n",
       "      <td>0.570047</td>\n",
       "    </tr>\n",
       "    <tr>\n",
       "      <th>8</th>\n",
       "      <td>Imperial College London</td>\n",
       "      <td>3930.0</td>\n",
       "      <td>2071.0</td>\n",
       "      <td>16090.0</td>\n",
       "      <td>8746.0</td>\n",
       "      <td>United Kingdom</td>\n",
       "      <td>Europe</td>\n",
       "      <td>0.244251</td>\n",
       "      <td>0.543567</td>\n",
       "    </tr>\n",
       "    <tr>\n",
       "      <th>200</th>\n",
       "      <td>Maastricht University</td>\n",
       "      <td>1277.0</td>\n",
       "      <td>502.0</td>\n",
       "      <td>16385.0</td>\n",
       "      <td>8234.0</td>\n",
       "      <td>Netherlands</td>\n",
       "      <td>Europe</td>\n",
       "      <td>0.077937</td>\n",
       "      <td>0.502533</td>\n",
       "    </tr>\n",
       "    <tr>\n",
       "      <th>47</th>\n",
       "      <td>Carnegie Mellon University</td>\n",
       "      <td>1342.0</td>\n",
       "      <td>425.0</td>\n",
       "      <td>13356.0</td>\n",
       "      <td>6385.0</td>\n",
       "      <td>United States</td>\n",
       "      <td>North America</td>\n",
       "      <td>0.100479</td>\n",
       "      <td>0.478062</td>\n",
       "    </tr>\n",
       "  </tbody>\n",
       "</table>\n",
       "</div>"
      ],
      "text/plain": [
       "                                            school_name  total_staff  \\\n",
       "rank                                                                   \n",
       "35    London School of Economics and Political Scien...       1088.0   \n",
       "12      Ecole Polytechnique Fédérale de Lausanne (EPFL)       1695.0   \n",
       "8                               Imperial College London       3930.0   \n",
       "200                               Maastricht University       1277.0   \n",
       "47                           Carnegie Mellon University       1342.0   \n",
       "\n",
       "      international_staff  total_student  international_student  \\\n",
       "rank                                                              \n",
       "35                  687.0         9760.0                 6748.0   \n",
       "12                 1300.0        10343.0                 5896.0   \n",
       "8                  2071.0        16090.0                 8746.0   \n",
       "200                 502.0        16385.0                 8234.0   \n",
       "47                  425.0        13356.0                 6385.0   \n",
       "\n",
       "             country         region  fac_stud_ratio  international_ratio  \n",
       "rank                                                                      \n",
       "35    United Kingdom         Europe        0.111475             0.691393  \n",
       "12       Switzerland         Europe        0.163879             0.570047  \n",
       "8     United Kingdom         Europe        0.244251             0.543567  \n",
       "200      Netherlands         Europe        0.077937             0.502533  \n",
       "47     United States  North America        0.100479             0.478062  "
      ]
     },
     "execution_count": 9,
     "metadata": {},
     "output_type": "execute_result"
    }
   ],
   "source": [
    "df_topUni['international_ratio'] = df_topUni['international_student']/df_topUni['total_student']\n",
    "sorted_by_internationalRatio = df_topUni.sort_values('international_ratio',ascending=False)\n",
    "sorted_by_internationalRatio.head()"
   ]
  },
  {
   "cell_type": "code",
   "execution_count": 10,
   "metadata": {},
   "outputs": [
    {
     "data": {
      "image/png": "[encoded data removed]",
      "text/plain": [
       "<matplotlib.figure.Figure at 0x10f45a710>"
      ]
     },
     "metadata": {},
     "output_type": "display_data"
    }
   ],
   "source": [
    "# format the name to fit in the bar plot\n",
    "shorten_school_name = [x.replace('of', '').replace('University', '')[0:13] for x in sorted_by_internationalRatio.head().school_name]\n",
    "ax = sns.barplot(x=shorten_school_name, y=sorted_by_internationalRatio.head().international_ratio)"
   ]
  },
  {
   "cell_type": "markdown",
   "metadata": {},
   "source": [
    "This is the top 5 university in terms of international students/total students ratio. "
   ]
  },
  {
   "cell_type": "markdown",
   "metadata": {},
   "source": [
    "### 1.c - Aggregated by country <a class=\"anchor\" id=\"1.c\"></a>"
   ]
  },
  {
   "cell_type": "markdown",
   "metadata": {},
   "source": [
    "Because it wasn't so clear how we should aggregate the data, we decided to consider the ```mean()``` as aggregation function which will give us the ranking of countries according to :\n",
    "* ratio of faculty staff over students\n",
    "* ratio of international students"
   ]
  },
  {
   "cell_type": "code",
   "execution_count": 11,
   "metadata": {},
   "outputs": [
    {
     "data": {
      "text/html": [
       "<div>\n",
       "<style>\n",
       "    .dataframe thead tr:only-child th {\n",
       "        text-align: right;\n",
       "    }\n",
       "\n",
       "    .dataframe thead th {\n",
       "        text-align: left;\n",
       "    }\n",
       "\n",
       "    .dataframe tbody tr th {\n",
       "        vertical-align: top;\n",
       "    }\n",
       "</style>\n",
       "<table border=\"1\" class=\"dataframe\">\n",
       "  <thead>\n",
       "    <tr style=\"text-align: right;\">\n",
       "      <th></th>\n",
       "      <th>fac_stud_ratio</th>\n",
       "    </tr>\n",
       "    <tr>\n",
       "      <th>country</th>\n",
       "      <th></th>\n",
       "    </tr>\n",
       "  </thead>\n",
       "  <tbody>\n",
       "    <tr>\n",
       "      <th>Russia</th>\n",
       "      <td>0.221910</td>\n",
       "    </tr>\n",
       "    <tr>\n",
       "      <th>Denmark</th>\n",
       "      <td>0.186580</td>\n",
       "    </tr>\n",
       "    <tr>\n",
       "      <th>Saudi Arabia</th>\n",
       "      <td>0.175828</td>\n",
       "    </tr>\n",
       "    <tr>\n",
       "      <th>Singapore</th>\n",
       "      <td>0.162279</td>\n",
       "    </tr>\n",
       "    <tr>\n",
       "      <th>Japan</th>\n",
       "      <td>0.155840</td>\n",
       "    </tr>\n",
       "  </tbody>\n",
       "</table>\n",
       "</div>"
      ],
      "text/plain": [
       "              fac_stud_ratio\n",
       "country                     \n",
       "Russia              0.221910\n",
       "Denmark             0.186580\n",
       "Saudi Arabia        0.175828\n",
       "Singapore           0.162279\n",
       "Japan               0.155840"
      ]
     },
     "execution_count": 11,
     "metadata": {},
     "output_type": "execute_result"
    }
   ],
   "source": [
    "best_countries_by_facStudRatio = df_topUni.groupby('country').mean().sort_values('fac_stud_ratio',ascending=False)\n",
    "best_countries_by_facStudRatio[['fac_stud_ratio']].head()"
   ]
  },
  {
   "cell_type": "code",
   "execution_count": 12,
   "metadata": {},
   "outputs": [
    {
     "data": {
      "image/png": "[encoded data removed]",
      "text/plain": [
       "<matplotlib.figure.Figure at 0x1136e0400>"
      ]
     },
     "metadata": {},
     "output_type": "display_data"
    }
   ],
   "source": [
    "ax = sns.barplot(x=best_countries_by_facStudRatio.head().index, y=best_countries_by_facStudRatio.head().fac_stud_ratio)"
   ]
  },
  {
   "cell_type": "markdown",
   "metadata": {},
   "source": [
    "This is the top 5 countries in terms of faculty/student ratio."
   ]
  },
  {
   "cell_type": "code",
   "execution_count": 13,
   "metadata": {},
   "outputs": [
    {
     "data": {
      "text/html": [
       "<div>\n",
       "<style>\n",
       "    .dataframe thead tr:only-child th {\n",
       "        text-align: right;\n",
       "    }\n",
       "\n",
       "    .dataframe thead th {\n",
       "        text-align: left;\n",
       "    }\n",
       "\n",
       "    .dataframe tbody tr th {\n",
       "        vertical-align: top;\n",
       "    }\n",
       "</style>\n",
       "<table border=\"1\" class=\"dataframe\">\n",
       "  <thead>\n",
       "    <tr style=\"text-align: right;\">\n",
       "      <th></th>\n",
       "      <th>international_ratio</th>\n",
       "    </tr>\n",
       "    <tr>\n",
       "      <th>country</th>\n",
       "      <th></th>\n",
       "    </tr>\n",
       "  </thead>\n",
       "  <tbody>\n",
       "    <tr>\n",
       "      <th>United Kingdom</th>\n",
       "      <td>0.351308</td>\n",
       "    </tr>\n",
       "    <tr>\n",
       "      <th>Australia</th>\n",
       "      <td>0.346878</td>\n",
       "    </tr>\n",
       "    <tr>\n",
       "      <th>Switzerland</th>\n",
       "      <td>0.313816</td>\n",
       "    </tr>\n",
       "    <tr>\n",
       "      <th>Hong Kong</th>\n",
       "      <td>0.312148</td>\n",
       "    </tr>\n",
       "    <tr>\n",
       "      <th>Austria</th>\n",
       "      <td>0.306095</td>\n",
       "    </tr>\n",
       "  </tbody>\n",
       "</table>\n",
       "</div>"
      ],
      "text/plain": [
       "                international_ratio\n",
       "country                            \n",
       "United Kingdom             0.351308\n",
       "Australia                  0.346878\n",
       "Switzerland                0.313816\n",
       "Hong Kong                  0.312148\n",
       "Austria                    0.306095"
      ]
     },
     "execution_count": 13,
     "metadata": {},
     "output_type": "execute_result"
    }
   ],
   "source": [
    "best_countries_by_internationalRatio = df_topUni.groupby('country').mean().sort_values('international_ratio',ascending=False)\n",
    "best_countries_by_internationalRatio[['international_ratio']].head()"
   ]
  },
  {
   "cell_type": "code",
   "execution_count": 14,
   "metadata": {},
   "outputs": [
    {
     "data": {
      "image/png": "[encoded data removed]",
      "text/plain": [
       "<matplotlib.figure.Figure at 0x1137deba8>"
      ]
     },
     "metadata": {},
     "output_type": "display_data"
    }
   ],
   "source": [
    "ax = sns.barplot(x=best_countries_by_internationalRatio.head().index, y=best_countries_by_internationalRatio.head().international_ratio)"
   ]
  },
  {
   "cell_type": "markdown",
   "metadata": {},
   "source": [
    "This is the top 5 countries in terms of international students/total students ratio. "
   ]
  },
  {
   "cell_type": "markdown",
   "metadata": {},
   "source": [
    "### 1.d - Aggregated by region <a class=\"anchor\" id=\"1.d\"></a>"
   ]
  },
  {
   "cell_type": "markdown",
   "metadata": {},
   "source": [
    "Very similar strategy than the one used in 1.c"
   ]
  },
  {
   "cell_type": "code",
   "execution_count": 15,
   "metadata": {},
   "outputs": [
    {
     "data": {
      "text/html": [
       "<div>\n",
       "<style>\n",
       "    .dataframe thead tr:only-child th {\n",
       "        text-align: right;\n",
       "    }\n",
       "\n",
       "    .dataframe thead th {\n",
       "        text-align: left;\n",
       "    }\n",
       "\n",
       "    .dataframe tbody tr th {\n",
       "        vertical-align: top;\n",
       "    }\n",
       "</style>\n",
       "<table border=\"1\" class=\"dataframe\">\n",
       "  <thead>\n",
       "    <tr style=\"text-align: right;\">\n",
       "      <th></th>\n",
       "      <th>fac_stud_ratio</th>\n",
       "    </tr>\n",
       "    <tr>\n",
       "      <th>region</th>\n",
       "      <th></th>\n",
       "    </tr>\n",
       "  </thead>\n",
       "  <tbody>\n",
       "    <tr>\n",
       "      <th>North America</th>\n",
       "      <td>0.144831</td>\n",
       "    </tr>\n",
       "    <tr>\n",
       "      <th>Asia</th>\n",
       "      <td>0.134673</td>\n",
       "    </tr>\n",
       "    <tr>\n",
       "      <th>Europe</th>\n",
       "      <td>0.120003</td>\n",
       "    </tr>\n",
       "    <tr>\n",
       "      <th>Latin America</th>\n",
       "      <td>0.096779</td>\n",
       "    </tr>\n",
       "    <tr>\n",
       "      <th>Africa</th>\n",
       "      <td>0.088450</td>\n",
       "    </tr>\n",
       "    <tr>\n",
       "      <th>Oceania</th>\n",
       "      <td>0.075003</td>\n",
       "    </tr>\n",
       "  </tbody>\n",
       "</table>\n",
       "</div>"
      ],
      "text/plain": [
       "               fac_stud_ratio\n",
       "region                       \n",
       "North America        0.144831\n",
       "Asia                 0.134673\n",
       "Europe               0.120003\n",
       "Latin America        0.096779\n",
       "Africa               0.088450\n",
       "Oceania              0.075003"
      ]
     },
     "execution_count": 15,
     "metadata": {},
     "output_type": "execute_result"
    }
   ],
   "source": [
    "best_regions_by_facStudRatio = df_topUni.groupby('region').mean().sort_values('fac_stud_ratio',ascending=False)\n",
    "best_regions_by_facStudRatio[['fac_stud_ratio']]"
   ]
  },
  {
   "cell_type": "code",
   "execution_count": 16,
   "metadata": {},
   "outputs": [
    {
     "data": {
      "text/html": [
       "<div>\n",
       "<style>\n",
       "    .dataframe thead tr:only-child th {\n",
       "        text-align: right;\n",
       "    }\n",
       "\n",
       "    .dataframe thead th {\n",
       "        text-align: left;\n",
       "    }\n",
       "\n",
       "    .dataframe tbody tr th {\n",
       "        vertical-align: top;\n",
       "    }\n",
       "</style>\n",
       "<table border=\"1\" class=\"dataframe\">\n",
       "  <thead>\n",
       "    <tr style=\"text-align: right;\">\n",
       "      <th></th>\n",
       "      <th>international_ratio</th>\n",
       "    </tr>\n",
       "    <tr>\n",
       "      <th>region</th>\n",
       "      <th></th>\n",
       "    </tr>\n",
       "  </thead>\n",
       "  <tbody>\n",
       "    <tr>\n",
       "      <th>Oceania</th>\n",
       "      <td>0.329077</td>\n",
       "    </tr>\n",
       "    <tr>\n",
       "      <th>Europe</th>\n",
       "      <td>0.245932</td>\n",
       "    </tr>\n",
       "    <tr>\n",
       "      <th>North America</th>\n",
       "      <td>0.202437</td>\n",
       "    </tr>\n",
       "    <tr>\n",
       "      <th>Africa</th>\n",
       "      <td>0.169703</td>\n",
       "    </tr>\n",
       "    <tr>\n",
       "      <th>Asia</th>\n",
       "      <td>0.132394</td>\n",
       "    </tr>\n",
       "    <tr>\n",
       "      <th>Latin America</th>\n",
       "      <td>0.071751</td>\n",
       "    </tr>\n",
       "  </tbody>\n",
       "</table>\n",
       "</div>"
      ],
      "text/plain": [
       "               international_ratio\n",
       "region                            \n",
       "Oceania                   0.329077\n",
       "Europe                    0.245932\n",
       "North America             0.202437\n",
       "Africa                    0.169703\n",
       "Asia                      0.132394\n",
       "Latin America             0.071751"
      ]
     },
     "execution_count": 16,
     "metadata": {},
     "output_type": "execute_result"
    }
   ],
   "source": [
    "best_regions_by_internationalRatio = df_topUni.groupby('region').mean().sort_values('international_ratio',ascending=False)\n",
    "best_regions_by_internationalRatio[['international_ratio']]"
   ]
  },
  {
   "cell_type": "code",
   "execution_count": 17,
   "metadata": {},
   "outputs": [
    {
     "data": {
      "image/png": "[encoded data removed]",
      "text/plain": [
       "<matplotlib.figure.Figure at 0x113839780>"
      ]
     },
     "metadata": {},
     "output_type": "display_data"
    }
   ],
   "source": [
    "# format the dataframe to make a nice barplot\n",
    "df = best_regions_by_internationalRatio[['international_ratio']].merge(best_regions_by_facStudRatio[['fac_stud_ratio']], left_index=True, right_index=True)\n",
    "df.reset_index(inplace=True)\n",
    "df = pd.melt(df, id_vars=['region'], var_name=\"ratio\", value_name='value')\n",
    "# plot the barplot with sns\n",
    "ax = sns.factorplot(x='ratio', y='value', hue='region', data=df, kind='bar')"
   ]
  },
  {
   "cell_type": "markdown",
   "metadata": {},
   "source": [
    "This is the 6 regions classified by international students ratio on the left and weighted with the faculty / students ratio on the right"
   ]
  },
  {
   "cell_type": "markdown",
   "metadata": {},
   "source": [
    "## 2 - Times Higher Education <a class=\"anchor\" id=\"2\"></a>"
   ]
  },
  {
   "cell_type": "markdown",
   "metadata": {},
   "source": [
    "Because we do not have direct access to some informations (e.g. International Students, Total Staff) we will infer them using the informations we have."
   ]
  },
  {
   "cell_type": "code",
   "execution_count": 18,
   "metadata": {
    "collapsed": true
   },
   "outputs": [],
   "source": [
    "def find_region_from_country(country):\n",
    "    \"\"\"\n",
    "        use restcountries.eu API to return the region name from the country name\n",
    "        \n",
    "        @params:\n",
    "        - country : the country to find the region from\n",
    "    \"\"\"\n",
    "    # with further investigation we realised that South Korea is not recognized well by the API \n",
    "    # so we decided to handle that specific case separetly :\n",
    "    if country == 'South Korea':\n",
    "        return 'Asia'\n",
    "    \n",
    "    r = requests.get('https://restcountries.eu/rest/v2/name/' + country)\n",
    "    \n",
    "    try:\n",
    "        region = r.json()[0]['region']\n",
    "        if region == 'Americas':\n",
    "            region = r.json()[0]['subregion']\n",
    "    except(KeyError) as e:\n",
    "        print(\"Couldn't find region for '{}'\".format(country))\n",
    "        region = np.nan\n",
    "    \n",
    "    return region\n"
   ]
  },
  {
   "cell_type": "code",
   "execution_count": 19,
   "metadata": {
    "collapsed": true
   },
   "outputs": [],
   "source": [
    "def get_ranking_times(path_to_dump):\n",
    "    \"\"\"\n",
    "        generate a dataframe with the top 200 university from timeshighereducation.com\n",
    "        \n",
    "        @params:\n",
    "        - path_to_dump : path were the dump of the data should be (will use it if already present and save there otherwise)\n",
    "    \"\"\"\n",
    "    if(os.path.isfile(path_to_dump)):\n",
    "        return pd.read_pickle(path_to_dump)\n",
    "    \n",
    "    r = requests.get('https://www.timeshighereducation.com/sites/default/files/the_data_rankings/world_university_rankings_2018_limit0_369a9045a203e176392b9fb8f8c1cb2a.json')\n",
    "\n",
    "    top_200 = []\n",
    "    for (i,uni_dict) in enumerate(r.json()['data']):\n",
    "        if(i>=200):\n",
    "            break\n",
    "        title = uni_dict['name']\n",
    "        # We delete the '=' sign in the case of tie to be consistent with the first one\n",
    "        rank = uni_dict['rank'].replace('=','')\n",
    "        country = uni_dict['location']\n",
    "\n",
    "        # We delete the thousands separator\n",
    "        student_total = int(uni_dict['stats_number_students'].replace(',',''))\n",
    "        pc_inter_student = float(uni_dict[\"stats_pc_intl_students\"].replace('%',''))/100\n",
    "        student_to_staff_ratio = float(uni_dict[\"stats_student_staff_ratio\"])\n",
    "\n",
    "        # infer some informations using the percentage and ratio\n",
    "        student_inter = student_total*pc_inter_student\n",
    "        staff_total = student_total/student_to_staff_ratio\n",
    "\n",
    "        top_200.append({'school_name': title, \n",
    "                            'rank': rank, \n",
    "                            'country': country,\n",
    "                            'international_student' : int(round(student_inter)),\n",
    "                            'total_staff' : int(round(staff_total)),\n",
    "                            'total_student': student_total,\n",
    "                            'region': find_region_from_country(country)\n",
    "                           })\n",
    "        \n",
    "        # update the progress bar\n",
    "        progress(i+1,200,'Analysing the JSON file')\n",
    "        \n",
    "    df = pd.DataFrame.from_dict(top_200)\n",
    "    \n",
    "    # We set Rank as an index\n",
    "    df.set_index('rank',inplace=True)\n",
    "    \n",
    "    # Reorder the df columns for better output\n",
    "    df = df[['school_name', 'total_staff', 'total_student', 'international_student', 'country', 'region']]\n",
    "\n",
    "    df.to_pickle(path_to_dump)\n",
    "    return df"
   ]
  },
  {
   "cell_type": "code",
   "execution_count": 20,
   "metadata": {},
   "outputs": [
    {
     "data": {
      "text/html": [
       "<div>\n",
       "<style>\n",
       "    .dataframe thead tr:only-child th {\n",
       "        text-align: right;\n",
       "    }\n",
       "\n",
       "    .dataframe thead th {\n",
       "        text-align: left;\n",
       "    }\n",
       "\n",
       "    .dataframe tbody tr th {\n",
       "        vertical-align: top;\n",
       "    }\n",
       "</style>\n",
       "<table border=\"1\" class=\"dataframe\">\n",
       "  <thead>\n",
       "    <tr style=\"text-align: right;\">\n",
       "      <th></th>\n",
       "      <th>school_name</th>\n",
       "      <th>total_staff</th>\n",
       "      <th>total_student</th>\n",
       "      <th>international_student</th>\n",
       "      <th>country</th>\n",
       "      <th>region</th>\n",
       "    </tr>\n",
       "    <tr>\n",
       "      <th>rank</th>\n",
       "      <th></th>\n",
       "      <th></th>\n",
       "      <th></th>\n",
       "      <th></th>\n",
       "      <th></th>\n",
       "      <th></th>\n",
       "    </tr>\n",
       "  </thead>\n",
       "  <tbody>\n",
       "    <tr>\n",
       "      <th>1</th>\n",
       "      <td>University of Oxford</td>\n",
       "      <td>1822</td>\n",
       "      <td>20409</td>\n",
       "      <td>7755</td>\n",
       "      <td>United Kingdom</td>\n",
       "      <td>Europe</td>\n",
       "    </tr>\n",
       "    <tr>\n",
       "      <th>2</th>\n",
       "      <td>University of Cambridge</td>\n",
       "      <td>1687</td>\n",
       "      <td>18389</td>\n",
       "      <td>6436</td>\n",
       "      <td>United Kingdom</td>\n",
       "      <td>Europe</td>\n",
       "    </tr>\n",
       "    <tr>\n",
       "      <th>3</th>\n",
       "      <td>California Institute of Technology</td>\n",
       "      <td>340</td>\n",
       "      <td>2209</td>\n",
       "      <td>596</td>\n",
       "      <td>United States</td>\n",
       "      <td>Northern America</td>\n",
       "    </tr>\n",
       "    <tr>\n",
       "      <th>3</th>\n",
       "      <td>Stanford University</td>\n",
       "      <td>2113</td>\n",
       "      <td>15845</td>\n",
       "      <td>3486</td>\n",
       "      <td>United States</td>\n",
       "      <td>Northern America</td>\n",
       "    </tr>\n",
       "    <tr>\n",
       "      <th>5</th>\n",
       "      <td>Massachusetts Institute of Technology</td>\n",
       "      <td>1285</td>\n",
       "      <td>11177</td>\n",
       "      <td>3800</td>\n",
       "      <td>United States</td>\n",
       "      <td>Northern America</td>\n",
       "    </tr>\n",
       "  </tbody>\n",
       "</table>\n",
       "</div>"
      ],
      "text/plain": [
       "                                school_name  total_staff  total_student  \\\n",
       "rank                                                                      \n",
       "1                      University of Oxford         1822          20409   \n",
       "2                   University of Cambridge         1687          18389   \n",
       "3        California Institute of Technology          340           2209   \n",
       "3                       Stanford University         2113          15845   \n",
       "5     Massachusetts Institute of Technology         1285          11177   \n",
       "\n",
       "      international_student         country            region  \n",
       "rank                                                           \n",
       "1                      7755  United Kingdom            Europe  \n",
       "2                      6436  United Kingdom            Europe  \n",
       "3                       596   United States  Northern America  \n",
       "3                      3486   United States  Northern America  \n",
       "5                      3800   United States  Northern America  "
      ]
     },
     "execution_count": 20,
     "metadata": {},
     "output_type": "execute_result"
    }
   ],
   "source": [
    "df_times = get_ranking_times('times_backup')\n",
    "df_times.head()"
   ]
  },
  {
   "cell_type": "markdown",
   "metadata": {},
   "source": [
    "We now repeat the same steps as for the first exercise to analyse the different ratio such as faculty/student ratio and international/total students."
   ]
  },
  {
   "cell_type": "markdown",
   "metadata": {},
   "source": [
    "### 2.a - Best university in terms of ratio faculty members over students <a class=\"anchor\" id=\"2.a\"></a>"
   ]
  },
  {
   "cell_type": "code",
   "execution_count": 21,
   "metadata": {},
   "outputs": [
    {
     "data": {
      "text/html": [
       "<div>\n",
       "<style>\n",
       "    .dataframe thead tr:only-child th {\n",
       "        text-align: right;\n",
       "    }\n",
       "\n",
       "    .dataframe thead th {\n",
       "        text-align: left;\n",
       "    }\n",
       "\n",
       "    .dataframe tbody tr th {\n",
       "        vertical-align: top;\n",
       "    }\n",
       "</style>\n",
       "<table border=\"1\" class=\"dataframe\">\n",
       "  <thead>\n",
       "    <tr style=\"text-align: right;\">\n",
       "      <th></th>\n",
       "      <th>school_name</th>\n",
       "      <th>total_staff</th>\n",
       "      <th>total_student</th>\n",
       "      <th>international_student</th>\n",
       "      <th>country</th>\n",
       "      <th>region</th>\n",
       "      <th>fac_stud_ratio</th>\n",
       "    </tr>\n",
       "    <tr>\n",
       "      <th>rank</th>\n",
       "      <th></th>\n",
       "      <th></th>\n",
       "      <th></th>\n",
       "      <th></th>\n",
       "      <th></th>\n",
       "      <th></th>\n",
       "      <th></th>\n",
       "    </tr>\n",
       "  </thead>\n",
       "  <tbody>\n",
       "    <tr>\n",
       "      <th>105</th>\n",
       "      <td>Vanderbilt University</td>\n",
       "      <td>3640</td>\n",
       "      <td>12011</td>\n",
       "      <td>1561</td>\n",
       "      <td>United States</td>\n",
       "      <td>Northern America</td>\n",
       "      <td>0.303056</td>\n",
       "    </tr>\n",
       "    <tr>\n",
       "      <th>109</th>\n",
       "      <td>University of Copenhagen</td>\n",
       "      <td>7413</td>\n",
       "      <td>30395</td>\n",
       "      <td>4255</td>\n",
       "      <td>Denmark</td>\n",
       "      <td>Europe</td>\n",
       "      <td>0.243889</td>\n",
       "    </tr>\n",
       "    <tr>\n",
       "      <th>12</th>\n",
       "      <td>Yale University</td>\n",
       "      <td>2827</td>\n",
       "      <td>12155</td>\n",
       "      <td>2553</td>\n",
       "      <td>United States</td>\n",
       "      <td>Northern America</td>\n",
       "      <td>0.232579</td>\n",
       "    </tr>\n",
       "    <tr>\n",
       "      <th>153</th>\n",
       "      <td>University of Rochester</td>\n",
       "      <td>2241</td>\n",
       "      <td>9636</td>\n",
       "      <td>2794</td>\n",
       "      <td>United States</td>\n",
       "      <td>Northern America</td>\n",
       "      <td>0.232565</td>\n",
       "    </tr>\n",
       "    <tr>\n",
       "      <th>13</th>\n",
       "      <td>Johns Hopkins University</td>\n",
       "      <td>3604</td>\n",
       "      <td>15498</td>\n",
       "      <td>3720</td>\n",
       "      <td>United States</td>\n",
       "      <td>Northern America</td>\n",
       "      <td>0.232546</td>\n",
       "    </tr>\n",
       "  </tbody>\n",
       "</table>\n",
       "</div>"
      ],
      "text/plain": [
       "                   school_name  total_staff  total_student  \\\n",
       "rank                                                         \n",
       "105      Vanderbilt University         3640          12011   \n",
       "109   University of Copenhagen         7413          30395   \n",
       "12             Yale University         2827          12155   \n",
       "153    University of Rochester         2241           9636   \n",
       "13    Johns Hopkins University         3604          15498   \n",
       "\n",
       "      international_student        country            region  fac_stud_ratio  \n",
       "rank                                                                          \n",
       "105                    1561  United States  Northern America        0.303056  \n",
       "109                    4255        Denmark            Europe        0.243889  \n",
       "12                     2553  United States  Northern America        0.232579  \n",
       "153                    2794  United States  Northern America        0.232565  \n",
       "13                     3720  United States  Northern America        0.232546  "
      ]
     },
     "execution_count": 21,
     "metadata": {},
     "output_type": "execute_result"
    }
   ],
   "source": [
    "df_times['fac_stud_ratio'] = df_times['total_staff']/df_times['total_student']\n",
    "sorted_by_facStudRatio = df_times.sort_values('fac_stud_ratio',ascending=False)\n",
    "sorted_by_facStudRatio.head()"
   ]
  },
  {
   "cell_type": "code",
   "execution_count": 22,
   "metadata": {},
   "outputs": [
    {
     "data": {
      "image/png": "[encoded data removed]",
      "text/plain": [
       "<matplotlib.figure.Figure at 0x1139889b0>"
      ]
     },
     "metadata": {},
     "output_type": "display_data"
    }
   ],
   "source": [
    "# format the name to fit in the bar plot\n",
    "shorten_school_name = [x.replace('of', '').replace('University', '')[0:13] for x in sorted_by_facStudRatio.head().school_name]\n",
    "ax = sns.barplot(x=shorten_school_name, y=sorted_by_facStudRatio.head().fac_stud_ratio)"
   ]
  },
  {
   "cell_type": "markdown",
   "metadata": {},
   "source": [
    "We can observe that in this ranking the rank compare to the faculty/student ratio is much higher. The best faculty/student ratio is only rank 105 when it was 4 in the other ranking. We also observe that the value differ from the previous ranking and that we see only 2 universities in common in the top 5 (Yale and Johns Hopkins)."
   ]
  },
  {
   "cell_type": "markdown",
   "metadata": {},
   "source": [
    "### 2.b - Best university in terms of ratio of international students <a class=\"anchor\" id=\"2.b\"></a>"
   ]
  },
  {
   "cell_type": "code",
   "execution_count": 23,
   "metadata": {},
   "outputs": [
    {
     "data": {
      "text/html": [
       "<div>\n",
       "<style>\n",
       "    .dataframe thead tr:only-child th {\n",
       "        text-align: right;\n",
       "    }\n",
       "\n",
       "    .dataframe thead th {\n",
       "        text-align: left;\n",
       "    }\n",
       "\n",
       "    .dataframe tbody tr th {\n",
       "        vertical-align: top;\n",
       "    }\n",
       "</style>\n",
       "<table border=\"1\" class=\"dataframe\">\n",
       "  <thead>\n",
       "    <tr style=\"text-align: right;\">\n",
       "      <th></th>\n",
       "      <th>school_name</th>\n",
       "      <th>total_staff</th>\n",
       "      <th>total_student</th>\n",
       "      <th>international_student</th>\n",
       "      <th>country</th>\n",
       "      <th>region</th>\n",
       "      <th>fac_stud_ratio</th>\n",
       "      <th>international_ratio</th>\n",
       "    </tr>\n",
       "    <tr>\n",
       "      <th>rank</th>\n",
       "      <th></th>\n",
       "      <th></th>\n",
       "      <th></th>\n",
       "      <th></th>\n",
       "      <th></th>\n",
       "      <th></th>\n",
       "      <th></th>\n",
       "      <th></th>\n",
       "    </tr>\n",
       "  </thead>\n",
       "  <tbody>\n",
       "    <tr>\n",
       "      <th>25</th>\n",
       "      <td>London School of Economics and Political Science</td>\n",
       "      <td>825</td>\n",
       "      <td>10065</td>\n",
       "      <td>7146</td>\n",
       "      <td>United Kingdom</td>\n",
       "      <td>Europe</td>\n",
       "      <td>0.081967</td>\n",
       "      <td>0.709985</td>\n",
       "    </tr>\n",
       "    <tr>\n",
       "      <th>179</th>\n",
       "      <td>University of Luxembourg</td>\n",
       "      <td>340</td>\n",
       "      <td>4969</td>\n",
       "      <td>2832</td>\n",
       "      <td>Luxembourg</td>\n",
       "      <td>Europe</td>\n",
       "      <td>0.068424</td>\n",
       "      <td>0.569934</td>\n",
       "    </tr>\n",
       "    <tr>\n",
       "      <th>8</th>\n",
       "      <td>Imperial College London</td>\n",
       "      <td>1391</td>\n",
       "      <td>15857</td>\n",
       "      <td>8721</td>\n",
       "      <td>United Kingdom</td>\n",
       "      <td>Europe</td>\n",
       "      <td>0.087722</td>\n",
       "      <td>0.549978</td>\n",
       "    </tr>\n",
       "    <tr>\n",
       "      <th>38</th>\n",
       "      <td>École Polytechnique Fédérale de Lausanne</td>\n",
       "      <td>886</td>\n",
       "      <td>9928</td>\n",
       "      <td>5460</td>\n",
       "      <td>Switzerland</td>\n",
       "      <td>Europe</td>\n",
       "      <td>0.089243</td>\n",
       "      <td>0.549960</td>\n",
       "    </tr>\n",
       "    <tr>\n",
       "      <th>103</th>\n",
       "      <td>Maastricht University</td>\n",
       "      <td>929</td>\n",
       "      <td>16727</td>\n",
       "      <td>8364</td>\n",
       "      <td>Netherlands</td>\n",
       "      <td>Europe</td>\n",
       "      <td>0.055539</td>\n",
       "      <td>0.500030</td>\n",
       "    </tr>\n",
       "  </tbody>\n",
       "</table>\n",
       "</div>"
      ],
      "text/plain": [
       "                                           school_name  total_staff  \\\n",
       "rank                                                                  \n",
       "25    London School of Economics and Political Science          825   \n",
       "179                           University of Luxembourg          340   \n",
       "8                              Imperial College London         1391   \n",
       "38            École Polytechnique Fédérale de Lausanne          886   \n",
       "103                              Maastricht University          929   \n",
       "\n",
       "      total_student  international_student         country  region  \\\n",
       "rank                                                                 \n",
       "25            10065                   7146  United Kingdom  Europe   \n",
       "179            4969                   2832      Luxembourg  Europe   \n",
       "8             15857                   8721  United Kingdom  Europe   \n",
       "38             9928                   5460     Switzerland  Europe   \n",
       "103           16727                   8364     Netherlands  Europe   \n",
       "\n",
       "      fac_stud_ratio  international_ratio  \n",
       "rank                                       \n",
       "25          0.081967             0.709985  \n",
       "179         0.068424             0.569934  \n",
       "8           0.087722             0.549978  \n",
       "38          0.089243             0.549960  \n",
       "103         0.055539             0.500030  "
      ]
     },
     "execution_count": 23,
     "metadata": {},
     "output_type": "execute_result"
    }
   ],
   "source": [
    "df_times['international_ratio'] = df_times['international_student']/df_times['total_student']\n",
    "sorted_by_internationalRatio = df_times.sort_values('international_ratio',ascending=False)\n",
    "sorted_by_internationalRatio.head()"
   ]
  },
  {
   "cell_type": "code",
   "execution_count": 24,
   "metadata": {},
   "outputs": [
    {
     "data": {
      "image/png": "[encoded data removed]",
      "text/plain": [
       "<matplotlib.figure.Figure at 0x113566470>"
      ]
     },
     "metadata": {},
     "output_type": "display_data"
    }
   ],
   "source": [
    "# format the name to fit in the bar plot\n",
    "shorten_school_name = [x.replace('of', '').replace('University', '')[0:13] for x in sorted_by_internationalRatio.head().school_name]\n",
    "ax = sns.barplot(x=shorten_school_name, y=sorted_by_internationalRatio.head().international_ratio)"
   ]
  },
  {
   "cell_type": "markdown",
   "metadata": {},
   "source": [
    "For the international ratio we observe this time comparable result that the one we had with the previous ranking. Only the luxembourg university came in the top 5 and wasn't here before."
   ]
  },
  {
   "cell_type": "markdown",
   "metadata": {},
   "source": [
    "### 2.c - Aggregated by country <a class=\"anchor\" id=\"2.c\"></a>"
   ]
  },
  {
   "cell_type": "code",
   "execution_count": 25,
   "metadata": {},
   "outputs": [
    {
     "data": {
      "text/html": [
       "<div>\n",
       "<style>\n",
       "    .dataframe thead tr:only-child th {\n",
       "        text-align: right;\n",
       "    }\n",
       "\n",
       "    .dataframe thead th {\n",
       "        text-align: left;\n",
       "    }\n",
       "\n",
       "    .dataframe tbody tr th {\n",
       "        vertical-align: top;\n",
       "    }\n",
       "</style>\n",
       "<table border=\"1\" class=\"dataframe\">\n",
       "  <thead>\n",
       "    <tr style=\"text-align: right;\">\n",
       "      <th></th>\n",
       "      <th>fac_stud_ratio</th>\n",
       "    </tr>\n",
       "    <tr>\n",
       "      <th>country</th>\n",
       "      <th></th>\n",
       "    </tr>\n",
       "  </thead>\n",
       "  <tbody>\n",
       "    <tr>\n",
       "      <th>Denmark</th>\n",
       "      <td>0.160176</td>\n",
       "    </tr>\n",
       "    <tr>\n",
       "      <th>Italy</th>\n",
       "      <td>0.138870</td>\n",
       "    </tr>\n",
       "    <tr>\n",
       "      <th>Russian Federation</th>\n",
       "      <td>0.136989</td>\n",
       "    </tr>\n",
       "    <tr>\n",
       "      <th>Japan</th>\n",
       "      <td>0.132105</td>\n",
       "    </tr>\n",
       "    <tr>\n",
       "      <th>United States</th>\n",
       "      <td>0.106393</td>\n",
       "    </tr>\n",
       "  </tbody>\n",
       "</table>\n",
       "</div>"
      ],
      "text/plain": [
       "                    fac_stud_ratio\n",
       "country                           \n",
       "Denmark                   0.160176\n",
       "Italy                     0.138870\n",
       "Russian Federation        0.136989\n",
       "Japan                     0.132105\n",
       "United States             0.106393"
      ]
     },
     "execution_count": 25,
     "metadata": {},
     "output_type": "execute_result"
    }
   ],
   "source": [
    "best_countries_by_facStudRatio = df_times.groupby('country').mean().sort_values('fac_stud_ratio',ascending=False)\n",
    "best_countries_by_facStudRatio[['fac_stud_ratio']].head()"
   ]
  },
  {
   "cell_type": "code",
   "execution_count": 26,
   "metadata": {},
   "outputs": [
    {
     "data": {
      "image/png": "[encoded data removed]",
      "text/plain": [
       "<matplotlib.figure.Figure at 0x11397b1d0>"
      ]
     },
     "metadata": {},
     "output_type": "display_data"
    }
   ],
   "source": [
    "ax = sns.barplot(x=best_countries_by_facStudRatio.head().index, y=best_countries_by_facStudRatio.head().fac_stud_ratio)"
   ]
  },
  {
   "cell_type": "markdown",
   "metadata": {},
   "source": [
    "Yet again for the faculty/student ratio by country, we observe comparable result as before only with Singapour and Saudi Arabia out replaced by Italy and United states."
   ]
  },
  {
   "cell_type": "code",
   "execution_count": 27,
   "metadata": {},
   "outputs": [
    {
     "data": {
      "text/html": [
       "<div>\n",
       "<style>\n",
       "    .dataframe thead tr:only-child th {\n",
       "        text-align: right;\n",
       "    }\n",
       "\n",
       "    .dataframe thead th {\n",
       "        text-align: left;\n",
       "    }\n",
       "\n",
       "    .dataframe tbody tr th {\n",
       "        vertical-align: top;\n",
       "    }\n",
       "</style>\n",
       "<table border=\"1\" class=\"dataframe\">\n",
       "  <thead>\n",
       "    <tr style=\"text-align: right;\">\n",
       "      <th></th>\n",
       "      <th>international_ratio</th>\n",
       "    </tr>\n",
       "    <tr>\n",
       "      <th>country</th>\n",
       "      <th></th>\n",
       "    </tr>\n",
       "  </thead>\n",
       "  <tbody>\n",
       "    <tr>\n",
       "      <th>Luxembourg</th>\n",
       "      <td>0.569934</td>\n",
       "    </tr>\n",
       "    <tr>\n",
       "      <th>United Kingdom</th>\n",
       "      <td>0.365478</td>\n",
       "    </tr>\n",
       "    <tr>\n",
       "      <th>Hong Kong</th>\n",
       "      <td>0.327989</td>\n",
       "    </tr>\n",
       "    <tr>\n",
       "      <th>Switzerland</th>\n",
       "      <td>0.314280</td>\n",
       "    </tr>\n",
       "    <tr>\n",
       "      <th>Australia</th>\n",
       "      <td>0.307502</td>\n",
       "    </tr>\n",
       "  </tbody>\n",
       "</table>\n",
       "</div>"
      ],
      "text/plain": [
       "                international_ratio\n",
       "country                            \n",
       "Luxembourg                 0.569934\n",
       "United Kingdom             0.365478\n",
       "Hong Kong                  0.327989\n",
       "Switzerland                0.314280\n",
       "Australia                  0.307502"
      ]
     },
     "execution_count": 27,
     "metadata": {},
     "output_type": "execute_result"
    }
   ],
   "source": [
    "best_countries_by_internationalRatio = df_times.groupby('country').mean().sort_values('international_ratio',ascending=False)\n",
    "best_countries_by_internationalRatio[['international_ratio']].head()"
   ]
  },
  {
   "cell_type": "code",
   "execution_count": 28,
   "metadata": {},
   "outputs": [
    {
     "data": {
      "image/png": "[encoded data removed]",
      "text/plain": [
       "<matplotlib.figure.Figure at 0x11404b240>"
      ]
     },
     "metadata": {},
     "output_type": "display_data"
    }
   ],
   "source": [
    "ax = sns.barplot(x=best_countries_by_internationalRatio.head().index, y=best_countries_by_internationalRatio.head().international_ratio)"
   ]
  },
  {
   "cell_type": "markdown",
   "metadata": {},
   "source": [
    "We can observe only little change herwith luxembourg instead of Austria."
   ]
  },
  {
   "cell_type": "markdown",
   "metadata": {},
   "source": [
    "### 2.d - Aggregated by region <a class=\"anchor\" id=\"2.d\"></a>"
   ]
  },
  {
   "cell_type": "code",
   "execution_count": 29,
   "metadata": {},
   "outputs": [
    {
     "data": {
      "text/html": [
       "<div>\n",
       "<style>\n",
       "    .dataframe thead tr:only-child th {\n",
       "        text-align: right;\n",
       "    }\n",
       "\n",
       "    .dataframe thead th {\n",
       "        text-align: left;\n",
       "    }\n",
       "\n",
       "    .dataframe tbody tr th {\n",
       "        vertical-align: top;\n",
       "    }\n",
       "</style>\n",
       "<table border=\"1\" class=\"dataframe\">\n",
       "  <thead>\n",
       "    <tr style=\"text-align: right;\">\n",
       "      <th></th>\n",
       "      <th>fac_stud_ratio</th>\n",
       "    </tr>\n",
       "    <tr>\n",
       "      <th>region</th>\n",
       "      <th></th>\n",
       "    </tr>\n",
       "  </thead>\n",
       "  <tbody>\n",
       "    <tr>\n",
       "      <th>Northern America</th>\n",
       "      <td>0.101658</td>\n",
       "    </tr>\n",
       "    <tr>\n",
       "      <th>Africa</th>\n",
       "      <td>0.085487</td>\n",
       "    </tr>\n",
       "    <tr>\n",
       "      <th>Asia</th>\n",
       "      <td>0.080347</td>\n",
       "    </tr>\n",
       "    <tr>\n",
       "      <th>Europe</th>\n",
       "      <td>0.065951</td>\n",
       "    </tr>\n",
       "    <tr>\n",
       "      <th>Oceania</th>\n",
       "      <td>0.039893</td>\n",
       "    </tr>\n",
       "  </tbody>\n",
       "</table>\n",
       "</div>"
      ],
      "text/plain": [
       "                  fac_stud_ratio\n",
       "region                          \n",
       "Northern America        0.101658\n",
       "Africa                  0.085487\n",
       "Asia                    0.080347\n",
       "Europe                  0.065951\n",
       "Oceania                 0.039893"
      ]
     },
     "execution_count": 29,
     "metadata": {},
     "output_type": "execute_result"
    }
   ],
   "source": [
    "best_regions_by_facStudRatio = df_times.groupby('region').mean().sort_values('fac_stud_ratio',ascending=False)\n",
    "best_regions_by_facStudRatio[['fac_stud_ratio']]"
   ]
  },
  {
   "cell_type": "code",
   "execution_count": 30,
   "metadata": {},
   "outputs": [
    {
     "data": {
      "text/html": [
       "<div>\n",
       "<style>\n",
       "    .dataframe thead tr:only-child th {\n",
       "        text-align: right;\n",
       "    }\n",
       "\n",
       "    .dataframe thead th {\n",
       "        text-align: left;\n",
       "    }\n",
       "\n",
       "    .dataframe tbody tr th {\n",
       "        vertical-align: top;\n",
       "    }\n",
       "</style>\n",
       "<table border=\"1\" class=\"dataframe\">\n",
       "  <thead>\n",
       "    <tr style=\"text-align: right;\">\n",
       "      <th></th>\n",
       "      <th>international_ratio</th>\n",
       "    </tr>\n",
       "    <tr>\n",
       "      <th>region</th>\n",
       "      <th></th>\n",
       "    </tr>\n",
       "  </thead>\n",
       "  <tbody>\n",
       "    <tr>\n",
       "      <th>Oceania</th>\n",
       "      <td>0.305558</td>\n",
       "    </tr>\n",
       "    <tr>\n",
       "      <th>Europe</th>\n",
       "      <td>0.244658</td>\n",
       "    </tr>\n",
       "    <tr>\n",
       "      <th>Northern America</th>\n",
       "      <td>0.185585</td>\n",
       "    </tr>\n",
       "    <tr>\n",
       "      <th>Africa</th>\n",
       "      <td>0.180024</td>\n",
       "    </tr>\n",
       "    <tr>\n",
       "      <th>Asia</th>\n",
       "      <td>0.165242</td>\n",
       "    </tr>\n",
       "  </tbody>\n",
       "</table>\n",
       "</div>"
      ],
      "text/plain": [
       "                  international_ratio\n",
       "region                               \n",
       "Oceania                      0.305558\n",
       "Europe                       0.244658\n",
       "Northern America             0.185585\n",
       "Africa                       0.180024\n",
       "Asia                         0.165242"
      ]
     },
     "execution_count": 30,
     "metadata": {},
     "output_type": "execute_result"
    }
   ],
   "source": [
    "best_regions_by_internationalRatio = df_times.groupby('region').mean().sort_values('international_ratio',ascending=False)\n",
    "best_regions_by_internationalRatio[['international_ratio']]"
   ]
  },
  {
   "cell_type": "code",
   "execution_count": 31,
   "metadata": {},
   "outputs": [
    {
     "data": {
      "image/png": "[encoded data removed]",
      "text/plain": [
       "<matplotlib.figure.Figure at 0x11418d6d8>"
      ]
     },
     "metadata": {},
     "output_type": "display_data"
    }
   ],
   "source": [
    "# format the dataframe to make a nice barplot\n",
    "df = best_regions_by_internationalRatio[['international_ratio']].merge(best_regions_by_facStudRatio[['fac_stud_ratio']], left_index=True, right_index=True)\n",
    "df.reset_index(inplace=True)\n",
    "df = pd.melt(df, id_vars=['region'], var_name=\"ratio\", value_name='value')\n",
    "# plot the barplot with sns\n",
    "ax = sns.factorplot(x='ratio', y='value', hue='region', data=df, kind='bar')"
   ]
  },
  {
   "cell_type": "markdown",
   "metadata": {},
   "source": [
    "At the end we observe very comparable result on the international ratio by region but the faculty/student ratio by range seems to have drastically change. We can also note that this ranking doesn't have any universty in the south america part in the top 200."
   ]
  },
  {
   "cell_type": "markdown",
   "metadata": {
    "collapsed": true
   },
   "source": [
    "## 3 - Merging the two data frames <a class=\"anchor\" id=\"3\"></a>\n",
    "### 3.1 - Matching the school names <a class=\"anchor\" id=\"3.1\"></a>"
   ]
  },
  {
   "cell_type": "markdown",
   "metadata": {
    "collapsed": true
   },
   "source": [
    "Because we do not have the same information than in the first table we try to get the informations using the first table. But first we need to see how the school names can differ between the two tables (e.g. \"Massachusetts Institute of Technology (MIT)\" is different from \"Massachusetts Institute of Technology\"). \n",
    "\n",
    "We will proceed in two steps: \n",
    "1. We will first clean the school names in both dataframes by :\n",
    "    * Converting to Lowercase\n",
    "    * Deleting accents\n",
    "    * Deleting ponctuation {,.-}\n",
    "    * Deleting the initials or the school put in parenthesis (e.g. (EPFL) or (MIT))\n",
    "    * Deleting the trailing \"the\"\n",
    "2. We will try to identify similar names by :\n",
    "    * Considering if they belong to the same country\n",
    "    * Seeing if one is contained in the other\n",
    "    * Looking at the [Levenstein Distance](https://en.wikipedia.org/wiki/Levenshtein_distance) (It computes the \"minimum number of single-character edits (insertions, deletions or substitutions) required to change one word into the other\") between the words that are different between the two rankings. This distance is considered relative to the maximum length of both names to have a relative number for all school names. \n",
    "3. We will identify the remaining unmatched names manually : \n",
    "    * We group them by similar countries because it doesn't make sense to consider possibilities taht school from different country to be similar."
   ]
  },
  {
   "cell_type": "markdown",
   "metadata": {},
   "source": [
    "#### 3.1.1 - Cleaning the names <a class=\"anchor\" id=\"3.1.1\"></a>"
   ]
  },
  {
   "cell_type": "code",
   "execution_count": 32,
   "metadata": {
    "collapsed": true
   },
   "outputs": [],
   "source": [
    "def how_different(df_times,df_topUni):\n",
    "    \"\"\" \n",
    "    Will return the intersection set of school names from the two dataframes. \n",
    "    This helps us count the number of unmatched school names between the two df.\n",
    "    \n",
    "    @params:\n",
    "    - df_times, df_topUni : the two dataframes for which we wish to compare the 'School Name' values\n",
    "    \n",
    "    \"\"\"\n",
    "    names_times = set(sorted(list(df_times['school_name'].values)))\n",
    "    names_topUni = set(sorted(list(df_topUni['school_name'].values)))\n",
    "    difference = names_times.symmetric_difference(names_topUni)\n",
    "    return difference\n",
    "\n",
    "def clean_data(x):\n",
    "    \"\"\"\n",
    "    Performs very basic string cleaning on a serie of School names.\n",
    "    It puts all names in lower case, gets rid of the accents,\n",
    "    deletes the symbols that are added between parenthesis (like EPFL),\n",
    "    the trailing \"the\" and some ponctuation.\n",
    "    \n",
    "    @params:\n",
    "    - x: the data frame to clean\n",
    "    \"\"\"\n",
    "    # get small latters\n",
    "    x = x.lower()\n",
    "    \n",
    "    # delete accents\n",
    "    x = unidecode(x)\n",
    "    \n",
    "    # delete parenthesis, points, comas, dash and trailing \"the\"\n",
    "    x = re.sub(\"[.,]\",\"\",x)\n",
    "    x = re.sub(r\"(\\s)\\-(\\s)\", r\"\\1\\2\",x) #dash between two spaces replace by nothing\n",
    "    x = re.sub(r\"([a-z])\\-([a-z])\", r\"\\1 \\2\",x) #dash between two words replace by space\n",
    "    x = re.sub(\"[\\(].*?[\\)]\", \"\", x)\n",
    "    x = re.sub(\"^(the)\\s\", \"\",x)\n",
    "    \n",
    "    # delete any space before or after string\n",
    "    return x.strip()\n"
   ]
  },
  {
   "cell_type": "code",
   "execution_count": 33,
   "metadata": {},
   "outputs": [
    {
     "name": "stdout",
     "output_type": "stream",
     "text": [
      "Before data cleaning, we have 190 different school names.\n",
      "After data cleaning, we have 116 different school names.\n"
     ]
    }
   ],
   "source": [
    "print(\"Before data cleaning, we have {} different school names.\".format(len(how_different(df_times,df_topUni))))\n",
    "df_times['school_name'] = df_times['school_name'].apply(clean_data)\n",
    "df_topUni['school_name'] = df_topUni['school_name'].apply(clean_data)\n",
    "print(\"After data cleaning, we have {} different school names.\".format(len(how_different(df_times,df_topUni))))"
   ]
  },
  {
   "cell_type": "markdown",
   "metadata": {},
   "source": [
    "#### 3.1.2 - Automatic Matching <a class=\"anchor\" id=\"3.1.2\"></a>"
   ]
  },
  {
   "cell_type": "markdown",
   "metadata": {},
   "source": [
    "We already matched 74 school just with a very quick cleaning of the data now let's try to identify similar names."
   ]
  },
  {
   "cell_type": "code",
   "execution_count": 34,
   "metadata": {
    "collapsed": true
   },
   "outputs": [],
   "source": [
    "def get_difference(s1,s2):\n",
    "    \"\"\" \n",
    "    Many name of school contain same words \"technology\",\"university\", \n",
    "    we want to get rid of them such that the relative difference \n",
    "    really characterises words that are different. \n",
    "    Therefore we return only the words for s1 and s2 that are not in both strings.\n",
    "    \n",
    "    @params:\n",
    "    - s1,s2 : the two strings that we wish to compare\n",
    "    \n",
    "    \"\"\"\n",
    "    d1 = [w for w in s1.split() if w not in s2]\n",
    "    d2 = [w for w in s2.split() if w not in s1]\n",
    "    return \" \".join(d1),\" \".join(d2)\n",
    "\n"
   ]
  },
  {
   "cell_type": "markdown",
   "metadata": {},
   "source": [
    "Now we want to make a function that help us checking in what extend two school have similar names. This function will need to check the country as it is an important factor to check if it is actually the same university. Let's briefly check in a first part if we have the same country name in the s2 different df."
   ]
  },
  {
   "cell_type": "code",
   "execution_count": 35,
   "metadata": {},
   "outputs": [
    {
     "name": "stdout",
     "output_type": "stream",
     "text": [
      "Country in topUni but not in times:\n",
      "['Argentina', 'Russia', 'Malaysia', 'Brazil', 'Mexico', 'Chile', 'Israel', 'India', 'Saudi Arabia']\n",
      "Country in times but not in topUni:\n",
      "['Luxembourg', 'Russian Federation']\n"
     ]
    }
   ],
   "source": [
    "print('Country in topUni but not in times:')\n",
    "print([x for x in df_topUni.country.unique() if x not in df_times.country.unique()])\n",
    "print('Country in times but not in topUni:')\n",
    "print([x for x in df_times.country.unique() if x not in df_topUni.country.unique()])"
   ]
  },
  {
   "cell_type": "markdown",
   "metadata": {},
   "source": [
    "We observe that topUni has many more countries in the top 200 than times but more importantly we see that there is a difference between Russia name in the 2 df. We decide to change Russian Federation from times to match with the name in the topUni df."
   ]
  },
  {
   "cell_type": "code",
   "execution_count": 36,
   "metadata": {
    "collapsed": true
   },
   "outputs": [],
   "source": [
    "# set russian federation to russia\n",
    "df_times.loc[df_times['country'] == 'Russian Federation', 'country'] = 'Russia'"
   ]
  },
  {
   "cell_type": "code",
   "execution_count": 37,
   "metadata": {
    "collapsed": true
   },
   "outputs": [],
   "source": [
    "def check_similarity(s1,s2,threshold,combined):\n",
    "    \"\"\"\n",
    "    This utility function helps us checking in what magnitude are two school names identical.\n",
    "    It uses 3 checks :\n",
    "    - are the two school names from the same country\n",
    "    - is one of the name included in the second\n",
    "    - what is the Levenshtein distance relative to the max length of the two\n",
    "    \n",
    "    @params:\n",
    "    - s1,s2 : the two school names\n",
    "    - threshold : the limit for the relative Levenshtein distance s.t. the names are considered similar\n",
    "    - combined : a dataframe containing all 'School Name' and 'Country'\n",
    "    \"\"\"\n",
    "    \n",
    "    o,n = get_difference(s1,s2)\n",
    "    same_country = (combined.loc[s1,'country'] == combined.loc[s2,'country'])\n",
    "    \n",
    "    if(len(o) == 0 or len(n)==0):\n",
    "        # One school name was contained in the other\n",
    "        return same_country,same_country,0\n",
    "    else:\n",
    "        max_length =  len(n) if (len(n) > len(o)) else len(o)\n",
    "        relative_diff = float(editdistance.eval(o,n))/max_length\n",
    "\n",
    "        # Then we compute some of our conditions that determine if the strings are similar or not.\n",
    "        similar_ortho = (relative_diff < threshold)\n",
    "        considered_similar = (similar_ortho and same_country)\n",
    "        \n",
    "        return considered_similar,same_country,relative_diff\n",
    "\n",
    "def get_potentially_similar(df_times,df_topUni,threshold):\n",
    "    \"\"\"\n",
    "    Utility function returning a mapping of the School names \n",
    "    in df_times to School names in df_topUni that are considered similar\n",
    "    \n",
    "    @params:\n",
    "    - df_times,df_topUni: the two dataframes between which we wish to match the School Names\n",
    "    \"\"\"\n",
    "    reduced_times = df_times.reset_index()[['country', 'school_name']]\n",
    "    reduced_topUni = df_topUni.reset_index()[['country', 'school_name']]\n",
    "    \n",
    "    # We want a dataframe giving us the country for each school\n",
    "    combined = reduced_times.merge(reduced_topUni,how='outer').set_index('school_name')\n",
    "    \n",
    "    names_times = set(sorted(list(df_times['school_name'].values)))\n",
    "    names_topUni = set(sorted(list(df_topUni['school_name'].values)))\n",
    "    \n",
    "    unmatched_times = list(names_times-names_topUni)\n",
    "    unmatched_topUni = list(names_topUni - names_times)\n",
    "    \n",
    "    scores = []\n",
    "    matching = {}\n",
    "    for name_1 in unmatched_times:\n",
    "        for name_2 in unmatched_topUni:\n",
    "            if(name_1 != name_2):\n",
    "                # we check different conditions\n",
    "                considered_similar,same_country,relative_diff = check_similarity(name_1,name_2,threshold,combined)\n",
    "                if(same_country):\n",
    "                    # We store the score between school names that are part \n",
    "                    # of the same country to be able to explore it by hand later on\n",
    "                    if name_1 not in matching.keys() and name_2 not in matching.values():\n",
    "                        scores.append({\"name_times\":name_1,\"name_topUni\":name_2,\"score\":relative_diff})\n",
    "                \n",
    "                if(considered_similar):\n",
    "                    # They are similar, we will set name_1 to be replaced by name_2\n",
    "                    matching[name_1] = name_2\n",
    "    \n",
    "    scores_df = pd.DataFrame.from_dict(scores)\n",
    "    return matching,scores_df\n",
    "\n",
    "def make_homogeneous(x,to_homogeneous):\n",
    "    \"\"\"\n",
    "    Returns either the value in to_homogeneous corresponding \n",
    "    to x or x itself if it isn't part of the dictionnary.\n",
    "    \n",
    "    @params:\n",
    "    - x : a school name\n",
    "    - to_homogeneous : the dictionnary of mappings between \n",
    "    school names (see get_potentially_similar)\n",
    "    \"\"\"\n",
    "    if(x in to_homogeneous.keys()): return to_homogeneous[x]\n",
    "    else: return x\n",
    "\n",
    "def match_school_names(df_times,df_topUni,threshold):\n",
    "    \"\"\"\n",
    "    Will modify the school names of df_times to match them when \n",
    "    possible with the school names of df_topUni.\n",
    "    \n",
    "    @params:\n",
    "    - df_times, df_topUni: the dataframes of the two rankings \n",
    "    for which we wish to match the school names.\n",
    "    \"\"\"\n",
    "    matching, scores_df = get_potentially_similar(df_times,df_topUni,threshold)\n",
    "\n",
    "    df_times['school_name'] = df_times['school_name'].apply(make_homogeneous,to_homogeneous = matching)\n",
    "    return matching,scores_df"
   ]
  },
  {
   "cell_type": "code",
   "execution_count": 38,
   "metadata": {},
   "outputs": [
    {
     "name": "stdout",
     "output_type": "stream",
     "text": [
      "Before matching names, we have 116 different school names.\n",
      "After matching names, we have 96 different school names.\n"
     ]
    }
   ],
   "source": [
    "print(\"Before matching names, we have {} different school names.\".format(len(how_different(df_times,df_topUni))))\n",
    "automatic_matching, scores_df = match_school_names(df_times, df_topUni, 0.35)\n",
    "print(\"After matching names, we have {} different school names.\".format(len(how_different(df_times,df_topUni))))"
   ]
  },
  {
   "cell_type": "markdown",
   "metadata": {},
   "source": [
    "The different function described above allowed us to autmatically match 20 more school together. For the rest it also provides us with a similarity score that will help us manually match the last remaining school.\n",
    "\n",
    "A score below 0.35 in our similarity index was leading directly to a matching as we set the treshold value to 0.35 in the function call just above. We set this treshold value using the df output below. As we can see the matching are correct up to this point."
   ]
  },
  {
   "cell_type": "code",
   "execution_count": 39,
   "metadata": {
    "scrolled": true
   },
   "outputs": [
    {
     "data": {
      "text/html": [
       "<div>\n",
       "<style>\n",
       "    .dataframe thead tr:only-child th {\n",
       "        text-align: right;\n",
       "    }\n",
       "\n",
       "    .dataframe thead th {\n",
       "        text-align: left;\n",
       "    }\n",
       "\n",
       "    .dataframe tbody tr th {\n",
       "        vertical-align: top;\n",
       "    }\n",
       "</style>\n",
       "<table border=\"1\" class=\"dataframe\">\n",
       "  <thead>\n",
       "    <tr style=\"text-align: right;\">\n",
       "      <th></th>\n",
       "      <th>name_times</th>\n",
       "      <th>name_topUni</th>\n",
       "      <th>score</th>\n",
       "    </tr>\n",
       "  </thead>\n",
       "  <tbody>\n",
       "    <tr>\n",
       "      <th>51</th>\n",
       "      <td>trinity college dublin</td>\n",
       "      <td>trinity college dublin the university of dublin</td>\n",
       "      <td>0.000000</td>\n",
       "    </tr>\n",
       "    <tr>\n",
       "      <th>101</th>\n",
       "      <td>university of north carolina at chapel hill</td>\n",
       "      <td>university of north carolina chapel hill</td>\n",
       "      <td>0.000000</td>\n",
       "    </tr>\n",
       "    <tr>\n",
       "      <th>110</th>\n",
       "      <td>scuola superiore sant'anna</td>\n",
       "      <td>scuola superiore sant'anna pisa di studi unive...</td>\n",
       "      <td>0.000000</td>\n",
       "    </tr>\n",
       "    <tr>\n",
       "      <th>128</th>\n",
       "      <td>eth zurich  swiss federal institute of technol...</td>\n",
       "      <td>eth zurich  swiss federal institute of technology</td>\n",
       "      <td>0.000000</td>\n",
       "    </tr>\n",
       "    <tr>\n",
       "      <th>19</th>\n",
       "      <td>karlsruhe institute of technology</td>\n",
       "      <td>kit karlsruhe institute of technology</td>\n",
       "      <td>0.000000</td>\n",
       "    </tr>\n",
       "    <tr>\n",
       "      <th>67</th>\n",
       "      <td>wageningen university &amp; research</td>\n",
       "      <td>wageningen university</td>\n",
       "      <td>0.000000</td>\n",
       "    </tr>\n",
       "    <tr>\n",
       "      <th>90</th>\n",
       "      <td>university of montreal</td>\n",
       "      <td>universite de montreal</td>\n",
       "      <td>0.230769</td>\n",
       "    </tr>\n",
       "    <tr>\n",
       "      <th>20</th>\n",
       "      <td>free university of berlin</td>\n",
       "      <td>freie universitaet berlin</td>\n",
       "      <td>0.277778</td>\n",
       "    </tr>\n",
       "    <tr>\n",
       "      <th>73</th>\n",
       "      <td>humboldt university of berlin</td>\n",
       "      <td>humboldt universitat zu berlin</td>\n",
       "      <td>0.285714</td>\n",
       "    </tr>\n",
       "    <tr>\n",
       "      <th>136</th>\n",
       "      <td>technical university of berlin</td>\n",
       "      <td>technische universitat berlin</td>\n",
       "      <td>0.304348</td>\n",
       "    </tr>\n",
       "  </tbody>\n",
       "</table>\n",
       "</div>"
      ],
      "text/plain": [
       "                                            name_times  \\\n",
       "51                              trinity college dublin   \n",
       "101        university of north carolina at chapel hill   \n",
       "110                         scuola superiore sant'anna   \n",
       "128  eth zurich  swiss federal institute of technol...   \n",
       "19                   karlsruhe institute of technology   \n",
       "67                    wageningen university & research   \n",
       "90                              university of montreal   \n",
       "20                           free university of berlin   \n",
       "73                       humboldt university of berlin   \n",
       "136                     technical university of berlin   \n",
       "\n",
       "                                           name_topUni     score  \n",
       "51     trinity college dublin the university of dublin  0.000000  \n",
       "101           university of north carolina chapel hill  0.000000  \n",
       "110  scuola superiore sant'anna pisa di studi unive...  0.000000  \n",
       "128  eth zurich  swiss federal institute of technology  0.000000  \n",
       "19               kit karlsruhe institute of technology  0.000000  \n",
       "67                               wageningen university  0.000000  \n",
       "90                              universite de montreal  0.230769  \n",
       "20                           freie universitaet berlin  0.277778  \n",
       "73                      humboldt universitat zu berlin  0.285714  \n",
       "136                      technische universitat berlin  0.304348  "
      ]
     },
     "execution_count": 39,
     "metadata": {},
     "output_type": "execute_result"
    }
   ],
   "source": [
    "scores_df = scores_df.sort_values('score',ascending=True)\n",
    "scores_df[scores_df['score']<0.35]"
   ]
  },
  {
   "cell_type": "markdown",
   "metadata": {},
   "source": [
    "#### 3.1.3 - Manual Matching <a class=\"anchor\" id=\"3.1.3\"></a>"
   ]
  },
  {
   "cell_type": "markdown",
   "metadata": {},
   "source": [
    "For the remaining university we decided to match them manually if possible using the score provided by our function"
   ]
  },
  {
   "cell_type": "code",
   "execution_count": 40,
   "metadata": {
    "collapsed": true
   },
   "outputs": [],
   "source": [
    "def print_manual_matching(manual_matching):\n",
    "    \"\"\"\n",
    "    Utility function to print the manual matching for later reference by reviewer.\n",
    "    \n",
    "    @params:\n",
    "    - manual_matching: a dict of matching from the times to topUni ranking for school names.\n",
    "    \"\"\"\n",
    "    print(\"\\nWe have matched manually:\")\n",
    "    for n1 in manual_matching.keys():\n",
    "        print(\"   {} --> {}\".format(n1,manual_matching[n1]))\n",
    "    print(\"\")"
   ]
  },
  {
   "cell_type": "code",
   "execution_count": 41,
   "metadata": {
    "collapsed": true
   },
   "outputs": [],
   "source": [
    "def match_manually(path_to_dump,scores_df,automatic_matching):\n",
    "    \"\"\"\n",
    "    Function to match manually the remaining names. \n",
    "    It will either use the dump or will ask the user to choose what names are the same. \n",
    "    It will only propose matching of similar countries and that haven't yet been matched \n",
    "    between the two rankings.\n",
    "    \n",
    "    @params:\n",
    "    - path_to_dump: relative path where the backup is located or where it should be saved \n",
    "    if it hasn't yet been created\n",
    "    - scores_df: the dataframe containing the pairs of names from the two rankings as well \n",
    "    as the pair scores only for pairs of the same country (as produced by match_school_names)\n",
    "    - automatic_matching: dict matching times with topUni that has already been produced by automatic method\n",
    "    \"\"\"\n",
    "    if(os.path.isfile(path_to_dump)):\n",
    "        manual_matching = pickle.load(open(path_to_dump,\"rb\"))\n",
    "    \n",
    "    else:\n",
    "        # this cell helped us perform efficiently the manual matching of the remaining universities:\n",
    "        for i, name_times in enumerate(scores_df[scores_df['score']>=0.35].name_times.unique()):\n",
    "            progress(i, len(scores_df[scores_df['score']>=0.35].name_times.unique()), 'Matching School Name')\n",
    "            print()\n",
    "            if name_times not in automatic_matching.keys():\n",
    "                print('does \"{}\" match with ? \\n'.format(name_times))\n",
    "                current_name_df = scores_df[scores_df['score']>=0.35].query('name_times == @name_times').reset_index()\n",
    "                possible_choice = 0\n",
    "                for index, row in current_name_df.iterrows():\n",
    "                    if row.name_topUni not in automatic_matching.values():\n",
    "                        print('{}. {} (score: {})'.format(index+1, row.name_topUni, round(row.score, 3)))\n",
    "                        possible_choice += 1\n",
    "                print('0. none of the above')\n",
    "                time.sleep(0.2)\n",
    "                r = 0\n",
    "                if possible_choice > 0:\n",
    "                    r = int(input())\n",
    "                if r > 0:\n",
    "                    matched_country =  current_name_df.loc[r-1].name_topUni\n",
    "                    automatic_matching[name_times] = matched_country\n",
    "                    manual_matching[name_times] = matched_country\n",
    "                    tmp = \"{} --> {}\\n\".format(name_times,current_name_df.loc[r-1].name_topUni)\n",
    "                    result += tmp\n",
    "            clear_output()\n",
    "\n",
    "        progress(100, 100, 'Done matching manually')\n",
    "        pickle.dump(manual_matching,open(path_to_dump,\"wb\"))\n",
    "        \n",
    "    df_times['school_name'] = df_times['school_name'].apply(make_homogeneous,to_homogeneous = manual_matching)\n",
    "    print_manual_matching(manual_matching)\n",
    "    return automatic_matching"
   ]
  },
  {
   "cell_type": "code",
   "execution_count": 42,
   "metadata": {},
   "outputs": [
    {
     "name": "stdout",
     "output_type": "stream",
     "text": [
      "Before manually matching names, we have 96 different school names.\n",
      "\n",
      "We have matched manually:\n",
      "   pierre and marie curie university --> universite pierre et marie curie\n",
      "   heidelberg university --> ruprecht karls universitat heidelberg\n",
      "   autonomous university of barcelona --> universidad autonoma de madrid\n",
      "   university of freiburg --> albert ludwigs universitaet freiburg\n",
      "   university of tubingen --> eberhard karls universitat tubingen\n",
      "   korea advanced institute of science and technology --> kaist  korea advanced institute of science & technology\n",
      "   university college london --> ucl\n",
      "   lmu munich --> ludwig maximilians universitat munchen\n",
      "\n",
      "After manually matching names, we have 80 different school names.\n"
     ]
    }
   ],
   "source": [
    "# after manual matching we can now perform the matching on the df and check how we improved\n",
    "print(\"Before manually matching names, we have {} different school names.\".format(len(how_different(df_times,df_topUni))))\n",
    "complete_matching = match_manually('matching_backup',scores_df,automatic_matching)\n",
    "print(\"After manually matching names, we have {} different school names.\".format(len(how_different(df_times,df_topUni))))"
   ]
  },
  {
   "cell_type": "markdown",
   "metadata": {},
   "source": [
    "This step allowed us to match 16 more universities."
   ]
  },
  {
   "cell_type": "markdown",
   "metadata": {},
   "source": [
    "### 3.2 - Merging <a class=\"anchor\" id=\"3.2\"></a>"
   ]
  },
  {
   "cell_type": "markdown",
   "metadata": {},
   "source": [
    "Now that we have only so few different names we can consider that the rest are really different from the two rankings. Indeed we have performed all the matching that we could. We merge the two dataframes based on 'School Name' (using a inner join to discard the names that are not in both tables), we add suffixes to columns of both frames to be able to combine them later on."
   ]
  },
  {
   "cell_type": "code",
   "execution_count": 43,
   "metadata": {},
   "outputs": [
    {
     "data": {
      "text/html": [
       "<div>\n",
       "<style>\n",
       "    .dataframe thead tr:only-child th {\n",
       "        text-align: right;\n",
       "    }\n",
       "\n",
       "    .dataframe thead th {\n",
       "        text-align: left;\n",
       "    }\n",
       "\n",
       "    .dataframe tbody tr th {\n",
       "        vertical-align: top;\n",
       "    }\n",
       "</style>\n",
       "<table border=\"1\" class=\"dataframe\">\n",
       "  <thead>\n",
       "    <tr style=\"text-align: right;\">\n",
       "      <th></th>\n",
       "      <th>rank_topUni</th>\n",
       "      <th>school_name</th>\n",
       "      <th>total_staff_topUni</th>\n",
       "      <th>international_staff</th>\n",
       "      <th>total_student_topUni</th>\n",
       "      <th>international_student_topUni</th>\n",
       "      <th>country_topUni</th>\n",
       "      <th>region_topUni</th>\n",
       "      <th>fac_stud_ratio_topUni</th>\n",
       "      <th>international_ratio_topUni</th>\n",
       "      <th>rank_times</th>\n",
       "      <th>total_staff_times</th>\n",
       "      <th>total_student_times</th>\n",
       "      <th>international_student_times</th>\n",
       "      <th>country_times</th>\n",
       "      <th>region_times</th>\n",
       "      <th>fac_stud_ratio_times</th>\n",
       "      <th>international_ratio_times</th>\n",
       "    </tr>\n",
       "  </thead>\n",
       "  <tbody>\n",
       "    <tr>\n",
       "      <th>0</th>\n",
       "      <td>1</td>\n",
       "      <td>massachusetts institute of technology</td>\n",
       "      <td>2982.0</td>\n",
       "      <td>1679.0</td>\n",
       "      <td>11067.0</td>\n",
       "      <td>3717.0</td>\n",
       "      <td>United States</td>\n",
       "      <td>North America</td>\n",
       "      <td>0.269450</td>\n",
       "      <td>0.335863</td>\n",
       "      <td>5</td>\n",
       "      <td>1285</td>\n",
       "      <td>11177</td>\n",
       "      <td>3800</td>\n",
       "      <td>United States</td>\n",
       "      <td>Northern America</td>\n",
       "      <td>0.114968</td>\n",
       "      <td>0.339984</td>\n",
       "    </tr>\n",
       "    <tr>\n",
       "      <th>1</th>\n",
       "      <td>2</td>\n",
       "      <td>stanford university</td>\n",
       "      <td>4285.0</td>\n",
       "      <td>2042.0</td>\n",
       "      <td>15878.0</td>\n",
       "      <td>3611.0</td>\n",
       "      <td>United States</td>\n",
       "      <td>North America</td>\n",
       "      <td>0.269870</td>\n",
       "      <td>0.227422</td>\n",
       "      <td>3</td>\n",
       "      <td>2113</td>\n",
       "      <td>15845</td>\n",
       "      <td>3486</td>\n",
       "      <td>United States</td>\n",
       "      <td>Northern America</td>\n",
       "      <td>0.133354</td>\n",
       "      <td>0.220006</td>\n",
       "    </tr>\n",
       "    <tr>\n",
       "      <th>2</th>\n",
       "      <td>3</td>\n",
       "      <td>harvard university</td>\n",
       "      <td>4350.0</td>\n",
       "      <td>1311.0</td>\n",
       "      <td>22429.0</td>\n",
       "      <td>5266.0</td>\n",
       "      <td>United States</td>\n",
       "      <td>North America</td>\n",
       "      <td>0.193945</td>\n",
       "      <td>0.234785</td>\n",
       "      <td>6</td>\n",
       "      <td>2284</td>\n",
       "      <td>20326</td>\n",
       "      <td>5285</td>\n",
       "      <td>United States</td>\n",
       "      <td>Northern America</td>\n",
       "      <td>0.112368</td>\n",
       "      <td>0.260012</td>\n",
       "    </tr>\n",
       "    <tr>\n",
       "      <th>3</th>\n",
       "      <td>4</td>\n",
       "      <td>california institute of technology</td>\n",
       "      <td>953.0</td>\n",
       "      <td>350.0</td>\n",
       "      <td>2255.0</td>\n",
       "      <td>647.0</td>\n",
       "      <td>United States</td>\n",
       "      <td>North America</td>\n",
       "      <td>0.422616</td>\n",
       "      <td>0.286918</td>\n",
       "      <td>3</td>\n",
       "      <td>340</td>\n",
       "      <td>2209</td>\n",
       "      <td>596</td>\n",
       "      <td>United States</td>\n",
       "      <td>Northern America</td>\n",
       "      <td>0.153916</td>\n",
       "      <td>0.269805</td>\n",
       "    </tr>\n",
       "    <tr>\n",
       "      <th>4</th>\n",
       "      <td>5</td>\n",
       "      <td>university of cambridge</td>\n",
       "      <td>5490.0</td>\n",
       "      <td>2278.0</td>\n",
       "      <td>18770.0</td>\n",
       "      <td>6699.0</td>\n",
       "      <td>United Kingdom</td>\n",
       "      <td>Europe</td>\n",
       "      <td>0.292488</td>\n",
       "      <td>0.356899</td>\n",
       "      <td>2</td>\n",
       "      <td>1687</td>\n",
       "      <td>18389</td>\n",
       "      <td>6436</td>\n",
       "      <td>United Kingdom</td>\n",
       "      <td>Europe</td>\n",
       "      <td>0.091740</td>\n",
       "      <td>0.349992</td>\n",
       "    </tr>\n",
       "  </tbody>\n",
       "</table>\n",
       "</div>"
      ],
      "text/plain": [
       "  rank_topUni                            school_name  total_staff_topUni  \\\n",
       "0           1  massachusetts institute of technology              2982.0   \n",
       "1           2                    stanford university              4285.0   \n",
       "2           3                     harvard university              4350.0   \n",
       "3           4     california institute of technology               953.0   \n",
       "4           5                university of cambridge              5490.0   \n",
       "\n",
       "   international_staff  total_student_topUni  international_student_topUni  \\\n",
       "0               1679.0               11067.0                        3717.0   \n",
       "1               2042.0               15878.0                        3611.0   \n",
       "2               1311.0               22429.0                        5266.0   \n",
       "3                350.0                2255.0                         647.0   \n",
       "4               2278.0               18770.0                        6699.0   \n",
       "\n",
       "   country_topUni  region_topUni  fac_stud_ratio_topUni  \\\n",
       "0   United States  North America               0.269450   \n",
       "1   United States  North America               0.269870   \n",
       "2   United States  North America               0.193945   \n",
       "3   United States  North America               0.422616   \n",
       "4  United Kingdom         Europe               0.292488   \n",
       "\n",
       "   international_ratio_topUni rank_times  total_staff_times  \\\n",
       "0                    0.335863          5               1285   \n",
       "1                    0.227422          3               2113   \n",
       "2                    0.234785          6               2284   \n",
       "3                    0.286918          3                340   \n",
       "4                    0.356899          2               1687   \n",
       "\n",
       "   total_student_times  international_student_times   country_times  \\\n",
       "0                11177                         3800   United States   \n",
       "1                15845                         3486   United States   \n",
       "2                20326                         5285   United States   \n",
       "3                 2209                          596   United States   \n",
       "4                18389                         6436  United Kingdom   \n",
       "\n",
       "       region_times  fac_stud_ratio_times  international_ratio_times  \n",
       "0  Northern America              0.114968                   0.339984  \n",
       "1  Northern America              0.133354                   0.220006  \n",
       "2  Northern America              0.112368                   0.260012  \n",
       "3  Northern America              0.153916                   0.269805  \n",
       "4            Europe              0.091740                   0.349992  "
      ]
     },
     "execution_count": 43,
     "metadata": {},
     "output_type": "execute_result"
    }
   ],
   "source": [
    "df_times_to_merge = df_times.reset_index()\n",
    "df_topUni_to_merge = df_topUni.reset_index()\n",
    "merged_df = df_topUni_to_merge.merge(df_times_to_merge,on='school_name',how='inner', suffixes=('_topUni', '_times'))\n",
    "merged_df.head()"
   ]
  },
  {
   "cell_type": "markdown",
   "metadata": {},
   "source": [
    "Now because we don't know what ranking to believe in terms of :\n",
    "* International Students\n",
    "* Total Students\n",
    "* Total Staff\n",
    "\n",
    "We decided to take the mean of the values given by both in the combined dataframe. If we were to trust more one ranking than the other we could use a weighted average."
   ]
  },
  {
   "cell_type": "code",
   "execution_count": 44,
   "metadata": {
    "collapsed": true
   },
   "outputs": [],
   "source": [
    "def avg_col(x,name_col_1,name_col_2):\n",
    "    \"\"\"\n",
    "    Will return the average of two columns of a dataframe ignoring NaN values.\n",
    "    \n",
    "    @params:\n",
    "    - x : dataframe in which the columns are.\n",
    "    - name_col_1,name_col_2 : the name of the two columns we wish to aggregate.\n",
    "    \"\"\"\n",
    "    if pd.isnull(x[name_col_1]) and pd.isnull(x[name_col_2]):\n",
    "        print(\"Houston we have a problem !\")\n",
    "    if pd.isnull(x[name_col_1]):\n",
    "        return x[name_col_2]\n",
    "    elif pd.isnull(x[name_col_2]):\n",
    "        return x[name_col_1]\n",
    "    else: return (x[name_col_1]+x[name_col_2])/2"
   ]
  },
  {
   "cell_type": "code",
   "execution_count": 45,
   "metadata": {},
   "outputs": [
    {
     "data": {
      "text/html": [
       "<div>\n",
       "<style>\n",
       "    .dataframe thead tr:only-child th {\n",
       "        text-align: right;\n",
       "    }\n",
       "\n",
       "    .dataframe thead th {\n",
       "        text-align: left;\n",
       "    }\n",
       "\n",
       "    .dataframe tbody tr th {\n",
       "        vertical-align: top;\n",
       "    }\n",
       "</style>\n",
       "<table border=\"1\" class=\"dataframe\">\n",
       "  <thead>\n",
       "    <tr style=\"text-align: right;\">\n",
       "      <th></th>\n",
       "      <th>rank_topUni</th>\n",
       "      <th>rank_times</th>\n",
       "      <th>total_staff</th>\n",
       "      <th>international_staff</th>\n",
       "      <th>total_student</th>\n",
       "      <th>international_student</th>\n",
       "      <th>country</th>\n",
       "      <th>region</th>\n",
       "    </tr>\n",
       "    <tr>\n",
       "      <th>school_name</th>\n",
       "      <th></th>\n",
       "      <th></th>\n",
       "      <th></th>\n",
       "      <th></th>\n",
       "      <th></th>\n",
       "      <th></th>\n",
       "      <th></th>\n",
       "      <th></th>\n",
       "    </tr>\n",
       "  </thead>\n",
       "  <tbody>\n",
       "    <tr>\n",
       "      <th>massachusetts institute of technology</th>\n",
       "      <td>1</td>\n",
       "      <td>5</td>\n",
       "      <td>2133.5</td>\n",
       "      <td>1679.0</td>\n",
       "      <td>11122.0</td>\n",
       "      <td>3758.5</td>\n",
       "      <td>United States</td>\n",
       "      <td>North America</td>\n",
       "    </tr>\n",
       "    <tr>\n",
       "      <th>stanford university</th>\n",
       "      <td>2</td>\n",
       "      <td>3</td>\n",
       "      <td>3199.0</td>\n",
       "      <td>2042.0</td>\n",
       "      <td>15861.5</td>\n",
       "      <td>3548.5</td>\n",
       "      <td>United States</td>\n",
       "      <td>North America</td>\n",
       "    </tr>\n",
       "    <tr>\n",
       "      <th>harvard university</th>\n",
       "      <td>3</td>\n",
       "      <td>6</td>\n",
       "      <td>3317.0</td>\n",
       "      <td>1311.0</td>\n",
       "      <td>21377.5</td>\n",
       "      <td>5275.5</td>\n",
       "      <td>United States</td>\n",
       "      <td>North America</td>\n",
       "    </tr>\n",
       "    <tr>\n",
       "      <th>california institute of technology</th>\n",
       "      <td>4</td>\n",
       "      <td>3</td>\n",
       "      <td>646.5</td>\n",
       "      <td>350.0</td>\n",
       "      <td>2232.0</td>\n",
       "      <td>621.5</td>\n",
       "      <td>United States</td>\n",
       "      <td>North America</td>\n",
       "    </tr>\n",
       "    <tr>\n",
       "      <th>university of cambridge</th>\n",
       "      <td>5</td>\n",
       "      <td>2</td>\n",
       "      <td>3588.5</td>\n",
       "      <td>2278.0</td>\n",
       "      <td>18579.5</td>\n",
       "      <td>6567.5</td>\n",
       "      <td>United Kingdom</td>\n",
       "      <td>Europe</td>\n",
       "    </tr>\n",
       "  </tbody>\n",
       "</table>\n",
       "</div>"
      ],
      "text/plain": [
       "                                      rank_topUni rank_times  total_staff  \\\n",
       "school_name                                                                 \n",
       "massachusetts institute of technology           1          5       2133.5   \n",
       "stanford university                             2          3       3199.0   \n",
       "harvard university                              3          6       3317.0   \n",
       "california institute of technology              4          3        646.5   \n",
       "university of cambridge                         5          2       3588.5   \n",
       "\n",
       "                                       international_staff  total_student  \\\n",
       "school_name                                                                 \n",
       "massachusetts institute of technology               1679.0        11122.0   \n",
       "stanford university                                 2042.0        15861.5   \n",
       "harvard university                                  1311.0        21377.5   \n",
       "california institute of technology                   350.0         2232.0   \n",
       "university of cambridge                             2278.0        18579.5   \n",
       "\n",
       "                                       international_student         country  \\\n",
       "school_name                                                                    \n",
       "massachusetts institute of technology                 3758.5   United States   \n",
       "stanford university                                   3548.5   United States   \n",
       "harvard university                                    5275.5   United States   \n",
       "california institute of technology                     621.5   United States   \n",
       "university of cambridge                               6567.5  United Kingdom   \n",
       "\n",
       "                                              region  \n",
       "school_name                                           \n",
       "massachusetts institute of technology  North America  \n",
       "stanford university                    North America  \n",
       "harvard university                     North America  \n",
       "california institute of technology     North America  \n",
       "university of cambridge                       Europe  "
      ]
     },
     "execution_count": 45,
     "metadata": {},
     "output_type": "execute_result"
    }
   ],
   "source": [
    "# compute average for the different column\n",
    "merged_df['total_staff'] = merged_df.apply(avg_col,name_col_1 ='total_staff_topUni',name_col_2='total_staff_times',axis=1)\n",
    "merged_df['total_student'] = merged_df.apply(avg_col,name_col_1 ='total_student_topUni',name_col_2='total_student_times',axis=1)\n",
    "merged_df['international_student'] = merged_df.apply(avg_col,name_col_1 ='international_student_topUni',name_col_2='international_student_times',axis=1)\n",
    "\n",
    "# order, select, and rename relevant columns\n",
    "merged_df = merged_df[['rank_topUni','rank_times','total_staff','international_staff','total_student','international_student','country_times','region_topUni','school_name']]\n",
    "merged_df = merged_df.set_index('school_name')\n",
    "merged_df.rename(columns={'country_times':'country', 'region_topUni':'region'}, inplace=True)\n",
    "\n",
    "merged_df.head()"
   ]
  },
  {
   "cell_type": "markdown",
   "metadata": {},
   "source": [
    "### 4 - Exploratory analysis <a class=\"anchor\" id=\"4\"></a>\n"
   ]
  },
  {
   "cell_type": "markdown",
   "metadata": {},
   "source": [
    "To perform a relevant exploratory analysis, we start by watching our data frame to see if some correlation between any pair of variables could be evaluated to create a smart analysis. "
   ]
  },
  {
   "cell_type": "code",
   "execution_count": 84,
   "metadata": {},
   "outputs": [
    {
     "data": {
      "text/html": [
       "<div>\n",
       "<style>\n",
       "    .dataframe thead tr:only-child th {\n",
       "        text-align: right;\n",
       "    }\n",
       "\n",
       "    .dataframe thead th {\n",
       "        text-align: left;\n",
       "    }\n",
       "\n",
       "    .dataframe tbody tr th {\n",
       "        vertical-align: top;\n",
       "    }\n",
       "</style>\n",
       "<table border=\"1\" class=\"dataframe\">\n",
       "  <thead>\n",
       "    <tr style=\"text-align: right;\">\n",
       "      <th></th>\n",
       "      <th>rank_topUni</th>\n",
       "      <th>rank_times</th>\n",
       "      <th>total_staff</th>\n",
       "      <th>international_staff</th>\n",
       "      <th>total_student</th>\n",
       "      <th>international_student</th>\n",
       "      <th>country</th>\n",
       "      <th>region</th>\n",
       "      <th>ratio_total</th>\n",
       "      <th>ratio_student</th>\n",
       "      <th>ratio_staff</th>\n",
       "      <th>staff</th>\n",
       "      <th>students</th>\n",
       "    </tr>\n",
       "    <tr>\n",
       "      <th>school_name</th>\n",
       "      <th></th>\n",
       "      <th></th>\n",
       "      <th></th>\n",
       "      <th></th>\n",
       "      <th></th>\n",
       "      <th></th>\n",
       "      <th></th>\n",
       "      <th></th>\n",
       "      <th></th>\n",
       "      <th></th>\n",
       "      <th></th>\n",
       "      <th></th>\n",
       "      <th></th>\n",
       "    </tr>\n",
       "  </thead>\n",
       "  <tbody>\n",
       "    <tr>\n",
       "      <th>massachusetts institute of technology</th>\n",
       "      <td>1</td>\n",
       "      <td>5</td>\n",
       "      <td>2133.5</td>\n",
       "      <td>1679.0</td>\n",
       "      <td>11122.0</td>\n",
       "      <td>3758.5</td>\n",
       "      <td>United States</td>\n",
       "      <td>North America</td>\n",
       "      <td>41.02</td>\n",
       "      <td>33.79</td>\n",
       "      <td>78.70</td>\n",
       "      <td>(1840.0, 2720.0]</td>\n",
       "      <td>(8960.0, 17840.0]</td>\n",
       "    </tr>\n",
       "    <tr>\n",
       "      <th>stanford university</th>\n",
       "      <td>2</td>\n",
       "      <td>3</td>\n",
       "      <td>3199.0</td>\n",
       "      <td>2042.0</td>\n",
       "      <td>15861.5</td>\n",
       "      <td>3548.5</td>\n",
       "      <td>United States</td>\n",
       "      <td>North America</td>\n",
       "      <td>29.33</td>\n",
       "      <td>22.37</td>\n",
       "      <td>63.83</td>\n",
       "      <td>(2720.0, 3600.0]</td>\n",
       "      <td>(8960.0, 17840.0]</td>\n",
       "    </tr>\n",
       "    <tr>\n",
       "      <th>harvard university</th>\n",
       "      <td>3</td>\n",
       "      <td>6</td>\n",
       "      <td>3317.0</td>\n",
       "      <td>1311.0</td>\n",
       "      <td>21377.5</td>\n",
       "      <td>5275.5</td>\n",
       "      <td>United States</td>\n",
       "      <td>North America</td>\n",
       "      <td>26.67</td>\n",
       "      <td>24.68</td>\n",
       "      <td>39.52</td>\n",
       "      <td>(2720.0, 3600.0]</td>\n",
       "      <td>(17840.0, 26720.0]</td>\n",
       "    </tr>\n",
       "    <tr>\n",
       "      <th>california institute of technology</th>\n",
       "      <td>4</td>\n",
       "      <td>3</td>\n",
       "      <td>646.5</td>\n",
       "      <td>350.0</td>\n",
       "      <td>2232.0</td>\n",
       "      <td>621.5</td>\n",
       "      <td>United States</td>\n",
       "      <td>North America</td>\n",
       "      <td>33.75</td>\n",
       "      <td>27.84</td>\n",
       "      <td>54.14</td>\n",
       "      <td>(80.0, 960.0]</td>\n",
       "      <td>(80.0, 8960.0]</td>\n",
       "    </tr>\n",
       "    <tr>\n",
       "      <th>university of cambridge</th>\n",
       "      <td>5</td>\n",
       "      <td>2</td>\n",
       "      <td>3588.5</td>\n",
       "      <td>2278.0</td>\n",
       "      <td>18579.5</td>\n",
       "      <td>6567.5</td>\n",
       "      <td>United Kingdom</td>\n",
       "      <td>Europe</td>\n",
       "      <td>39.90</td>\n",
       "      <td>35.35</td>\n",
       "      <td>63.48</td>\n",
       "      <td>(2720.0, 3600.0]</td>\n",
       "      <td>(17840.0, 26720.0]</td>\n",
       "    </tr>\n",
       "  </tbody>\n",
       "</table>\n",
       "</div>"
      ],
      "text/plain": [
       "                                      rank_topUni rank_times  total_staff  \\\n",
       "school_name                                                                 \n",
       "massachusetts institute of technology           1          5       2133.5   \n",
       "stanford university                             2          3       3199.0   \n",
       "harvard university                              3          6       3317.0   \n",
       "california institute of technology              4          3        646.5   \n",
       "university of cambridge                         5          2       3588.5   \n",
       "\n",
       "                                       international_staff  total_student  \\\n",
       "school_name                                                                 \n",
       "massachusetts institute of technology               1679.0        11122.0   \n",
       "stanford university                                 2042.0        15861.5   \n",
       "harvard university                                  1311.0        21377.5   \n",
       "california institute of technology                   350.0         2232.0   \n",
       "university of cambridge                             2278.0        18579.5   \n",
       "\n",
       "                                       international_student         country  \\\n",
       "school_name                                                                    \n",
       "massachusetts institute of technology                 3758.5   United States   \n",
       "stanford university                                   3548.5   United States   \n",
       "harvard university                                    5275.5   United States   \n",
       "california institute of technology                     621.5   United States   \n",
       "university of cambridge                               6567.5  United Kingdom   \n",
       "\n",
       "                                              region  ratio_total  \\\n",
       "school_name                                                         \n",
       "massachusetts institute of technology  North America        41.02   \n",
       "stanford university                    North America        29.33   \n",
       "harvard university                     North America        26.67   \n",
       "california institute of technology     North America        33.75   \n",
       "university of cambridge                       Europe        39.90   \n",
       "\n",
       "                                       ratio_student  ratio_staff  \\\n",
       "school_name                                                         \n",
       "massachusetts institute of technology          33.79        78.70   \n",
       "stanford university                            22.37        63.83   \n",
       "harvard university                             24.68        39.52   \n",
       "california institute of technology             27.84        54.14   \n",
       "university of cambridge                        35.35        63.48   \n",
       "\n",
       "                                                  staff            students  \n",
       "school_name                                                                  \n",
       "massachusetts institute of technology  (1840.0, 2720.0]   (8960.0, 17840.0]  \n",
       "stanford university                    (2720.0, 3600.0]   (8960.0, 17840.0]  \n",
       "harvard university                     (2720.0, 3600.0]  (17840.0, 26720.0]  \n",
       "california institute of technology        (80.0, 960.0]      (80.0, 8960.0]  \n",
       "university of cambridge                (2720.0, 3600.0]  (17840.0, 26720.0]  "
      ]
     },
     "execution_count": 84,
     "metadata": {},
     "output_type": "execute_result"
    }
   ],
   "source": [
    "merged_df.head()"
   ]
  },
  {
   "cell_type": "markdown",
   "metadata": {},
   "source": [
    "We choose to perform these exploratory analysis : \n",
    "* [4.1 - Does university size influence internationality rate ?](#4.1)\n",
    "* [4.2 - Does university size influence ranking ?](#4.2)\n",
    "* [4.3 - Are european universities more international than other regions ?](#4.3)\n",
    "* [4.4 - Do english speaking countries get more international students than others ?](#4.4)\n",
    "* [4.5 - Do international students influence ranking ?](#4.5)"
   ]
  },
  {
   "cell_type": "markdown",
   "metadata": {},
   "source": [
    "### 4.1 - Does university size influence internationality rate ? <a class=\"anchor\" id=\"4.1\"></a>"
   ]
  },
  {
   "cell_type": "markdown",
   "metadata": {},
   "source": [
    "We have seen in the merged dateframe that the size between universities is very different. International student and staff may be attracted by big universities. We want to perform a data analysis for this assumption. "
   ]
  },
  {
   "cell_type": "markdown",
   "metadata": {},
   "source": [
    "We first calculate our indicator of internationality rate for each universities. We calculate the ratio for the total (student + staff), and for both separately."
   ]
  },
  {
   "cell_type": "code",
   "execution_count": 85,
   "metadata": {
    "collapsed": true
   },
   "outputs": [],
   "source": [
    "inter_dimension = merged_df\n",
    "inter_dimension['ratio_total'] = round(100*(inter_dimension['international_student']+inter_dimension['international_staff'])/(inter_dimension['total_student']+inter_dimension['total_staff']),2)\n",
    "inter_dimension['ratio_student'] = round(100*(inter_dimension['international_student'])/(inter_dimension['total_student']),2)\n",
    "inter_dimension['ratio_staff'] = round(100*(inter_dimension['international_staff'])/(inter_dimension['total_staff']),2)"
   ]
  },
  {
   "cell_type": "markdown",
   "metadata": {},
   "source": [
    "For the total percentage (including staff and students), we drop the rows where ratio_total is NaN and sort the table by ratio_total. "
   ]
  },
  {
   "cell_type": "code",
   "execution_count": 86,
   "metadata": {
    "scrolled": true
   },
   "outputs": [
    {
     "data": {
      "text/html": [
       "<div>\n",
       "<style>\n",
       "    .dataframe thead tr:only-child th {\n",
       "        text-align: right;\n",
       "    }\n",
       "\n",
       "    .dataframe thead th {\n",
       "        text-align: left;\n",
       "    }\n",
       "\n",
       "    .dataframe tbody tr th {\n",
       "        vertical-align: top;\n",
       "    }\n",
       "</style>\n",
       "<table border=\"1\" class=\"dataframe\">\n",
       "  <thead>\n",
       "    <tr style=\"text-align: right;\">\n",
       "      <th></th>\n",
       "      <th>ratio_total</th>\n",
       "      <th>total_staff</th>\n",
       "      <th>total_student</th>\n",
       "    </tr>\n",
       "    <tr>\n",
       "      <th>school_name</th>\n",
       "      <th></th>\n",
       "      <th></th>\n",
       "      <th></th>\n",
       "    </tr>\n",
       "  </thead>\n",
       "  <tbody>\n",
       "    <tr>\n",
       "      <th>london school of economics and political science</th>\n",
       "      <td>70.24</td>\n",
       "      <td>956.5</td>\n",
       "      <td>9912.5</td>\n",
       "    </tr>\n",
       "    <tr>\n",
       "      <th>ecole polytechnique federale de lausanne</th>\n",
       "      <td>61.07</td>\n",
       "      <td>1290.5</td>\n",
       "      <td>10135.5</td>\n",
       "    </tr>\n",
       "    <tr>\n",
       "      <th>imperial college london</th>\n",
       "      <td>57.98</td>\n",
       "      <td>2660.5</td>\n",
       "      <td>15973.5</td>\n",
       "    </tr>\n",
       "    <tr>\n",
       "      <th>maastricht university</th>\n",
       "      <td>49.84</td>\n",
       "      <td>1103.0</td>\n",
       "      <td>16556.0</td>\n",
       "    </tr>\n",
       "    <tr>\n",
       "      <th>ucl</th>\n",
       "      <td>49.30</td>\n",
       "      <td>4615.5</td>\n",
       "      <td>30692.0</td>\n",
       "    </tr>\n",
       "  </tbody>\n",
       "</table>\n",
       "</div>"
      ],
      "text/plain": [
       "                                                  ratio_total  total_staff  \\\n",
       "school_name                                                                  \n",
       "london school of economics and political science        70.24        956.5   \n",
       "ecole polytechnique federale de lausanne                61.07       1290.5   \n",
       "imperial college london                                 57.98       2660.5   \n",
       "maastricht university                                   49.84       1103.0   \n",
       "ucl                                                     49.30       4615.5   \n",
       "\n",
       "                                                  total_student  \n",
       "school_name                                                      \n",
       "london school of economics and political science         9912.5  \n",
       "ecole polytechnique federale de lausanne                10135.5  \n",
       "imperial college london                                 15973.5  \n",
       "maastricht university                                   16556.0  \n",
       "ucl                                                     30692.0  "
      ]
     },
     "execution_count": 86,
     "metadata": {},
     "output_type": "execute_result"
    }
   ],
   "source": [
    "inter_total = inter_dimension[np.isfinite(inter_dimension['ratio_total'])].sort_values('ratio_total',ascending=False)\n",
    "inter_total[['ratio_total', 'total_staff', 'total_student']].head()"
   ]
  },
  {
   "cell_type": "markdown",
   "metadata": {},
   "source": [
    "We create intervals to cluster the data in different discret groups."
   ]
  },
  {
   "cell_type": "code",
   "execution_count": 87,
   "metadata": {
    "collapsed": true
   },
   "outputs": [],
   "source": [
    "inter_dimension['total_staff'].describe()\n",
    "cut_staff = np.linspace(80, 8000, num=10)\n",
    "\n",
    "inter_dimension['total_student'].describe()\n",
    "cut_student = np.linspace(80, 80000, num=10)\n",
    "\n",
    "inter_dimension['staff'] = pd.cut(inter_dimension['total_staff'], cut_staff)\n",
    "inter_dimension['students'] = pd.cut(inter_dimension['total_student'], cut_student)"
   ]
  },
  {
   "cell_type": "markdown",
   "metadata": {},
   "source": [
    "We create a heatmap table in order to see if staff number or students number of an university influence the international percentage."
   ]
  },
  {
   "cell_type": "code",
   "execution_count": 88,
   "metadata": {},
   "outputs": [
    {
     "data": {
      "text/plain": [
       "<matplotlib.axes._subplots.AxesSubplot at 0x11e1a0630>"
      ]
     },
     "execution_count": 88,
     "metadata": {},
     "output_type": "execute_result"
    },
    {
     "data": {
      "image/png": "[encoded data removed]",
      "text/plain": [
       "<matplotlib.figure.Figure at 0x11df22c88>"
      ]
     },
     "metadata": {},
     "output_type": "display_data"
    }
   ],
   "source": [
    "heat_map = inter_dimension.pivot_table(index='staff', columns='students', values='ratio_total', aggfunc=np.mean)\n",
    "sns.set()\n",
    "f, ax = plt.subplots(figsize=(14, 6))\n",
    "sns.heatmap(heat_map, annot=True, linewidths=0.1, ax=ax, cmap=\"YlGnBu\")"
   ]
  },
  {
   "cell_type": "markdown",
   "metadata": {},
   "source": [
    "We cannot draw real conclusions from this heatmap. The international percentage seem to be higher when the school size is small. There are an exceptions in the biggest university."
   ]
  },
  {
   "cell_type": "markdown",
   "metadata": {},
   "source": [
    "In order to have a better understanding, we decide to see the impacts of school size, separately in term of student and staff separately, on internationality ratio."
   ]
  },
  {
   "cell_type": "code",
   "execution_count": 105,
   "metadata": {
    "scrolled": true
   },
   "outputs": [
    {
     "data": {
      "text/plain": [
       "<seaborn.axisgrid.JointGrid at 0x12005bd68>"
      ]
     },
     "execution_count": 105,
     "metadata": {},
     "output_type": "execute_result"
    },
    {
     "data": {
      "image/png": "[encoded data removed]",
      "text/plain": [
       "<matplotlib.figure.Figure at 0x12005bd30>"
      ]
     },
     "metadata": {},
     "output_type": "display_data"
    }
   ],
   "source": [
    "sns.set(style=\"darkgrid\", color_codes=True)\n",
    "sns.jointplot(\"total_student\", \"ratio_student\", data=inter_total, kind=\"reg\", size=5)"
   ]
  },
  {
   "cell_type": "code",
   "execution_count": 90,
   "metadata": {},
   "outputs": [
    {
     "data": {
      "text/plain": [
       "<seaborn.axisgrid.JointGrid at 0x11e4a6ba8>"
      ]
     },
     "execution_count": 90,
     "metadata": {},
     "output_type": "execute_result"
    },
    {
     "data": {
      "image/png": "[encoded data removed]",
      "text/plain": [
       "<matplotlib.figure.Figure at 0x11e4a6358>"
      ]
     },
     "metadata": {},
     "output_type": "display_data"
    }
   ],
   "source": [
    "sns.set(style=\"darkgrid\", color_codes=True)\n",
    "sns.jointplot(\"total_staff\", \"ratio_staff\", data=inter_total, kind=\"reg\", size=6)"
   ]
  },
  {
   "cell_type": "markdown",
   "metadata": {},
   "source": [
    "Our each figures we have display a regression line. These analysis show us that small universities have in average a bigger internationality rate than the big universities."
   ]
  },
  {
   "cell_type": "markdown",
   "metadata": {},
   "source": [
    "### 4.2 - Does university size influence ranking ? <a class=\"anchor\" id=\"4.2\"></a>"
   ]
  },
  {
   "cell_type": "markdown",
   "metadata": {},
   "source": [
    "We want to understand now if the university size influence our ranking. In term of university size, we will include students and staff together. "
   ]
  },
  {
   "cell_type": "markdown",
   "metadata": {},
   "source": [
    "We first convert our ranking columns into int format and create the column for total university size."
   ]
  },
  {
   "cell_type": "code",
   "execution_count": 92,
   "metadata": {
    "collapsed": true
   },
   "outputs": [],
   "source": [
    "merged_df['rank_topUni'] = merged_df['rank_topUni'].astype(int)\n",
    "merged_df['rank_times'] = merged_df['rank_times'].astype(int)\n",
    "merged_df['total'] = merged_df['total_student'] + merged_df['total_staff']"
   ]
  },
  {
   "cell_type": "code",
   "execution_count": 93,
   "metadata": {
    "collapsed": true
   },
   "outputs": [],
   "source": [
    "merged_df['total'].describe()\n",
    "cut_total = np.linspace(80, 80000, num=10)\n",
    "merged_df['total_cut'] = pd.cut(merged_df['total'], cut_total)"
   ]
  },
  {
   "cell_type": "code",
   "execution_count": 94,
   "metadata": {},
   "outputs": [
    {
     "data": {
      "text/html": [
       "<div>\n",
       "<style>\n",
       "    .dataframe thead tr:only-child th {\n",
       "        text-align: right;\n",
       "    }\n",
       "\n",
       "    .dataframe thead th {\n",
       "        text-align: left;\n",
       "    }\n",
       "\n",
       "    .dataframe tbody tr th {\n",
       "        vertical-align: top;\n",
       "    }\n",
       "</style>\n",
       "<table border=\"1\" class=\"dataframe\">\n",
       "  <thead>\n",
       "    <tr style=\"text-align: right;\">\n",
       "      <th></th>\n",
       "      <th>rank_times</th>\n",
       "      <th>rank_topUni</th>\n",
       "    </tr>\n",
       "    <tr>\n",
       "      <th>total_cut</th>\n",
       "      <th></th>\n",
       "      <th></th>\n",
       "    </tr>\n",
       "  </thead>\n",
       "  <tbody>\n",
       "    <tr>\n",
       "      <th>(80.0, 8960.0]</th>\n",
       "      <td>127.100000</td>\n",
       "      <td>121.600000</td>\n",
       "    </tr>\n",
       "    <tr>\n",
       "      <th>(8960.0, 17840.0]</th>\n",
       "      <td>93.166667</td>\n",
       "      <td>90.966667</td>\n",
       "    </tr>\n",
       "    <tr>\n",
       "      <th>(17840.0, 26720.0]</th>\n",
       "      <td>76.925000</td>\n",
       "      <td>80.500000</td>\n",
       "    </tr>\n",
       "    <tr>\n",
       "      <th>(26720.0, 35600.0]</th>\n",
       "      <td>96.523810</td>\n",
       "      <td>92.761905</td>\n",
       "    </tr>\n",
       "    <tr>\n",
       "      <th>(35600.0, 44480.0]</th>\n",
       "      <td>72.833333</td>\n",
       "      <td>79.111111</td>\n",
       "    </tr>\n",
       "    <tr>\n",
       "      <th>(44480.0, 53360.0]</th>\n",
       "      <td>66.428571</td>\n",
       "      <td>81.642857</td>\n",
       "    </tr>\n",
       "    <tr>\n",
       "      <th>(53360.0, 62240.0]</th>\n",
       "      <td>74.500000</td>\n",
       "      <td>91.750000</td>\n",
       "    </tr>\n",
       "    <tr>\n",
       "      <th>(62240.0, 71120.0]</th>\n",
       "      <td>56.000000</td>\n",
       "      <td>163.000000</td>\n",
       "    </tr>\n",
       "    <tr>\n",
       "      <th>(71120.0, 80000.0]</th>\n",
       "      <td>22.000000</td>\n",
       "      <td>31.000000</td>\n",
       "    </tr>\n",
       "  </tbody>\n",
       "</table>\n",
       "</div>"
      ],
      "text/plain": [
       "                    rank_times  rank_topUni\n",
       "total_cut                                  \n",
       "(80.0, 8960.0]      127.100000   121.600000\n",
       "(8960.0, 17840.0]    93.166667    90.966667\n",
       "(17840.0, 26720.0]   76.925000    80.500000\n",
       "(26720.0, 35600.0]   96.523810    92.761905\n",
       "(35600.0, 44480.0]   72.833333    79.111111\n",
       "(44480.0, 53360.0]   66.428571    81.642857\n",
       "(53360.0, 62240.0]   74.500000    91.750000\n",
       "(62240.0, 71120.0]   56.000000   163.000000\n",
       "(71120.0, 80000.0]   22.000000    31.000000"
      ]
     },
     "execution_count": 94,
     "metadata": {},
     "output_type": "execute_result"
    }
   ],
   "source": [
    "df = merged_df.pivot_table(index='total_cut', values=['rank_topUni','rank_times'], aggfunc=np.mean)\n",
    "df"
   ]
  },
  {
   "cell_type": "code",
   "execution_count": 95,
   "metadata": {},
   "outputs": [
    {
     "data": {
      "text/plain": [
       "<matplotlib.text.Text at 0x11f3699b0>"
      ]
     },
     "execution_count": 95,
     "metadata": {},
     "output_type": "execute_result"
    },
    {
     "data": {
      "image/png": "[encoded data removed]",
      "text/plain": [
       "<matplotlib.figure.Figure at 0x11eff8f98>"
      ]
     },
     "metadata": {},
     "output_type": "display_data"
    }
   ],
   "source": [
    "df.index = df.index.values.astype(str)\n",
    "f, (ax1, ax2) = plt.subplots(2, 1, figsize=(14, 4), sharex=True)\n",
    "\n",
    "sns.barplot(df.index, df.rank_times.values, palette=\"RdBu_r\", ax=ax1)\n",
    "ax1.set_ylabel(\"Ranking\")\n",
    "ax1.set_title('Times Ranking')\n",
    "\n",
    "sns.barplot(df.index, df.rank_topUni.values, palette=\"RdBu_r\", ax=ax2)\n",
    "ax2.set_ylabel(\"Ranking\")\n",
    "ax2.set_xlabel(\"Size of the university\")\n",
    "ax2.set_title(\"TopUni Ranking\")"
   ]
  },
  {
   "cell_type": "markdown",
   "metadata": {},
   "source": [
    "We conclude that in general, universities that have a big size get better ranking. However, there is an exception for the  Top Universities ranking."
   ]
  },
  {
   "cell_type": "markdown",
   "metadata": {},
   "source": [
    "### 4.3 - Are european universities more international than other regions ?<a class=\"anchor\" id=\"4.3\"></a>"
   ]
  },
  {
   "cell_type": "markdown",
   "metadata": {},
   "source": [
    "The european region is made of a lot of diverse countries with different universities. These universities are close to each other. We assume that for that localization reason, european may get more international people than other. We will perform an analysis to respond to our assumption."
   ]
  },
  {
   "cell_type": "code",
   "execution_count": 96,
   "metadata": {},
   "outputs": [
    {
     "data": {
      "text/html": [
       "<div>\n",
       "<style>\n",
       "    .dataframe thead tr:only-child th {\n",
       "        text-align: right;\n",
       "    }\n",
       "\n",
       "    .dataframe thead th {\n",
       "        text-align: left;\n",
       "    }\n",
       "\n",
       "    .dataframe tbody tr th {\n",
       "        vertical-align: top;\n",
       "    }\n",
       "</style>\n",
       "<table border=\"1\" class=\"dataframe\">\n",
       "  <thead>\n",
       "    <tr style=\"text-align: right;\">\n",
       "      <th></th>\n",
       "      <th>region</th>\n",
       "      <th>ratio_total</th>\n",
       "    </tr>\n",
       "    <tr>\n",
       "      <th>school_name</th>\n",
       "      <th></th>\n",
       "      <th></th>\n",
       "    </tr>\n",
       "  </thead>\n",
       "  <tbody>\n",
       "    <tr>\n",
       "      <th>massachusetts institute of technology</th>\n",
       "      <td>North America</td>\n",
       "      <td>41.02</td>\n",
       "    </tr>\n",
       "    <tr>\n",
       "      <th>stanford university</th>\n",
       "      <td>North America</td>\n",
       "      <td>29.33</td>\n",
       "    </tr>\n",
       "    <tr>\n",
       "      <th>harvard university</th>\n",
       "      <td>North America</td>\n",
       "      <td>26.67</td>\n",
       "    </tr>\n",
       "    <tr>\n",
       "      <th>california institute of technology</th>\n",
       "      <td>North America</td>\n",
       "      <td>33.75</td>\n",
       "    </tr>\n",
       "    <tr>\n",
       "      <th>university of cambridge</th>\n",
       "      <td>Europe</td>\n",
       "      <td>39.90</td>\n",
       "    </tr>\n",
       "  </tbody>\n",
       "</table>\n",
       "</div>"
      ],
      "text/plain": [
       "                                              region  ratio_total\n",
       "school_name                                                      \n",
       "massachusetts institute of technology  North America        41.02\n",
       "stanford university                    North America        29.33\n",
       "harvard university                     North America        26.67\n",
       "california institute of technology     North America        33.75\n",
       "university of cambridge                       Europe        39.90"
      ]
     },
     "execution_count": 96,
     "metadata": {},
     "output_type": "execute_result"
    }
   ],
   "source": [
    "merged_df[['region', 'ratio_total']].head()"
   ]
  },
  {
   "cell_type": "code",
   "execution_count": 97,
   "metadata": {},
   "outputs": [
    {
     "data": {
      "text/html": [
       "<div>\n",
       "<style>\n",
       "    .dataframe thead tr:only-child th {\n",
       "        text-align: right;\n",
       "    }\n",
       "\n",
       "    .dataframe thead th {\n",
       "        text-align: left;\n",
       "    }\n",
       "\n",
       "    .dataframe tbody tr th {\n",
       "        vertical-align: top;\n",
       "    }\n",
       "</style>\n",
       "<table border=\"1\" class=\"dataframe\">\n",
       "  <thead>\n",
       "    <tr style=\"text-align: right;\">\n",
       "      <th></th>\n",
       "      <th>ratio_total</th>\n",
       "    </tr>\n",
       "    <tr>\n",
       "      <th>region</th>\n",
       "      <th></th>\n",
       "    </tr>\n",
       "  </thead>\n",
       "  <tbody>\n",
       "    <tr>\n",
       "      <th>Africa</th>\n",
       "      <td>17.830000</td>\n",
       "    </tr>\n",
       "    <tr>\n",
       "      <th>Asia</th>\n",
       "      <td>18.887143</td>\n",
       "    </tr>\n",
       "    <tr>\n",
       "      <th>North America</th>\n",
       "      <td>20.914231</td>\n",
       "    </tr>\n",
       "    <tr>\n",
       "      <th>Europe</th>\n",
       "      <td>27.153158</td>\n",
       "    </tr>\n",
       "    <tr>\n",
       "      <th>Oceania</th>\n",
       "      <td>34.363333</td>\n",
       "    </tr>\n",
       "  </tbody>\n",
       "</table>\n",
       "</div>"
      ],
      "text/plain": [
       "               ratio_total\n",
       "region                    \n",
       "Africa           17.830000\n",
       "Asia             18.887143\n",
       "North America    20.914231\n",
       "Europe           27.153158\n",
       "Oceania          34.363333"
      ]
     },
     "execution_count": 97,
     "metadata": {},
     "output_type": "execute_result"
    }
   ],
   "source": [
    "df = merged_df.pivot_table(index='region', values='ratio_total', aggfunc=np.mean).sort_values('ratio_total')\n",
    "df"
   ]
  },
  {
   "cell_type": "code",
   "execution_count": 98,
   "metadata": {},
   "outputs": [
    {
     "data": {
      "text/plain": [
       "<matplotlib.text.Text at 0x11f5d54a8>"
      ]
     },
     "execution_count": 98,
     "metadata": {},
     "output_type": "execute_result"
    },
    {
     "data": {
      "image/png": "[encoded data removed]",
      "text/plain": [
       "<matplotlib.figure.Figure at 0x11ee299b0>"
      ]
     },
     "metadata": {},
     "output_type": "display_data"
    }
   ],
   "source": [
    "f, (ax1) = plt.subplots(1, 1, figsize=(14, 4), sharex=True)\n",
    "\n",
    "sns.barplot(df.index, df.ratio_total.values, palette=\"RdBu_r\", ax=ax1)\n",
    "ax1.set_ylabel(\"International percentage\")\n",
    "ax1.set_title('International percentage of universities by region')"
   ]
  },
  {
   "cell_type": "markdown",
   "metadata": {},
   "source": [
    "We see that both Europe and Oceania have a bigger percentage of international students than other regions. We will check in more details why Oceania have such a big value. Maybe they have only few universities in this ranking and the analysis could be non relevant. "
   ]
  },
  {
   "cell_type": "code",
   "execution_count": 99,
   "metadata": {},
   "outputs": [
    {
     "data": {
      "text/html": [
       "<div>\n",
       "<style>\n",
       "    .dataframe thead tr:only-child th {\n",
       "        text-align: right;\n",
       "    }\n",
       "\n",
       "    .dataframe thead th {\n",
       "        text-align: left;\n",
       "    }\n",
       "\n",
       "    .dataframe tbody tr th {\n",
       "        vertical-align: top;\n",
       "    }\n",
       "</style>\n",
       "<table border=\"1\" class=\"dataframe\">\n",
       "  <thead>\n",
       "    <tr style=\"text-align: right;\">\n",
       "      <th></th>\n",
       "      <th>region</th>\n",
       "      <th>ratio_total</th>\n",
       "    </tr>\n",
       "    <tr>\n",
       "      <th>school_name</th>\n",
       "      <th></th>\n",
       "      <th></th>\n",
       "    </tr>\n",
       "  </thead>\n",
       "  <tbody>\n",
       "    <tr>\n",
       "      <th>university of western australia</th>\n",
       "      <td>Oceania</td>\n",
       "      <td>27.50</td>\n",
       "    </tr>\n",
       "    <tr>\n",
       "      <th>university of auckland</th>\n",
       "      <td>Oceania</td>\n",
       "      <td>29.32</td>\n",
       "    </tr>\n",
       "    <tr>\n",
       "      <th>university of queensland</th>\n",
       "      <td>Oceania</td>\n",
       "      <td>30.10</td>\n",
       "    </tr>\n",
       "    <tr>\n",
       "      <th>university of adelaide</th>\n",
       "      <td>Oceania</td>\n",
       "      <td>33.24</td>\n",
       "    </tr>\n",
       "    <tr>\n",
       "      <th>monash university</th>\n",
       "      <td>Oceania</td>\n",
       "      <td>34.03</td>\n",
       "    </tr>\n",
       "    <tr>\n",
       "      <th>university of sydney</th>\n",
       "      <td>Oceania</td>\n",
       "      <td>36.15</td>\n",
       "    </tr>\n",
       "    <tr>\n",
       "      <th>university of new south wales</th>\n",
       "      <td>Oceania</td>\n",
       "      <td>36.95</td>\n",
       "    </tr>\n",
       "    <tr>\n",
       "      <th>australian national university</th>\n",
       "      <td>Oceania</td>\n",
       "      <td>39.57</td>\n",
       "    </tr>\n",
       "    <tr>\n",
       "      <th>university of melbourne</th>\n",
       "      <td>Oceania</td>\n",
       "      <td>42.41</td>\n",
       "    </tr>\n",
       "  </tbody>\n",
       "</table>\n",
       "</div>"
      ],
      "text/plain": [
       "                                  region  ratio_total\n",
       "school_name                                          \n",
       "university of western australia  Oceania        27.50\n",
       "university of auckland           Oceania        29.32\n",
       "university of queensland         Oceania        30.10\n",
       "university of adelaide           Oceania        33.24\n",
       "monash university                Oceania        34.03\n",
       "university of sydney             Oceania        36.15\n",
       "university of new south wales    Oceania        36.95\n",
       "australian national university   Oceania        39.57\n",
       "university of melbourne          Oceania        42.41"
      ]
     },
     "execution_count": 99,
     "metadata": {},
     "output_type": "execute_result"
    }
   ],
   "source": [
    "oceania_df = merged_df[['region','ratio_total']].loc[merged_df['region'] == 'Oceania']\n",
    "oceania_df.sort_values('ratio_total')"
   ]
  },
  {
   "cell_type": "markdown",
   "metadata": {},
   "source": [
    "We see that they have 9 universities included in the average so that is considered as relevant. We conclude that Europe and Oceania have both a big international percentage of people in their universities compare to other regions."
   ]
  },
  {
   "cell_type": "markdown",
   "metadata": {},
   "source": [
    "### 4.4 - Do english speaking countries get more international students than others ?<a class=\"anchor\" id=\"4.4\"></a>"
   ]
  },
  {
   "cell_type": "code",
   "execution_count": null,
   "metadata": {
    "collapsed": true
   },
   "outputs": [],
   "source": []
  },
  {
   "cell_type": "markdown",
   "metadata": {},
   "source": [
    "### 4.5 - Do international students influence ranking ?<a class=\"anchor\" id=\"4.5\"></a>"
   ]
  },
  {
   "cell_type": "markdown",
   "metadata": {},
   "source": [
    "We wonder if international students ratio influence the both ranking. "
   ]
  },
  {
   "cell_type": "code",
   "execution_count": 100,
   "metadata": {
    "collapsed": true
   },
   "outputs": [],
   "source": [
    "cut_ratio = np.linspace(0, 100, num=10)\n",
    "merged_df['ratio_student_cut'] = pd.cut(merged_df['ratio_student'], cut_ratio)"
   ]
  },
  {
   "cell_type": "code",
   "execution_count": 101,
   "metadata": {
    "scrolled": true
   },
   "outputs": [
    {
     "data": {
      "text/html": [
       "<div>\n",
       "<style>\n",
       "    .dataframe thead tr:only-child th {\n",
       "        text-align: right;\n",
       "    }\n",
       "\n",
       "    .dataframe thead th {\n",
       "        text-align: left;\n",
       "    }\n",
       "\n",
       "    .dataframe tbody tr th {\n",
       "        vertical-align: top;\n",
       "    }\n",
       "</style>\n",
       "<table border=\"1\" class=\"dataframe\">\n",
       "  <thead>\n",
       "    <tr style=\"text-align: right;\">\n",
       "      <th></th>\n",
       "      <th>rank_times</th>\n",
       "      <th>rank_topUni</th>\n",
       "    </tr>\n",
       "    <tr>\n",
       "      <th>ratio_student_cut</th>\n",
       "      <th></th>\n",
       "      <th></th>\n",
       "    </tr>\n",
       "  </thead>\n",
       "  <tbody>\n",
       "    <tr>\n",
       "      <th>(0.0, 11.111]</th>\n",
       "      <td>111.625000</td>\n",
       "      <td>107.333333</td>\n",
       "    </tr>\n",
       "    <tr>\n",
       "      <th>(11.111, 22.222]</th>\n",
       "      <td>84.535714</td>\n",
       "      <td>103.000000</td>\n",
       "    </tr>\n",
       "    <tr>\n",
       "      <th>(22.222, 33.333]</th>\n",
       "      <td>86.269231</td>\n",
       "      <td>81.076923</td>\n",
       "    </tr>\n",
       "    <tr>\n",
       "      <th>(33.333, 44.444]</th>\n",
       "      <td>74.190476</td>\n",
       "      <td>58.476190</td>\n",
       "    </tr>\n",
       "    <tr>\n",
       "      <th>(44.444, 55.556]</th>\n",
       "      <td>58.800000</td>\n",
       "      <td>70.800000</td>\n",
       "    </tr>\n",
       "    <tr>\n",
       "      <th>(55.556, 66.667]</th>\n",
       "      <td>38.000000</td>\n",
       "      <td>12.000000</td>\n",
       "    </tr>\n",
       "    <tr>\n",
       "      <th>(66.667, 77.778]</th>\n",
       "      <td>25.000000</td>\n",
       "      <td>35.000000</td>\n",
       "    </tr>\n",
       "    <tr>\n",
       "      <th>(77.778, 88.889]</th>\n",
       "      <td>NaN</td>\n",
       "      <td>NaN</td>\n",
       "    </tr>\n",
       "    <tr>\n",
       "      <th>(88.889, 100.0]</th>\n",
       "      <td>NaN</td>\n",
       "      <td>NaN</td>\n",
       "    </tr>\n",
       "  </tbody>\n",
       "</table>\n",
       "</div>"
      ],
      "text/plain": [
       "                   rank_times  rank_topUni\n",
       "ratio_student_cut                         \n",
       "(0.0, 11.111]      111.625000   107.333333\n",
       "(11.111, 22.222]    84.535714   103.000000\n",
       "(22.222, 33.333]    86.269231    81.076923\n",
       "(33.333, 44.444]    74.190476    58.476190\n",
       "(44.444, 55.556]    58.800000    70.800000\n",
       "(55.556, 66.667]    38.000000    12.000000\n",
       "(66.667, 77.778]    25.000000    35.000000\n",
       "(77.778, 88.889]          NaN          NaN\n",
       "(88.889, 100.0]           NaN          NaN"
      ]
     },
     "execution_count": 101,
     "metadata": {},
     "output_type": "execute_result"
    }
   ],
   "source": [
    "df = merged_df.pivot_table(index='ratio_student_cut', values=['rank_topUni','rank_times'], aggfunc=np.mean)\n",
    "df"
   ]
  },
  {
   "cell_type": "code",
   "execution_count": 102,
   "metadata": {},
   "outputs": [
    {
     "data": {
      "text/plain": [
       "<matplotlib.text.Text at 0x11f8d0b70>"
      ]
     },
     "execution_count": 102,
     "metadata": {},
     "output_type": "execute_result"
    },
    {
     "data": {
      "image/png": "[encoded data removed]",
      "text/plain": [
       "<matplotlib.figure.Figure at 0x11f712940>"
      ]
     },
     "metadata": {},
     "output_type": "display_data"
    }
   ],
   "source": [
    "df.index = df.index.values.astype(str)\n",
    "f, (ax1, ax2) = plt.subplots(2, 1, figsize=(14, 4), sharex=True)\n",
    "\n",
    "sns.barplot(df.index, df.rank_times.values, palette=\"RdBu_r\", ax=ax1)\n",
    "ax1.set_ylabel(\"Ranking\")\n",
    "ax1.set_title('Times Ranking')\n",
    "\n",
    "sns.barplot(df.index, df.rank_topUni.values, palette=\"RdBu_r\", ax=ax2)\n",
    "ax2.set_ylabel(\"Ranking\")\n",
    "ax2.set_xlabel(\"Percentage of international students\")\n",
    "ax2.set_title(\"TopUni Ranking\")"
   ]
  },
  {
   "cell_type": "markdown",
   "metadata": {},
   "source": [
    "With this graph, it is easy to say that universities who have a big percentage of international students get a better ranking. "
   ]
  },
  {
   "cell_type": "markdown",
   "metadata": {
    "collapsed": true
   },
   "source": [
    "### 5 - Ranking according to both <a class=\"anchor\" id=\"5\"></a>"
   ]
  },
  {
   "cell_type": "markdown",
   "metadata": {},
   "source": [
    "Our startegy is to sum the two different rankings, a small value of the sum will indicate that the school is well ranked in both while a high value will indicate that the school is either badly ranked in one of them or not so well ranked in both. It will indeed reflect how well it is ranked by both rankings. ** Even-though the README stated that we should take the website order in case of tie, this decision made little sense to us, therefore we decided to not follow this policy and to keep ties because tied ranking mean similar schools. **\n",
    "* We first sum the two ranks\n",
    "* Then we transform that into a ranking using a dictionnary to keep the ties"
   ]
  },
  {
   "cell_type": "code",
   "execution_count": 60,
   "metadata": {},
   "outputs": [
    {
     "data": {
      "text/html": [
       "<div>\n",
       "<style>\n",
       "    .dataframe thead tr:only-child th {\n",
       "        text-align: right;\n",
       "    }\n",
       "\n",
       "    .dataframe thead th {\n",
       "        text-align: left;\n",
       "    }\n",
       "\n",
       "    .dataframe tbody tr th {\n",
       "        vertical-align: top;\n",
       "    }\n",
       "</style>\n",
       "<table border=\"1\" class=\"dataframe\">\n",
       "  <thead>\n",
       "    <tr style=\"text-align: right;\">\n",
       "      <th></th>\n",
       "      <th>school_name</th>\n",
       "      <th>total_staff</th>\n",
       "      <th>international_staff</th>\n",
       "      <th>total_student</th>\n",
       "      <th>international_student</th>\n",
       "      <th>country</th>\n",
       "      <th>region</th>\n",
       "    </tr>\n",
       "    <tr>\n",
       "      <th>merged_ranking</th>\n",
       "      <th></th>\n",
       "      <th></th>\n",
       "      <th></th>\n",
       "      <th></th>\n",
       "      <th></th>\n",
       "      <th></th>\n",
       "      <th></th>\n",
       "    </tr>\n",
       "  </thead>\n",
       "  <tbody>\n",
       "    <tr>\n",
       "      <th>0</th>\n",
       "      <td>stanford university</td>\n",
       "      <td>3199.0</td>\n",
       "      <td>2042.0</td>\n",
       "      <td>15861.5</td>\n",
       "      <td>3548.5</td>\n",
       "      <td>United States</td>\n",
       "      <td>North America</td>\n",
       "    </tr>\n",
       "    <tr>\n",
       "      <th>1</th>\n",
       "      <td>massachusetts institute of technology</td>\n",
       "      <td>2133.5</td>\n",
       "      <td>1679.0</td>\n",
       "      <td>11122.0</td>\n",
       "      <td>3758.5</td>\n",
       "      <td>United States</td>\n",
       "      <td>North America</td>\n",
       "    </tr>\n",
       "    <tr>\n",
       "      <th>2</th>\n",
       "      <td>california institute of technology</td>\n",
       "      <td>646.5</td>\n",
       "      <td>350.0</td>\n",
       "      <td>2232.0</td>\n",
       "      <td>621.5</td>\n",
       "      <td>United States</td>\n",
       "      <td>North America</td>\n",
       "    </tr>\n",
       "    <tr>\n",
       "      <th>2</th>\n",
       "      <td>university of cambridge</td>\n",
       "      <td>3588.5</td>\n",
       "      <td>2278.0</td>\n",
       "      <td>18579.5</td>\n",
       "      <td>6567.5</td>\n",
       "      <td>United Kingdom</td>\n",
       "      <td>Europe</td>\n",
       "    </tr>\n",
       "    <tr>\n",
       "      <th>2</th>\n",
       "      <td>university of oxford</td>\n",
       "      <td>4286.0</td>\n",
       "      <td>2964.0</td>\n",
       "      <td>20064.5</td>\n",
       "      <td>7554.0</td>\n",
       "      <td>United Kingdom</td>\n",
       "      <td>Europe</td>\n",
       "    </tr>\n",
       "  </tbody>\n",
       "</table>\n",
       "</div>"
      ],
      "text/plain": [
       "                                          school_name  total_staff  \\\n",
       "merged_ranking                                                       \n",
       "0                                 stanford university       3199.0   \n",
       "1               massachusetts institute of technology       2133.5   \n",
       "2                  california institute of technology        646.5   \n",
       "2                             university of cambridge       3588.5   \n",
       "2                                university of oxford       4286.0   \n",
       "\n",
       "                international_staff  total_student  international_student  \\\n",
       "merged_ranking                                                              \n",
       "0                            2042.0        15861.5                 3548.5   \n",
       "1                            1679.0        11122.0                 3758.5   \n",
       "2                             350.0         2232.0                  621.5   \n",
       "2                            2278.0        18579.5                 6567.5   \n",
       "2                            2964.0        20064.5                 7554.0   \n",
       "\n",
       "                       country         region  \n",
       "merged_ranking                                 \n",
       "0                United States  North America  \n",
       "1                United States  North America  \n",
       "2                United States  North America  \n",
       "2               United Kingdom         Europe  \n",
       "2               United Kingdom         Europe  "
      ]
     },
     "execution_count": 60,
     "metadata": {},
     "output_type": "execute_result"
    }
   ],
   "source": [
    "merged_df['sum_rank'] = pd.to_numeric(merged_df['rank_topUni'])+pd.to_numeric(merged_df['rank_times'])\n",
    "merged_df = merged_df.sort_values('sum_rank')\n",
    "\n",
    "# Mapping sum to ranking \n",
    "ranking_map = {}\n",
    "for (i,v) in enumerate(merged_df['sum_rank'].unique()):\n",
    "    ranking_map[v] = i\n",
    "merged_df['merged_ranking'] = merged_df['sum_rank'].map(lambda x : ranking_map[x])\n",
    "\n",
    "# Keeping only the interesting columns\n",
    "total_ranking = merged_df.reset_index()[['merged_ranking',\n",
    "                                         'school_name',\n",
    "                                         'total_staff',\n",
    "                                         'international_staff',\n",
    "                                         'total_student',\n",
    "                                         'international_student',\n",
    "                                         'country','region']].set_index('merged_ranking')\n",
    "total_ranking.head()"
   ]
  },
  {
   "cell_type": "code",
   "execution_count": null,
   "metadata": {
    "collapsed": true
   },
   "outputs": [],
   "source": []
  }
 ],
 "metadata": {
  "kernelspec": {
   "display_name": "Python [default]",
   "language": "python",
   "name": "python3"
  },
  "language_info": {
   "codemirror_mode": {
    "name": "ipython",
    "version": 3
   },
   "file_extension": ".py",
   "mimetype": "text/x-python",
   "name": "python",
   "nbconvert_exporter": "python",
   "pygments_lexer": "ipython3",
   "version": "3.6.2"
  }
 },
 "nbformat": 4,
 "nbformat_minor": 2
}
